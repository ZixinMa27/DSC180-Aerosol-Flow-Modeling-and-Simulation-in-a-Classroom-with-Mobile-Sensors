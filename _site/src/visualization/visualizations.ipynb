{
 "cells": [
  {
   "cell_type": "code",
   "execution_count": 1,
   "metadata": {},
   "outputs": [],
   "source": [
    "import numpy as np\n",
    "\n",
    "from matplotlib import pyplot as plt \n",
    "\n",
    "import glob\n",
    "import pandas as pd\n",
    "import plotly.graph_objects as go\n",
    "\n",
    "import plotly.io as pio\n",
    "import plotly.express as px\n",
    "import plotly"
   ]
  },
  {
   "cell_type": "code",
   "execution_count": 2,
   "metadata": {},
   "outputs": [],
   "source": [
    "place_mapping = {'137f63':'door', '680415': 'front corner', '6f7f19':'back corner/exhaust',\n",
    "                    '110e60':'back', '620512': 'front-desk', '6e0d1e': 'front-tripod'}\n",
    "\n",
    "sensor_mapping = {'BC5F2E8BD0E9B21D':'680415', 'DA8590A0DD5EC12B':'6f7f19', \n",
    "                    '1837FE6A6AD70C29':'620512', '124BF175470BC117':'137f63', '033EBECC09FAA564':'110e60', '38869427C2B44E7E':'6e0d1e'}"
   ]
  },
  {
   "cell_type": "code",
   "execution_count": 3,
   "metadata": {},
   "outputs": [],
   "source": [
    "# x_mapping  = {k:v for k,v  in zip(sensor_mapping.keys(), [.65, .9, .95, 0, 0, .9 ]) }\n",
    "# y_mapping  = {k:v for k,v in zip(sensor_mapping.keys(), [.45, .45, 0, 0, .85, 1])  }\n",
    "# z_mapping  = {k:v for k,v in zip(sensor_mapping.keys(), [.3, .5, 0.85, 0.9, .2, .6]) }"
   ]
  },
  {
   "cell_type": "code",
   "execution_count": 4,
   "metadata": {},
   "outputs": [],
   "source": [
    "sensor_ids = ['1837FE6A6AD70C29', '38869427C2B44E7E', '124BF175470BC117', '033EBECC09FAA564', 'DA8590A0DD5EC12B', 'BC5F2E8BD0E9B21D']\n",
    "\n",
    "x_mapping  = {k:v for k,v  in zip(sensor_ids, [.65, .9, .95, 0, 0, .9 ]) }\n",
    "y_mapping  = {k:v for k,v in zip(sensor_ids, [.45, .45, 0, 0.1, .85, 1])  }\n",
    "z_mapping  = {k:v for k,v in zip(sensor_ids, [.3, .5, 0.9, 0.8, .2, .6]) }"
   ]
  },
  {
   "cell_type": "code",
   "execution_count": 5,
   "metadata": {},
   "outputs": [
    {
     "data": {
      "text/plain": [
       "{'1837FE6A6AD70C29': 'front-desk',\n",
       " '38869427C2B44E7E': 'front-tripod',\n",
       " '124BF175470BC117': 'door',\n",
       " '033EBECC09FAA564': 'back',\n",
       " 'DA8590A0DD5EC12B': 'back corner/exhaust',\n",
       " 'BC5F2E8BD0E9B21D': 'front corner'}"
      ]
     },
     "execution_count": 5,
     "metadata": {},
     "output_type": "execute_result"
    }
   ],
   "source": [
    "loc_mapping = {sid:place_mapping[sensor_mapping[sid]] for sid in sensor_ids}\n",
    "loc_mapping"
   ]
  },
  {
   "cell_type": "code",
   "execution_count": 6,
   "metadata": {},
   "outputs": [],
   "source": [
    "col_names =['Epoch_UTC', 'Local_Date_Time', 'MassConc_1p0',\n",
    "       'MassConc_2p5',\n",
    "       'MassConc_4p0',\n",
    "       'MassConc_10p',\n",
    "       'NumbConc_0p5',\n",
    "       'NumbConc_1p0',\n",
    "       'NumbConc_2p5',\n",
    "       'NumbConc_4p0',\n",
    "       'NumbConc_10p',\n",
    "       'TypPartSize', 'id', 'x', 'y', 'z', 'loc']"
   ]
  },
  {
   "cell_type": "code",
   "execution_count": 18,
   "metadata": {},
   "outputs": [
    {
     "name": "stdout",
     "output_type": "stream",
     "text": [
      "../../data/pm_data/feb27-low/2023-02-27_14-59-52-SPS3x_DA8590A0DD5EC12B.edf\n",
      "DA8590A0DD5EC12B 0\n",
      "../../data/pm_data/feb27-low/2023-02-27_14-59-52-SPS3x_033EBECC09FAA564.edf\n",
      "033EBECC09FAA564 0\n",
      "../../data/pm_data/feb27-low/2023-02-27_14-59-52-SPS3x_38869427C2B44E7E.edf\n",
      "38869427C2B44E7E 0.9\n",
      "../../data/pm_data/feb27-low/2023-02-27_14-59-52-SPS3x_124BF175470BC117.edf\n",
      "124BF175470BC117 0.95\n",
      "../../data/pm_data/feb27-low/2023-02-27_14-59-52-SPS3x_BC5F2E8BD0E9B21D.edf\n",
      "BC5F2E8BD0E9B21D 0.9\n",
      "../../data/pm_data/feb27-low/2023-02-27_14-59-52-SPS3x_1837FE6A6AD70C29.edf\n",
      "1837FE6A6AD70C29 0.65\n"
     ]
    }
   ],
   "source": [
    "import glob\n",
    "file_paths = [f for f in glob.glob('../../data/pm_data/feb27-low/*.edf')]\n",
    "\n",
    "data_frames = []\n",
    "\n",
    "start_ts = 50\n",
    "end_ts =250\n",
    "\n",
    "for i, _file in enumerate(file_paths):\n",
    "    print(_file)\n",
    "   # df = pd.read_csv(_file, sep=\"\t\", parse_dates=[1], on_bad_lines='skip')\n",
    "    #df = pd.read_csv(_file, sep=\"\t \", parse_dates=[1], error_bad_lines='skip')\n",
    "    df = pd.read_csv(_file, sep=\"\t\", parse_dates=[1], comment = '#')\n",
    "    df['Local_Date_Time'] = df['Local_Date_Time'].dt.floor('S').dt.tz_localize(None)\n",
    "\n",
    "    sensor_id = _file.split(\"_\")[-1].split(\".\")[0]\n",
    "    df['id'] = sensor_id\n",
    "    print(sensor_id, x_mapping[sensor_id])\n",
    "    df['x'] = x_mapping[sensor_id]\n",
    "    df['y'] = y_mapping[sensor_id]\n",
    "    df['z'] = z_mapping[sensor_id]\n",
    "    df['loc'] = loc_mapping[sensor_id]\n",
    "    df.columns = col_names\n",
    "    df = df.sort_values(by=['Epoch_UTC'])\n",
    "    df = df.reset_index()\n",
    "    df['time_elapsed'] = df.index\n",
    "    df = df.dropna()\n",
    "    data_frames.append(df.iloc[start_ts:end_ts, :])\n",
    "    # print(data_frames[i].iloc[10])"
   ]
  },
  {
   "cell_type": "code",
   "execution_count": 19,
   "metadata": {},
   "outputs": [],
   "source": [
    "combined_df = pd.concat(data_frames, axis=0)"
   ]
  },
  {
   "cell_type": "code",
   "execution_count": 20,
   "metadata": {},
   "outputs": [
    {
     "data": {
      "application/vnd.plotly.v1+json": {
       "config": {
        "plotlyServerURL": "https://plot.ly"
       },
       "data": [
        {
         "hovertemplate": "time_elapsed=50<br>x=%{x}<br>y=%{y}<br>z=%{z}<br>MassConc_2p5=%{marker.color}<br>loc=%{text}<extra></extra>",
         "legendgroup": "",
         "marker": {
          "color": [
           0.990658,
           0.673131,
           0.249415,
           0.81737,
           0.43969,
           0.549588
          ],
          "coloraxis": "coloraxis",
          "size": [
           0.990658,
           0.673131,
           0.249415,
           0.81737,
           0.43969,
           0.549588
          ],
          "sizemode": "area",
          "sizeref": 0.23812812479999998,
          "symbol": "circle"
         },
         "mode": "markers+text",
         "name": "",
         "scene": "scene",
         "showlegend": false,
         "text": [
          "back corner/exhaust",
          "back",
          "front-tripod",
          "door",
          "front corner",
          "front-desk"
         ],
         "type": "scatter3d",
         "x": [
          0,
          0,
          0.9,
          0.95,
          0.9,
          0.65
         ],
         "y": [
          0.85,
          0.1,
          0.45,
          0,
          1,
          0.45
         ],
         "z": [
          0.2,
          0.8,
          0.5,
          0.9,
          0.6,
          0.3
         ]
        }
       ],
       "frames": [
        {
         "data": [
          {
           "hovertemplate": "time_elapsed=50<br>x=%{x}<br>y=%{y}<br>z=%{z}<br>MassConc_2p5=%{marker.color}<br>loc=%{text}<extra></extra>",
           "legendgroup": "",
           "marker": {
            "color": [
             0.990658,
             0.673131,
             0.249415,
             0.81737,
             0.43969,
             0.549588
            ],
            "coloraxis": "coloraxis",
            "size": [
             0.990658,
             0.673131,
             0.249415,
             0.81737,
             0.43969,
             0.549588
            ],
            "sizemode": "area",
            "sizeref": 0.23812812479999998,
            "symbol": "circle"
           },
           "mode": "markers+text",
           "name": "",
           "scene": "scene",
           "showlegend": false,
           "text": [
            "back corner/exhaust",
            "back",
            "front-tripod",
            "door",
            "front corner",
            "front-desk"
           ],
           "type": "scatter3d",
           "x": [
            0,
            0,
            0.9,
            0.95,
            0.9,
            0.65
           ],
           "y": [
            0.85,
            0.1,
            0.45,
            0,
            1,
            0.45
           ],
           "z": [
            0.2,
            0.8,
            0.5,
            0.9,
            0.6,
            0.3
           ]
          }
         ],
         "name": "50"
        },
        {
         "data": [
          {
           "hovertemplate": "time_elapsed=51<br>x=%{x}<br>y=%{y}<br>z=%{z}<br>MassConc_2p5=%{marker.color}<br>loc=%{text}<extra></extra>",
           "legendgroup": "",
           "marker": {
            "color": [
             1.008466,
             0.676834,
             0.247752,
             0.802813,
             0.442264,
             0.551588
            ],
            "coloraxis": "coloraxis",
            "size": [
             1.008466,
             0.676834,
             0.247752,
             0.802813,
             0.442264,
             0.551588
            ],
            "sizemode": "area",
            "sizeref": 0.23812812479999998,
            "symbol": "circle"
           },
           "mode": "markers+text",
           "name": "",
           "scene": "scene",
           "showlegend": false,
           "text": [
            "back corner/exhaust",
            "back",
            "front-tripod",
            "door",
            "front corner",
            "front-desk"
           ],
           "type": "scatter3d",
           "x": [
            0,
            0,
            0.9,
            0.95,
            0.9,
            0.65
           ],
           "y": [
            0.85,
            0.1,
            0.45,
            0,
            1,
            0.45
           ],
           "z": [
            0.2,
            0.8,
            0.5,
            0.9,
            0.6,
            0.3
           ]
          }
         ],
         "name": "51"
        },
        {
         "data": [
          {
           "hovertemplate": "time_elapsed=52<br>x=%{x}<br>y=%{y}<br>z=%{z}<br>MassConc_2p5=%{marker.color}<br>loc=%{text}<extra></extra>",
           "legendgroup": "",
           "marker": {
            "color": [
             1.012805,
             0.688482,
             0.243928,
             0.789832,
             0.454307,
             0.570093
            ],
            "coloraxis": "coloraxis",
            "size": [
             1.012805,
             0.688482,
             0.243928,
             0.789832,
             0.454307,
             0.570093
            ],
            "sizemode": "area",
            "sizeref": 0.23812812479999998,
            "symbol": "circle"
           },
           "mode": "markers+text",
           "name": "",
           "scene": "scene",
           "showlegend": false,
           "text": [
            "back corner/exhaust",
            "back",
            "front-tripod",
            "door",
            "front corner",
            "front-desk"
           ],
           "type": "scatter3d",
           "x": [
            0,
            0,
            0.9,
            0.95,
            0.9,
            0.65
           ],
           "y": [
            0.85,
            0.1,
            0.45,
            0,
            1,
            0.45
           ],
           "z": [
            0.2,
            0.8,
            0.5,
            0.9,
            0.6,
            0.3
           ]
          }
         ],
         "name": "52"
        },
        {
         "data": [
          {
           "hovertemplate": "time_elapsed=53<br>x=%{x}<br>y=%{y}<br>z=%{z}<br>MassConc_2p5=%{marker.color}<br>loc=%{text}<extra></extra>",
           "legendgroup": "",
           "marker": {
            "color": [
             1.04566,
             0.691032,
             0.246115,
             0.778256,
             0.46671,
             0.579381
            ],
            "coloraxis": "coloraxis",
            "size": [
             1.04566,
             0.691032,
             0.246115,
             0.778256,
             0.46671,
             0.579381
            ],
            "sizemode": "area",
            "sizeref": 0.23812812479999998,
            "symbol": "circle"
           },
           "mode": "markers+text",
           "name": "",
           "scene": "scene",
           "showlegend": false,
           "text": [
            "back corner/exhaust",
            "back",
            "front-tripod",
            "door",
            "front corner",
            "front-desk"
           ],
           "type": "scatter3d",
           "x": [
            0,
            0,
            0.9,
            0.95,
            0.9,
            0.65
           ],
           "y": [
            0.85,
            0.1,
            0.45,
            0,
            1,
            0.45
           ],
           "z": [
            0.2,
            0.8,
            0.5,
            0.9,
            0.6,
            0.3
           ]
          }
         ],
         "name": "53"
        },
        {
         "data": [
          {
           "hovertemplate": "time_elapsed=54<br>x=%{x}<br>y=%{y}<br>z=%{z}<br>MassConc_2p5=%{marker.color}<br>loc=%{text}<extra></extra>",
           "legendgroup": "",
           "marker": {
            "color": [
             1.061399,
             0.693896,
             0.253149,
             0.761098,
             0.486469,
             0.58111
            ],
            "coloraxis": "coloraxis",
            "size": [
             1.061399,
             0.693896,
             0.253149,
             0.761098,
             0.486469,
             0.58111
            ],
            "sizemode": "area",
            "sizeref": 0.23812812479999998,
            "symbol": "circle"
           },
           "mode": "markers+text",
           "name": "",
           "scene": "scene",
           "showlegend": false,
           "text": [
            "back corner/exhaust",
            "back",
            "front-tripod",
            "door",
            "front corner",
            "front-desk"
           ],
           "type": "scatter3d",
           "x": [
            0,
            0,
            0.9,
            0.95,
            0.9,
            0.65
           ],
           "y": [
            0.85,
            0.1,
            0.45,
            0,
            1,
            0.45
           ],
           "z": [
            0.2,
            0.8,
            0.5,
            0.9,
            0.6,
            0.3
           ]
          }
         ],
         "name": "54"
        },
        {
         "data": [
          {
           "hovertemplate": "time_elapsed=55<br>x=%{x}<br>y=%{y}<br>z=%{z}<br>MassConc_2p5=%{marker.color}<br>loc=%{text}<extra></extra>",
           "legendgroup": "",
           "marker": {
            "color": [
             1.066909,
             0.689276,
             0.256315,
             0.739588,
             0.51199,
             0.584167
            ],
            "coloraxis": "coloraxis",
            "size": [
             1.066909,
             0.689276,
             0.256315,
             0.739588,
             0.51199,
             0.584167
            ],
            "sizemode": "area",
            "sizeref": 0.23812812479999998,
            "symbol": "circle"
           },
           "mode": "markers+text",
           "name": "",
           "scene": "scene",
           "showlegend": false,
           "text": [
            "back corner/exhaust",
            "back",
            "front-tripod",
            "door",
            "front corner",
            "front-desk"
           ],
           "type": "scatter3d",
           "x": [
            0,
            0,
            0.9,
            0.95,
            0.9,
            0.65
           ],
           "y": [
            0.85,
            0.1,
            0.45,
            0,
            1,
            0.45
           ],
           "z": [
            0.2,
            0.8,
            0.5,
            0.9,
            0.6,
            0.3
           ]
          }
         ],
         "name": "55"
        },
        {
         "data": [
          {
           "hovertemplate": "time_elapsed=56<br>x=%{x}<br>y=%{y}<br>z=%{z}<br>MassConc_2p5=%{marker.color}<br>loc=%{text}<extra></extra>",
           "legendgroup": "",
           "marker": {
            "color": [
             1.071549,
             0.694058,
             0.256317,
             0.71477,
             0.527541,
             0.580801
            ],
            "coloraxis": "coloraxis",
            "size": [
             1.071549,
             0.694058,
             0.256317,
             0.71477,
             0.527541,
             0.580801
            ],
            "sizemode": "area",
            "sizeref": 0.23812812479999998,
            "symbol": "circle"
           },
           "mode": "markers+text",
           "name": "",
           "scene": "scene",
           "showlegend": false,
           "text": [
            "back corner/exhaust",
            "back",
            "front-tripod",
            "door",
            "front corner",
            "front-desk"
           ],
           "type": "scatter3d",
           "x": [
            0,
            0,
            0.9,
            0.95,
            0.9,
            0.65
           ],
           "y": [
            0.85,
            0.1,
            0.45,
            0,
            1,
            0.45
           ],
           "z": [
            0.2,
            0.8,
            0.5,
            0.9,
            0.6,
            0.3
           ]
          }
         ],
         "name": "56"
        },
        {
         "data": [
          {
           "hovertemplate": "time_elapsed=57<br>x=%{x}<br>y=%{y}<br>z=%{z}<br>MassConc_2p5=%{marker.color}<br>loc=%{text}<extra></extra>",
           "legendgroup": "",
           "marker": {
            "color": [
             1.068386,
             0.690991,
             0.269202,
             0.694356,
             0.534863,
             0.572267
            ],
            "coloraxis": "coloraxis",
            "size": [
             1.068386,
             0.690991,
             0.269202,
             0.694356,
             0.534863,
             0.572267
            ],
            "sizemode": "area",
            "sizeref": 0.23812812479999998,
            "symbol": "circle"
           },
           "mode": "markers+text",
           "name": "",
           "scene": "scene",
           "showlegend": false,
           "text": [
            "back corner/exhaust",
            "back",
            "front-tripod",
            "door",
            "front corner",
            "front-desk"
           ],
           "type": "scatter3d",
           "x": [
            0,
            0,
            0.9,
            0.95,
            0.9,
            0.65
           ],
           "y": [
            0.85,
            0.1,
            0.45,
            0,
            1,
            0.45
           ],
           "z": [
            0.2,
            0.8,
            0.5,
            0.9,
            0.6,
            0.3
           ]
          }
         ],
         "name": "57"
        },
        {
         "data": [
          {
           "hovertemplate": "time_elapsed=58<br>x=%{x}<br>y=%{y}<br>z=%{z}<br>MassConc_2p5=%{marker.color}<br>loc=%{text}<extra></extra>",
           "legendgroup": "",
           "marker": {
            "color": [
             1.05514,
             0.681596,
             0.284671,
             0.677716,
             0.535445,
             0.567098
            ],
            "coloraxis": "coloraxis",
            "size": [
             1.05514,
             0.681596,
             0.284671,
             0.677716,
             0.535445,
             0.567098
            ],
            "sizemode": "area",
            "sizeref": 0.23812812479999998,
            "symbol": "circle"
           },
           "mode": "markers+text",
           "name": "",
           "scene": "scene",
           "showlegend": false,
           "text": [
            "back corner/exhaust",
            "back",
            "front-tripod",
            "door",
            "front corner",
            "front-desk"
           ],
           "type": "scatter3d",
           "x": [
            0,
            0,
            0.9,
            0.95,
            0.9,
            0.65
           ],
           "y": [
            0.85,
            0.1,
            0.45,
            0,
            1,
            0.45
           ],
           "z": [
            0.2,
            0.8,
            0.5,
            0.9,
            0.6,
            0.3
           ]
          }
         ],
         "name": "58"
        },
        {
         "data": [
          {
           "hovertemplate": "time_elapsed=59<br>x=%{x}<br>y=%{y}<br>z=%{z}<br>MassConc_2p5=%{marker.color}<br>loc=%{text}<extra></extra>",
           "legendgroup": "",
           "marker": {
            "color": [
             1.036844,
             0.667171,
             0.294354,
             0.671135,
             0.544942,
             0.557241
            ],
            "coloraxis": "coloraxis",
            "size": [
             1.036844,
             0.667171,
             0.294354,
             0.671135,
             0.544942,
             0.557241
            ],
            "sizemode": "area",
            "sizeref": 0.23812812479999998,
            "symbol": "circle"
           },
           "mode": "markers+text",
           "name": "",
           "scene": "scene",
           "showlegend": false,
           "text": [
            "back corner/exhaust",
            "back",
            "front-tripod",
            "door",
            "front corner",
            "front-desk"
           ],
           "type": "scatter3d",
           "x": [
            0,
            0,
            0.9,
            0.95,
            0.9,
            0.65
           ],
           "y": [
            0.85,
            0.1,
            0.45,
            0,
            1,
            0.45
           ],
           "z": [
            0.2,
            0.8,
            0.5,
            0.9,
            0.6,
            0.3
           ]
          }
         ],
         "name": "59"
        },
        {
         "data": [
          {
           "hovertemplate": "time_elapsed=60<br>x=%{x}<br>y=%{y}<br>z=%{z}<br>MassConc_2p5=%{marker.color}<br>loc=%{text}<extra></extra>",
           "legendgroup": "",
           "marker": {
            "color": [
             1.017023,
             0.656523,
             0.314701,
             0.659093,
             0.561566,
             0.543684
            ],
            "coloraxis": "coloraxis",
            "size": [
             1.017023,
             0.656523,
             0.314701,
             0.659093,
             0.561566,
             0.543684
            ],
            "sizemode": "area",
            "sizeref": 0.23812812479999998,
            "symbol": "circle"
           },
           "mode": "markers+text",
           "name": "",
           "scene": "scene",
           "showlegend": false,
           "text": [
            "back corner/exhaust",
            "back",
            "front-tripod",
            "door",
            "front corner",
            "front-desk"
           ],
           "type": "scatter3d",
           "x": [
            0,
            0,
            0.9,
            0.95,
            0.9,
            0.65
           ],
           "y": [
            0.85,
            0.1,
            0.45,
            0,
            1,
            0.45
           ],
           "z": [
            0.2,
            0.8,
            0.5,
            0.9,
            0.6,
            0.3
           ]
          }
         ],
         "name": "60"
        },
        {
         "data": [
          {
           "hovertemplate": "time_elapsed=61<br>x=%{x}<br>y=%{y}<br>z=%{z}<br>MassConc_2p5=%{marker.color}<br>loc=%{text}<extra></extra>",
           "legendgroup": "",
           "marker": {
            "color": [
             0.990798,
             0.641333,
             0.335758,
             0.649586,
             0.569416,
             0.527266
            ],
            "coloraxis": "coloraxis",
            "size": [
             0.990798,
             0.641333,
             0.335758,
             0.649586,
             0.569416,
             0.527266
            ],
            "sizemode": "area",
            "sizeref": 0.23812812479999998,
            "symbol": "circle"
           },
           "mode": "markers+text",
           "name": "",
           "scene": "scene",
           "showlegend": false,
           "text": [
            "back corner/exhaust",
            "back",
            "front-tripod",
            "door",
            "front corner",
            "front-desk"
           ],
           "type": "scatter3d",
           "x": [
            0,
            0,
            0.9,
            0.95,
            0.9,
            0.65
           ],
           "y": [
            0.85,
            0.1,
            0.45,
            0,
            1,
            0.45
           ],
           "z": [
            0.2,
            0.8,
            0.5,
            0.9,
            0.6,
            0.3
           ]
          }
         ],
         "name": "61"
        },
        {
         "data": [
          {
           "hovertemplate": "time_elapsed=62<br>x=%{x}<br>y=%{y}<br>z=%{z}<br>MassConc_2p5=%{marker.color}<br>loc=%{text}<extra></extra>",
           "legendgroup": "",
           "marker": {
            "color": [
             0.959647,
             0.630323,
             0.349458,
             0.63539,
             0.57008,
             0.516162
            ],
            "coloraxis": "coloraxis",
            "size": [
             0.959647,
             0.630323,
             0.349458,
             0.63539,
             0.57008,
             0.516162
            ],
            "sizemode": "area",
            "sizeref": 0.23812812479999998,
            "symbol": "circle"
           },
           "mode": "markers+text",
           "name": "",
           "scene": "scene",
           "showlegend": false,
           "text": [
            "back corner/exhaust",
            "back",
            "front-tripod",
            "door",
            "front corner",
            "front-desk"
           ],
           "type": "scatter3d",
           "x": [
            0,
            0,
            0.9,
            0.95,
            0.9,
            0.65
           ],
           "y": [
            0.85,
            0.1,
            0.45,
            0,
            1,
            0.45
           ],
           "z": [
            0.2,
            0.8,
            0.5,
            0.9,
            0.6,
            0.3
           ]
          }
         ],
         "name": "62"
        },
        {
         "data": [
          {
           "hovertemplate": "time_elapsed=63<br>x=%{x}<br>y=%{y}<br>z=%{z}<br>MassConc_2p5=%{marker.color}<br>loc=%{text}<extra></extra>",
           "legendgroup": "",
           "marker": {
            "color": [
             0.924819,
             0.630519,
             0.357059,
             0.617536,
             0.572108,
             0.502006
            ],
            "coloraxis": "coloraxis",
            "size": [
             0.924819,
             0.630519,
             0.357059,
             0.617536,
             0.572108,
             0.502006
            ],
            "sizemode": "area",
            "sizeref": 0.23812812479999998,
            "symbol": "circle"
           },
           "mode": "markers+text",
           "name": "",
           "scene": "scene",
           "showlegend": false,
           "text": [
            "back corner/exhaust",
            "back",
            "front-tripod",
            "door",
            "front corner",
            "front-desk"
           ],
           "type": "scatter3d",
           "x": [
            0,
            0,
            0.9,
            0.95,
            0.9,
            0.65
           ],
           "y": [
            0.85,
            0.1,
            0.45,
            0,
            1,
            0.45
           ],
           "z": [
            0.2,
            0.8,
            0.5,
            0.9,
            0.6,
            0.3
           ]
          }
         ],
         "name": "63"
        },
        {
         "data": [
          {
           "hovertemplate": "time_elapsed=64<br>x=%{x}<br>y=%{y}<br>z=%{z}<br>MassConc_2p5=%{marker.color}<br>loc=%{text}<extra></extra>",
           "legendgroup": "",
           "marker": {
            "color": [
             0.88736,
             0.624373,
             0.359646,
             0.603738,
             0.568029,
             0.492987
            ],
            "coloraxis": "coloraxis",
            "size": [
             0.88736,
             0.624373,
             0.359646,
             0.603738,
             0.568029,
             0.492987
            ],
            "sizemode": "area",
            "sizeref": 0.23812812479999998,
            "symbol": "circle"
           },
           "mode": "markers+text",
           "name": "",
           "scene": "scene",
           "showlegend": false,
           "text": [
            "back corner/exhaust",
            "back",
            "front-tripod",
            "door",
            "front corner",
            "front-desk"
           ],
           "type": "scatter3d",
           "x": [
            0,
            0,
            0.9,
            0.95,
            0.9,
            0.65
           ],
           "y": [
            0.85,
            0.1,
            0.45,
            0,
            1,
            0.45
           ],
           "z": [
            0.2,
            0.8,
            0.5,
            0.9,
            0.6,
            0.3
           ]
          }
         ],
         "name": "64"
        },
        {
         "data": [
          {
           "hovertemplate": "time_elapsed=65<br>x=%{x}<br>y=%{y}<br>z=%{z}<br>MassConc_2p5=%{marker.color}<br>loc=%{text}<extra></extra>",
           "legendgroup": "",
           "marker": {
            "color": [
             0.848145,
             0.61315,
             0.358145,
             0.586523,
             0.559044,
             0.488218
            ],
            "coloraxis": "coloraxis",
            "size": [
             0.848145,
             0.61315,
             0.358145,
             0.586523,
             0.559044,
             0.488218
            ],
            "sizemode": "area",
            "sizeref": 0.23812812479999998,
            "symbol": "circle"
           },
           "mode": "markers+text",
           "name": "",
           "scene": "scene",
           "showlegend": false,
           "text": [
            "back corner/exhaust",
            "back",
            "front-tripod",
            "door",
            "front corner",
            "front-desk"
           ],
           "type": "scatter3d",
           "x": [
            0,
            0,
            0.9,
            0.95,
            0.9,
            0.65
           ],
           "y": [
            0.85,
            0.1,
            0.45,
            0,
            1,
            0.45
           ],
           "z": [
            0.2,
            0.8,
            0.5,
            0.9,
            0.6,
            0.3
           ]
          }
         ],
         "name": "65"
        },
        {
         "data": [
          {
           "hovertemplate": "time_elapsed=66<br>x=%{x}<br>y=%{y}<br>z=%{z}<br>MassConc_2p5=%{marker.color}<br>loc=%{text}<extra></extra>",
           "legendgroup": "",
           "marker": {
            "color": [
             0.807899,
             0.597929,
             0.353348,
             0.573552,
             0.546177,
             0.479473
            ],
            "coloraxis": "coloraxis",
            "size": [
             0.807899,
             0.597929,
             0.353348,
             0.573552,
             0.546177,
             0.479473
            ],
            "sizemode": "area",
            "sizeref": 0.23812812479999998,
            "symbol": "circle"
           },
           "mode": "markers+text",
           "name": "",
           "scene": "scene",
           "showlegend": false,
           "text": [
            "back corner/exhaust",
            "back",
            "front-tripod",
            "door",
            "front corner",
            "front-desk"
           ],
           "type": "scatter3d",
           "x": [
            0,
            0,
            0.9,
            0.95,
            0.9,
            0.65
           ],
           "y": [
            0.85,
            0.1,
            0.45,
            0,
            1,
            0.45
           ],
           "z": [
            0.2,
            0.8,
            0.5,
            0.9,
            0.6,
            0.3
           ]
          }
         ],
         "name": "66"
        },
        {
         "data": [
          {
           "hovertemplate": "time_elapsed=67<br>x=%{x}<br>y=%{y}<br>z=%{z}<br>MassConc_2p5=%{marker.color}<br>loc=%{text}<extra></extra>",
           "legendgroup": "",
           "marker": {
            "color": [
             0.772372,
             0.57962,
             0.369099,
             0.55731,
             0.537483,
             0.482529
            ],
            "coloraxis": "coloraxis",
            "size": [
             0.772372,
             0.57962,
             0.369099,
             0.55731,
             0.537483,
             0.482529
            ],
            "sizemode": "area",
            "sizeref": 0.23812812479999998,
            "symbol": "circle"
           },
           "mode": "markers+text",
           "name": "",
           "scene": "scene",
           "showlegend": false,
           "text": [
            "back corner/exhaust",
            "back",
            "front-tripod",
            "door",
            "front corner",
            "front-desk"
           ],
           "type": "scatter3d",
           "x": [
            0,
            0,
            0.9,
            0.95,
            0.9,
            0.65
           ],
           "y": [
            0.85,
            0.1,
            0.45,
            0,
            1,
            0.45
           ],
           "z": [
            0.2,
            0.8,
            0.5,
            0.9,
            0.6,
            0.3
           ]
          }
         ],
         "name": "67"
        },
        {
         "data": [
          {
           "hovertemplate": "time_elapsed=68<br>x=%{x}<br>y=%{y}<br>z=%{z}<br>MassConc_2p5=%{marker.color}<br>loc=%{text}<extra></extra>",
           "legendgroup": "",
           "marker": {
            "color": [
             0.747924,
             0.566702,
             0.378167,
             0.53858,
             0.539446,
             0.480179
            ],
            "coloraxis": "coloraxis",
            "size": [
             0.747924,
             0.566702,
             0.378167,
             0.53858,
             0.539446,
             0.480179
            ],
            "sizemode": "area",
            "sizeref": 0.23812812479999998,
            "symbol": "circle"
           },
           "mode": "markers+text",
           "name": "",
           "scene": "scene",
           "showlegend": false,
           "text": [
            "back corner/exhaust",
            "back",
            "front-tripod",
            "door",
            "front corner",
            "front-desk"
           ],
           "type": "scatter3d",
           "x": [
            0,
            0,
            0.9,
            0.95,
            0.9,
            0.65
           ],
           "y": [
            0.85,
            0.1,
            0.45,
            0,
            1,
            0.45
           ],
           "z": [
            0.2,
            0.8,
            0.5,
            0.9,
            0.6,
            0.3
           ]
          }
         ],
         "name": "68"
        },
        {
         "data": [
          {
           "hovertemplate": "time_elapsed=69<br>x=%{x}<br>y=%{y}<br>z=%{z}<br>MassConc_2p5=%{marker.color}<br>loc=%{text}<extra></extra>",
           "legendgroup": "",
           "marker": {
            "color": [
             0.721492,
             0.573696,
             0.389454,
             0.518024,
             0.542832,
             0.488408
            ],
            "coloraxis": "coloraxis",
            "size": [
             0.721492,
             0.573696,
             0.389454,
             0.518024,
             0.542832,
             0.488408
            ],
            "sizemode": "area",
            "sizeref": 0.23812812479999998,
            "symbol": "circle"
           },
           "mode": "markers+text",
           "name": "",
           "scene": "scene",
           "showlegend": false,
           "text": [
            "back corner/exhaust",
            "back",
            "front-tripod",
            "door",
            "front corner",
            "front-desk"
           ],
           "type": "scatter3d",
           "x": [
            0,
            0,
            0.9,
            0.95,
            0.9,
            0.65
           ],
           "y": [
            0.85,
            0.1,
            0.45,
            0,
            1,
            0.45
           ],
           "z": [
            0.2,
            0.8,
            0.5,
            0.9,
            0.6,
            0.3
           ]
          }
         ],
         "name": "69"
        },
        {
         "data": [
          {
           "hovertemplate": "time_elapsed=70<br>x=%{x}<br>y=%{y}<br>z=%{z}<br>MassConc_2p5=%{marker.color}<br>loc=%{text}<extra></extra>",
           "legendgroup": "",
           "marker": {
            "color": [
             0.692866,
             0.581332,
             0.402426,
             0.503031,
             0.540146,
             0.497656
            ],
            "coloraxis": "coloraxis",
            "size": [
             0.692866,
             0.581332,
             0.402426,
             0.503031,
             0.540146,
             0.497656
            ],
            "sizemode": "area",
            "sizeref": 0.23812812479999998,
            "symbol": "circle"
           },
           "mode": "markers+text",
           "name": "",
           "scene": "scene",
           "showlegend": false,
           "text": [
            "back corner/exhaust",
            "back",
            "front-tripod",
            "door",
            "front corner",
            "front-desk"
           ],
           "type": "scatter3d",
           "x": [
            0,
            0,
            0.9,
            0.95,
            0.9,
            0.65
           ],
           "y": [
            0.85,
            0.1,
            0.45,
            0,
            1,
            0.45
           ],
           "z": [
            0.2,
            0.8,
            0.5,
            0.9,
            0.6,
            0.3
           ]
          }
         ],
         "name": "70"
        },
        {
         "data": [
          {
           "hovertemplate": "time_elapsed=71<br>x=%{x}<br>y=%{y}<br>z=%{z}<br>MassConc_2p5=%{marker.color}<br>loc=%{text}<extra></extra>",
           "legendgroup": "",
           "marker": {
            "color": [
             0.668689,
             0.589412,
             0.416632,
             0.492693,
             0.53976,
             0.500171
            ],
            "coloraxis": "coloraxis",
            "size": [
             0.668689,
             0.589412,
             0.416632,
             0.492693,
             0.53976,
             0.500171
            ],
            "sizemode": "area",
            "sizeref": 0.23812812479999998,
            "symbol": "circle"
           },
           "mode": "markers+text",
           "name": "",
           "scene": "scene",
           "showlegend": false,
           "text": [
            "back corner/exhaust",
            "back",
            "front-tripod",
            "door",
            "front corner",
            "front-desk"
           ],
           "type": "scatter3d",
           "x": [
            0,
            0,
            0.9,
            0.95,
            0.9,
            0.65
           ],
           "y": [
            0.85,
            0.1,
            0.45,
            0,
            1,
            0.45
           ],
           "z": [
            0.2,
            0.8,
            0.5,
            0.9,
            0.6,
            0.3
           ]
          }
         ],
         "name": "71"
        },
        {
         "data": [
          {
           "hovertemplate": "time_elapsed=72<br>x=%{x}<br>y=%{y}<br>z=%{z}<br>MassConc_2p5=%{marker.color}<br>loc=%{text}<extra></extra>",
           "legendgroup": "",
           "marker": {
            "color": [
             0.645319,
             0.60548,
             0.431697,
             0.479393,
             0.534049,
             0.504673
            ],
            "coloraxis": "coloraxis",
            "size": [
             0.645319,
             0.60548,
             0.431697,
             0.479393,
             0.534049,
             0.504673
            ],
            "sizemode": "area",
            "sizeref": 0.23812812479999998,
            "symbol": "circle"
           },
           "mode": "markers+text",
           "name": "",
           "scene": "scene",
           "showlegend": false,
           "text": [
            "back corner/exhaust",
            "back",
            "front-tripod",
            "door",
            "front corner",
            "front-desk"
           ],
           "type": "scatter3d",
           "x": [
            0,
            0,
            0.9,
            0.95,
            0.9,
            0.65
           ],
           "y": [
            0.85,
            0.1,
            0.45,
            0,
            1,
            0.45
           ],
           "z": [
            0.2,
            0.8,
            0.5,
            0.9,
            0.6,
            0.3
           ]
          }
         ],
         "name": "72"
        },
        {
         "data": [
          {
           "hovertemplate": "time_elapsed=73<br>x=%{x}<br>y=%{y}<br>z=%{z}<br>MassConc_2p5=%{marker.color}<br>loc=%{text}<extra></extra>",
           "legendgroup": "",
           "marker": {
            "color": [
             0.62249,
             0.61244,
             0.447305,
             0.463826,
             0.538463,
             0.565405
            ],
            "coloraxis": "coloraxis",
            "size": [
             0.62249,
             0.61244,
             0.447305,
             0.463826,
             0.538463,
             0.565405
            ],
            "sizemode": "area",
            "sizeref": 0.23812812479999998,
            "symbol": "circle"
           },
           "mode": "markers+text",
           "name": "",
           "scene": "scene",
           "showlegend": false,
           "text": [
            "back corner/exhaust",
            "back",
            "front-tripod",
            "door",
            "front corner",
            "front-desk"
           ],
           "type": "scatter3d",
           "x": [
            0,
            0,
            0.9,
            0.95,
            0.9,
            0.65
           ],
           "y": [
            0.85,
            0.1,
            0.45,
            0,
            1,
            0.45
           ],
           "z": [
            0.2,
            0.8,
            0.5,
            0.9,
            0.6,
            0.3
           ]
          }
         ],
         "name": "73"
        },
        {
         "data": [
          {
           "hovertemplate": "time_elapsed=74<br>x=%{x}<br>y=%{y}<br>z=%{z}<br>MassConc_2p5=%{marker.color}<br>loc=%{text}<extra></extra>",
           "legendgroup": "",
           "marker": {
            "color": [
             0.612305,
             0.611953,
             0.463199,
             0.453416,
             0.543845,
             0.571712
            ],
            "coloraxis": "coloraxis",
            "size": [
             0.612305,
             0.611953,
             0.463199,
             0.453416,
             0.543845,
             0.571712
            ],
            "sizemode": "area",
            "sizeref": 0.23812812479999998,
            "symbol": "circle"
           },
           "mode": "markers+text",
           "name": "",
           "scene": "scene",
           "showlegend": false,
           "text": [
            "back corner/exhaust",
            "back",
            "front-tripod",
            "door",
            "front corner",
            "front-desk"
           ],
           "type": "scatter3d",
           "x": [
            0,
            0,
            0.9,
            0.95,
            0.9,
            0.65
           ],
           "y": [
            0.85,
            0.1,
            0.45,
            0,
            1,
            0.45
           ],
           "z": [
            0.2,
            0.8,
            0.5,
            0.9,
            0.6,
            0.3
           ]
          }
         ],
         "name": "74"
        },
        {
         "data": [
          {
           "hovertemplate": "time_elapsed=75<br>x=%{x}<br>y=%{y}<br>z=%{z}<br>MassConc_2p5=%{marker.color}<br>loc=%{text}<extra></extra>",
           "legendgroup": "",
           "marker": {
            "color": [
             0.59825,
             0.613147,
             0.471441,
             0.447287,
             0.542765,
             0.584215
            ],
            "coloraxis": "coloraxis",
            "size": [
             0.59825,
             0.613147,
             0.471441,
             0.447287,
             0.542765,
             0.584215
            ],
            "sizemode": "area",
            "sizeref": 0.23812812479999998,
            "symbol": "circle"
           },
           "mode": "markers+text",
           "name": "",
           "scene": "scene",
           "showlegend": false,
           "text": [
            "back corner/exhaust",
            "back",
            "front-tripod",
            "door",
            "front corner",
            "front-desk"
           ],
           "type": "scatter3d",
           "x": [
            0,
            0,
            0.9,
            0.95,
            0.9,
            0.65
           ],
           "y": [
            0.85,
            0.1,
            0.45,
            0,
            1,
            0.45
           ],
           "z": [
            0.2,
            0.8,
            0.5,
            0.9,
            0.6,
            0.3
           ]
          }
         ],
         "name": "75"
        },
        {
         "data": [
          {
           "hovertemplate": "time_elapsed=76<br>x=%{x}<br>y=%{y}<br>z=%{z}<br>MassConc_2p5=%{marker.color}<br>loc=%{text}<extra></extra>",
           "legendgroup": "",
           "marker": {
            "color": [
             0.580883,
             0.607983,
             0.473403,
             0.43785,
             0.543653,
             0.591009
            ],
            "coloraxis": "coloraxis",
            "size": [
             0.580883,
             0.607983,
             0.473403,
             0.43785,
             0.543653,
             0.591009
            ],
            "sizemode": "area",
            "sizeref": 0.23812812479999998,
            "symbol": "circle"
           },
           "mode": "markers+text",
           "name": "",
           "scene": "scene",
           "showlegend": false,
           "text": [
            "back corner/exhaust",
            "back",
            "front-tripod",
            "door",
            "front corner",
            "front-desk"
           ],
           "type": "scatter3d",
           "x": [
            0,
            0,
            0.9,
            0.95,
            0.9,
            0.65
           ],
           "y": [
            0.85,
            0.1,
            0.45,
            0,
            1,
            0.45
           ],
           "z": [
            0.2,
            0.8,
            0.5,
            0.9,
            0.6,
            0.3
           ]
          }
         ],
         "name": "76"
        },
        {
         "data": [
          {
           "hovertemplate": "time_elapsed=77<br>x=%{x}<br>y=%{y}<br>z=%{z}<br>MassConc_2p5=%{marker.color}<br>loc=%{text}<extra></extra>",
           "legendgroup": "",
           "marker": {
            "color": [
             0.561007,
             0.613137,
             0.470258,
             0.432666,
             0.538936,
             0.606229
            ],
            "coloraxis": "coloraxis",
            "size": [
             0.561007,
             0.613137,
             0.470258,
             0.432666,
             0.538936,
             0.606229
            ],
            "sizemode": "area",
            "sizeref": 0.23812812479999998,
            "symbol": "circle"
           },
           "mode": "markers+text",
           "name": "",
           "scene": "scene",
           "showlegend": false,
           "text": [
            "back corner/exhaust",
            "back",
            "front-tripod",
            "door",
            "front corner",
            "front-desk"
           ],
           "type": "scatter3d",
           "x": [
            0,
            0,
            0.9,
            0.95,
            0.9,
            0.65
           ],
           "y": [
            0.85,
            0.1,
            0.45,
            0,
            1,
            0.45
           ],
           "z": [
            0.2,
            0.8,
            0.5,
            0.9,
            0.6,
            0.3
           ]
          }
         ],
         "name": "77"
        },
        {
         "data": [
          {
           "hovertemplate": "time_elapsed=78<br>x=%{x}<br>y=%{y}<br>z=%{z}<br>MassConc_2p5=%{marker.color}<br>loc=%{text}<extra></extra>",
           "legendgroup": "",
           "marker": {
            "color": [
             0.545958,
             0.618888,
             0.478455,
             0.430977,
             0.529726,
             0.612952
            ],
            "coloraxis": "coloraxis",
            "size": [
             0.545958,
             0.618888,
             0.478455,
             0.430977,
             0.529726,
             0.612952
            ],
            "sizemode": "area",
            "sizeref": 0.23812812479999998,
            "symbol": "circle"
           },
           "mode": "markers+text",
           "name": "",
           "scene": "scene",
           "showlegend": false,
           "text": [
            "back corner/exhaust",
            "back",
            "front-tripod",
            "door",
            "front corner",
            "front-desk"
           ],
           "type": "scatter3d",
           "x": [
            0,
            0,
            0.9,
            0.95,
            0.9,
            0.65
           ],
           "y": [
            0.85,
            0.1,
            0.45,
            0,
            1,
            0.45
           ],
           "z": [
            0.2,
            0.8,
            0.5,
            0.9,
            0.6,
            0.3
           ]
          }
         ],
         "name": "78"
        },
        {
         "data": [
          {
           "hovertemplate": "time_elapsed=79<br>x=%{x}<br>y=%{y}<br>z=%{z}<br>MassConc_2p5=%{marker.color}<br>loc=%{text}<extra></extra>",
           "legendgroup": "",
           "marker": {
            "color": [
             0.530459,
             0.625066,
             0.48031,
             0.425299,
             0.516968,
             0.612268
            ],
            "coloraxis": "coloraxis",
            "size": [
             0.530459,
             0.625066,
             0.48031,
             0.425299,
             0.516968,
             0.612268
            ],
            "sizemode": "area",
            "sizeref": 0.23812812479999998,
            "symbol": "circle"
           },
           "mode": "markers+text",
           "name": "",
           "scene": "scene",
           "showlegend": false,
           "text": [
            "back corner/exhaust",
            "back",
            "front-tripod",
            "door",
            "front corner",
            "front-desk"
           ],
           "type": "scatter3d",
           "x": [
            0,
            0,
            0.9,
            0.95,
            0.9,
            0.65
           ],
           "y": [
            0.85,
            0.1,
            0.45,
            0,
            1,
            0.45
           ],
           "z": [
            0.2,
            0.8,
            0.5,
            0.9,
            0.6,
            0.3
           ]
          }
         ],
         "name": "79"
        },
        {
         "data": [
          {
           "hovertemplate": "time_elapsed=80<br>x=%{x}<br>y=%{y}<br>z=%{z}<br>MassConc_2p5=%{marker.color}<br>loc=%{text}<extra></extra>",
           "legendgroup": "",
           "marker": {
            "color": [
             0.519639,
             0.631528,
             0.484734,
             0.416447,
             0.508655,
             0.61287
            ],
            "coloraxis": "coloraxis",
            "size": [
             0.519639,
             0.631528,
             0.484734,
             0.416447,
             0.508655,
             0.61287
            ],
            "sizemode": "area",
            "sizeref": 0.23812812479999998,
            "symbol": "circle"
           },
           "mode": "markers+text",
           "name": "",
           "scene": "scene",
           "showlegend": false,
           "text": [
            "back corner/exhaust",
            "back",
            "front-tripod",
            "door",
            "front corner",
            "front-desk"
           ],
           "type": "scatter3d",
           "x": [
            0,
            0,
            0.9,
            0.95,
            0.9,
            0.65
           ],
           "y": [
            0.85,
            0.1,
            0.45,
            0,
            1,
            0.45
           ],
           "z": [
            0.2,
            0.8,
            0.5,
            0.9,
            0.6,
            0.3
           ]
          }
         ],
         "name": "80"
        },
        {
         "data": [
          {
           "hovertemplate": "time_elapsed=81<br>x=%{x}<br>y=%{y}<br>z=%{z}<br>MassConc_2p5=%{marker.color}<br>loc=%{text}<extra></extra>",
           "legendgroup": "",
           "marker": {
            "color": [
             0.507468,
             0.630446,
             0.498916,
             0.41195,
             0.518405,
             0.615024
            ],
            "coloraxis": "coloraxis",
            "size": [
             0.507468,
             0.630446,
             0.498916,
             0.41195,
             0.518405,
             0.615024
            ],
            "sizemode": "area",
            "sizeref": 0.23812812479999998,
            "symbol": "circle"
           },
           "mode": "markers+text",
           "name": "",
           "scene": "scene",
           "showlegend": false,
           "text": [
            "back corner/exhaust",
            "back",
            "front-tripod",
            "door",
            "front corner",
            "front-desk"
           ],
           "type": "scatter3d",
           "x": [
            0,
            0,
            0.9,
            0.95,
            0.9,
            0.65
           ],
           "y": [
            0.85,
            0.1,
            0.45,
            0,
            1,
            0.45
           ],
           "z": [
            0.2,
            0.8,
            0.5,
            0.9,
            0.6,
            0.3
           ]
          }
         ],
         "name": "81"
        },
        {
         "data": [
          {
           "hovertemplate": "time_elapsed=82<br>x=%{x}<br>y=%{y}<br>z=%{z}<br>MassConc_2p5=%{marker.color}<br>loc=%{text}<extra></extra>",
           "legendgroup": "",
           "marker": {
            "color": [
             0.492535,
             0.623266,
             0.505415,
             0.519222,
             0.52831,
             0.611383
            ],
            "coloraxis": "coloraxis",
            "size": [
             0.492535,
             0.623266,
             0.505415,
             0.519222,
             0.52831,
             0.611383
            ],
            "sizemode": "area",
            "sizeref": 0.23812812479999998,
            "symbol": "circle"
           },
           "mode": "markers+text",
           "name": "",
           "scene": "scene",
           "showlegend": false,
           "text": [
            "back corner/exhaust",
            "back",
            "front-tripod",
            "door",
            "front corner",
            "front-desk"
           ],
           "type": "scatter3d",
           "x": [
            0,
            0,
            0.9,
            0.95,
            0.9,
            0.65
           ],
           "y": [
            0.85,
            0.1,
            0.45,
            0,
            1,
            0.45
           ],
           "z": [
            0.2,
            0.8,
            0.5,
            0.9,
            0.6,
            0.3
           ]
          }
         ],
         "name": "82"
        },
        {
         "data": [
          {
           "hovertemplate": "time_elapsed=83<br>x=%{x}<br>y=%{y}<br>z=%{z}<br>MassConc_2p5=%{marker.color}<br>loc=%{text}<extra></extra>",
           "legendgroup": "",
           "marker": {
            "color": [
             0.475513,
             0.611217,
             0.505625,
             0.58747,
             0.531049,
             0.602321
            ],
            "coloraxis": "coloraxis",
            "size": [
             0.475513,
             0.611217,
             0.505625,
             0.58747,
             0.531049,
             0.602321
            ],
            "sizemode": "area",
            "sizeref": 0.23812812479999998,
            "symbol": "circle"
           },
           "mode": "markers+text",
           "name": "",
           "scene": "scene",
           "showlegend": false,
           "text": [
            "back corner/exhaust",
            "back",
            "front-tripod",
            "door",
            "front corner",
            "front-desk"
           ],
           "type": "scatter3d",
           "x": [
            0,
            0,
            0.9,
            0.95,
            0.9,
            0.65
           ],
           "y": [
            0.85,
            0.1,
            0.45,
            0,
            1,
            0.45
           ],
           "z": [
            0.2,
            0.8,
            0.5,
            0.9,
            0.6,
            0.3
           ]
          }
         ],
         "name": "83"
        },
        {
         "data": [
          {
           "hovertemplate": "time_elapsed=84<br>x=%{x}<br>y=%{y}<br>z=%{z}<br>MassConc_2p5=%{marker.color}<br>loc=%{text}<extra></extra>",
           "legendgroup": "",
           "marker": {
            "color": [
             0.464453,
             0.595346,
             0.500739,
             0.621504,
             0.527957,
             0.588957
            ],
            "coloraxis": "coloraxis",
            "size": [
             0.464453,
             0.595346,
             0.500739,
             0.621504,
             0.527957,
             0.588957
            ],
            "sizemode": "area",
            "sizeref": 0.23812812479999998,
            "symbol": "circle"
           },
           "mode": "markers+text",
           "name": "",
           "scene": "scene",
           "showlegend": false,
           "text": [
            "back corner/exhaust",
            "back",
            "front-tripod",
            "door",
            "front corner",
            "front-desk"
           ],
           "type": "scatter3d",
           "x": [
            0,
            0,
            0.9,
            0.95,
            0.9,
            0.65
           ],
           "y": [
            0.85,
            0.1,
            0.45,
            0,
            1,
            0.45
           ],
           "z": [
            0.2,
            0.8,
            0.5,
            0.9,
            0.6,
            0.3
           ]
          }
         ],
         "name": "84"
        },
        {
         "data": [
          {
           "hovertemplate": "time_elapsed=85<br>x=%{x}<br>y=%{y}<br>z=%{z}<br>MassConc_2p5=%{marker.color}<br>loc=%{text}<extra></extra>",
           "legendgroup": "",
           "marker": {
            "color": [
             0.452248,
             0.584245,
             0.491774,
             0.691425,
             0.527364,
             0.572242
            ],
            "coloraxis": "coloraxis",
            "size": [
             0.452248,
             0.584245,
             0.491774,
             0.691425,
             0.527364,
             0.572242
            ],
            "sizemode": "area",
            "sizeref": 0.23812812479999998,
            "symbol": "circle"
           },
           "mode": "markers+text",
           "name": "",
           "scene": "scene",
           "showlegend": false,
           "text": [
            "back corner/exhaust",
            "back",
            "front-tripod",
            "door",
            "front corner",
            "front-desk"
           ],
           "type": "scatter3d",
           "x": [
            0,
            0,
            0.9,
            0.95,
            0.9,
            0.65
           ],
           "y": [
            0.85,
            0.1,
            0.45,
            0,
            1,
            0.45
           ],
           "z": [
            0.2,
            0.8,
            0.5,
            0.9,
            0.6,
            0.3
           ]
          }
         ],
         "name": "85"
        },
        {
         "data": [
          {
           "hovertemplate": "time_elapsed=86<br>x=%{x}<br>y=%{y}<br>z=%{z}<br>MassConc_2p5=%{marker.color}<br>loc=%{text}<extra></extra>",
           "legendgroup": "",
           "marker": {
            "color": [
             0.437839,
             0.584827,
             0.502765,
             0.726949,
             0.53599,
             0.560427
            ],
            "coloraxis": "coloraxis",
            "size": [
             0.437839,
             0.584827,
             0.502765,
             0.726949,
             0.53599,
             0.560427
            ],
            "sizemode": "area",
            "sizeref": 0.23812812479999998,
            "symbol": "circle"
           },
           "mode": "markers+text",
           "name": "",
           "scene": "scene",
           "showlegend": false,
           "text": [
            "back corner/exhaust",
            "back",
            "front-tripod",
            "door",
            "front corner",
            "front-desk"
           ],
           "type": "scatter3d",
           "x": [
            0,
            0,
            0.9,
            0.95,
            0.9,
            0.65
           ],
           "y": [
            0.85,
            0.1,
            0.45,
            0,
            1,
            0.45
           ],
           "z": [
            0.2,
            0.8,
            0.5,
            0.9,
            0.6,
            0.3
           ]
          }
         ],
         "name": "86"
        },
        {
         "data": [
          {
           "hovertemplate": "time_elapsed=87<br>x=%{x}<br>y=%{y}<br>z=%{z}<br>MassConc_2p5=%{marker.color}<br>loc=%{text}<extra></extra>",
           "legendgroup": "",
           "marker": {
            "color": [
             0.421789,
             0.57945,
             0.514365,
             0.750679,
             0.544807,
             0.54577
            ],
            "coloraxis": "coloraxis",
            "size": [
             0.421789,
             0.57945,
             0.514365,
             0.750679,
             0.544807,
             0.54577
            ],
            "sizemode": "area",
            "sizeref": 0.23812812479999998,
            "symbol": "circle"
           },
           "mode": "markers+text",
           "name": "",
           "scene": "scene",
           "showlegend": false,
           "text": [
            "back corner/exhaust",
            "back",
            "front-tripod",
            "door",
            "front corner",
            "front-desk"
           ],
           "type": "scatter3d",
           "x": [
            0,
            0,
            0.9,
            0.95,
            0.9,
            0.65
           ],
           "y": [
            0.85,
            0.1,
            0.45,
            0,
            1,
            0.45
           ],
           "z": [
            0.2,
            0.8,
            0.5,
            0.9,
            0.6,
            0.3
           ]
          }
         ],
         "name": "87"
        },
        {
         "data": [
          {
           "hovertemplate": "time_elapsed=88<br>x=%{x}<br>y=%{y}<br>z=%{z}<br>MassConc_2p5=%{marker.color}<br>loc=%{text}<extra></extra>",
           "legendgroup": "",
           "marker": {
            "color": [
             0.413725,
             0.577008,
             0.534064,
             0.774133,
             0.568072,
             0.537
            ],
            "coloraxis": "coloraxis",
            "size": [
             0.413725,
             0.577008,
             0.534064,
             0.774133,
             0.568072,
             0.537
            ],
            "sizemode": "area",
            "sizeref": 0.23812812479999998,
            "symbol": "circle"
           },
           "mode": "markers+text",
           "name": "",
           "scene": "scene",
           "showlegend": false,
           "text": [
            "back corner/exhaust",
            "back",
            "front-tripod",
            "door",
            "front corner",
            "front-desk"
           ],
           "type": "scatter3d",
           "x": [
            0,
            0,
            0.9,
            0.95,
            0.9,
            0.65
           ],
           "y": [
            0.85,
            0.1,
            0.45,
            0,
            1,
            0.45
           ],
           "z": [
            0.2,
            0.8,
            0.5,
            0.9,
            0.6,
            0.3
           ]
          }
         ],
         "name": "88"
        },
        {
         "data": [
          {
           "hovertemplate": "time_elapsed=89<br>x=%{x}<br>y=%{y}<br>z=%{z}<br>MassConc_2p5=%{marker.color}<br>loc=%{text}<extra></extra>",
           "legendgroup": "",
           "marker": {
            "color": [
             0.403045,
             0.569261,
             0.544679,
             0.805764,
             0.588426,
             0.524116
            ],
            "coloraxis": "coloraxis",
            "size": [
             0.403045,
             0.569261,
             0.544679,
             0.805764,
             0.588426,
             0.524116
            ],
            "sizemode": "area",
            "sizeref": 0.23812812479999998,
            "symbol": "circle"
           },
           "mode": "markers+text",
           "name": "",
           "scene": "scene",
           "showlegend": false,
           "text": [
            "back corner/exhaust",
            "back",
            "front-tripod",
            "door",
            "front corner",
            "front-desk"
           ],
           "type": "scatter3d",
           "x": [
            0,
            0,
            0.9,
            0.95,
            0.9,
            0.65
           ],
           "y": [
            0.85,
            0.1,
            0.45,
            0,
            1,
            0.45
           ],
           "z": [
            0.2,
            0.8,
            0.5,
            0.9,
            0.6,
            0.3
           ]
          }
         ],
         "name": "89"
        },
        {
         "data": [
          {
           "hovertemplate": "time_elapsed=90<br>x=%{x}<br>y=%{y}<br>z=%{z}<br>MassConc_2p5=%{marker.color}<br>loc=%{text}<extra></extra>",
           "legendgroup": "",
           "marker": {
            "color": [
             0.398224,
             0.565001,
             0.547831,
             0.823327,
             0.606219,
             0.518677
            ],
            "coloraxis": "coloraxis",
            "size": [
             0.398224,
             0.565001,
             0.547831,
             0.823327,
             0.606219,
             0.518677
            ],
            "sizemode": "area",
            "sizeref": 0.23812812479999998,
            "symbol": "circle"
           },
           "mode": "markers+text",
           "name": "",
           "scene": "scene",
           "showlegend": false,
           "text": [
            "back corner/exhaust",
            "back",
            "front-tripod",
            "door",
            "front corner",
            "front-desk"
           ],
           "type": "scatter3d",
           "x": [
            0,
            0,
            0.9,
            0.95,
            0.9,
            0.65
           ],
           "y": [
            0.85,
            0.1,
            0.45,
            0,
            1,
            0.45
           ],
           "z": [
            0.2,
            0.8,
            0.5,
            0.9,
            0.6,
            0.3
           ]
          }
         ],
         "name": "90"
        },
        {
         "data": [
          {
           "hovertemplate": "time_elapsed=91<br>x=%{x}<br>y=%{y}<br>z=%{z}<br>MassConc_2p5=%{marker.color}<br>loc=%{text}<extra></extra>",
           "legendgroup": "",
           "marker": {
            "color": [
             0.391383,
             0.579025,
             0.544905,
             0.82932,
             0.621759,
             0.525145
            ],
            "coloraxis": "coloraxis",
            "size": [
             0.391383,
             0.579025,
             0.544905,
             0.82932,
             0.621759,
             0.525145
            ],
            "sizemode": "area",
            "sizeref": 0.23812812479999998,
            "symbol": "circle"
           },
           "mode": "markers+text",
           "name": "",
           "scene": "scene",
           "showlegend": false,
           "text": [
            "back corner/exhaust",
            "back",
            "front-tripod",
            "door",
            "front corner",
            "front-desk"
           ],
           "type": "scatter3d",
           "x": [
            0,
            0,
            0.9,
            0.95,
            0.9,
            0.65
           ],
           "y": [
            0.85,
            0.1,
            0.45,
            0,
            1,
            0.45
           ],
           "z": [
            0.2,
            0.8,
            0.5,
            0.9,
            0.6,
            0.3
           ]
          }
         ],
         "name": "91"
        },
        {
         "data": [
          {
           "hovertemplate": "time_elapsed=92<br>x=%{x}<br>y=%{y}<br>z=%{z}<br>MassConc_2p5=%{marker.color}<br>loc=%{text}<extra></extra>",
           "legendgroup": "",
           "marker": {
            "color": [
             0.381928,
             0.592302,
             0.544811,
             0.832718,
             0.635319,
             0.523822
            ],
            "coloraxis": "coloraxis",
            "size": [
             0.381928,
             0.592302,
             0.544811,
             0.832718,
             0.635319,
             0.523822
            ],
            "sizemode": "area",
            "sizeref": 0.23812812479999998,
            "symbol": "circle"
           },
           "mode": "markers+text",
           "name": "",
           "scene": "scene",
           "showlegend": false,
           "text": [
            "back corner/exhaust",
            "back",
            "front-tripod",
            "door",
            "front corner",
            "front-desk"
           ],
           "type": "scatter3d",
           "x": [
            0,
            0,
            0.9,
            0.95,
            0.9,
            0.65
           ],
           "y": [
            0.85,
            0.1,
            0.45,
            0,
            1,
            0.45
           ],
           "z": [
            0.2,
            0.8,
            0.5,
            0.9,
            0.6,
            0.3
           ]
          }
         ],
         "name": "92"
        },
        {
         "data": [
          {
           "hovertemplate": "time_elapsed=93<br>x=%{x}<br>y=%{y}<br>z=%{z}<br>MassConc_2p5=%{marker.color}<br>loc=%{text}<extra></extra>",
           "legendgroup": "",
           "marker": {
            "color": [
             0.395019,
             0.597134,
             0.539286,
             0.833982,
             0.65433,
             0.524994
            ],
            "coloraxis": "coloraxis",
            "size": [
             0.395019,
             0.597134,
             0.539286,
             0.833982,
             0.65433,
             0.524994
            ],
            "sizemode": "area",
            "sizeref": 0.23812812479999998,
            "symbol": "circle"
           },
           "mode": "markers+text",
           "name": "",
           "scene": "scene",
           "showlegend": false,
           "text": [
            "back corner/exhaust",
            "back",
            "front-tripod",
            "door",
            "front corner",
            "front-desk"
           ],
           "type": "scatter3d",
           "x": [
            0,
            0,
            0.9,
            0.95,
            0.9,
            0.65
           ],
           "y": [
            0.85,
            0.1,
            0.45,
            0,
            1,
            0.45
           ],
           "z": [
            0.2,
            0.8,
            0.5,
            0.9,
            0.6,
            0.3
           ]
          }
         ],
         "name": "93"
        },
        {
         "data": [
          {
           "hovertemplate": "time_elapsed=94<br>x=%{x}<br>y=%{y}<br>z=%{z}<br>MassConc_2p5=%{marker.color}<br>loc=%{text}<extra></extra>",
           "legendgroup": "",
           "marker": {
            "color": [
             0.403823,
             0.595076,
             0.544865,
             0.826665,
             0.677567,
             0.521217
            ],
            "coloraxis": "coloraxis",
            "size": [
             0.403823,
             0.595076,
             0.544865,
             0.826665,
             0.677567,
             0.521217
            ],
            "sizemode": "area",
            "sizeref": 0.23812812479999998,
            "symbol": "circle"
           },
           "mode": "markers+text",
           "name": "",
           "scene": "scene",
           "showlegend": false,
           "text": [
            "back corner/exhaust",
            "back",
            "front-tripod",
            "door",
            "front corner",
            "front-desk"
           ],
           "type": "scatter3d",
           "x": [
            0,
            0,
            0.9,
            0.95,
            0.9,
            0.65
           ],
           "y": [
            0.85,
            0.1,
            0.45,
            0,
            1,
            0.45
           ],
           "z": [
            0.2,
            0.8,
            0.5,
            0.9,
            0.6,
            0.3
           ]
          }
         ],
         "name": "94"
        },
        {
         "data": [
          {
           "hovertemplate": "time_elapsed=95<br>x=%{x}<br>y=%{y}<br>z=%{z}<br>MassConc_2p5=%{marker.color}<br>loc=%{text}<extra></extra>",
           "legendgroup": "",
           "marker": {
            "color": [
             0.415333,
             0.595167,
             0.543935,
             0.812472,
             2.456488,
             0.520579
            ],
            "coloraxis": "coloraxis",
            "size": [
             0.415333,
             0.595167,
             0.543935,
             0.812472,
             2.456488,
             0.520579
            ],
            "sizemode": "area",
            "sizeref": 0.23812812479999998,
            "symbol": "circle"
           },
           "mode": "markers+text",
           "name": "",
           "scene": "scene",
           "showlegend": false,
           "text": [
            "back corner/exhaust",
            "back",
            "front-tripod",
            "door",
            "front corner",
            "front-desk"
           ],
           "type": "scatter3d",
           "x": [
            0,
            0,
            0.9,
            0.95,
            0.9,
            0.65
           ],
           "y": [
            0.85,
            0.1,
            0.45,
            0,
            1,
            0.45
           ],
           "z": [
            0.2,
            0.8,
            0.5,
            0.9,
            0.6,
            0.3
           ]
          }
         ],
         "name": "95"
        },
        {
         "data": [
          {
           "hovertemplate": "time_elapsed=96<br>x=%{x}<br>y=%{y}<br>z=%{z}<br>MassConc_2p5=%{marker.color}<br>loc=%{text}<extra></extra>",
           "legendgroup": "",
           "marker": {
            "color": [
             0.38614,
             0.604705,
             0.537743,
             0.799689,
             10.842555,
             0.518601
            ],
            "coloraxis": "coloraxis",
            "size": [
             0.38614,
             0.604705,
             0.537743,
             0.799689,
             10.842555,
             0.518601
            ],
            "sizemode": "area",
            "sizeref": 0.23812812479999998,
            "symbol": "circle"
           },
           "mode": "markers+text",
           "name": "",
           "scene": "scene",
           "showlegend": false,
           "text": [
            "back corner/exhaust",
            "back",
            "front-tripod",
            "door",
            "front corner",
            "front-desk"
           ],
           "type": "scatter3d",
           "x": [
            0,
            0,
            0.9,
            0.95,
            0.9,
            0.65
           ],
           "y": [
            0.85,
            0.1,
            0.45,
            0,
            1,
            0.45
           ],
           "z": [
            0.2,
            0.8,
            0.5,
            0.9,
            0.6,
            0.3
           ]
          }
         ],
         "name": "96"
        },
        {
         "data": [
          {
           "hovertemplate": "time_elapsed=97<br>x=%{x}<br>y=%{y}<br>z=%{z}<br>MassConc_2p5=%{marker.color}<br>loc=%{text}<extra></extra>",
           "legendgroup": "",
           "marker": {
            "color": [
             0.430377,
             0.621801,
             0.52735,
             0.788175,
             20.834049,
             0.515649
            ],
            "coloraxis": "coloraxis",
            "size": [
             0.430377,
             0.621801,
             0.52735,
             0.788175,
             20.834049,
             0.515649
            ],
            "sizemode": "area",
            "sizeref": 0.23812812479999998,
            "symbol": "circle"
           },
           "mode": "markers+text",
           "name": "",
           "scene": "scene",
           "showlegend": false,
           "text": [
            "back corner/exhaust",
            "back",
            "front-tripod",
            "door",
            "front corner",
            "front-desk"
           ],
           "type": "scatter3d",
           "x": [
            0,
            0,
            0.9,
            0.95,
            0.9,
            0.65
           ],
           "y": [
            0.85,
            0.1,
            0.45,
            0,
            1,
            0.45
           ],
           "z": [
            0.2,
            0.8,
            0.5,
            0.9,
            0.6,
            0.3
           ]
          }
         ],
         "name": "97"
        },
        {
         "data": [
          {
           "hovertemplate": "time_elapsed=98<br>x=%{x}<br>y=%{y}<br>z=%{z}<br>MassConc_2p5=%{marker.color}<br>loc=%{text}<extra></extra>",
           "legendgroup": "",
           "marker": {
            "color": [
             0.478493,
             0.62943,
             0.521382,
             5.715337,
             83.385345,
             0.47946
            ],
            "coloraxis": "coloraxis",
            "size": [
             0.478493,
             0.62943,
             0.521382,
             5.715337,
             83.385345,
             0.47946
            ],
            "sizemode": "area",
            "sizeref": 0.23812812479999998,
            "symbol": "circle"
           },
           "mode": "markers+text",
           "name": "",
           "scene": "scene",
           "showlegend": false,
           "text": [
            "back corner/exhaust",
            "back",
            "front-tripod",
            "door",
            "front corner",
            "front-desk"
           ],
           "type": "scatter3d",
           "x": [
            0,
            0,
            0.9,
            0.95,
            0.9,
            0.65
           ],
           "y": [
            0.85,
            0.1,
            0.45,
            0,
            1,
            0.45
           ],
           "z": [
            0.2,
            0.8,
            0.5,
            0.9,
            0.6,
            0.3
           ]
          }
         ],
         "name": "98"
        },
        {
         "data": [
          {
           "hovertemplate": "time_elapsed=99<br>x=%{x}<br>y=%{y}<br>z=%{z}<br>MassConc_2p5=%{marker.color}<br>loc=%{text}<extra></extra>",
           "legendgroup": "",
           "marker": {
            "color": [
             10.387826,
             0.629315,
             0.511334,
             11.914469,
             243.270508,
             0.489969
            ],
            "coloraxis": "coloraxis",
            "size": [
             10.387826,
             0.629315,
             0.511334,
             11.914469,
             243.270508,
             0.489969
            ],
            "sizemode": "area",
            "sizeref": 0.23812812479999998,
            "symbol": "circle"
           },
           "mode": "markers+text",
           "name": "",
           "scene": "scene",
           "showlegend": false,
           "text": [
            "back corner/exhaust",
            "back",
            "front-tripod",
            "door",
            "front corner",
            "front-desk"
           ],
           "type": "scatter3d",
           "x": [
            0,
            0,
            0.9,
            0.95,
            0.9,
            0.65
           ],
           "y": [
            0.85,
            0.1,
            0.45,
            0,
            1,
            0.45
           ],
           "z": [
            0.2,
            0.8,
            0.5,
            0.9,
            0.6,
            0.3
           ]
          }
         ],
         "name": "99"
        },
        {
         "data": [
          {
           "hovertemplate": "time_elapsed=100<br>x=%{x}<br>y=%{y}<br>z=%{z}<br>MassConc_2p5=%{marker.color}<br>loc=%{text}<extra></extra>",
           "legendgroup": "",
           "marker": {
            "color": [
             12.651814,
             0.62293,
             0.505805,
             23.05427,
             453.210968,
             0.501047
            ],
            "coloraxis": "coloraxis",
            "size": [
             12.651814,
             0.62293,
             0.505805,
             23.05427,
             453.210968,
             0.501047
            ],
            "sizemode": "area",
            "sizeref": 0.23812812479999998,
            "symbol": "circle"
           },
           "mode": "markers+text",
           "name": "",
           "scene": "scene",
           "showlegend": false,
           "text": [
            "back corner/exhaust",
            "back",
            "front-tripod",
            "door",
            "front corner",
            "front-desk"
           ],
           "type": "scatter3d",
           "x": [
            0,
            0,
            0.9,
            0.95,
            0.9,
            0.65
           ],
           "y": [
            0.85,
            0.1,
            0.45,
            0,
            1,
            0.45
           ],
           "z": [
            0.2,
            0.8,
            0.5,
            0.9,
            0.6,
            0.3
           ]
          }
         ],
         "name": "100"
        },
        {
         "data": [
          {
           "hovertemplate": "time_elapsed=101<br>x=%{x}<br>y=%{y}<br>z=%{z}<br>MassConc_2p5=%{marker.color}<br>loc=%{text}<extra></extra>",
           "legendgroup": "",
           "marker": {
            "color": [
             12.637102,
             0.626944,
             0.503992,
             35.278618,
             595.320312,
             0.505011
            ],
            "coloraxis": "coloraxis",
            "size": [
             12.637102,
             0.626944,
             0.503992,
             35.278618,
             595.320312,
             0.505011
            ],
            "sizemode": "area",
            "sizeref": 0.23812812479999998,
            "symbol": "circle"
           },
           "mode": "markers+text",
           "name": "",
           "scene": "scene",
           "showlegend": false,
           "text": [
            "back corner/exhaust",
            "back",
            "front-tripod",
            "door",
            "front corner",
            "front-desk"
           ],
           "type": "scatter3d",
           "x": [
            0,
            0,
            0.9,
            0.95,
            0.9,
            0.65
           ],
           "y": [
            0.85,
            0.1,
            0.45,
            0,
            1,
            0.45
           ],
           "z": [
            0.2,
            0.8,
            0.5,
            0.9,
            0.6,
            0.3
           ]
          }
         ],
         "name": "101"
        },
        {
         "data": [
          {
           "hovertemplate": "time_elapsed=102<br>x=%{x}<br>y=%{y}<br>z=%{z}<br>MassConc_2p5=%{marker.color}<br>loc=%{text}<extra></extra>",
           "legendgroup": "",
           "marker": {
            "color": [
             13.180003,
             0.631635,
             0.497484,
             75.833511,
             533.343506,
             0.510638
            ],
            "coloraxis": "coloraxis",
            "size": [
             13.180003,
             0.631635,
             0.497484,
             75.833511,
             533.343506,
             0.510638
            ],
            "sizemode": "area",
            "sizeref": 0.23812812479999998,
            "symbol": "circle"
           },
           "mode": "markers+text",
           "name": "",
           "scene": "scene",
           "showlegend": false,
           "text": [
            "back corner/exhaust",
            "back",
            "front-tripod",
            "door",
            "front corner",
            "front-desk"
           ],
           "type": "scatter3d",
           "x": [
            0,
            0,
            0.9,
            0.95,
            0.9,
            0.65
           ],
           "y": [
            0.85,
            0.1,
            0.45,
            0,
            1,
            0.45
           ],
           "z": [
            0.2,
            0.8,
            0.5,
            0.9,
            0.6,
            0.3
           ]
          }
         ],
         "name": "102"
        },
        {
         "data": [
          {
           "hovertemplate": "time_elapsed=103<br>x=%{x}<br>y=%{y}<br>z=%{z}<br>MassConc_2p5=%{marker.color}<br>loc=%{text}<extra></extra>",
           "legendgroup": "",
           "marker": {
            "color": [
             13.642573,
             0.644534,
             0.605204,
             131.764771,
             416.382019,
             0.525024
            ],
            "coloraxis": "coloraxis",
            "size": [
             13.642573,
             0.644534,
             0.605204,
             131.764771,
             416.382019,
             0.525024
            ],
            "sizemode": "area",
            "sizeref": 0.23812812479999998,
            "symbol": "circle"
           },
           "mode": "markers+text",
           "name": "",
           "scene": "scene",
           "showlegend": false,
           "text": [
            "back corner/exhaust",
            "back",
            "front-tripod",
            "door",
            "front corner",
            "front-desk"
           ],
           "type": "scatter3d",
           "x": [
            0,
            0,
            0.9,
            0.95,
            0.9,
            0.65
           ],
           "y": [
            0.85,
            0.1,
            0.45,
            0,
            1,
            0.45
           ],
           "z": [
            0.2,
            0.8,
            0.5,
            0.9,
            0.6,
            0.3
           ]
          }
         ],
         "name": "103"
        },
        {
         "data": [
          {
           "hovertemplate": "time_elapsed=104<br>x=%{x}<br>y=%{y}<br>z=%{z}<br>MassConc_2p5=%{marker.color}<br>loc=%{text}<extra></extra>",
           "legendgroup": "",
           "marker": {
            "color": [
             21.025898,
             0.671662,
             5.342588,
             185.530609,
             315.938934,
             0.736379
            ],
            "coloraxis": "coloraxis",
            "size": [
             21.025898,
             0.671662,
             5.342588,
             185.530609,
             315.938934,
             0.736379
            ],
            "sizemode": "area",
            "sizeref": 0.23812812479999998,
            "symbol": "circle"
           },
           "mode": "markers+text",
           "name": "",
           "scene": "scene",
           "showlegend": false,
           "text": [
            "back corner/exhaust",
            "back",
            "front-tripod",
            "door",
            "front corner",
            "front-desk"
           ],
           "type": "scatter3d",
           "x": [
            0,
            0,
            0.9,
            0.95,
            0.9,
            0.65
           ],
           "y": [
            0.85,
            0.1,
            0.45,
            0,
            1,
            0.45
           ],
           "z": [
            0.2,
            0.8,
            0.5,
            0.9,
            0.6,
            0.3
           ]
          }
         ],
         "name": "104"
        },
        {
         "data": [
          {
           "hovertemplate": "time_elapsed=105<br>x=%{x}<br>y=%{y}<br>z=%{z}<br>MassConc_2p5=%{marker.color}<br>loc=%{text}<extra></extra>",
           "legendgroup": "",
           "marker": {
            "color": [
             27.3461,
             0.702336,
             9.973608,
             210.678619,
             234.328247,
             8.535151
            ],
            "coloraxis": "coloraxis",
            "size": [
             27.3461,
             0.702336,
             9.973608,
             210.678619,
             234.328247,
             8.535151
            ],
            "sizemode": "area",
            "sizeref": 0.23812812479999998,
            "symbol": "circle"
           },
           "mode": "markers+text",
           "name": "",
           "scene": "scene",
           "showlegend": false,
           "text": [
            "back corner/exhaust",
            "back",
            "front-tripod",
            "door",
            "front corner",
            "front-desk"
           ],
           "type": "scatter3d",
           "x": [
            0,
            0,
            0.9,
            0.95,
            0.9,
            0.65
           ],
           "y": [
            0.85,
            0.1,
            0.45,
            0,
            1,
            0.45
           ],
           "z": [
            0.2,
            0.8,
            0.5,
            0.9,
            0.6,
            0.3
           ]
          }
         ],
         "name": "105"
        },
        {
         "data": [
          {
           "hovertemplate": "time_elapsed=106<br>x=%{x}<br>y=%{y}<br>z=%{z}<br>MassConc_2p5=%{marker.color}<br>loc=%{text}<extra></extra>",
           "legendgroup": "",
           "marker": {
            "color": [
             25.231873,
             2.181142,
             13.223827,
             207.339279,
             169.717117,
             35.349613
            ],
            "coloraxis": "coloraxis",
            "size": [
             25.231873,
             2.181142,
             13.223827,
             207.339279,
             169.717117,
             35.349613
            ],
            "sizemode": "area",
            "sizeref": 0.23812812479999998,
            "symbol": "circle"
           },
           "mode": "markers+text",
           "name": "",
           "scene": "scene",
           "showlegend": false,
           "text": [
            "back corner/exhaust",
            "back",
            "front-tripod",
            "door",
            "front corner",
            "front-desk"
           ],
           "type": "scatter3d",
           "x": [
            0,
            0,
            0.9,
            0.95,
            0.9,
            0.65
           ],
           "y": [
            0.85,
            0.1,
            0.45,
            0,
            1,
            0.45
           ],
           "z": [
            0.2,
            0.8,
            0.5,
            0.9,
            0.6,
            0.3
           ]
          }
         ],
         "name": "106"
        },
        {
         "data": [
          {
           "hovertemplate": "time_elapsed=107<br>x=%{x}<br>y=%{y}<br>z=%{z}<br>MassConc_2p5=%{marker.color}<br>loc=%{text}<extra></extra>",
           "legendgroup": "",
           "marker": {
            "color": [
             19.224575,
             8.34228,
             14.545937,
             190.670242,
             124.148781,
             73.249763
            ],
            "coloraxis": "coloraxis",
            "size": [
             19.224575,
             8.34228,
             14.545937,
             190.670242,
             124.148781,
             73.249763
            ],
            "sizemode": "area",
            "sizeref": 0.23812812479999998,
            "symbol": "circle"
           },
           "mode": "markers+text",
           "name": "",
           "scene": "scene",
           "showlegend": false,
           "text": [
            "back corner/exhaust",
            "back",
            "front-tripod",
            "door",
            "front corner",
            "front-desk"
           ],
           "type": "scatter3d",
           "x": [
            0,
            0,
            0.9,
            0.95,
            0.9,
            0.65
           ],
           "y": [
            0.85,
            0.1,
            0.45,
            0,
            1,
            0.45
           ],
           "z": [
            0.2,
            0.8,
            0.5,
            0.9,
            0.6,
            0.3
           ]
          }
         ],
         "name": "107"
        },
        {
         "data": [
          {
           "hovertemplate": "time_elapsed=108<br>x=%{x}<br>y=%{y}<br>z=%{z}<br>MassConc_2p5=%{marker.color}<br>loc=%{text}<extra></extra>",
           "legendgroup": "",
           "marker": {
            "color": [
             13.344137,
             22.63534,
             17.381647,
             159.677521,
             95.661758,
             107.270889
            ],
            "coloraxis": "coloraxis",
            "size": [
             13.344137,
             22.63534,
             17.381647,
             159.677521,
             95.661758,
             107.270889
            ],
            "sizemode": "area",
            "sizeref": 0.23812812479999998,
            "symbol": "circle"
           },
           "mode": "markers+text",
           "name": "",
           "scene": "scene",
           "showlegend": false,
           "text": [
            "back corner/exhaust",
            "back",
            "front-tripod",
            "door",
            "front corner",
            "front-desk"
           ],
           "type": "scatter3d",
           "x": [
            0,
            0,
            0.9,
            0.95,
            0.9,
            0.65
           ],
           "y": [
            0.85,
            0.1,
            0.45,
            0,
            1,
            0.45
           ],
           "z": [
            0.2,
            0.8,
            0.5,
            0.9,
            0.6,
            0.3
           ]
          }
         ],
         "name": "108"
        },
        {
         "data": [
          {
           "hovertemplate": "time_elapsed=109<br>x=%{x}<br>y=%{y}<br>z=%{z}<br>MassConc_2p5=%{marker.color}<br>loc=%{text}<extra></extra>",
           "legendgroup": "",
           "marker": {
            "color": [
             8.528507,
             27.487175,
             17.965961,
             126.814461,
             72.158783,
             123.877747
            ],
            "coloraxis": "coloraxis",
            "size": [
             8.528507,
             27.487175,
             17.965961,
             126.814461,
             72.158783,
             123.877747
            ],
            "sizemode": "area",
            "sizeref": 0.23812812479999998,
            "symbol": "circle"
           },
           "mode": "markers+text",
           "name": "",
           "scene": "scene",
           "showlegend": false,
           "text": [
            "back corner/exhaust",
            "back",
            "front-tripod",
            "door",
            "front corner",
            "front-desk"
           ],
           "type": "scatter3d",
           "x": [
            0,
            0,
            0.9,
            0.95,
            0.9,
            0.65
           ],
           "y": [
            0.85,
            0.1,
            0.45,
            0,
            1,
            0.45
           ],
           "z": [
            0.2,
            0.8,
            0.5,
            0.9,
            0.6,
            0.3
           ]
          }
         ],
         "name": "109"
        },
        {
         "data": [
          {
           "hovertemplate": "time_elapsed=110<br>x=%{x}<br>y=%{y}<br>z=%{z}<br>MassConc_2p5=%{marker.color}<br>loc=%{text}<extra></extra>",
           "legendgroup": "",
           "marker": {
            "color": [
             6.006152,
             27.802217,
             23.97781,
             100.728386,
             54.664425,
             115.811172
            ],
            "coloraxis": "coloraxis",
            "size": [
             6.006152,
             27.802217,
             23.97781,
             100.728386,
             54.664425,
             115.811172
            ],
            "sizemode": "area",
            "sizeref": 0.23812812479999998,
            "symbol": "circle"
           },
           "mode": "markers+text",
           "name": "",
           "scene": "scene",
           "showlegend": false,
           "text": [
            "back corner/exhaust",
            "back",
            "front-tripod",
            "door",
            "front corner",
            "front-desk"
           ],
           "type": "scatter3d",
           "x": [
            0,
            0,
            0.9,
            0.95,
            0.9,
            0.65
           ],
           "y": [
            0.85,
            0.1,
            0.45,
            0,
            1,
            0.45
           ],
           "z": [
            0.2,
            0.8,
            0.5,
            0.9,
            0.6,
            0.3
           ]
          }
         ],
         "name": "110"
        },
        {
         "data": [
          {
           "hovertemplate": "time_elapsed=111<br>x=%{x}<br>y=%{y}<br>z=%{z}<br>MassConc_2p5=%{marker.color}<br>loc=%{text}<extra></extra>",
           "legendgroup": "",
           "marker": {
            "color": [
             4.285126,
             33.583458,
             29.886528,
             80.381897,
             29.416584,
             102.411072
            ],
            "coloraxis": "coloraxis",
            "size": [
             4.285126,
             33.583458,
             29.886528,
             80.381897,
             29.416584,
             102.411072
            ],
            "sizemode": "area",
            "sizeref": 0.23812812479999998,
            "symbol": "circle"
           },
           "mode": "markers+text",
           "name": "",
           "scene": "scene",
           "showlegend": false,
           "text": [
            "back corner/exhaust",
            "back",
            "front-tripod",
            "door",
            "front corner",
            "front-desk"
           ],
           "type": "scatter3d",
           "x": [
            0,
            0,
            0.9,
            0.95,
            0.9,
            0.65
           ],
           "y": [
            0.85,
            0.1,
            0.45,
            0,
            1,
            0.45
           ],
           "z": [
            0.2,
            0.8,
            0.5,
            0.9,
            0.6,
            0.3
           ]
          }
         ],
         "name": "111"
        },
        {
         "data": [
          {
           "hovertemplate": "time_elapsed=112<br>x=%{x}<br>y=%{y}<br>z=%{z}<br>MassConc_2p5=%{marker.color}<br>loc=%{text}<extra></extra>",
           "legendgroup": "",
           "marker": {
            "color": [
             6.432136,
             34.054565,
             39.03772,
             64.854301,
             21.783617,
             85.018593
            ],
            "coloraxis": "coloraxis",
            "size": [
             6.432136,
             34.054565,
             39.03772,
             64.854301,
             21.783617,
             85.018593
            ],
            "sizemode": "area",
            "sizeref": 0.23812812479999998,
            "symbol": "circle"
           },
           "mode": "markers+text",
           "name": "",
           "scene": "scene",
           "showlegend": false,
           "text": [
            "back corner/exhaust",
            "back",
            "front-tripod",
            "door",
            "front corner",
            "front-desk"
           ],
           "type": "scatter3d",
           "x": [
            0,
            0,
            0.9,
            0.95,
            0.9,
            0.65
           ],
           "y": [
            0.85,
            0.1,
            0.45,
            0,
            1,
            0.45
           ],
           "z": [
            0.2,
            0.8,
            0.5,
            0.9,
            0.6,
            0.3
           ]
          }
         ],
         "name": "112"
        },
        {
         "data": [
          {
           "hovertemplate": "time_elapsed=113<br>x=%{x}<br>y=%{y}<br>z=%{z}<br>MassConc_2p5=%{marker.color}<br>loc=%{text}<extra></extra>",
           "legendgroup": "",
           "marker": {
            "color": [
             9.030131,
             34.519157,
             40.383045,
             55.050076,
             17.555019,
             69.560699
            ],
            "coloraxis": "coloraxis",
            "size": [
             9.030131,
             34.519157,
             40.383045,
             55.050076,
             17.555019,
             69.560699
            ],
            "sizemode": "area",
            "sizeref": 0.23812812479999998,
            "symbol": "circle"
           },
           "mode": "markers+text",
           "name": "",
           "scene": "scene",
           "showlegend": false,
           "text": [
            "back corner/exhaust",
            "back",
            "front-tripod",
            "door",
            "front corner",
            "front-desk"
           ],
           "type": "scatter3d",
           "x": [
            0,
            0,
            0.9,
            0.95,
            0.9,
            0.65
           ],
           "y": [
            0.85,
            0.1,
            0.45,
            0,
            1,
            0.45
           ],
           "z": [
            0.2,
            0.8,
            0.5,
            0.9,
            0.6,
            0.3
           ]
          }
         ],
         "name": "113"
        },
        {
         "data": [
          {
           "hovertemplate": "time_elapsed=114<br>x=%{x}<br>y=%{y}<br>z=%{z}<br>MassConc_2p5=%{marker.color}<br>loc=%{text}<extra></extra>",
           "legendgroup": "",
           "marker": {
            "color": [
             11.278601,
             35.393013,
             40.145351,
             48.71328,
             15.445344,
             59.710495
            ],
            "coloraxis": "coloraxis",
            "size": [
             11.278601,
             35.393013,
             40.145351,
             48.71328,
             15.445344,
             59.710495
            ],
            "sizemode": "area",
            "sizeref": 0.23812812479999998,
            "symbol": "circle"
           },
           "mode": "markers+text",
           "name": "",
           "scene": "scene",
           "showlegend": false,
           "text": [
            "back corner/exhaust",
            "back",
            "front-tripod",
            "door",
            "front corner",
            "front-desk"
           ],
           "type": "scatter3d",
           "x": [
            0,
            0,
            0.9,
            0.95,
            0.9,
            0.65
           ],
           "y": [
            0.85,
            0.1,
            0.45,
            0,
            1,
            0.45
           ],
           "z": [
            0.2,
            0.8,
            0.5,
            0.9,
            0.6,
            0.3
           ]
          }
         ],
         "name": "114"
        },
        {
         "data": [
          {
           "hovertemplate": "time_elapsed=115<br>x=%{x}<br>y=%{y}<br>z=%{z}<br>MassConc_2p5=%{marker.color}<br>loc=%{text}<extra></extra>",
           "legendgroup": "",
           "marker": {
            "color": [
             13.059424,
             37.085503,
             40.041817,
             47.369465,
             13.235845,
             48.804523
            ],
            "coloraxis": "coloraxis",
            "size": [
             13.059424,
             37.085503,
             40.041817,
             47.369465,
             13.235845,
             48.804523
            ],
            "sizemode": "area",
            "sizeref": 0.23812812479999998,
            "symbol": "circle"
           },
           "mode": "markers+text",
           "name": "",
           "scene": "scene",
           "showlegend": false,
           "text": [
            "back corner/exhaust",
            "back",
            "front-tripod",
            "door",
            "front corner",
            "front-desk"
           ],
           "type": "scatter3d",
           "x": [
            0,
            0,
            0.9,
            0.95,
            0.9,
            0.65
           ],
           "y": [
            0.85,
            0.1,
            0.45,
            0,
            1,
            0.45
           ],
           "z": [
            0.2,
            0.8,
            0.5,
            0.9,
            0.6,
            0.3
           ]
          }
         ],
         "name": "115"
        },
        {
         "data": [
          {
           "hovertemplate": "time_elapsed=116<br>x=%{x}<br>y=%{y}<br>z=%{z}<br>MassConc_2p5=%{marker.color}<br>loc=%{text}<extra></extra>",
           "legendgroup": "",
           "marker": {
            "color": [
             16.759954,
             35.696507,
             38.197552,
             47.786686,
             12.926103,
             43.467983
            ],
            "coloraxis": "coloraxis",
            "size": [
             16.759954,
             35.696507,
             38.197552,
             47.786686,
             12.926103,
             43.467983
            ],
            "sizemode": "area",
            "sizeref": 0.23812812479999998,
            "symbol": "circle"
           },
           "mode": "markers+text",
           "name": "",
           "scene": "scene",
           "showlegend": false,
           "text": [
            "back corner/exhaust",
            "back",
            "front-tripod",
            "door",
            "front corner",
            "front-desk"
           ],
           "type": "scatter3d",
           "x": [
            0,
            0,
            0.9,
            0.95,
            0.9,
            0.65
           ],
           "y": [
            0.85,
            0.1,
            0.45,
            0,
            1,
            0.45
           ],
           "z": [
            0.2,
            0.8,
            0.5,
            0.9,
            0.6,
            0.3
           ]
          }
         ],
         "name": "116"
        },
        {
         "data": [
          {
           "hovertemplate": "time_elapsed=117<br>x=%{x}<br>y=%{y}<br>z=%{z}<br>MassConc_2p5=%{marker.color}<br>loc=%{text}<extra></extra>",
           "legendgroup": "",
           "marker": {
            "color": [
             18.056557,
             33.260933,
             36.653648,
             48.522896,
             13.188587,
             38.180706
            ],
            "coloraxis": "coloraxis",
            "size": [
             18.056557,
             33.260933,
             36.653648,
             48.522896,
             13.188587,
             38.180706
            ],
            "sizemode": "area",
            "sizeref": 0.23812812479999998,
            "symbol": "circle"
           },
           "mode": "markers+text",
           "name": "",
           "scene": "scene",
           "showlegend": false,
           "text": [
            "back corner/exhaust",
            "back",
            "front-tripod",
            "door",
            "front corner",
            "front-desk"
           ],
           "type": "scatter3d",
           "x": [
            0,
            0,
            0.9,
            0.95,
            0.9,
            0.65
           ],
           "y": [
            0.85,
            0.1,
            0.45,
            0,
            1,
            0.45
           ],
           "z": [
            0.2,
            0.8,
            0.5,
            0.9,
            0.6,
            0.3
           ]
          }
         ],
         "name": "117"
        },
        {
         "data": [
          {
           "hovertemplate": "time_elapsed=118<br>x=%{x}<br>y=%{y}<br>z=%{z}<br>MassConc_2p5=%{marker.color}<br>loc=%{text}<extra></extra>",
           "legendgroup": "",
           "marker": {
            "color": [
             19.041231,
             31.896008,
             35.201351,
             50.198444,
             12.951262,
             37.345356
            ],
            "coloraxis": "coloraxis",
            "size": [
             19.041231,
             31.896008,
             35.201351,
             50.198444,
             12.951262,
             37.345356
            ],
            "sizemode": "area",
            "sizeref": 0.23812812479999998,
            "symbol": "circle"
           },
           "mode": "markers+text",
           "name": "",
           "scene": "scene",
           "showlegend": false,
           "text": [
            "back corner/exhaust",
            "back",
            "front-tripod",
            "door",
            "front corner",
            "front-desk"
           ],
           "type": "scatter3d",
           "x": [
            0,
            0,
            0.9,
            0.95,
            0.9,
            0.65
           ],
           "y": [
            0.85,
            0.1,
            0.45,
            0,
            1,
            0.45
           ],
           "z": [
            0.2,
            0.8,
            0.5,
            0.9,
            0.6,
            0.3
           ]
          }
         ],
         "name": "118"
        },
        {
         "data": [
          {
           "hovertemplate": "time_elapsed=119<br>x=%{x}<br>y=%{y}<br>z=%{z}<br>MassConc_2p5=%{marker.color}<br>loc=%{text}<extra></extra>",
           "legendgroup": "",
           "marker": {
            "color": [
             19.525789,
             30.800205,
             34.249725,
             49.322079,
             12.654989,
             34.944271
            ],
            "coloraxis": "coloraxis",
            "size": [
             19.525789,
             30.800205,
             34.249725,
             49.322079,
             12.654989,
             34.944271
            ],
            "sizemode": "area",
            "sizeref": 0.23812812479999998,
            "symbol": "circle"
           },
           "mode": "markers+text",
           "name": "",
           "scene": "scene",
           "showlegend": false,
           "text": [
            "back corner/exhaust",
            "back",
            "front-tripod",
            "door",
            "front corner",
            "front-desk"
           ],
           "type": "scatter3d",
           "x": [
            0,
            0,
            0.9,
            0.95,
            0.9,
            0.65
           ],
           "y": [
            0.85,
            0.1,
            0.45,
            0,
            1,
            0.45
           ],
           "z": [
            0.2,
            0.8,
            0.5,
            0.9,
            0.6,
            0.3
           ]
          }
         ],
         "name": "119"
        },
        {
         "data": [
          {
           "hovertemplate": "time_elapsed=120<br>x=%{x}<br>y=%{y}<br>z=%{z}<br>MassConc_2p5=%{marker.color}<br>loc=%{text}<extra></extra>",
           "legendgroup": "",
           "marker": {
            "color": [
             19.495626,
             29.492598,
             33.775711,
             46.460983,
             13.408356,
             33.81971
            ],
            "coloraxis": "coloraxis",
            "size": [
             19.495626,
             29.492598,
             33.775711,
             46.460983,
             13.408356,
             33.81971
            ],
            "sizemode": "area",
            "sizeref": 0.23812812479999998,
            "symbol": "circle"
           },
           "mode": "markers+text",
           "name": "",
           "scene": "scene",
           "showlegend": false,
           "text": [
            "back corner/exhaust",
            "back",
            "front-tripod",
            "door",
            "front corner",
            "front-desk"
           ],
           "type": "scatter3d",
           "x": [
            0,
            0,
            0.9,
            0.95,
            0.9,
            0.65
           ],
           "y": [
            0.85,
            0.1,
            0.45,
            0,
            1,
            0.45
           ],
           "z": [
            0.2,
            0.8,
            0.5,
            0.9,
            0.6,
            0.3
           ]
          }
         ],
         "name": "120"
        },
        {
         "data": [
          {
           "hovertemplate": "time_elapsed=121<br>x=%{x}<br>y=%{y}<br>z=%{z}<br>MassConc_2p5=%{marker.color}<br>loc=%{text}<extra></extra>",
           "legendgroup": "",
           "marker": {
            "color": [
             19.211639,
             27.451668,
             33.126709,
             43.142033,
             15.428358,
             33.863163
            ],
            "coloraxis": "coloraxis",
            "size": [
             19.211639,
             27.451668,
             33.126709,
             43.142033,
             15.428358,
             33.863163
            ],
            "sizemode": "area",
            "sizeref": 0.23812812479999998,
            "symbol": "circle"
           },
           "mode": "markers+text",
           "name": "",
           "scene": "scene",
           "showlegend": false,
           "text": [
            "back corner/exhaust",
            "back",
            "front-tripod",
            "door",
            "front corner",
            "front-desk"
           ],
           "type": "scatter3d",
           "x": [
            0,
            0,
            0.9,
            0.95,
            0.9,
            0.65
           ],
           "y": [
            0.85,
            0.1,
            0.45,
            0,
            1,
            0.45
           ],
           "z": [
            0.2,
            0.8,
            0.5,
            0.9,
            0.6,
            0.3
           ]
          }
         ],
         "name": "121"
        },
        {
         "data": [
          {
           "hovertemplate": "time_elapsed=122<br>x=%{x}<br>y=%{y}<br>z=%{z}<br>MassConc_2p5=%{marker.color}<br>loc=%{text}<extra></extra>",
           "legendgroup": "",
           "marker": {
            "color": [
             18.975079,
             26.171362,
             32.356998,
             39.905155,
             16.953724,
             34.228413
            ],
            "coloraxis": "coloraxis",
            "size": [
             18.975079,
             26.171362,
             32.356998,
             39.905155,
             16.953724,
             34.228413
            ],
            "sizemode": "area",
            "sizeref": 0.23812812479999998,
            "symbol": "circle"
           },
           "mode": "markers+text",
           "name": "",
           "scene": "scene",
           "showlegend": false,
           "text": [
            "back corner/exhaust",
            "back",
            "front-tripod",
            "door",
            "front corner",
            "front-desk"
           ],
           "type": "scatter3d",
           "x": [
            0,
            0,
            0.9,
            0.95,
            0.9,
            0.65
           ],
           "y": [
            0.85,
            0.1,
            0.45,
            0,
            1,
            0.45
           ],
           "z": [
            0.2,
            0.8,
            0.5,
            0.9,
            0.6,
            0.3
           ]
          }
         ],
         "name": "122"
        },
        {
         "data": [
          {
           "hovertemplate": "time_elapsed=123<br>x=%{x}<br>y=%{y}<br>z=%{z}<br>MassConc_2p5=%{marker.color}<br>loc=%{text}<extra></extra>",
           "legendgroup": "",
           "marker": {
            "color": [
             18.926554,
             25.173397,
             31.595646,
             35.740578,
             18.282885,
             33.628098
            ],
            "coloraxis": "coloraxis",
            "size": [
             18.926554,
             25.173397,
             31.595646,
             35.740578,
             18.282885,
             33.628098
            ],
            "sizemode": "area",
            "sizeref": 0.23812812479999998,
            "symbol": "circle"
           },
           "mode": "markers+text",
           "name": "",
           "scene": "scene",
           "showlegend": false,
           "text": [
            "back corner/exhaust",
            "back",
            "front-tripod",
            "door",
            "front corner",
            "front-desk"
           ],
           "type": "scatter3d",
           "x": [
            0,
            0,
            0.9,
            0.95,
            0.9,
            0.65
           ],
           "y": [
            0.85,
            0.1,
            0.45,
            0,
            1,
            0.45
           ],
           "z": [
            0.2,
            0.8,
            0.5,
            0.9,
            0.6,
            0.3
           ]
          }
         ],
         "name": "123"
        },
        {
         "data": [
          {
           "hovertemplate": "time_elapsed=124<br>x=%{x}<br>y=%{y}<br>z=%{z}<br>MassConc_2p5=%{marker.color}<br>loc=%{text}<extra></extra>",
           "legendgroup": "",
           "marker": {
            "color": [
             18.94207,
             24.714842,
             29.35956,
             32.056522,
             19.237282,
             32.150051
            ],
            "coloraxis": "coloraxis",
            "size": [
             18.94207,
             24.714842,
             29.35956,
             32.056522,
             19.237282,
             32.150051
            ],
            "sizemode": "area",
            "sizeref": 0.23812812479999998,
            "symbol": "circle"
           },
           "mode": "markers+text",
           "name": "",
           "scene": "scene",
           "showlegend": false,
           "text": [
            "back corner/exhaust",
            "back",
            "front-tripod",
            "door",
            "front corner",
            "front-desk"
           ],
           "type": "scatter3d",
           "x": [
            0,
            0,
            0.9,
            0.95,
            0.9,
            0.65
           ],
           "y": [
            0.85,
            0.1,
            0.45,
            0,
            1,
            0.45
           ],
           "z": [
            0.2,
            0.8,
            0.5,
            0.9,
            0.6,
            0.3
           ]
          }
         ],
         "name": "124"
        },
        {
         "data": [
          {
           "hovertemplate": "time_elapsed=125<br>x=%{x}<br>y=%{y}<br>z=%{z}<br>MassConc_2p5=%{marker.color}<br>loc=%{text}<extra></extra>",
           "legendgroup": "",
           "marker": {
            "color": [
             18.844118,
             24.141172,
             28.313499,
             29.544949,
             19.218225,
             30.293337
            ],
            "coloraxis": "coloraxis",
            "size": [
             18.844118,
             24.141172,
             28.313499,
             29.544949,
             19.218225,
             30.293337
            ],
            "sizemode": "area",
            "sizeref": 0.23812812479999998,
            "symbol": "circle"
           },
           "mode": "markers+text",
           "name": "",
           "scene": "scene",
           "showlegend": false,
           "text": [
            "back corner/exhaust",
            "back",
            "front-tripod",
            "door",
            "front corner",
            "front-desk"
           ],
           "type": "scatter3d",
           "x": [
            0,
            0,
            0.9,
            0.95,
            0.9,
            0.65
           ],
           "y": [
            0.85,
            0.1,
            0.45,
            0,
            1,
            0.45
           ],
           "z": [
            0.2,
            0.8,
            0.5,
            0.9,
            0.6,
            0.3
           ]
          }
         ],
         "name": "125"
        },
        {
         "data": [
          {
           "hovertemplate": "time_elapsed=126<br>x=%{x}<br>y=%{y}<br>z=%{z}<br>MassConc_2p5=%{marker.color}<br>loc=%{text}<extra></extra>",
           "legendgroup": "",
           "marker": {
            "color": [
             18.695267,
             23.639448,
             27.364,
             27.892931,
             19.317896,
             28.064571
            ],
            "coloraxis": "coloraxis",
            "size": [
             18.695267,
             23.639448,
             27.364,
             27.892931,
             19.317896,
             28.064571
            ],
            "sizemode": "area",
            "sizeref": 0.23812812479999998,
            "symbol": "circle"
           },
           "mode": "markers+text",
           "name": "",
           "scene": "scene",
           "showlegend": false,
           "text": [
            "back corner/exhaust",
            "back",
            "front-tripod",
            "door",
            "front corner",
            "front-desk"
           ],
           "type": "scatter3d",
           "x": [
            0,
            0,
            0.9,
            0.95,
            0.9,
            0.65
           ],
           "y": [
            0.85,
            0.1,
            0.45,
            0,
            1,
            0.45
           ],
           "z": [
            0.2,
            0.8,
            0.5,
            0.9,
            0.6,
            0.3
           ]
          }
         ],
         "name": "126"
        },
        {
         "data": [
          {
           "hovertemplate": "time_elapsed=127<br>x=%{x}<br>y=%{y}<br>z=%{z}<br>MassConc_2p5=%{marker.color}<br>loc=%{text}<extra></extra>",
           "legendgroup": "",
           "marker": {
            "color": [
             18.638899,
             23.273737,
             26.495277,
             26.551968,
             19.196383,
             26.432032
            ],
            "coloraxis": "coloraxis",
            "size": [
             18.638899,
             23.273737,
             26.495277,
             26.551968,
             19.196383,
             26.432032
            ],
            "sizemode": "area",
            "sizeref": 0.23812812479999998,
            "symbol": "circle"
           },
           "mode": "markers+text",
           "name": "",
           "scene": "scene",
           "showlegend": false,
           "text": [
            "back corner/exhaust",
            "back",
            "front-tripod",
            "door",
            "front corner",
            "front-desk"
           ],
           "type": "scatter3d",
           "x": [
            0,
            0,
            0.9,
            0.95,
            0.9,
            0.65
           ],
           "y": [
            0.85,
            0.1,
            0.45,
            0,
            1,
            0.45
           ],
           "z": [
            0.2,
            0.8,
            0.5,
            0.9,
            0.6,
            0.3
           ]
          }
         ],
         "name": "127"
        },
        {
         "data": [
          {
           "hovertemplate": "time_elapsed=128<br>x=%{x}<br>y=%{y}<br>z=%{z}<br>MassConc_2p5=%{marker.color}<br>loc=%{text}<extra></extra>",
           "legendgroup": "",
           "marker": {
            "color": [
             18.48147,
             22.926928,
             25.692404,
             25.613888,
             19.027756,
             25.030716
            ],
            "coloraxis": "coloraxis",
            "size": [
             18.48147,
             22.926928,
             25.692404,
             25.613888,
             19.027756,
             25.030716
            ],
            "sizemode": "area",
            "sizeref": 0.23812812479999998,
            "symbol": "circle"
           },
           "mode": "markers+text",
           "name": "",
           "scene": "scene",
           "showlegend": false,
           "text": [
            "back corner/exhaust",
            "back",
            "front-tripod",
            "door",
            "front corner",
            "front-desk"
           ],
           "type": "scatter3d",
           "x": [
            0,
            0,
            0.9,
            0.95,
            0.9,
            0.65
           ],
           "y": [
            0.85,
            0.1,
            0.45,
            0,
            1,
            0.45
           ],
           "z": [
            0.2,
            0.8,
            0.5,
            0.9,
            0.6,
            0.3
           ]
          }
         ],
         "name": "128"
        },
        {
         "data": [
          {
           "hovertemplate": "time_elapsed=129<br>x=%{x}<br>y=%{y}<br>z=%{z}<br>MassConc_2p5=%{marker.color}<br>loc=%{text}<extra></extra>",
           "legendgroup": "",
           "marker": {
            "color": [
             18.366337,
             22.473562,
             25.026901,
             25.050955,
             18.828165,
             23.584423
            ],
            "coloraxis": "coloraxis",
            "size": [
             18.366337,
             22.473562,
             25.026901,
             25.050955,
             18.828165,
             23.584423
            ],
            "sizemode": "area",
            "sizeref": 0.23812812479999998,
            "symbol": "circle"
           },
           "mode": "markers+text",
           "name": "",
           "scene": "scene",
           "showlegend": false,
           "text": [
            "back corner/exhaust",
            "back",
            "front-tripod",
            "door",
            "front corner",
            "front-desk"
           ],
           "type": "scatter3d",
           "x": [
            0,
            0,
            0.9,
            0.95,
            0.9,
            0.65
           ],
           "y": [
            0.85,
            0.1,
            0.45,
            0,
            1,
            0.45
           ],
           "z": [
            0.2,
            0.8,
            0.5,
            0.9,
            0.6,
            0.3
           ]
          }
         ],
         "name": "129"
        },
        {
         "data": [
          {
           "hovertemplate": "time_elapsed=130<br>x=%{x}<br>y=%{y}<br>z=%{z}<br>MassConc_2p5=%{marker.color}<br>loc=%{text}<extra></extra>",
           "legendgroup": "",
           "marker": {
            "color": [
             18.293756,
             22.116302,
             24.188969,
             24.431505,
             18.48921,
             22.017988
            ],
            "coloraxis": "coloraxis",
            "size": [
             18.293756,
             22.116302,
             24.188969,
             24.431505,
             18.48921,
             22.017988
            ],
            "sizemode": "area",
            "sizeref": 0.23812812479999998,
            "symbol": "circle"
           },
           "mode": "markers+text",
           "name": "",
           "scene": "scene",
           "showlegend": false,
           "text": [
            "back corner/exhaust",
            "back",
            "front-tripod",
            "door",
            "front corner",
            "front-desk"
           ],
           "type": "scatter3d",
           "x": [
            0,
            0,
            0.9,
            0.95,
            0.9,
            0.65
           ],
           "y": [
            0.85,
            0.1,
            0.45,
            0,
            1,
            0.45
           ],
           "z": [
            0.2,
            0.8,
            0.5,
            0.9,
            0.6,
            0.3
           ]
          }
         ],
         "name": "130"
        },
        {
         "data": [
          {
           "hovertemplate": "time_elapsed=131<br>x=%{x}<br>y=%{y}<br>z=%{z}<br>MassConc_2p5=%{marker.color}<br>loc=%{text}<extra></extra>",
           "legendgroup": "",
           "marker": {
            "color": [
             18.25009,
             21.678343,
             23.496252,
             23.968809,
             18.234255,
             21.141161
            ],
            "coloraxis": "coloraxis",
            "size": [
             18.25009,
             21.678343,
             23.496252,
             23.968809,
             18.234255,
             21.141161
            ],
            "sizemode": "area",
            "sizeref": 0.23812812479999998,
            "symbol": "circle"
           },
           "mode": "markers+text",
           "name": "",
           "scene": "scene",
           "showlegend": false,
           "text": [
            "back corner/exhaust",
            "back",
            "front-tripod",
            "door",
            "front corner",
            "front-desk"
           ],
           "type": "scatter3d",
           "x": [
            0,
            0,
            0.9,
            0.95,
            0.9,
            0.65
           ],
           "y": [
            0.85,
            0.1,
            0.45,
            0,
            1,
            0.45
           ],
           "z": [
            0.2,
            0.8,
            0.5,
            0.9,
            0.6,
            0.3
           ]
          }
         ],
         "name": "131"
        },
        {
         "data": [
          {
           "hovertemplate": "time_elapsed=132<br>x=%{x}<br>y=%{y}<br>z=%{z}<br>MassConc_2p5=%{marker.color}<br>loc=%{text}<extra></extra>",
           "legendgroup": "",
           "marker": {
            "color": [
             18.13999,
             21.073267,
             22.764538,
             23.534586,
             18.120207,
             20.485947
            ],
            "coloraxis": "coloraxis",
            "size": [
             18.13999,
             21.073267,
             22.764538,
             23.534586,
             18.120207,
             20.485947
            ],
            "sizemode": "area",
            "sizeref": 0.23812812479999998,
            "symbol": "circle"
           },
           "mode": "markers+text",
           "name": "",
           "scene": "scene",
           "showlegend": false,
           "text": [
            "back corner/exhaust",
            "back",
            "front-tripod",
            "door",
            "front corner",
            "front-desk"
           ],
           "type": "scatter3d",
           "x": [
            0,
            0,
            0.9,
            0.95,
            0.9,
            0.65
           ],
           "y": [
            0.85,
            0.1,
            0.45,
            0,
            1,
            0.45
           ],
           "z": [
            0.2,
            0.8,
            0.5,
            0.9,
            0.6,
            0.3
           ]
          }
         ],
         "name": "132"
        },
        {
         "data": [
          {
           "hovertemplate": "time_elapsed=133<br>x=%{x}<br>y=%{y}<br>z=%{z}<br>MassConc_2p5=%{marker.color}<br>loc=%{text}<extra></extra>",
           "legendgroup": "",
           "marker": {
            "color": [
             18.014053,
             20.340389,
             21.911081,
             23.173136,
             18.02376,
             19.913553
            ],
            "coloraxis": "coloraxis",
            "size": [
             18.014053,
             20.340389,
             21.911081,
             23.173136,
             18.02376,
             19.913553
            ],
            "sizemode": "area",
            "sizeref": 0.23812812479999998,
            "symbol": "circle"
           },
           "mode": "markers+text",
           "name": "",
           "scene": "scene",
           "showlegend": false,
           "text": [
            "back corner/exhaust",
            "back",
            "front-tripod",
            "door",
            "front corner",
            "front-desk"
           ],
           "type": "scatter3d",
           "x": [
            0,
            0,
            0.9,
            0.95,
            0.9,
            0.65
           ],
           "y": [
            0.85,
            0.1,
            0.45,
            0,
            1,
            0.45
           ],
           "z": [
            0.2,
            0.8,
            0.5,
            0.9,
            0.6,
            0.3
           ]
          }
         ],
         "name": "133"
        },
        {
         "data": [
          {
           "hovertemplate": "time_elapsed=134<br>x=%{x}<br>y=%{y}<br>z=%{z}<br>MassConc_2p5=%{marker.color}<br>loc=%{text}<extra></extra>",
           "legendgroup": "",
           "marker": {
            "color": [
             17.835356,
             19.622236,
             21.271273,
             22.802092,
             17.907904,
             19.589642
            ],
            "coloraxis": "coloraxis",
            "size": [
             17.835356,
             19.622236,
             21.271273,
             22.802092,
             17.907904,
             19.589642
            ],
            "sizemode": "area",
            "sizeref": 0.23812812479999998,
            "symbol": "circle"
           },
           "mode": "markers+text",
           "name": "",
           "scene": "scene",
           "showlegend": false,
           "text": [
            "back corner/exhaust",
            "back",
            "front-tripod",
            "door",
            "front corner",
            "front-desk"
           ],
           "type": "scatter3d",
           "x": [
            0,
            0,
            0.9,
            0.95,
            0.9,
            0.65
           ],
           "y": [
            0.85,
            0.1,
            0.45,
            0,
            1,
            0.45
           ],
           "z": [
            0.2,
            0.8,
            0.5,
            0.9,
            0.6,
            0.3
           ]
          }
         ],
         "name": "134"
        },
        {
         "data": [
          {
           "hovertemplate": "time_elapsed=135<br>x=%{x}<br>y=%{y}<br>z=%{z}<br>MassConc_2p5=%{marker.color}<br>loc=%{text}<extra></extra>",
           "legendgroup": "",
           "marker": {
            "color": [
             17.601219,
             18.914038,
             20.614735,
             22.451456,
             17.730585,
             19.248863
            ],
            "coloraxis": "coloraxis",
            "size": [
             17.601219,
             18.914038,
             20.614735,
             22.451456,
             17.730585,
             19.248863
            ],
            "sizemode": "area",
            "sizeref": 0.23812812479999998,
            "symbol": "circle"
           },
           "mode": "markers+text",
           "name": "",
           "scene": "scene",
           "showlegend": false,
           "text": [
            "back corner/exhaust",
            "back",
            "front-tripod",
            "door",
            "front corner",
            "front-desk"
           ],
           "type": "scatter3d",
           "x": [
            0,
            0,
            0.9,
            0.95,
            0.9,
            0.65
           ],
           "y": [
            0.85,
            0.1,
            0.45,
            0,
            1,
            0.45
           ],
           "z": [
            0.2,
            0.8,
            0.5,
            0.9,
            0.6,
            0.3
           ]
          }
         ],
         "name": "135"
        },
        {
         "data": [
          {
           "hovertemplate": "time_elapsed=136<br>x=%{x}<br>y=%{y}<br>z=%{z}<br>MassConc_2p5=%{marker.color}<br>loc=%{text}<extra></extra>",
           "legendgroup": "",
           "marker": {
            "color": [
             17.362494,
             17.794142,
             20.10696,
             22.17025,
             17.562117,
             18.934229
            ],
            "coloraxis": "coloraxis",
            "size": [
             17.362494,
             17.794142,
             20.10696,
             22.17025,
             17.562117,
             18.934229
            ],
            "sizemode": "area",
            "sizeref": 0.23812812479999998,
            "symbol": "circle"
           },
           "mode": "markers+text",
           "name": "",
           "scene": "scene",
           "showlegend": false,
           "text": [
            "back corner/exhaust",
            "back",
            "front-tripod",
            "door",
            "front corner",
            "front-desk"
           ],
           "type": "scatter3d",
           "x": [
            0,
            0,
            0.9,
            0.95,
            0.9,
            0.65
           ],
           "y": [
            0.85,
            0.1,
            0.45,
            0,
            1,
            0.45
           ],
           "z": [
            0.2,
            0.8,
            0.5,
            0.9,
            0.6,
            0.3
           ]
          }
         ],
         "name": "136"
        },
        {
         "data": [
          {
           "hovertemplate": "time_elapsed=137<br>x=%{x}<br>y=%{y}<br>z=%{z}<br>MassConc_2p5=%{marker.color}<br>loc=%{text}<extra></extra>",
           "legendgroup": "",
           "marker": {
            "color": [
             17.089958,
             16.752256,
             19.630678,
             21.881718,
             17.378084,
             18.697121
            ],
            "coloraxis": "coloraxis",
            "size": [
             17.089958,
             16.752256,
             19.630678,
             21.881718,
             17.378084,
             18.697121
            ],
            "sizemode": "area",
            "sizeref": 0.23812812479999998,
            "symbol": "circle"
           },
           "mode": "markers+text",
           "name": "",
           "scene": "scene",
           "showlegend": false,
           "text": [
            "back corner/exhaust",
            "back",
            "front-tripod",
            "door",
            "front corner",
            "front-desk"
           ],
           "type": "scatter3d",
           "x": [
            0,
            0,
            0.9,
            0.95,
            0.9,
            0.65
           ],
           "y": [
            0.85,
            0.1,
            0.45,
            0,
            1,
            0.45
           ],
           "z": [
            0.2,
            0.8,
            0.5,
            0.9,
            0.6,
            0.3
           ]
          }
         ],
         "name": "137"
        },
        {
         "data": [
          {
           "hovertemplate": "time_elapsed=138<br>x=%{x}<br>y=%{y}<br>z=%{z}<br>MassConc_2p5=%{marker.color}<br>loc=%{text}<extra></extra>",
           "legendgroup": "",
           "marker": {
            "color": [
             16.67988,
             15.627466,
             19.22835,
             21.526577,
             17.225695,
             18.4622
            ],
            "coloraxis": "coloraxis",
            "size": [
             16.67988,
             15.627466,
             19.22835,
             21.526577,
             17.225695,
             18.4622
            ],
            "sizemode": "area",
            "sizeref": 0.23812812479999998,
            "symbol": "circle"
           },
           "mode": "markers+text",
           "name": "",
           "scene": "scene",
           "showlegend": false,
           "text": [
            "back corner/exhaust",
            "back",
            "front-tripod",
            "door",
            "front corner",
            "front-desk"
           ],
           "type": "scatter3d",
           "x": [
            0,
            0,
            0.9,
            0.95,
            0.9,
            0.65
           ],
           "y": [
            0.85,
            0.1,
            0.45,
            0,
            1,
            0.45
           ],
           "z": [
            0.2,
            0.8,
            0.5,
            0.9,
            0.6,
            0.3
           ]
          }
         ],
         "name": "138"
        },
        {
         "data": [
          {
           "hovertemplate": "time_elapsed=139<br>x=%{x}<br>y=%{y}<br>z=%{z}<br>MassConc_2p5=%{marker.color}<br>loc=%{text}<extra></extra>",
           "legendgroup": "",
           "marker": {
            "color": [
             16.150143,
             14.678081,
             18.686556,
             21.169209,
             17.049198,
             18.187582
            ],
            "coloraxis": "coloraxis",
            "size": [
             16.150143,
             14.678081,
             18.686556,
             21.169209,
             17.049198,
             18.187582
            ],
            "sizemode": "area",
            "sizeref": 0.23812812479999998,
            "symbol": "circle"
           },
           "mode": "markers+text",
           "name": "",
           "scene": "scene",
           "showlegend": false,
           "text": [
            "back corner/exhaust",
            "back",
            "front-tripod",
            "door",
            "front corner",
            "front-desk"
           ],
           "type": "scatter3d",
           "x": [
            0,
            0,
            0.9,
            0.95,
            0.9,
            0.65
           ],
           "y": [
            0.85,
            0.1,
            0.45,
            0,
            1,
            0.45
           ],
           "z": [
            0.2,
            0.8,
            0.5,
            0.9,
            0.6,
            0.3
           ]
          }
         ],
         "name": "139"
        },
        {
         "data": [
          {
           "hovertemplate": "time_elapsed=140<br>x=%{x}<br>y=%{y}<br>z=%{z}<br>MassConc_2p5=%{marker.color}<br>loc=%{text}<extra></extra>",
           "legendgroup": "",
           "marker": {
            "color": [
             15.667604,
             13.76884,
             18.217211,
             20.903934,
             16.840124,
             17.925152
            ],
            "coloraxis": "coloraxis",
            "size": [
             15.667604,
             13.76884,
             18.217211,
             20.903934,
             16.840124,
             17.925152
            ],
            "sizemode": "area",
            "sizeref": 0.23812812479999998,
            "symbol": "circle"
           },
           "mode": "markers+text",
           "name": "",
           "scene": "scene",
           "showlegend": false,
           "text": [
            "back corner/exhaust",
            "back",
            "front-tripod",
            "door",
            "front corner",
            "front-desk"
           ],
           "type": "scatter3d",
           "x": [
            0,
            0,
            0.9,
            0.95,
            0.9,
            0.65
           ],
           "y": [
            0.85,
            0.1,
            0.45,
            0,
            1,
            0.45
           ],
           "z": [
            0.2,
            0.8,
            0.5,
            0.9,
            0.6,
            0.3
           ]
          }
         ],
         "name": "140"
        },
        {
         "data": [
          {
           "hovertemplate": "time_elapsed=141<br>x=%{x}<br>y=%{y}<br>z=%{z}<br>MassConc_2p5=%{marker.color}<br>loc=%{text}<extra></extra>",
           "legendgroup": "",
           "marker": {
            "color": [
             15.245755,
             13.219413,
             17.795506,
             20.573317,
             16.686125,
             17.696838
            ],
            "coloraxis": "coloraxis",
            "size": [
             15.245755,
             13.219413,
             17.795506,
             20.573317,
             16.686125,
             17.696838
            ],
            "sizemode": "area",
            "sizeref": 0.23812812479999998,
            "symbol": "circle"
           },
           "mode": "markers+text",
           "name": "",
           "scene": "scene",
           "showlegend": false,
           "text": [
            "back corner/exhaust",
            "back",
            "front-tripod",
            "door",
            "front corner",
            "front-desk"
           ],
           "type": "scatter3d",
           "x": [
            0,
            0,
            0.9,
            0.95,
            0.9,
            0.65
           ],
           "y": [
            0.85,
            0.1,
            0.45,
            0,
            1,
            0.45
           ],
           "z": [
            0.2,
            0.8,
            0.5,
            0.9,
            0.6,
            0.3
           ]
          }
         ],
         "name": "141"
        },
        {
         "data": [
          {
           "hovertemplate": "time_elapsed=142<br>x=%{x}<br>y=%{y}<br>z=%{z}<br>MassConc_2p5=%{marker.color}<br>loc=%{text}<extra></extra>",
           "legendgroup": "",
           "marker": {
            "color": [
             14.775854,
             12.858212,
             17.305433,
             20.281946,
             16.472816,
             17.426661
            ],
            "coloraxis": "coloraxis",
            "size": [
             14.775854,
             12.858212,
             17.305433,
             20.281946,
             16.472816,
             17.426661
            ],
            "sizemode": "area",
            "sizeref": 0.23812812479999998,
            "symbol": "circle"
           },
           "mode": "markers+text",
           "name": "",
           "scene": "scene",
           "showlegend": false,
           "text": [
            "back corner/exhaust",
            "back",
            "front-tripod",
            "door",
            "front corner",
            "front-desk"
           ],
           "type": "scatter3d",
           "x": [
            0,
            0,
            0.9,
            0.95,
            0.9,
            0.65
           ],
           "y": [
            0.85,
            0.1,
            0.45,
            0,
            1,
            0.45
           ],
           "z": [
            0.2,
            0.8,
            0.5,
            0.9,
            0.6,
            0.3
           ]
          }
         ],
         "name": "142"
        },
        {
         "data": [
          {
           "hovertemplate": "time_elapsed=143<br>x=%{x}<br>y=%{y}<br>z=%{z}<br>MassConc_2p5=%{marker.color}<br>loc=%{text}<extra></extra>",
           "legendgroup": "",
           "marker": {
            "color": [
             14.182562,
             12.537268,
             16.935263,
             19.943886,
             16.25074,
             17.081579
            ],
            "coloraxis": "coloraxis",
            "size": [
             14.182562,
             12.537268,
             16.935263,
             19.943886,
             16.25074,
             17.081579
            ],
            "sizemode": "area",
            "sizeref": 0.23812812479999998,
            "symbol": "circle"
           },
           "mode": "markers+text",
           "name": "",
           "scene": "scene",
           "showlegend": false,
           "text": [
            "back corner/exhaust",
            "back",
            "front-tripod",
            "door",
            "front corner",
            "front-desk"
           ],
           "type": "scatter3d",
           "x": [
            0,
            0,
            0.9,
            0.95,
            0.9,
            0.65
           ],
           "y": [
            0.85,
            0.1,
            0.45,
            0,
            1,
            0.45
           ],
           "z": [
            0.2,
            0.8,
            0.5,
            0.9,
            0.6,
            0.3
           ]
          }
         ],
         "name": "143"
        },
        {
         "data": [
          {
           "hovertemplate": "time_elapsed=144<br>x=%{x}<br>y=%{y}<br>z=%{z}<br>MassConc_2p5=%{marker.color}<br>loc=%{text}<extra></extra>",
           "legendgroup": "",
           "marker": {
            "color": [
             13.78675,
             12.203233,
             16.649677,
             19.590322,
             15.995798,
             16.683031
            ],
            "coloraxis": "coloraxis",
            "size": [
             13.78675,
             12.203233,
             16.649677,
             19.590322,
             15.995798,
             16.683031
            ],
            "sizemode": "area",
            "sizeref": 0.23812812479999998,
            "symbol": "circle"
           },
           "mode": "markers+text",
           "name": "",
           "scene": "scene",
           "showlegend": false,
           "text": [
            "back corner/exhaust",
            "back",
            "front-tripod",
            "door",
            "front corner",
            "front-desk"
           ],
           "type": "scatter3d",
           "x": [
            0,
            0,
            0.9,
            0.95,
            0.9,
            0.65
           ],
           "y": [
            0.85,
            0.1,
            0.45,
            0,
            1,
            0.45
           ],
           "z": [
            0.2,
            0.8,
            0.5,
            0.9,
            0.6,
            0.3
           ]
          }
         ],
         "name": "144"
        },
        {
         "data": [
          {
           "hovertemplate": "time_elapsed=145<br>x=%{x}<br>y=%{y}<br>z=%{z}<br>MassConc_2p5=%{marker.color}<br>loc=%{text}<extra></extra>",
           "legendgroup": "",
           "marker": {
            "color": [
             13.417609,
             11.929744,
             16.331129,
             19.044073,
             15.769469,
             16.290236
            ],
            "coloraxis": "coloraxis",
            "size": [
             13.417609,
             11.929744,
             16.331129,
             19.044073,
             15.769469,
             16.290236
            ],
            "sizemode": "area",
            "sizeref": 0.23812812479999998,
            "symbol": "circle"
           },
           "mode": "markers+text",
           "name": "",
           "scene": "scene",
           "showlegend": false,
           "text": [
            "back corner/exhaust",
            "back",
            "front-tripod",
            "door",
            "front corner",
            "front-desk"
           ],
           "type": "scatter3d",
           "x": [
            0,
            0,
            0.9,
            0.95,
            0.9,
            0.65
           ],
           "y": [
            0.85,
            0.1,
            0.45,
            0,
            1,
            0.45
           ],
           "z": [
            0.2,
            0.8,
            0.5,
            0.9,
            0.6,
            0.3
           ]
          }
         ],
         "name": "145"
        },
        {
         "data": [
          {
           "hovertemplate": "time_elapsed=146<br>x=%{x}<br>y=%{y}<br>z=%{z}<br>MassConc_2p5=%{marker.color}<br>loc=%{text}<extra></extra>",
           "legendgroup": "",
           "marker": {
            "color": [
             13.115323,
             11.659557,
             15.993944,
             18.51203,
             15.448497,
             15.779866
            ],
            "coloraxis": "coloraxis",
            "size": [
             13.115323,
             11.659557,
             15.993944,
             18.51203,
             15.448497,
             15.779866
            ],
            "sizemode": "area",
            "sizeref": 0.23812812479999998,
            "symbol": "circle"
           },
           "mode": "markers+text",
           "name": "",
           "scene": "scene",
           "showlegend": false,
           "text": [
            "back corner/exhaust",
            "back",
            "front-tripod",
            "door",
            "front corner",
            "front-desk"
           ],
           "type": "scatter3d",
           "x": [
            0,
            0,
            0.9,
            0.95,
            0.9,
            0.65
           ],
           "y": [
            0.85,
            0.1,
            0.45,
            0,
            1,
            0.45
           ],
           "z": [
            0.2,
            0.8,
            0.5,
            0.9,
            0.6,
            0.3
           ]
          }
         ],
         "name": "146"
        },
        {
         "data": [
          {
           "hovertemplate": "time_elapsed=147<br>x=%{x}<br>y=%{y}<br>z=%{z}<br>MassConc_2p5=%{marker.color}<br>loc=%{text}<extra></extra>",
           "legendgroup": "",
           "marker": {
            "color": [
             12.775407,
             11.274568,
             15.653513,
             17.931789,
             15.066199,
             15.371296
            ],
            "coloraxis": "coloraxis",
            "size": [
             12.775407,
             11.274568,
             15.653513,
             17.931789,
             15.066199,
             15.371296
            ],
            "sizemode": "area",
            "sizeref": 0.23812812479999998,
            "symbol": "circle"
           },
           "mode": "markers+text",
           "name": "",
           "scene": "scene",
           "showlegend": false,
           "text": [
            "back corner/exhaust",
            "back",
            "front-tripod",
            "door",
            "front corner",
            "front-desk"
           ],
           "type": "scatter3d",
           "x": [
            0,
            0,
            0.9,
            0.95,
            0.9,
            0.65
           ],
           "y": [
            0.85,
            0.1,
            0.45,
            0,
            1,
            0.45
           ],
           "z": [
            0.2,
            0.8,
            0.5,
            0.9,
            0.6,
            0.3
           ]
          }
         ],
         "name": "147"
        },
        {
         "data": [
          {
           "hovertemplate": "time_elapsed=148<br>x=%{x}<br>y=%{y}<br>z=%{z}<br>MassConc_2p5=%{marker.color}<br>loc=%{text}<extra></extra>",
           "legendgroup": "",
           "marker": {
            "color": [
             12.449861,
             10.848787,
             15.334363,
             17.4699,
             14.475766,
             14.993097
            ],
            "coloraxis": "coloraxis",
            "size": [
             12.449861,
             10.848787,
             15.334363,
             17.4699,
             14.475766,
             14.993097
            ],
            "sizemode": "area",
            "sizeref": 0.23812812479999998,
            "symbol": "circle"
           },
           "mode": "markers+text",
           "name": "",
           "scene": "scene",
           "showlegend": false,
           "text": [
            "back corner/exhaust",
            "back",
            "front-tripod",
            "door",
            "front corner",
            "front-desk"
           ],
           "type": "scatter3d",
           "x": [
            0,
            0,
            0.9,
            0.95,
            0.9,
            0.65
           ],
           "y": [
            0.85,
            0.1,
            0.45,
            0,
            1,
            0.45
           ],
           "z": [
            0.2,
            0.8,
            0.5,
            0.9,
            0.6,
            0.3
           ]
          }
         ],
         "name": "148"
        },
        {
         "data": [
          {
           "hovertemplate": "time_elapsed=149<br>x=%{x}<br>y=%{y}<br>z=%{z}<br>MassConc_2p5=%{marker.color}<br>loc=%{text}<extra></extra>",
           "legendgroup": "",
           "marker": {
            "color": [
             12.190169,
             10.488794,
             14.96909,
             16.940222,
             13.973142,
             14.468613
            ],
            "coloraxis": "coloraxis",
            "size": [
             12.190169,
             10.488794,
             14.96909,
             16.940222,
             13.973142,
             14.468613
            ],
            "sizemode": "area",
            "sizeref": 0.23812812479999998,
            "symbol": "circle"
           },
           "mode": "markers+text",
           "name": "",
           "scene": "scene",
           "showlegend": false,
           "text": [
            "back corner/exhaust",
            "back",
            "front-tripod",
            "door",
            "front corner",
            "front-desk"
           ],
           "type": "scatter3d",
           "x": [
            0,
            0,
            0.9,
            0.95,
            0.9,
            0.65
           ],
           "y": [
            0.85,
            0.1,
            0.45,
            0,
            1,
            0.45
           ],
           "z": [
            0.2,
            0.8,
            0.5,
            0.9,
            0.6,
            0.3
           ]
          }
         ],
         "name": "149"
        },
        {
         "data": [
          {
           "hovertemplate": "time_elapsed=150<br>x=%{x}<br>y=%{y}<br>z=%{z}<br>MassConc_2p5=%{marker.color}<br>loc=%{text}<extra></extra>",
           "legendgroup": "",
           "marker": {
            "color": [
             11.917847,
             10.206671,
             14.544047,
             16.47294,
             13.476846,
             14.079304
            ],
            "coloraxis": "coloraxis",
            "size": [
             11.917847,
             10.206671,
             14.544047,
             16.47294,
             13.476846,
             14.079304
            ],
            "sizemode": "area",
            "sizeref": 0.23812812479999998,
            "symbol": "circle"
           },
           "mode": "markers+text",
           "name": "",
           "scene": "scene",
           "showlegend": false,
           "text": [
            "back corner/exhaust",
            "back",
            "front-tripod",
            "door",
            "front corner",
            "front-desk"
           ],
           "type": "scatter3d",
           "x": [
            0,
            0,
            0.9,
            0.95,
            0.9,
            0.65
           ],
           "y": [
            0.85,
            0.1,
            0.45,
            0,
            1,
            0.45
           ],
           "z": [
            0.2,
            0.8,
            0.5,
            0.9,
            0.6,
            0.3
           ]
          }
         ],
         "name": "150"
        },
        {
         "data": [
          {
           "hovertemplate": "time_elapsed=151<br>x=%{x}<br>y=%{y}<br>z=%{z}<br>MassConc_2p5=%{marker.color}<br>loc=%{text}<extra></extra>",
           "legendgroup": "",
           "marker": {
            "color": [
             11.656032,
             9.89303,
             14.104223,
             15.972221,
             12.91217,
             13.664436
            ],
            "coloraxis": "coloraxis",
            "size": [
             11.656032,
             9.89303,
             14.104223,
             15.972221,
             12.91217,
             13.664436
            ],
            "sizemode": "area",
            "sizeref": 0.23812812479999998,
            "symbol": "circle"
           },
           "mode": "markers+text",
           "name": "",
           "scene": "scene",
           "showlegend": false,
           "text": [
            "back corner/exhaust",
            "back",
            "front-tripod",
            "door",
            "front corner",
            "front-desk"
           ],
           "type": "scatter3d",
           "x": [
            0,
            0,
            0.9,
            0.95,
            0.9,
            0.65
           ],
           "y": [
            0.85,
            0.1,
            0.45,
            0,
            1,
            0.45
           ],
           "z": [
            0.2,
            0.8,
            0.5,
            0.9,
            0.6,
            0.3
           ]
          }
         ],
         "name": "151"
        },
        {
         "data": [
          {
           "hovertemplate": "time_elapsed=152<br>x=%{x}<br>y=%{y}<br>z=%{z}<br>MassConc_2p5=%{marker.color}<br>loc=%{text}<extra></extra>",
           "legendgroup": "",
           "marker": {
            "color": [
             11.347322,
             9.561026,
             13.542209,
             15.400722,
             12.420074,
             13.256967
            ],
            "coloraxis": "coloraxis",
            "size": [
             11.347322,
             9.561026,
             13.542209,
             15.400722,
             12.420074,
             13.256967
            ],
            "sizemode": "area",
            "sizeref": 0.23812812479999998,
            "symbol": "circle"
           },
           "mode": "markers+text",
           "name": "",
           "scene": "scene",
           "showlegend": false,
           "text": [
            "back corner/exhaust",
            "back",
            "front-tripod",
            "door",
            "front corner",
            "front-desk"
           ],
           "type": "scatter3d",
           "x": [
            0,
            0,
            0.9,
            0.95,
            0.9,
            0.65
           ],
           "y": [
            0.85,
            0.1,
            0.45,
            0,
            1,
            0.45
           ],
           "z": [
            0.2,
            0.8,
            0.5,
            0.9,
            0.6,
            0.3
           ]
          }
         ],
         "name": "152"
        },
        {
         "data": [
          {
           "hovertemplate": "time_elapsed=153<br>x=%{x}<br>y=%{y}<br>z=%{z}<br>MassConc_2p5=%{marker.color}<br>loc=%{text}<extra></extra>",
           "legendgroup": "",
           "marker": {
            "color": [
             11.085315,
             9.318348,
             13.071679,
             14.819478,
             11.947281,
             12.811452
            ],
            "coloraxis": "coloraxis",
            "size": [
             11.085315,
             9.318348,
             13.071679,
             14.819478,
             11.947281,
             12.811452
            ],
            "sizemode": "area",
            "sizeref": 0.23812812479999998,
            "symbol": "circle"
           },
           "mode": "markers+text",
           "name": "",
           "scene": "scene",
           "showlegend": false,
           "text": [
            "back corner/exhaust",
            "back",
            "front-tripod",
            "door",
            "front corner",
            "front-desk"
           ],
           "type": "scatter3d",
           "x": [
            0,
            0,
            0.9,
            0.95,
            0.9,
            0.65
           ],
           "y": [
            0.85,
            0.1,
            0.45,
            0,
            1,
            0.45
           ],
           "z": [
            0.2,
            0.8,
            0.5,
            0.9,
            0.6,
            0.3
           ]
          }
         ],
         "name": "153"
        },
        {
         "data": [
          {
           "hovertemplate": "time_elapsed=154<br>x=%{x}<br>y=%{y}<br>z=%{z}<br>MassConc_2p5=%{marker.color}<br>loc=%{text}<extra></extra>",
           "legendgroup": "",
           "marker": {
            "color": [
             10.798058,
             9.088009,
             12.605169,
             14.37549,
             11.628754,
             12.323099
            ],
            "coloraxis": "coloraxis",
            "size": [
             10.798058,
             9.088009,
             12.605169,
             14.37549,
             11.628754,
             12.323099
            ],
            "sizemode": "area",
            "sizeref": 0.23812812479999998,
            "symbol": "circle"
           },
           "mode": "markers+text",
           "name": "",
           "scene": "scene",
           "showlegend": false,
           "text": [
            "back corner/exhaust",
            "back",
            "front-tripod",
            "door",
            "front corner",
            "front-desk"
           ],
           "type": "scatter3d",
           "x": [
            0,
            0,
            0.9,
            0.95,
            0.9,
            0.65
           ],
           "y": [
            0.85,
            0.1,
            0.45,
            0,
            1,
            0.45
           ],
           "z": [
            0.2,
            0.8,
            0.5,
            0.9,
            0.6,
            0.3
           ]
          }
         ],
         "name": "154"
        },
        {
         "data": [
          {
           "hovertemplate": "time_elapsed=155<br>x=%{x}<br>y=%{y}<br>z=%{z}<br>MassConc_2p5=%{marker.color}<br>loc=%{text}<extra></extra>",
           "legendgroup": "",
           "marker": {
            "color": [
             10.494941,
             8.860579,
             12.099501,
             14.024068,
             11.287173,
             11.839249
            ],
            "coloraxis": "coloraxis",
            "size": [
             10.494941,
             8.860579,
             12.099501,
             14.024068,
             11.287173,
             11.839249
            ],
            "sizemode": "area",
            "sizeref": 0.23812812479999998,
            "symbol": "circle"
           },
           "mode": "markers+text",
           "name": "",
           "scene": "scene",
           "showlegend": false,
           "text": [
            "back corner/exhaust",
            "back",
            "front-tripod",
            "door",
            "front corner",
            "front-desk"
           ],
           "type": "scatter3d",
           "x": [
            0,
            0,
            0.9,
            0.95,
            0.9,
            0.65
           ],
           "y": [
            0.85,
            0.1,
            0.45,
            0,
            1,
            0.45
           ],
           "z": [
            0.2,
            0.8,
            0.5,
            0.9,
            0.6,
            0.3
           ]
          }
         ],
         "name": "155"
        },
        {
         "data": [
          {
           "hovertemplate": "time_elapsed=156<br>x=%{x}<br>y=%{y}<br>z=%{z}<br>MassConc_2p5=%{marker.color}<br>loc=%{text}<extra></extra>",
           "legendgroup": "",
           "marker": {
            "color": [
             10.114889,
             8.623722,
             11.540847,
             13.652986,
             10.884836,
             11.347265
            ],
            "coloraxis": "coloraxis",
            "size": [
             10.114889,
             8.623722,
             11.540847,
             13.652986,
             10.884836,
             11.347265
            ],
            "sizemode": "area",
            "sizeref": 0.23812812479999998,
            "symbol": "circle"
           },
           "mode": "markers+text",
           "name": "",
           "scene": "scene",
           "showlegend": false,
           "text": [
            "back corner/exhaust",
            "back",
            "front-tripod",
            "door",
            "front corner",
            "front-desk"
           ],
           "type": "scatter3d",
           "x": [
            0,
            0,
            0.9,
            0.95,
            0.9,
            0.65
           ],
           "y": [
            0.85,
            0.1,
            0.45,
            0,
            1,
            0.45
           ],
           "z": [
            0.2,
            0.8,
            0.5,
            0.9,
            0.6,
            0.3
           ]
          }
         ],
         "name": "156"
        },
        {
         "data": [
          {
           "hovertemplate": "time_elapsed=157<br>x=%{x}<br>y=%{y}<br>z=%{z}<br>MassConc_2p5=%{marker.color}<br>loc=%{text}<extra></extra>",
           "legendgroup": "",
           "marker": {
            "color": [
             9.788514,
             8.403008,
             10.988126,
             13.295873,
             10.49509,
             10.908857
            ],
            "coloraxis": "coloraxis",
            "size": [
             9.788514,
             8.403008,
             10.988126,
             13.295873,
             10.49509,
             10.908857
            ],
            "sizemode": "area",
            "sizeref": 0.23812812479999998,
            "symbol": "circle"
           },
           "mode": "markers+text",
           "name": "",
           "scene": "scene",
           "showlegend": false,
           "text": [
            "back corner/exhaust",
            "back",
            "front-tripod",
            "door",
            "front corner",
            "front-desk"
           ],
           "type": "scatter3d",
           "x": [
            0,
            0,
            0.9,
            0.95,
            0.9,
            0.65
           ],
           "y": [
            0.85,
            0.1,
            0.45,
            0,
            1,
            0.45
           ],
           "z": [
            0.2,
            0.8,
            0.5,
            0.9,
            0.6,
            0.3
           ]
          }
         ],
         "name": "157"
        },
        {
         "data": [
          {
           "hovertemplate": "time_elapsed=158<br>x=%{x}<br>y=%{y}<br>z=%{z}<br>MassConc_2p5=%{marker.color}<br>loc=%{text}<extra></extra>",
           "legendgroup": "",
           "marker": {
            "color": [
             9.490787,
             8.183282,
             10.532987,
             12.985841,
             10.040441,
             10.558822
            ],
            "coloraxis": "coloraxis",
            "size": [
             9.490787,
             8.183282,
             10.532987,
             12.985841,
             10.040441,
             10.558822
            ],
            "sizemode": "area",
            "sizeref": 0.23812812479999998,
            "symbol": "circle"
           },
           "mode": "markers+text",
           "name": "",
           "scene": "scene",
           "showlegend": false,
           "text": [
            "back corner/exhaust",
            "back",
            "front-tripod",
            "door",
            "front corner",
            "front-desk"
           ],
           "type": "scatter3d",
           "x": [
            0,
            0,
            0.9,
            0.95,
            0.9,
            0.65
           ],
           "y": [
            0.85,
            0.1,
            0.45,
            0,
            1,
            0.45
           ],
           "z": [
            0.2,
            0.8,
            0.5,
            0.9,
            0.6,
            0.3
           ]
          }
         ],
         "name": "158"
        },
        {
         "data": [
          {
           "hovertemplate": "time_elapsed=159<br>x=%{x}<br>y=%{y}<br>z=%{z}<br>MassConc_2p5=%{marker.color}<br>loc=%{text}<extra></extra>",
           "legendgroup": "",
           "marker": {
            "color": [
             9.198107,
             7.990762,
             10.153474,
             12.697104,
             9.737283,
             10.274794
            ],
            "coloraxis": "coloraxis",
            "size": [
             9.198107,
             7.990762,
             10.153474,
             12.697104,
             9.737283,
             10.274794
            ],
            "sizemode": "area",
            "sizeref": 0.23812812479999998,
            "symbol": "circle"
           },
           "mode": "markers+text",
           "name": "",
           "scene": "scene",
           "showlegend": false,
           "text": [
            "back corner/exhaust",
            "back",
            "front-tripod",
            "door",
            "front corner",
            "front-desk"
           ],
           "type": "scatter3d",
           "x": [
            0,
            0,
            0.9,
            0.95,
            0.9,
            0.65
           ],
           "y": [
            0.85,
            0.1,
            0.45,
            0,
            1,
            0.45
           ],
           "z": [
            0.2,
            0.8,
            0.5,
            0.9,
            0.6,
            0.3
           ]
          }
         ],
         "name": "159"
        },
        {
         "data": [
          {
           "hovertemplate": "time_elapsed=160<br>x=%{x}<br>y=%{y}<br>z=%{z}<br>MassConc_2p5=%{marker.color}<br>loc=%{text}<extra></extra>",
           "legendgroup": "",
           "marker": {
            "color": [
             8.930273,
             7.789872,
             9.864568,
             12.397653,
             9.402687,
             9.888406
            ],
            "coloraxis": "coloraxis",
            "size": [
             8.930273,
             7.789872,
             9.864568,
             12.397653,
             9.402687,
             9.888406
            ],
            "sizemode": "area",
            "sizeref": 0.23812812479999998,
            "symbol": "circle"
           },
           "mode": "markers+text",
           "name": "",
           "scene": "scene",
           "showlegend": false,
           "text": [
            "back corner/exhaust",
            "back",
            "front-tripod",
            "door",
            "front corner",
            "front-desk"
           ],
           "type": "scatter3d",
           "x": [
            0,
            0,
            0.9,
            0.95,
            0.9,
            0.65
           ],
           "y": [
            0.85,
            0.1,
            0.45,
            0,
            1,
            0.45
           ],
           "z": [
            0.2,
            0.8,
            0.5,
            0.9,
            0.6,
            0.3
           ]
          }
         ],
         "name": "160"
        },
        {
         "data": [
          {
           "hovertemplate": "time_elapsed=161<br>x=%{x}<br>y=%{y}<br>z=%{z}<br>MassConc_2p5=%{marker.color}<br>loc=%{text}<extra></extra>",
           "legendgroup": "",
           "marker": {
            "color": [
             8.692653,
             7.583615,
             9.554371,
             12.06679,
             9.092562,
             9.573725
            ],
            "coloraxis": "coloraxis",
            "size": [
             8.692653,
             7.583615,
             9.554371,
             12.06679,
             9.092562,
             9.573725
            ],
            "sizemode": "area",
            "sizeref": 0.23812812479999998,
            "symbol": "circle"
           },
           "mode": "markers+text",
           "name": "",
           "scene": "scene",
           "showlegend": false,
           "text": [
            "back corner/exhaust",
            "back",
            "front-tripod",
            "door",
            "front corner",
            "front-desk"
           ],
           "type": "scatter3d",
           "x": [
            0,
            0,
            0.9,
            0.95,
            0.9,
            0.65
           ],
           "y": [
            0.85,
            0.1,
            0.45,
            0,
            1,
            0.45
           ],
           "z": [
            0.2,
            0.8,
            0.5,
            0.9,
            0.6,
            0.3
           ]
          }
         ],
         "name": "161"
        },
        {
         "data": [
          {
           "hovertemplate": "time_elapsed=162<br>x=%{x}<br>y=%{y}<br>z=%{z}<br>MassConc_2p5=%{marker.color}<br>loc=%{text}<extra></extra>",
           "legendgroup": "",
           "marker": {
            "color": [
             8.458309,
             7.375048,
             9.197524,
             11.661083,
             8.804935,
             9.287613
            ],
            "coloraxis": "coloraxis",
            "size": [
             8.458309,
             7.375048,
             9.197524,
             11.661083,
             8.804935,
             9.287613
            ],
            "sizemode": "area",
            "sizeref": 0.23812812479999998,
            "symbol": "circle"
           },
           "mode": "markers+text",
           "name": "",
           "scene": "scene",
           "showlegend": false,
           "text": [
            "back corner/exhaust",
            "back",
            "front-tripod",
            "door",
            "front corner",
            "front-desk"
           ],
           "type": "scatter3d",
           "x": [
            0,
            0,
            0.9,
            0.95,
            0.9,
            0.65
           ],
           "y": [
            0.85,
            0.1,
            0.45,
            0,
            1,
            0.45
           ],
           "z": [
            0.2,
            0.8,
            0.5,
            0.9,
            0.6,
            0.3
           ]
          }
         ],
         "name": "162"
        },
        {
         "data": [
          {
           "hovertemplate": "time_elapsed=163<br>x=%{x}<br>y=%{y}<br>z=%{z}<br>MassConc_2p5=%{marker.color}<br>loc=%{text}<extra></extra>",
           "legendgroup": "",
           "marker": {
            "color": [
             8.227956,
             7.180491,
             8.878216,
             11.223932,
             8.550946,
             9.041114
            ],
            "coloraxis": "coloraxis",
            "size": [
             8.227956,
             7.180491,
             8.878216,
             11.223932,
             8.550946,
             9.041114
            ],
            "sizemode": "area",
            "sizeref": 0.23812812479999998,
            "symbol": "circle"
           },
           "mode": "markers+text",
           "name": "",
           "scene": "scene",
           "showlegend": false,
           "text": [
            "back corner/exhaust",
            "back",
            "front-tripod",
            "door",
            "front corner",
            "front-desk"
           ],
           "type": "scatter3d",
           "x": [
            0,
            0,
            0.9,
            0.95,
            0.9,
            0.65
           ],
           "y": [
            0.85,
            0.1,
            0.45,
            0,
            1,
            0.45
           ],
           "z": [
            0.2,
            0.8,
            0.5,
            0.9,
            0.6,
            0.3
           ]
          }
         ],
         "name": "163"
        },
        {
         "data": [
          {
           "hovertemplate": "time_elapsed=164<br>x=%{x}<br>y=%{y}<br>z=%{z}<br>MassConc_2p5=%{marker.color}<br>loc=%{text}<extra></extra>",
           "legendgroup": "",
           "marker": {
            "color": [
             7.97722,
             6.977159,
             8.587902,
             10.748132,
             8.323648,
             8.778475
            ],
            "coloraxis": "coloraxis",
            "size": [
             7.97722,
             6.977159,
             8.587902,
             10.748132,
             8.323648,
             8.778475
            ],
            "sizemode": "area",
            "sizeref": 0.23812812479999998,
            "symbol": "circle"
           },
           "mode": "markers+text",
           "name": "",
           "scene": "scene",
           "showlegend": false,
           "text": [
            "back corner/exhaust",
            "back",
            "front-tripod",
            "door",
            "front corner",
            "front-desk"
           ],
           "type": "scatter3d",
           "x": [
            0,
            0,
            0.9,
            0.95,
            0.9,
            0.65
           ],
           "y": [
            0.85,
            0.1,
            0.45,
            0,
            1,
            0.45
           ],
           "z": [
            0.2,
            0.8,
            0.5,
            0.9,
            0.6,
            0.3
           ]
          }
         ],
         "name": "164"
        },
        {
         "data": [
          {
           "hovertemplate": "time_elapsed=165<br>x=%{x}<br>y=%{y}<br>z=%{z}<br>MassConc_2p5=%{marker.color}<br>loc=%{text}<extra></extra>",
           "legendgroup": "",
           "marker": {
            "color": [
             7.729059,
             6.785302,
             8.332078,
             10.279251,
             8.066084,
             8.526569
            ],
            "coloraxis": "coloraxis",
            "size": [
             7.729059,
             6.785302,
             8.332078,
             10.279251,
             8.066084,
             8.526569
            ],
            "sizemode": "area",
            "sizeref": 0.23812812479999998,
            "symbol": "circle"
           },
           "mode": "markers+text",
           "name": "",
           "scene": "scene",
           "showlegend": false,
           "text": [
            "back corner/exhaust",
            "back",
            "front-tripod",
            "door",
            "front corner",
            "front-desk"
           ],
           "type": "scatter3d",
           "x": [
            0,
            0,
            0.9,
            0.95,
            0.9,
            0.65
           ],
           "y": [
            0.85,
            0.1,
            0.45,
            0,
            1,
            0.45
           ],
           "z": [
            0.2,
            0.8,
            0.5,
            0.9,
            0.6,
            0.3
           ]
          }
         ],
         "name": "165"
        },
        {
         "data": [
          {
           "hovertemplate": "time_elapsed=166<br>x=%{x}<br>y=%{y}<br>z=%{z}<br>MassConc_2p5=%{marker.color}<br>loc=%{text}<extra></extra>",
           "legendgroup": "",
           "marker": {
            "color": [
             7.477134,
             6.595909,
             8.078801,
             9.768312,
             7.839543,
             8.296406
            ],
            "coloraxis": "coloraxis",
            "size": [
             7.477134,
             6.595909,
             8.078801,
             9.768312,
             7.839543,
             8.296406
            ],
            "sizemode": "area",
            "sizeref": 0.23812812479999998,
            "symbol": "circle"
           },
           "mode": "markers+text",
           "name": "",
           "scene": "scene",
           "showlegend": false,
           "text": [
            "back corner/exhaust",
            "back",
            "front-tripod",
            "door",
            "front corner",
            "front-desk"
           ],
           "type": "scatter3d",
           "x": [
            0,
            0,
            0.9,
            0.95,
            0.9,
            0.65
           ],
           "y": [
            0.85,
            0.1,
            0.45,
            0,
            1,
            0.45
           ],
           "z": [
            0.2,
            0.8,
            0.5,
            0.9,
            0.6,
            0.3
           ]
          }
         ],
         "name": "166"
        },
        {
         "data": [
          {
           "hovertemplate": "time_elapsed=167<br>x=%{x}<br>y=%{y}<br>z=%{z}<br>MassConc_2p5=%{marker.color}<br>loc=%{text}<extra></extra>",
           "legendgroup": "",
           "marker": {
            "color": [
             7.285028,
             6.426738,
             7.876381,
             9.267897,
             7.676044,
             8.092938
            ],
            "coloraxis": "coloraxis",
            "size": [
             7.285028,
             6.426738,
             7.876381,
             9.267897,
             7.676044,
             8.092938
            ],
            "sizemode": "area",
            "sizeref": 0.23812812479999998,
            "symbol": "circle"
           },
           "mode": "markers+text",
           "name": "",
           "scene": "scene",
           "showlegend": false,
           "text": [
            "back corner/exhaust",
            "back",
            "front-tripod",
            "door",
            "front corner",
            "front-desk"
           ],
           "type": "scatter3d",
           "x": [
            0,
            0,
            0.9,
            0.95,
            0.9,
            0.65
           ],
           "y": [
            0.85,
            0.1,
            0.45,
            0,
            1,
            0.45
           ],
           "z": [
            0.2,
            0.8,
            0.5,
            0.9,
            0.6,
            0.3
           ]
          }
         ],
         "name": "167"
        },
        {
         "data": [
          {
           "hovertemplate": "time_elapsed=168<br>x=%{x}<br>y=%{y}<br>z=%{z}<br>MassConc_2p5=%{marker.color}<br>loc=%{text}<extra></extra>",
           "legendgroup": "",
           "marker": {
            "color": [
             7.074363,
             6.251137,
             7.661924,
             8.788104,
             7.52222,
             7.876171
            ],
            "coloraxis": "coloraxis",
            "size": [
             7.074363,
             6.251137,
             7.661924,
             8.788104,
             7.52222,
             7.876171
            ],
            "sizemode": "area",
            "sizeref": 0.23812812479999998,
            "symbol": "circle"
           },
           "mode": "markers+text",
           "name": "",
           "scene": "scene",
           "showlegend": false,
           "text": [
            "back corner/exhaust",
            "back",
            "front-tripod",
            "door",
            "front corner",
            "front-desk"
           ],
           "type": "scatter3d",
           "x": [
            0,
            0,
            0.9,
            0.95,
            0.9,
            0.65
           ],
           "y": [
            0.85,
            0.1,
            0.45,
            0,
            1,
            0.45
           ],
           "z": [
            0.2,
            0.8,
            0.5,
            0.9,
            0.6,
            0.3
           ]
          }
         ],
         "name": "168"
        },
        {
         "data": [
          {
           "hovertemplate": "time_elapsed=169<br>x=%{x}<br>y=%{y}<br>z=%{z}<br>MassConc_2p5=%{marker.color}<br>loc=%{text}<extra></extra>",
           "legendgroup": "",
           "marker": {
            "color": [
             6.901295,
             6.063264,
             7.492477,
             8.407017,
             7.341011,
             7.67041
            ],
            "coloraxis": "coloraxis",
            "size": [
             6.901295,
             6.063264,
             7.492477,
             8.407017,
             7.341011,
             7.67041
            ],
            "sizemode": "area",
            "sizeref": 0.23812812479999998,
            "symbol": "circle"
           },
           "mode": "markers+text",
           "name": "",
           "scene": "scene",
           "showlegend": false,
           "text": [
            "back corner/exhaust",
            "back",
            "front-tripod",
            "door",
            "front corner",
            "front-desk"
           ],
           "type": "scatter3d",
           "x": [
            0,
            0,
            0.9,
            0.95,
            0.9,
            0.65
           ],
           "y": [
            0.85,
            0.1,
            0.45,
            0,
            1,
            0.45
           ],
           "z": [
            0.2,
            0.8,
            0.5,
            0.9,
            0.6,
            0.3
           ]
          }
         ],
         "name": "169"
        },
        {
         "data": [
          {
           "hovertemplate": "time_elapsed=170<br>x=%{x}<br>y=%{y}<br>z=%{z}<br>MassConc_2p5=%{marker.color}<br>loc=%{text}<extra></extra>",
           "legendgroup": "",
           "marker": {
            "color": [
             6.759679,
             5.867279,
             7.308562,
             8.015964,
             7.168418,
             7.463791
            ],
            "coloraxis": "coloraxis",
            "size": [
             6.759679,
             5.867279,
             7.308562,
             8.015964,
             7.168418,
             7.463791
            ],
            "sizemode": "area",
            "sizeref": 0.23812812479999998,
            "symbol": "circle"
           },
           "mode": "markers+text",
           "name": "",
           "scene": "scene",
           "showlegend": false,
           "text": [
            "back corner/exhaust",
            "back",
            "front-tripod",
            "door",
            "front corner",
            "front-desk"
           ],
           "type": "scatter3d",
           "x": [
            0,
            0,
            0.9,
            0.95,
            0.9,
            0.65
           ],
           "y": [
            0.85,
            0.1,
            0.45,
            0,
            1,
            0.45
           ],
           "z": [
            0.2,
            0.8,
            0.5,
            0.9,
            0.6,
            0.3
           ]
          }
         ],
         "name": "170"
        },
        {
         "data": [
          {
           "hovertemplate": "time_elapsed=171<br>x=%{x}<br>y=%{y}<br>z=%{z}<br>MassConc_2p5=%{marker.color}<br>loc=%{text}<extra></extra>",
           "legendgroup": "",
           "marker": {
            "color": [
             6.594875,
             5.667338,
             7.123598,
             7.721798,
             7.010281,
             7.222343
            ],
            "coloraxis": "coloraxis",
            "size": [
             6.594875,
             5.667338,
             7.123598,
             7.721798,
             7.010281,
             7.222343
            ],
            "sizemode": "area",
            "sizeref": 0.23812812479999998,
            "symbol": "circle"
           },
           "mode": "markers+text",
           "name": "",
           "scene": "scene",
           "showlegend": false,
           "text": [
            "back corner/exhaust",
            "back",
            "front-tripod",
            "door",
            "front corner",
            "front-desk"
           ],
           "type": "scatter3d",
           "x": [
            0,
            0,
            0.9,
            0.95,
            0.9,
            0.65
           ],
           "y": [
            0.85,
            0.1,
            0.45,
            0,
            1,
            0.45
           ],
           "z": [
            0.2,
            0.8,
            0.5,
            0.9,
            0.6,
            0.3
           ]
          }
         ],
         "name": "171"
        },
        {
         "data": [
          {
           "hovertemplate": "time_elapsed=172<br>x=%{x}<br>y=%{y}<br>z=%{z}<br>MassConc_2p5=%{marker.color}<br>loc=%{text}<extra></extra>",
           "legendgroup": "",
           "marker": {
            "color": [
             6.447522,
             5.474529,
             6.97622,
             7.438126,
             6.82253,
             7.022646
            ],
            "coloraxis": "coloraxis",
            "size": [
             6.447522,
             5.474529,
             6.97622,
             7.438126,
             6.82253,
             7.022646
            ],
            "sizemode": "area",
            "sizeref": 0.23812812479999998,
            "symbol": "circle"
           },
           "mode": "markers+text",
           "name": "",
           "scene": "scene",
           "showlegend": false,
           "text": [
            "back corner/exhaust",
            "back",
            "front-tripod",
            "door",
            "front corner",
            "front-desk"
           ],
           "type": "scatter3d",
           "x": [
            0,
            0,
            0.9,
            0.95,
            0.9,
            0.65
           ],
           "y": [
            0.85,
            0.1,
            0.45,
            0,
            1,
            0.45
           ],
           "z": [
            0.2,
            0.8,
            0.5,
            0.9,
            0.6,
            0.3
           ]
          }
         ],
         "name": "172"
        },
        {
         "data": [
          {
           "hovertemplate": "time_elapsed=173<br>x=%{x}<br>y=%{y}<br>z=%{z}<br>MassConc_2p5=%{marker.color}<br>loc=%{text}<extra></extra>",
           "legendgroup": "",
           "marker": {
            "color": [
             6.291001,
             5.272355,
             6.814701,
             7.193069,
             6.656237,
             6.847963
            ],
            "coloraxis": "coloraxis",
            "size": [
             6.291001,
             5.272355,
             6.814701,
             7.193069,
             6.656237,
             6.847963
            ],
            "sizemode": "area",
            "sizeref": 0.23812812479999998,
            "symbol": "circle"
           },
           "mode": "markers+text",
           "name": "",
           "scene": "scene",
           "showlegend": false,
           "text": [
            "back corner/exhaust",
            "back",
            "front-tripod",
            "door",
            "front corner",
            "front-desk"
           ],
           "type": "scatter3d",
           "x": [
            0,
            0,
            0.9,
            0.95,
            0.9,
            0.65
           ],
           "y": [
            0.85,
            0.1,
            0.45,
            0,
            1,
            0.45
           ],
           "z": [
            0.2,
            0.8,
            0.5,
            0.9,
            0.6,
            0.3
           ]
          }
         ],
         "name": "173"
        },
        {
         "data": [
          {
           "hovertemplate": "time_elapsed=174<br>x=%{x}<br>y=%{y}<br>z=%{z}<br>MassConc_2p5=%{marker.color}<br>loc=%{text}<extra></extra>",
           "legendgroup": "",
           "marker": {
            "color": [
             6.127556,
             5.072948,
             6.654446,
             6.987064,
             6.499418,
             6.676831
            ],
            "coloraxis": "coloraxis",
            "size": [
             6.127556,
             5.072948,
             6.654446,
             6.987064,
             6.499418,
             6.676831
            ],
            "sizemode": "area",
            "sizeref": 0.23812812479999998,
            "symbol": "circle"
           },
           "mode": "markers+text",
           "name": "",
           "scene": "scene",
           "showlegend": false,
           "text": [
            "back corner/exhaust",
            "back",
            "front-tripod",
            "door",
            "front corner",
            "front-desk"
           ],
           "type": "scatter3d",
           "x": [
            0,
            0,
            0.9,
            0.95,
            0.9,
            0.65
           ],
           "y": [
            0.85,
            0.1,
            0.45,
            0,
            1,
            0.45
           ],
           "z": [
            0.2,
            0.8,
            0.5,
            0.9,
            0.6,
            0.3
           ]
          }
         ],
         "name": "174"
        },
        {
         "data": [
          {
           "hovertemplate": "time_elapsed=175<br>x=%{x}<br>y=%{y}<br>z=%{z}<br>MassConc_2p5=%{marker.color}<br>loc=%{text}<extra></extra>",
           "legendgroup": "",
           "marker": {
            "color": [
             5.934133,
             4.869675,
             6.505177,
             6.814252,
             6.35251,
             6.509868
            ],
            "coloraxis": "coloraxis",
            "size": [
             5.934133,
             4.869675,
             6.505177,
             6.814252,
             6.35251,
             6.509868
            ],
            "sizemode": "area",
            "sizeref": 0.23812812479999998,
            "symbol": "circle"
           },
           "mode": "markers+text",
           "name": "",
           "scene": "scene",
           "showlegend": false,
           "text": [
            "back corner/exhaust",
            "back",
            "front-tripod",
            "door",
            "front corner",
            "front-desk"
           ],
           "type": "scatter3d",
           "x": [
            0,
            0,
            0.9,
            0.95,
            0.9,
            0.65
           ],
           "y": [
            0.85,
            0.1,
            0.45,
            0,
            1,
            0.45
           ],
           "z": [
            0.2,
            0.8,
            0.5,
            0.9,
            0.6,
            0.3
           ]
          }
         ],
         "name": "175"
        },
        {
         "data": [
          {
           "hovertemplate": "time_elapsed=176<br>x=%{x}<br>y=%{y}<br>z=%{z}<br>MassConc_2p5=%{marker.color}<br>loc=%{text}<extra></extra>",
           "legendgroup": "",
           "marker": {
            "color": [
             5.778951,
             4.681682,
             6.374913,
             6.67038,
             6.22317,
             6.356744
            ],
            "coloraxis": "coloraxis",
            "size": [
             5.778951,
             4.681682,
             6.374913,
             6.67038,
             6.22317,
             6.356744
            ],
            "sizemode": "area",
            "sizeref": 0.23812812479999998,
            "symbol": "circle"
           },
           "mode": "markers+text",
           "name": "",
           "scene": "scene",
           "showlegend": false,
           "text": [
            "back corner/exhaust",
            "back",
            "front-tripod",
            "door",
            "front corner",
            "front-desk"
           ],
           "type": "scatter3d",
           "x": [
            0,
            0,
            0.9,
            0.95,
            0.9,
            0.65
           ],
           "y": [
            0.85,
            0.1,
            0.45,
            0,
            1,
            0.45
           ],
           "z": [
            0.2,
            0.8,
            0.5,
            0.9,
            0.6,
            0.3
           ]
          }
         ],
         "name": "176"
        },
        {
         "data": [
          {
           "hovertemplate": "time_elapsed=177<br>x=%{x}<br>y=%{y}<br>z=%{z}<br>MassConc_2p5=%{marker.color}<br>loc=%{text}<extra></extra>",
           "legendgroup": "",
           "marker": {
            "color": [
             5.613509,
             4.541645,
             6.271383,
             6.507648,
             6.074373,
             6.197881
            ],
            "coloraxis": "coloraxis",
            "size": [
             5.613509,
             4.541645,
             6.271383,
             6.507648,
             6.074373,
             6.197881
            ],
            "sizemode": "area",
            "sizeref": 0.23812812479999998,
            "symbol": "circle"
           },
           "mode": "markers+text",
           "name": "",
           "scene": "scene",
           "showlegend": false,
           "text": [
            "back corner/exhaust",
            "back",
            "front-tripod",
            "door",
            "front corner",
            "front-desk"
           ],
           "type": "scatter3d",
           "x": [
            0,
            0,
            0.9,
            0.95,
            0.9,
            0.65
           ],
           "y": [
            0.85,
            0.1,
            0.45,
            0,
            1,
            0.45
           ],
           "z": [
            0.2,
            0.8,
            0.5,
            0.9,
            0.6,
            0.3
           ]
          }
         ],
         "name": "177"
        },
        {
         "data": [
          {
           "hovertemplate": "time_elapsed=178<br>x=%{x}<br>y=%{y}<br>z=%{z}<br>MassConc_2p5=%{marker.color}<br>loc=%{text}<extra></extra>",
           "legendgroup": "",
           "marker": {
            "color": [
             5.466773,
             4.399364,
             6.154132,
             6.195051,
             5.911086,
             6.075355
            ],
            "coloraxis": "coloraxis",
            "size": [
             5.466773,
             4.399364,
             6.154132,
             6.195051,
             5.911086,
             6.075355
            ],
            "sizemode": "area",
            "sizeref": 0.23812812479999998,
            "symbol": "circle"
           },
           "mode": "markers+text",
           "name": "",
           "scene": "scene",
           "showlegend": false,
           "text": [
            "back corner/exhaust",
            "back",
            "front-tripod",
            "door",
            "front corner",
            "front-desk"
           ],
           "type": "scatter3d",
           "x": [
            0,
            0,
            0.9,
            0.95,
            0.9,
            0.65
           ],
           "y": [
            0.85,
            0.1,
            0.45,
            0,
            1,
            0.45
           ],
           "z": [
            0.2,
            0.8,
            0.5,
            0.9,
            0.6,
            0.3
           ]
          }
         ],
         "name": "178"
        },
        {
         "data": [
          {
           "hovertemplate": "time_elapsed=179<br>x=%{x}<br>y=%{y}<br>z=%{z}<br>MassConc_2p5=%{marker.color}<br>loc=%{text}<extra></extra>",
           "legendgroup": "",
           "marker": {
            "color": [
             5.319427,
             4.282474,
             6.016041,
             6.050395,
             5.719966,
             5.925179
            ],
            "coloraxis": "coloraxis",
            "size": [
             5.319427,
             4.282474,
             6.016041,
             6.050395,
             5.719966,
             5.925179
            ],
            "sizemode": "area",
            "sizeref": 0.23812812479999998,
            "symbol": "circle"
           },
           "mode": "markers+text",
           "name": "",
           "scene": "scene",
           "showlegend": false,
           "text": [
            "back corner/exhaust",
            "back",
            "front-tripod",
            "door",
            "front corner",
            "front-desk"
           ],
           "type": "scatter3d",
           "x": [
            0,
            0,
            0.9,
            0.95,
            0.9,
            0.65
           ],
           "y": [
            0.85,
            0.1,
            0.45,
            0,
            1,
            0.45
           ],
           "z": [
            0.2,
            0.8,
            0.5,
            0.9,
            0.6,
            0.3
           ]
          }
         ],
         "name": "179"
        },
        {
         "data": [
          {
           "hovertemplate": "time_elapsed=180<br>x=%{x}<br>y=%{y}<br>z=%{z}<br>MassConc_2p5=%{marker.color}<br>loc=%{text}<extra></extra>",
           "legendgroup": "",
           "marker": {
            "color": [
             5.172441,
             4.162059,
             5.844519,
             5.906733,
             5.517237,
             5.74468
            ],
            "coloraxis": "coloraxis",
            "size": [
             5.172441,
             4.162059,
             5.844519,
             5.906733,
             5.517237,
             5.74468
            ],
            "sizemode": "area",
            "sizeref": 0.23812812479999998,
            "symbol": "circle"
           },
           "mode": "markers+text",
           "name": "",
           "scene": "scene",
           "showlegend": false,
           "text": [
            "back corner/exhaust",
            "back",
            "front-tripod",
            "door",
            "front corner",
            "front-desk"
           ],
           "type": "scatter3d",
           "x": [
            0,
            0,
            0.9,
            0.95,
            0.9,
            0.65
           ],
           "y": [
            0.85,
            0.1,
            0.45,
            0,
            1,
            0.45
           ],
           "z": [
            0.2,
            0.8,
            0.5,
            0.9,
            0.6,
            0.3
           ]
          }
         ],
         "name": "180"
        },
        {
         "data": [
          {
           "hovertemplate": "time_elapsed=181<br>x=%{x}<br>y=%{y}<br>z=%{z}<br>MassConc_2p5=%{marker.color}<br>loc=%{text}<extra></extra>",
           "legendgroup": "",
           "marker": {
            "color": [
             5.018915,
             4.031588,
             5.685644,
             5.770734,
             5.324997,
             5.568754
            ],
            "coloraxis": "coloraxis",
            "size": [
             5.018915,
             4.031588,
             5.685644,
             5.770734,
             5.324997,
             5.568754
            ],
            "sizemode": "area",
            "sizeref": 0.23812812479999998,
            "symbol": "circle"
           },
           "mode": "markers+text",
           "name": "",
           "scene": "scene",
           "showlegend": false,
           "text": [
            "back corner/exhaust",
            "back",
            "front-tripod",
            "door",
            "front corner",
            "front-desk"
           ],
           "type": "scatter3d",
           "x": [
            0,
            0,
            0.9,
            0.95,
            0.9,
            0.65
           ],
           "y": [
            0.85,
            0.1,
            0.45,
            0,
            1,
            0.45
           ],
           "z": [
            0.2,
            0.8,
            0.5,
            0.9,
            0.6,
            0.3
           ]
          }
         ],
         "name": "181"
        },
        {
         "data": [
          {
           "hovertemplate": "time_elapsed=182<br>x=%{x}<br>y=%{y}<br>z=%{z}<br>MassConc_2p5=%{marker.color}<br>loc=%{text}<extra></extra>",
           "legendgroup": "",
           "marker": {
            "color": [
             4.853058,
             3.903149,
             5.537834,
             5.638788,
             5.161292,
             5.370778
            ],
            "coloraxis": "coloraxis",
            "size": [
             4.853058,
             3.903149,
             5.537834,
             5.638788,
             5.161292,
             5.370778
            ],
            "sizemode": "area",
            "sizeref": 0.23812812479999998,
            "symbol": "circle"
           },
           "mode": "markers+text",
           "name": "",
           "scene": "scene",
           "showlegend": false,
           "text": [
            "back corner/exhaust",
            "back",
            "front-tripod",
            "door",
            "front corner",
            "front-desk"
           ],
           "type": "scatter3d",
           "x": [
            0,
            0,
            0.9,
            0.95,
            0.9,
            0.65
           ],
           "y": [
            0.85,
            0.1,
            0.45,
            0,
            1,
            0.45
           ],
           "z": [
            0.2,
            0.8,
            0.5,
            0.9,
            0.6,
            0.3
           ]
          }
         ],
         "name": "182"
        },
        {
         "data": [
          {
           "hovertemplate": "time_elapsed=183<br>x=%{x}<br>y=%{y}<br>z=%{z}<br>MassConc_2p5=%{marker.color}<br>loc=%{text}<extra></extra>",
           "legendgroup": "",
           "marker": {
            "color": [
             4.687116,
             3.77697,
             5.400498,
             5.503438,
             4.996209,
             5.203877
            ],
            "coloraxis": "coloraxis",
            "size": [
             4.687116,
             3.77697,
             5.400498,
             5.503438,
             4.996209,
             5.203877
            ],
            "sizemode": "area",
            "sizeref": 0.23812812479999998,
            "symbol": "circle"
           },
           "mode": "markers+text",
           "name": "",
           "scene": "scene",
           "showlegend": false,
           "text": [
            "back corner/exhaust",
            "back",
            "front-tripod",
            "door",
            "front corner",
            "front-desk"
           ],
           "type": "scatter3d",
           "x": [
            0,
            0,
            0.9,
            0.95,
            0.9,
            0.65
           ],
           "y": [
            0.85,
            0.1,
            0.45,
            0,
            1,
            0.45
           ],
           "z": [
            0.2,
            0.8,
            0.5,
            0.9,
            0.6,
            0.3
           ]
          }
         ],
         "name": "183"
        },
        {
         "data": [
          {
           "hovertemplate": "time_elapsed=184<br>x=%{x}<br>y=%{y}<br>z=%{z}<br>MassConc_2p5=%{marker.color}<br>loc=%{text}<extra></extra>",
           "legendgroup": "",
           "marker": {
            "color": [
             4.523549,
             3.653984,
             5.293512,
             5.357372,
             4.831125,
             5.045251
            ],
            "coloraxis": "coloraxis",
            "size": [
             4.523549,
             3.653984,
             5.293512,
             5.357372,
             4.831125,
             5.045251
            ],
            "sizemode": "area",
            "sizeref": 0.23812812479999998,
            "symbol": "circle"
           },
           "mode": "markers+text",
           "name": "",
           "scene": "scene",
           "showlegend": false,
           "text": [
            "back corner/exhaust",
            "back",
            "front-tripod",
            "door",
            "front corner",
            "front-desk"
           ],
           "type": "scatter3d",
           "x": [
            0,
            0,
            0.9,
            0.95,
            0.9,
            0.65
           ],
           "y": [
            0.85,
            0.1,
            0.45,
            0,
            1,
            0.45
           ],
           "z": [
            0.2,
            0.8,
            0.5,
            0.9,
            0.6,
            0.3
           ]
          }
         ],
         "name": "184"
        },
        {
         "data": [
          {
           "hovertemplate": "time_elapsed=185<br>x=%{x}<br>y=%{y}<br>z=%{z}<br>MassConc_2p5=%{marker.color}<br>loc=%{text}<extra></extra>",
           "legendgroup": "",
           "marker": {
            "color": [
             4.354486,
             3.53458,
             5.221096,
             5.20411,
             4.675589,
             4.885962
            ],
            "coloraxis": "coloraxis",
            "size": [
             4.354486,
             3.53458,
             5.221096,
             5.20411,
             4.675589,
             4.885962
            ],
            "sizemode": "area",
            "sizeref": 0.23812812479999998,
            "symbol": "circle"
           },
           "mode": "markers+text",
           "name": "",
           "scene": "scene",
           "showlegend": false,
           "text": [
            "back corner/exhaust",
            "back",
            "front-tripod",
            "door",
            "front corner",
            "front-desk"
           ],
           "type": "scatter3d",
           "x": [
            0,
            0,
            0.9,
            0.95,
            0.9,
            0.65
           ],
           "y": [
            0.85,
            0.1,
            0.45,
            0,
            1,
            0.45
           ],
           "z": [
            0.2,
            0.8,
            0.5,
            0.9,
            0.6,
            0.3
           ]
          }
         ],
         "name": "185"
        },
        {
         "data": [
          {
           "hovertemplate": "time_elapsed=186<br>x=%{x}<br>y=%{y}<br>z=%{z}<br>MassConc_2p5=%{marker.color}<br>loc=%{text}<extra></extra>",
           "legendgroup": "",
           "marker": {
            "color": [
             4.200624,
             3.411121,
             5.129848,
             5.063408,
             4.539208,
             4.737339
            ],
            "coloraxis": "coloraxis",
            "size": [
             4.200624,
             3.411121,
             5.129848,
             5.063408,
             4.539208,
             4.737339
            ],
            "sizemode": "area",
            "sizeref": 0.23812812479999998,
            "symbol": "circle"
           },
           "mode": "markers+text",
           "name": "",
           "scene": "scene",
           "showlegend": false,
           "text": [
            "back corner/exhaust",
            "back",
            "front-tripod",
            "door",
            "front corner",
            "front-desk"
           ],
           "type": "scatter3d",
           "x": [
            0,
            0,
            0.9,
            0.95,
            0.9,
            0.65
           ],
           "y": [
            0.85,
            0.1,
            0.45,
            0,
            1,
            0.45
           ],
           "z": [
            0.2,
            0.8,
            0.5,
            0.9,
            0.6,
            0.3
           ]
          }
         ],
         "name": "186"
        },
        {
         "data": [
          {
           "hovertemplate": "time_elapsed=187<br>x=%{x}<br>y=%{y}<br>z=%{z}<br>MassConc_2p5=%{marker.color}<br>loc=%{text}<extra></extra>",
           "legendgroup": "",
           "marker": {
            "color": [
             4.059843,
             3.302124,
             5.024943,
             4.954358,
             4.392614,
             4.578802
            ],
            "coloraxis": "coloraxis",
            "size": [
             4.059843,
             3.302124,
             5.024943,
             4.954358,
             4.392614,
             4.578802
            ],
            "sizemode": "area",
            "sizeref": 0.23812812479999998,
            "symbol": "circle"
           },
           "mode": "markers+text",
           "name": "",
           "scene": "scene",
           "showlegend": false,
           "text": [
            "back corner/exhaust",
            "back",
            "front-tripod",
            "door",
            "front corner",
            "front-desk"
           ],
           "type": "scatter3d",
           "x": [
            0,
            0,
            0.9,
            0.95,
            0.9,
            0.65
           ],
           "y": [
            0.85,
            0.1,
            0.45,
            0,
            1,
            0.45
           ],
           "z": [
            0.2,
            0.8,
            0.5,
            0.9,
            0.6,
            0.3
           ]
          }
         ],
         "name": "187"
        },
        {
         "data": [
          {
           "hovertemplate": "time_elapsed=188<br>x=%{x}<br>y=%{y}<br>z=%{z}<br>MassConc_2p5=%{marker.color}<br>loc=%{text}<extra></extra>",
           "legendgroup": "",
           "marker": {
            "color": [
             3.939691,
             3.214583,
             4.89044,
             4.862735,
             4.230111,
             4.414713
            ],
            "coloraxis": "coloraxis",
            "size": [
             3.939691,
             3.214583,
             4.89044,
             4.862735,
             4.230111,
             4.414713
            ],
            "sizemode": "area",
            "sizeref": 0.23812812479999998,
            "symbol": "circle"
           },
           "mode": "markers+text",
           "name": "",
           "scene": "scene",
           "showlegend": false,
           "text": [
            "back corner/exhaust",
            "back",
            "front-tripod",
            "door",
            "front corner",
            "front-desk"
           ],
           "type": "scatter3d",
           "x": [
            0,
            0,
            0.9,
            0.95,
            0.9,
            0.65
           ],
           "y": [
            0.85,
            0.1,
            0.45,
            0,
            1,
            0.45
           ],
           "z": [
            0.2,
            0.8,
            0.5,
            0.9,
            0.6,
            0.3
           ]
          }
         ],
         "name": "188"
        },
        {
         "data": [
          {
           "hovertemplate": "time_elapsed=189<br>x=%{x}<br>y=%{y}<br>z=%{z}<br>MassConc_2p5=%{marker.color}<br>loc=%{text}<extra></extra>",
           "legendgroup": "",
           "marker": {
            "color": [
             3.803019,
             3.119893,
             4.752231,
             4.758457,
             4.074412,
             4.237775
            ],
            "coloraxis": "coloraxis",
            "size": [
             3.803019,
             3.119893,
             4.752231,
             4.758457,
             4.074412,
             4.237775
            ],
            "sizemode": "area",
            "sizeref": 0.23812812479999998,
            "symbol": "circle"
           },
           "mode": "markers+text",
           "name": "",
           "scene": "scene",
           "showlegend": false,
           "text": [
            "back corner/exhaust",
            "back",
            "front-tripod",
            "door",
            "front corner",
            "front-desk"
           ],
           "type": "scatter3d",
           "x": [
            0,
            0,
            0.9,
            0.95,
            0.9,
            0.65
           ],
           "y": [
            0.85,
            0.1,
            0.45,
            0,
            1,
            0.45
           ],
           "z": [
            0.2,
            0.8,
            0.5,
            0.9,
            0.6,
            0.3
           ]
          }
         ],
         "name": "189"
        },
        {
         "data": [
          {
           "hovertemplate": "time_elapsed=190<br>x=%{x}<br>y=%{y}<br>z=%{z}<br>MassConc_2p5=%{marker.color}<br>loc=%{text}<extra></extra>",
           "legendgroup": "",
           "marker": {
            "color": [
             3.663043,
             3.028941,
             4.593299,
             4.67288,
             3.934475,
             4.052176
            ],
            "coloraxis": "coloraxis",
            "size": [
             3.663043,
             3.028941,
             4.593299,
             4.67288,
             3.934475,
             4.052176
            ],
            "sizemode": "area",
            "sizeref": 0.23812812479999998,
            "symbol": "circle"
           },
           "mode": "markers+text",
           "name": "",
           "scene": "scene",
           "showlegend": false,
           "text": [
            "back corner/exhaust",
            "back",
            "front-tripod",
            "door",
            "front corner",
            "front-desk"
           ],
           "type": "scatter3d",
           "x": [
            0,
            0,
            0.9,
            0.95,
            0.9,
            0.65
           ],
           "y": [
            0.85,
            0.1,
            0.45,
            0,
            1,
            0.45
           ],
           "z": [
            0.2,
            0.8,
            0.5,
            0.9,
            0.6,
            0.3
           ]
          }
         ],
         "name": "190"
        },
        {
         "data": [
          {
           "hovertemplate": "time_elapsed=191<br>x=%{x}<br>y=%{y}<br>z=%{z}<br>MassConc_2p5=%{marker.color}<br>loc=%{text}<extra></extra>",
           "legendgroup": "",
           "marker": {
            "color": [
             3.539377,
             2.966985,
             4.456012,
             4.594698,
             3.781886,
             3.891006
            ],
            "coloraxis": "coloraxis",
            "size": [
             3.539377,
             2.966985,
             4.456012,
             4.594698,
             3.781886,
             3.891006
            ],
            "sizemode": "area",
            "sizeref": 0.23812812479999998,
            "symbol": "circle"
           },
           "mode": "markers+text",
           "name": "",
           "scene": "scene",
           "showlegend": false,
           "text": [
            "back corner/exhaust",
            "back",
            "front-tripod",
            "door",
            "front corner",
            "front-desk"
           ],
           "type": "scatter3d",
           "x": [
            0,
            0,
            0.9,
            0.95,
            0.9,
            0.65
           ],
           "y": [
            0.85,
            0.1,
            0.45,
            0,
            1,
            0.45
           ],
           "z": [
            0.2,
            0.8,
            0.5,
            0.9,
            0.6,
            0.3
           ]
          }
         ],
         "name": "191"
        },
        {
         "data": [
          {
           "hovertemplate": "time_elapsed=192<br>x=%{x}<br>y=%{y}<br>z=%{z}<br>MassConc_2p5=%{marker.color}<br>loc=%{text}<extra></extra>",
           "legendgroup": "",
           "marker": {
            "color": [
             3.429917,
             2.895465,
             4.318871,
             4.521613,
             3.629277,
             3.749963
            ],
            "coloraxis": "coloraxis",
            "size": [
             3.429917,
             2.895465,
             4.318871,
             4.521613,
             3.629277,
             3.749963
            ],
            "sizemode": "area",
            "sizeref": 0.23812812479999998,
            "symbol": "circle"
           },
           "mode": "markers+text",
           "name": "",
           "scene": "scene",
           "showlegend": false,
           "text": [
            "back corner/exhaust",
            "back",
            "front-tripod",
            "door",
            "front corner",
            "front-desk"
           ],
           "type": "scatter3d",
           "x": [
            0,
            0,
            0.9,
            0.95,
            0.9,
            0.65
           ],
           "y": [
            0.85,
            0.1,
            0.45,
            0,
            1,
            0.45
           ],
           "z": [
            0.2,
            0.8,
            0.5,
            0.9,
            0.6,
            0.3
           ]
          }
         ],
         "name": "192"
        },
        {
         "data": [
          {
           "hovertemplate": "time_elapsed=193<br>x=%{x}<br>y=%{y}<br>z=%{z}<br>MassConc_2p5=%{marker.color}<br>loc=%{text}<extra></extra>",
           "legendgroup": "",
           "marker": {
            "color": [
             3.315917,
             2.817096,
             4.184454,
             4.464665,
             3.469427,
             3.607507
            ],
            "coloraxis": "coloraxis",
            "size": [
             3.315917,
             2.817096,
             4.184454,
             4.464665,
             3.469427,
             3.607507
            ],
            "sizemode": "area",
            "sizeref": 0.23812812479999998,
            "symbol": "circle"
           },
           "mode": "markers+text",
           "name": "",
           "scene": "scene",
           "showlegend": false,
           "text": [
            "back corner/exhaust",
            "back",
            "front-tripod",
            "door",
            "front corner",
            "front-desk"
           ],
           "type": "scatter3d",
           "x": [
            0,
            0,
            0.9,
            0.95,
            0.9,
            0.65
           ],
           "y": [
            0.85,
            0.1,
            0.45,
            0,
            1,
            0.45
           ],
           "z": [
            0.2,
            0.8,
            0.5,
            0.9,
            0.6,
            0.3
           ]
          }
         ],
         "name": "193"
        },
        {
         "data": [
          {
           "hovertemplate": "time_elapsed=194<br>x=%{x}<br>y=%{y}<br>z=%{z}<br>MassConc_2p5=%{marker.color}<br>loc=%{text}<extra></extra>",
           "legendgroup": "",
           "marker": {
            "color": [
             3.208022,
             2.742225,
             4.08152,
             4.402306,
             3.349675,
             3.502943
            ],
            "coloraxis": "coloraxis",
            "size": [
             3.208022,
             2.742225,
             4.08152,
             4.402306,
             3.349675,
             3.502943
            ],
            "sizemode": "area",
            "sizeref": 0.23812812479999998,
            "symbol": "circle"
           },
           "mode": "markers+text",
           "name": "",
           "scene": "scene",
           "showlegend": false,
           "text": [
            "back corner/exhaust",
            "back",
            "front-tripod",
            "door",
            "front corner",
            "front-desk"
           ],
           "type": "scatter3d",
           "x": [
            0,
            0,
            0.9,
            0.95,
            0.9,
            0.65
           ],
           "y": [
            0.85,
            0.1,
            0.45,
            0,
            1,
            0.45
           ],
           "z": [
            0.2,
            0.8,
            0.5,
            0.9,
            0.6,
            0.3
           ]
          }
         ],
         "name": "194"
        },
        {
         "data": [
          {
           "hovertemplate": "time_elapsed=195<br>x=%{x}<br>y=%{y}<br>z=%{z}<br>MassConc_2p5=%{marker.color}<br>loc=%{text}<extra></extra>",
           "legendgroup": "",
           "marker": {
            "color": [
             3.105786,
             2.654183,
             3.967343,
             4.34567,
             3.228511,
             3.402678
            ],
            "coloraxis": "coloraxis",
            "size": [
             3.105786,
             2.654183,
             3.967343,
             4.34567,
             3.228511,
             3.402678
            ],
            "sizemode": "area",
            "sizeref": 0.23812812479999998,
            "symbol": "circle"
           },
           "mode": "markers+text",
           "name": "",
           "scene": "scene",
           "showlegend": false,
           "text": [
            "back corner/exhaust",
            "back",
            "front-tripod",
            "door",
            "front corner",
            "front-desk"
           ],
           "type": "scatter3d",
           "x": [
            0,
            0,
            0.9,
            0.95,
            0.9,
            0.65
           ],
           "y": [
            0.85,
            0.1,
            0.45,
            0,
            1,
            0.45
           ],
           "z": [
            0.2,
            0.8,
            0.5,
            0.9,
            0.6,
            0.3
           ]
          }
         ],
         "name": "195"
        },
        {
         "data": [
          {
           "hovertemplate": "time_elapsed=196<br>x=%{x}<br>y=%{y}<br>z=%{z}<br>MassConc_2p5=%{marker.color}<br>loc=%{text}<extra></extra>",
           "legendgroup": "",
           "marker": {
            "color": [
             3.000623,
             2.59857,
             3.854576,
             4.276352,
             3.124711,
             3.326874
            ],
            "coloraxis": "coloraxis",
            "size": [
             3.000623,
             2.59857,
             3.854576,
             4.276352,
             3.124711,
             3.326874
            ],
            "sizemode": "area",
            "sizeref": 0.23812812479999998,
            "symbol": "circle"
           },
           "mode": "markers+text",
           "name": "",
           "scene": "scene",
           "showlegend": false,
           "text": [
            "back corner/exhaust",
            "back",
            "front-tripod",
            "door",
            "front corner",
            "front-desk"
           ],
           "type": "scatter3d",
           "x": [
            0,
            0,
            0.9,
            0.95,
            0.9,
            0.65
           ],
           "y": [
            0.85,
            0.1,
            0.45,
            0,
            1,
            0.45
           ],
           "z": [
            0.2,
            0.8,
            0.5,
            0.9,
            0.6,
            0.3
           ]
          }
         ],
         "name": "196"
        },
        {
         "data": [
          {
           "hovertemplate": "time_elapsed=197<br>x=%{x}<br>y=%{y}<br>z=%{z}<br>MassConc_2p5=%{marker.color}<br>loc=%{text}<extra></extra>",
           "legendgroup": "",
           "marker": {
            "color": [
             2.902892,
             2.527565,
             3.734651,
             4.235238,
             3.036053,
             3.261414
            ],
            "coloraxis": "coloraxis",
            "size": [
             2.902892,
             2.527565,
             3.734651,
             4.235238,
             3.036053,
             3.261414
            ],
            "sizemode": "area",
            "sizeref": 0.23812812479999998,
            "symbol": "circle"
           },
           "mode": "markers+text",
           "name": "",
           "scene": "scene",
           "showlegend": false,
           "text": [
            "back corner/exhaust",
            "back",
            "front-tripod",
            "door",
            "front corner",
            "front-desk"
           ],
           "type": "scatter3d",
           "x": [
            0,
            0,
            0.9,
            0.95,
            0.9,
            0.65
           ],
           "y": [
            0.85,
            0.1,
            0.45,
            0,
            1,
            0.45
           ],
           "z": [
            0.2,
            0.8,
            0.5,
            0.9,
            0.6,
            0.3
           ]
          }
         ],
         "name": "197"
        },
        {
         "data": [
          {
           "hovertemplate": "time_elapsed=198<br>x=%{x}<br>y=%{y}<br>z=%{z}<br>MassConc_2p5=%{marker.color}<br>loc=%{text}<extra></extra>",
           "legendgroup": "",
           "marker": {
            "color": [
             2.803286,
             2.4448,
             3.619889,
             4.199251,
             2.942616,
             3.224805
            ],
            "coloraxis": "coloraxis",
            "size": [
             2.803286,
             2.4448,
             3.619889,
             4.199251,
             2.942616,
             3.224805
            ],
            "sizemode": "area",
            "sizeref": 0.23812812479999998,
            "symbol": "circle"
           },
           "mode": "markers+text",
           "name": "",
           "scene": "scene",
           "showlegend": false,
           "text": [
            "back corner/exhaust",
            "back",
            "front-tripod",
            "door",
            "front corner",
            "front-desk"
           ],
           "type": "scatter3d",
           "x": [
            0,
            0,
            0.9,
            0.95,
            0.9,
            0.65
           ],
           "y": [
            0.85,
            0.1,
            0.45,
            0,
            1,
            0.45
           ],
           "z": [
            0.2,
            0.8,
            0.5,
            0.9,
            0.6,
            0.3
           ]
          }
         ],
         "name": "198"
        },
        {
         "data": [
          {
           "hovertemplate": "time_elapsed=199<br>x=%{x}<br>y=%{y}<br>z=%{z}<br>MassConc_2p5=%{marker.color}<br>loc=%{text}<extra></extra>",
           "legendgroup": "",
           "marker": {
            "color": [
             2.712232,
             2.361748,
             3.500343,
             4.156436,
             2.846732,
             3.18235
            ],
            "coloraxis": "coloraxis",
            "size": [
             2.712232,
             2.361748,
             3.500343,
             4.156436,
             2.846732,
             3.18235
            ],
            "sizemode": "area",
            "sizeref": 0.23812812479999998,
            "symbol": "circle"
           },
           "mode": "markers+text",
           "name": "",
           "scene": "scene",
           "showlegend": false,
           "text": [
            "back corner/exhaust",
            "back",
            "front-tripod",
            "door",
            "front corner",
            "front-desk"
           ],
           "type": "scatter3d",
           "x": [
            0,
            0,
            0.9,
            0.95,
            0.9,
            0.65
           ],
           "y": [
            0.85,
            0.1,
            0.45,
            0,
            1,
            0.45
           ],
           "z": [
            0.2,
            0.8,
            0.5,
            0.9,
            0.6,
            0.3
           ]
          }
         ],
         "name": "199"
        },
        {
         "data": [
          {
           "hovertemplate": "time_elapsed=200<br>x=%{x}<br>y=%{y}<br>z=%{z}<br>MassConc_2p5=%{marker.color}<br>loc=%{text}<extra></extra>",
           "legendgroup": "",
           "marker": {
            "color": [
             2.619956,
             2.279336,
             3.368763,
             4.117794,
             2.767757,
             3.12634
            ],
            "coloraxis": "coloraxis",
            "size": [
             2.619956,
             2.279336,
             3.368763,
             4.117794,
             2.767757,
             3.12634
            ],
            "sizemode": "area",
            "sizeref": 0.23812812479999998,
            "symbol": "circle"
           },
           "mode": "markers+text",
           "name": "",
           "scene": "scene",
           "showlegend": false,
           "text": [
            "back corner/exhaust",
            "back",
            "front-tripod",
            "door",
            "front corner",
            "front-desk"
           ],
           "type": "scatter3d",
           "x": [
            0,
            0,
            0.9,
            0.95,
            0.9,
            0.65
           ],
           "y": [
            0.85,
            0.1,
            0.45,
            0,
            1,
            0.45
           ],
           "z": [
            0.2,
            0.8,
            0.5,
            0.9,
            0.6,
            0.3
           ]
          }
         ],
         "name": "200"
        },
        {
         "data": [
          {
           "hovertemplate": "time_elapsed=201<br>x=%{x}<br>y=%{y}<br>z=%{z}<br>MassConc_2p5=%{marker.color}<br>loc=%{text}<extra></extra>",
           "legendgroup": "",
           "marker": {
            "color": [
             2.519047,
             2.198395,
             3.247817,
             4.04602,
             2.693846,
             3.078793
            ],
            "coloraxis": "coloraxis",
            "size": [
             2.519047,
             2.198395,
             3.247817,
             4.04602,
             2.693846,
             3.078793
            ],
            "sizemode": "area",
            "sizeref": 0.23812812479999998,
            "symbol": "circle"
           },
           "mode": "markers+text",
           "name": "",
           "scene": "scene",
           "showlegend": false,
           "text": [
            "back corner/exhaust",
            "back",
            "front-tripod",
            "door",
            "front corner",
            "front-desk"
           ],
           "type": "scatter3d",
           "x": [
            0,
            0,
            0.9,
            0.95,
            0.9,
            0.65
           ],
           "y": [
            0.85,
            0.1,
            0.45,
            0,
            1,
            0.45
           ],
           "z": [
            0.2,
            0.8,
            0.5,
            0.9,
            0.6,
            0.3
           ]
          }
         ],
         "name": "201"
        },
        {
         "data": [
          {
           "hovertemplate": "time_elapsed=202<br>x=%{x}<br>y=%{y}<br>z=%{z}<br>MassConc_2p5=%{marker.color}<br>loc=%{text}<extra></extra>",
           "legendgroup": "",
           "marker": {
            "color": [
             2.421006,
             2.152994,
             3.127227,
             3.9567,
             2.616035,
             3.028635
            ],
            "coloraxis": "coloraxis",
            "size": [
             2.421006,
             2.152994,
             3.127227,
             3.9567,
             2.616035,
             3.028635
            ],
            "sizemode": "area",
            "sizeref": 0.23812812479999998,
            "symbol": "circle"
           },
           "mode": "markers+text",
           "name": "",
           "scene": "scene",
           "showlegend": false,
           "text": [
            "back corner/exhaust",
            "back",
            "front-tripod",
            "door",
            "front corner",
            "front-desk"
           ],
           "type": "scatter3d",
           "x": [
            0,
            0,
            0.9,
            0.95,
            0.9,
            0.65
           ],
           "y": [
            0.85,
            0.1,
            0.45,
            0,
            1,
            0.45
           ],
           "z": [
            0.2,
            0.8,
            0.5,
            0.9,
            0.6,
            0.3
           ]
          }
         ],
         "name": "202"
        },
        {
         "data": [
          {
           "hovertemplate": "time_elapsed=203<br>x=%{x}<br>y=%{y}<br>z=%{z}<br>MassConc_2p5=%{marker.color}<br>loc=%{text}<extra></extra>",
           "legendgroup": "",
           "marker": {
            "color": [
             2.343441,
             2.094713,
             2.998465,
             3.854674,
             2.535769,
             3.005176
            ],
            "coloraxis": "coloraxis",
            "size": [
             2.343441,
             2.094713,
             2.998465,
             3.854674,
             2.535769,
             3.005176
            ],
            "sizemode": "area",
            "sizeref": 0.23812812479999998,
            "symbol": "circle"
           },
           "mode": "markers+text",
           "name": "",
           "scene": "scene",
           "showlegend": false,
           "text": [
            "back corner/exhaust",
            "back",
            "front-tripod",
            "door",
            "front corner",
            "front-desk"
           ],
           "type": "scatter3d",
           "x": [
            0,
            0,
            0.9,
            0.95,
            0.9,
            0.65
           ],
           "y": [
            0.85,
            0.1,
            0.45,
            0,
            1,
            0.45
           ],
           "z": [
            0.2,
            0.8,
            0.5,
            0.9,
            0.6,
            0.3
           ]
          }
         ],
         "name": "203"
        },
        {
         "data": [
          {
           "hovertemplate": "time_elapsed=204<br>x=%{x}<br>y=%{y}<br>z=%{z}<br>MassConc_2p5=%{marker.color}<br>loc=%{text}<extra></extra>",
           "legendgroup": "",
           "marker": {
            "color": [
             2.283229,
             2.043383,
             2.873591,
             3.733853,
             2.463439,
             2.965889
            ],
            "coloraxis": "coloraxis",
            "size": [
             2.283229,
             2.043383,
             2.873591,
             3.733853,
             2.463439,
             2.965889
            ],
            "sizemode": "area",
            "sizeref": 0.23812812479999998,
            "symbol": "circle"
           },
           "mode": "markers+text",
           "name": "",
           "scene": "scene",
           "showlegend": false,
           "text": [
            "back corner/exhaust",
            "back",
            "front-tripod",
            "door",
            "front corner",
            "front-desk"
           ],
           "type": "scatter3d",
           "x": [
            0,
            0,
            0.9,
            0.95,
            0.9,
            0.65
           ],
           "y": [
            0.85,
            0.1,
            0.45,
            0,
            1,
            0.45
           ],
           "z": [
            0.2,
            0.8,
            0.5,
            0.9,
            0.6,
            0.3
           ]
          }
         ],
         "name": "204"
        },
        {
         "data": [
          {
           "hovertemplate": "time_elapsed=205<br>x=%{x}<br>y=%{y}<br>z=%{z}<br>MassConc_2p5=%{marker.color}<br>loc=%{text}<extra></extra>",
           "legendgroup": "",
           "marker": {
            "color": [
             2.228983,
             1.989852,
             2.763139,
             3.616855,
             2.434085,
             2.92313
            ],
            "coloraxis": "coloraxis",
            "size": [
             2.228983,
             1.989852,
             2.763139,
             3.616855,
             2.434085,
             2.92313
            ],
            "sizemode": "area",
            "sizeref": 0.23812812479999998,
            "symbol": "circle"
           },
           "mode": "markers+text",
           "name": "",
           "scene": "scene",
           "showlegend": false,
           "text": [
            "back corner/exhaust",
            "back",
            "front-tripod",
            "door",
            "front corner",
            "front-desk"
           ],
           "type": "scatter3d",
           "x": [
            0,
            0,
            0.9,
            0.95,
            0.9,
            0.65
           ],
           "y": [
            0.85,
            0.1,
            0.45,
            0,
            1,
            0.45
           ],
           "z": [
            0.2,
            0.8,
            0.5,
            0.9,
            0.6,
            0.3
           ]
          }
         ],
         "name": "205"
        },
        {
         "data": [
          {
           "hovertemplate": "time_elapsed=206<br>x=%{x}<br>y=%{y}<br>z=%{z}<br>MassConc_2p5=%{marker.color}<br>loc=%{text}<extra></extra>",
           "legendgroup": "",
           "marker": {
            "color": [
             2.180113,
             1.935182,
             2.665132,
             3.503851,
             2.385905,
             2.859296
            ],
            "coloraxis": "coloraxis",
            "size": [
             2.180113,
             1.935182,
             2.665132,
             3.503851,
             2.385905,
             2.859296
            ],
            "sizemode": "area",
            "sizeref": 0.23812812479999998,
            "symbol": "circle"
           },
           "mode": "markers+text",
           "name": "",
           "scene": "scene",
           "showlegend": false,
           "text": [
            "back corner/exhaust",
            "back",
            "front-tripod",
            "door",
            "front corner",
            "front-desk"
           ],
           "type": "scatter3d",
           "x": [
            0,
            0,
            0.9,
            0.95,
            0.9,
            0.65
           ],
           "y": [
            0.85,
            0.1,
            0.45,
            0,
            1,
            0.45
           ],
           "z": [
            0.2,
            0.8,
            0.5,
            0.9,
            0.6,
            0.3
           ]
          }
         ],
         "name": "206"
        },
        {
         "data": [
          {
           "hovertemplate": "time_elapsed=207<br>x=%{x}<br>y=%{y}<br>z=%{z}<br>MassConc_2p5=%{marker.color}<br>loc=%{text}<extra></extra>",
           "legendgroup": "",
           "marker": {
            "color": [
             2.118743,
             1.871571,
             2.578122,
             3.396685,
             2.359484,
             2.798866
            ],
            "coloraxis": "coloraxis",
            "size": [
             2.118743,
             1.871571,
             2.578122,
             3.396685,
             2.359484,
             2.798866
            ],
            "sizemode": "area",
            "sizeref": 0.23812812479999998,
            "symbol": "circle"
           },
           "mode": "markers+text",
           "name": "",
           "scene": "scene",
           "showlegend": false,
           "text": [
            "back corner/exhaust",
            "back",
            "front-tripod",
            "door",
            "front corner",
            "front-desk"
           ],
           "type": "scatter3d",
           "x": [
            0,
            0,
            0.9,
            0.95,
            0.9,
            0.65
           ],
           "y": [
            0.85,
            0.1,
            0.45,
            0,
            1,
            0.45
           ],
           "z": [
            0.2,
            0.8,
            0.5,
            0.9,
            0.6,
            0.3
           ]
          }
         ],
         "name": "207"
        },
        {
         "data": [
          {
           "hovertemplate": "time_elapsed=208<br>x=%{x}<br>y=%{y}<br>z=%{z}<br>MassConc_2p5=%{marker.color}<br>loc=%{text}<extra></extra>",
           "legendgroup": "",
           "marker": {
            "color": [
             2.056587,
             1.80135,
             2.481982,
             3.284987,
             2.332956,
             2.760848
            ],
            "coloraxis": "coloraxis",
            "size": [
             2.056587,
             1.80135,
             2.481982,
             3.284987,
             2.332956,
             2.760848
            ],
            "sizemode": "area",
            "sizeref": 0.23812812479999998,
            "symbol": "circle"
           },
           "mode": "markers+text",
           "name": "",
           "scene": "scene",
           "showlegend": false,
           "text": [
            "back corner/exhaust",
            "back",
            "front-tripod",
            "door",
            "front corner",
            "front-desk"
           ],
           "type": "scatter3d",
           "x": [
            0,
            0,
            0.9,
            0.95,
            0.9,
            0.65
           ],
           "y": [
            0.85,
            0.1,
            0.45,
            0,
            1,
            0.45
           ],
           "z": [
            0.2,
            0.8,
            0.5,
            0.9,
            0.6,
            0.3
           ]
          }
         ],
         "name": "208"
        },
        {
         "data": [
          {
           "hovertemplate": "time_elapsed=209<br>x=%{x}<br>y=%{y}<br>z=%{z}<br>MassConc_2p5=%{marker.color}<br>loc=%{text}<extra></extra>",
           "legendgroup": "",
           "marker": {
            "color": [
             1.985688,
             1.726474,
             2.388723,
             3.171063,
             2.28819,
             2.731532
            ],
            "coloraxis": "coloraxis",
            "size": [
             1.985688,
             1.726474,
             2.388723,
             3.171063,
             2.28819,
             2.731532
            ],
            "sizemode": "area",
            "sizeref": 0.23812812479999998,
            "symbol": "circle"
           },
           "mode": "markers+text",
           "name": "",
           "scene": "scene",
           "showlegend": false,
           "text": [
            "back corner/exhaust",
            "back",
            "front-tripod",
            "door",
            "front corner",
            "front-desk"
           ],
           "type": "scatter3d",
           "x": [
            0,
            0,
            0.9,
            0.95,
            0.9,
            0.65
           ],
           "y": [
            0.85,
            0.1,
            0.45,
            0,
            1,
            0.45
           ],
           "z": [
            0.2,
            0.8,
            0.5,
            0.9,
            0.6,
            0.3
           ]
          }
         ],
         "name": "209"
        },
        {
         "data": [
          {
           "hovertemplate": "time_elapsed=210<br>x=%{x}<br>y=%{y}<br>z=%{z}<br>MassConc_2p5=%{marker.color}<br>loc=%{text}<extra></extra>",
           "legendgroup": "",
           "marker": {
            "color": [
             1.961026,
             1.665516,
             2.318126,
             3.065081,
             2.256114,
             2.710027
            ],
            "coloraxis": "coloraxis",
            "size": [
             1.961026,
             1.665516,
             2.318126,
             3.065081,
             2.256114,
             2.710027
            ],
            "sizemode": "area",
            "sizeref": 0.23812812479999998,
            "symbol": "circle"
           },
           "mode": "markers+text",
           "name": "",
           "scene": "scene",
           "showlegend": false,
           "text": [
            "back corner/exhaust",
            "back",
            "front-tripod",
            "door",
            "front corner",
            "front-desk"
           ],
           "type": "scatter3d",
           "x": [
            0,
            0,
            0.9,
            0.95,
            0.9,
            0.65
           ],
           "y": [
            0.85,
            0.1,
            0.45,
            0,
            1,
            0.45
           ],
           "z": [
            0.2,
            0.8,
            0.5,
            0.9,
            0.6,
            0.3
           ]
          }
         ],
         "name": "210"
        },
        {
         "data": [
          {
           "hovertemplate": "time_elapsed=211<br>x=%{x}<br>y=%{y}<br>z=%{z}<br>MassConc_2p5=%{marker.color}<br>loc=%{text}<extra></extra>",
           "legendgroup": "",
           "marker": {
            "color": [
             1.921503,
             1.616424,
             2.247601,
             2.96739,
             2.261032,
             2.675635
            ],
            "coloraxis": "coloraxis",
            "size": [
             1.921503,
             1.616424,
             2.247601,
             2.96739,
             2.261032,
             2.675635
            ],
            "sizemode": "area",
            "sizeref": 0.23812812479999998,
            "symbol": "circle"
           },
           "mode": "markers+text",
           "name": "",
           "scene": "scene",
           "showlegend": false,
           "text": [
            "back corner/exhaust",
            "back",
            "front-tripod",
            "door",
            "front corner",
            "front-desk"
           ],
           "type": "scatter3d",
           "x": [
            0,
            0,
            0.9,
            0.95,
            0.9,
            0.65
           ],
           "y": [
            0.85,
            0.1,
            0.45,
            0,
            1,
            0.45
           ],
           "z": [
            0.2,
            0.8,
            0.5,
            0.9,
            0.6,
            0.3
           ]
          }
         ],
         "name": "211"
        },
        {
         "data": [
          {
           "hovertemplate": "time_elapsed=212<br>x=%{x}<br>y=%{y}<br>z=%{z}<br>MassConc_2p5=%{marker.color}<br>loc=%{text}<extra></extra>",
           "legendgroup": "",
           "marker": {
            "color": [
             1.904997,
             1.577438,
             2.187362,
             2.876924,
             2.251323,
             2.6212
            ],
            "coloraxis": "coloraxis",
            "size": [
             1.904997,
             1.577438,
             2.187362,
             2.876924,
             2.251323,
             2.6212
            ],
            "sizemode": "area",
            "sizeref": 0.23812812479999998,
            "symbol": "circle"
           },
           "mode": "markers+text",
           "name": "",
           "scene": "scene",
           "showlegend": false,
           "text": [
            "back corner/exhaust",
            "back",
            "front-tripod",
            "door",
            "front corner",
            "front-desk"
           ],
           "type": "scatter3d",
           "x": [
            0,
            0,
            0.9,
            0.95,
            0.9,
            0.65
           ],
           "y": [
            0.85,
            0.1,
            0.45,
            0,
            1,
            0.45
           ],
           "z": [
            0.2,
            0.8,
            0.5,
            0.9,
            0.6,
            0.3
           ]
          }
         ],
         "name": "212"
        },
        {
         "data": [
          {
           "hovertemplate": "time_elapsed=213<br>x=%{x}<br>y=%{y}<br>z=%{z}<br>MassConc_2p5=%{marker.color}<br>loc=%{text}<extra></extra>",
           "legendgroup": "",
           "marker": {
            "color": [
             1.881452,
             1.547034,
             2.126557,
             2.793968,
             2.238956,
             2.560675
            ],
            "coloraxis": "coloraxis",
            "size": [
             1.881452,
             1.547034,
             2.126557,
             2.793968,
             2.238956,
             2.560675
            ],
            "sizemode": "area",
            "sizeref": 0.23812812479999998,
            "symbol": "circle"
           },
           "mode": "markers+text",
           "name": "",
           "scene": "scene",
           "showlegend": false,
           "text": [
            "back corner/exhaust",
            "back",
            "front-tripod",
            "door",
            "front corner",
            "front-desk"
           ],
           "type": "scatter3d",
           "x": [
            0,
            0,
            0.9,
            0.95,
            0.9,
            0.65
           ],
           "y": [
            0.85,
            0.1,
            0.45,
            0,
            1,
            0.45
           ],
           "z": [
            0.2,
            0.8,
            0.5,
            0.9,
            0.6,
            0.3
           ]
          }
         ],
         "name": "213"
        },
        {
         "data": [
          {
           "hovertemplate": "time_elapsed=214<br>x=%{x}<br>y=%{y}<br>z=%{z}<br>MassConc_2p5=%{marker.color}<br>loc=%{text}<extra></extra>",
           "legendgroup": "",
           "marker": {
            "color": [
             1.843616,
             1.532315,
             2.056151,
             2.708343,
             2.206514,
             2.495545
            ],
            "coloraxis": "coloraxis",
            "size": [
             1.843616,
             1.532315,
             2.056151,
             2.708343,
             2.206514,
             2.495545
            ],
            "sizemode": "area",
            "sizeref": 0.23812812479999998,
            "symbol": "circle"
           },
           "mode": "markers+text",
           "name": "",
           "scene": "scene",
           "showlegend": false,
           "text": [
            "back corner/exhaust",
            "back",
            "front-tripod",
            "door",
            "front corner",
            "front-desk"
           ],
           "type": "scatter3d",
           "x": [
            0,
            0,
            0.9,
            0.95,
            0.9,
            0.65
           ],
           "y": [
            0.85,
            0.1,
            0.45,
            0,
            1,
            0.45
           ],
           "z": [
            0.2,
            0.8,
            0.5,
            0.9,
            0.6,
            0.3
           ]
          }
         ],
         "name": "214"
        },
        {
         "data": [
          {
           "hovertemplate": "time_elapsed=215<br>x=%{x}<br>y=%{y}<br>z=%{z}<br>MassConc_2p5=%{marker.color}<br>loc=%{text}<extra></extra>",
           "legendgroup": "",
           "marker": {
            "color": [
             1.794573,
             1.513659,
             1.978649,
             2.62126,
             2.15814,
             2.427315
            ],
            "coloraxis": "coloraxis",
            "size": [
             1.794573,
             1.513659,
             1.978649,
             2.62126,
             2.15814,
             2.427315
            ],
            "sizemode": "area",
            "sizeref": 0.23812812479999998,
            "symbol": "circle"
           },
           "mode": "markers+text",
           "name": "",
           "scene": "scene",
           "showlegend": false,
           "text": [
            "back corner/exhaust",
            "back",
            "front-tripod",
            "door",
            "front corner",
            "front-desk"
           ],
           "type": "scatter3d",
           "x": [
            0,
            0,
            0.9,
            0.95,
            0.9,
            0.65
           ],
           "y": [
            0.85,
            0.1,
            0.45,
            0,
            1,
            0.45
           ],
           "z": [
            0.2,
            0.8,
            0.5,
            0.9,
            0.6,
            0.3
           ]
          }
         ],
         "name": "215"
        },
        {
         "data": [
          {
           "hovertemplate": "time_elapsed=216<br>x=%{x}<br>y=%{y}<br>z=%{z}<br>MassConc_2p5=%{marker.color}<br>loc=%{text}<extra></extra>",
           "legendgroup": "",
           "marker": {
            "color": [
             1.736936,
             1.500366,
             1.896158,
             2.543444,
             2.106388,
             2.357424
            ],
            "coloraxis": "coloraxis",
            "size": [
             1.736936,
             1.500366,
             1.896158,
             2.543444,
             2.106388,
             2.357424
            ],
            "sizemode": "area",
            "sizeref": 0.23812812479999998,
            "symbol": "circle"
           },
           "mode": "markers+text",
           "name": "",
           "scene": "scene",
           "showlegend": false,
           "text": [
            "back corner/exhaust",
            "back",
            "front-tripod",
            "door",
            "front corner",
            "front-desk"
           ],
           "type": "scatter3d",
           "x": [
            0,
            0,
            0.9,
            0.95,
            0.9,
            0.65
           ],
           "y": [
            0.85,
            0.1,
            0.45,
            0,
            1,
            0.45
           ],
           "z": [
            0.2,
            0.8,
            0.5,
            0.9,
            0.6,
            0.3
           ]
          }
         ],
         "name": "216"
        },
        {
         "data": [
          {
           "hovertemplate": "time_elapsed=217<br>x=%{x}<br>y=%{y}<br>z=%{z}<br>MassConc_2p5=%{marker.color}<br>loc=%{text}<extra></extra>",
           "legendgroup": "",
           "marker": {
            "color": [
             1.698853,
             1.491382,
             1.829541,
             2.455028,
             2.061185,
             2.277282
            ],
            "coloraxis": "coloraxis",
            "size": [
             1.698853,
             1.491382,
             1.829541,
             2.455028,
             2.061185,
             2.277282
            ],
            "sizemode": "area",
            "sizeref": 0.23812812479999998,
            "symbol": "circle"
           },
           "mode": "markers+text",
           "name": "",
           "scene": "scene",
           "showlegend": false,
           "text": [
            "back corner/exhaust",
            "back",
            "front-tripod",
            "door",
            "front corner",
            "front-desk"
           ],
           "type": "scatter3d",
           "x": [
            0,
            0,
            0.9,
            0.95,
            0.9,
            0.65
           ],
           "y": [
            0.85,
            0.1,
            0.45,
            0,
            1,
            0.45
           ],
           "z": [
            0.2,
            0.8,
            0.5,
            0.9,
            0.6,
            0.3
           ]
          }
         ],
         "name": "217"
        },
        {
         "data": [
          {
           "hovertemplate": "time_elapsed=218<br>x=%{x}<br>y=%{y}<br>z=%{z}<br>MassConc_2p5=%{marker.color}<br>loc=%{text}<extra></extra>",
           "legendgroup": "",
           "marker": {
            "color": [
             1.651029,
             1.486334,
             1.776603,
             2.39636,
             2.031519,
             2.209471
            ],
            "coloraxis": "coloraxis",
            "size": [
             1.651029,
             1.486334,
             1.776603,
             2.39636,
             2.031519,
             2.209471
            ],
            "sizemode": "area",
            "sizeref": 0.23812812479999998,
            "symbol": "circle"
           },
           "mode": "markers+text",
           "name": "",
           "scene": "scene",
           "showlegend": false,
           "text": [
            "back corner/exhaust",
            "back",
            "front-tripod",
            "door",
            "front corner",
            "front-desk"
           ],
           "type": "scatter3d",
           "x": [
            0,
            0,
            0.9,
            0.95,
            0.9,
            0.65
           ],
           "y": [
            0.85,
            0.1,
            0.45,
            0,
            1,
            0.45
           ],
           "z": [
            0.2,
            0.8,
            0.5,
            0.9,
            0.6,
            0.3
           ]
          }
         ],
         "name": "218"
        },
        {
         "data": [
          {
           "hovertemplate": "time_elapsed=219<br>x=%{x}<br>y=%{y}<br>z=%{z}<br>MassConc_2p5=%{marker.color}<br>loc=%{text}<extra></extra>",
           "legendgroup": "",
           "marker": {
            "color": [
             1.604421,
             1.475871,
             1.716026,
             2.333995,
             1.987196,
             2.132519
            ],
            "coloraxis": "coloraxis",
            "size": [
             1.604421,
             1.475871,
             1.716026,
             2.333995,
             1.987196,
             2.132519
            ],
            "sizemode": "area",
            "sizeref": 0.23812812479999998,
            "symbol": "circle"
           },
           "mode": "markers+text",
           "name": "",
           "scene": "scene",
           "showlegend": false,
           "text": [
            "back corner/exhaust",
            "back",
            "front-tripod",
            "door",
            "front corner",
            "front-desk"
           ],
           "type": "scatter3d",
           "x": [
            0,
            0,
            0.9,
            0.95,
            0.9,
            0.65
           ],
           "y": [
            0.85,
            0.1,
            0.45,
            0,
            1,
            0.45
           ],
           "z": [
            0.2,
            0.8,
            0.5,
            0.9,
            0.6,
            0.3
           ]
          }
         ],
         "name": "219"
        },
        {
         "data": [
          {
           "hovertemplate": "time_elapsed=220<br>x=%{x}<br>y=%{y}<br>z=%{z}<br>MassConc_2p5=%{marker.color}<br>loc=%{text}<extra></extra>",
           "legendgroup": "",
           "marker": {
            "color": [
             1.559382,
             1.452674,
             1.668838,
             2.278991,
             1.967723,
             2.068764
            ],
            "coloraxis": "coloraxis",
            "size": [
             1.559382,
             1.452674,
             1.668838,
             2.278991,
             1.967723,
             2.068764
            ],
            "sizemode": "area",
            "sizeref": 0.23812812479999998,
            "symbol": "circle"
           },
           "mode": "markers+text",
           "name": "",
           "scene": "scene",
           "showlegend": false,
           "text": [
            "back corner/exhaust",
            "back",
            "front-tripod",
            "door",
            "front corner",
            "front-desk"
           ],
           "type": "scatter3d",
           "x": [
            0,
            0,
            0.9,
            0.95,
            0.9,
            0.65
           ],
           "y": [
            0.85,
            0.1,
            0.45,
            0,
            1,
            0.45
           ],
           "z": [
            0.2,
            0.8,
            0.5,
            0.9,
            0.6,
            0.3
           ]
          }
         ],
         "name": "220"
        },
        {
         "data": [
          {
           "hovertemplate": "time_elapsed=221<br>x=%{x}<br>y=%{y}<br>z=%{z}<br>MassConc_2p5=%{marker.color}<br>loc=%{text}<extra></extra>",
           "legendgroup": "",
           "marker": {
            "color": [
             1.524767,
             1.419387,
             1.652402,
             2.211679,
             1.95934,
             2.015906
            ],
            "coloraxis": "coloraxis",
            "size": [
             1.524767,
             1.419387,
             1.652402,
             2.211679,
             1.95934,
             2.015906
            ],
            "sizemode": "area",
            "sizeref": 0.23812812479999998,
            "symbol": "circle"
           },
           "mode": "markers+text",
           "name": "",
           "scene": "scene",
           "showlegend": false,
           "text": [
            "back corner/exhaust",
            "back",
            "front-tripod",
            "door",
            "front corner",
            "front-desk"
           ],
           "type": "scatter3d",
           "x": [
            0,
            0,
            0.9,
            0.95,
            0.9,
            0.65
           ],
           "y": [
            0.85,
            0.1,
            0.45,
            0,
            1,
            0.45
           ],
           "z": [
            0.2,
            0.8,
            0.5,
            0.9,
            0.6,
            0.3
           ]
          }
         ],
         "name": "221"
        },
        {
         "data": [
          {
           "hovertemplate": "time_elapsed=222<br>x=%{x}<br>y=%{y}<br>z=%{z}<br>MassConc_2p5=%{marker.color}<br>loc=%{text}<extra></extra>",
           "legendgroup": "",
           "marker": {
            "color": [
             1.499003,
             1.395127,
             1.651528,
             2.153269,
             1.933006,
             1.97289
            ],
            "coloraxis": "coloraxis",
            "size": [
             1.499003,
             1.395127,
             1.651528,
             2.153269,
             1.933006,
             1.97289
            ],
            "sizemode": "area",
            "sizeref": 0.23812812479999998,
            "symbol": "circle"
           },
           "mode": "markers+text",
           "name": "",
           "scene": "scene",
           "showlegend": false,
           "text": [
            "back corner/exhaust",
            "back",
            "front-tripod",
            "door",
            "front corner",
            "front-desk"
           ],
           "type": "scatter3d",
           "x": [
            0,
            0,
            0.9,
            0.95,
            0.9,
            0.65
           ],
           "y": [
            0.85,
            0.1,
            0.45,
            0,
            1,
            0.45
           ],
           "z": [
            0.2,
            0.8,
            0.5,
            0.9,
            0.6,
            0.3
           ]
          }
         ],
         "name": "222"
        },
        {
         "data": [
          {
           "hovertemplate": "time_elapsed=223<br>x=%{x}<br>y=%{y}<br>z=%{z}<br>MassConc_2p5=%{marker.color}<br>loc=%{text}<extra></extra>",
           "legendgroup": "",
           "marker": {
            "color": [
             1.471977,
             1.361544,
             1.634381,
             2.102982,
             1.892383,
             1.918449
            ],
            "coloraxis": "coloraxis",
            "size": [
             1.471977,
             1.361544,
             1.634381,
             2.102982,
             1.892383,
             1.918449
            ],
            "sizemode": "area",
            "sizeref": 0.23812812479999998,
            "symbol": "circle"
           },
           "mode": "markers+text",
           "name": "",
           "scene": "scene",
           "showlegend": false,
           "text": [
            "back corner/exhaust",
            "back",
            "front-tripod",
            "door",
            "front corner",
            "front-desk"
           ],
           "type": "scatter3d",
           "x": [
            0,
            0,
            0.9,
            0.95,
            0.9,
            0.65
           ],
           "y": [
            0.85,
            0.1,
            0.45,
            0,
            1,
            0.45
           ],
           "z": [
            0.2,
            0.8,
            0.5,
            0.9,
            0.6,
            0.3
           ]
          }
         ],
         "name": "223"
        },
        {
         "data": [
          {
           "hovertemplate": "time_elapsed=224<br>x=%{x}<br>y=%{y}<br>z=%{z}<br>MassConc_2p5=%{marker.color}<br>loc=%{text}<extra></extra>",
           "legendgroup": "",
           "marker": {
            "color": [
             1.444209,
             1.346265,
             1.623376,
             2.05956,
             1.839405,
             1.864916
            ],
            "coloraxis": "coloraxis",
            "size": [
             1.444209,
             1.346265,
             1.623376,
             2.05956,
             1.839405,
             1.864916
            ],
            "sizemode": "area",
            "sizeref": 0.23812812479999998,
            "symbol": "circle"
           },
           "mode": "markers+text",
           "name": "",
           "scene": "scene",
           "showlegend": false,
           "text": [
            "back corner/exhaust",
            "back",
            "front-tripod",
            "door",
            "front corner",
            "front-desk"
           ],
           "type": "scatter3d",
           "x": [
            0,
            0,
            0.9,
            0.95,
            0.9,
            0.65
           ],
           "y": [
            0.85,
            0.1,
            0.45,
            0,
            1,
            0.45
           ],
           "z": [
            0.2,
            0.8,
            0.5,
            0.9,
            0.6,
            0.3
           ]
          }
         ],
         "name": "224"
        },
        {
         "data": [
          {
           "hovertemplate": "time_elapsed=225<br>x=%{x}<br>y=%{y}<br>z=%{z}<br>MassConc_2p5=%{marker.color}<br>loc=%{text}<extra></extra>",
           "legendgroup": "",
           "marker": {
            "color": [
             1.396343,
             1.320459,
             1.61735,
             2.022667,
             1.814643,
             1.802995
            ],
            "coloraxis": "coloraxis",
            "size": [
             1.396343,
             1.320459,
             1.61735,
             2.022667,
             1.814643,
             1.802995
            ],
            "sizemode": "area",
            "sizeref": 0.23812812479999998,
            "symbol": "circle"
           },
           "mode": "markers+text",
           "name": "",
           "scene": "scene",
           "showlegend": false,
           "text": [
            "back corner/exhaust",
            "back",
            "front-tripod",
            "door",
            "front corner",
            "front-desk"
           ],
           "type": "scatter3d",
           "x": [
            0,
            0,
            0.9,
            0.95,
            0.9,
            0.65
           ],
           "y": [
            0.85,
            0.1,
            0.45,
            0,
            1,
            0.45
           ],
           "z": [
            0.2,
            0.8,
            0.5,
            0.9,
            0.6,
            0.3
           ]
          }
         ],
         "name": "225"
        },
        {
         "data": [
          {
           "hovertemplate": "time_elapsed=226<br>x=%{x}<br>y=%{y}<br>z=%{z}<br>MassConc_2p5=%{marker.color}<br>loc=%{text}<extra></extra>",
           "legendgroup": "",
           "marker": {
            "color": [
             1.366458,
             1.303265,
             1.605815,
             2.009938,
             1.776453,
             1.744815
            ],
            "coloraxis": "coloraxis",
            "size": [
             1.366458,
             1.303265,
             1.605815,
             2.009938,
             1.776453,
             1.744815
            ],
            "sizemode": "area",
            "sizeref": 0.23812812479999998,
            "symbol": "circle"
           },
           "mode": "markers+text",
           "name": "",
           "scene": "scene",
           "showlegend": false,
           "text": [
            "back corner/exhaust",
            "back",
            "front-tripod",
            "door",
            "front corner",
            "front-desk"
           ],
           "type": "scatter3d",
           "x": [
            0,
            0,
            0.9,
            0.95,
            0.9,
            0.65
           ],
           "y": [
            0.85,
            0.1,
            0.45,
            0,
            1,
            0.45
           ],
           "z": [
            0.2,
            0.8,
            0.5,
            0.9,
            0.6,
            0.3
           ]
          }
         ],
         "name": "226"
        },
        {
         "data": [
          {
           "hovertemplate": "time_elapsed=227<br>x=%{x}<br>y=%{y}<br>z=%{z}<br>MassConc_2p5=%{marker.color}<br>loc=%{text}<extra></extra>",
           "legendgroup": "",
           "marker": {
            "color": [
             1.328597,
             1.293211,
             1.58992,
             1.979494,
             1.745667,
             1.689847
            ],
            "coloraxis": "coloraxis",
            "size": [
             1.328597,
             1.293211,
             1.58992,
             1.979494,
             1.745667,
             1.689847
            ],
            "sizemode": "area",
            "sizeref": 0.23812812479999998,
            "symbol": "circle"
           },
           "mode": "markers+text",
           "name": "",
           "scene": "scene",
           "showlegend": false,
           "text": [
            "back corner/exhaust",
            "back",
            "front-tripod",
            "door",
            "front corner",
            "front-desk"
           ],
           "type": "scatter3d",
           "x": [
            0,
            0,
            0.9,
            0.95,
            0.9,
            0.65
           ],
           "y": [
            0.85,
            0.1,
            0.45,
            0,
            1,
            0.45
           ],
           "z": [
            0.2,
            0.8,
            0.5,
            0.9,
            0.6,
            0.3
           ]
          }
         ],
         "name": "227"
        },
        {
         "data": [
          {
           "hovertemplate": "time_elapsed=228<br>x=%{x}<br>y=%{y}<br>z=%{z}<br>MassConc_2p5=%{marker.color}<br>loc=%{text}<extra></extra>",
           "legendgroup": "",
           "marker": {
            "color": [
             1.31957,
             1.266072,
             1.561151,
             1.944259,
             1.712455,
             1.638028
            ],
            "coloraxis": "coloraxis",
            "size": [
             1.31957,
             1.266072,
             1.561151,
             1.944259,
             1.712455,
             1.638028
            ],
            "sizemode": "area",
            "sizeref": 0.23812812479999998,
            "symbol": "circle"
           },
           "mode": "markers+text",
           "name": "",
           "scene": "scene",
           "showlegend": false,
           "text": [
            "back corner/exhaust",
            "back",
            "front-tripod",
            "door",
            "front corner",
            "front-desk"
           ],
           "type": "scatter3d",
           "x": [
            0,
            0,
            0.9,
            0.95,
            0.9,
            0.65
           ],
           "y": [
            0.85,
            0.1,
            0.45,
            0,
            1,
            0.45
           ],
           "z": [
            0.2,
            0.8,
            0.5,
            0.9,
            0.6,
            0.3
           ]
          }
         ],
         "name": "228"
        },
        {
         "data": [
          {
           "hovertemplate": "time_elapsed=229<br>x=%{x}<br>y=%{y}<br>z=%{z}<br>MassConc_2p5=%{marker.color}<br>loc=%{text}<extra></extra>",
           "legendgroup": "",
           "marker": {
            "color": [
             1.30773,
             1.250178,
             1.531793,
             1.915194,
             1.668443,
             1.579719
            ],
            "coloraxis": "coloraxis",
            "size": [
             1.30773,
             1.250178,
             1.531793,
             1.915194,
             1.668443,
             1.579719
            ],
            "sizemode": "area",
            "sizeref": 0.23812812479999998,
            "symbol": "circle"
           },
           "mode": "markers+text",
           "name": "",
           "scene": "scene",
           "showlegend": false,
           "text": [
            "back corner/exhaust",
            "back",
            "front-tripod",
            "door",
            "front corner",
            "front-desk"
           ],
           "type": "scatter3d",
           "x": [
            0,
            0,
            0.9,
            0.95,
            0.9,
            0.65
           ],
           "y": [
            0.85,
            0.1,
            0.45,
            0,
            1,
            0.45
           ],
           "z": [
            0.2,
            0.8,
            0.5,
            0.9,
            0.6,
            0.3
           ]
          }
         ],
         "name": "229"
        },
        {
         "data": [
          {
           "hovertemplate": "time_elapsed=230<br>x=%{x}<br>y=%{y}<br>z=%{z}<br>MassConc_2p5=%{marker.color}<br>loc=%{text}<extra></extra>",
           "legendgroup": "",
           "marker": {
            "color": [
             1.302463,
             1.233312,
             1.512121,
             1.910387,
             1.616121,
             1.545667
            ],
            "coloraxis": "coloraxis",
            "size": [
             1.302463,
             1.233312,
             1.512121,
             1.910387,
             1.616121,
             1.545667
            ],
            "sizemode": "area",
            "sizeref": 0.23812812479999998,
            "symbol": "circle"
           },
           "mode": "markers+text",
           "name": "",
           "scene": "scene",
           "showlegend": false,
           "text": [
            "back corner/exhaust",
            "back",
            "front-tripod",
            "door",
            "front corner",
            "front-desk"
           ],
           "type": "scatter3d",
           "x": [
            0,
            0,
            0.9,
            0.95,
            0.9,
            0.65
           ],
           "y": [
            0.85,
            0.1,
            0.45,
            0,
            1,
            0.45
           ],
           "z": [
            0.2,
            0.8,
            0.5,
            0.9,
            0.6,
            0.3
           ]
          }
         ],
         "name": "230"
        },
        {
         "data": [
          {
           "hovertemplate": "time_elapsed=231<br>x=%{x}<br>y=%{y}<br>z=%{z}<br>MassConc_2p5=%{marker.color}<br>loc=%{text}<extra></extra>",
           "legendgroup": "",
           "marker": {
            "color": [
             1.285171,
             1.207333,
             1.509668,
             1.906114,
             1.584565,
             1.512566
            ],
            "coloraxis": "coloraxis",
            "size": [
             1.285171,
             1.207333,
             1.509668,
             1.906114,
             1.584565,
             1.512566
            ],
            "sizemode": "area",
            "sizeref": 0.23812812479999998,
            "symbol": "circle"
           },
           "mode": "markers+text",
           "name": "",
           "scene": "scene",
           "showlegend": false,
           "text": [
            "back corner/exhaust",
            "back",
            "front-tripod",
            "door",
            "front corner",
            "front-desk"
           ],
           "type": "scatter3d",
           "x": [
            0,
            0,
            0.9,
            0.95,
            0.9,
            0.65
           ],
           "y": [
            0.85,
            0.1,
            0.45,
            0,
            1,
            0.45
           ],
           "z": [
            0.2,
            0.8,
            0.5,
            0.9,
            0.6,
            0.3
           ]
          }
         ],
         "name": "231"
        },
        {
         "data": [
          {
           "hovertemplate": "time_elapsed=232<br>x=%{x}<br>y=%{y}<br>z=%{z}<br>MassConc_2p5=%{marker.color}<br>loc=%{text}<extra></extra>",
           "legendgroup": "",
           "marker": {
            "color": [
             1.293368,
             1.17423,
             1.521546,
             1.883634,
             1.579298,
             1.470665
            ],
            "coloraxis": "coloraxis",
            "size": [
             1.293368,
             1.17423,
             1.521546,
             1.883634,
             1.579298,
             1.470665
            ],
            "sizemode": "area",
            "sizeref": 0.23812812479999998,
            "symbol": "circle"
           },
           "mode": "markers+text",
           "name": "",
           "scene": "scene",
           "showlegend": false,
           "text": [
            "back corner/exhaust",
            "back",
            "front-tripod",
            "door",
            "front corner",
            "front-desk"
           ],
           "type": "scatter3d",
           "x": [
            0,
            0,
            0.9,
            0.95,
            0.9,
            0.65
           ],
           "y": [
            0.85,
            0.1,
            0.45,
            0,
            1,
            0.45
           ],
           "z": [
            0.2,
            0.8,
            0.5,
            0.9,
            0.6,
            0.3
           ]
          }
         ],
         "name": "232"
        },
        {
         "data": [
          {
           "hovertemplate": "time_elapsed=233<br>x=%{x}<br>y=%{y}<br>z=%{z}<br>MassConc_2p5=%{marker.color}<br>loc=%{text}<extra></extra>",
           "legendgroup": "",
           "marker": {
            "color": [
             1.29575,
             1.144101,
             1.525705,
             1.846621,
             1.58639,
             1.441447
            ],
            "coloraxis": "coloraxis",
            "size": [
             1.29575,
             1.144101,
             1.525705,
             1.846621,
             1.58639,
             1.441447
            ],
            "sizemode": "area",
            "sizeref": 0.23812812479999998,
            "symbol": "circle"
           },
           "mode": "markers+text",
           "name": "",
           "scene": "scene",
           "showlegend": false,
           "text": [
            "back corner/exhaust",
            "back",
            "front-tripod",
            "door",
            "front corner",
            "front-desk"
           ],
           "type": "scatter3d",
           "x": [
            0,
            0,
            0.9,
            0.95,
            0.9,
            0.65
           ],
           "y": [
            0.85,
            0.1,
            0.45,
            0,
            1,
            0.45
           ],
           "z": [
            0.2,
            0.8,
            0.5,
            0.9,
            0.6,
            0.3
           ]
          }
         ],
         "name": "233"
        },
        {
         "data": [
          {
           "hovertemplate": "time_elapsed=234<br>x=%{x}<br>y=%{y}<br>z=%{z}<br>MassConc_2p5=%{marker.color}<br>loc=%{text}<extra></extra>",
           "legendgroup": "",
           "marker": {
            "color": [
             1.293496,
             1.10826,
             1.523533,
             1.798201,
             1.585325,
             1.42295
            ],
            "coloraxis": "coloraxis",
            "size": [
             1.293496,
             1.10826,
             1.523533,
             1.798201,
             1.585325,
             1.42295
            ],
            "sizemode": "area",
            "sizeref": 0.23812812479999998,
            "symbol": "circle"
           },
           "mode": "markers+text",
           "name": "",
           "scene": "scene",
           "showlegend": false,
           "text": [
            "back corner/exhaust",
            "back",
            "front-tripod",
            "door",
            "front corner",
            "front-desk"
           ],
           "type": "scatter3d",
           "x": [
            0,
            0,
            0.9,
            0.95,
            0.9,
            0.65
           ],
           "y": [
            0.85,
            0.1,
            0.45,
            0,
            1,
            0.45
           ],
           "z": [
            0.2,
            0.8,
            0.5,
            0.9,
            0.6,
            0.3
           ]
          }
         ],
         "name": "234"
        },
        {
         "data": [
          {
           "hovertemplate": "time_elapsed=235<br>x=%{x}<br>y=%{y}<br>z=%{z}<br>MassConc_2p5=%{marker.color}<br>loc=%{text}<extra></extra>",
           "legendgroup": "",
           "marker": {
            "color": [
             1.278747,
             1.076645,
             1.506569,
             1.741019,
             1.577806,
             1.393769
            ],
            "coloraxis": "coloraxis",
            "size": [
             1.278747,
             1.076645,
             1.506569,
             1.741019,
             1.577806,
             1.393769
            ],
            "sizemode": "area",
            "sizeref": 0.23812812479999998,
            "symbol": "circle"
           },
           "mode": "markers+text",
           "name": "",
           "scene": "scene",
           "showlegend": false,
           "text": [
            "back corner/exhaust",
            "back",
            "front-tripod",
            "door",
            "front corner",
            "front-desk"
           ],
           "type": "scatter3d",
           "x": [
            0,
            0,
            0.9,
            0.95,
            0.9,
            0.65
           ],
           "y": [
            0.85,
            0.1,
            0.45,
            0,
            1,
            0.45
           ],
           "z": [
            0.2,
            0.8,
            0.5,
            0.9,
            0.6,
            0.3
           ]
          }
         ],
         "name": "235"
        },
        {
         "data": [
          {
           "hovertemplate": "time_elapsed=236<br>x=%{x}<br>y=%{y}<br>z=%{z}<br>MassConc_2p5=%{marker.color}<br>loc=%{text}<extra></extra>",
           "legendgroup": "",
           "marker": {
            "color": [
             1.254023,
             1.048697,
             1.487287,
             1.705307,
             1.582957,
             1.356221
            ],
            "coloraxis": "coloraxis",
            "size": [
             1.254023,
             1.048697,
             1.487287,
             1.705307,
             1.582957,
             1.356221
            ],
            "sizemode": "area",
            "sizeref": 0.23812812479999998,
            "symbol": "circle"
           },
           "mode": "markers+text",
           "name": "",
           "scene": "scene",
           "showlegend": false,
           "text": [
            "back corner/exhaust",
            "back",
            "front-tripod",
            "door",
            "front corner",
            "front-desk"
           ],
           "type": "scatter3d",
           "x": [
            0,
            0,
            0.9,
            0.95,
            0.9,
            0.65
           ],
           "y": [
            0.85,
            0.1,
            0.45,
            0,
            1,
            0.45
           ],
           "z": [
            0.2,
            0.8,
            0.5,
            0.9,
            0.6,
            0.3
           ]
          }
         ],
         "name": "236"
        },
        {
         "data": [
          {
           "hovertemplate": "time_elapsed=237<br>x=%{x}<br>y=%{y}<br>z=%{z}<br>MassConc_2p5=%{marker.color}<br>loc=%{text}<extra></extra>",
           "legendgroup": "",
           "marker": {
            "color": [
             1.221466,
             1.015573,
             1.456806,
             1.678254,
             1.571327,
             1.331839
            ],
            "coloraxis": "coloraxis",
            "size": [
             1.221466,
             1.015573,
             1.456806,
             1.678254,
             1.571327,
             1.331839
            ],
            "sizemode": "area",
            "sizeref": 0.23812812479999998,
            "symbol": "circle"
           },
           "mode": "markers+text",
           "name": "",
           "scene": "scene",
           "showlegend": false,
           "text": [
            "back corner/exhaust",
            "back",
            "front-tripod",
            "door",
            "front corner",
            "front-desk"
           ],
           "type": "scatter3d",
           "x": [
            0,
            0,
            0.9,
            0.95,
            0.9,
            0.65
           ],
           "y": [
            0.85,
            0.1,
            0.45,
            0,
            1,
            0.45
           ],
           "z": [
            0.2,
            0.8,
            0.5,
            0.9,
            0.6,
            0.3
           ]
          }
         ],
         "name": "237"
        },
        {
         "data": [
          {
           "hovertemplate": "time_elapsed=238<br>x=%{x}<br>y=%{y}<br>z=%{z}<br>MassConc_2p5=%{marker.color}<br>loc=%{text}<extra></extra>",
           "legendgroup": "",
           "marker": {
            "color": [
             1.200299,
             0.987012,
             1.427065,
             1.648747,
             1.546216,
             1.327775
            ],
            "coloraxis": "coloraxis",
            "size": [
             1.200299,
             0.987012,
             1.427065,
             1.648747,
             1.546216,
             1.327775
            ],
            "sizemode": "area",
            "sizeref": 0.23812812479999998,
            "symbol": "circle"
           },
           "mode": "markers+text",
           "name": "",
           "scene": "scene",
           "showlegend": false,
           "text": [
            "back corner/exhaust",
            "back",
            "front-tripod",
            "door",
            "front corner",
            "front-desk"
           ],
           "type": "scatter3d",
           "x": [
            0,
            0,
            0.9,
            0.95,
            0.9,
            0.65
           ],
           "y": [
            0.85,
            0.1,
            0.45,
            0,
            1,
            0.45
           ],
           "z": [
            0.2,
            0.8,
            0.5,
            0.9,
            0.6,
            0.3
           ]
          }
         ],
         "name": "238"
        },
        {
         "data": [
          {
           "hovertemplate": "time_elapsed=239<br>x=%{x}<br>y=%{y}<br>z=%{z}<br>MassConc_2p5=%{marker.color}<br>loc=%{text}<extra></extra>",
           "legendgroup": "",
           "marker": {
            "color": [
             1.179886,
             0.954002,
             1.388702,
             1.608368,
             1.528327,
             1.330529
            ],
            "coloraxis": "coloraxis",
            "size": [
             1.179886,
             0.954002,
             1.388702,
             1.608368,
             1.528327,
             1.330529
            ],
            "sizemode": "area",
            "sizeref": 0.23812812479999998,
            "symbol": "circle"
           },
           "mode": "markers+text",
           "name": "",
           "scene": "scene",
           "showlegend": false,
           "text": [
            "back corner/exhaust",
            "back",
            "front-tripod",
            "door",
            "front corner",
            "front-desk"
           ],
           "type": "scatter3d",
           "x": [
            0,
            0,
            0.9,
            0.95,
            0.9,
            0.65
           ],
           "y": [
            0.85,
            0.1,
            0.45,
            0,
            1,
            0.45
           ],
           "z": [
            0.2,
            0.8,
            0.5,
            0.9,
            0.6,
            0.3
           ]
          }
         ],
         "name": "239"
        },
        {
         "data": [
          {
           "hovertemplate": "time_elapsed=240<br>x=%{x}<br>y=%{y}<br>z=%{z}<br>MassConc_2p5=%{marker.color}<br>loc=%{text}<extra></extra>",
           "legendgroup": "",
           "marker": {
            "color": [
             1.169111,
             0.926188,
             1.353254,
             1.559586,
             1.498555,
             1.319435
            ],
            "coloraxis": "coloraxis",
            "size": [
             1.169111,
             0.926188,
             1.353254,
             1.559586,
             1.498555,
             1.319435
            ],
            "sizemode": "area",
            "sizeref": 0.23812812479999998,
            "symbol": "circle"
           },
           "mode": "markers+text",
           "name": "",
           "scene": "scene",
           "showlegend": false,
           "text": [
            "back corner/exhaust",
            "back",
            "front-tripod",
            "door",
            "front corner",
            "front-desk"
           ],
           "type": "scatter3d",
           "x": [
            0,
            0,
            0.9,
            0.95,
            0.9,
            0.65
           ],
           "y": [
            0.85,
            0.1,
            0.45,
            0,
            1,
            0.45
           ],
           "z": [
            0.2,
            0.8,
            0.5,
            0.9,
            0.6,
            0.3
           ]
          }
         ],
         "name": "240"
        },
        {
         "data": [
          {
           "hovertemplate": "time_elapsed=241<br>x=%{x}<br>y=%{y}<br>z=%{z}<br>MassConc_2p5=%{marker.color}<br>loc=%{text}<extra></extra>",
           "legendgroup": "",
           "marker": {
            "color": [
             1.148707,
             0.911248,
             1.320516,
             1.513661,
             1.459454,
             1.31663
            ],
            "coloraxis": "coloraxis",
            "size": [
             1.148707,
             0.911248,
             1.320516,
             1.513661,
             1.459454,
             1.31663
            ],
            "sizemode": "area",
            "sizeref": 0.23812812479999998,
            "symbol": "circle"
           },
           "mode": "markers+text",
           "name": "",
           "scene": "scene",
           "showlegend": false,
           "text": [
            "back corner/exhaust",
            "back",
            "front-tripod",
            "door",
            "front corner",
            "front-desk"
           ],
           "type": "scatter3d",
           "x": [
            0,
            0,
            0.9,
            0.95,
            0.9,
            0.65
           ],
           "y": [
            0.85,
            0.1,
            0.45,
            0,
            1,
            0.45
           ],
           "z": [
            0.2,
            0.8,
            0.5,
            0.9,
            0.6,
            0.3
           ]
          }
         ],
         "name": "241"
        },
        {
         "data": [
          {
           "hovertemplate": "time_elapsed=242<br>x=%{x}<br>y=%{y}<br>z=%{z}<br>MassConc_2p5=%{marker.color}<br>loc=%{text}<extra></extra>",
           "legendgroup": "",
           "marker": {
            "color": [
             1.129375,
             0.898445,
             1.280775,
             1.499027,
             1.413188,
             1.310919
            ],
            "coloraxis": "coloraxis",
            "size": [
             1.129375,
             0.898445,
             1.280775,
             1.499027,
             1.413188,
             1.310919
            ],
            "sizemode": "area",
            "sizeref": 0.23812812479999998,
            "symbol": "circle"
           },
           "mode": "markers+text",
           "name": "",
           "scene": "scene",
           "showlegend": false,
           "text": [
            "back corner/exhaust",
            "back",
            "front-tripod",
            "door",
            "front corner",
            "front-desk"
           ],
           "type": "scatter3d",
           "x": [
            0,
            0,
            0.9,
            0.95,
            0.9,
            0.65
           ],
           "y": [
            0.85,
            0.1,
            0.45,
            0,
            1,
            0.45
           ],
           "z": [
            0.2,
            0.8,
            0.5,
            0.9,
            0.6,
            0.3
           ]
          }
         ],
         "name": "242"
        },
        {
         "data": [
          {
           "hovertemplate": "time_elapsed=243<br>x=%{x}<br>y=%{y}<br>z=%{z}<br>MassConc_2p5=%{marker.color}<br>loc=%{text}<extra></extra>",
           "legendgroup": "",
           "marker": {
            "color": [
             1.128506,
             0.904404,
             1.245437,
             1.472201,
             1.379544,
             1.302767
            ],
            "coloraxis": "coloraxis",
            "size": [
             1.128506,
             0.904404,
             1.245437,
             1.472201,
             1.379544,
             1.302767
            ],
            "sizemode": "area",
            "sizeref": 0.23812812479999998,
            "symbol": "circle"
           },
           "mode": "markers+text",
           "name": "",
           "scene": "scene",
           "showlegend": false,
           "text": [
            "back corner/exhaust",
            "back",
            "front-tripod",
            "door",
            "front corner",
            "front-desk"
           ],
           "type": "scatter3d",
           "x": [
            0,
            0,
            0.9,
            0.95,
            0.9,
            0.65
           ],
           "y": [
            0.85,
            0.1,
            0.45,
            0,
            1,
            0.45
           ],
           "z": [
            0.2,
            0.8,
            0.5,
            0.9,
            0.6,
            0.3
           ]
          }
         ],
         "name": "243"
        },
        {
         "data": [
          {
           "hovertemplate": "time_elapsed=244<br>x=%{x}<br>y=%{y}<br>z=%{z}<br>MassConc_2p5=%{marker.color}<br>loc=%{text}<extra></extra>",
           "legendgroup": "",
           "marker": {
            "color": [
             1.125257,
             0.900151,
             1.213985,
             1.473034,
             1.347538,
             1.322248
            ],
            "coloraxis": "coloraxis",
            "size": [
             1.125257,
             0.900151,
             1.213985,
             1.473034,
             1.347538,
             1.322248
            ],
            "sizemode": "area",
            "sizeref": 0.23812812479999998,
            "symbol": "circle"
           },
           "mode": "markers+text",
           "name": "",
           "scene": "scene",
           "showlegend": false,
           "text": [
            "back corner/exhaust",
            "back",
            "front-tripod",
            "door",
            "front corner",
            "front-desk"
           ],
           "type": "scatter3d",
           "x": [
            0,
            0,
            0.9,
            0.95,
            0.9,
            0.65
           ],
           "y": [
            0.85,
            0.1,
            0.45,
            0,
            1,
            0.45
           ],
           "z": [
            0.2,
            0.8,
            0.5,
            0.9,
            0.6,
            0.3
           ]
          }
         ],
         "name": "244"
        },
        {
         "data": [
          {
           "hovertemplate": "time_elapsed=245<br>x=%{x}<br>y=%{y}<br>z=%{z}<br>MassConc_2p5=%{marker.color}<br>loc=%{text}<extra></extra>",
           "legendgroup": "",
           "marker": {
            "color": [
             1.111366,
             0.904575,
             1.185957,
             1.4776,
             1.31705,
             1.334387
            ],
            "coloraxis": "coloraxis",
            "size": [
             1.111366,
             0.904575,
             1.185957,
             1.4776,
             1.31705,
             1.334387
            ],
            "sizemode": "area",
            "sizeref": 0.23812812479999998,
            "symbol": "circle"
           },
           "mode": "markers+text",
           "name": "",
           "scene": "scene",
           "showlegend": false,
           "text": [
            "back corner/exhaust",
            "back",
            "front-tripod",
            "door",
            "front corner",
            "front-desk"
           ],
           "type": "scatter3d",
           "x": [
            0,
            0,
            0.9,
            0.95,
            0.9,
            0.65
           ],
           "y": [
            0.85,
            0.1,
            0.45,
            0,
            1,
            0.45
           ],
           "z": [
            0.2,
            0.8,
            0.5,
            0.9,
            0.6,
            0.3
           ]
          }
         ],
         "name": "245"
        },
        {
         "data": [
          {
           "hovertemplate": "time_elapsed=246<br>x=%{x}<br>y=%{y}<br>z=%{z}<br>MassConc_2p5=%{marker.color}<br>loc=%{text}<extra></extra>",
           "legendgroup": "",
           "marker": {
            "color": [
             1.097666,
             0.924499,
             1.161056,
             1.485616,
             1.27917,
             1.330839
            ],
            "coloraxis": "coloraxis",
            "size": [
             1.097666,
             0.924499,
             1.161056,
             1.485616,
             1.27917,
             1.330839
            ],
            "sizemode": "area",
            "sizeref": 0.23812812479999998,
            "symbol": "circle"
           },
           "mode": "markers+text",
           "name": "",
           "scene": "scene",
           "showlegend": false,
           "text": [
            "back corner/exhaust",
            "back",
            "front-tripod",
            "door",
            "front corner",
            "front-desk"
           ],
           "type": "scatter3d",
           "x": [
            0,
            0,
            0.9,
            0.95,
            0.9,
            0.65
           ],
           "y": [
            0.85,
            0.1,
            0.45,
            0,
            1,
            0.45
           ],
           "z": [
            0.2,
            0.8,
            0.5,
            0.9,
            0.6,
            0.3
           ]
          }
         ],
         "name": "246"
        },
        {
         "data": [
          {
           "hovertemplate": "time_elapsed=247<br>x=%{x}<br>y=%{y}<br>z=%{z}<br>MassConc_2p5=%{marker.color}<br>loc=%{text}<extra></extra>",
           "legendgroup": "",
           "marker": {
            "color": [
             1.075582,
             0.939826,
             1.148504,
             1.496055,
             1.253648,
             1.314628
            ],
            "coloraxis": "coloraxis",
            "size": [
             1.075582,
             0.939826,
             1.148504,
             1.496055,
             1.253648,
             1.314628
            ],
            "sizemode": "area",
            "sizeref": 0.23812812479999998,
            "symbol": "circle"
           },
           "mode": "markers+text",
           "name": "",
           "scene": "scene",
           "showlegend": false,
           "text": [
            "back corner/exhaust",
            "back",
            "front-tripod",
            "door",
            "front corner",
            "front-desk"
           ],
           "type": "scatter3d",
           "x": [
            0,
            0,
            0.9,
            0.95,
            0.9,
            0.65
           ],
           "y": [
            0.85,
            0.1,
            0.45,
            0,
            1,
            0.45
           ],
           "z": [
            0.2,
            0.8,
            0.5,
            0.9,
            0.6,
            0.3
           ]
          }
         ],
         "name": "247"
        },
        {
         "data": [
          {
           "hovertemplate": "time_elapsed=248<br>x=%{x}<br>y=%{y}<br>z=%{z}<br>MassConc_2p5=%{marker.color}<br>loc=%{text}<extra></extra>",
           "legendgroup": "",
           "marker": {
            "color": [
             1.064358,
             0.951222,
             1.136558,
             1.499153,
             1.247399,
             1.30775
            ],
            "coloraxis": "coloraxis",
            "size": [
             1.064358,
             0.951222,
             1.136558,
             1.499153,
             1.247399,
             1.30775
            ],
            "sizemode": "area",
            "sizeref": 0.23812812479999998,
            "symbol": "circle"
           },
           "mode": "markers+text",
           "name": "",
           "scene": "scene",
           "showlegend": false,
           "text": [
            "back corner/exhaust",
            "back",
            "front-tripod",
            "door",
            "front corner",
            "front-desk"
           ],
           "type": "scatter3d",
           "x": [
            0,
            0,
            0.9,
            0.95,
            0.9,
            0.65
           ],
           "y": [
            0.85,
            0.1,
            0.45,
            0,
            1,
            0.45
           ],
           "z": [
            0.2,
            0.8,
            0.5,
            0.9,
            0.6,
            0.3
           ]
          }
         ],
         "name": "248"
        },
        {
         "data": [
          {
           "hovertemplate": "time_elapsed=249<br>x=%{x}<br>y=%{y}<br>z=%{z}<br>MassConc_2p5=%{marker.color}<br>loc=%{text}<extra></extra>",
           "legendgroup": "",
           "marker": {
            "color": [
             1.053281,
             0.959377,
             1.115524,
             1.533758,
             1.256796,
             1.298948
            ],
            "coloraxis": "coloraxis",
            "size": [
             1.053281,
             0.959377,
             1.115524,
             1.533758,
             1.256796,
             1.298948
            ],
            "sizemode": "area",
            "sizeref": 0.23812812479999998,
            "symbol": "circle"
           },
           "mode": "markers+text",
           "name": "",
           "scene": "scene",
           "showlegend": false,
           "text": [
            "back corner/exhaust",
            "back",
            "front-tripod",
            "door",
            "front corner",
            "front-desk"
           ],
           "type": "scatter3d",
           "x": [
            0,
            0,
            0.9,
            0.95,
            0.9,
            0.65
           ],
           "y": [
            0.85,
            0.1,
            0.45,
            0,
            1,
            0.45
           ],
           "z": [
            0.2,
            0.8,
            0.5,
            0.9,
            0.6,
            0.3
           ]
          }
         ],
         "name": "249"
        }
       ],
       "layout": {
        "coloraxis": {
         "cmax": 595.320312,
         "cmin": 0.243928,
         "colorbar": {
          "title": {
           "text": "MassConc_2p5"
          }
         },
         "colorscale": [
          [
           0,
           "#0d0887"
          ],
          [
           0.1111111111111111,
           "#46039f"
          ],
          [
           0.2222222222222222,
           "#7201a8"
          ],
          [
           0.3333333333333333,
           "#9c179e"
          ],
          [
           0.4444444444444444,
           "#bd3786"
          ],
          [
           0.5555555555555556,
           "#d8576b"
          ],
          [
           0.6666666666666666,
           "#ed7953"
          ],
          [
           0.7777777777777778,
           "#fb9f3a"
          ],
          [
           0.8888888888888888,
           "#fdca26"
          ],
          [
           1,
           "#f0f921"
          ]
         ]
        },
        "legend": {
         "itemsizing": "constant",
         "tracegroupgap": 0
        },
        "margin": {
         "t": 60
        },
        "scene": {
         "aspectratio": {
          "x": 1,
          "y": 1,
          "z": 1
         },
         "domain": {
          "x": [
           0,
           1
          ],
          "y": [
           0,
           1
          ]
         },
         "xaxis": {
          "nticks": 5,
          "range": [
           0,
           1
          ],
          "title": {
           "text": "x"
          }
         },
         "yaxis": {
          "nticks": 5,
          "range": [
           0,
           1
          ],
          "title": {
           "text": "y"
          }
         },
         "zaxis": {
          "nticks": 5,
          "range": [
           0,
           1
          ],
          "title": {
           "text": "z"
          }
         }
        },
        "sliders": [
         {
          "active": 0,
          "currentvalue": {
           "prefix": "time_elapsed="
          },
          "len": 0.9,
          "pad": {
           "b": 10,
           "t": 60
          },
          "steps": [
           {
            "args": [
             [
              "50"
             ],
             {
              "frame": {
               "duration": 0,
               "redraw": true
              },
              "fromcurrent": true,
              "mode": "immediate",
              "transition": {
               "duration": 0,
               "easing": "linear"
              }
             }
            ],
            "label": "50",
            "method": "animate"
           },
           {
            "args": [
             [
              "51"
             ],
             {
              "frame": {
               "duration": 0,
               "redraw": true
              },
              "fromcurrent": true,
              "mode": "immediate",
              "transition": {
               "duration": 0,
               "easing": "linear"
              }
             }
            ],
            "label": "51",
            "method": "animate"
           },
           {
            "args": [
             [
              "52"
             ],
             {
              "frame": {
               "duration": 0,
               "redraw": true
              },
              "fromcurrent": true,
              "mode": "immediate",
              "transition": {
               "duration": 0,
               "easing": "linear"
              }
             }
            ],
            "label": "52",
            "method": "animate"
           },
           {
            "args": [
             [
              "53"
             ],
             {
              "frame": {
               "duration": 0,
               "redraw": true
              },
              "fromcurrent": true,
              "mode": "immediate",
              "transition": {
               "duration": 0,
               "easing": "linear"
              }
             }
            ],
            "label": "53",
            "method": "animate"
           },
           {
            "args": [
             [
              "54"
             ],
             {
              "frame": {
               "duration": 0,
               "redraw": true
              },
              "fromcurrent": true,
              "mode": "immediate",
              "transition": {
               "duration": 0,
               "easing": "linear"
              }
             }
            ],
            "label": "54",
            "method": "animate"
           },
           {
            "args": [
             [
              "55"
             ],
             {
              "frame": {
               "duration": 0,
               "redraw": true
              },
              "fromcurrent": true,
              "mode": "immediate",
              "transition": {
               "duration": 0,
               "easing": "linear"
              }
             }
            ],
            "label": "55",
            "method": "animate"
           },
           {
            "args": [
             [
              "56"
             ],
             {
              "frame": {
               "duration": 0,
               "redraw": true
              },
              "fromcurrent": true,
              "mode": "immediate",
              "transition": {
               "duration": 0,
               "easing": "linear"
              }
             }
            ],
            "label": "56",
            "method": "animate"
           },
           {
            "args": [
             [
              "57"
             ],
             {
              "frame": {
               "duration": 0,
               "redraw": true
              },
              "fromcurrent": true,
              "mode": "immediate",
              "transition": {
               "duration": 0,
               "easing": "linear"
              }
             }
            ],
            "label": "57",
            "method": "animate"
           },
           {
            "args": [
             [
              "58"
             ],
             {
              "frame": {
               "duration": 0,
               "redraw": true
              },
              "fromcurrent": true,
              "mode": "immediate",
              "transition": {
               "duration": 0,
               "easing": "linear"
              }
             }
            ],
            "label": "58",
            "method": "animate"
           },
           {
            "args": [
             [
              "59"
             ],
             {
              "frame": {
               "duration": 0,
               "redraw": true
              },
              "fromcurrent": true,
              "mode": "immediate",
              "transition": {
               "duration": 0,
               "easing": "linear"
              }
             }
            ],
            "label": "59",
            "method": "animate"
           },
           {
            "args": [
             [
              "60"
             ],
             {
              "frame": {
               "duration": 0,
               "redraw": true
              },
              "fromcurrent": true,
              "mode": "immediate",
              "transition": {
               "duration": 0,
               "easing": "linear"
              }
             }
            ],
            "label": "60",
            "method": "animate"
           },
           {
            "args": [
             [
              "61"
             ],
             {
              "frame": {
               "duration": 0,
               "redraw": true
              },
              "fromcurrent": true,
              "mode": "immediate",
              "transition": {
               "duration": 0,
               "easing": "linear"
              }
             }
            ],
            "label": "61",
            "method": "animate"
           },
           {
            "args": [
             [
              "62"
             ],
             {
              "frame": {
               "duration": 0,
               "redraw": true
              },
              "fromcurrent": true,
              "mode": "immediate",
              "transition": {
               "duration": 0,
               "easing": "linear"
              }
             }
            ],
            "label": "62",
            "method": "animate"
           },
           {
            "args": [
             [
              "63"
             ],
             {
              "frame": {
               "duration": 0,
               "redraw": true
              },
              "fromcurrent": true,
              "mode": "immediate",
              "transition": {
               "duration": 0,
               "easing": "linear"
              }
             }
            ],
            "label": "63",
            "method": "animate"
           },
           {
            "args": [
             [
              "64"
             ],
             {
              "frame": {
               "duration": 0,
               "redraw": true
              },
              "fromcurrent": true,
              "mode": "immediate",
              "transition": {
               "duration": 0,
               "easing": "linear"
              }
             }
            ],
            "label": "64",
            "method": "animate"
           },
           {
            "args": [
             [
              "65"
             ],
             {
              "frame": {
               "duration": 0,
               "redraw": true
              },
              "fromcurrent": true,
              "mode": "immediate",
              "transition": {
               "duration": 0,
               "easing": "linear"
              }
             }
            ],
            "label": "65",
            "method": "animate"
           },
           {
            "args": [
             [
              "66"
             ],
             {
              "frame": {
               "duration": 0,
               "redraw": true
              },
              "fromcurrent": true,
              "mode": "immediate",
              "transition": {
               "duration": 0,
               "easing": "linear"
              }
             }
            ],
            "label": "66",
            "method": "animate"
           },
           {
            "args": [
             [
              "67"
             ],
             {
              "frame": {
               "duration": 0,
               "redraw": true
              },
              "fromcurrent": true,
              "mode": "immediate",
              "transition": {
               "duration": 0,
               "easing": "linear"
              }
             }
            ],
            "label": "67",
            "method": "animate"
           },
           {
            "args": [
             [
              "68"
             ],
             {
              "frame": {
               "duration": 0,
               "redraw": true
              },
              "fromcurrent": true,
              "mode": "immediate",
              "transition": {
               "duration": 0,
               "easing": "linear"
              }
             }
            ],
            "label": "68",
            "method": "animate"
           },
           {
            "args": [
             [
              "69"
             ],
             {
              "frame": {
               "duration": 0,
               "redraw": true
              },
              "fromcurrent": true,
              "mode": "immediate",
              "transition": {
               "duration": 0,
               "easing": "linear"
              }
             }
            ],
            "label": "69",
            "method": "animate"
           },
           {
            "args": [
             [
              "70"
             ],
             {
              "frame": {
               "duration": 0,
               "redraw": true
              },
              "fromcurrent": true,
              "mode": "immediate",
              "transition": {
               "duration": 0,
               "easing": "linear"
              }
             }
            ],
            "label": "70",
            "method": "animate"
           },
           {
            "args": [
             [
              "71"
             ],
             {
              "frame": {
               "duration": 0,
               "redraw": true
              },
              "fromcurrent": true,
              "mode": "immediate",
              "transition": {
               "duration": 0,
               "easing": "linear"
              }
             }
            ],
            "label": "71",
            "method": "animate"
           },
           {
            "args": [
             [
              "72"
             ],
             {
              "frame": {
               "duration": 0,
               "redraw": true
              },
              "fromcurrent": true,
              "mode": "immediate",
              "transition": {
               "duration": 0,
               "easing": "linear"
              }
             }
            ],
            "label": "72",
            "method": "animate"
           },
           {
            "args": [
             [
              "73"
             ],
             {
              "frame": {
               "duration": 0,
               "redraw": true
              },
              "fromcurrent": true,
              "mode": "immediate",
              "transition": {
               "duration": 0,
               "easing": "linear"
              }
             }
            ],
            "label": "73",
            "method": "animate"
           },
           {
            "args": [
             [
              "74"
             ],
             {
              "frame": {
               "duration": 0,
               "redraw": true
              },
              "fromcurrent": true,
              "mode": "immediate",
              "transition": {
               "duration": 0,
               "easing": "linear"
              }
             }
            ],
            "label": "74",
            "method": "animate"
           },
           {
            "args": [
             [
              "75"
             ],
             {
              "frame": {
               "duration": 0,
               "redraw": true
              },
              "fromcurrent": true,
              "mode": "immediate",
              "transition": {
               "duration": 0,
               "easing": "linear"
              }
             }
            ],
            "label": "75",
            "method": "animate"
           },
           {
            "args": [
             [
              "76"
             ],
             {
              "frame": {
               "duration": 0,
               "redraw": true
              },
              "fromcurrent": true,
              "mode": "immediate",
              "transition": {
               "duration": 0,
               "easing": "linear"
              }
             }
            ],
            "label": "76",
            "method": "animate"
           },
           {
            "args": [
             [
              "77"
             ],
             {
              "frame": {
               "duration": 0,
               "redraw": true
              },
              "fromcurrent": true,
              "mode": "immediate",
              "transition": {
               "duration": 0,
               "easing": "linear"
              }
             }
            ],
            "label": "77",
            "method": "animate"
           },
           {
            "args": [
             [
              "78"
             ],
             {
              "frame": {
               "duration": 0,
               "redraw": true
              },
              "fromcurrent": true,
              "mode": "immediate",
              "transition": {
               "duration": 0,
               "easing": "linear"
              }
             }
            ],
            "label": "78",
            "method": "animate"
           },
           {
            "args": [
             [
              "79"
             ],
             {
              "frame": {
               "duration": 0,
               "redraw": true
              },
              "fromcurrent": true,
              "mode": "immediate",
              "transition": {
               "duration": 0,
               "easing": "linear"
              }
             }
            ],
            "label": "79",
            "method": "animate"
           },
           {
            "args": [
             [
              "80"
             ],
             {
              "frame": {
               "duration": 0,
               "redraw": true
              },
              "fromcurrent": true,
              "mode": "immediate",
              "transition": {
               "duration": 0,
               "easing": "linear"
              }
             }
            ],
            "label": "80",
            "method": "animate"
           },
           {
            "args": [
             [
              "81"
             ],
             {
              "frame": {
               "duration": 0,
               "redraw": true
              },
              "fromcurrent": true,
              "mode": "immediate",
              "transition": {
               "duration": 0,
               "easing": "linear"
              }
             }
            ],
            "label": "81",
            "method": "animate"
           },
           {
            "args": [
             [
              "82"
             ],
             {
              "frame": {
               "duration": 0,
               "redraw": true
              },
              "fromcurrent": true,
              "mode": "immediate",
              "transition": {
               "duration": 0,
               "easing": "linear"
              }
             }
            ],
            "label": "82",
            "method": "animate"
           },
           {
            "args": [
             [
              "83"
             ],
             {
              "frame": {
               "duration": 0,
               "redraw": true
              },
              "fromcurrent": true,
              "mode": "immediate",
              "transition": {
               "duration": 0,
               "easing": "linear"
              }
             }
            ],
            "label": "83",
            "method": "animate"
           },
           {
            "args": [
             [
              "84"
             ],
             {
              "frame": {
               "duration": 0,
               "redraw": true
              },
              "fromcurrent": true,
              "mode": "immediate",
              "transition": {
               "duration": 0,
               "easing": "linear"
              }
             }
            ],
            "label": "84",
            "method": "animate"
           },
           {
            "args": [
             [
              "85"
             ],
             {
              "frame": {
               "duration": 0,
               "redraw": true
              },
              "fromcurrent": true,
              "mode": "immediate",
              "transition": {
               "duration": 0,
               "easing": "linear"
              }
             }
            ],
            "label": "85",
            "method": "animate"
           },
           {
            "args": [
             [
              "86"
             ],
             {
              "frame": {
               "duration": 0,
               "redraw": true
              },
              "fromcurrent": true,
              "mode": "immediate",
              "transition": {
               "duration": 0,
               "easing": "linear"
              }
             }
            ],
            "label": "86",
            "method": "animate"
           },
           {
            "args": [
             [
              "87"
             ],
             {
              "frame": {
               "duration": 0,
               "redraw": true
              },
              "fromcurrent": true,
              "mode": "immediate",
              "transition": {
               "duration": 0,
               "easing": "linear"
              }
             }
            ],
            "label": "87",
            "method": "animate"
           },
           {
            "args": [
             [
              "88"
             ],
             {
              "frame": {
               "duration": 0,
               "redraw": true
              },
              "fromcurrent": true,
              "mode": "immediate",
              "transition": {
               "duration": 0,
               "easing": "linear"
              }
             }
            ],
            "label": "88",
            "method": "animate"
           },
           {
            "args": [
             [
              "89"
             ],
             {
              "frame": {
               "duration": 0,
               "redraw": true
              },
              "fromcurrent": true,
              "mode": "immediate",
              "transition": {
               "duration": 0,
               "easing": "linear"
              }
             }
            ],
            "label": "89",
            "method": "animate"
           },
           {
            "args": [
             [
              "90"
             ],
             {
              "frame": {
               "duration": 0,
               "redraw": true
              },
              "fromcurrent": true,
              "mode": "immediate",
              "transition": {
               "duration": 0,
               "easing": "linear"
              }
             }
            ],
            "label": "90",
            "method": "animate"
           },
           {
            "args": [
             [
              "91"
             ],
             {
              "frame": {
               "duration": 0,
               "redraw": true
              },
              "fromcurrent": true,
              "mode": "immediate",
              "transition": {
               "duration": 0,
               "easing": "linear"
              }
             }
            ],
            "label": "91",
            "method": "animate"
           },
           {
            "args": [
             [
              "92"
             ],
             {
              "frame": {
               "duration": 0,
               "redraw": true
              },
              "fromcurrent": true,
              "mode": "immediate",
              "transition": {
               "duration": 0,
               "easing": "linear"
              }
             }
            ],
            "label": "92",
            "method": "animate"
           },
           {
            "args": [
             [
              "93"
             ],
             {
              "frame": {
               "duration": 0,
               "redraw": true
              },
              "fromcurrent": true,
              "mode": "immediate",
              "transition": {
               "duration": 0,
               "easing": "linear"
              }
             }
            ],
            "label": "93",
            "method": "animate"
           },
           {
            "args": [
             [
              "94"
             ],
             {
              "frame": {
               "duration": 0,
               "redraw": true
              },
              "fromcurrent": true,
              "mode": "immediate",
              "transition": {
               "duration": 0,
               "easing": "linear"
              }
             }
            ],
            "label": "94",
            "method": "animate"
           },
           {
            "args": [
             [
              "95"
             ],
             {
              "frame": {
               "duration": 0,
               "redraw": true
              },
              "fromcurrent": true,
              "mode": "immediate",
              "transition": {
               "duration": 0,
               "easing": "linear"
              }
             }
            ],
            "label": "95",
            "method": "animate"
           },
           {
            "args": [
             [
              "96"
             ],
             {
              "frame": {
               "duration": 0,
               "redraw": true
              },
              "fromcurrent": true,
              "mode": "immediate",
              "transition": {
               "duration": 0,
               "easing": "linear"
              }
             }
            ],
            "label": "96",
            "method": "animate"
           },
           {
            "args": [
             [
              "97"
             ],
             {
              "frame": {
               "duration": 0,
               "redraw": true
              },
              "fromcurrent": true,
              "mode": "immediate",
              "transition": {
               "duration": 0,
               "easing": "linear"
              }
             }
            ],
            "label": "97",
            "method": "animate"
           },
           {
            "args": [
             [
              "98"
             ],
             {
              "frame": {
               "duration": 0,
               "redraw": true
              },
              "fromcurrent": true,
              "mode": "immediate",
              "transition": {
               "duration": 0,
               "easing": "linear"
              }
             }
            ],
            "label": "98",
            "method": "animate"
           },
           {
            "args": [
             [
              "99"
             ],
             {
              "frame": {
               "duration": 0,
               "redraw": true
              },
              "fromcurrent": true,
              "mode": "immediate",
              "transition": {
               "duration": 0,
               "easing": "linear"
              }
             }
            ],
            "label": "99",
            "method": "animate"
           },
           {
            "args": [
             [
              "100"
             ],
             {
              "frame": {
               "duration": 0,
               "redraw": true
              },
              "fromcurrent": true,
              "mode": "immediate",
              "transition": {
               "duration": 0,
               "easing": "linear"
              }
             }
            ],
            "label": "100",
            "method": "animate"
           },
           {
            "args": [
             [
              "101"
             ],
             {
              "frame": {
               "duration": 0,
               "redraw": true
              },
              "fromcurrent": true,
              "mode": "immediate",
              "transition": {
               "duration": 0,
               "easing": "linear"
              }
             }
            ],
            "label": "101",
            "method": "animate"
           },
           {
            "args": [
             [
              "102"
             ],
             {
              "frame": {
               "duration": 0,
               "redraw": true
              },
              "fromcurrent": true,
              "mode": "immediate",
              "transition": {
               "duration": 0,
               "easing": "linear"
              }
             }
            ],
            "label": "102",
            "method": "animate"
           },
           {
            "args": [
             [
              "103"
             ],
             {
              "frame": {
               "duration": 0,
               "redraw": true
              },
              "fromcurrent": true,
              "mode": "immediate",
              "transition": {
               "duration": 0,
               "easing": "linear"
              }
             }
            ],
            "label": "103",
            "method": "animate"
           },
           {
            "args": [
             [
              "104"
             ],
             {
              "frame": {
               "duration": 0,
               "redraw": true
              },
              "fromcurrent": true,
              "mode": "immediate",
              "transition": {
               "duration": 0,
               "easing": "linear"
              }
             }
            ],
            "label": "104",
            "method": "animate"
           },
           {
            "args": [
             [
              "105"
             ],
             {
              "frame": {
               "duration": 0,
               "redraw": true
              },
              "fromcurrent": true,
              "mode": "immediate",
              "transition": {
               "duration": 0,
               "easing": "linear"
              }
             }
            ],
            "label": "105",
            "method": "animate"
           },
           {
            "args": [
             [
              "106"
             ],
             {
              "frame": {
               "duration": 0,
               "redraw": true
              },
              "fromcurrent": true,
              "mode": "immediate",
              "transition": {
               "duration": 0,
               "easing": "linear"
              }
             }
            ],
            "label": "106",
            "method": "animate"
           },
           {
            "args": [
             [
              "107"
             ],
             {
              "frame": {
               "duration": 0,
               "redraw": true
              },
              "fromcurrent": true,
              "mode": "immediate",
              "transition": {
               "duration": 0,
               "easing": "linear"
              }
             }
            ],
            "label": "107",
            "method": "animate"
           },
           {
            "args": [
             [
              "108"
             ],
             {
              "frame": {
               "duration": 0,
               "redraw": true
              },
              "fromcurrent": true,
              "mode": "immediate",
              "transition": {
               "duration": 0,
               "easing": "linear"
              }
             }
            ],
            "label": "108",
            "method": "animate"
           },
           {
            "args": [
             [
              "109"
             ],
             {
              "frame": {
               "duration": 0,
               "redraw": true
              },
              "fromcurrent": true,
              "mode": "immediate",
              "transition": {
               "duration": 0,
               "easing": "linear"
              }
             }
            ],
            "label": "109",
            "method": "animate"
           },
           {
            "args": [
             [
              "110"
             ],
             {
              "frame": {
               "duration": 0,
               "redraw": true
              },
              "fromcurrent": true,
              "mode": "immediate",
              "transition": {
               "duration": 0,
               "easing": "linear"
              }
             }
            ],
            "label": "110",
            "method": "animate"
           },
           {
            "args": [
             [
              "111"
             ],
             {
              "frame": {
               "duration": 0,
               "redraw": true
              },
              "fromcurrent": true,
              "mode": "immediate",
              "transition": {
               "duration": 0,
               "easing": "linear"
              }
             }
            ],
            "label": "111",
            "method": "animate"
           },
           {
            "args": [
             [
              "112"
             ],
             {
              "frame": {
               "duration": 0,
               "redraw": true
              },
              "fromcurrent": true,
              "mode": "immediate",
              "transition": {
               "duration": 0,
               "easing": "linear"
              }
             }
            ],
            "label": "112",
            "method": "animate"
           },
           {
            "args": [
             [
              "113"
             ],
             {
              "frame": {
               "duration": 0,
               "redraw": true
              },
              "fromcurrent": true,
              "mode": "immediate",
              "transition": {
               "duration": 0,
               "easing": "linear"
              }
             }
            ],
            "label": "113",
            "method": "animate"
           },
           {
            "args": [
             [
              "114"
             ],
             {
              "frame": {
               "duration": 0,
               "redraw": true
              },
              "fromcurrent": true,
              "mode": "immediate",
              "transition": {
               "duration": 0,
               "easing": "linear"
              }
             }
            ],
            "label": "114",
            "method": "animate"
           },
           {
            "args": [
             [
              "115"
             ],
             {
              "frame": {
               "duration": 0,
               "redraw": true
              },
              "fromcurrent": true,
              "mode": "immediate",
              "transition": {
               "duration": 0,
               "easing": "linear"
              }
             }
            ],
            "label": "115",
            "method": "animate"
           },
           {
            "args": [
             [
              "116"
             ],
             {
              "frame": {
               "duration": 0,
               "redraw": true
              },
              "fromcurrent": true,
              "mode": "immediate",
              "transition": {
               "duration": 0,
               "easing": "linear"
              }
             }
            ],
            "label": "116",
            "method": "animate"
           },
           {
            "args": [
             [
              "117"
             ],
             {
              "frame": {
               "duration": 0,
               "redraw": true
              },
              "fromcurrent": true,
              "mode": "immediate",
              "transition": {
               "duration": 0,
               "easing": "linear"
              }
             }
            ],
            "label": "117",
            "method": "animate"
           },
           {
            "args": [
             [
              "118"
             ],
             {
              "frame": {
               "duration": 0,
               "redraw": true
              },
              "fromcurrent": true,
              "mode": "immediate",
              "transition": {
               "duration": 0,
               "easing": "linear"
              }
             }
            ],
            "label": "118",
            "method": "animate"
           },
           {
            "args": [
             [
              "119"
             ],
             {
              "frame": {
               "duration": 0,
               "redraw": true
              },
              "fromcurrent": true,
              "mode": "immediate",
              "transition": {
               "duration": 0,
               "easing": "linear"
              }
             }
            ],
            "label": "119",
            "method": "animate"
           },
           {
            "args": [
             [
              "120"
             ],
             {
              "frame": {
               "duration": 0,
               "redraw": true
              },
              "fromcurrent": true,
              "mode": "immediate",
              "transition": {
               "duration": 0,
               "easing": "linear"
              }
             }
            ],
            "label": "120",
            "method": "animate"
           },
           {
            "args": [
             [
              "121"
             ],
             {
              "frame": {
               "duration": 0,
               "redraw": true
              },
              "fromcurrent": true,
              "mode": "immediate",
              "transition": {
               "duration": 0,
               "easing": "linear"
              }
             }
            ],
            "label": "121",
            "method": "animate"
           },
           {
            "args": [
             [
              "122"
             ],
             {
              "frame": {
               "duration": 0,
               "redraw": true
              },
              "fromcurrent": true,
              "mode": "immediate",
              "transition": {
               "duration": 0,
               "easing": "linear"
              }
             }
            ],
            "label": "122",
            "method": "animate"
           },
           {
            "args": [
             [
              "123"
             ],
             {
              "frame": {
               "duration": 0,
               "redraw": true
              },
              "fromcurrent": true,
              "mode": "immediate",
              "transition": {
               "duration": 0,
               "easing": "linear"
              }
             }
            ],
            "label": "123",
            "method": "animate"
           },
           {
            "args": [
             [
              "124"
             ],
             {
              "frame": {
               "duration": 0,
               "redraw": true
              },
              "fromcurrent": true,
              "mode": "immediate",
              "transition": {
               "duration": 0,
               "easing": "linear"
              }
             }
            ],
            "label": "124",
            "method": "animate"
           },
           {
            "args": [
             [
              "125"
             ],
             {
              "frame": {
               "duration": 0,
               "redraw": true
              },
              "fromcurrent": true,
              "mode": "immediate",
              "transition": {
               "duration": 0,
               "easing": "linear"
              }
             }
            ],
            "label": "125",
            "method": "animate"
           },
           {
            "args": [
             [
              "126"
             ],
             {
              "frame": {
               "duration": 0,
               "redraw": true
              },
              "fromcurrent": true,
              "mode": "immediate",
              "transition": {
               "duration": 0,
               "easing": "linear"
              }
             }
            ],
            "label": "126",
            "method": "animate"
           },
           {
            "args": [
             [
              "127"
             ],
             {
              "frame": {
               "duration": 0,
               "redraw": true
              },
              "fromcurrent": true,
              "mode": "immediate",
              "transition": {
               "duration": 0,
               "easing": "linear"
              }
             }
            ],
            "label": "127",
            "method": "animate"
           },
           {
            "args": [
             [
              "128"
             ],
             {
              "frame": {
               "duration": 0,
               "redraw": true
              },
              "fromcurrent": true,
              "mode": "immediate",
              "transition": {
               "duration": 0,
               "easing": "linear"
              }
             }
            ],
            "label": "128",
            "method": "animate"
           },
           {
            "args": [
             [
              "129"
             ],
             {
              "frame": {
               "duration": 0,
               "redraw": true
              },
              "fromcurrent": true,
              "mode": "immediate",
              "transition": {
               "duration": 0,
               "easing": "linear"
              }
             }
            ],
            "label": "129",
            "method": "animate"
           },
           {
            "args": [
             [
              "130"
             ],
             {
              "frame": {
               "duration": 0,
               "redraw": true
              },
              "fromcurrent": true,
              "mode": "immediate",
              "transition": {
               "duration": 0,
               "easing": "linear"
              }
             }
            ],
            "label": "130",
            "method": "animate"
           },
           {
            "args": [
             [
              "131"
             ],
             {
              "frame": {
               "duration": 0,
               "redraw": true
              },
              "fromcurrent": true,
              "mode": "immediate",
              "transition": {
               "duration": 0,
               "easing": "linear"
              }
             }
            ],
            "label": "131",
            "method": "animate"
           },
           {
            "args": [
             [
              "132"
             ],
             {
              "frame": {
               "duration": 0,
               "redraw": true
              },
              "fromcurrent": true,
              "mode": "immediate",
              "transition": {
               "duration": 0,
               "easing": "linear"
              }
             }
            ],
            "label": "132",
            "method": "animate"
           },
           {
            "args": [
             [
              "133"
             ],
             {
              "frame": {
               "duration": 0,
               "redraw": true
              },
              "fromcurrent": true,
              "mode": "immediate",
              "transition": {
               "duration": 0,
               "easing": "linear"
              }
             }
            ],
            "label": "133",
            "method": "animate"
           },
           {
            "args": [
             [
              "134"
             ],
             {
              "frame": {
               "duration": 0,
               "redraw": true
              },
              "fromcurrent": true,
              "mode": "immediate",
              "transition": {
               "duration": 0,
               "easing": "linear"
              }
             }
            ],
            "label": "134",
            "method": "animate"
           },
           {
            "args": [
             [
              "135"
             ],
             {
              "frame": {
               "duration": 0,
               "redraw": true
              },
              "fromcurrent": true,
              "mode": "immediate",
              "transition": {
               "duration": 0,
               "easing": "linear"
              }
             }
            ],
            "label": "135",
            "method": "animate"
           },
           {
            "args": [
             [
              "136"
             ],
             {
              "frame": {
               "duration": 0,
               "redraw": true
              },
              "fromcurrent": true,
              "mode": "immediate",
              "transition": {
               "duration": 0,
               "easing": "linear"
              }
             }
            ],
            "label": "136",
            "method": "animate"
           },
           {
            "args": [
             [
              "137"
             ],
             {
              "frame": {
               "duration": 0,
               "redraw": true
              },
              "fromcurrent": true,
              "mode": "immediate",
              "transition": {
               "duration": 0,
               "easing": "linear"
              }
             }
            ],
            "label": "137",
            "method": "animate"
           },
           {
            "args": [
             [
              "138"
             ],
             {
              "frame": {
               "duration": 0,
               "redraw": true
              },
              "fromcurrent": true,
              "mode": "immediate",
              "transition": {
               "duration": 0,
               "easing": "linear"
              }
             }
            ],
            "label": "138",
            "method": "animate"
           },
           {
            "args": [
             [
              "139"
             ],
             {
              "frame": {
               "duration": 0,
               "redraw": true
              },
              "fromcurrent": true,
              "mode": "immediate",
              "transition": {
               "duration": 0,
               "easing": "linear"
              }
             }
            ],
            "label": "139",
            "method": "animate"
           },
           {
            "args": [
             [
              "140"
             ],
             {
              "frame": {
               "duration": 0,
               "redraw": true
              },
              "fromcurrent": true,
              "mode": "immediate",
              "transition": {
               "duration": 0,
               "easing": "linear"
              }
             }
            ],
            "label": "140",
            "method": "animate"
           },
           {
            "args": [
             [
              "141"
             ],
             {
              "frame": {
               "duration": 0,
               "redraw": true
              },
              "fromcurrent": true,
              "mode": "immediate",
              "transition": {
               "duration": 0,
               "easing": "linear"
              }
             }
            ],
            "label": "141",
            "method": "animate"
           },
           {
            "args": [
             [
              "142"
             ],
             {
              "frame": {
               "duration": 0,
               "redraw": true
              },
              "fromcurrent": true,
              "mode": "immediate",
              "transition": {
               "duration": 0,
               "easing": "linear"
              }
             }
            ],
            "label": "142",
            "method": "animate"
           },
           {
            "args": [
             [
              "143"
             ],
             {
              "frame": {
               "duration": 0,
               "redraw": true
              },
              "fromcurrent": true,
              "mode": "immediate",
              "transition": {
               "duration": 0,
               "easing": "linear"
              }
             }
            ],
            "label": "143",
            "method": "animate"
           },
           {
            "args": [
             [
              "144"
             ],
             {
              "frame": {
               "duration": 0,
               "redraw": true
              },
              "fromcurrent": true,
              "mode": "immediate",
              "transition": {
               "duration": 0,
               "easing": "linear"
              }
             }
            ],
            "label": "144",
            "method": "animate"
           },
           {
            "args": [
             [
              "145"
             ],
             {
              "frame": {
               "duration": 0,
               "redraw": true
              },
              "fromcurrent": true,
              "mode": "immediate",
              "transition": {
               "duration": 0,
               "easing": "linear"
              }
             }
            ],
            "label": "145",
            "method": "animate"
           },
           {
            "args": [
             [
              "146"
             ],
             {
              "frame": {
               "duration": 0,
               "redraw": true
              },
              "fromcurrent": true,
              "mode": "immediate",
              "transition": {
               "duration": 0,
               "easing": "linear"
              }
             }
            ],
            "label": "146",
            "method": "animate"
           },
           {
            "args": [
             [
              "147"
             ],
             {
              "frame": {
               "duration": 0,
               "redraw": true
              },
              "fromcurrent": true,
              "mode": "immediate",
              "transition": {
               "duration": 0,
               "easing": "linear"
              }
             }
            ],
            "label": "147",
            "method": "animate"
           },
           {
            "args": [
             [
              "148"
             ],
             {
              "frame": {
               "duration": 0,
               "redraw": true
              },
              "fromcurrent": true,
              "mode": "immediate",
              "transition": {
               "duration": 0,
               "easing": "linear"
              }
             }
            ],
            "label": "148",
            "method": "animate"
           },
           {
            "args": [
             [
              "149"
             ],
             {
              "frame": {
               "duration": 0,
               "redraw": true
              },
              "fromcurrent": true,
              "mode": "immediate",
              "transition": {
               "duration": 0,
               "easing": "linear"
              }
             }
            ],
            "label": "149",
            "method": "animate"
           },
           {
            "args": [
             [
              "150"
             ],
             {
              "frame": {
               "duration": 0,
               "redraw": true
              },
              "fromcurrent": true,
              "mode": "immediate",
              "transition": {
               "duration": 0,
               "easing": "linear"
              }
             }
            ],
            "label": "150",
            "method": "animate"
           },
           {
            "args": [
             [
              "151"
             ],
             {
              "frame": {
               "duration": 0,
               "redraw": true
              },
              "fromcurrent": true,
              "mode": "immediate",
              "transition": {
               "duration": 0,
               "easing": "linear"
              }
             }
            ],
            "label": "151",
            "method": "animate"
           },
           {
            "args": [
             [
              "152"
             ],
             {
              "frame": {
               "duration": 0,
               "redraw": true
              },
              "fromcurrent": true,
              "mode": "immediate",
              "transition": {
               "duration": 0,
               "easing": "linear"
              }
             }
            ],
            "label": "152",
            "method": "animate"
           },
           {
            "args": [
             [
              "153"
             ],
             {
              "frame": {
               "duration": 0,
               "redraw": true
              },
              "fromcurrent": true,
              "mode": "immediate",
              "transition": {
               "duration": 0,
               "easing": "linear"
              }
             }
            ],
            "label": "153",
            "method": "animate"
           },
           {
            "args": [
             [
              "154"
             ],
             {
              "frame": {
               "duration": 0,
               "redraw": true
              },
              "fromcurrent": true,
              "mode": "immediate",
              "transition": {
               "duration": 0,
               "easing": "linear"
              }
             }
            ],
            "label": "154",
            "method": "animate"
           },
           {
            "args": [
             [
              "155"
             ],
             {
              "frame": {
               "duration": 0,
               "redraw": true
              },
              "fromcurrent": true,
              "mode": "immediate",
              "transition": {
               "duration": 0,
               "easing": "linear"
              }
             }
            ],
            "label": "155",
            "method": "animate"
           },
           {
            "args": [
             [
              "156"
             ],
             {
              "frame": {
               "duration": 0,
               "redraw": true
              },
              "fromcurrent": true,
              "mode": "immediate",
              "transition": {
               "duration": 0,
               "easing": "linear"
              }
             }
            ],
            "label": "156",
            "method": "animate"
           },
           {
            "args": [
             [
              "157"
             ],
             {
              "frame": {
               "duration": 0,
               "redraw": true
              },
              "fromcurrent": true,
              "mode": "immediate",
              "transition": {
               "duration": 0,
               "easing": "linear"
              }
             }
            ],
            "label": "157",
            "method": "animate"
           },
           {
            "args": [
             [
              "158"
             ],
             {
              "frame": {
               "duration": 0,
               "redraw": true
              },
              "fromcurrent": true,
              "mode": "immediate",
              "transition": {
               "duration": 0,
               "easing": "linear"
              }
             }
            ],
            "label": "158",
            "method": "animate"
           },
           {
            "args": [
             [
              "159"
             ],
             {
              "frame": {
               "duration": 0,
               "redraw": true
              },
              "fromcurrent": true,
              "mode": "immediate",
              "transition": {
               "duration": 0,
               "easing": "linear"
              }
             }
            ],
            "label": "159",
            "method": "animate"
           },
           {
            "args": [
             [
              "160"
             ],
             {
              "frame": {
               "duration": 0,
               "redraw": true
              },
              "fromcurrent": true,
              "mode": "immediate",
              "transition": {
               "duration": 0,
               "easing": "linear"
              }
             }
            ],
            "label": "160",
            "method": "animate"
           },
           {
            "args": [
             [
              "161"
             ],
             {
              "frame": {
               "duration": 0,
               "redraw": true
              },
              "fromcurrent": true,
              "mode": "immediate",
              "transition": {
               "duration": 0,
               "easing": "linear"
              }
             }
            ],
            "label": "161",
            "method": "animate"
           },
           {
            "args": [
             [
              "162"
             ],
             {
              "frame": {
               "duration": 0,
               "redraw": true
              },
              "fromcurrent": true,
              "mode": "immediate",
              "transition": {
               "duration": 0,
               "easing": "linear"
              }
             }
            ],
            "label": "162",
            "method": "animate"
           },
           {
            "args": [
             [
              "163"
             ],
             {
              "frame": {
               "duration": 0,
               "redraw": true
              },
              "fromcurrent": true,
              "mode": "immediate",
              "transition": {
               "duration": 0,
               "easing": "linear"
              }
             }
            ],
            "label": "163",
            "method": "animate"
           },
           {
            "args": [
             [
              "164"
             ],
             {
              "frame": {
               "duration": 0,
               "redraw": true
              },
              "fromcurrent": true,
              "mode": "immediate",
              "transition": {
               "duration": 0,
               "easing": "linear"
              }
             }
            ],
            "label": "164",
            "method": "animate"
           },
           {
            "args": [
             [
              "165"
             ],
             {
              "frame": {
               "duration": 0,
               "redraw": true
              },
              "fromcurrent": true,
              "mode": "immediate",
              "transition": {
               "duration": 0,
               "easing": "linear"
              }
             }
            ],
            "label": "165",
            "method": "animate"
           },
           {
            "args": [
             [
              "166"
             ],
             {
              "frame": {
               "duration": 0,
               "redraw": true
              },
              "fromcurrent": true,
              "mode": "immediate",
              "transition": {
               "duration": 0,
               "easing": "linear"
              }
             }
            ],
            "label": "166",
            "method": "animate"
           },
           {
            "args": [
             [
              "167"
             ],
             {
              "frame": {
               "duration": 0,
               "redraw": true
              },
              "fromcurrent": true,
              "mode": "immediate",
              "transition": {
               "duration": 0,
               "easing": "linear"
              }
             }
            ],
            "label": "167",
            "method": "animate"
           },
           {
            "args": [
             [
              "168"
             ],
             {
              "frame": {
               "duration": 0,
               "redraw": true
              },
              "fromcurrent": true,
              "mode": "immediate",
              "transition": {
               "duration": 0,
               "easing": "linear"
              }
             }
            ],
            "label": "168",
            "method": "animate"
           },
           {
            "args": [
             [
              "169"
             ],
             {
              "frame": {
               "duration": 0,
               "redraw": true
              },
              "fromcurrent": true,
              "mode": "immediate",
              "transition": {
               "duration": 0,
               "easing": "linear"
              }
             }
            ],
            "label": "169",
            "method": "animate"
           },
           {
            "args": [
             [
              "170"
             ],
             {
              "frame": {
               "duration": 0,
               "redraw": true
              },
              "fromcurrent": true,
              "mode": "immediate",
              "transition": {
               "duration": 0,
               "easing": "linear"
              }
             }
            ],
            "label": "170",
            "method": "animate"
           },
           {
            "args": [
             [
              "171"
             ],
             {
              "frame": {
               "duration": 0,
               "redraw": true
              },
              "fromcurrent": true,
              "mode": "immediate",
              "transition": {
               "duration": 0,
               "easing": "linear"
              }
             }
            ],
            "label": "171",
            "method": "animate"
           },
           {
            "args": [
             [
              "172"
             ],
             {
              "frame": {
               "duration": 0,
               "redraw": true
              },
              "fromcurrent": true,
              "mode": "immediate",
              "transition": {
               "duration": 0,
               "easing": "linear"
              }
             }
            ],
            "label": "172",
            "method": "animate"
           },
           {
            "args": [
             [
              "173"
             ],
             {
              "frame": {
               "duration": 0,
               "redraw": true
              },
              "fromcurrent": true,
              "mode": "immediate",
              "transition": {
               "duration": 0,
               "easing": "linear"
              }
             }
            ],
            "label": "173",
            "method": "animate"
           },
           {
            "args": [
             [
              "174"
             ],
             {
              "frame": {
               "duration": 0,
               "redraw": true
              },
              "fromcurrent": true,
              "mode": "immediate",
              "transition": {
               "duration": 0,
               "easing": "linear"
              }
             }
            ],
            "label": "174",
            "method": "animate"
           },
           {
            "args": [
             [
              "175"
             ],
             {
              "frame": {
               "duration": 0,
               "redraw": true
              },
              "fromcurrent": true,
              "mode": "immediate",
              "transition": {
               "duration": 0,
               "easing": "linear"
              }
             }
            ],
            "label": "175",
            "method": "animate"
           },
           {
            "args": [
             [
              "176"
             ],
             {
              "frame": {
               "duration": 0,
               "redraw": true
              },
              "fromcurrent": true,
              "mode": "immediate",
              "transition": {
               "duration": 0,
               "easing": "linear"
              }
             }
            ],
            "label": "176",
            "method": "animate"
           },
           {
            "args": [
             [
              "177"
             ],
             {
              "frame": {
               "duration": 0,
               "redraw": true
              },
              "fromcurrent": true,
              "mode": "immediate",
              "transition": {
               "duration": 0,
               "easing": "linear"
              }
             }
            ],
            "label": "177",
            "method": "animate"
           },
           {
            "args": [
             [
              "178"
             ],
             {
              "frame": {
               "duration": 0,
               "redraw": true
              },
              "fromcurrent": true,
              "mode": "immediate",
              "transition": {
               "duration": 0,
               "easing": "linear"
              }
             }
            ],
            "label": "178",
            "method": "animate"
           },
           {
            "args": [
             [
              "179"
             ],
             {
              "frame": {
               "duration": 0,
               "redraw": true
              },
              "fromcurrent": true,
              "mode": "immediate",
              "transition": {
               "duration": 0,
               "easing": "linear"
              }
             }
            ],
            "label": "179",
            "method": "animate"
           },
           {
            "args": [
             [
              "180"
             ],
             {
              "frame": {
               "duration": 0,
               "redraw": true
              },
              "fromcurrent": true,
              "mode": "immediate",
              "transition": {
               "duration": 0,
               "easing": "linear"
              }
             }
            ],
            "label": "180",
            "method": "animate"
           },
           {
            "args": [
             [
              "181"
             ],
             {
              "frame": {
               "duration": 0,
               "redraw": true
              },
              "fromcurrent": true,
              "mode": "immediate",
              "transition": {
               "duration": 0,
               "easing": "linear"
              }
             }
            ],
            "label": "181",
            "method": "animate"
           },
           {
            "args": [
             [
              "182"
             ],
             {
              "frame": {
               "duration": 0,
               "redraw": true
              },
              "fromcurrent": true,
              "mode": "immediate",
              "transition": {
               "duration": 0,
               "easing": "linear"
              }
             }
            ],
            "label": "182",
            "method": "animate"
           },
           {
            "args": [
             [
              "183"
             ],
             {
              "frame": {
               "duration": 0,
               "redraw": true
              },
              "fromcurrent": true,
              "mode": "immediate",
              "transition": {
               "duration": 0,
               "easing": "linear"
              }
             }
            ],
            "label": "183",
            "method": "animate"
           },
           {
            "args": [
             [
              "184"
             ],
             {
              "frame": {
               "duration": 0,
               "redraw": true
              },
              "fromcurrent": true,
              "mode": "immediate",
              "transition": {
               "duration": 0,
               "easing": "linear"
              }
             }
            ],
            "label": "184",
            "method": "animate"
           },
           {
            "args": [
             [
              "185"
             ],
             {
              "frame": {
               "duration": 0,
               "redraw": true
              },
              "fromcurrent": true,
              "mode": "immediate",
              "transition": {
               "duration": 0,
               "easing": "linear"
              }
             }
            ],
            "label": "185",
            "method": "animate"
           },
           {
            "args": [
             [
              "186"
             ],
             {
              "frame": {
               "duration": 0,
               "redraw": true
              },
              "fromcurrent": true,
              "mode": "immediate",
              "transition": {
               "duration": 0,
               "easing": "linear"
              }
             }
            ],
            "label": "186",
            "method": "animate"
           },
           {
            "args": [
             [
              "187"
             ],
             {
              "frame": {
               "duration": 0,
               "redraw": true
              },
              "fromcurrent": true,
              "mode": "immediate",
              "transition": {
               "duration": 0,
               "easing": "linear"
              }
             }
            ],
            "label": "187",
            "method": "animate"
           },
           {
            "args": [
             [
              "188"
             ],
             {
              "frame": {
               "duration": 0,
               "redraw": true
              },
              "fromcurrent": true,
              "mode": "immediate",
              "transition": {
               "duration": 0,
               "easing": "linear"
              }
             }
            ],
            "label": "188",
            "method": "animate"
           },
           {
            "args": [
             [
              "189"
             ],
             {
              "frame": {
               "duration": 0,
               "redraw": true
              },
              "fromcurrent": true,
              "mode": "immediate",
              "transition": {
               "duration": 0,
               "easing": "linear"
              }
             }
            ],
            "label": "189",
            "method": "animate"
           },
           {
            "args": [
             [
              "190"
             ],
             {
              "frame": {
               "duration": 0,
               "redraw": true
              },
              "fromcurrent": true,
              "mode": "immediate",
              "transition": {
               "duration": 0,
               "easing": "linear"
              }
             }
            ],
            "label": "190",
            "method": "animate"
           },
           {
            "args": [
             [
              "191"
             ],
             {
              "frame": {
               "duration": 0,
               "redraw": true
              },
              "fromcurrent": true,
              "mode": "immediate",
              "transition": {
               "duration": 0,
               "easing": "linear"
              }
             }
            ],
            "label": "191",
            "method": "animate"
           },
           {
            "args": [
             [
              "192"
             ],
             {
              "frame": {
               "duration": 0,
               "redraw": true
              },
              "fromcurrent": true,
              "mode": "immediate",
              "transition": {
               "duration": 0,
               "easing": "linear"
              }
             }
            ],
            "label": "192",
            "method": "animate"
           },
           {
            "args": [
             [
              "193"
             ],
             {
              "frame": {
               "duration": 0,
               "redraw": true
              },
              "fromcurrent": true,
              "mode": "immediate",
              "transition": {
               "duration": 0,
               "easing": "linear"
              }
             }
            ],
            "label": "193",
            "method": "animate"
           },
           {
            "args": [
             [
              "194"
             ],
             {
              "frame": {
               "duration": 0,
               "redraw": true
              },
              "fromcurrent": true,
              "mode": "immediate",
              "transition": {
               "duration": 0,
               "easing": "linear"
              }
             }
            ],
            "label": "194",
            "method": "animate"
           },
           {
            "args": [
             [
              "195"
             ],
             {
              "frame": {
               "duration": 0,
               "redraw": true
              },
              "fromcurrent": true,
              "mode": "immediate",
              "transition": {
               "duration": 0,
               "easing": "linear"
              }
             }
            ],
            "label": "195",
            "method": "animate"
           },
           {
            "args": [
             [
              "196"
             ],
             {
              "frame": {
               "duration": 0,
               "redraw": true
              },
              "fromcurrent": true,
              "mode": "immediate",
              "transition": {
               "duration": 0,
               "easing": "linear"
              }
             }
            ],
            "label": "196",
            "method": "animate"
           },
           {
            "args": [
             [
              "197"
             ],
             {
              "frame": {
               "duration": 0,
               "redraw": true
              },
              "fromcurrent": true,
              "mode": "immediate",
              "transition": {
               "duration": 0,
               "easing": "linear"
              }
             }
            ],
            "label": "197",
            "method": "animate"
           },
           {
            "args": [
             [
              "198"
             ],
             {
              "frame": {
               "duration": 0,
               "redraw": true
              },
              "fromcurrent": true,
              "mode": "immediate",
              "transition": {
               "duration": 0,
               "easing": "linear"
              }
             }
            ],
            "label": "198",
            "method": "animate"
           },
           {
            "args": [
             [
              "199"
             ],
             {
              "frame": {
               "duration": 0,
               "redraw": true
              },
              "fromcurrent": true,
              "mode": "immediate",
              "transition": {
               "duration": 0,
               "easing": "linear"
              }
             }
            ],
            "label": "199",
            "method": "animate"
           },
           {
            "args": [
             [
              "200"
             ],
             {
              "frame": {
               "duration": 0,
               "redraw": true
              },
              "fromcurrent": true,
              "mode": "immediate",
              "transition": {
               "duration": 0,
               "easing": "linear"
              }
             }
            ],
            "label": "200",
            "method": "animate"
           },
           {
            "args": [
             [
              "201"
             ],
             {
              "frame": {
               "duration": 0,
               "redraw": true
              },
              "fromcurrent": true,
              "mode": "immediate",
              "transition": {
               "duration": 0,
               "easing": "linear"
              }
             }
            ],
            "label": "201",
            "method": "animate"
           },
           {
            "args": [
             [
              "202"
             ],
             {
              "frame": {
               "duration": 0,
               "redraw": true
              },
              "fromcurrent": true,
              "mode": "immediate",
              "transition": {
               "duration": 0,
               "easing": "linear"
              }
             }
            ],
            "label": "202",
            "method": "animate"
           },
           {
            "args": [
             [
              "203"
             ],
             {
              "frame": {
               "duration": 0,
               "redraw": true
              },
              "fromcurrent": true,
              "mode": "immediate",
              "transition": {
               "duration": 0,
               "easing": "linear"
              }
             }
            ],
            "label": "203",
            "method": "animate"
           },
           {
            "args": [
             [
              "204"
             ],
             {
              "frame": {
               "duration": 0,
               "redraw": true
              },
              "fromcurrent": true,
              "mode": "immediate",
              "transition": {
               "duration": 0,
               "easing": "linear"
              }
             }
            ],
            "label": "204",
            "method": "animate"
           },
           {
            "args": [
             [
              "205"
             ],
             {
              "frame": {
               "duration": 0,
               "redraw": true
              },
              "fromcurrent": true,
              "mode": "immediate",
              "transition": {
               "duration": 0,
               "easing": "linear"
              }
             }
            ],
            "label": "205",
            "method": "animate"
           },
           {
            "args": [
             [
              "206"
             ],
             {
              "frame": {
               "duration": 0,
               "redraw": true
              },
              "fromcurrent": true,
              "mode": "immediate",
              "transition": {
               "duration": 0,
               "easing": "linear"
              }
             }
            ],
            "label": "206",
            "method": "animate"
           },
           {
            "args": [
             [
              "207"
             ],
             {
              "frame": {
               "duration": 0,
               "redraw": true
              },
              "fromcurrent": true,
              "mode": "immediate",
              "transition": {
               "duration": 0,
               "easing": "linear"
              }
             }
            ],
            "label": "207",
            "method": "animate"
           },
           {
            "args": [
             [
              "208"
             ],
             {
              "frame": {
               "duration": 0,
               "redraw": true
              },
              "fromcurrent": true,
              "mode": "immediate",
              "transition": {
               "duration": 0,
               "easing": "linear"
              }
             }
            ],
            "label": "208",
            "method": "animate"
           },
           {
            "args": [
             [
              "209"
             ],
             {
              "frame": {
               "duration": 0,
               "redraw": true
              },
              "fromcurrent": true,
              "mode": "immediate",
              "transition": {
               "duration": 0,
               "easing": "linear"
              }
             }
            ],
            "label": "209",
            "method": "animate"
           },
           {
            "args": [
             [
              "210"
             ],
             {
              "frame": {
               "duration": 0,
               "redraw": true
              },
              "fromcurrent": true,
              "mode": "immediate",
              "transition": {
               "duration": 0,
               "easing": "linear"
              }
             }
            ],
            "label": "210",
            "method": "animate"
           },
           {
            "args": [
             [
              "211"
             ],
             {
              "frame": {
               "duration": 0,
               "redraw": true
              },
              "fromcurrent": true,
              "mode": "immediate",
              "transition": {
               "duration": 0,
               "easing": "linear"
              }
             }
            ],
            "label": "211",
            "method": "animate"
           },
           {
            "args": [
             [
              "212"
             ],
             {
              "frame": {
               "duration": 0,
               "redraw": true
              },
              "fromcurrent": true,
              "mode": "immediate",
              "transition": {
               "duration": 0,
               "easing": "linear"
              }
             }
            ],
            "label": "212",
            "method": "animate"
           },
           {
            "args": [
             [
              "213"
             ],
             {
              "frame": {
               "duration": 0,
               "redraw": true
              },
              "fromcurrent": true,
              "mode": "immediate",
              "transition": {
               "duration": 0,
               "easing": "linear"
              }
             }
            ],
            "label": "213",
            "method": "animate"
           },
           {
            "args": [
             [
              "214"
             ],
             {
              "frame": {
               "duration": 0,
               "redraw": true
              },
              "fromcurrent": true,
              "mode": "immediate",
              "transition": {
               "duration": 0,
               "easing": "linear"
              }
             }
            ],
            "label": "214",
            "method": "animate"
           },
           {
            "args": [
             [
              "215"
             ],
             {
              "frame": {
               "duration": 0,
               "redraw": true
              },
              "fromcurrent": true,
              "mode": "immediate",
              "transition": {
               "duration": 0,
               "easing": "linear"
              }
             }
            ],
            "label": "215",
            "method": "animate"
           },
           {
            "args": [
             [
              "216"
             ],
             {
              "frame": {
               "duration": 0,
               "redraw": true
              },
              "fromcurrent": true,
              "mode": "immediate",
              "transition": {
               "duration": 0,
               "easing": "linear"
              }
             }
            ],
            "label": "216",
            "method": "animate"
           },
           {
            "args": [
             [
              "217"
             ],
             {
              "frame": {
               "duration": 0,
               "redraw": true
              },
              "fromcurrent": true,
              "mode": "immediate",
              "transition": {
               "duration": 0,
               "easing": "linear"
              }
             }
            ],
            "label": "217",
            "method": "animate"
           },
           {
            "args": [
             [
              "218"
             ],
             {
              "frame": {
               "duration": 0,
               "redraw": true
              },
              "fromcurrent": true,
              "mode": "immediate",
              "transition": {
               "duration": 0,
               "easing": "linear"
              }
             }
            ],
            "label": "218",
            "method": "animate"
           },
           {
            "args": [
             [
              "219"
             ],
             {
              "frame": {
               "duration": 0,
               "redraw": true
              },
              "fromcurrent": true,
              "mode": "immediate",
              "transition": {
               "duration": 0,
               "easing": "linear"
              }
             }
            ],
            "label": "219",
            "method": "animate"
           },
           {
            "args": [
             [
              "220"
             ],
             {
              "frame": {
               "duration": 0,
               "redraw": true
              },
              "fromcurrent": true,
              "mode": "immediate",
              "transition": {
               "duration": 0,
               "easing": "linear"
              }
             }
            ],
            "label": "220",
            "method": "animate"
           },
           {
            "args": [
             [
              "221"
             ],
             {
              "frame": {
               "duration": 0,
               "redraw": true
              },
              "fromcurrent": true,
              "mode": "immediate",
              "transition": {
               "duration": 0,
               "easing": "linear"
              }
             }
            ],
            "label": "221",
            "method": "animate"
           },
           {
            "args": [
             [
              "222"
             ],
             {
              "frame": {
               "duration": 0,
               "redraw": true
              },
              "fromcurrent": true,
              "mode": "immediate",
              "transition": {
               "duration": 0,
               "easing": "linear"
              }
             }
            ],
            "label": "222",
            "method": "animate"
           },
           {
            "args": [
             [
              "223"
             ],
             {
              "frame": {
               "duration": 0,
               "redraw": true
              },
              "fromcurrent": true,
              "mode": "immediate",
              "transition": {
               "duration": 0,
               "easing": "linear"
              }
             }
            ],
            "label": "223",
            "method": "animate"
           },
           {
            "args": [
             [
              "224"
             ],
             {
              "frame": {
               "duration": 0,
               "redraw": true
              },
              "fromcurrent": true,
              "mode": "immediate",
              "transition": {
               "duration": 0,
               "easing": "linear"
              }
             }
            ],
            "label": "224",
            "method": "animate"
           },
           {
            "args": [
             [
              "225"
             ],
             {
              "frame": {
               "duration": 0,
               "redraw": true
              },
              "fromcurrent": true,
              "mode": "immediate",
              "transition": {
               "duration": 0,
               "easing": "linear"
              }
             }
            ],
            "label": "225",
            "method": "animate"
           },
           {
            "args": [
             [
              "226"
             ],
             {
              "frame": {
               "duration": 0,
               "redraw": true
              },
              "fromcurrent": true,
              "mode": "immediate",
              "transition": {
               "duration": 0,
               "easing": "linear"
              }
             }
            ],
            "label": "226",
            "method": "animate"
           },
           {
            "args": [
             [
              "227"
             ],
             {
              "frame": {
               "duration": 0,
               "redraw": true
              },
              "fromcurrent": true,
              "mode": "immediate",
              "transition": {
               "duration": 0,
               "easing": "linear"
              }
             }
            ],
            "label": "227",
            "method": "animate"
           },
           {
            "args": [
             [
              "228"
             ],
             {
              "frame": {
               "duration": 0,
               "redraw": true
              },
              "fromcurrent": true,
              "mode": "immediate",
              "transition": {
               "duration": 0,
               "easing": "linear"
              }
             }
            ],
            "label": "228",
            "method": "animate"
           },
           {
            "args": [
             [
              "229"
             ],
             {
              "frame": {
               "duration": 0,
               "redraw": true
              },
              "fromcurrent": true,
              "mode": "immediate",
              "transition": {
               "duration": 0,
               "easing": "linear"
              }
             }
            ],
            "label": "229",
            "method": "animate"
           },
           {
            "args": [
             [
              "230"
             ],
             {
              "frame": {
               "duration": 0,
               "redraw": true
              },
              "fromcurrent": true,
              "mode": "immediate",
              "transition": {
               "duration": 0,
               "easing": "linear"
              }
             }
            ],
            "label": "230",
            "method": "animate"
           },
           {
            "args": [
             [
              "231"
             ],
             {
              "frame": {
               "duration": 0,
               "redraw": true
              },
              "fromcurrent": true,
              "mode": "immediate",
              "transition": {
               "duration": 0,
               "easing": "linear"
              }
             }
            ],
            "label": "231",
            "method": "animate"
           },
           {
            "args": [
             [
              "232"
             ],
             {
              "frame": {
               "duration": 0,
               "redraw": true
              },
              "fromcurrent": true,
              "mode": "immediate",
              "transition": {
               "duration": 0,
               "easing": "linear"
              }
             }
            ],
            "label": "232",
            "method": "animate"
           },
           {
            "args": [
             [
              "233"
             ],
             {
              "frame": {
               "duration": 0,
               "redraw": true
              },
              "fromcurrent": true,
              "mode": "immediate",
              "transition": {
               "duration": 0,
               "easing": "linear"
              }
             }
            ],
            "label": "233",
            "method": "animate"
           },
           {
            "args": [
             [
              "234"
             ],
             {
              "frame": {
               "duration": 0,
               "redraw": true
              },
              "fromcurrent": true,
              "mode": "immediate",
              "transition": {
               "duration": 0,
               "easing": "linear"
              }
             }
            ],
            "label": "234",
            "method": "animate"
           },
           {
            "args": [
             [
              "235"
             ],
             {
              "frame": {
               "duration": 0,
               "redraw": true
              },
              "fromcurrent": true,
              "mode": "immediate",
              "transition": {
               "duration": 0,
               "easing": "linear"
              }
             }
            ],
            "label": "235",
            "method": "animate"
           },
           {
            "args": [
             [
              "236"
             ],
             {
              "frame": {
               "duration": 0,
               "redraw": true
              },
              "fromcurrent": true,
              "mode": "immediate",
              "transition": {
               "duration": 0,
               "easing": "linear"
              }
             }
            ],
            "label": "236",
            "method": "animate"
           },
           {
            "args": [
             [
              "237"
             ],
             {
              "frame": {
               "duration": 0,
               "redraw": true
              },
              "fromcurrent": true,
              "mode": "immediate",
              "transition": {
               "duration": 0,
               "easing": "linear"
              }
             }
            ],
            "label": "237",
            "method": "animate"
           },
           {
            "args": [
             [
              "238"
             ],
             {
              "frame": {
               "duration": 0,
               "redraw": true
              },
              "fromcurrent": true,
              "mode": "immediate",
              "transition": {
               "duration": 0,
               "easing": "linear"
              }
             }
            ],
            "label": "238",
            "method": "animate"
           },
           {
            "args": [
             [
              "239"
             ],
             {
              "frame": {
               "duration": 0,
               "redraw": true
              },
              "fromcurrent": true,
              "mode": "immediate",
              "transition": {
               "duration": 0,
               "easing": "linear"
              }
             }
            ],
            "label": "239",
            "method": "animate"
           },
           {
            "args": [
             [
              "240"
             ],
             {
              "frame": {
               "duration": 0,
               "redraw": true
              },
              "fromcurrent": true,
              "mode": "immediate",
              "transition": {
               "duration": 0,
               "easing": "linear"
              }
             }
            ],
            "label": "240",
            "method": "animate"
           },
           {
            "args": [
             [
              "241"
             ],
             {
              "frame": {
               "duration": 0,
               "redraw": true
              },
              "fromcurrent": true,
              "mode": "immediate",
              "transition": {
               "duration": 0,
               "easing": "linear"
              }
             }
            ],
            "label": "241",
            "method": "animate"
           },
           {
            "args": [
             [
              "242"
             ],
             {
              "frame": {
               "duration": 0,
               "redraw": true
              },
              "fromcurrent": true,
              "mode": "immediate",
              "transition": {
               "duration": 0,
               "easing": "linear"
              }
             }
            ],
            "label": "242",
            "method": "animate"
           },
           {
            "args": [
             [
              "243"
             ],
             {
              "frame": {
               "duration": 0,
               "redraw": true
              },
              "fromcurrent": true,
              "mode": "immediate",
              "transition": {
               "duration": 0,
               "easing": "linear"
              }
             }
            ],
            "label": "243",
            "method": "animate"
           },
           {
            "args": [
             [
              "244"
             ],
             {
              "frame": {
               "duration": 0,
               "redraw": true
              },
              "fromcurrent": true,
              "mode": "immediate",
              "transition": {
               "duration": 0,
               "easing": "linear"
              }
             }
            ],
            "label": "244",
            "method": "animate"
           },
           {
            "args": [
             [
              "245"
             ],
             {
              "frame": {
               "duration": 0,
               "redraw": true
              },
              "fromcurrent": true,
              "mode": "immediate",
              "transition": {
               "duration": 0,
               "easing": "linear"
              }
             }
            ],
            "label": "245",
            "method": "animate"
           },
           {
            "args": [
             [
              "246"
             ],
             {
              "frame": {
               "duration": 0,
               "redraw": true
              },
              "fromcurrent": true,
              "mode": "immediate",
              "transition": {
               "duration": 0,
               "easing": "linear"
              }
             }
            ],
            "label": "246",
            "method": "animate"
           },
           {
            "args": [
             [
              "247"
             ],
             {
              "frame": {
               "duration": 0,
               "redraw": true
              },
              "fromcurrent": true,
              "mode": "immediate",
              "transition": {
               "duration": 0,
               "easing": "linear"
              }
             }
            ],
            "label": "247",
            "method": "animate"
           },
           {
            "args": [
             [
              "248"
             ],
             {
              "frame": {
               "duration": 0,
               "redraw": true
              },
              "fromcurrent": true,
              "mode": "immediate",
              "transition": {
               "duration": 0,
               "easing": "linear"
              }
             }
            ],
            "label": "248",
            "method": "animate"
           },
           {
            "args": [
             [
              "249"
             ],
             {
              "frame": {
               "duration": 0,
               "redraw": true
              },
              "fromcurrent": true,
              "mode": "immediate",
              "transition": {
               "duration": 0,
               "easing": "linear"
              }
             }
            ],
            "label": "249",
            "method": "animate"
           }
          ],
          "x": 0.1,
          "xanchor": "left",
          "y": 0,
          "yanchor": "top"
         }
        ],
        "template": {
         "data": {
          "bar": [
           {
            "error_x": {
             "color": "#2a3f5f"
            },
            "error_y": {
             "color": "#2a3f5f"
            },
            "marker": {
             "line": {
              "color": "#E5ECF6",
              "width": 0.5
             },
             "pattern": {
              "fillmode": "overlay",
              "size": 10,
              "solidity": 0.2
             }
            },
            "type": "bar"
           }
          ],
          "barpolar": [
           {
            "marker": {
             "line": {
              "color": "#E5ECF6",
              "width": 0.5
             },
             "pattern": {
              "fillmode": "overlay",
              "size": 10,
              "solidity": 0.2
             }
            },
            "type": "barpolar"
           }
          ],
          "carpet": [
           {
            "aaxis": {
             "endlinecolor": "#2a3f5f",
             "gridcolor": "white",
             "linecolor": "white",
             "minorgridcolor": "white",
             "startlinecolor": "#2a3f5f"
            },
            "baxis": {
             "endlinecolor": "#2a3f5f",
             "gridcolor": "white",
             "linecolor": "white",
             "minorgridcolor": "white",
             "startlinecolor": "#2a3f5f"
            },
            "type": "carpet"
           }
          ],
          "choropleth": [
           {
            "colorbar": {
             "outlinewidth": 0,
             "ticks": ""
            },
            "type": "choropleth"
           }
          ],
          "contour": [
           {
            "colorbar": {
             "outlinewidth": 0,
             "ticks": ""
            },
            "colorscale": [
             [
              0,
              "#0d0887"
             ],
             [
              0.1111111111111111,
              "#46039f"
             ],
             [
              0.2222222222222222,
              "#7201a8"
             ],
             [
              0.3333333333333333,
              "#9c179e"
             ],
             [
              0.4444444444444444,
              "#bd3786"
             ],
             [
              0.5555555555555556,
              "#d8576b"
             ],
             [
              0.6666666666666666,
              "#ed7953"
             ],
             [
              0.7777777777777778,
              "#fb9f3a"
             ],
             [
              0.8888888888888888,
              "#fdca26"
             ],
             [
              1,
              "#f0f921"
             ]
            ],
            "type": "contour"
           }
          ],
          "contourcarpet": [
           {
            "colorbar": {
             "outlinewidth": 0,
             "ticks": ""
            },
            "type": "contourcarpet"
           }
          ],
          "heatmap": [
           {
            "colorbar": {
             "outlinewidth": 0,
             "ticks": ""
            },
            "colorscale": [
             [
              0,
              "#0d0887"
             ],
             [
              0.1111111111111111,
              "#46039f"
             ],
             [
              0.2222222222222222,
              "#7201a8"
             ],
             [
              0.3333333333333333,
              "#9c179e"
             ],
             [
              0.4444444444444444,
              "#bd3786"
             ],
             [
              0.5555555555555556,
              "#d8576b"
             ],
             [
              0.6666666666666666,
              "#ed7953"
             ],
             [
              0.7777777777777778,
              "#fb9f3a"
             ],
             [
              0.8888888888888888,
              "#fdca26"
             ],
             [
              1,
              "#f0f921"
             ]
            ],
            "type": "heatmap"
           }
          ],
          "heatmapgl": [
           {
            "colorbar": {
             "outlinewidth": 0,
             "ticks": ""
            },
            "colorscale": [
             [
              0,
              "#0d0887"
             ],
             [
              0.1111111111111111,
              "#46039f"
             ],
             [
              0.2222222222222222,
              "#7201a8"
             ],
             [
              0.3333333333333333,
              "#9c179e"
             ],
             [
              0.4444444444444444,
              "#bd3786"
             ],
             [
              0.5555555555555556,
              "#d8576b"
             ],
             [
              0.6666666666666666,
              "#ed7953"
             ],
             [
              0.7777777777777778,
              "#fb9f3a"
             ],
             [
              0.8888888888888888,
              "#fdca26"
             ],
             [
              1,
              "#f0f921"
             ]
            ],
            "type": "heatmapgl"
           }
          ],
          "histogram": [
           {
            "marker": {
             "pattern": {
              "fillmode": "overlay",
              "size": 10,
              "solidity": 0.2
             }
            },
            "type": "histogram"
           }
          ],
          "histogram2d": [
           {
            "colorbar": {
             "outlinewidth": 0,
             "ticks": ""
            },
            "colorscale": [
             [
              0,
              "#0d0887"
             ],
             [
              0.1111111111111111,
              "#46039f"
             ],
             [
              0.2222222222222222,
              "#7201a8"
             ],
             [
              0.3333333333333333,
              "#9c179e"
             ],
             [
              0.4444444444444444,
              "#bd3786"
             ],
             [
              0.5555555555555556,
              "#d8576b"
             ],
             [
              0.6666666666666666,
              "#ed7953"
             ],
             [
              0.7777777777777778,
              "#fb9f3a"
             ],
             [
              0.8888888888888888,
              "#fdca26"
             ],
             [
              1,
              "#f0f921"
             ]
            ],
            "type": "histogram2d"
           }
          ],
          "histogram2dcontour": [
           {
            "colorbar": {
             "outlinewidth": 0,
             "ticks": ""
            },
            "colorscale": [
             [
              0,
              "#0d0887"
             ],
             [
              0.1111111111111111,
              "#46039f"
             ],
             [
              0.2222222222222222,
              "#7201a8"
             ],
             [
              0.3333333333333333,
              "#9c179e"
             ],
             [
              0.4444444444444444,
              "#bd3786"
             ],
             [
              0.5555555555555556,
              "#d8576b"
             ],
             [
              0.6666666666666666,
              "#ed7953"
             ],
             [
              0.7777777777777778,
              "#fb9f3a"
             ],
             [
              0.8888888888888888,
              "#fdca26"
             ],
             [
              1,
              "#f0f921"
             ]
            ],
            "type": "histogram2dcontour"
           }
          ],
          "mesh3d": [
           {
            "colorbar": {
             "outlinewidth": 0,
             "ticks": ""
            },
            "type": "mesh3d"
           }
          ],
          "parcoords": [
           {
            "line": {
             "colorbar": {
              "outlinewidth": 0,
              "ticks": ""
             }
            },
            "type": "parcoords"
           }
          ],
          "pie": [
           {
            "automargin": true,
            "type": "pie"
           }
          ],
          "scatter": [
           {
            "fillpattern": {
             "fillmode": "overlay",
             "size": 10,
             "solidity": 0.2
            },
            "type": "scatter"
           }
          ],
          "scatter3d": [
           {
            "line": {
             "colorbar": {
              "outlinewidth": 0,
              "ticks": ""
             }
            },
            "marker": {
             "colorbar": {
              "outlinewidth": 0,
              "ticks": ""
             }
            },
            "type": "scatter3d"
           }
          ],
          "scattercarpet": [
           {
            "marker": {
             "colorbar": {
              "outlinewidth": 0,
              "ticks": ""
             }
            },
            "type": "scattercarpet"
           }
          ],
          "scattergeo": [
           {
            "marker": {
             "colorbar": {
              "outlinewidth": 0,
              "ticks": ""
             }
            },
            "type": "scattergeo"
           }
          ],
          "scattergl": [
           {
            "marker": {
             "colorbar": {
              "outlinewidth": 0,
              "ticks": ""
             }
            },
            "type": "scattergl"
           }
          ],
          "scattermapbox": [
           {
            "marker": {
             "colorbar": {
              "outlinewidth": 0,
              "ticks": ""
             }
            },
            "type": "scattermapbox"
           }
          ],
          "scatterpolar": [
           {
            "marker": {
             "colorbar": {
              "outlinewidth": 0,
              "ticks": ""
             }
            },
            "type": "scatterpolar"
           }
          ],
          "scatterpolargl": [
           {
            "marker": {
             "colorbar": {
              "outlinewidth": 0,
              "ticks": ""
             }
            },
            "type": "scatterpolargl"
           }
          ],
          "scatterternary": [
           {
            "marker": {
             "colorbar": {
              "outlinewidth": 0,
              "ticks": ""
             }
            },
            "type": "scatterternary"
           }
          ],
          "surface": [
           {
            "colorbar": {
             "outlinewidth": 0,
             "ticks": ""
            },
            "colorscale": [
             [
              0,
              "#0d0887"
             ],
             [
              0.1111111111111111,
              "#46039f"
             ],
             [
              0.2222222222222222,
              "#7201a8"
             ],
             [
              0.3333333333333333,
              "#9c179e"
             ],
             [
              0.4444444444444444,
              "#bd3786"
             ],
             [
              0.5555555555555556,
              "#d8576b"
             ],
             [
              0.6666666666666666,
              "#ed7953"
             ],
             [
              0.7777777777777778,
              "#fb9f3a"
             ],
             [
              0.8888888888888888,
              "#fdca26"
             ],
             [
              1,
              "#f0f921"
             ]
            ],
            "type": "surface"
           }
          ],
          "table": [
           {
            "cells": {
             "fill": {
              "color": "#EBF0F8"
             },
             "line": {
              "color": "white"
             }
            },
            "header": {
             "fill": {
              "color": "#C8D4E3"
             },
             "line": {
              "color": "white"
             }
            },
            "type": "table"
           }
          ]
         },
         "layout": {
          "annotationdefaults": {
           "arrowcolor": "#2a3f5f",
           "arrowhead": 0,
           "arrowwidth": 1
          },
          "autotypenumbers": "strict",
          "coloraxis": {
           "colorbar": {
            "outlinewidth": 0,
            "ticks": ""
           }
          },
          "colorscale": {
           "diverging": [
            [
             0,
             "#8e0152"
            ],
            [
             0.1,
             "#c51b7d"
            ],
            [
             0.2,
             "#de77ae"
            ],
            [
             0.3,
             "#f1b6da"
            ],
            [
             0.4,
             "#fde0ef"
            ],
            [
             0.5,
             "#f7f7f7"
            ],
            [
             0.6,
             "#e6f5d0"
            ],
            [
             0.7,
             "#b8e186"
            ],
            [
             0.8,
             "#7fbc41"
            ],
            [
             0.9,
             "#4d9221"
            ],
            [
             1,
             "#276419"
            ]
           ],
           "sequential": [
            [
             0,
             "#0d0887"
            ],
            [
             0.1111111111111111,
             "#46039f"
            ],
            [
             0.2222222222222222,
             "#7201a8"
            ],
            [
             0.3333333333333333,
             "#9c179e"
            ],
            [
             0.4444444444444444,
             "#bd3786"
            ],
            [
             0.5555555555555556,
             "#d8576b"
            ],
            [
             0.6666666666666666,
             "#ed7953"
            ],
            [
             0.7777777777777778,
             "#fb9f3a"
            ],
            [
             0.8888888888888888,
             "#fdca26"
            ],
            [
             1,
             "#f0f921"
            ]
           ],
           "sequentialminus": [
            [
             0,
             "#0d0887"
            ],
            [
             0.1111111111111111,
             "#46039f"
            ],
            [
             0.2222222222222222,
             "#7201a8"
            ],
            [
             0.3333333333333333,
             "#9c179e"
            ],
            [
             0.4444444444444444,
             "#bd3786"
            ],
            [
             0.5555555555555556,
             "#d8576b"
            ],
            [
             0.6666666666666666,
             "#ed7953"
            ],
            [
             0.7777777777777778,
             "#fb9f3a"
            ],
            [
             0.8888888888888888,
             "#fdca26"
            ],
            [
             1,
             "#f0f921"
            ]
           ]
          },
          "colorway": [
           "#636efa",
           "#EF553B",
           "#00cc96",
           "#ab63fa",
           "#FFA15A",
           "#19d3f3",
           "#FF6692",
           "#B6E880",
           "#FF97FF",
           "#FECB52"
          ],
          "font": {
           "color": "#2a3f5f"
          },
          "geo": {
           "bgcolor": "white",
           "lakecolor": "white",
           "landcolor": "#E5ECF6",
           "showlakes": true,
           "showland": true,
           "subunitcolor": "white"
          },
          "hoverlabel": {
           "align": "left"
          },
          "hovermode": "closest",
          "mapbox": {
           "style": "light"
          },
          "paper_bgcolor": "white",
          "plot_bgcolor": "#E5ECF6",
          "polar": {
           "angularaxis": {
            "gridcolor": "white",
            "linecolor": "white",
            "ticks": ""
           },
           "bgcolor": "#E5ECF6",
           "radialaxis": {
            "gridcolor": "white",
            "linecolor": "white",
            "ticks": ""
           }
          },
          "scene": {
           "xaxis": {
            "backgroundcolor": "#E5ECF6",
            "gridcolor": "white",
            "gridwidth": 2,
            "linecolor": "white",
            "showbackground": true,
            "ticks": "",
            "zerolinecolor": "white"
           },
           "yaxis": {
            "backgroundcolor": "#E5ECF6",
            "gridcolor": "white",
            "gridwidth": 2,
            "linecolor": "white",
            "showbackground": true,
            "ticks": "",
            "zerolinecolor": "white"
           },
           "zaxis": {
            "backgroundcolor": "#E5ECF6",
            "gridcolor": "white",
            "gridwidth": 2,
            "linecolor": "white",
            "showbackground": true,
            "ticks": "",
            "zerolinecolor": "white"
           }
          },
          "shapedefaults": {
           "line": {
            "color": "#2a3f5f"
           }
          },
          "ternary": {
           "aaxis": {
            "gridcolor": "white",
            "linecolor": "white",
            "ticks": ""
           },
           "baxis": {
            "gridcolor": "white",
            "linecolor": "white",
            "ticks": ""
           },
           "bgcolor": "#E5ECF6",
           "caxis": {
            "gridcolor": "white",
            "linecolor": "white",
            "ticks": ""
           }
          },
          "title": {
           "x": 0.05
          },
          "xaxis": {
           "automargin": true,
           "gridcolor": "white",
           "linecolor": "white",
           "ticks": "",
           "title": {
            "standoff": 15
           },
           "zerolinecolor": "white",
           "zerolinewidth": 2
          },
          "yaxis": {
           "automargin": true,
           "gridcolor": "white",
           "linecolor": "white",
           "ticks": "",
           "title": {
            "standoff": 15
           },
           "zerolinecolor": "white",
           "zerolinewidth": 2
          }
         }
        },
        "updatemenus": [
         {
          "buttons": [
           {
            "args": [
             null,
             {
              "frame": {
               "duration": 500,
               "redraw": true
              },
              "fromcurrent": true,
              "mode": "immediate",
              "transition": {
               "duration": 500,
               "easing": "linear"
              }
             }
            ],
            "label": "&#9654;",
            "method": "animate"
           },
           {
            "args": [
             [
              null
             ],
             {
              "frame": {
               "duration": 0,
               "redraw": true
              },
              "fromcurrent": true,
              "mode": "immediate",
              "transition": {
               "duration": 0,
               "easing": "linear"
              }
             }
            ],
            "label": "&#9724;",
            "method": "animate"
           }
          ],
          "direction": "left",
          "pad": {
           "r": 10,
           "t": 70
          },
          "showactive": false,
          "type": "buttons",
          "x": 0.1,
          "xanchor": "right",
          "y": 0,
          "yanchor": "top"
         }
        ]
       }
      }
     },
     "metadata": {},
     "output_type": "display_data"
    }
   ],
   "source": [
    "plot_col = 'MassConc_2p5'\n",
    "min_conc_val = combined_df[plot_col].min()\n",
    "max_conc_val = combined_df[plot_col].max()\n",
    "fig = px.scatter_3d(combined_df,x='x', y='y', z='z', text='loc', color= 'MassConc_2p5', size='MassConc_2p5', animation_frame='time_elapsed', size_max=50, range_color=[min_conc_val, max_conc_val])\n",
    "# fig.update_layout(title_text='Sensors Location in a Room', title_x= 0.43, width= 750, height = 400)\n",
    "fig.update_layout(\n",
    "    scene = dict(\n",
    "        xaxis = dict(nticks=5, range=[0,1],),\n",
    "                     yaxis = dict(nticks=5, range=[0,1],),\n",
    "                     zaxis = dict(nticks=5, range=[0,1],),\n",
    "                     aspectratio=dict(x=1, y=1, z=1),\n",
    "                ),\n",
    "        )\n",
    "\n",
    "\n",
    "fig.show()\n"
   ]
  },
  {
   "cell_type": "code",
   "execution_count": 21,
   "metadata": {},
   "outputs": [],
   "source": [
    "import plotly.io as pio\n",
    "pio.write_html(fig, file='figure.html', auto_open=True)"
   ]
  },
  {
   "cell_type": "code",
   "execution_count": null,
   "metadata": {},
   "outputs": [],
   "source": []
  }
 ],
 "metadata": {
  "kernelspec": {
   "display_name": "sps30",
   "language": "python",
   "name": "python3"
  },
  "language_info": {
   "codemirror_mode": {
    "name": "ipython",
    "version": 3
   },
   "file_extension": ".py",
   "mimetype": "text/x-python",
   "name": "python",
   "nbconvert_exporter": "python",
   "pygments_lexer": "ipython3",
   "version": "3.8.8"
  },
  "orig_nbformat": 4,
  "vscode": {
   "interpreter": {
    "hash": "8bacb9b4f4d5859ec6113ebe382d26003ebafb9e1b85bfc427d423e3505d5bca"
   }
  }
 },
 "nbformat": 4,
 "nbformat_minor": 2
}
