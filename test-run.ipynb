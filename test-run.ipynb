{
 "cells": [
  {
   "cell_type": "code",
   "execution_count": 1,
   "metadata": {},
   "outputs": [],
   "source": [
    "from src.data_preprocess import *\n",
    "from src.data_animation import *\n",
    "from src.data_comparison import *"
   ]
  },
  {
   "cell_type": "code",
   "execution_count": 2,
   "metadata": {},
   "outputs": [],
   "source": [
    "file_paths_med = 'data/pm_data/feb28-medium/*.edf'\n",
    "file_paths_high = 'data/pm_data/feb27-high/*.edf'\n",
    "file_paths_low = 'data/pm_data/feb27-low/*.edf'\n",
    "file_paths_noac = 'data/pm_data/feb27-noac/*.edf'\n",
    "\n",
    "df_low = read_pm(file_paths_low)\n",
    "df_med = read_pm(file_paths_med)\n",
    "df_high = read_pm(file_paths_high)\n",
    "df_noac = read_pm(file_paths_noac)\n",
    "\n",
    "# plot_event(df_low,  timestamp=300, interval=200, trial=\"low speed\")\n",
    "# plot_event(df_med,timestamp=30, interval=200, trial='medium speed')\n",
    "# plot_event(df_high, timestamp=215, interval=200, trial='high speed')\n",
    "# plot_event(df_noac, timestamp=50, interval = 200, trial='no ac')"
   ]
  },
  {
   "cell_type": "code",
   "execution_count": 3,
   "metadata": {},
   "outputs": [
    {
     "data": {
      "application/vnd.plotly.v1+json": {
       "config": {
        "plotlyServerURL": "https://plot.ly"
       },
       "data": [
        {
         "hovertemplate": "time_elapsed=0<br>x=%{x}<br>y=%{y}<br>z=%{z}<br>MassConc_2p5=%{marker.color}<br>loc=%{text}<extra></extra>",
         "legendgroup": "",
         "marker": {
          "color": [
           0.796977,
           0.603296,
           0.576354,
           0.720919,
           0.73122,
           0.632933
          ],
          "coloraxis": "coloraxis",
          "size": [
           0.796977,
           0.603296,
           0.576354,
           0.720919,
           0.73122,
           0.632933
          ],
          "sizemode": "area",
          "sizeref": 0.0764335692,
          "symbol": "circle"
         },
         "mode": "markers+text",
         "name": "",
         "scene": "scene",
         "showlegend": false,
         "text": [
          "back corner/exhaust",
          "back",
          "front-tripod",
          "front-desk",
          "door",
          "front corner"
         ],
         "type": "scatter3d",
         "x": [
          0,
          0,
          0.9,
          0.65,
          0.95,
          0.9
         ],
         "y": [
          0.85,
          0.1,
          0.45,
          0.45,
          0,
          1
         ],
         "z": [
          0.2,
          0.8,
          0.5,
          0.3,
          0.9,
          0.6
         ]
        }
       ],
       "frames": [
        {
         "data": [
          {
           "hovertemplate": "time_elapsed=0<br>x=%{x}<br>y=%{y}<br>z=%{z}<br>MassConc_2p5=%{marker.color}<br>loc=%{text}<extra></extra>",
           "legendgroup": "",
           "marker": {
            "color": [
             0.796977,
             0.603296,
             0.576354,
             0.720919,
             0.73122,
             0.632933
            ],
            "coloraxis": "coloraxis",
            "size": [
             0.796977,
             0.603296,
             0.576354,
             0.720919,
             0.73122,
             0.632933
            ],
            "sizemode": "area",
            "sizeref": 0.0764335692,
            "symbol": "circle"
           },
           "mode": "markers+text",
           "name": "",
           "scene": "scene",
           "showlegend": false,
           "text": [
            "back corner/exhaust",
            "back",
            "front-tripod",
            "front-desk",
            "door",
            "front corner"
           ],
           "type": "scatter3d",
           "x": [
            0,
            0,
            0.9,
            0.65,
            0.95,
            0.9
           ],
           "y": [
            0.85,
            0.1,
            0.45,
            0.45,
            0,
            1
           ],
           "z": [
            0.2,
            0.8,
            0.5,
            0.3,
            0.9,
            0.6
           ]
          }
         ],
         "name": "0"
        },
        {
         "data": [
          {
           "hovertemplate": "time_elapsed=1<br>x=%{x}<br>y=%{y}<br>z=%{z}<br>MassConc_2p5=%{marker.color}<br>loc=%{text}<extra></extra>",
           "legendgroup": "",
           "marker": {
            "color": [
             0.781083,
             0.57723,
             0.593465,
             0.728051,
             0.730071,
             0.629322
            ],
            "coloraxis": "coloraxis",
            "size": [
             0.781083,
             0.57723,
             0.593465,
             0.728051,
             0.730071,
             0.629322
            ],
            "sizemode": "area",
            "sizeref": 0.0764335692,
            "symbol": "circle"
           },
           "mode": "markers+text",
           "name": "",
           "scene": "scene",
           "showlegend": false,
           "text": [
            "back corner/exhaust",
            "back",
            "front-tripod",
            "front-desk",
            "door",
            "front corner"
           ],
           "type": "scatter3d",
           "x": [
            0,
            0,
            0.9,
            0.65,
            0.95,
            0.9
           ],
           "y": [
            0.85,
            0.1,
            0.45,
            0.45,
            0,
            1
           ],
           "z": [
            0.2,
            0.8,
            0.5,
            0.3,
            0.9,
            0.6
           ]
          }
         ],
         "name": "1"
        },
        {
         "data": [
          {
           "hovertemplate": "time_elapsed=2<br>x=%{x}<br>y=%{y}<br>z=%{z}<br>MassConc_2p5=%{marker.color}<br>loc=%{text}<extra></extra>",
           "legendgroup": "",
           "marker": {
            "color": [
             0.769606,
             0.550349,
             0.60137,
             0.726548,
             0.721847,
             0.620104
            ],
            "coloraxis": "coloraxis",
            "size": [
             0.769606,
             0.550349,
             0.60137,
             0.726548,
             0.721847,
             0.620104
            ],
            "sizemode": "area",
            "sizeref": 0.0764335692,
            "symbol": "circle"
           },
           "mode": "markers+text",
           "name": "",
           "scene": "scene",
           "showlegend": false,
           "text": [
            "back corner/exhaust",
            "back",
            "front-tripod",
            "front-desk",
            "door",
            "front corner"
           ],
           "type": "scatter3d",
           "x": [
            0,
            0,
            0.9,
            0.65,
            0.95,
            0.9
           ],
           "y": [
            0.85,
            0.1,
            0.45,
            0.45,
            0,
            1
           ],
           "z": [
            0.2,
            0.8,
            0.5,
            0.3,
            0.9,
            0.6
           ]
          }
         ],
         "name": "2"
        },
        {
         "data": [
          {
           "hovertemplate": "time_elapsed=3<br>x=%{x}<br>y=%{y}<br>z=%{z}<br>MassConc_2p5=%{marker.color}<br>loc=%{text}<extra></extra>",
           "legendgroup": "",
           "marker": {
            "color": [
             0.770966,
             0.533285,
             0.610555,
             0.718066,
             0.707974,
             0.606437
            ],
            "coloraxis": "coloraxis",
            "size": [
             0.770966,
             0.533285,
             0.610555,
             0.718066,
             0.707974,
             0.606437
            ],
            "sizemode": "area",
            "sizeref": 0.0764335692,
            "symbol": "circle"
           },
           "mode": "markers+text",
           "name": "",
           "scene": "scene",
           "showlegend": false,
           "text": [
            "back corner/exhaust",
            "back",
            "front-tripod",
            "front-desk",
            "door",
            "front corner"
           ],
           "type": "scatter3d",
           "x": [
            0,
            0,
            0.9,
            0.65,
            0.95,
            0.9
           ],
           "y": [
            0.85,
            0.1,
            0.45,
            0.45,
            0,
            1
           ],
           "z": [
            0.2,
            0.8,
            0.5,
            0.3,
            0.9,
            0.6
           ]
          }
         ],
         "name": "3"
        },
        {
         "data": [
          {
           "hovertemplate": "time_elapsed=4<br>x=%{x}<br>y=%{y}<br>z=%{z}<br>MassConc_2p5=%{marker.color}<br>loc=%{text}<extra></extra>",
           "legendgroup": "",
           "marker": {
            "color": [
             0.764359,
             0.52437,
             0.629494,
             0.704015,
             0.689663,
             0.59728
            ],
            "coloraxis": "coloraxis",
            "size": [
             0.764359,
             0.52437,
             0.629494,
             0.704015,
             0.689663,
             0.59728
            ],
            "sizemode": "area",
            "sizeref": 0.0764335692,
            "symbol": "circle"
           },
           "mode": "markers+text",
           "name": "",
           "scene": "scene",
           "showlegend": false,
           "text": [
            "back corner/exhaust",
            "back",
            "front-tripod",
            "front-desk",
            "door",
            "front corner"
           ],
           "type": "scatter3d",
           "x": [
            0,
            0,
            0.9,
            0.65,
            0.95,
            0.9
           ],
           "y": [
            0.85,
            0.1,
            0.45,
            0.45,
            0,
            1
           ],
           "z": [
            0.2,
            0.8,
            0.5,
            0.3,
            0.9,
            0.6
           ]
          }
         ],
         "name": "4"
        },
        {
         "data": [
          {
           "hovertemplate": "time_elapsed=5<br>x=%{x}<br>y=%{y}<br>z=%{z}<br>MassConc_2p5=%{marker.color}<br>loc=%{text}<extra></extra>",
           "legendgroup": "",
           "marker": {
            "color": [
             0.760479,
             0.511909,
             0.656087,
             0.685595,
             0.676278,
             0.599863
            ],
            "coloraxis": "coloraxis",
            "size": [
             0.760479,
             0.511909,
             0.656087,
             0.685595,
             0.676278,
             0.599863
            ],
            "sizemode": "area",
            "sizeref": 0.0764335692,
            "symbol": "circle"
           },
           "mode": "markers+text",
           "name": "",
           "scene": "scene",
           "showlegend": false,
           "text": [
            "back corner/exhaust",
            "back",
            "front-tripod",
            "front-desk",
            "door",
            "front corner"
           ],
           "type": "scatter3d",
           "x": [
            0,
            0,
            0.9,
            0.65,
            0.95,
            0.9
           ],
           "y": [
            0.85,
            0.1,
            0.45,
            0.45,
            0,
            1
           ],
           "z": [
            0.2,
            0.8,
            0.5,
            0.3,
            0.9,
            0.6
           ]
          }
         ],
         "name": "5"
        },
        {
         "data": [
          {
           "hovertemplate": "time_elapsed=6<br>x=%{x}<br>y=%{y}<br>z=%{z}<br>MassConc_2p5=%{marker.color}<br>loc=%{text}<extra></extra>",
           "legendgroup": "",
           "marker": {
            "color": [
             0.749729,
             0.506904,
             0.671027,
             0.663818,
             0.667074,
             0.595947
            ],
            "coloraxis": "coloraxis",
            "size": [
             0.749729,
             0.506904,
             0.671027,
             0.663818,
             0.667074,
             0.595947
            ],
            "sizemode": "area",
            "sizeref": 0.0764335692,
            "symbol": "circle"
           },
           "mode": "markers+text",
           "name": "",
           "scene": "scene",
           "showlegend": false,
           "text": [
            "back corner/exhaust",
            "back",
            "front-tripod",
            "front-desk",
            "door",
            "front corner"
           ],
           "type": "scatter3d",
           "x": [
            0,
            0,
            0.9,
            0.65,
            0.95,
            0.9
           ],
           "y": [
            0.85,
            0.1,
            0.45,
            0.45,
            0,
            1
           ],
           "z": [
            0.2,
            0.8,
            0.5,
            0.3,
            0.9,
            0.6
           ]
          }
         ],
         "name": "6"
        },
        {
         "data": [
          {
           "hovertemplate": "time_elapsed=7<br>x=%{x}<br>y=%{y}<br>z=%{z}<br>MassConc_2p5=%{marker.color}<br>loc=%{text}<extra></extra>",
           "legendgroup": "",
           "marker": {
            "color": [
             0.733521,
             0.49778,
             0.685207,
             0.639542,
             0.66135,
             0.602816
            ],
            "coloraxis": "coloraxis",
            "size": [
             0.733521,
             0.49778,
             0.685207,
             0.639542,
             0.66135,
             0.602816
            ],
            "sizemode": "area",
            "sizeref": 0.0764335692,
            "symbol": "circle"
           },
           "mode": "markers+text",
           "name": "",
           "scene": "scene",
           "showlegend": false,
           "text": [
            "back corner/exhaust",
            "back",
            "front-tripod",
            "front-desk",
            "door",
            "front corner"
           ],
           "type": "scatter3d",
           "x": [
            0,
            0,
            0.9,
            0.65,
            0.95,
            0.9
           ],
           "y": [
            0.85,
            0.1,
            0.45,
            0.45,
            0,
            1
           ],
           "z": [
            0.2,
            0.8,
            0.5,
            0.3,
            0.9,
            0.6
           ]
          }
         ],
         "name": "7"
        },
        {
         "data": [
          {
           "hovertemplate": "time_elapsed=8<br>x=%{x}<br>y=%{y}<br>z=%{z}<br>MassConc_2p5=%{marker.color}<br>loc=%{text}<extra></extra>",
           "legendgroup": "",
           "marker": {
            "color": [
             0.713055,
             0.485412,
             0.689811,
             0.622655,
             0.650102,
             0.618319
            ],
            "coloraxis": "coloraxis",
            "size": [
             0.713055,
             0.485412,
             0.689811,
             0.622655,
             0.650102,
             0.618319
            ],
            "sizemode": "area",
            "sizeref": 0.0764335692,
            "symbol": "circle"
           },
           "mode": "markers+text",
           "name": "",
           "scene": "scene",
           "showlegend": false,
           "text": [
            "back corner/exhaust",
            "back",
            "front-tripod",
            "front-desk",
            "door",
            "front corner"
           ],
           "type": "scatter3d",
           "x": [
            0,
            0,
            0.9,
            0.65,
            0.95,
            0.9
           ],
           "y": [
            0.85,
            0.1,
            0.45,
            0.45,
            0,
            1
           ],
           "z": [
            0.2,
            0.8,
            0.5,
            0.3,
            0.9,
            0.6
           ]
          }
         ],
         "name": "8"
        },
        {
         "data": [
          {
           "hovertemplate": "time_elapsed=9<br>x=%{x}<br>y=%{y}<br>z=%{z}<br>MassConc_2p5=%{marker.color}<br>loc=%{text}<extra></extra>",
           "legendgroup": "",
           "marker": {
            "color": [
             0.672385,
             0.480745,
             0.686617,
             0.602746,
             0.634492,
             0.624678
            ],
            "coloraxis": "coloraxis",
            "size": [
             0.672385,
             0.480745,
             0.686617,
             0.602746,
             0.634492,
             0.624678
            ],
            "sizemode": "area",
            "sizeref": 0.0764335692,
            "symbol": "circle"
           },
           "mode": "markers+text",
           "name": "",
           "scene": "scene",
           "showlegend": false,
           "text": [
            "back corner/exhaust",
            "back",
            "front-tripod",
            "front-desk",
            "door",
            "front corner"
           ],
           "type": "scatter3d",
           "x": [
            0,
            0,
            0.9,
            0.65,
            0.95,
            0.9
           ],
           "y": [
            0.85,
            0.1,
            0.45,
            0.45,
            0,
            1
           ],
           "z": [
            0.2,
            0.8,
            0.5,
            0.3,
            0.9,
            0.6
           ]
          }
         ],
         "name": "9"
        },
        {
         "data": [
          {
           "hovertemplate": "time_elapsed=10<br>x=%{x}<br>y=%{y}<br>z=%{z}<br>MassConc_2p5=%{marker.color}<br>loc=%{text}<extra></extra>",
           "legendgroup": "",
           "marker": {
            "color": [
             0.670175,
             0.472152,
             0.69486,
             0.580589,
             0.623905,
             0.631574
            ],
            "coloraxis": "coloraxis",
            "size": [
             0.670175,
             0.472152,
             0.69486,
             0.580589,
             0.623905,
             0.631574
            ],
            "sizemode": "area",
            "sizeref": 0.0764335692,
            "symbol": "circle"
           },
           "mode": "markers+text",
           "name": "",
           "scene": "scene",
           "showlegend": false,
           "text": [
            "back corner/exhaust",
            "back",
            "front-tripod",
            "front-desk",
            "door",
            "front corner"
           ],
           "type": "scatter3d",
           "x": [
            0,
            0,
            0.9,
            0.65,
            0.95,
            0.9
           ],
           "y": [
            0.85,
            0.1,
            0.45,
            0.45,
            0,
            1
           ],
           "z": [
            0.2,
            0.8,
            0.5,
            0.3,
            0.9,
            0.6
           ]
          }
         ],
         "name": "10"
        },
        {
         "data": [
          {
           "hovertemplate": "time_elapsed=11<br>x=%{x}<br>y=%{y}<br>z=%{z}<br>MassConc_2p5=%{marker.color}<br>loc=%{text}<extra></extra>",
           "legendgroup": "",
           "marker": {
            "color": [
             0.679921,
             0.460468,
             0.694578,
             0.575219,
             0.625892,
             0.630832
            ],
            "coloraxis": "coloraxis",
            "size": [
             0.679921,
             0.460468,
             0.694578,
             0.575219,
             0.625892,
             0.630832
            ],
            "sizemode": "area",
            "sizeref": 0.0764335692,
            "symbol": "circle"
           },
           "mode": "markers+text",
           "name": "",
           "scene": "scene",
           "showlegend": false,
           "text": [
            "back corner/exhaust",
            "back",
            "front-tripod",
            "front-desk",
            "door",
            "front corner"
           ],
           "type": "scatter3d",
           "x": [
            0,
            0,
            0.9,
            0.65,
            0.95,
            0.9
           ],
           "y": [
            0.85,
            0.1,
            0.45,
            0.45,
            0,
            1
           ],
           "z": [
            0.2,
            0.8,
            0.5,
            0.3,
            0.9,
            0.6
           ]
          }
         ],
         "name": "11"
        },
        {
         "data": [
          {
           "hovertemplate": "time_elapsed=12<br>x=%{x}<br>y=%{y}<br>z=%{z}<br>MassConc_2p5=%{marker.color}<br>loc=%{text}<extra></extra>",
           "legendgroup": "",
           "marker": {
            "color": [
             0.690127,
             0.446395,
             0.696169,
             0.583571,
             0.629703,
             0.631903
            ],
            "coloraxis": "coloraxis",
            "size": [
             0.690127,
             0.446395,
             0.696169,
             0.583571,
             0.629703,
             0.631903
            ],
            "sizemode": "area",
            "sizeref": 0.0764335692,
            "symbol": "circle"
           },
           "mode": "markers+text",
           "name": "",
           "scene": "scene",
           "showlegend": false,
           "text": [
            "back corner/exhaust",
            "back",
            "front-tripod",
            "front-desk",
            "door",
            "front corner"
           ],
           "type": "scatter3d",
           "x": [
            0,
            0,
            0.9,
            0.65,
            0.95,
            0.9
           ],
           "y": [
            0.85,
            0.1,
            0.45,
            0.45,
            0,
            1
           ],
           "z": [
            0.2,
            0.8,
            0.5,
            0.3,
            0.9,
            0.6
           ]
          }
         ],
         "name": "12"
        },
        {
         "data": [
          {
           "hovertemplate": "time_elapsed=13<br>x=%{x}<br>y=%{y}<br>z=%{z}<br>MassConc_2p5=%{marker.color}<br>loc=%{text}<extra></extra>",
           "legendgroup": "",
           "marker": {
            "color": [
             0.700681,
             0.430531,
             0.699278,
             0.584496,
             0.634884,
             0.626441
            ],
            "coloraxis": "coloraxis",
            "size": [
             0.700681,
             0.430531,
             0.699278,
             0.584496,
             0.634884,
             0.626441
            ],
            "sizemode": "area",
            "sizeref": 0.0764335692,
            "symbol": "circle"
           },
           "mode": "markers+text",
           "name": "",
           "scene": "scene",
           "showlegend": false,
           "text": [
            "back corner/exhaust",
            "back",
            "front-tripod",
            "front-desk",
            "door",
            "front corner"
           ],
           "type": "scatter3d",
           "x": [
            0,
            0,
            0.9,
            0.65,
            0.95,
            0.9
           ],
           "y": [
            0.85,
            0.1,
            0.45,
            0.45,
            0,
            1
           ],
           "z": [
            0.2,
            0.8,
            0.5,
            0.3,
            0.9,
            0.6
           ]
          }
         ],
         "name": "13"
        },
        {
         "data": [
          {
           "hovertemplate": "time_elapsed=14<br>x=%{x}<br>y=%{y}<br>z=%{z}<br>MassConc_2p5=%{marker.color}<br>loc=%{text}<extra></extra>",
           "legendgroup": "",
           "marker": {
            "color": [
             0.711424,
             0.413373,
             0.69479,
             0.597801,
             0.632742,
             0.623709
            ],
            "coloraxis": "coloraxis",
            "size": [
             0.711424,
             0.413373,
             0.69479,
             0.597801,
             0.632742,
             0.623709
            ],
            "sizemode": "area",
            "sizeref": 0.0764335692,
            "symbol": "circle"
           },
           "mode": "markers+text",
           "name": "",
           "scene": "scene",
           "showlegend": false,
           "text": [
            "back corner/exhaust",
            "back",
            "front-tripod",
            "front-desk",
            "door",
            "front corner"
           ],
           "type": "scatter3d",
           "x": [
            0,
            0,
            0.9,
            0.65,
            0.95,
            0.9
           ],
           "y": [
            0.85,
            0.1,
            0.45,
            0.45,
            0,
            1
           ],
           "z": [
            0.2,
            0.8,
            0.5,
            0.3,
            0.9,
            0.6
           ]
          }
         ],
         "name": "14"
        },
        {
         "data": [
          {
           "hovertemplate": "time_elapsed=15<br>x=%{x}<br>y=%{y}<br>z=%{z}<br>MassConc_2p5=%{marker.color}<br>loc=%{text}<extra></extra>",
           "legendgroup": "",
           "marker": {
            "color": [
             0.713015,
             0.39534,
             0.692988,
             0.611817,
             0.624689,
             0.631197
            ],
            "coloraxis": "coloraxis",
            "size": [
             0.713015,
             0.39534,
             0.692988,
             0.611817,
             0.624689,
             0.631197
            ],
            "sizemode": "area",
            "sizeref": 0.0764335692,
            "symbol": "circle"
           },
           "mode": "markers+text",
           "name": "",
           "scene": "scene",
           "showlegend": false,
           "text": [
            "back corner/exhaust",
            "back",
            "front-tripod",
            "front-desk",
            "door",
            "front corner"
           ],
           "type": "scatter3d",
           "x": [
            0,
            0,
            0.9,
            0.65,
            0.95,
            0.9
           ],
           "y": [
            0.85,
            0.1,
            0.45,
            0.45,
            0,
            1
           ],
           "z": [
            0.2,
            0.8,
            0.5,
            0.3,
            0.9,
            0.6
           ]
          }
         ],
         "name": "15"
        },
        {
         "data": [
          {
           "hovertemplate": "time_elapsed=16<br>x=%{x}<br>y=%{y}<br>z=%{z}<br>MassConc_2p5=%{marker.color}<br>loc=%{text}<extra></extra>",
           "legendgroup": "",
           "marker": {
            "color": [
             0.716302,
             0.376779,
             0.684587,
             0.617046,
             0.620385,
             7.283658
            ],
            "coloraxis": "coloraxis",
            "size": [
             0.716302,
             0.376779,
             0.684587,
             0.617046,
             0.620385,
             7.283658
            ],
            "sizemode": "area",
            "sizeref": 0.0764335692,
            "symbol": "circle"
           },
           "mode": "markers+text",
           "name": "",
           "scene": "scene",
           "showlegend": false,
           "text": [
            "back corner/exhaust",
            "back",
            "front-tripod",
            "front-desk",
            "door",
            "front corner"
           ],
           "type": "scatter3d",
           "x": [
            0,
            0,
            0.9,
            0.65,
            0.95,
            0.9
           ],
           "y": [
            0.85,
            0.1,
            0.45,
            0.45,
            0,
            1
           ],
           "z": [
            0.2,
            0.8,
            0.5,
            0.3,
            0.9,
            0.6
           ]
          }
         ],
         "name": "16"
        },
        {
         "data": [
          {
           "hovertemplate": "time_elapsed=17<br>x=%{x}<br>y=%{y}<br>z=%{z}<br>MassConc_2p5=%{marker.color}<br>loc=%{text}<extra></extra>",
           "legendgroup": "",
           "marker": {
            "color": [
             0.739279,
             0.357976,
             0.688457,
             0.615105,
             0.619173,
             17.296528
            ],
            "coloraxis": "coloraxis",
            "size": [
             0.739279,
             0.357976,
             0.688457,
             0.615105,
             0.619173,
             17.296528
            ],
            "sizemode": "area",
            "sizeref": 0.0764335692,
            "symbol": "circle"
           },
           "mode": "markers+text",
           "name": "",
           "scene": "scene",
           "showlegend": false,
           "text": [
            "back corner/exhaust",
            "back",
            "front-tripod",
            "front-desk",
            "door",
            "front corner"
           ],
           "type": "scatter3d",
           "x": [
            0,
            0,
            0.9,
            0.65,
            0.95,
            0.9
           ],
           "y": [
            0.85,
            0.1,
            0.45,
            0.45,
            0,
            1
           ],
           "z": [
            0.2,
            0.8,
            0.5,
            0.3,
            0.9,
            0.6
           ]
          }
         ],
         "name": "17"
        },
        {
         "data": [
          {
           "hovertemplate": "time_elapsed=18<br>x=%{x}<br>y=%{y}<br>z=%{z}<br>MassConc_2p5=%{marker.color}<br>loc=%{text}<extra></extra>",
           "legendgroup": "",
           "marker": {
            "color": [
             0.759633,
             0.339165,
             0.693447,
             0.616544,
             0.612022,
             50.376362
            ],
            "coloraxis": "coloraxis",
            "size": [
             0.759633,
             0.339165,
             0.693447,
             0.616544,
             0.612022,
             50.376362
            ],
            "sizemode": "area",
            "sizeref": 0.0764335692,
            "symbol": "circle"
           },
           "mode": "markers+text",
           "name": "",
           "scene": "scene",
           "showlegend": false,
           "text": [
            "back corner/exhaust",
            "back",
            "front-tripod",
            "front-desk",
            "door",
            "front corner"
           ],
           "type": "scatter3d",
           "x": [
            0,
            0,
            0.9,
            0.65,
            0.95,
            0.9
           ],
           "y": [
            0.85,
            0.1,
            0.45,
            0.45,
            0,
            1
           ],
           "z": [
            0.2,
            0.8,
            0.5,
            0.3,
            0.9,
            0.6
           ]
          }
         ],
         "name": "18"
        },
        {
         "data": [
          {
           "hovertemplate": "time_elapsed=19<br>x=%{x}<br>y=%{y}<br>z=%{z}<br>MassConc_2p5=%{marker.color}<br>loc=%{text}<extra></extra>",
           "legendgroup": "",
           "marker": {
            "color": [
             0.880079,
             0.320535,
             0.690529,
             0.611534,
             0.654865,
             93.433411
            ],
            "coloraxis": "coloraxis",
            "size": [
             0.880079,
             0.320535,
             0.690529,
             0.611534,
             0.654865,
             93.433411
            ],
            "sizemode": "area",
            "sizeref": 0.0764335692,
            "symbol": "circle"
           },
           "mode": "markers+text",
           "name": "",
           "scene": "scene",
           "showlegend": false,
           "text": [
            "back corner/exhaust",
            "back",
            "front-tripod",
            "front-desk",
            "door",
            "front corner"
           ],
           "type": "scatter3d",
           "x": [
            0,
            0,
            0.9,
            0.65,
            0.95,
            0.9
           ],
           "y": [
            0.85,
            0.1,
            0.45,
            0.45,
            0,
            1
           ],
           "z": [
            0.2,
            0.8,
            0.5,
            0.3,
            0.9,
            0.6
           ]
          }
         ],
         "name": "19"
        },
        {
         "data": [
          {
           "hovertemplate": "time_elapsed=20<br>x=%{x}<br>y=%{y}<br>z=%{z}<br>MassConc_2p5=%{marker.color}<br>loc=%{text}<extra></extra>",
           "legendgroup": "",
           "marker": {
            "color": [
             1.658827,
             0.338134,
             0.681237,
             0.610615,
             8.558094,
             131.475815
            ],
            "coloraxis": "coloraxis",
            "size": [
             1.658827,
             0.338134,
             0.681237,
             0.610615,
             8.558094,
             131.475815
            ],
            "sizemode": "area",
            "sizeref": 0.0764335692,
            "symbol": "circle"
           },
           "mode": "markers+text",
           "name": "",
           "scene": "scene",
           "showlegend": false,
           "text": [
            "back corner/exhaust",
            "back",
            "front-tripod",
            "front-desk",
            "door",
            "front corner"
           ],
           "type": "scatter3d",
           "x": [
            0,
            0,
            0.9,
            0.65,
            0.95,
            0.9
           ],
           "y": [
            0.85,
            0.1,
            0.45,
            0.45,
            0,
            1
           ],
           "z": [
            0.2,
            0.8,
            0.5,
            0.3,
            0.9,
            0.6
           ]
          }
         ],
         "name": "20"
        },
        {
         "data": [
          {
           "hovertemplate": "time_elapsed=21<br>x=%{x}<br>y=%{y}<br>z=%{z}<br>MassConc_2p5=%{marker.color}<br>loc=%{text}<extra></extra>",
           "legendgroup": "",
           "marker": {
            "color": [
             10.848892,
             0.358296,
             0.675677,
             0.603762,
             25.193823,
             170.946564
            ],
            "coloraxis": "coloraxis",
            "size": [
             10.848892,
             0.358296,
             0.675677,
             0.603762,
             25.193823,
             170.946564
            ],
            "sizemode": "area",
            "sizeref": 0.0764335692,
            "symbol": "circle"
           },
           "mode": "markers+text",
           "name": "",
           "scene": "scene",
           "showlegend": false,
           "text": [
            "back corner/exhaust",
            "back",
            "front-tripod",
            "front-desk",
            "door",
            "front corner"
           ],
           "type": "scatter3d",
           "x": [
            0,
            0,
            0.9,
            0.65,
            0.95,
            0.9
           ],
           "y": [
            0.85,
            0.1,
            0.45,
            0.45,
            0,
            1
           ],
           "z": [
            0.2,
            0.8,
            0.5,
            0.3,
            0.9,
            0.6
           ]
          }
         ],
         "name": "21"
        },
        {
         "data": [
          {
           "hovertemplate": "time_elapsed=22<br>x=%{x}<br>y=%{y}<br>z=%{z}<br>MassConc_2p5=%{marker.color}<br>loc=%{text}<extra></extra>",
           "legendgroup": "",
           "marker": {
            "color": [
             22.304104,
             0.380854,
             6.425574,
             0.601394,
             40.437523,
             185.761719
            ],
            "coloraxis": "coloraxis",
            "size": [
             22.304104,
             0.380854,
             6.425574,
             0.601394,
             40.437523,
             185.761719
            ],
            "sizemode": "area",
            "sizeref": 0.0764335692,
            "symbol": "circle"
           },
           "mode": "markers+text",
           "name": "",
           "scene": "scene",
           "showlegend": false,
           "text": [
            "back corner/exhaust",
            "back",
            "front-tripod",
            "front-desk",
            "door",
            "front corner"
           ],
           "type": "scatter3d",
           "x": [
            0,
            0,
            0.9,
            0.65,
            0.95,
            0.9
           ],
           "y": [
            0.85,
            0.1,
            0.45,
            0.45,
            0,
            1
           ],
           "z": [
            0.2,
            0.8,
            0.5,
            0.3,
            0.9,
            0.6
           ]
          }
         ],
         "name": "22"
        },
        {
         "data": [
          {
           "hovertemplate": "time_elapsed=23<br>x=%{x}<br>y=%{y}<br>z=%{z}<br>MassConc_2p5=%{marker.color}<br>loc=%{text}<extra></extra>",
           "legendgroup": "",
           "marker": {
            "color": [
             32.597176,
             0.451347,
             11.741195,
             0.733262,
             61.134575,
             191.083923
            ],
            "coloraxis": "coloraxis",
            "size": [
             32.597176,
             0.451347,
             11.741195,
             0.733262,
             61.134575,
             191.083923
            ],
            "sizemode": "area",
            "sizeref": 0.0764335692,
            "symbol": "circle"
           },
           "mode": "markers+text",
           "name": "",
           "scene": "scene",
           "showlegend": false,
           "text": [
            "back corner/exhaust",
            "back",
            "front-tripod",
            "front-desk",
            "door",
            "front corner"
           ],
           "type": "scatter3d",
           "x": [
            0,
            0,
            0.9,
            0.65,
            0.95,
            0.9
           ],
           "y": [
            0.85,
            0.1,
            0.45,
            0.45,
            0,
            1
           ],
           "z": [
            0.2,
            0.8,
            0.5,
            0.3,
            0.9,
            0.6
           ]
          }
         ],
         "name": "23"
        },
        {
         "data": [
          {
           "hovertemplate": "time_elapsed=24<br>x=%{x}<br>y=%{y}<br>z=%{z}<br>MassConc_2p5=%{marker.color}<br>loc=%{text}<extra></extra>",
           "legendgroup": "",
           "marker": {
            "color": [
             35.447247,
             0.572546,
             21.53224,
             4.626701,
             76.22963,
             171.096344
            ],
            "coloraxis": "coloraxis",
            "size": [
             35.447247,
             0.572546,
             21.53224,
             4.626701,
             76.22963,
             171.096344
            ],
            "sizemode": "area",
            "sizeref": 0.0764335692,
            "symbol": "circle"
           },
           "mode": "markers+text",
           "name": "",
           "scene": "scene",
           "showlegend": false,
           "text": [
            "back corner/exhaust",
            "back",
            "front-tripod",
            "front-desk",
            "door",
            "front corner"
           ],
           "type": "scatter3d",
           "x": [
            0,
            0,
            0.9,
            0.65,
            0.95,
            0.9
           ],
           "y": [
            0.85,
            0.1,
            0.45,
            0.45,
            0,
            1
           ],
           "z": [
            0.2,
            0.8,
            0.5,
            0.3,
            0.9,
            0.6
           ]
          }
         ],
         "name": "24"
        },
        {
         "data": [
          {
           "hovertemplate": "time_elapsed=25<br>x=%{x}<br>y=%{y}<br>z=%{z}<br>MassConc_2p5=%{marker.color}<br>loc=%{text}<extra></extra>",
           "legendgroup": "",
           "marker": {
            "color": [
             47.571297,
             0.794691,
             34.125168,
             10.417509,
             89.028046,
             142.408646
            ],
            "coloraxis": "coloraxis",
            "size": [
             47.571297,
             0.794691,
             34.125168,
             10.417509,
             89.028046,
             142.408646
            ],
            "sizemode": "area",
            "sizeref": 0.0764335692,
            "symbol": "circle"
           },
           "mode": "markers+text",
           "name": "",
           "scene": "scene",
           "showlegend": false,
           "text": [
            "back corner/exhaust",
            "back",
            "front-tripod",
            "front-desk",
            "door",
            "front corner"
           ],
           "type": "scatter3d",
           "x": [
            0,
            0,
            0.9,
            0.65,
            0.95,
            0.9
           ],
           "y": [
            0.85,
            0.1,
            0.45,
            0.45,
            0,
            1
           ],
           "z": [
            0.2,
            0.8,
            0.5,
            0.3,
            0.9,
            0.6
           ]
          }
         ],
         "name": "25"
        },
        {
         "data": [
          {
           "hovertemplate": "time_elapsed=26<br>x=%{x}<br>y=%{y}<br>z=%{z}<br>MassConc_2p5=%{marker.color}<br>loc=%{text}<extra></extra>",
           "legendgroup": "",
           "marker": {
            "color": [
             57.362846,
             0.930421,
             43.578167,
             15.453098,
             93.119278,
             111.228058
            ],
            "coloraxis": "coloraxis",
            "size": [
             57.362846,
             0.930421,
             43.578167,
             15.453098,
             93.119278,
             111.228058
            ],
            "sizemode": "area",
            "sizeref": 0.0764335692,
            "symbol": "circle"
           },
           "mode": "markers+text",
           "name": "",
           "scene": "scene",
           "showlegend": false,
           "text": [
            "back corner/exhaust",
            "back",
            "front-tripod",
            "front-desk",
            "door",
            "front corner"
           ],
           "type": "scatter3d",
           "x": [
            0,
            0,
            0.9,
            0.65,
            0.95,
            0.9
           ],
           "y": [
            0.85,
            0.1,
            0.45,
            0.45,
            0,
            1
           ],
           "z": [
            0.2,
            0.8,
            0.5,
            0.3,
            0.9,
            0.6
           ]
          }
         ],
         "name": "26"
        },
        {
         "data": [
          {
           "hovertemplate": "time_elapsed=27<br>x=%{x}<br>y=%{y}<br>z=%{z}<br>MassConc_2p5=%{marker.color}<br>loc=%{text}<extra></extra>",
           "legendgroup": "",
           "marker": {
            "color": [
             63.648453,
             1.068898,
             48.77367,
             25.236197,
             92.744133,
             92.688629
            ],
            "coloraxis": "coloraxis",
            "size": [
             63.648453,
             1.068898,
             48.77367,
             25.236197,
             92.744133,
             92.688629
            ],
            "sizemode": "area",
            "sizeref": 0.0764335692,
            "symbol": "circle"
           },
           "mode": "markers+text",
           "name": "",
           "scene": "scene",
           "showlegend": false,
           "text": [
            "back corner/exhaust",
            "back",
            "front-tripod",
            "front-desk",
            "door",
            "front corner"
           ],
           "type": "scatter3d",
           "x": [
            0,
            0,
            0.9,
            0.65,
            0.95,
            0.9
           ],
           "y": [
            0.85,
            0.1,
            0.45,
            0.45,
            0,
            1
           ],
           "z": [
            0.2,
            0.8,
            0.5,
            0.3,
            0.9,
            0.6
           ]
          }
         ],
         "name": "27"
        },
        {
         "data": [
          {
           "hovertemplate": "time_elapsed=28<br>x=%{x}<br>y=%{y}<br>z=%{z}<br>MassConc_2p5=%{marker.color}<br>loc=%{text}<extra></extra>",
           "legendgroup": "",
           "marker": {
            "color": [
             54.740158,
             1.201245,
             52.041321,
             31.678106,
             86.131142,
             78.644196
            ],
            "coloraxis": "coloraxis",
            "size": [
             54.740158,
             1.201245,
             52.041321,
             31.678106,
             86.131142,
             78.644196
            ],
            "sizemode": "area",
            "sizeref": 0.0764335692,
            "symbol": "circle"
           },
           "mode": "markers+text",
           "name": "",
           "scene": "scene",
           "showlegend": false,
           "text": [
            "back corner/exhaust",
            "back",
            "front-tripod",
            "front-desk",
            "door",
            "front corner"
           ],
           "type": "scatter3d",
           "x": [
            0,
            0,
            0.9,
            0.65,
            0.95,
            0.9
           ],
           "y": [
            0.85,
            0.1,
            0.45,
            0.45,
            0,
            1
           ],
           "z": [
            0.2,
            0.8,
            0.5,
            0.3,
            0.9,
            0.6
           ]
          }
         ],
         "name": "28"
        },
        {
         "data": [
          {
           "hovertemplate": "time_elapsed=29<br>x=%{x}<br>y=%{y}<br>z=%{z}<br>MassConc_2p5=%{marker.color}<br>loc=%{text}<extra></extra>",
           "legendgroup": "",
           "marker": {
            "color": [
             45.185467,
             1.353501,
             50.491646,
             36.366997,
             81.054565,
             79.453156
            ],
            "coloraxis": "coloraxis",
            "size": [
             45.185467,
             1.353501,
             50.491646,
             36.366997,
             81.054565,
             79.453156
            ],
            "sizemode": "area",
            "sizeref": 0.0764335692,
            "symbol": "circle"
           },
           "mode": "markers+text",
           "name": "",
           "scene": "scene",
           "showlegend": false,
           "text": [
            "back corner/exhaust",
            "back",
            "front-tripod",
            "front-desk",
            "door",
            "front corner"
           ],
           "type": "scatter3d",
           "x": [
            0,
            0,
            0.9,
            0.65,
            0.95,
            0.9
           ],
           "y": [
            0.85,
            0.1,
            0.45,
            0.45,
            0,
            1
           ],
           "z": [
            0.2,
            0.8,
            0.5,
            0.3,
            0.9,
            0.6
           ]
          }
         ],
         "name": "29"
        },
        {
         "data": [
          {
           "hovertemplate": "time_elapsed=30<br>x=%{x}<br>y=%{y}<br>z=%{z}<br>MassConc_2p5=%{marker.color}<br>loc=%{text}<extra></extra>",
           "legendgroup": "",
           "marker": {
            "color": [
             41.256092,
             1.607069,
             47.02623,
             40.145626,
             71.596802,
             80.955658
            ],
            "coloraxis": "coloraxis",
            "size": [
             41.256092,
             1.607069,
             47.02623,
             40.145626,
             71.596802,
             80.955658
            ],
            "sizemode": "area",
            "sizeref": 0.0764335692,
            "symbol": "circle"
           },
           "mode": "markers+text",
           "name": "",
           "scene": "scene",
           "showlegend": false,
           "text": [
            "back corner/exhaust",
            "back",
            "front-tripod",
            "front-desk",
            "door",
            "front corner"
           ],
           "type": "scatter3d",
           "x": [
            0,
            0,
            0.9,
            0.65,
            0.95,
            0.9
           ],
           "y": [
            0.85,
            0.1,
            0.45,
            0.45,
            0,
            1
           ],
           "z": [
            0.2,
            0.8,
            0.5,
            0.3,
            0.9,
            0.6
           ]
          }
         ],
         "name": "30"
        },
        {
         "data": [
          {
           "hovertemplate": "time_elapsed=31<br>x=%{x}<br>y=%{y}<br>z=%{z}<br>MassConc_2p5=%{marker.color}<br>loc=%{text}<extra></extra>",
           "legendgroup": "",
           "marker": {
            "color": [
             44.425835,
             6.89796,
             43.087811,
             41.48584,
             62.987549,
             81.267174
            ],
            "coloraxis": "coloraxis",
            "size": [
             44.425835,
             6.89796,
             43.087811,
             41.48584,
             62.987549,
             81.267174
            ],
            "sizemode": "area",
            "sizeref": 0.0764335692,
            "symbol": "circle"
           },
           "mode": "markers+text",
           "name": "",
           "scene": "scene",
           "showlegend": false,
           "text": [
            "back corner/exhaust",
            "back",
            "front-tripod",
            "front-desk",
            "door",
            "front corner"
           ],
           "type": "scatter3d",
           "x": [
            0,
            0,
            0.9,
            0.65,
            0.95,
            0.9
           ],
           "y": [
            0.85,
            0.1,
            0.45,
            0.45,
            0,
            1
           ],
           "z": [
            0.2,
            0.8,
            0.5,
            0.3,
            0.9,
            0.6
           ]
          }
         ],
         "name": "31"
        },
        {
         "data": [
          {
           "hovertemplate": "time_elapsed=32<br>x=%{x}<br>y=%{y}<br>z=%{z}<br>MassConc_2p5=%{marker.color}<br>loc=%{text}<extra></extra>",
           "legendgroup": "",
           "marker": {
            "color": [
             42.765316,
             8.791652,
             39.802982,
             42.272137,
             58.566967,
             80.564735
            ],
            "coloraxis": "coloraxis",
            "size": [
             42.765316,
             8.791652,
             39.802982,
             42.272137,
             58.566967,
             80.564735
            ],
            "sizemode": "area",
            "sizeref": 0.0764335692,
            "symbol": "circle"
           },
           "mode": "markers+text",
           "name": "",
           "scene": "scene",
           "showlegend": false,
           "text": [
            "back corner/exhaust",
            "back",
            "front-tripod",
            "front-desk",
            "door",
            "front corner"
           ],
           "type": "scatter3d",
           "x": [
            0,
            0,
            0.9,
            0.65,
            0.95,
            0.9
           ],
           "y": [
            0.85,
            0.1,
            0.45,
            0.45,
            0,
            1
           ],
           "z": [
            0.2,
            0.8,
            0.5,
            0.3,
            0.9,
            0.6
           ]
          }
         ],
         "name": "32"
        },
        {
         "data": [
          {
           "hovertemplate": "time_elapsed=33<br>x=%{x}<br>y=%{y}<br>z=%{z}<br>MassConc_2p5=%{marker.color}<br>loc=%{text}<extra></extra>",
           "legendgroup": "",
           "marker": {
            "color": [
             37.936825,
             9.604957,
             38.627865,
             41.706589,
             59.969448,
             77.838028
            ],
            "coloraxis": "coloraxis",
            "size": [
             37.936825,
             9.604957,
             38.627865,
             41.706589,
             59.969448,
             77.838028
            ],
            "sizemode": "area",
            "sizeref": 0.0764335692,
            "symbol": "circle"
           },
           "mode": "markers+text",
           "name": "",
           "scene": "scene",
           "showlegend": false,
           "text": [
            "back corner/exhaust",
            "back",
            "front-tripod",
            "front-desk",
            "door",
            "front corner"
           ],
           "type": "scatter3d",
           "x": [
            0,
            0,
            0.9,
            0.65,
            0.95,
            0.9
           ],
           "y": [
            0.85,
            0.1,
            0.45,
            0.45,
            0,
            1
           ],
           "z": [
            0.2,
            0.8,
            0.5,
            0.3,
            0.9,
            0.6
           ]
          }
         ],
         "name": "33"
        },
        {
         "data": [
          {
           "hovertemplate": "time_elapsed=34<br>x=%{x}<br>y=%{y}<br>z=%{z}<br>MassConc_2p5=%{marker.color}<br>loc=%{text}<extra></extra>",
           "legendgroup": "",
           "marker": {
            "color": [
             35.700089,
             8.676316,
             36.408623,
             40.991127,
             62.138409,
             73.484688
            ],
            "coloraxis": "coloraxis",
            "size": [
             35.700089,
             8.676316,
             36.408623,
             40.991127,
             62.138409,
             73.484688
            ],
            "sizemode": "area",
            "sizeref": 0.0764335692,
            "symbol": "circle"
           },
           "mode": "markers+text",
           "name": "",
           "scene": "scene",
           "showlegend": false,
           "text": [
            "back corner/exhaust",
            "back",
            "front-tripod",
            "front-desk",
            "door",
            "front corner"
           ],
           "type": "scatter3d",
           "x": [
            0,
            0,
            0.9,
            0.65,
            0.95,
            0.9
           ],
           "y": [
            0.85,
            0.1,
            0.45,
            0.45,
            0,
            1
           ],
           "z": [
            0.2,
            0.8,
            0.5,
            0.3,
            0.9,
            0.6
           ]
          }
         ],
         "name": "34"
        },
        {
         "data": [
          {
           "hovertemplate": "time_elapsed=35<br>x=%{x}<br>y=%{y}<br>z=%{z}<br>MassConc_2p5=%{marker.color}<br>loc=%{text}<extra></extra>",
           "legendgroup": "",
           "marker": {
            "color": [
             31.474419,
             7.951213,
             33.271378,
             39.055782,
             65.354309,
             67.42408
            ],
            "coloraxis": "coloraxis",
            "size": [
             31.474419,
             7.951213,
             33.271378,
             39.055782,
             65.354309,
             67.42408
            ],
            "sizemode": "area",
            "sizeref": 0.0764335692,
            "symbol": "circle"
           },
           "mode": "markers+text",
           "name": "",
           "scene": "scene",
           "showlegend": false,
           "text": [
            "back corner/exhaust",
            "back",
            "front-tripod",
            "front-desk",
            "door",
            "front corner"
           ],
           "type": "scatter3d",
           "x": [
            0,
            0,
            0.9,
            0.65,
            0.95,
            0.9
           ],
           "y": [
            0.85,
            0.1,
            0.45,
            0.45,
            0,
            1
           ],
           "z": [
            0.2,
            0.8,
            0.5,
            0.3,
            0.9,
            0.6
           ]
          }
         ],
         "name": "35"
        },
        {
         "data": [
          {
           "hovertemplate": "time_elapsed=36<br>x=%{x}<br>y=%{y}<br>z=%{z}<br>MassConc_2p5=%{marker.color}<br>loc=%{text}<extra></extra>",
           "legendgroup": "",
           "marker": {
            "color": [
             25.567759,
             7.5173,
             30.316406,
             36.546257,
             76.987152,
             61.686115
            ],
            "coloraxis": "coloraxis",
            "size": [
             25.567759,
             7.5173,
             30.316406,
             36.546257,
             76.987152,
             61.686115
            ],
            "sizemode": "area",
            "sizeref": 0.0764335692,
            "symbol": "circle"
           },
           "mode": "markers+text",
           "name": "",
           "scene": "scene",
           "showlegend": false,
           "text": [
            "back corner/exhaust",
            "back",
            "front-tripod",
            "front-desk",
            "door",
            "front corner"
           ],
           "type": "scatter3d",
           "x": [
            0,
            0,
            0.9,
            0.65,
            0.95,
            0.9
           ],
           "y": [
            0.85,
            0.1,
            0.45,
            0.45,
            0,
            1
           ],
           "z": [
            0.2,
            0.8,
            0.5,
            0.3,
            0.9,
            0.6
           ]
          }
         ],
         "name": "36"
        },
        {
         "data": [
          {
           "hovertemplate": "time_elapsed=37<br>x=%{x}<br>y=%{y}<br>z=%{z}<br>MassConc_2p5=%{marker.color}<br>loc=%{text}<extra></extra>",
           "legendgroup": "",
           "marker": {
            "color": [
             22.226524,
             7.296833,
             28.299091,
             35.296024,
             81.411011,
             56.619476
            ],
            "coloraxis": "coloraxis",
            "size": [
             22.226524,
             7.296833,
             28.299091,
             35.296024,
             81.411011,
             56.619476
            ],
            "sizemode": "area",
            "sizeref": 0.0764335692,
            "symbol": "circle"
           },
           "mode": "markers+text",
           "name": "",
           "scene": "scene",
           "showlegend": false,
           "text": [
            "back corner/exhaust",
            "back",
            "front-tripod",
            "front-desk",
            "door",
            "front corner"
           ],
           "type": "scatter3d",
           "x": [
            0,
            0,
            0.9,
            0.65,
            0.95,
            0.9
           ],
           "y": [
            0.85,
            0.1,
            0.45,
            0.45,
            0,
            1
           ],
           "z": [
            0.2,
            0.8,
            0.5,
            0.3,
            0.9,
            0.6
           ]
          }
         ],
         "name": "37"
        },
        {
         "data": [
          {
           "hovertemplate": "time_elapsed=38<br>x=%{x}<br>y=%{y}<br>z=%{z}<br>MassConc_2p5=%{marker.color}<br>loc=%{text}<extra></extra>",
           "legendgroup": "",
           "marker": {
            "color": [
             19.577557,
             7.08922,
             26.524477,
             34.271511,
             83.134094,
             51.480003
            ],
            "coloraxis": "coloraxis",
            "size": [
             19.577557,
             7.08922,
             26.524477,
             34.271511,
             83.134094,
             51.480003
            ],
            "sizemode": "area",
            "sizeref": 0.0764335692,
            "symbol": "circle"
           },
           "mode": "markers+text",
           "name": "",
           "scene": "scene",
           "showlegend": false,
           "text": [
            "back corner/exhaust",
            "back",
            "front-tripod",
            "front-desk",
            "door",
            "front corner"
           ],
           "type": "scatter3d",
           "x": [
            0,
            0,
            0.9,
            0.65,
            0.95,
            0.9
           ],
           "y": [
            0.85,
            0.1,
            0.45,
            0.45,
            0,
            1
           ],
           "z": [
            0.2,
            0.8,
            0.5,
            0.3,
            0.9,
            0.6
           ]
          }
         ],
         "name": "38"
        },
        {
         "data": [
          {
           "hovertemplate": "time_elapsed=39<br>x=%{x}<br>y=%{y}<br>z=%{z}<br>MassConc_2p5=%{marker.color}<br>loc=%{text}<extra></extra>",
           "legendgroup": "",
           "marker": {
            "color": [
             17.550888,
             7.003113,
             25.825087,
             33.928272,
             83.975266,
             46.083179
            ],
            "coloraxis": "coloraxis",
            "size": [
             17.550888,
             7.003113,
             25.825087,
             33.928272,
             83.975266,
             46.083179
            ],
            "sizemode": "area",
            "sizeref": 0.0764335692,
            "symbol": "circle"
           },
           "mode": "markers+text",
           "name": "",
           "scene": "scene",
           "showlegend": false,
           "text": [
            "back corner/exhaust",
            "back",
            "front-tripod",
            "front-desk",
            "door",
            "front corner"
           ],
           "type": "scatter3d",
           "x": [
            0,
            0,
            0.9,
            0.65,
            0.95,
            0.9
           ],
           "y": [
            0.85,
            0.1,
            0.45,
            0.45,
            0,
            1
           ],
           "z": [
            0.2,
            0.8,
            0.5,
            0.3,
            0.9,
            0.6
           ]
          }
         ],
         "name": "39"
        },
        {
         "data": [
          {
           "hovertemplate": "time_elapsed=40<br>x=%{x}<br>y=%{y}<br>z=%{z}<br>MassConc_2p5=%{marker.color}<br>loc=%{text}<extra></extra>",
           "legendgroup": "",
           "marker": {
            "color": [
             16.569426,
             7.047682,
             25.702175,
             34.270767,
             83.570061,
             41.111557
            ],
            "coloraxis": "coloraxis",
            "size": [
             16.569426,
             7.047682,
             25.702175,
             34.270767,
             83.570061,
             41.111557
            ],
            "sizemode": "area",
            "sizeref": 0.0764335692,
            "symbol": "circle"
           },
           "mode": "markers+text",
           "name": "",
           "scene": "scene",
           "showlegend": false,
           "text": [
            "back corner/exhaust",
            "back",
            "front-tripod",
            "front-desk",
            "door",
            "front corner"
           ],
           "type": "scatter3d",
           "x": [
            0,
            0,
            0.9,
            0.65,
            0.95,
            0.9
           ],
           "y": [
            0.85,
            0.1,
            0.45,
            0.45,
            0,
            1
           ],
           "z": [
            0.2,
            0.8,
            0.5,
            0.3,
            0.9,
            0.6
           ]
          }
         ],
         "name": "40"
        },
        {
         "data": [
          {
           "hovertemplate": "time_elapsed=41<br>x=%{x}<br>y=%{y}<br>z=%{z}<br>MassConc_2p5=%{marker.color}<br>loc=%{text}<extra></extra>",
           "legendgroup": "",
           "marker": {
            "color": [
             15.325886,
             9.244829,
             25.697159,
             35.103027,
             82.845306,
             37.147907
            ],
            "coloraxis": "coloraxis",
            "size": [
             15.325886,
             9.244829,
             25.697159,
             35.103027,
             82.845306,
             37.147907
            ],
            "sizemode": "area",
            "sizeref": 0.0764335692,
            "symbol": "circle"
           },
           "mode": "markers+text",
           "name": "",
           "scene": "scene",
           "showlegend": false,
           "text": [
            "back corner/exhaust",
            "back",
            "front-tripod",
            "front-desk",
            "door",
            "front corner"
           ],
           "type": "scatter3d",
           "x": [
            0,
            0,
            0.9,
            0.65,
            0.95,
            0.9
           ],
           "y": [
            0.85,
            0.1,
            0.45,
            0.45,
            0,
            1
           ],
           "z": [
            0.2,
            0.8,
            0.5,
            0.3,
            0.9,
            0.6
           ]
          }
         ],
         "name": "41"
        },
        {
         "data": [
          {
           "hovertemplate": "time_elapsed=42<br>x=%{x}<br>y=%{y}<br>z=%{z}<br>MassConc_2p5=%{marker.color}<br>loc=%{text}<extra></extra>",
           "legendgroup": "",
           "marker": {
            "color": [
             14.30883,
             12.508015,
             25.726576,
             35.167324,
             81.015266,
             33.782433
            ],
            "coloraxis": "coloraxis",
            "size": [
             14.30883,
             12.508015,
             25.726576,
             35.167324,
             81.015266,
             33.782433
            ],
            "sizemode": "area",
            "sizeref": 0.0764335692,
            "symbol": "circle"
           },
           "mode": "markers+text",
           "name": "",
           "scene": "scene",
           "showlegend": false,
           "text": [
            "back corner/exhaust",
            "back",
            "front-tripod",
            "front-desk",
            "door",
            "front corner"
           ],
           "type": "scatter3d",
           "x": [
            0,
            0,
            0.9,
            0.65,
            0.95,
            0.9
           ],
           "y": [
            0.85,
            0.1,
            0.45,
            0.45,
            0,
            1
           ],
           "z": [
            0.2,
            0.8,
            0.5,
            0.3,
            0.9,
            0.6
           ]
          }
         ],
         "name": "42"
        },
        {
         "data": [
          {
           "hovertemplate": "time_elapsed=43<br>x=%{x}<br>y=%{y}<br>z=%{z}<br>MassConc_2p5=%{marker.color}<br>loc=%{text}<extra></extra>",
           "legendgroup": "",
           "marker": {
            "color": [
             13.615699,
             14.367322,
             25.729904,
             35.785614,
             77.938103,
             30.633696
            ],
            "coloraxis": "coloraxis",
            "size": [
             13.615699,
             14.367322,
             25.729904,
             35.785614,
             77.938103,
             30.633696
            ],
            "sizemode": "area",
            "sizeref": 0.0764335692,
            "symbol": "circle"
           },
           "mode": "markers+text",
           "name": "",
           "scene": "scene",
           "showlegend": false,
           "text": [
            "back corner/exhaust",
            "back",
            "front-tripod",
            "front-desk",
            "door",
            "front corner"
           ],
           "type": "scatter3d",
           "x": [
            0,
            0,
            0.9,
            0.65,
            0.95,
            0.9
           ],
           "y": [
            0.85,
            0.1,
            0.45,
            0.45,
            0,
            1
           ],
           "z": [
            0.2,
            0.8,
            0.5,
            0.3,
            0.9,
            0.6
           ]
          }
         ],
         "name": "43"
        },
        {
         "data": [
          {
           "hovertemplate": "time_elapsed=44<br>x=%{x}<br>y=%{y}<br>z=%{z}<br>MassConc_2p5=%{marker.color}<br>loc=%{text}<extra></extra>",
           "legendgroup": "",
           "marker": {
            "color": [
             12.986957,
             15.226618,
             25.745441,
             36.082333,
             72.396576,
             27.94306
            ],
            "coloraxis": "coloraxis",
            "size": [
             12.986957,
             15.226618,
             25.745441,
             36.082333,
             72.396576,
             27.94306
            ],
            "sizemode": "area",
            "sizeref": 0.0764335692,
            "symbol": "circle"
           },
           "mode": "markers+text",
           "name": "",
           "scene": "scene",
           "showlegend": false,
           "text": [
            "back corner/exhaust",
            "back",
            "front-tripod",
            "front-desk",
            "door",
            "front corner"
           ],
           "type": "scatter3d",
           "x": [
            0,
            0,
            0.9,
            0.65,
            0.95,
            0.9
           ],
           "y": [
            0.85,
            0.1,
            0.45,
            0.45,
            0,
            1
           ],
           "z": [
            0.2,
            0.8,
            0.5,
            0.3,
            0.9,
            0.6
           ]
          }
         ],
         "name": "44"
        },
        {
         "data": [
          {
           "hovertemplate": "time_elapsed=45<br>x=%{x}<br>y=%{y}<br>z=%{z}<br>MassConc_2p5=%{marker.color}<br>loc=%{text}<extra></extra>",
           "legendgroup": "",
           "marker": {
            "color": [
             12.5422,
             15.77395,
             25.762594,
             36.28249,
             63.151146,
             25.261147
            ],
            "coloraxis": "coloraxis",
            "size": [
             12.5422,
             15.77395,
             25.762594,
             36.28249,
             63.151146,
             25.261147
            ],
            "sizemode": "area",
            "sizeref": 0.0764335692,
            "symbol": "circle"
           },
           "mode": "markers+text",
           "name": "",
           "scene": "scene",
           "showlegend": false,
           "text": [
            "back corner/exhaust",
            "back",
            "front-tripod",
            "front-desk",
            "door",
            "front corner"
           ],
           "type": "scatter3d",
           "x": [
            0,
            0,
            0.9,
            0.65,
            0.95,
            0.9
           ],
           "y": [
            0.85,
            0.1,
            0.45,
            0.45,
            0,
            1
           ],
           "z": [
            0.2,
            0.8,
            0.5,
            0.3,
            0.9,
            0.6
           ]
          }
         ],
         "name": "45"
        },
        {
         "data": [
          {
           "hovertemplate": "time_elapsed=46<br>x=%{x}<br>y=%{y}<br>z=%{z}<br>MassConc_2p5=%{marker.color}<br>loc=%{text}<extra></extra>",
           "legendgroup": "",
           "marker": {
            "color": [
             12.200553,
             16.007652,
             25.801418,
             36.518051,
             53.897629,
             22.572901
            ],
            "coloraxis": "coloraxis",
            "size": [
             12.200553,
             16.007652,
             25.801418,
             36.518051,
             53.897629,
             22.572901
            ],
            "sizemode": "area",
            "sizeref": 0.0764335692,
            "symbol": "circle"
           },
           "mode": "markers+text",
           "name": "",
           "scene": "scene",
           "showlegend": false,
           "text": [
            "back corner/exhaust",
            "back",
            "front-tripod",
            "front-desk",
            "door",
            "front corner"
           ],
           "type": "scatter3d",
           "x": [
            0,
            0,
            0.9,
            0.65,
            0.95,
            0.9
           ],
           "y": [
            0.85,
            0.1,
            0.45,
            0.45,
            0,
            1
           ],
           "z": [
            0.2,
            0.8,
            0.5,
            0.3,
            0.9,
            0.6
           ]
          }
         ],
         "name": "46"
        },
        {
         "data": [
          {
           "hovertemplate": "time_elapsed=47<br>x=%{x}<br>y=%{y}<br>z=%{z}<br>MassConc_2p5=%{marker.color}<br>loc=%{text}<extra></extra>",
           "legendgroup": "",
           "marker": {
            "color": [
             11.824734,
             16.046412,
             25.80349,
             36.481556,
             45.493225,
             20.773312
            ],
            "coloraxis": "coloraxis",
            "size": [
             11.824734,
             16.046412,
             25.80349,
             36.481556,
             45.493225,
             20.773312
            ],
            "sizemode": "area",
            "sizeref": 0.0764335692,
            "symbol": "circle"
           },
           "mode": "markers+text",
           "name": "",
           "scene": "scene",
           "showlegend": false,
           "text": [
            "back corner/exhaust",
            "back",
            "front-tripod",
            "front-desk",
            "door",
            "front corner"
           ],
           "type": "scatter3d",
           "x": [
            0,
            0,
            0.9,
            0.65,
            0.95,
            0.9
           ],
           "y": [
            0.85,
            0.1,
            0.45,
            0.45,
            0,
            1
           ],
           "z": [
            0.2,
            0.8,
            0.5,
            0.3,
            0.9,
            0.6
           ]
          }
         ],
         "name": "47"
        },
        {
         "data": [
          {
           "hovertemplate": "time_elapsed=48<br>x=%{x}<br>y=%{y}<br>z=%{z}<br>MassConc_2p5=%{marker.color}<br>loc=%{text}<extra></extra>",
           "legendgroup": "",
           "marker": {
            "color": [
             11.521989,
             16.045744,
             25.765972,
             36.455101,
             37.571583,
             19.484037
            ],
            "coloraxis": "coloraxis",
            "size": [
             11.521989,
             16.045744,
             25.765972,
             36.455101,
             37.571583,
             19.484037
            ],
            "sizemode": "area",
            "sizeref": 0.0764335692,
            "symbol": "circle"
           },
           "mode": "markers+text",
           "name": "",
           "scene": "scene",
           "showlegend": false,
           "text": [
            "back corner/exhaust",
            "back",
            "front-tripod",
            "front-desk",
            "door",
            "front corner"
           ],
           "type": "scatter3d",
           "x": [
            0,
            0,
            0.9,
            0.65,
            0.95,
            0.9
           ],
           "y": [
            0.85,
            0.1,
            0.45,
            0.45,
            0,
            1
           ],
           "z": [
            0.2,
            0.8,
            0.5,
            0.3,
            0.9,
            0.6
           ]
          }
         ],
         "name": "48"
        },
        {
         "data": [
          {
           "hovertemplate": "time_elapsed=49<br>x=%{x}<br>y=%{y}<br>z=%{z}<br>MassConc_2p5=%{marker.color}<br>loc=%{text}<extra></extra>",
           "legendgroup": "",
           "marker": {
            "color": [
             11.286504,
             15.950965,
             25.79763,
             36.296116,
             31.406637,
             18.42959
            ],
            "coloraxis": "coloraxis",
            "size": [
             11.286504,
             15.950965,
             25.79763,
             36.296116,
             31.406637,
             18.42959
            ],
            "sizemode": "area",
            "sizeref": 0.0764335692,
            "symbol": "circle"
           },
           "mode": "markers+text",
           "name": "",
           "scene": "scene",
           "showlegend": false,
           "text": [
            "back corner/exhaust",
            "back",
            "front-tripod",
            "front-desk",
            "door",
            "front corner"
           ],
           "type": "scatter3d",
           "x": [
            0,
            0,
            0.9,
            0.65,
            0.95,
            0.9
           ],
           "y": [
            0.85,
            0.1,
            0.45,
            0.45,
            0,
            1
           ],
           "z": [
            0.2,
            0.8,
            0.5,
            0.3,
            0.9,
            0.6
           ]
          }
         ],
         "name": "49"
        },
        {
         "data": [
          {
           "hovertemplate": "time_elapsed=50<br>x=%{x}<br>y=%{y}<br>z=%{z}<br>MassConc_2p5=%{marker.color}<br>loc=%{text}<extra></extra>",
           "legendgroup": "",
           "marker": {
            "color": [
             11.08007,
             15.836343,
             25.656935,
             36.052032,
             26.588511,
             17.496828
            ],
            "coloraxis": "coloraxis",
            "size": [
             11.08007,
             15.836343,
             25.656935,
             36.052032,
             26.588511,
             17.496828
            ],
            "sizemode": "area",
            "sizeref": 0.0764335692,
            "symbol": "circle"
           },
           "mode": "markers+text",
           "name": "",
           "scene": "scene",
           "showlegend": false,
           "text": [
            "back corner/exhaust",
            "back",
            "front-tripod",
            "front-desk",
            "door",
            "front corner"
           ],
           "type": "scatter3d",
           "x": [
            0,
            0,
            0.9,
            0.65,
            0.95,
            0.9
           ],
           "y": [
            0.85,
            0.1,
            0.45,
            0.45,
            0,
            1
           ],
           "z": [
            0.2,
            0.8,
            0.5,
            0.3,
            0.9,
            0.6
           ]
          }
         ],
         "name": "50"
        },
        {
         "data": [
          {
           "hovertemplate": "time_elapsed=51<br>x=%{x}<br>y=%{y}<br>z=%{z}<br>MassConc_2p5=%{marker.color}<br>loc=%{text}<extra></extra>",
           "legendgroup": "",
           "marker": {
            "color": [
             10.846023,
             15.698462,
             25.041922,
             35.817062,
             22.135838,
             16.616339
            ],
            "coloraxis": "coloraxis",
            "size": [
             10.846023,
             15.698462,
             25.041922,
             35.817062,
             22.135838,
             16.616339
            ],
            "sizemode": "area",
            "sizeref": 0.0764335692,
            "symbol": "circle"
           },
           "mode": "markers+text",
           "name": "",
           "scene": "scene",
           "showlegend": false,
           "text": [
            "back corner/exhaust",
            "back",
            "front-tripod",
            "front-desk",
            "door",
            "front corner"
           ],
           "type": "scatter3d",
           "x": [
            0,
            0,
            0.9,
            0.65,
            0.95,
            0.9
           ],
           "y": [
            0.85,
            0.1,
            0.45,
            0.45,
            0,
            1
           ],
           "z": [
            0.2,
            0.8,
            0.5,
            0.3,
            0.9,
            0.6
           ]
          }
         ],
         "name": "51"
        },
        {
         "data": [
          {
           "hovertemplate": "time_elapsed=52<br>x=%{x}<br>y=%{y}<br>z=%{z}<br>MassConc_2p5=%{marker.color}<br>loc=%{text}<extra></extra>",
           "legendgroup": "",
           "marker": {
            "color": [
             10.658689,
             15.492193,
             24.298895,
             35.43198,
             18.786413,
             15.903835
            ],
            "coloraxis": "coloraxis",
            "size": [
             10.658689,
             15.492193,
             24.298895,
             35.43198,
             18.786413,
             15.903835
            ],
            "sizemode": "area",
            "sizeref": 0.0764335692,
            "symbol": "circle"
           },
           "mode": "markers+text",
           "name": "",
           "scene": "scene",
           "showlegend": false,
           "text": [
            "back corner/exhaust",
            "back",
            "front-tripod",
            "front-desk",
            "door",
            "front corner"
           ],
           "type": "scatter3d",
           "x": [
            0,
            0,
            0.9,
            0.65,
            0.95,
            0.9
           ],
           "y": [
            0.85,
            0.1,
            0.45,
            0.45,
            0,
            1
           ],
           "z": [
            0.2,
            0.8,
            0.5,
            0.3,
            0.9,
            0.6
           ]
          }
         ],
         "name": "52"
        },
        {
         "data": [
          {
           "hovertemplate": "time_elapsed=53<br>x=%{x}<br>y=%{y}<br>z=%{z}<br>MassConc_2p5=%{marker.color}<br>loc=%{text}<extra></extra>",
           "legendgroup": "",
           "marker": {
            "color": [
             10.5199,
             15.24922,
             23.517563,
             34.682426,
             16.686945,
             15.433963
            ],
            "coloraxis": "coloraxis",
            "size": [
             10.5199,
             15.24922,
             23.517563,
             34.682426,
             16.686945,
             15.433963
            ],
            "sizemode": "area",
            "sizeref": 0.0764335692,
            "symbol": "circle"
           },
           "mode": "markers+text",
           "name": "",
           "scene": "scene",
           "showlegend": false,
           "text": [
            "back corner/exhaust",
            "back",
            "front-tripod",
            "front-desk",
            "door",
            "front corner"
           ],
           "type": "scatter3d",
           "x": [
            0,
            0,
            0.9,
            0.65,
            0.95,
            0.9
           ],
           "y": [
            0.85,
            0.1,
            0.45,
            0.45,
            0,
            1
           ],
           "z": [
            0.2,
            0.8,
            0.5,
            0.3,
            0.9,
            0.6
           ]
          }
         ],
         "name": "53"
        },
        {
         "data": [
          {
           "hovertemplate": "time_elapsed=54<br>x=%{x}<br>y=%{y}<br>z=%{z}<br>MassConc_2p5=%{marker.color}<br>loc=%{text}<extra></extra>",
           "legendgroup": "",
           "marker": {
            "color": [
             10.390649,
             14.941481,
             22.739775,
             33.421452,
             14.997734,
             15.06227
            ],
            "coloraxis": "coloraxis",
            "size": [
             10.390649,
             14.941481,
             22.739775,
             33.421452,
             14.997734,
             15.06227
            ],
            "sizemode": "area",
            "sizeref": 0.0764335692,
            "symbol": "circle"
           },
           "mode": "markers+text",
           "name": "",
           "scene": "scene",
           "showlegend": false,
           "text": [
            "back corner/exhaust",
            "back",
            "front-tripod",
            "front-desk",
            "door",
            "front corner"
           ],
           "type": "scatter3d",
           "x": [
            0,
            0,
            0.9,
            0.65,
            0.95,
            0.9
           ],
           "y": [
            0.85,
            0.1,
            0.45,
            0.45,
            0,
            1
           ],
           "z": [
            0.2,
            0.8,
            0.5,
            0.3,
            0.9,
            0.6
           ]
          }
         ],
         "name": "54"
        },
        {
         "data": [
          {
           "hovertemplate": "time_elapsed=55<br>x=%{x}<br>y=%{y}<br>z=%{z}<br>MassConc_2p5=%{marker.color}<br>loc=%{text}<extra></extra>",
           "legendgroup": "",
           "marker": {
            "color": [
             10.326268,
             14.60741,
             21.589668,
             31.902391,
             13.777927,
             14.783851
            ],
            "coloraxis": "coloraxis",
            "size": [
             10.326268,
             14.60741,
             21.589668,
             31.902391,
             13.777927,
             14.783851
            ],
            "sizemode": "area",
            "sizeref": 0.0764335692,
            "symbol": "circle"
           },
           "mode": "markers+text",
           "name": "",
           "scene": "scene",
           "showlegend": false,
           "text": [
            "back corner/exhaust",
            "back",
            "front-tripod",
            "front-desk",
            "door",
            "front corner"
           ],
           "type": "scatter3d",
           "x": [
            0,
            0,
            0.9,
            0.65,
            0.95,
            0.9
           ],
           "y": [
            0.85,
            0.1,
            0.45,
            0.45,
            0,
            1
           ],
           "z": [
            0.2,
            0.8,
            0.5,
            0.3,
            0.9,
            0.6
           ]
          }
         ],
         "name": "55"
        },
        {
         "data": [
          {
           "hovertemplate": "time_elapsed=56<br>x=%{x}<br>y=%{y}<br>z=%{z}<br>MassConc_2p5=%{marker.color}<br>loc=%{text}<extra></extra>",
           "legendgroup": "",
           "marker": {
            "color": [
             10.259349,
             14.151638,
             20.457106,
             30.19389,
             12.873344,
             14.244272
            ],
            "coloraxis": "coloraxis",
            "size": [
             10.259349,
             14.151638,
             20.457106,
             30.19389,
             12.873344,
             14.244272
            ],
            "sizemode": "area",
            "sizeref": 0.0764335692,
            "symbol": "circle"
           },
           "mode": "markers+text",
           "name": "",
           "scene": "scene",
           "showlegend": false,
           "text": [
            "back corner/exhaust",
            "back",
            "front-tripod",
            "front-desk",
            "door",
            "front corner"
           ],
           "type": "scatter3d",
           "x": [
            0,
            0,
            0.9,
            0.65,
            0.95,
            0.9
           ],
           "y": [
            0.85,
            0.1,
            0.45,
            0.45,
            0,
            1
           ],
           "z": [
            0.2,
            0.8,
            0.5,
            0.3,
            0.9,
            0.6
           ]
          }
         ],
         "name": "56"
        },
        {
         "data": [
          {
           "hovertemplate": "time_elapsed=57<br>x=%{x}<br>y=%{y}<br>z=%{z}<br>MassConc_2p5=%{marker.color}<br>loc=%{text}<extra></extra>",
           "legendgroup": "",
           "marker": {
            "color": [
             10.168101,
             13.556282,
             19.342421,
             28.053576,
             12.000797,
             13.96867
            ],
            "coloraxis": "coloraxis",
            "size": [
             10.168101,
             13.556282,
             19.342421,
             28.053576,
             12.000797,
             13.96867
            ],
            "sizemode": "area",
            "sizeref": 0.0764335692,
            "symbol": "circle"
           },
           "mode": "markers+text",
           "name": "",
           "scene": "scene",
           "showlegend": false,
           "text": [
            "back corner/exhaust",
            "back",
            "front-tripod",
            "front-desk",
            "door",
            "front corner"
           ],
           "type": "scatter3d",
           "x": [
            0,
            0,
            0.9,
            0.65,
            0.95,
            0.9
           ],
           "y": [
            0.85,
            0.1,
            0.45,
            0.45,
            0,
            1
           ],
           "z": [
            0.2,
            0.8,
            0.5,
            0.3,
            0.9,
            0.6
           ]
          }
         ],
         "name": "57"
        },
        {
         "data": [
          {
           "hovertemplate": "time_elapsed=58<br>x=%{x}<br>y=%{y}<br>z=%{z}<br>MassConc_2p5=%{marker.color}<br>loc=%{text}<extra></extra>",
           "legendgroup": "",
           "marker": {
            "color": [
             10.081802,
             12.856277,
             18.599487,
             25.635387,
             11.306226,
             13.779916
            ],
            "coloraxis": "coloraxis",
            "size": [
             10.081802,
             12.856277,
             18.599487,
             25.635387,
             11.306226,
             13.779916
            ],
            "sizemode": "area",
            "sizeref": 0.0764335692,
            "symbol": "circle"
           },
           "mode": "markers+text",
           "name": "",
           "scene": "scene",
           "showlegend": false,
           "text": [
            "back corner/exhaust",
            "back",
            "front-tripod",
            "front-desk",
            "door",
            "front corner"
           ],
           "type": "scatter3d",
           "x": [
            0,
            0,
            0.9,
            0.65,
            0.95,
            0.9
           ],
           "y": [
            0.85,
            0.1,
            0.45,
            0.45,
            0,
            1
           ],
           "z": [
            0.2,
            0.8,
            0.5,
            0.3,
            0.9,
            0.6
           ]
          }
         ],
         "name": "58"
        },
        {
         "data": [
          {
           "hovertemplate": "time_elapsed=59<br>x=%{x}<br>y=%{y}<br>z=%{z}<br>MassConc_2p5=%{marker.color}<br>loc=%{text}<extra></extra>",
           "legendgroup": "",
           "marker": {
            "color": [
             9.991774,
             12.043856,
             17.884447,
             23.11458,
             10.657579,
             13.579128
            ],
            "coloraxis": "coloraxis",
            "size": [
             9.991774,
             12.043856,
             17.884447,
             23.11458,
             10.657579,
             13.579128
            ],
            "sizemode": "area",
            "sizeref": 0.0764335692,
            "symbol": "circle"
           },
           "mode": "markers+text",
           "name": "",
           "scene": "scene",
           "showlegend": false,
           "text": [
            "back corner/exhaust",
            "back",
            "front-tripod",
            "front-desk",
            "door",
            "front corner"
           ],
           "type": "scatter3d",
           "x": [
            0,
            0,
            0.9,
            0.65,
            0.95,
            0.9
           ],
           "y": [
            0.85,
            0.1,
            0.45,
            0.45,
            0,
            1
           ],
           "z": [
            0.2,
            0.8,
            0.5,
            0.3,
            0.9,
            0.6
           ]
          }
         ],
         "name": "59"
        },
        {
         "data": [
          {
           "hovertemplate": "time_elapsed=60<br>x=%{x}<br>y=%{y}<br>z=%{z}<br>MassConc_2p5=%{marker.color}<br>loc=%{text}<extra></extra>",
           "legendgroup": "",
           "marker": {
            "color": [
             9.882136,
             10.616251,
             17.107405,
             20.896162,
             10.18927,
             13.403019
            ],
            "coloraxis": "coloraxis",
            "size": [
             9.882136,
             10.616251,
             17.107405,
             20.896162,
             10.18927,
             13.403019
            ],
            "sizemode": "area",
            "sizeref": 0.0764335692,
            "symbol": "circle"
           },
           "mode": "markers+text",
           "name": "",
           "scene": "scene",
           "showlegend": false,
           "text": [
            "back corner/exhaust",
            "back",
            "front-tripod",
            "front-desk",
            "door",
            "front corner"
           ],
           "type": "scatter3d",
           "x": [
            0,
            0,
            0.9,
            0.65,
            0.95,
            0.9
           ],
           "y": [
            0.85,
            0.1,
            0.45,
            0.45,
            0,
            1
           ],
           "z": [
            0.2,
            0.8,
            0.5,
            0.3,
            0.9,
            0.6
           ]
          }
         ],
         "name": "60"
        },
        {
         "data": [
          {
           "hovertemplate": "time_elapsed=61<br>x=%{x}<br>y=%{y}<br>z=%{z}<br>MassConc_2p5=%{marker.color}<br>loc=%{text}<extra></extra>",
           "legendgroup": "",
           "marker": {
            "color": [
             9.713457,
             10.039909,
             16.464249,
             19.162394,
             9.857063,
             13.185755
            ],
            "coloraxis": "coloraxis",
            "size": [
             9.713457,
             10.039909,
             16.464249,
             19.162394,
             9.857063,
             13.185755
            ],
            "sizemode": "area",
            "sizeref": 0.0764335692,
            "symbol": "circle"
           },
           "mode": "markers+text",
           "name": "",
           "scene": "scene",
           "showlegend": false,
           "text": [
            "back corner/exhaust",
            "back",
            "front-tripod",
            "front-desk",
            "door",
            "front corner"
           ],
           "type": "scatter3d",
           "x": [
            0,
            0,
            0.9,
            0.65,
            0.95,
            0.9
           ],
           "y": [
            0.85,
            0.1,
            0.45,
            0.45,
            0,
            1
           ],
           "z": [
            0.2,
            0.8,
            0.5,
            0.3,
            0.9,
            0.6
           ]
          }
         ],
         "name": "61"
        },
        {
         "data": [
          {
           "hovertemplate": "time_elapsed=62<br>x=%{x}<br>y=%{y}<br>z=%{z}<br>MassConc_2p5=%{marker.color}<br>loc=%{text}<extra></extra>",
           "legendgroup": "",
           "marker": {
            "color": [
             9.497394,
             9.427538,
             15.57529,
             17.754541,
             9.523907,
             13.010262
            ],
            "coloraxis": "coloraxis",
            "size": [
             9.497394,
             9.427538,
             15.57529,
             17.754541,
             9.523907,
             13.010262
            ],
            "sizemode": "area",
            "sizeref": 0.0764335692,
            "symbol": "circle"
           },
           "mode": "markers+text",
           "name": "",
           "scene": "scene",
           "showlegend": false,
           "text": [
            "back corner/exhaust",
            "back",
            "front-tripod",
            "front-desk",
            "door",
            "front corner"
           ],
           "type": "scatter3d",
           "x": [
            0,
            0,
            0.9,
            0.65,
            0.95,
            0.9
           ],
           "y": [
            0.85,
            0.1,
            0.45,
            0.45,
            0,
            1
           ],
           "z": [
            0.2,
            0.8,
            0.5,
            0.3,
            0.9,
            0.6
           ]
          }
         ],
         "name": "62"
        },
        {
         "data": [
          {
           "hovertemplate": "time_elapsed=63<br>x=%{x}<br>y=%{y}<br>z=%{z}<br>MassConc_2p5=%{marker.color}<br>loc=%{text}<extra></extra>",
           "legendgroup": "",
           "marker": {
            "color": [
             9.354285,
             8.90724,
             14.949915,
             16.39493,
             9.216723,
             12.808847
            ],
            "coloraxis": "coloraxis",
            "size": [
             9.354285,
             8.90724,
             14.949915,
             16.39493,
             9.216723,
             12.808847
            ],
            "sizemode": "area",
            "sizeref": 0.0764335692,
            "symbol": "circle"
           },
           "mode": "markers+text",
           "name": "",
           "scene": "scene",
           "showlegend": false,
           "text": [
            "back corner/exhaust",
            "back",
            "front-tripod",
            "front-desk",
            "door",
            "front corner"
           ],
           "type": "scatter3d",
           "x": [
            0,
            0,
            0.9,
            0.65,
            0.95,
            0.9
           ],
           "y": [
            0.85,
            0.1,
            0.45,
            0.45,
            0,
            1
           ],
           "z": [
            0.2,
            0.8,
            0.5,
            0.3,
            0.9,
            0.6
           ]
          }
         ],
         "name": "63"
        },
        {
         "data": [
          {
           "hovertemplate": "time_elapsed=64<br>x=%{x}<br>y=%{y}<br>z=%{z}<br>MassConc_2p5=%{marker.color}<br>loc=%{text}<extra></extra>",
           "legendgroup": "",
           "marker": {
            "color": [
             9.236362,
             8.461365,
             14.271814,
             15.308037,
             8.950583,
             12.547058
            ],
            "coloraxis": "coloraxis",
            "size": [
             9.236362,
             8.461365,
             14.271814,
             15.308037,
             8.950583,
             12.547058
            ],
            "sizemode": "area",
            "sizeref": 0.0764335692,
            "symbol": "circle"
           },
           "mode": "markers+text",
           "name": "",
           "scene": "scene",
           "showlegend": false,
           "text": [
            "back corner/exhaust",
            "back",
            "front-tripod",
            "front-desk",
            "door",
            "front corner"
           ],
           "type": "scatter3d",
           "x": [
            0,
            0,
            0.9,
            0.65,
            0.95,
            0.9
           ],
           "y": [
            0.85,
            0.1,
            0.45,
            0.45,
            0,
            1
           ],
           "z": [
            0.2,
            0.8,
            0.5,
            0.3,
            0.9,
            0.6
           ]
          }
         ],
         "name": "64"
        },
        {
         "data": [
          {
           "hovertemplate": "time_elapsed=65<br>x=%{x}<br>y=%{y}<br>z=%{z}<br>MassConc_2p5=%{marker.color}<br>loc=%{text}<extra></extra>",
           "legendgroup": "",
           "marker": {
            "color": [
             9.075778,
             8.055652,
             13.698238,
             14.299312,
             8.719599,
             12.291933
            ],
            "coloraxis": "coloraxis",
            "size": [
             9.075778,
             8.055652,
             13.698238,
             14.299312,
             8.719599,
             12.291933
            ],
            "sizemode": "area",
            "sizeref": 0.0764335692,
            "symbol": "circle"
           },
           "mode": "markers+text",
           "name": "",
           "scene": "scene",
           "showlegend": false,
           "text": [
            "back corner/exhaust",
            "back",
            "front-tripod",
            "front-desk",
            "door",
            "front corner"
           ],
           "type": "scatter3d",
           "x": [
            0,
            0,
            0.9,
            0.65,
            0.95,
            0.9
           ],
           "y": [
            0.85,
            0.1,
            0.45,
            0.45,
            0,
            1
           ],
           "z": [
            0.2,
            0.8,
            0.5,
            0.3,
            0.9,
            0.6
           ]
          }
         ],
         "name": "65"
        },
        {
         "data": [
          {
           "hovertemplate": "time_elapsed=66<br>x=%{x}<br>y=%{y}<br>z=%{z}<br>MassConc_2p5=%{marker.color}<br>loc=%{text}<extra></extra>",
           "legendgroup": "",
           "marker": {
            "color": [
             8.882926,
             7.74072,
             13.188485,
             13.466043,
             8.527328,
             12.021487
            ],
            "coloraxis": "coloraxis",
            "size": [
             8.882926,
             7.74072,
             13.188485,
             13.466043,
             8.527328,
             12.021487
            ],
            "sizemode": "area",
            "sizeref": 0.0764335692,
            "symbol": "circle"
           },
           "mode": "markers+text",
           "name": "",
           "scene": "scene",
           "showlegend": false,
           "text": [
            "back corner/exhaust",
            "back",
            "front-tripod",
            "front-desk",
            "door",
            "front corner"
           ],
           "type": "scatter3d",
           "x": [
            0,
            0,
            0.9,
            0.65,
            0.95,
            0.9
           ],
           "y": [
            0.85,
            0.1,
            0.45,
            0.45,
            0,
            1
           ],
           "z": [
            0.2,
            0.8,
            0.5,
            0.3,
            0.9,
            0.6
           ]
          }
         ],
         "name": "66"
        },
        {
         "data": [
          {
           "hovertemplate": "time_elapsed=67<br>x=%{x}<br>y=%{y}<br>z=%{z}<br>MassConc_2p5=%{marker.color}<br>loc=%{text}<extra></extra>",
           "legendgroup": "",
           "marker": {
            "color": [
             8.6653,
             7.460529,
             12.686785,
             12.656829,
             8.303645,
             11.758695
            ],
            "coloraxis": "coloraxis",
            "size": [
             8.6653,
             7.460529,
             12.686785,
             12.656829,
             8.303645,
             11.758695
            ],
            "sizemode": "area",
            "sizeref": 0.0764335692,
            "symbol": "circle"
           },
           "mode": "markers+text",
           "name": "",
           "scene": "scene",
           "showlegend": false,
           "text": [
            "back corner/exhaust",
            "back",
            "front-tripod",
            "front-desk",
            "door",
            "front corner"
           ],
           "type": "scatter3d",
           "x": [
            0,
            0,
            0.9,
            0.65,
            0.95,
            0.9
           ],
           "y": [
            0.85,
            0.1,
            0.45,
            0.45,
            0,
            1
           ],
           "z": [
            0.2,
            0.8,
            0.5,
            0.3,
            0.9,
            0.6
           ]
          }
         ],
         "name": "67"
        },
        {
         "data": [
          {
           "hovertemplate": "time_elapsed=68<br>x=%{x}<br>y=%{y}<br>z=%{z}<br>MassConc_2p5=%{marker.color}<br>loc=%{text}<extra></extra>",
           "legendgroup": "",
           "marker": {
            "color": [
             8.393471,
             7.145051,
             12.250449,
             11.900684,
             8.087084,
             11.435584
            ],
            "coloraxis": "coloraxis",
            "size": [
             8.393471,
             7.145051,
             12.250449,
             11.900684,
             8.087084,
             11.435584
            ],
            "sizemode": "area",
            "sizeref": 0.0764335692,
            "symbol": "circle"
           },
           "mode": "markers+text",
           "name": "",
           "scene": "scene",
           "showlegend": false,
           "text": [
            "back corner/exhaust",
            "back",
            "front-tripod",
            "front-desk",
            "door",
            "front corner"
           ],
           "type": "scatter3d",
           "x": [
            0,
            0,
            0.9,
            0.65,
            0.95,
            0.9
           ],
           "y": [
            0.85,
            0.1,
            0.45,
            0.45,
            0,
            1
           ],
           "z": [
            0.2,
            0.8,
            0.5,
            0.3,
            0.9,
            0.6
           ]
          }
         ],
         "name": "68"
        },
        {
         "data": [
          {
           "hovertemplate": "time_elapsed=69<br>x=%{x}<br>y=%{y}<br>z=%{z}<br>MassConc_2p5=%{marker.color}<br>loc=%{text}<extra></extra>",
           "legendgroup": "",
           "marker": {
            "color": [
             8.037346,
             6.815421,
             11.846698,
             11.124641,
             7.862968,
             11.185644
            ],
            "coloraxis": "coloraxis",
            "size": [
             8.037346,
             6.815421,
             11.846698,
             11.124641,
             7.862968,
             11.185644
            ],
            "sizemode": "area",
            "sizeref": 0.0764335692,
            "symbol": "circle"
           },
           "mode": "markers+text",
           "name": "",
           "scene": "scene",
           "showlegend": false,
           "text": [
            "back corner/exhaust",
            "back",
            "front-tripod",
            "front-desk",
            "door",
            "front corner"
           ],
           "type": "scatter3d",
           "x": [
            0,
            0,
            0.9,
            0.65,
            0.95,
            0.9
           ],
           "y": [
            0.85,
            0.1,
            0.45,
            0.45,
            0,
            1
           ],
           "z": [
            0.2,
            0.8,
            0.5,
            0.3,
            0.9,
            0.6
           ]
          }
         ],
         "name": "69"
        },
        {
         "data": [
          {
           "hovertemplate": "time_elapsed=70<br>x=%{x}<br>y=%{y}<br>z=%{z}<br>MassConc_2p5=%{marker.color}<br>loc=%{text}<extra></extra>",
           "legendgroup": "",
           "marker": {
            "color": [
             7.699964,
             6.525448,
             11.408351,
             10.478662,
             7.633544,
             10.939846
            ],
            "coloraxis": "coloraxis",
            "size": [
             7.699964,
             6.525448,
             11.408351,
             10.478662,
             7.633544,
             10.939846
            ],
            "sizemode": "area",
            "sizeref": 0.0764335692,
            "symbol": "circle"
           },
           "mode": "markers+text",
           "name": "",
           "scene": "scene",
           "showlegend": false,
           "text": [
            "back corner/exhaust",
            "back",
            "front-tripod",
            "front-desk",
            "door",
            "front corner"
           ],
           "type": "scatter3d",
           "x": [
            0,
            0,
            0.9,
            0.65,
            0.95,
            0.9
           ],
           "y": [
            0.85,
            0.1,
            0.45,
            0.45,
            0,
            1
           ],
           "z": [
            0.2,
            0.8,
            0.5,
            0.3,
            0.9,
            0.6
           ]
          }
         ],
         "name": "70"
        },
        {
         "data": [
          {
           "hovertemplate": "time_elapsed=71<br>x=%{x}<br>y=%{y}<br>z=%{z}<br>MassConc_2p5=%{marker.color}<br>loc=%{text}<extra></extra>",
           "legendgroup": "",
           "marker": {
            "color": [
             7.359744,
             6.247147,
             11.022357,
             9.98585,
             7.385267,
             10.704461
            ],
            "coloraxis": "coloraxis",
            "size": [
             7.359744,
             6.247147,
             11.022357,
             9.98585,
             7.385267,
             10.704461
            ],
            "sizemode": "area",
            "sizeref": 0.0764335692,
            "symbol": "circle"
           },
           "mode": "markers+text",
           "name": "",
           "scene": "scene",
           "showlegend": false,
           "text": [
            "back corner/exhaust",
            "back",
            "front-tripod",
            "front-desk",
            "door",
            "front corner"
           ],
           "type": "scatter3d",
           "x": [
            0,
            0,
            0.9,
            0.65,
            0.95,
            0.9
           ],
           "y": [
            0.85,
            0.1,
            0.45,
            0.45,
            0,
            1
           ],
           "z": [
            0.2,
            0.8,
            0.5,
            0.3,
            0.9,
            0.6
           ]
          }
         ],
         "name": "71"
        },
        {
         "data": [
          {
           "hovertemplate": "time_elapsed=72<br>x=%{x}<br>y=%{y}<br>z=%{z}<br>MassConc_2p5=%{marker.color}<br>loc=%{text}<extra></extra>",
           "legendgroup": "",
           "marker": {
            "color": [
             7.025703,
             5.988001,
             10.643432,
             9.510215,
             7.130959,
             10.501337
            ],
            "coloraxis": "coloraxis",
            "size": [
             7.025703,
             5.988001,
             10.643432,
             9.510215,
             7.130959,
             10.501337
            ],
            "sizemode": "area",
            "sizeref": 0.0764335692,
            "symbol": "circle"
           },
           "mode": "markers+text",
           "name": "",
           "scene": "scene",
           "showlegend": false,
           "text": [
            "back corner/exhaust",
            "back",
            "front-tripod",
            "front-desk",
            "door",
            "front corner"
           ],
           "type": "scatter3d",
           "x": [
            0,
            0,
            0.9,
            0.65,
            0.95,
            0.9
           ],
           "y": [
            0.85,
            0.1,
            0.45,
            0.45,
            0,
            1
           ],
           "z": [
            0.2,
            0.8,
            0.5,
            0.3,
            0.9,
            0.6
           ]
          }
         ],
         "name": "72"
        },
        {
         "data": [
          {
           "hovertemplate": "time_elapsed=73<br>x=%{x}<br>y=%{y}<br>z=%{z}<br>MassConc_2p5=%{marker.color}<br>loc=%{text}<extra></extra>",
           "legendgroup": "",
           "marker": {
            "color": [
             6.782026,
             5.717978,
             10.296096,
             9.085813,
             6.90446,
             10.309495
            ],
            "coloraxis": "coloraxis",
            "size": [
             6.782026,
             5.717978,
             10.296096,
             9.085813,
             6.90446,
             10.309495
            ],
            "sizemode": "area",
            "sizeref": 0.0764335692,
            "symbol": "circle"
           },
           "mode": "markers+text",
           "name": "",
           "scene": "scene",
           "showlegend": false,
           "text": [
            "back corner/exhaust",
            "back",
            "front-tripod",
            "front-desk",
            "door",
            "front corner"
           ],
           "type": "scatter3d",
           "x": [
            0,
            0,
            0.9,
            0.65,
            0.95,
            0.9
           ],
           "y": [
            0.85,
            0.1,
            0.45,
            0.45,
            0,
            1
           ],
           "z": [
            0.2,
            0.8,
            0.5,
            0.3,
            0.9,
            0.6
           ]
          }
         ],
         "name": "73"
        },
        {
         "data": [
          {
           "hovertemplate": "time_elapsed=74<br>x=%{x}<br>y=%{y}<br>z=%{z}<br>MassConc_2p5=%{marker.color}<br>loc=%{text}<extra></extra>",
           "legendgroup": "",
           "marker": {
            "color": [
             6.514277,
             5.428255,
             9.916028,
             8.619675,
             6.755852,
             10.093173
            ],
            "coloraxis": "coloraxis",
            "size": [
             6.514277,
             5.428255,
             9.916028,
             8.619675,
             6.755852,
             10.093173
            ],
            "sizemode": "area",
            "sizeref": 0.0764335692,
            "symbol": "circle"
           },
           "mode": "markers+text",
           "name": "",
           "scene": "scene",
           "showlegend": false,
           "text": [
            "back corner/exhaust",
            "back",
            "front-tripod",
            "front-desk",
            "door",
            "front corner"
           ],
           "type": "scatter3d",
           "x": [
            0,
            0,
            0.9,
            0.65,
            0.95,
            0.9
           ],
           "y": [
            0.85,
            0.1,
            0.45,
            0.45,
            0,
            1
           ],
           "z": [
            0.2,
            0.8,
            0.5,
            0.3,
            0.9,
            0.6
           ]
          }
         ],
         "name": "74"
        },
        {
         "data": [
          {
           "hovertemplate": "time_elapsed=75<br>x=%{x}<br>y=%{y}<br>z=%{z}<br>MassConc_2p5=%{marker.color}<br>loc=%{text}<extra></extra>",
           "legendgroup": "",
           "marker": {
            "color": [
             6.287999,
             5.170744,
             9.607448,
             8.27436,
             6.622978,
             9.86738
            ],
            "coloraxis": "coloraxis",
            "size": [
             6.287999,
             5.170744,
             9.607448,
             8.27436,
             6.622978,
             9.86738
            ],
            "sizemode": "area",
            "sizeref": 0.0764335692,
            "symbol": "circle"
           },
           "mode": "markers+text",
           "name": "",
           "scene": "scene",
           "showlegend": false,
           "text": [
            "back corner/exhaust",
            "back",
            "front-tripod",
            "front-desk",
            "door",
            "front corner"
           ],
           "type": "scatter3d",
           "x": [
            0,
            0,
            0.9,
            0.65,
            0.95,
            0.9
           ],
           "y": [
            0.85,
            0.1,
            0.45,
            0.45,
            0,
            1
           ],
           "z": [
            0.2,
            0.8,
            0.5,
            0.3,
            0.9,
            0.6
           ]
          }
         ],
         "name": "75"
        },
        {
         "data": [
          {
           "hovertemplate": "time_elapsed=76<br>x=%{x}<br>y=%{y}<br>z=%{z}<br>MassConc_2p5=%{marker.color}<br>loc=%{text}<extra></extra>",
           "legendgroup": "",
           "marker": {
            "color": [
             6.069311,
             4.920168,
             9.27941,
             8.003847,
             6.528886,
             9.61992
            ],
            "coloraxis": "coloraxis",
            "size": [
             6.069311,
             4.920168,
             9.27941,
             8.003847,
             6.528886,
             9.61992
            ],
            "sizemode": "area",
            "sizeref": 0.0764335692,
            "symbol": "circle"
           },
           "mode": "markers+text",
           "name": "",
           "scene": "scene",
           "showlegend": false,
           "text": [
            "back corner/exhaust",
            "back",
            "front-tripod",
            "front-desk",
            "door",
            "front corner"
           ],
           "type": "scatter3d",
           "x": [
            0,
            0,
            0.9,
            0.65,
            0.95,
            0.9
           ],
           "y": [
            0.85,
            0.1,
            0.45,
            0.45,
            0,
            1
           ],
           "z": [
            0.2,
            0.8,
            0.5,
            0.3,
            0.9,
            0.6
           ]
          }
         ],
         "name": "76"
        },
        {
         "data": [
          {
           "hovertemplate": "time_elapsed=77<br>x=%{x}<br>y=%{y}<br>z=%{z}<br>MassConc_2p5=%{marker.color}<br>loc=%{text}<extra></extra>",
           "legendgroup": "",
           "marker": {
            "color": [
             5.931105,
             4.677467,
             8.884603,
             7.734089,
             6.403771,
             9.356845
            ],
            "coloraxis": "coloraxis",
            "size": [
             5.931105,
             4.677467,
             8.884603,
             7.734089,
             6.403771,
             9.356845
            ],
            "sizemode": "area",
            "sizeref": 0.0764335692,
            "symbol": "circle"
           },
           "mode": "markers+text",
           "name": "",
           "scene": "scene",
           "showlegend": false,
           "text": [
            "back corner/exhaust",
            "back",
            "front-tripod",
            "front-desk",
            "door",
            "front corner"
           ],
           "type": "scatter3d",
           "x": [
            0,
            0,
            0.9,
            0.65,
            0.95,
            0.9
           ],
           "y": [
            0.85,
            0.1,
            0.45,
            0.45,
            0,
            1
           ],
           "z": [
            0.2,
            0.8,
            0.5,
            0.3,
            0.9,
            0.6
           ]
          }
         ],
         "name": "77"
        },
        {
         "data": [
          {
           "hovertemplate": "time_elapsed=78<br>x=%{x}<br>y=%{y}<br>z=%{z}<br>MassConc_2p5=%{marker.color}<br>loc=%{text}<extra></extra>",
           "legendgroup": "",
           "marker": {
            "color": [
             5.797449,
             4.454185,
             8.597353,
             7.468785,
             6.25411,
             9.093148
            ],
            "coloraxis": "coloraxis",
            "size": [
             5.797449,
             4.454185,
             8.597353,
             7.468785,
             6.25411,
             9.093148
            ],
            "sizemode": "area",
            "sizeref": 0.0764335692,
            "symbol": "circle"
           },
           "mode": "markers+text",
           "name": "",
           "scene": "scene",
           "showlegend": false,
           "text": [
            "back corner/exhaust",
            "back",
            "front-tripod",
            "front-desk",
            "door",
            "front corner"
           ],
           "type": "scatter3d",
           "x": [
            0,
            0,
            0.9,
            0.65,
            0.95,
            0.9
           ],
           "y": [
            0.85,
            0.1,
            0.45,
            0.45,
            0,
            1
           ],
           "z": [
            0.2,
            0.8,
            0.5,
            0.3,
            0.9,
            0.6
           ]
          }
         ],
         "name": "78"
        },
        {
         "data": [
          {
           "hovertemplate": "time_elapsed=79<br>x=%{x}<br>y=%{y}<br>z=%{z}<br>MassConc_2p5=%{marker.color}<br>loc=%{text}<extra></extra>",
           "legendgroup": "",
           "marker": {
            "color": [
             5.650186,
             4.248535,
             8.279871,
             7.249043,
             6.133842,
             8.784857
            ],
            "coloraxis": "coloraxis",
            "size": [
             5.650186,
             4.248535,
             8.279871,
             7.249043,
             6.133842,
             8.784857
            ],
            "sizemode": "area",
            "sizeref": 0.0764335692,
            "symbol": "circle"
           },
           "mode": "markers+text",
           "name": "",
           "scene": "scene",
           "showlegend": false,
           "text": [
            "back corner/exhaust",
            "back",
            "front-tripod",
            "front-desk",
            "door",
            "front corner"
           ],
           "type": "scatter3d",
           "x": [
            0,
            0,
            0.9,
            0.65,
            0.95,
            0.9
           ],
           "y": [
            0.85,
            0.1,
            0.45,
            0.45,
            0,
            1
           ],
           "z": [
            0.2,
            0.8,
            0.5,
            0.3,
            0.9,
            0.6
           ]
          }
         ],
         "name": "79"
        },
        {
         "data": [
          {
           "hovertemplate": "time_elapsed=80<br>x=%{x}<br>y=%{y}<br>z=%{z}<br>MassConc_2p5=%{marker.color}<br>loc=%{text}<extra></extra>",
           "legendgroup": "",
           "marker": {
            "color": [
             5.510981,
             4.049003,
             7.999955,
             7.027116,
             5.991211,
             8.434714
            ],
            "coloraxis": "coloraxis",
            "size": [
             5.510981,
             4.049003,
             7.999955,
             7.027116,
             5.991211,
             8.434714
            ],
            "sizemode": "area",
            "sizeref": 0.0764335692,
            "symbol": "circle"
           },
           "mode": "markers+text",
           "name": "",
           "scene": "scene",
           "showlegend": false,
           "text": [
            "back corner/exhaust",
            "back",
            "front-tripod",
            "front-desk",
            "door",
            "front corner"
           ],
           "type": "scatter3d",
           "x": [
            0,
            0,
            0.9,
            0.65,
            0.95,
            0.9
           ],
           "y": [
            0.85,
            0.1,
            0.45,
            0.45,
            0,
            1
           ],
           "z": [
            0.2,
            0.8,
            0.5,
            0.3,
            0.9,
            0.6
           ]
          }
         ],
         "name": "80"
        },
        {
         "data": [
          {
           "hovertemplate": "time_elapsed=81<br>x=%{x}<br>y=%{y}<br>z=%{z}<br>MassConc_2p5=%{marker.color}<br>loc=%{text}<extra></extra>",
           "legendgroup": "",
           "marker": {
            "color": [
             5.415499,
             3.856736,
             7.721519,
             6.808208,
             5.82372,
             8.137104
            ],
            "coloraxis": "coloraxis",
            "size": [
             5.415499,
             3.856736,
             7.721519,
             6.808208,
             5.82372,
             8.137104
            ],
            "sizemode": "area",
            "sizeref": 0.0764335692,
            "symbol": "circle"
           },
           "mode": "markers+text",
           "name": "",
           "scene": "scene",
           "showlegend": false,
           "text": [
            "back corner/exhaust",
            "back",
            "front-tripod",
            "front-desk",
            "door",
            "front corner"
           ],
           "type": "scatter3d",
           "x": [
            0,
            0,
            0.9,
            0.65,
            0.95,
            0.9
           ],
           "y": [
            0.85,
            0.1,
            0.45,
            0.45,
            0,
            1
           ],
           "z": [
            0.2,
            0.8,
            0.5,
            0.3,
            0.9,
            0.6
           ]
          }
         ],
         "name": "81"
        },
        {
         "data": [
          {
           "hovertemplate": "time_elapsed=82<br>x=%{x}<br>y=%{y}<br>z=%{z}<br>MassConc_2p5=%{marker.color}<br>loc=%{text}<extra></extra>",
           "legendgroup": "",
           "marker": {
            "color": [
             5.320849,
             3.672031,
             7.45644,
             6.601658,
             5.6534,
             7.871078
            ],
            "coloraxis": "coloraxis",
            "size": [
             5.320849,
             3.672031,
             7.45644,
             6.601658,
             5.6534,
             7.871078
            ],
            "sizemode": "area",
            "sizeref": 0.0764335692,
            "symbol": "circle"
           },
           "mode": "markers+text",
           "name": "",
           "scene": "scene",
           "showlegend": false,
           "text": [
            "back corner/exhaust",
            "back",
            "front-tripod",
            "front-desk",
            "door",
            "front corner"
           ],
           "type": "scatter3d",
           "x": [
            0,
            0,
            0.9,
            0.65,
            0.95,
            0.9
           ],
           "y": [
            0.85,
            0.1,
            0.45,
            0.45,
            0,
            1
           ],
           "z": [
            0.2,
            0.8,
            0.5,
            0.3,
            0.9,
            0.6
           ]
          }
         ],
         "name": "82"
        },
        {
         "data": [
          {
           "hovertemplate": "time_elapsed=83<br>x=%{x}<br>y=%{y}<br>z=%{z}<br>MassConc_2p5=%{marker.color}<br>loc=%{text}<extra></extra>",
           "legendgroup": "",
           "marker": {
            "color": [
             5.25417,
             3.534157,
             7.212395,
             6.419929,
             5.490195,
             7.578479
            ],
            "coloraxis": "coloraxis",
            "size": [
             5.25417,
             3.534157,
             7.212395,
             6.419929,
             5.490195,
             7.578479
            ],
            "sizemode": "area",
            "sizeref": 0.0764335692,
            "symbol": "circle"
           },
           "mode": "markers+text",
           "name": "",
           "scene": "scene",
           "showlegend": false,
           "text": [
            "back corner/exhaust",
            "back",
            "front-tripod",
            "front-desk",
            "door",
            "front corner"
           ],
           "type": "scatter3d",
           "x": [
            0,
            0,
            0.9,
            0.65,
            0.95,
            0.9
           ],
           "y": [
            0.85,
            0.1,
            0.45,
            0.45,
            0,
            1
           ],
           "z": [
            0.2,
            0.8,
            0.5,
            0.3,
            0.9,
            0.6
           ]
          }
         ],
         "name": "83"
        },
        {
         "data": [
          {
           "hovertemplate": "time_elapsed=84<br>x=%{x}<br>y=%{y}<br>z=%{z}<br>MassConc_2p5=%{marker.color}<br>loc=%{text}<extra></extra>",
           "legendgroup": "",
           "marker": {
            "color": [
             5.157452,
             3.426,
             6.961092,
             6.239803,
             5.335676,
             7.269801
            ],
            "coloraxis": "coloraxis",
            "size": [
             5.157452,
             3.426,
             6.961092,
             6.239803,
             5.335676,
             7.269801
            ],
            "sizemode": "area",
            "sizeref": 0.0764335692,
            "symbol": "circle"
           },
           "mode": "markers+text",
           "name": "",
           "scene": "scene",
           "showlegend": false,
           "text": [
            "back corner/exhaust",
            "back",
            "front-tripod",
            "front-desk",
            "door",
            "front corner"
           ],
           "type": "scatter3d",
           "x": [
            0,
            0,
            0.9,
            0.65,
            0.95,
            0.9
           ],
           "y": [
            0.85,
            0.1,
            0.45,
            0.45,
            0,
            1
           ],
           "z": [
            0.2,
            0.8,
            0.5,
            0.3,
            0.9,
            0.6
           ]
          }
         ],
         "name": "84"
        },
        {
         "data": [
          {
           "hovertemplate": "time_elapsed=85<br>x=%{x}<br>y=%{y}<br>z=%{z}<br>MassConc_2p5=%{marker.color}<br>loc=%{text}<extra></extra>",
           "legendgroup": "",
           "marker": {
            "color": [
             5.036602,
             3.313886,
             6.696868,
             5.866284,
             5.206165,
             6.954842
            ],
            "coloraxis": "coloraxis",
            "size": [
             5.036602,
             3.313886,
             6.696868,
             5.866284,
             5.206165,
             6.954842
            ],
            "sizemode": "area",
            "sizeref": 0.0764335692,
            "symbol": "circle"
           },
           "mode": "markers+text",
           "name": "",
           "scene": "scene",
           "showlegend": false,
           "text": [
            "back corner/exhaust",
            "back",
            "front-tripod",
            "front-desk",
            "door",
            "front corner"
           ],
           "type": "scatter3d",
           "x": [
            0,
            0,
            0.9,
            0.65,
            0.95,
            0.9
           ],
           "y": [
            0.85,
            0.1,
            0.45,
            0.45,
            0,
            1
           ],
           "z": [
            0.2,
            0.8,
            0.5,
            0.3,
            0.9,
            0.6
           ]
          }
         ],
         "name": "85"
        },
        {
         "data": [
          {
           "hovertemplate": "time_elapsed=86<br>x=%{x}<br>y=%{y}<br>z=%{z}<br>MassConc_2p5=%{marker.color}<br>loc=%{text}<extra></extra>",
           "legendgroup": "",
           "marker": {
            "color": [
             4.915425,
             3.189833,
             6.416047,
             5.679366,
             5.073508,
             6.663451
            ],
            "coloraxis": "coloraxis",
            "size": [
             4.915425,
             3.189833,
             6.416047,
             5.679366,
             5.073508,
             6.663451
            ],
            "sizemode": "area",
            "sizeref": 0.0764335692,
            "symbol": "circle"
           },
           "mode": "markers+text",
           "name": "",
           "scene": "scene",
           "showlegend": false,
           "text": [
            "back corner/exhaust",
            "back",
            "front-tripod",
            "front-desk",
            "door",
            "front corner"
           ],
           "type": "scatter3d",
           "x": [
            0,
            0,
            0.9,
            0.65,
            0.95,
            0.9
           ],
           "y": [
            0.85,
            0.1,
            0.45,
            0.45,
            0,
            1
           ],
           "z": [
            0.2,
            0.8,
            0.5,
            0.3,
            0.9,
            0.6
           ]
          }
         ],
         "name": "86"
        },
        {
         "data": [
          {
           "hovertemplate": "time_elapsed=87<br>x=%{x}<br>y=%{y}<br>z=%{z}<br>MassConc_2p5=%{marker.color}<br>loc=%{text}<extra></extra>",
           "legendgroup": "",
           "marker": {
            "color": [
             4.804784,
             3.086893,
             6.144838,
             5.500345,
             4.947028,
             6.453431
            ],
            "coloraxis": "coloraxis",
            "size": [
             4.804784,
             3.086893,
             6.144838,
             5.500345,
             4.947028,
             6.453431
            ],
            "sizemode": "area",
            "sizeref": 0.0764335692,
            "symbol": "circle"
           },
           "mode": "markers+text",
           "name": "",
           "scene": "scene",
           "showlegend": false,
           "text": [
            "back corner/exhaust",
            "back",
            "front-tripod",
            "front-desk",
            "door",
            "front corner"
           ],
           "type": "scatter3d",
           "x": [
            0,
            0,
            0.9,
            0.65,
            0.95,
            0.9
           ],
           "y": [
            0.85,
            0.1,
            0.45,
            0.45,
            0,
            1
           ],
           "z": [
            0.2,
            0.8,
            0.5,
            0.3,
            0.9,
            0.6
           ]
          }
         ],
         "name": "87"
        },
        {
         "data": [
          {
           "hovertemplate": "time_elapsed=88<br>x=%{x}<br>y=%{y}<br>z=%{z}<br>MassConc_2p5=%{marker.color}<br>loc=%{text}<extra></extra>",
           "legendgroup": "",
           "marker": {
            "color": [
             4.676478,
             2.982646,
             5.885666,
             5.348418,
             4.826848,
             6.202423
            ],
            "coloraxis": "coloraxis",
            "size": [
             4.676478,
             2.982646,
             5.885666,
             5.348418,
             4.826848,
             6.202423
            ],
            "sizemode": "area",
            "sizeref": 0.0764335692,
            "symbol": "circle"
           },
           "mode": "markers+text",
           "name": "",
           "scene": "scene",
           "showlegend": false,
           "text": [
            "back corner/exhaust",
            "back",
            "front-tripod",
            "front-desk",
            "door",
            "front corner"
           ],
           "type": "scatter3d",
           "x": [
            0,
            0,
            0.9,
            0.65,
            0.95,
            0.9
           ],
           "y": [
            0.85,
            0.1,
            0.45,
            0.45,
            0,
            1
           ],
           "z": [
            0.2,
            0.8,
            0.5,
            0.3,
            0.9,
            0.6
           ]
          }
         ],
         "name": "88"
        },
        {
         "data": [
          {
           "hovertemplate": "time_elapsed=89<br>x=%{x}<br>y=%{y}<br>z=%{z}<br>MassConc_2p5=%{marker.color}<br>loc=%{text}<extra></extra>",
           "legendgroup": "",
           "marker": {
            "color": [
             4.562628,
             2.868336,
             5.653385,
             5.224168,
             4.730819,
             5.972286
            ],
            "coloraxis": "coloraxis",
            "size": [
             4.562628,
             2.868336,
             5.653385,
             5.224168,
             4.730819,
             5.972286
            ],
            "sizemode": "area",
            "sizeref": 0.0764335692,
            "symbol": "circle"
           },
           "mode": "markers+text",
           "name": "",
           "scene": "scene",
           "showlegend": false,
           "text": [
            "back corner/exhaust",
            "back",
            "front-tripod",
            "front-desk",
            "door",
            "front corner"
           ],
           "type": "scatter3d",
           "x": [
            0,
            0,
            0.9,
            0.65,
            0.95,
            0.9
           ],
           "y": [
            0.85,
            0.1,
            0.45,
            0.45,
            0,
            1
           ],
           "z": [
            0.2,
            0.8,
            0.5,
            0.3,
            0.9,
            0.6
           ]
          }
         ],
         "name": "89"
        },
        {
         "data": [
          {
           "hovertemplate": "time_elapsed=90<br>x=%{x}<br>y=%{y}<br>z=%{z}<br>MassConc_2p5=%{marker.color}<br>loc=%{text}<extra></extra>",
           "legendgroup": "",
           "marker": {
            "color": [
             4.434458,
             2.785513,
             5.435691,
             5.111227,
             4.606091,
             5.754714
            ],
            "coloraxis": "coloraxis",
            "size": [
             4.434458,
             2.785513,
             5.435691,
             5.111227,
             4.606091,
             5.754714
            ],
            "sizemode": "area",
            "sizeref": 0.0764335692,
            "symbol": "circle"
           },
           "mode": "markers+text",
           "name": "",
           "scene": "scene",
           "showlegend": false,
           "text": [
            "back corner/exhaust",
            "back",
            "front-tripod",
            "front-desk",
            "door",
            "front corner"
           ],
           "type": "scatter3d",
           "x": [
            0,
            0,
            0.9,
            0.65,
            0.95,
            0.9
           ],
           "y": [
            0.85,
            0.1,
            0.45,
            0.45,
            0,
            1
           ],
           "z": [
            0.2,
            0.8,
            0.5,
            0.3,
            0.9,
            0.6
           ]
          }
         ],
         "name": "90"
        },
        {
         "data": [
          {
           "hovertemplate": "time_elapsed=91<br>x=%{x}<br>y=%{y}<br>z=%{z}<br>MassConc_2p5=%{marker.color}<br>loc=%{text}<extra></extra>",
           "legendgroup": "",
           "marker": {
            "color": [
             4.295553,
             2.690474,
             5.232708,
             4.988778,
             4.467622,
             5.546247
            ],
            "coloraxis": "coloraxis",
            "size": [
             4.295553,
             2.690474,
             5.232708,
             4.988778,
             4.467622,
             5.546247
            ],
            "sizemode": "area",
            "sizeref": 0.0764335692,
            "symbol": "circle"
           },
           "mode": "markers+text",
           "name": "",
           "scene": "scene",
           "showlegend": false,
           "text": [
            "back corner/exhaust",
            "back",
            "front-tripod",
            "front-desk",
            "door",
            "front corner"
           ],
           "type": "scatter3d",
           "x": [
            0,
            0,
            0.9,
            0.65,
            0.95,
            0.9
           ],
           "y": [
            0.85,
            0.1,
            0.45,
            0.45,
            0,
            1
           ],
           "z": [
            0.2,
            0.8,
            0.5,
            0.3,
            0.9,
            0.6
           ]
          }
         ],
         "name": "91"
        },
        {
         "data": [
          {
           "hovertemplate": "time_elapsed=92<br>x=%{x}<br>y=%{y}<br>z=%{z}<br>MassConc_2p5=%{marker.color}<br>loc=%{text}<extra></extra>",
           "legendgroup": "",
           "marker": {
            "color": [
             4.15819,
             2.596539,
             5.043132,
             4.869656,
             4.358974,
             5.364019
            ],
            "coloraxis": "coloraxis",
            "size": [
             4.15819,
             2.596539,
             5.043132,
             4.869656,
             4.358974,
             5.364019
            ],
            "sizemode": "area",
            "sizeref": 0.0764335692,
            "symbol": "circle"
           },
           "mode": "markers+text",
           "name": "",
           "scene": "scene",
           "showlegend": false,
           "text": [
            "back corner/exhaust",
            "back",
            "front-tripod",
            "front-desk",
            "door",
            "front corner"
           ],
           "type": "scatter3d",
           "x": [
            0,
            0,
            0.9,
            0.65,
            0.95,
            0.9
           ],
           "y": [
            0.85,
            0.1,
            0.45,
            0.45,
            0,
            1
           ],
           "z": [
            0.2,
            0.8,
            0.5,
            0.3,
            0.9,
            0.6
           ]
          }
         ],
         "name": "92"
        },
        {
         "data": [
          {
           "hovertemplate": "time_elapsed=93<br>x=%{x}<br>y=%{y}<br>z=%{z}<br>MassConc_2p5=%{marker.color}<br>loc=%{text}<extra></extra>",
           "legendgroup": "",
           "marker": {
            "color": [
             4.014328,
             2.513827,
             4.857427,
             4.774389,
             4.251377,
             5.18088
            ],
            "coloraxis": "coloraxis",
            "size": [
             4.014328,
             2.513827,
             4.857427,
             4.774389,
             4.251377,
             5.18088
            ],
            "sizemode": "area",
            "sizeref": 0.0764335692,
            "symbol": "circle"
           },
           "mode": "markers+text",
           "name": "",
           "scene": "scene",
           "showlegend": false,
           "text": [
            "back corner/exhaust",
            "back",
            "front-tripod",
            "front-desk",
            "door",
            "front corner"
           ],
           "type": "scatter3d",
           "x": [
            0,
            0,
            0.9,
            0.65,
            0.95,
            0.9
           ],
           "y": [
            0.85,
            0.1,
            0.45,
            0.45,
            0,
            1
           ],
           "z": [
            0.2,
            0.8,
            0.5,
            0.3,
            0.9,
            0.6
           ]
          }
         ],
         "name": "93"
        },
        {
         "data": [
          {
           "hovertemplate": "time_elapsed=94<br>x=%{x}<br>y=%{y}<br>z=%{z}<br>MassConc_2p5=%{marker.color}<br>loc=%{text}<extra></extra>",
           "legendgroup": "",
           "marker": {
            "color": [
             3.886099,
             2.431639,
             4.685877,
             4.670388,
             4.145954,
             4.989237
            ],
            "coloraxis": "coloraxis",
            "size": [
             3.886099,
             2.431639,
             4.685877,
             4.670388,
             4.145954,
             4.989237
            ],
            "sizemode": "area",
            "sizeref": 0.0764335692,
            "symbol": "circle"
           },
           "mode": "markers+text",
           "name": "",
           "scene": "scene",
           "showlegend": false,
           "text": [
            "back corner/exhaust",
            "back",
            "front-tripod",
            "front-desk",
            "door",
            "front corner"
           ],
           "type": "scatter3d",
           "x": [
            0,
            0,
            0.9,
            0.65,
            0.95,
            0.9
           ],
           "y": [
            0.85,
            0.1,
            0.45,
            0.45,
            0,
            1
           ],
           "z": [
            0.2,
            0.8,
            0.5,
            0.3,
            0.9,
            0.6
           ]
          }
         ],
         "name": "94"
        },
        {
         "data": [
          {
           "hovertemplate": "time_elapsed=95<br>x=%{x}<br>y=%{y}<br>z=%{z}<br>MassConc_2p5=%{marker.color}<br>loc=%{text}<extra></extra>",
           "legendgroup": "",
           "marker": {
            "color": [
             3.761709,
             2.37035,
             4.554837,
             4.568923,
             4.051713,
             4.793321
            ],
            "coloraxis": "coloraxis",
            "size": [
             3.761709,
             2.37035,
             4.554837,
             4.568923,
             4.051713,
             4.793321
            ],
            "sizemode": "area",
            "sizeref": 0.0764335692,
            "symbol": "circle"
           },
           "mode": "markers+text",
           "name": "",
           "scene": "scene",
           "showlegend": false,
           "text": [
            "back corner/exhaust",
            "back",
            "front-tripod",
            "front-desk",
            "door",
            "front corner"
           ],
           "type": "scatter3d",
           "x": [
            0,
            0,
            0.9,
            0.65,
            0.95,
            0.9
           ],
           "y": [
            0.85,
            0.1,
            0.45,
            0.45,
            0,
            1
           ],
           "z": [
            0.2,
            0.8,
            0.5,
            0.3,
            0.9,
            0.6
           ]
          }
         ],
         "name": "95"
        },
        {
         "data": [
          {
           "hovertemplate": "time_elapsed=96<br>x=%{x}<br>y=%{y}<br>z=%{z}<br>MassConc_2p5=%{marker.color}<br>loc=%{text}<extra></extra>",
           "legendgroup": "",
           "marker": {
            "color": [
             3.668745,
             2.306624,
             4.412085,
             4.441321,
             3.943027,
             4.60431
            ],
            "coloraxis": "coloraxis",
            "size": [
             3.668745,
             2.306624,
             4.412085,
             4.441321,
             3.943027,
             4.60431
            ],
            "sizemode": "area",
            "sizeref": 0.0764335692,
            "symbol": "circle"
           },
           "mode": "markers+text",
           "name": "",
           "scene": "scene",
           "showlegend": false,
           "text": [
            "back corner/exhaust",
            "back",
            "front-tripod",
            "front-desk",
            "door",
            "front corner"
           ],
           "type": "scatter3d",
           "x": [
            0,
            0,
            0.9,
            0.65,
            0.95,
            0.9
           ],
           "y": [
            0.85,
            0.1,
            0.45,
            0.45,
            0,
            1
           ],
           "z": [
            0.2,
            0.8,
            0.5,
            0.3,
            0.9,
            0.6
           ]
          }
         ],
         "name": "96"
        },
        {
         "data": [
          {
           "hovertemplate": "time_elapsed=97<br>x=%{x}<br>y=%{y}<br>z=%{z}<br>MassConc_2p5=%{marker.color}<br>loc=%{text}<extra></extra>",
           "legendgroup": "",
           "marker": {
            "color": [
             3.574967,
             2.241556,
             4.29877,
             4.313962,
             3.83965,
             4.422389
            ],
            "coloraxis": "coloraxis",
            "size": [
             3.574967,
             2.241556,
             4.29877,
             4.313962,
             3.83965,
             4.422389
            ],
            "sizemode": "area",
            "sizeref": 0.0764335692,
            "symbol": "circle"
           },
           "mode": "markers+text",
           "name": "",
           "scene": "scene",
           "showlegend": false,
           "text": [
            "back corner/exhaust",
            "back",
            "front-tripod",
            "front-desk",
            "door",
            "front corner"
           ],
           "type": "scatter3d",
           "x": [
            0,
            0,
            0.9,
            0.65,
            0.95,
            0.9
           ],
           "y": [
            0.85,
            0.1,
            0.45,
            0.45,
            0,
            1
           ],
           "z": [
            0.2,
            0.8,
            0.5,
            0.3,
            0.9,
            0.6
           ]
          }
         ],
         "name": "97"
        },
        {
         "data": [
          {
           "hovertemplate": "time_elapsed=98<br>x=%{x}<br>y=%{y}<br>z=%{z}<br>MassConc_2p5=%{marker.color}<br>loc=%{text}<extra></extra>",
           "legendgroup": "",
           "marker": {
            "color": [
             3.472462,
             2.1664,
             4.182053,
             4.187668,
             3.758666,
             4.256706
            ],
            "coloraxis": "coloraxis",
            "size": [
             3.472462,
             2.1664,
             4.182053,
             4.187668,
             3.758666,
             4.256706
            ],
            "sizemode": "area",
            "sizeref": 0.0764335692,
            "symbol": "circle"
           },
           "mode": "markers+text",
           "name": "",
           "scene": "scene",
           "showlegend": false,
           "text": [
            "back corner/exhaust",
            "back",
            "front-tripod",
            "front-desk",
            "door",
            "front corner"
           ],
           "type": "scatter3d",
           "x": [
            0,
            0,
            0.9,
            0.65,
            0.95,
            0.9
           ],
           "y": [
            0.85,
            0.1,
            0.45,
            0.45,
            0,
            1
           ],
           "z": [
            0.2,
            0.8,
            0.5,
            0.3,
            0.9,
            0.6
           ]
          }
         ],
         "name": "98"
        },
        {
         "data": [
          {
           "hovertemplate": "time_elapsed=99<br>x=%{x}<br>y=%{y}<br>z=%{z}<br>MassConc_2p5=%{marker.color}<br>loc=%{text}<extra></extra>",
           "legendgroup": "",
           "marker": {
            "color": [
             3.383075,
             2.093478,
             4.05523,
             4.043682,
             3.671227,
             4.080299
            ],
            "coloraxis": "coloraxis",
            "size": [
             3.383075,
             2.093478,
             4.05523,
             4.043682,
             3.671227,
             4.080299
            ],
            "sizemode": "area",
            "sizeref": 0.0764335692,
            "symbol": "circle"
           },
           "mode": "markers+text",
           "name": "",
           "scene": "scene",
           "showlegend": false,
           "text": [
            "back corner/exhaust",
            "back",
            "front-tripod",
            "front-desk",
            "door",
            "front corner"
           ],
           "type": "scatter3d",
           "x": [
            0,
            0,
            0.9,
            0.65,
            0.95,
            0.9
           ],
           "y": [
            0.85,
            0.1,
            0.45,
            0.45,
            0,
            1
           ],
           "z": [
            0.2,
            0.8,
            0.5,
            0.3,
            0.9,
            0.6
           ]
          }
         ],
         "name": "99"
        },
        {
         "data": [
          {
           "hovertemplate": "time_elapsed=100<br>x=%{x}<br>y=%{y}<br>z=%{z}<br>MassConc_2p5=%{marker.color}<br>loc=%{text}<extra></extra>",
           "legendgroup": "",
           "marker": {
            "color": [
             3.277008,
             2.013441,
             3.920935,
             3.886764,
             3.60433,
             3.913887
            ],
            "coloraxis": "coloraxis",
            "size": [
             3.277008,
             2.013441,
             3.920935,
             3.886764,
             3.60433,
             3.913887
            ],
            "sizemode": "area",
            "sizeref": 0.0764335692,
            "symbol": "circle"
           },
           "mode": "markers+text",
           "name": "",
           "scene": "scene",
           "showlegend": false,
           "text": [
            "back corner/exhaust",
            "back",
            "front-tripod",
            "front-desk",
            "door",
            "front corner"
           ],
           "type": "scatter3d",
           "x": [
            0,
            0,
            0.9,
            0.65,
            0.95,
            0.9
           ],
           "y": [
            0.85,
            0.1,
            0.45,
            0.45,
            0,
            1
           ],
           "z": [
            0.2,
            0.8,
            0.5,
            0.3,
            0.9,
            0.6
           ]
          }
         ],
         "name": "100"
        },
        {
         "data": [
          {
           "hovertemplate": "time_elapsed=101<br>x=%{x}<br>y=%{y}<br>z=%{z}<br>MassConc_2p5=%{marker.color}<br>loc=%{text}<extra></extra>",
           "legendgroup": "",
           "marker": {
            "color": [
             3.15846,
             1.928449,
             3.791319,
             3.741418,
             3.530413,
             3.773468
            ],
            "coloraxis": "coloraxis",
            "size": [
             3.15846,
             1.928449,
             3.791319,
             3.741418,
             3.530413,
             3.773468
            ],
            "sizemode": "area",
            "sizeref": 0.0764335692,
            "symbol": "circle"
           },
           "mode": "markers+text",
           "name": "",
           "scene": "scene",
           "showlegend": false,
           "text": [
            "back corner/exhaust",
            "back",
            "front-tripod",
            "front-desk",
            "door",
            "front corner"
           ],
           "type": "scatter3d",
           "x": [
            0,
            0,
            0.9,
            0.65,
            0.95,
            0.9
           ],
           "y": [
            0.85,
            0.1,
            0.45,
            0.45,
            0,
            1
           ],
           "z": [
            0.2,
            0.8,
            0.5,
            0.3,
            0.9,
            0.6
           ]
          }
         ],
         "name": "101"
        },
        {
         "data": [
          {
           "hovertemplate": "time_elapsed=102<br>x=%{x}<br>y=%{y}<br>z=%{z}<br>MassConc_2p5=%{marker.color}<br>loc=%{text}<extra></extra>",
           "legendgroup": "",
           "marker": {
            "color": [
             3.049521,
             1.84997,
             3.693848,
             3.586412,
             3.435482,
             3.638596
            ],
            "coloraxis": "coloraxis",
            "size": [
             3.049521,
             1.84997,
             3.693848,
             3.586412,
             3.435482,
             3.638596
            ],
            "sizemode": "area",
            "sizeref": 0.0764335692,
            "symbol": "circle"
           },
           "mode": "markers+text",
           "name": "",
           "scene": "scene",
           "showlegend": false,
           "text": [
            "back corner/exhaust",
            "back",
            "front-tripod",
            "front-desk",
            "door",
            "front corner"
           ],
           "type": "scatter3d",
           "x": [
            0,
            0,
            0.9,
            0.65,
            0.95,
            0.9
           ],
           "y": [
            0.85,
            0.1,
            0.45,
            0.45,
            0,
            1
           ],
           "z": [
            0.2,
            0.8,
            0.5,
            0.3,
            0.9,
            0.6
           ]
          }
         ],
         "name": "102"
        },
        {
         "data": [
          {
           "hovertemplate": "time_elapsed=103<br>x=%{x}<br>y=%{y}<br>z=%{z}<br>MassConc_2p5=%{marker.color}<br>loc=%{text}<extra></extra>",
           "legendgroup": "",
           "marker": {
            "color": [
             2.940038,
             1.827089,
             3.623905,
             3.4444,
             3.324434,
             3.493175
            ],
            "coloraxis": "coloraxis",
            "size": [
             2.940038,
             1.827089,
             3.623905,
             3.4444,
             3.324434,
             3.493175
            ],
            "sizemode": "area",
            "sizeref": 0.0764335692,
            "symbol": "circle"
           },
           "mode": "markers+text",
           "name": "",
           "scene": "scene",
           "showlegend": false,
           "text": [
            "back corner/exhaust",
            "back",
            "front-tripod",
            "front-desk",
            "door",
            "front corner"
           ],
           "type": "scatter3d",
           "x": [
            0,
            0,
            0.9,
            0.65,
            0.95,
            0.9
           ],
           "y": [
            0.85,
            0.1,
            0.45,
            0.45,
            0,
            1
           ],
           "z": [
            0.2,
            0.8,
            0.5,
            0.3,
            0.9,
            0.6
           ]
          }
         ],
         "name": "103"
        },
        {
         "data": [
          {
           "hovertemplate": "time_elapsed=104<br>x=%{x}<br>y=%{y}<br>z=%{z}<br>MassConc_2p5=%{marker.color}<br>loc=%{text}<extra></extra>",
           "legendgroup": "",
           "marker": {
            "color": [
             2.867875,
             1.809768,
             3.595501,
             3.314616,
             3.224987,
             3.357709
            ],
            "coloraxis": "coloraxis",
            "size": [
             2.867875,
             1.809768,
             3.595501,
             3.314616,
             3.224987,
             3.357709
            ],
            "sizemode": "area",
            "sizeref": 0.0764335692,
            "symbol": "circle"
           },
           "mode": "markers+text",
           "name": "",
           "scene": "scene",
           "showlegend": false,
           "text": [
            "back corner/exhaust",
            "back",
            "front-tripod",
            "front-desk",
            "door",
            "front corner"
           ],
           "type": "scatter3d",
           "x": [
            0,
            0,
            0.9,
            0.65,
            0.95,
            0.9
           ],
           "y": [
            0.85,
            0.1,
            0.45,
            0.45,
            0,
            1
           ],
           "z": [
            0.2,
            0.8,
            0.5,
            0.3,
            0.9,
            0.6
           ]
          }
         ],
         "name": "104"
        },
        {
         "data": [
          {
           "hovertemplate": "time_elapsed=105<br>x=%{x}<br>y=%{y}<br>z=%{z}<br>MassConc_2p5=%{marker.color}<br>loc=%{text}<extra></extra>",
           "legendgroup": "",
           "marker": {
            "color": [
             2.780878,
             1.77766,
             3.536789,
             3.176404,
             3.120096,
             3.249317
            ],
            "coloraxis": "coloraxis",
            "size": [
             2.780878,
             1.77766,
             3.536789,
             3.176404,
             3.120096,
             3.249317
            ],
            "sizemode": "area",
            "sizeref": 0.0764335692,
            "symbol": "circle"
           },
           "mode": "markers+text",
           "name": "",
           "scene": "scene",
           "showlegend": false,
           "text": [
            "back corner/exhaust",
            "back",
            "front-tripod",
            "front-desk",
            "door",
            "front corner"
           ],
           "type": "scatter3d",
           "x": [
            0,
            0,
            0.9,
            0.65,
            0.95,
            0.9
           ],
           "y": [
            0.85,
            0.1,
            0.45,
            0.45,
            0,
            1
           ],
           "z": [
            0.2,
            0.8,
            0.5,
            0.3,
            0.9,
            0.6
           ]
          }
         ],
         "name": "105"
        },
        {
         "data": [
          {
           "hovertemplate": "time_elapsed=106<br>x=%{x}<br>y=%{y}<br>z=%{z}<br>MassConc_2p5=%{marker.color}<br>loc=%{text}<extra></extra>",
           "legendgroup": "",
           "marker": {
            "color": [
             2.691694,
             1.733891,
             3.463151,
             3.073065,
             3.011974,
             3.137793
            ],
            "coloraxis": "coloraxis",
            "size": [
             2.691694,
             1.733891,
             3.463151,
             3.073065,
             3.011974,
             3.137793
            ],
            "sizemode": "area",
            "sizeref": 0.0764335692,
            "symbol": "circle"
           },
           "mode": "markers+text",
           "name": "",
           "scene": "scene",
           "showlegend": false,
           "text": [
            "back corner/exhaust",
            "back",
            "front-tripod",
            "front-desk",
            "door",
            "front corner"
           ],
           "type": "scatter3d",
           "x": [
            0,
            0,
            0.9,
            0.65,
            0.95,
            0.9
           ],
           "y": [
            0.85,
            0.1,
            0.45,
            0.45,
            0,
            1
           ],
           "z": [
            0.2,
            0.8,
            0.5,
            0.3,
            0.9,
            0.6
           ]
          }
         ],
         "name": "106"
        },
        {
         "data": [
          {
           "hovertemplate": "time_elapsed=107<br>x=%{x}<br>y=%{y}<br>z=%{z}<br>MassConc_2p5=%{marker.color}<br>loc=%{text}<extra></extra>",
           "legendgroup": "",
           "marker": {
            "color": [
             2.601618,
             1.681113,
             3.414655,
             3.008924,
             2.910434,
             3.05003
            ],
            "coloraxis": "coloraxis",
            "size": [
             2.601618,
             1.681113,
             3.414655,
             3.008924,
             2.910434,
             3.05003
            ],
            "sizemode": "area",
            "sizeref": 0.0764335692,
            "symbol": "circle"
           },
           "mode": "markers+text",
           "name": "",
           "scene": "scene",
           "showlegend": false,
           "text": [
            "back corner/exhaust",
            "back",
            "front-tripod",
            "front-desk",
            "door",
            "front corner"
           ],
           "type": "scatter3d",
           "x": [
            0,
            0,
            0.9,
            0.65,
            0.95,
            0.9
           ],
           "y": [
            0.85,
            0.1,
            0.45,
            0.45,
            0,
            1
           ],
           "z": [
            0.2,
            0.8,
            0.5,
            0.3,
            0.9,
            0.6
           ]
          }
         ],
         "name": "107"
        },
        {
         "data": [
          {
           "hovertemplate": "time_elapsed=108<br>x=%{x}<br>y=%{y}<br>z=%{z}<br>MassConc_2p5=%{marker.color}<br>loc=%{text}<extra></extra>",
           "legendgroup": "",
           "marker": {
            "color": [
             2.530392,
             1.621563,
             3.388098,
             2.927013,
             2.815245,
             2.956934
            ],
            "coloraxis": "coloraxis",
            "size": [
             2.530392,
             1.621563,
             3.388098,
             2.927013,
             2.815245,
             2.956934
            ],
            "sizemode": "area",
            "sizeref": 0.0764335692,
            "symbol": "circle"
           },
           "mode": "markers+text",
           "name": "",
           "scene": "scene",
           "showlegend": false,
           "text": [
            "back corner/exhaust",
            "back",
            "front-tripod",
            "front-desk",
            "door",
            "front corner"
           ],
           "type": "scatter3d",
           "x": [
            0,
            0,
            0.9,
            0.65,
            0.95,
            0.9
           ],
           "y": [
            0.85,
            0.1,
            0.45,
            0.45,
            0,
            1
           ],
           "z": [
            0.2,
            0.8,
            0.5,
            0.3,
            0.9,
            0.6
           ]
          }
         ],
         "name": "108"
        },
        {
         "data": [
          {
           "hovertemplate": "time_elapsed=109<br>x=%{x}<br>y=%{y}<br>z=%{z}<br>MassConc_2p5=%{marker.color}<br>loc=%{text}<extra></extra>",
           "legendgroup": "",
           "marker": {
            "color": [
             2.447476,
             1.55712,
             3.342406,
             2.851195,
             2.741813,
             2.860644
            ],
            "coloraxis": "coloraxis",
            "size": [
             2.447476,
             1.55712,
             3.342406,
             2.851195,
             2.741813,
             2.860644
            ],
            "sizemode": "area",
            "sizeref": 0.0764335692,
            "symbol": "circle"
           },
           "mode": "markers+text",
           "name": "",
           "scene": "scene",
           "showlegend": false,
           "text": [
            "back corner/exhaust",
            "back",
            "front-tripod",
            "front-desk",
            "door",
            "front corner"
           ],
           "type": "scatter3d",
           "x": [
            0,
            0,
            0.9,
            0.65,
            0.95,
            0.9
           ],
           "y": [
            0.85,
            0.1,
            0.45,
            0.45,
            0,
            1
           ],
           "z": [
            0.2,
            0.8,
            0.5,
            0.3,
            0.9,
            0.6
           ]
          }
         ],
         "name": "109"
        },
        {
         "data": [
          {
           "hovertemplate": "time_elapsed=110<br>x=%{x}<br>y=%{y}<br>z=%{z}<br>MassConc_2p5=%{marker.color}<br>loc=%{text}<extra></extra>",
           "legendgroup": "",
           "marker": {
            "color": [
             2.364924,
             1.489358,
             3.192376,
             2.771203,
             2.670925,
             2.796386
            ],
            "coloraxis": "coloraxis",
            "size": [
             2.364924,
             1.489358,
             3.192376,
             2.771203,
             2.670925,
             2.796386
            ],
            "sizemode": "area",
            "sizeref": 0.0764335692,
            "symbol": "circle"
           },
           "mode": "markers+text",
           "name": "",
           "scene": "scene",
           "showlegend": false,
           "text": [
            "back corner/exhaust",
            "back",
            "front-tripod",
            "front-desk",
            "door",
            "front corner"
           ],
           "type": "scatter3d",
           "x": [
            0,
            0,
            0.9,
            0.65,
            0.95,
            0.9
           ],
           "y": [
            0.85,
            0.1,
            0.45,
            0.45,
            0,
            1
           ],
           "z": [
            0.2,
            0.8,
            0.5,
            0.3,
            0.9,
            0.6
           ]
          }
         ],
         "name": "110"
        },
        {
         "data": [
          {
           "hovertemplate": "time_elapsed=111<br>x=%{x}<br>y=%{y}<br>z=%{z}<br>MassConc_2p5=%{marker.color}<br>loc=%{text}<extra></extra>",
           "legendgroup": "",
           "marker": {
            "color": [
             2.319858,
             1.419582,
             3.105361,
             2.689093,
             2.59488,
             2.733129
            ],
            "coloraxis": "coloraxis",
            "size": [
             2.319858,
             1.419582,
             3.105361,
             2.689093,
             2.59488,
             2.733129
            ],
            "sizemode": "area",
            "sizeref": 0.0764335692,
            "symbol": "circle"
           },
           "mode": "markers+text",
           "name": "",
           "scene": "scene",
           "showlegend": false,
           "text": [
            "back corner/exhaust",
            "back",
            "front-tripod",
            "front-desk",
            "door",
            "front corner"
           ],
           "type": "scatter3d",
           "x": [
            0,
            0,
            0.9,
            0.65,
            0.95,
            0.9
           ],
           "y": [
            0.85,
            0.1,
            0.45,
            0.45,
            0,
            1
           ],
           "z": [
            0.2,
            0.8,
            0.5,
            0.3,
            0.9,
            0.6
           ]
          }
         ],
         "name": "111"
        },
        {
         "data": [
          {
           "hovertemplate": "time_elapsed=112<br>x=%{x}<br>y=%{y}<br>z=%{z}<br>MassConc_2p5=%{marker.color}<br>loc=%{text}<extra></extra>",
           "legendgroup": "",
           "marker": {
            "color": [
             2.269196,
             1.348874,
             3.004053,
             2.595767,
             2.531402,
             2.680868
            ],
            "coloraxis": "coloraxis",
            "size": [
             2.269196,
             1.348874,
             3.004053,
             2.595767,
             2.531402,
             2.680868
            ],
            "sizemode": "area",
            "sizeref": 0.0764335692,
            "symbol": "circle"
           },
           "mode": "markers+text",
           "name": "",
           "scene": "scene",
           "showlegend": false,
           "text": [
            "back corner/exhaust",
            "back",
            "front-tripod",
            "front-desk",
            "door",
            "front corner"
           ],
           "type": "scatter3d",
           "x": [
            0,
            0,
            0.9,
            0.65,
            0.95,
            0.9
           ],
           "y": [
            0.85,
            0.1,
            0.45,
            0.45,
            0,
            1
           ],
           "z": [
            0.2,
            0.8,
            0.5,
            0.3,
            0.9,
            0.6
           ]
          }
         ],
         "name": "112"
        },
        {
         "data": [
          {
           "hovertemplate": "time_elapsed=113<br>x=%{x}<br>y=%{y}<br>z=%{z}<br>MassConc_2p5=%{marker.color}<br>loc=%{text}<extra></extra>",
           "legendgroup": "",
           "marker": {
            "color": [
             2.205466,
             1.278114,
             2.910488,
             2.504597,
             2.462749,
             2.645509
            ],
            "coloraxis": "coloraxis",
            "size": [
             2.205466,
             1.278114,
             2.910488,
             2.504597,
             2.462749,
             2.645509
            ],
            "sizemode": "area",
            "sizeref": 0.0764335692,
            "symbol": "circle"
           },
           "mode": "markers+text",
           "name": "",
           "scene": "scene",
           "showlegend": false,
           "text": [
            "back corner/exhaust",
            "back",
            "front-tripod",
            "front-desk",
            "door",
            "front corner"
           ],
           "type": "scatter3d",
           "x": [
            0,
            0,
            0.9,
            0.65,
            0.95,
            0.9
           ],
           "y": [
            0.85,
            0.1,
            0.45,
            0.45,
            0,
            1
           ],
           "z": [
            0.2,
            0.8,
            0.5,
            0.3,
            0.9,
            0.6
           ]
          }
         ],
         "name": "113"
        },
        {
         "data": [
          {
           "hovertemplate": "time_elapsed=114<br>x=%{x}<br>y=%{y}<br>z=%{z}<br>MassConc_2p5=%{marker.color}<br>loc=%{text}<extra></extra>",
           "legendgroup": "",
           "marker": {
            "color": [
             2.149985,
             1.217731,
             2.805777,
             2.415459,
             2.414407,
             2.598877
            ],
            "coloraxis": "coloraxis",
            "size": [
             2.149985,
             1.217731,
             2.805777,
             2.415459,
             2.414407,
             2.598877
            ],
            "sizemode": "area",
            "sizeref": 0.0764335692,
            "symbol": "circle"
           },
           "mode": "markers+text",
           "name": "",
           "scene": "scene",
           "showlegend": false,
           "text": [
            "back corner/exhaust",
            "back",
            "front-tripod",
            "front-desk",
            "door",
            "front corner"
           ],
           "type": "scatter3d",
           "x": [
            0,
            0,
            0.9,
            0.65,
            0.95,
            0.9
           ],
           "y": [
            0.85,
            0.1,
            0.45,
            0.45,
            0,
            1
           ],
           "z": [
            0.2,
            0.8,
            0.5,
            0.3,
            0.9,
            0.6
           ]
          }
         ],
         "name": "114"
        },
        {
         "data": [
          {
           "hovertemplate": "time_elapsed=115<br>x=%{x}<br>y=%{y}<br>z=%{z}<br>MassConc_2p5=%{marker.color}<br>loc=%{text}<extra></extra>",
           "legendgroup": "",
           "marker": {
            "color": [
             2.08353,
             1.16644,
             2.720762,
             2.329456,
             2.35933,
             2.543551
            ],
            "coloraxis": "coloraxis",
            "size": [
             2.08353,
             1.16644,
             2.720762,
             2.329456,
             2.35933,
             2.543551
            ],
            "sizemode": "area",
            "sizeref": 0.0764335692,
            "symbol": "circle"
           },
           "mode": "markers+text",
           "name": "",
           "scene": "scene",
           "showlegend": false,
           "text": [
            "back corner/exhaust",
            "back",
            "front-tripod",
            "front-desk",
            "door",
            "front corner"
           ],
           "type": "scatter3d",
           "x": [
            0,
            0,
            0.9,
            0.65,
            0.95,
            0.9
           ],
           "y": [
            0.85,
            0.1,
            0.45,
            0.45,
            0,
            1
           ],
           "z": [
            0.2,
            0.8,
            0.5,
            0.3,
            0.9,
            0.6
           ]
          }
         ],
         "name": "115"
        },
        {
         "data": [
          {
           "hovertemplate": "time_elapsed=116<br>x=%{x}<br>y=%{y}<br>z=%{z}<br>MassConc_2p5=%{marker.color}<br>loc=%{text}<extra></extra>",
           "legendgroup": "",
           "marker": {
            "color": [
             2.036593,
             1.122969,
             2.62486,
             2.246644,
             2.307042,
             2.49067
            ],
            "coloraxis": "coloraxis",
            "size": [
             2.036593,
             1.122969,
             2.62486,
             2.246644,
             2.307042,
             2.49067
            ],
            "sizemode": "area",
            "sizeref": 0.0764335692,
            "symbol": "circle"
           },
           "mode": "markers+text",
           "name": "",
           "scene": "scene",
           "showlegend": false,
           "text": [
            "back corner/exhaust",
            "back",
            "front-tripod",
            "front-desk",
            "door",
            "front corner"
           ],
           "type": "scatter3d",
           "x": [
            0,
            0,
            0.9,
            0.65,
            0.95,
            0.9
           ],
           "y": [
            0.85,
            0.1,
            0.45,
            0.45,
            0,
            1
           ],
           "z": [
            0.2,
            0.8,
            0.5,
            0.3,
            0.9,
            0.6
           ]
          }
         ],
         "name": "116"
        },
        {
         "data": [
          {
           "hovertemplate": "time_elapsed=117<br>x=%{x}<br>y=%{y}<br>z=%{z}<br>MassConc_2p5=%{marker.color}<br>loc=%{text}<extra></extra>",
           "legendgroup": "",
           "marker": {
            "color": [
             1.978214,
             1.096031,
             2.539693,
             2.177553,
             2.241613,
             2.42303
            ],
            "coloraxis": "coloraxis",
            "size": [
             1.978214,
             1.096031,
             2.539693,
             2.177553,
             2.241613,
             2.42303
            ],
            "sizemode": "area",
            "sizeref": 0.0764335692,
            "symbol": "circle"
           },
           "mode": "markers+text",
           "name": "",
           "scene": "scene",
           "showlegend": false,
           "text": [
            "back corner/exhaust",
            "back",
            "front-tripod",
            "front-desk",
            "door",
            "front corner"
           ],
           "type": "scatter3d",
           "x": [
            0,
            0,
            0.9,
            0.65,
            0.95,
            0.9
           ],
           "y": [
            0.85,
            0.1,
            0.45,
            0.45,
            0,
            1
           ],
           "z": [
            0.2,
            0.8,
            0.5,
            0.3,
            0.9,
            0.6
           ]
          }
         ],
         "name": "117"
        },
        {
         "data": [
          {
           "hovertemplate": "time_elapsed=118<br>x=%{x}<br>y=%{y}<br>z=%{z}<br>MassConc_2p5=%{marker.color}<br>loc=%{text}<extra></extra>",
           "legendgroup": "",
           "marker": {
            "color": [
             1.920314,
             1.063247,
             2.454484,
             2.109632,
             2.190167,
             2.344093
            ],
            "coloraxis": "coloraxis",
            "size": [
             1.920314,
             1.063247,
             2.454484,
             2.109632,
             2.190167,
             2.344093
            ],
            "sizemode": "area",
            "sizeref": 0.0764335692,
            "symbol": "circle"
           },
           "mode": "markers+text",
           "name": "",
           "scene": "scene",
           "showlegend": false,
           "text": [
            "back corner/exhaust",
            "back",
            "front-tripod",
            "front-desk",
            "door",
            "front corner"
           ],
           "type": "scatter3d",
           "x": [
            0,
            0,
            0.9,
            0.65,
            0.95,
            0.9
           ],
           "y": [
            0.85,
            0.1,
            0.45,
            0.45,
            0,
            1
           ],
           "z": [
            0.2,
            0.8,
            0.5,
            0.3,
            0.9,
            0.6
           ]
          }
         ],
         "name": "118"
        },
        {
         "data": [
          {
           "hovertemplate": "time_elapsed=119<br>x=%{x}<br>y=%{y}<br>z=%{z}<br>MassConc_2p5=%{marker.color}<br>loc=%{text}<extra></extra>",
           "legendgroup": "",
           "marker": {
            "color": [
             1.872717,
             1.026058,
             2.370083,
             2.033574,
             2.134635,
             2.265139
            ],
            "coloraxis": "coloraxis",
            "size": [
             1.872717,
             1.026058,
             2.370083,
             2.033574,
             2.134635,
             2.265139
            ],
            "sizemode": "area",
            "sizeref": 0.0764335692,
            "symbol": "circle"
           },
           "mode": "markers+text",
           "name": "",
           "scene": "scene",
           "showlegend": false,
           "text": [
            "back corner/exhaust",
            "back",
            "front-tripod",
            "front-desk",
            "door",
            "front corner"
           ],
           "type": "scatter3d",
           "x": [
            0,
            0,
            0.9,
            0.65,
            0.95,
            0.9
           ],
           "y": [
            0.85,
            0.1,
            0.45,
            0.45,
            0,
            1
           ],
           "z": [
            0.2,
            0.8,
            0.5,
            0.3,
            0.9,
            0.6
           ]
          }
         ],
         "name": "119"
        },
        {
         "data": [
          {
           "hovertemplate": "time_elapsed=120<br>x=%{x}<br>y=%{y}<br>z=%{z}<br>MassConc_2p5=%{marker.color}<br>loc=%{text}<extra></extra>",
           "legendgroup": "",
           "marker": {
            "color": [
             1.86113,
             1.015118,
             2.278117,
             1.951674,
             2.068293,
             2.178583
            ],
            "coloraxis": "coloraxis",
            "size": [
             1.86113,
             1.015118,
             2.278117,
             1.951674,
             2.068293,
             2.178583
            ],
            "sizemode": "area",
            "sizeref": 0.0764335692,
            "symbol": "circle"
           },
           "mode": "markers+text",
           "name": "",
           "scene": "scene",
           "showlegend": false,
           "text": [
            "back corner/exhaust",
            "back",
            "front-tripod",
            "front-desk",
            "door",
            "front corner"
           ],
           "type": "scatter3d",
           "x": [
            0,
            0,
            0.9,
            0.65,
            0.95,
            0.9
           ],
           "y": [
            0.85,
            0.1,
            0.45,
            0.45,
            0,
            1
           ],
           "z": [
            0.2,
            0.8,
            0.5,
            0.3,
            0.9,
            0.6
           ]
          }
         ],
         "name": "120"
        },
        {
         "data": [
          {
           "hovertemplate": "time_elapsed=121<br>x=%{x}<br>y=%{y}<br>z=%{z}<br>MassConc_2p5=%{marker.color}<br>loc=%{text}<extra></extra>",
           "legendgroup": "",
           "marker": {
            "color": [
             1.842304,
             1.025281,
             2.180926,
             1.896073,
             2.026361,
             2.121289
            ],
            "coloraxis": "coloraxis",
            "size": [
             1.842304,
             1.025281,
             2.180926,
             1.896073,
             2.026361,
             2.121289
            ],
            "sizemode": "area",
            "sizeref": 0.0764335692,
            "symbol": "circle"
           },
           "mode": "markers+text",
           "name": "",
           "scene": "scene",
           "showlegend": false,
           "text": [
            "back corner/exhaust",
            "back",
            "front-tripod",
            "front-desk",
            "door",
            "front corner"
           ],
           "type": "scatter3d",
           "x": [
            0,
            0,
            0.9,
            0.65,
            0.95,
            0.9
           ],
           "y": [
            0.85,
            0.1,
            0.45,
            0.45,
            0,
            1
           ],
           "z": [
            0.2,
            0.8,
            0.5,
            0.3,
            0.9,
            0.6
           ]
          }
         ],
         "name": "121"
        },
        {
         "data": [
          {
           "hovertemplate": "time_elapsed=122<br>x=%{x}<br>y=%{y}<br>z=%{z}<br>MassConc_2p5=%{marker.color}<br>loc=%{text}<extra></extra>",
           "legendgroup": "",
           "marker": {
            "color": [
             1.808628,
             1.04268,
             2.089533,
             1.832128,
             1.988248,
             2.070911
            ],
            "coloraxis": "coloraxis",
            "size": [
             1.808628,
             1.04268,
             2.089533,
             1.832128,
             1.988248,
             2.070911
            ],
            "sizemode": "area",
            "sizeref": 0.0764335692,
            "symbol": "circle"
           },
           "mode": "markers+text",
           "name": "",
           "scene": "scene",
           "showlegend": false,
           "text": [
            "back corner/exhaust",
            "back",
            "front-tripod",
            "front-desk",
            "door",
            "front corner"
           ],
           "type": "scatter3d",
           "x": [
            0,
            0,
            0.9,
            0.65,
            0.95,
            0.9
           ],
           "y": [
            0.85,
            0.1,
            0.45,
            0.45,
            0,
            1
           ],
           "z": [
            0.2,
            0.8,
            0.5,
            0.3,
            0.9,
            0.6
           ]
          }
         ],
         "name": "122"
        },
        {
         "data": [
          {
           "hovertemplate": "time_elapsed=123<br>x=%{x}<br>y=%{y}<br>z=%{z}<br>MassConc_2p5=%{marker.color}<br>loc=%{text}<extra></extra>",
           "legendgroup": "",
           "marker": {
            "color": [
             1.78164,
             1.056113,
             2.022423,
             1.762051,
             1.945576,
             2.034657
            ],
            "coloraxis": "coloraxis",
            "size": [
             1.78164,
             1.056113,
             2.022423,
             1.762051,
             1.945576,
             2.034657
            ],
            "sizemode": "area",
            "sizeref": 0.0764335692,
            "symbol": "circle"
           },
           "mode": "markers+text",
           "name": "",
           "scene": "scene",
           "showlegend": false,
           "text": [
            "back corner/exhaust",
            "back",
            "front-tripod",
            "front-desk",
            "door",
            "front corner"
           ],
           "type": "scatter3d",
           "x": [
            0,
            0,
            0.9,
            0.65,
            0.95,
            0.9
           ],
           "y": [
            0.85,
            0.1,
            0.45,
            0.45,
            0,
            1
           ],
           "z": [
            0.2,
            0.8,
            0.5,
            0.3,
            0.9,
            0.6
           ]
          }
         ],
         "name": "123"
        },
        {
         "data": [
          {
           "hovertemplate": "time_elapsed=124<br>x=%{x}<br>y=%{y}<br>z=%{z}<br>MassConc_2p5=%{marker.color}<br>loc=%{text}<extra></extra>",
           "legendgroup": "",
           "marker": {
            "color": [
             1.741964,
             1.056414,
             1.957001,
             1.687698,
             1.907978,
             1.984999
            ],
            "coloraxis": "coloraxis",
            "size": [
             1.741964,
             1.056414,
             1.957001,
             1.687698,
             1.907978,
             1.984999
            ],
            "sizemode": "area",
            "sizeref": 0.0764335692,
            "symbol": "circle"
           },
           "mode": "markers+text",
           "name": "",
           "scene": "scene",
           "showlegend": false,
           "text": [
            "back corner/exhaust",
            "back",
            "front-tripod",
            "front-desk",
            "door",
            "front corner"
           ],
           "type": "scatter3d",
           "x": [
            0,
            0,
            0.9,
            0.65,
            0.95,
            0.9
           ],
           "y": [
            0.85,
            0.1,
            0.45,
            0.45,
            0,
            1
           ],
           "z": [
            0.2,
            0.8,
            0.5,
            0.3,
            0.9,
            0.6
           ]
          }
         ],
         "name": "124"
        },
        {
         "data": [
          {
           "hovertemplate": "time_elapsed=125<br>x=%{x}<br>y=%{y}<br>z=%{z}<br>MassConc_2p5=%{marker.color}<br>loc=%{text}<extra></extra>",
           "legendgroup": "",
           "marker": {
            "color": [
             1.692408,
             1.046078,
             1.902943,
             1.65114,
             1.874601,
             1.924972
            ],
            "coloraxis": "coloraxis",
            "size": [
             1.692408,
             1.046078,
             1.902943,
             1.65114,
             1.874601,
             1.924972
            ],
            "sizemode": "area",
            "sizeref": 0.0764335692,
            "symbol": "circle"
           },
           "mode": "markers+text",
           "name": "",
           "scene": "scene",
           "showlegend": false,
           "text": [
            "back corner/exhaust",
            "back",
            "front-tripod",
            "front-desk",
            "door",
            "front corner"
           ],
           "type": "scatter3d",
           "x": [
            0,
            0,
            0.9,
            0.65,
            0.95,
            0.9
           ],
           "y": [
            0.85,
            0.1,
            0.45,
            0.45,
            0,
            1
           ],
           "z": [
            0.2,
            0.8,
            0.5,
            0.3,
            0.9,
            0.6
           ]
          }
         ],
         "name": "125"
        },
        {
         "data": [
          {
           "hovertemplate": "time_elapsed=126<br>x=%{x}<br>y=%{y}<br>z=%{z}<br>MassConc_2p5=%{marker.color}<br>loc=%{text}<extra></extra>",
           "legendgroup": "",
           "marker": {
            "color": [
             1.644414,
             1.027233,
             1.849552,
             1.605081,
             1.852776,
             1.857137
            ],
            "coloraxis": "coloraxis",
            "size": [
             1.644414,
             1.027233,
             1.849552,
             1.605081,
             1.852776,
             1.857137
            ],
            "sizemode": "area",
            "sizeref": 0.0764335692,
            "symbol": "circle"
           },
           "mode": "markers+text",
           "name": "",
           "scene": "scene",
           "showlegend": false,
           "text": [
            "back corner/exhaust",
            "back",
            "front-tripod",
            "front-desk",
            "door",
            "front corner"
           ],
           "type": "scatter3d",
           "x": [
            0,
            0,
            0.9,
            0.65,
            0.95,
            0.9
           ],
           "y": [
            0.85,
            0.1,
            0.45,
            0.45,
            0,
            1
           ],
           "z": [
            0.2,
            0.8,
            0.5,
            0.3,
            0.9,
            0.6
           ]
          }
         ],
         "name": "126"
        },
        {
         "data": [
          {
           "hovertemplate": "time_elapsed=127<br>x=%{x}<br>y=%{y}<br>z=%{z}<br>MassConc_2p5=%{marker.color}<br>loc=%{text}<extra></extra>",
           "legendgroup": "",
           "marker": {
            "color": [
             1.607324,
             1.011402,
             1.824794,
             1.571736,
             1.82471,
             1.78365
            ],
            "coloraxis": "coloraxis",
            "size": [
             1.607324,
             1.011402,
             1.824794,
             1.571736,
             1.82471,
             1.78365
            ],
            "sizemode": "area",
            "sizeref": 0.0764335692,
            "symbol": "circle"
           },
           "mode": "markers+text",
           "name": "",
           "scene": "scene",
           "showlegend": false,
           "text": [
            "back corner/exhaust",
            "back",
            "front-tripod",
            "front-desk",
            "door",
            "front corner"
           ],
           "type": "scatter3d",
           "x": [
            0,
            0,
            0.9,
            0.65,
            0.95,
            0.9
           ],
           "y": [
            0.85,
            0.1,
            0.45,
            0.45,
            0,
            1
           ],
           "z": [
            0.2,
            0.8,
            0.5,
            0.3,
            0.9,
            0.6
           ]
          }
         ],
         "name": "127"
        },
        {
         "data": [
          {
           "hovertemplate": "time_elapsed=128<br>x=%{x}<br>y=%{y}<br>z=%{z}<br>MassConc_2p5=%{marker.color}<br>loc=%{text}<extra></extra>",
           "legendgroup": "",
           "marker": {
            "color": [
             1.561189,
             0.988451,
             1.814447,
             1.549358,
             1.79196,
             1.723389
            ],
            "coloraxis": "coloraxis",
            "size": [
             1.561189,
             0.988451,
             1.814447,
             1.549358,
             1.79196,
             1.723389
            ],
            "sizemode": "area",
            "sizeref": 0.0764335692,
            "symbol": "circle"
           },
           "mode": "markers+text",
           "name": "",
           "scene": "scene",
           "showlegend": false,
           "text": [
            "back corner/exhaust",
            "back",
            "front-tripod",
            "front-desk",
            "door",
            "front corner"
           ],
           "type": "scatter3d",
           "x": [
            0,
            0,
            0.9,
            0.65,
            0.95,
            0.9
           ],
           "y": [
            0.85,
            0.1,
            0.45,
            0.45,
            0,
            1
           ],
           "z": [
            0.2,
            0.8,
            0.5,
            0.3,
            0.9,
            0.6
           ]
          }
         ],
         "name": "128"
        },
        {
         "data": [
          {
           "hovertemplate": "time_elapsed=129<br>x=%{x}<br>y=%{y}<br>z=%{z}<br>MassConc_2p5=%{marker.color}<br>loc=%{text}<extra></extra>",
           "legendgroup": "",
           "marker": {
            "color": [
             1.508192,
             0.969696,
             1.816183,
             1.525788,
             1.763672,
             1.65737
            ],
            "coloraxis": "coloraxis",
            "size": [
             1.508192,
             0.969696,
             1.816183,
             1.525788,
             1.763672,
             1.65737
            ],
            "sizemode": "area",
            "sizeref": 0.0764335692,
            "symbol": "circle"
           },
           "mode": "markers+text",
           "name": "",
           "scene": "scene",
           "showlegend": false,
           "text": [
            "back corner/exhaust",
            "back",
            "front-tripod",
            "front-desk",
            "door",
            "front corner"
           ],
           "type": "scatter3d",
           "x": [
            0,
            0,
            0.9,
            0.65,
            0.95,
            0.9
           ],
           "y": [
            0.85,
            0.1,
            0.45,
            0.45,
            0,
            1
           ],
           "z": [
            0.2,
            0.8,
            0.5,
            0.3,
            0.9,
            0.6
           ]
          }
         ],
         "name": "129"
        },
        {
         "data": [
          {
           "hovertemplate": "time_elapsed=130<br>x=%{x}<br>y=%{y}<br>z=%{z}<br>MassConc_2p5=%{marker.color}<br>loc=%{text}<extra></extra>",
           "legendgroup": "",
           "marker": {
            "color": [
             1.450171,
             0.954507,
             1.799582,
             1.501357,
             1.731235,
             1.595774
            ],
            "coloraxis": "coloraxis",
            "size": [
             1.450171,
             0.954507,
             1.799582,
             1.501357,
             1.731235,
             1.595774
            ],
            "sizemode": "area",
            "sizeref": 0.0764335692,
            "symbol": "circle"
           },
           "mode": "markers+text",
           "name": "",
           "scene": "scene",
           "showlegend": false,
           "text": [
            "back corner/exhaust",
            "back",
            "front-tripod",
            "front-desk",
            "door",
            "front corner"
           ],
           "type": "scatter3d",
           "x": [
            0,
            0,
            0.9,
            0.65,
            0.95,
            0.9
           ],
           "y": [
            0.85,
            0.1,
            0.45,
            0.45,
            0,
            1
           ],
           "z": [
            0.2,
            0.8,
            0.5,
            0.3,
            0.9,
            0.6
           ]
          }
         ],
         "name": "130"
        },
        {
         "data": [
          {
           "hovertemplate": "time_elapsed=131<br>x=%{x}<br>y=%{y}<br>z=%{z}<br>MassConc_2p5=%{marker.color}<br>loc=%{text}<extra></extra>",
           "legendgroup": "",
           "marker": {
            "color": [
             1.397951,
             0.942339,
             1.777554,
             1.466583,
             1.703817,
             1.546926
            ],
            "coloraxis": "coloraxis",
            "size": [
             1.397951,
             0.942339,
             1.777554,
             1.466583,
             1.703817,
             1.546926
            ],
            "sizemode": "area",
            "sizeref": 0.0764335692,
            "symbol": "circle"
           },
           "mode": "markers+text",
           "name": "",
           "scene": "scene",
           "showlegend": false,
           "text": [
            "back corner/exhaust",
            "back",
            "front-tripod",
            "front-desk",
            "door",
            "front corner"
           ],
           "type": "scatter3d",
           "x": [
            0,
            0,
            0.9,
            0.65,
            0.95,
            0.9
           ],
           "y": [
            0.85,
            0.1,
            0.45,
            0.45,
            0,
            1
           ],
           "z": [
            0.2,
            0.8,
            0.5,
            0.3,
            0.9,
            0.6
           ]
          }
         ],
         "name": "131"
        },
        {
         "data": [
          {
           "hovertemplate": "time_elapsed=132<br>x=%{x}<br>y=%{y}<br>z=%{z}<br>MassConc_2p5=%{marker.color}<br>loc=%{text}<extra></extra>",
           "legendgroup": "",
           "marker": {
            "color": [
             1.341673,
             0.923033,
             1.742052,
             1.453663,
             1.680739,
             1.491895
            ],
            "coloraxis": "coloraxis",
            "size": [
             1.341673,
             0.923033,
             1.742052,
             1.453663,
             1.680739,
             1.491895
            ],
            "sizemode": "area",
            "sizeref": 0.0764335692,
            "symbol": "circle"
           },
           "mode": "markers+text",
           "name": "",
           "scene": "scene",
           "showlegend": false,
           "text": [
            "back corner/exhaust",
            "back",
            "front-tripod",
            "front-desk",
            "door",
            "front corner"
           ],
           "type": "scatter3d",
           "x": [
            0,
            0,
            0.9,
            0.65,
            0.95,
            0.9
           ],
           "y": [
            0.85,
            0.1,
            0.45,
            0.45,
            0,
            1
           ],
           "z": [
            0.2,
            0.8,
            0.5,
            0.3,
            0.9,
            0.6
           ]
          }
         ],
         "name": "132"
        },
        {
         "data": [
          {
           "hovertemplate": "time_elapsed=133<br>x=%{x}<br>y=%{y}<br>z=%{z}<br>MassConc_2p5=%{marker.color}<br>loc=%{text}<extra></extra>",
           "legendgroup": "",
           "marker": {
            "color": [
             1.282669,
             0.927321,
             1.695971,
             1.448781,
             1.661476,
             1.432405
            ],
            "coloraxis": "coloraxis",
            "size": [
             1.282669,
             0.927321,
             1.695971,
             1.448781,
             1.661476,
             1.432405
            ],
            "sizemode": "area",
            "sizeref": 0.0764335692,
            "symbol": "circle"
           },
           "mode": "markers+text",
           "name": "",
           "scene": "scene",
           "showlegend": false,
           "text": [
            "back corner/exhaust",
            "back",
            "front-tripod",
            "front-desk",
            "door",
            "front corner"
           ],
           "type": "scatter3d",
           "x": [
            0,
            0,
            0.9,
            0.65,
            0.95,
            0.9
           ],
           "y": [
            0.85,
            0.1,
            0.45,
            0.45,
            0,
            1
           ],
           "z": [
            0.2,
            0.8,
            0.5,
            0.3,
            0.9,
            0.6
           ]
          }
         ],
         "name": "133"
        },
        {
         "data": [
          {
           "hovertemplate": "time_elapsed=134<br>x=%{x}<br>y=%{y}<br>z=%{z}<br>MassConc_2p5=%{marker.color}<br>loc=%{text}<extra></extra>",
           "legendgroup": "",
           "marker": {
            "color": [
             1.231212,
             0.941162,
             1.660214,
             1.470606,
             1.645511,
             1.395633
            ],
            "coloraxis": "coloraxis",
            "size": [
             1.231212,
             0.941162,
             1.660214,
             1.470606,
             1.645511,
             1.395633
            ],
            "sizemode": "area",
            "sizeref": 0.0764335692,
            "symbol": "circle"
           },
           "mode": "markers+text",
           "name": "",
           "scene": "scene",
           "showlegend": false,
           "text": [
            "back corner/exhaust",
            "back",
            "front-tripod",
            "front-desk",
            "door",
            "front corner"
           ],
           "type": "scatter3d",
           "x": [
            0,
            0,
            0.9,
            0.65,
            0.95,
            0.9
           ],
           "y": [
            0.85,
            0.1,
            0.45,
            0.45,
            0,
            1
           ],
           "z": [
            0.2,
            0.8,
            0.5,
            0.3,
            0.9,
            0.6
           ]
          }
         ],
         "name": "134"
        },
        {
         "data": [
          {
           "hovertemplate": "time_elapsed=135<br>x=%{x}<br>y=%{y}<br>z=%{z}<br>MassConc_2p5=%{marker.color}<br>loc=%{text}<extra></extra>",
           "legendgroup": "",
           "marker": {
            "color": [
             1.177219,
             0.952691,
             1.62404,
             1.493715,
             1.616183,
             1.360485
            ],
            "coloraxis": "coloraxis",
            "size": [
             1.177219,
             0.952691,
             1.62404,
             1.493715,
             1.616183,
             1.360485
            ],
            "sizemode": "area",
            "sizeref": 0.0764335692,
            "symbol": "circle"
           },
           "mode": "markers+text",
           "name": "",
           "scene": "scene",
           "showlegend": false,
           "text": [
            "back corner/exhaust",
            "back",
            "front-tripod",
            "front-desk",
            "door",
            "front corner"
           ],
           "type": "scatter3d",
           "x": [
            0,
            0,
            0.9,
            0.65,
            0.95,
            0.9
           ],
           "y": [
            0.85,
            0.1,
            0.45,
            0.45,
            0,
            1
           ],
           "z": [
            0.2,
            0.8,
            0.5,
            0.3,
            0.9,
            0.6
           ]
          }
         ],
         "name": "135"
        },
        {
         "data": [
          {
           "hovertemplate": "time_elapsed=136<br>x=%{x}<br>y=%{y}<br>z=%{z}<br>MassConc_2p5=%{marker.color}<br>loc=%{text}<extra></extra>",
           "legendgroup": "",
           "marker": {
            "color": [
             1.130808,
             0.972104,
             1.578568,
             1.497498,
             1.576314,
             1.32688
            ],
            "coloraxis": "coloraxis",
            "size": [
             1.130808,
             0.972104,
             1.578568,
             1.497498,
             1.576314,
             1.32688
            ],
            "sizemode": "area",
            "sizeref": 0.0764335692,
            "symbol": "circle"
           },
           "mode": "markers+text",
           "name": "",
           "scene": "scene",
           "showlegend": false,
           "text": [
            "back corner/exhaust",
            "back",
            "front-tripod",
            "front-desk",
            "door",
            "front corner"
           ],
           "type": "scatter3d",
           "x": [
            0,
            0,
            0.9,
            0.65,
            0.95,
            0.9
           ],
           "y": [
            0.85,
            0.1,
            0.45,
            0.45,
            0,
            1
           ],
           "z": [
            0.2,
            0.8,
            0.5,
            0.3,
            0.9,
            0.6
           ]
          }
         ],
         "name": "136"
        },
        {
         "data": [
          {
           "hovertemplate": "time_elapsed=137<br>x=%{x}<br>y=%{y}<br>z=%{z}<br>MassConc_2p5=%{marker.color}<br>loc=%{text}<extra></extra>",
           "legendgroup": "",
           "marker": {
            "color": [
             1.081902,
             0.997649,
             1.544585,
             1.495848,
             1.528296,
             1.294855
            ],
            "coloraxis": "coloraxis",
            "size": [
             1.081902,
             0.997649,
             1.544585,
             1.495848,
             1.528296,
             1.294855
            ],
            "sizemode": "area",
            "sizeref": 0.0764335692,
            "symbol": "circle"
           },
           "mode": "markers+text",
           "name": "",
           "scene": "scene",
           "showlegend": false,
           "text": [
            "back corner/exhaust",
            "back",
            "front-tripod",
            "front-desk",
            "door",
            "front corner"
           ],
           "type": "scatter3d",
           "x": [
            0,
            0,
            0.9,
            0.65,
            0.95,
            0.9
           ],
           "y": [
            0.85,
            0.1,
            0.45,
            0.45,
            0,
            1
           ],
           "z": [
            0.2,
            0.8,
            0.5,
            0.3,
            0.9,
            0.6
           ]
          }
         ],
         "name": "137"
        },
        {
         "data": [
          {
           "hovertemplate": "time_elapsed=138<br>x=%{x}<br>y=%{y}<br>z=%{z}<br>MassConc_2p5=%{marker.color}<br>loc=%{text}<extra></extra>",
           "legendgroup": "",
           "marker": {
            "color": [
             1.031464,
             1.018079,
             1.501673,
             1.479574,
             1.482183,
             1.264475
            ],
            "coloraxis": "coloraxis",
            "size": [
             1.031464,
             1.018079,
             1.501673,
             1.479574,
             1.482183,
             1.264475
            ],
            "sizemode": "area",
            "sizeref": 0.0764335692,
            "symbol": "circle"
           },
           "mode": "markers+text",
           "name": "",
           "scene": "scene",
           "showlegend": false,
           "text": [
            "back corner/exhaust",
            "back",
            "front-tripod",
            "front-desk",
            "door",
            "front corner"
           ],
           "type": "scatter3d",
           "x": [
            0,
            0,
            0.9,
            0.65,
            0.95,
            0.9
           ],
           "y": [
            0.85,
            0.1,
            0.45,
            0.45,
            0,
            1
           ],
           "z": [
            0.2,
            0.8,
            0.5,
            0.3,
            0.9,
            0.6
           ]
          }
         ],
         "name": "138"
        },
        {
         "data": [
          {
           "hovertemplate": "time_elapsed=139<br>x=%{x}<br>y=%{y}<br>z=%{z}<br>MassConc_2p5=%{marker.color}<br>loc=%{text}<extra></extra>",
           "legendgroup": "",
           "marker": {
            "color": [
             0.98029,
             1.02445,
             1.451948,
             1.461878,
             1.430037,
             1.227217
            ],
            "coloraxis": "coloraxis",
            "size": [
             0.98029,
             1.02445,
             1.451948,
             1.461878,
             1.430037,
             1.227217
            ],
            "sizemode": "area",
            "sizeref": 0.0764335692,
            "symbol": "circle"
           },
           "mode": "markers+text",
           "name": "",
           "scene": "scene",
           "showlegend": false,
           "text": [
            "back corner/exhaust",
            "back",
            "front-tripod",
            "front-desk",
            "door",
            "front corner"
           ],
           "type": "scatter3d",
           "x": [
            0,
            0,
            0.9,
            0.65,
            0.95,
            0.9
           ],
           "y": [
            0.85,
            0.1,
            0.45,
            0.45,
            0,
            1
           ],
           "z": [
            0.2,
            0.8,
            0.5,
            0.3,
            0.9,
            0.6
           ]
          }
         ],
         "name": "139"
        },
        {
         "data": [
          {
           "hovertemplate": "time_elapsed=140<br>x=%{x}<br>y=%{y}<br>z=%{z}<br>MassConc_2p5=%{marker.color}<br>loc=%{text}<extra></extra>",
           "legendgroup": "",
           "marker": {
            "color": [
             0.947359,
             1.048945,
             1.406471,
             1.463113,
             1.389631,
             1.193315
            ],
            "coloraxis": "coloraxis",
            "size": [
             0.947359,
             1.048945,
             1.406471,
             1.463113,
             1.389631,
             1.193315
            ],
            "sizemode": "area",
            "sizeref": 0.0764335692,
            "symbol": "circle"
           },
           "mode": "markers+text",
           "name": "",
           "scene": "scene",
           "showlegend": false,
           "text": [
            "back corner/exhaust",
            "back",
            "front-tripod",
            "front-desk",
            "door",
            "front corner"
           ],
           "type": "scatter3d",
           "x": [
            0,
            0,
            0.9,
            0.65,
            0.95,
            0.9
           ],
           "y": [
            0.85,
            0.1,
            0.45,
            0.45,
            0,
            1
           ],
           "z": [
            0.2,
            0.8,
            0.5,
            0.3,
            0.9,
            0.6
           ]
          }
         ],
         "name": "140"
        },
        {
         "data": [
          {
           "hovertemplate": "time_elapsed=141<br>x=%{x}<br>y=%{y}<br>z=%{z}<br>MassConc_2p5=%{marker.color}<br>loc=%{text}<extra></extra>",
           "legendgroup": "",
           "marker": {
            "color": [
             0.911206,
             1.068038,
             1.355607,
             1.459402,
             1.343027,
             1.162382
            ],
            "coloraxis": "coloraxis",
            "size": [
             0.911206,
             1.068038,
             1.355607,
             1.459402,
             1.343027,
             1.162382
            ],
            "sizemode": "area",
            "sizeref": 0.0764335692,
            "symbol": "circle"
           },
           "mode": "markers+text",
           "name": "",
           "scene": "scene",
           "showlegend": false,
           "text": [
            "back corner/exhaust",
            "back",
            "front-tripod",
            "front-desk",
            "door",
            "front corner"
           ],
           "type": "scatter3d",
           "x": [
            0,
            0,
            0.9,
            0.65,
            0.95,
            0.9
           ],
           "y": [
            0.85,
            0.1,
            0.45,
            0.45,
            0,
            1
           ],
           "z": [
            0.2,
            0.8,
            0.5,
            0.3,
            0.9,
            0.6
           ]
          }
         ],
         "name": "141"
        },
        {
         "data": [
          {
           "hovertemplate": "time_elapsed=142<br>x=%{x}<br>y=%{y}<br>z=%{z}<br>MassConc_2p5=%{marker.color}<br>loc=%{text}<extra></extra>",
           "legendgroup": "",
           "marker": {
            "color": [
             0.872806,
             1.082551,
             1.300883,
             1.451866,
             1.291865,
             1.134334
            ],
            "coloraxis": "coloraxis",
            "size": [
             0.872806,
             1.082551,
             1.300883,
             1.451866,
             1.291865,
             1.134334
            ],
            "sizemode": "area",
            "sizeref": 0.0764335692,
            "symbol": "circle"
           },
           "mode": "markers+text",
           "name": "",
           "scene": "scene",
           "showlegend": false,
           "text": [
            "back corner/exhaust",
            "back",
            "front-tripod",
            "front-desk",
            "door",
            "front corner"
           ],
           "type": "scatter3d",
           "x": [
            0,
            0,
            0.9,
            0.65,
            0.95,
            0.9
           ],
           "y": [
            0.85,
            0.1,
            0.45,
            0.45,
            0,
            1
           ],
           "z": [
            0.2,
            0.8,
            0.5,
            0.3,
            0.9,
            0.6
           ]
          }
         ],
         "name": "142"
        },
        {
         "data": [
          {
           "hovertemplate": "time_elapsed=143<br>x=%{x}<br>y=%{y}<br>z=%{z}<br>MassConc_2p5=%{marker.color}<br>loc=%{text}<extra></extra>",
           "legendgroup": "",
           "marker": {
            "color": [
             0.851292,
             1.093197,
             1.243573,
             1.431249,
             1.245643,
             1.108913
            ],
            "coloraxis": "coloraxis",
            "size": [
             0.851292,
             1.093197,
             1.243573,
             1.431249,
             1.245643,
             1.108913
            ],
            "sizemode": "area",
            "sizeref": 0.0764335692,
            "symbol": "circle"
           },
           "mode": "markers+text",
           "name": "",
           "scene": "scene",
           "showlegend": false,
           "text": [
            "back corner/exhaust",
            "back",
            "front-tripod",
            "front-desk",
            "door",
            "front corner"
           ],
           "type": "scatter3d",
           "x": [
            0,
            0,
            0.9,
            0.65,
            0.95,
            0.9
           ],
           "y": [
            0.85,
            0.1,
            0.45,
            0.45,
            0,
            1
           ],
           "z": [
            0.2,
            0.8,
            0.5,
            0.3,
            0.9,
            0.6
           ]
          }
         ],
         "name": "143"
        },
        {
         "data": [
          {
           "hovertemplate": "time_elapsed=144<br>x=%{x}<br>y=%{y}<br>z=%{z}<br>MassConc_2p5=%{marker.color}<br>loc=%{text}<extra></extra>",
           "legendgroup": "",
           "marker": {
            "color": [
             0.834513,
             1.090903,
             1.193955,
             1.400242,
             1.195765,
             1.0858
            ],
            "coloraxis": "coloraxis",
            "size": [
             0.834513,
             1.090903,
             1.193955,
             1.400242,
             1.195765,
             1.0858
            ],
            "sizemode": "area",
            "sizeref": 0.0764335692,
            "symbol": "circle"
           },
           "mode": "markers+text",
           "name": "",
           "scene": "scene",
           "showlegend": false,
           "text": [
            "back corner/exhaust",
            "back",
            "front-tripod",
            "front-desk",
            "door",
            "front corner"
           ],
           "type": "scatter3d",
           "x": [
            0,
            0,
            0.9,
            0.65,
            0.95,
            0.9
           ],
           "y": [
            0.85,
            0.1,
            0.45,
            0.45,
            0,
            1
           ],
           "z": [
            0.2,
            0.8,
            0.5,
            0.3,
            0.9,
            0.6
           ]
          }
         ],
         "name": "144"
        },
        {
         "data": [
          {
           "hovertemplate": "time_elapsed=145<br>x=%{x}<br>y=%{y}<br>z=%{z}<br>MassConc_2p5=%{marker.color}<br>loc=%{text}<extra></extra>",
           "legendgroup": "",
           "marker": {
            "color": [
             0.821805,
             1.078149,
             1.169654,
             1.361127,
             1.14342,
             1.090352
            ],
            "coloraxis": "coloraxis",
            "size": [
             0.821805,
             1.078149,
             1.169654,
             1.361127,
             1.14342,
             1.090352
            ],
            "sizemode": "area",
            "sizeref": 0.0764335692,
            "symbol": "circle"
           },
           "mode": "markers+text",
           "name": "",
           "scene": "scene",
           "showlegend": false,
           "text": [
            "back corner/exhaust",
            "back",
            "front-tripod",
            "front-desk",
            "door",
            "front corner"
           ],
           "type": "scatter3d",
           "x": [
            0,
            0,
            0.9,
            0.65,
            0.95,
            0.9
           ],
           "y": [
            0.85,
            0.1,
            0.45,
            0.45,
            0,
            1
           ],
           "z": [
            0.2,
            0.8,
            0.5,
            0.3,
            0.9,
            0.6
           ]
          }
         ],
         "name": "145"
        },
        {
         "data": [
          {
           "hovertemplate": "time_elapsed=146<br>x=%{x}<br>y=%{y}<br>z=%{z}<br>MassConc_2p5=%{marker.color}<br>loc=%{text}<extra></extra>",
           "legendgroup": "",
           "marker": {
            "color": [
             0.812407,
             1.057047,
             1.166358,
             1.32596,
             1.097593,
             1.083138
            ],
            "coloraxis": "coloraxis",
            "size": [
             0.812407,
             1.057047,
             1.166358,
             1.32596,
             1.097593,
             1.083138
            ],
            "sizemode": "area",
            "sizeref": 0.0764335692,
            "symbol": "circle"
           },
           "mode": "markers+text",
           "name": "",
           "scene": "scene",
           "showlegend": false,
           "text": [
            "back corner/exhaust",
            "back",
            "front-tripod",
            "front-desk",
            "door",
            "front corner"
           ],
           "type": "scatter3d",
           "x": [
            0,
            0,
            0.9,
            0.65,
            0.95,
            0.9
           ],
           "y": [
            0.85,
            0.1,
            0.45,
            0.45,
            0,
            1
           ],
           "z": [
            0.2,
            0.8,
            0.5,
            0.3,
            0.9,
            0.6
           ]
          }
         ],
         "name": "146"
        },
        {
         "data": [
          {
           "hovertemplate": "time_elapsed=147<br>x=%{x}<br>y=%{y}<br>z=%{z}<br>MassConc_2p5=%{marker.color}<br>loc=%{text}<extra></extra>",
           "legendgroup": "",
           "marker": {
            "color": [
             0.796667,
             1.029392,
             1.161389,
             1.284222,
             1.049504,
             1.066467
            ],
            "coloraxis": "coloraxis",
            "size": [
             0.796667,
             1.029392,
             1.161389,
             1.284222,
             1.049504,
             1.066467
            ],
            "sizemode": "area",
            "sizeref": 0.0764335692,
            "symbol": "circle"
           },
           "mode": "markers+text",
           "name": "",
           "scene": "scene",
           "showlegend": false,
           "text": [
            "back corner/exhaust",
            "back",
            "front-tripod",
            "front-desk",
            "door",
            "front corner"
           ],
           "type": "scatter3d",
           "x": [
            0,
            0,
            0.9,
            0.65,
            0.95,
            0.9
           ],
           "y": [
            0.85,
            0.1,
            0.45,
            0.45,
            0,
            1
           ],
           "z": [
            0.2,
            0.8,
            0.5,
            0.3,
            0.9,
            0.6
           ]
          }
         ],
         "name": "147"
        },
        {
         "data": [
          {
           "hovertemplate": "time_elapsed=148<br>x=%{x}<br>y=%{y}<br>z=%{z}<br>MassConc_2p5=%{marker.color}<br>loc=%{text}<extra></extra>",
           "legendgroup": "",
           "marker": {
            "color": [
             0.785112,
             1.00657,
             1.164344,
             1.247818,
             1.008226,
             1.0423
            ],
            "coloraxis": "coloraxis",
            "size": [
             0.785112,
             1.00657,
             1.164344,
             1.247818,
             1.008226,
             1.0423
            ],
            "sizemode": "area",
            "sizeref": 0.0764335692,
            "symbol": "circle"
           },
           "mode": "markers+text",
           "name": "",
           "scene": "scene",
           "showlegend": false,
           "text": [
            "back corner/exhaust",
            "back",
            "front-tripod",
            "front-desk",
            "door",
            "front corner"
           ],
           "type": "scatter3d",
           "x": [
            0,
            0,
            0.9,
            0.65,
            0.95,
            0.9
           ],
           "y": [
            0.85,
            0.1,
            0.45,
            0.45,
            0,
            1
           ],
           "z": [
            0.2,
            0.8,
            0.5,
            0.3,
            0.9,
            0.6
           ]
          }
         ],
         "name": "148"
        },
        {
         "data": [
          {
           "hovertemplate": "time_elapsed=149<br>x=%{x}<br>y=%{y}<br>z=%{z}<br>MassConc_2p5=%{marker.color}<br>loc=%{text}<extra></extra>",
           "legendgroup": "",
           "marker": {
            "color": [
             0.767898,
             0.978036,
             1.155121,
             1.205867,
             0.97284,
             1.02078
            ],
            "coloraxis": "coloraxis",
            "size": [
             0.767898,
             0.978036,
             1.155121,
             1.205867,
             0.97284,
             1.02078
            ],
            "sizemode": "area",
            "sizeref": 0.0764335692,
            "symbol": "circle"
           },
           "mode": "markers+text",
           "name": "",
           "scene": "scene",
           "showlegend": false,
           "text": [
            "back corner/exhaust",
            "back",
            "front-tripod",
            "front-desk",
            "door",
            "front corner"
           ],
           "type": "scatter3d",
           "x": [
            0,
            0,
            0.9,
            0.65,
            0.95,
            0.9
           ],
           "y": [
            0.85,
            0.1,
            0.45,
            0.45,
            0,
            1
           ],
           "z": [
            0.2,
            0.8,
            0.5,
            0.3,
            0.9,
            0.6
           ]
          }
         ],
         "name": "149"
        }
       ],
       "layout": {
        "coloraxis": {
         "cmax": 191.083923,
         "cmin": 0.320535,
         "colorbar": {
          "title": {
           "text": "MassConc_2p5"
          }
         },
         "colorscale": [
          [
           0,
           "#0d0887"
          ],
          [
           0.1111111111111111,
           "#46039f"
          ],
          [
           0.2222222222222222,
           "#7201a8"
          ],
          [
           0.3333333333333333,
           "#9c179e"
          ],
          [
           0.4444444444444444,
           "#bd3786"
          ],
          [
           0.5555555555555556,
           "#d8576b"
          ],
          [
           0.6666666666666666,
           "#ed7953"
          ],
          [
           0.7777777777777778,
           "#fb9f3a"
          ],
          [
           0.8888888888888888,
           "#fdca26"
          ],
          [
           1,
           "#f0f921"
          ]
         ]
        },
        "height": 400,
        "legend": {
         "itemsizing": "constant",
         "tracegroupgap": 0
        },
        "margin": {
         "t": 60
        },
        "scene": {
         "aspectratio": {
          "x": 1,
          "y": 1,
          "z": 1
         },
         "domain": {
          "x": [
           0,
           1
          ],
          "y": [
           0,
           1
          ]
         },
         "xaxis": {
          "nticks": 5,
          "range": [
           0,
           1
          ],
          "title": {
           "text": "x"
          }
         },
         "yaxis": {
          "nticks": 5,
          "range": [
           0,
           1
          ],
          "title": {
           "text": "y"
          }
         },
         "zaxis": {
          "nticks": 5,
          "range": [
           0,
           1
          ],
          "title": {
           "text": "z"
          }
         }
        },
        "sliders": [
         {
          "active": 0,
          "currentvalue": {
           "prefix": "time_elapsed="
          },
          "len": 0.9,
          "pad": {
           "b": 10,
           "t": 60
          },
          "steps": [
           {
            "args": [
             [
              "0"
             ],
             {
              "frame": {
               "duration": 0,
               "redraw": true
              },
              "fromcurrent": true,
              "mode": "immediate",
              "transition": {
               "duration": 0,
               "easing": "linear"
              }
             }
            ],
            "label": "0",
            "method": "animate"
           },
           {
            "args": [
             [
              "1"
             ],
             {
              "frame": {
               "duration": 0,
               "redraw": true
              },
              "fromcurrent": true,
              "mode": "immediate",
              "transition": {
               "duration": 0,
               "easing": "linear"
              }
             }
            ],
            "label": "1",
            "method": "animate"
           },
           {
            "args": [
             [
              "2"
             ],
             {
              "frame": {
               "duration": 0,
               "redraw": true
              },
              "fromcurrent": true,
              "mode": "immediate",
              "transition": {
               "duration": 0,
               "easing": "linear"
              }
             }
            ],
            "label": "2",
            "method": "animate"
           },
           {
            "args": [
             [
              "3"
             ],
             {
              "frame": {
               "duration": 0,
               "redraw": true
              },
              "fromcurrent": true,
              "mode": "immediate",
              "transition": {
               "duration": 0,
               "easing": "linear"
              }
             }
            ],
            "label": "3",
            "method": "animate"
           },
           {
            "args": [
             [
              "4"
             ],
             {
              "frame": {
               "duration": 0,
               "redraw": true
              },
              "fromcurrent": true,
              "mode": "immediate",
              "transition": {
               "duration": 0,
               "easing": "linear"
              }
             }
            ],
            "label": "4",
            "method": "animate"
           },
           {
            "args": [
             [
              "5"
             ],
             {
              "frame": {
               "duration": 0,
               "redraw": true
              },
              "fromcurrent": true,
              "mode": "immediate",
              "transition": {
               "duration": 0,
               "easing": "linear"
              }
             }
            ],
            "label": "5",
            "method": "animate"
           },
           {
            "args": [
             [
              "6"
             ],
             {
              "frame": {
               "duration": 0,
               "redraw": true
              },
              "fromcurrent": true,
              "mode": "immediate",
              "transition": {
               "duration": 0,
               "easing": "linear"
              }
             }
            ],
            "label": "6",
            "method": "animate"
           },
           {
            "args": [
             [
              "7"
             ],
             {
              "frame": {
               "duration": 0,
               "redraw": true
              },
              "fromcurrent": true,
              "mode": "immediate",
              "transition": {
               "duration": 0,
               "easing": "linear"
              }
             }
            ],
            "label": "7",
            "method": "animate"
           },
           {
            "args": [
             [
              "8"
             ],
             {
              "frame": {
               "duration": 0,
               "redraw": true
              },
              "fromcurrent": true,
              "mode": "immediate",
              "transition": {
               "duration": 0,
               "easing": "linear"
              }
             }
            ],
            "label": "8",
            "method": "animate"
           },
           {
            "args": [
             [
              "9"
             ],
             {
              "frame": {
               "duration": 0,
               "redraw": true
              },
              "fromcurrent": true,
              "mode": "immediate",
              "transition": {
               "duration": 0,
               "easing": "linear"
              }
             }
            ],
            "label": "9",
            "method": "animate"
           },
           {
            "args": [
             [
              "10"
             ],
             {
              "frame": {
               "duration": 0,
               "redraw": true
              },
              "fromcurrent": true,
              "mode": "immediate",
              "transition": {
               "duration": 0,
               "easing": "linear"
              }
             }
            ],
            "label": "10",
            "method": "animate"
           },
           {
            "args": [
             [
              "11"
             ],
             {
              "frame": {
               "duration": 0,
               "redraw": true
              },
              "fromcurrent": true,
              "mode": "immediate",
              "transition": {
               "duration": 0,
               "easing": "linear"
              }
             }
            ],
            "label": "11",
            "method": "animate"
           },
           {
            "args": [
             [
              "12"
             ],
             {
              "frame": {
               "duration": 0,
               "redraw": true
              },
              "fromcurrent": true,
              "mode": "immediate",
              "transition": {
               "duration": 0,
               "easing": "linear"
              }
             }
            ],
            "label": "12",
            "method": "animate"
           },
           {
            "args": [
             [
              "13"
             ],
             {
              "frame": {
               "duration": 0,
               "redraw": true
              },
              "fromcurrent": true,
              "mode": "immediate",
              "transition": {
               "duration": 0,
               "easing": "linear"
              }
             }
            ],
            "label": "13",
            "method": "animate"
           },
           {
            "args": [
             [
              "14"
             ],
             {
              "frame": {
               "duration": 0,
               "redraw": true
              },
              "fromcurrent": true,
              "mode": "immediate",
              "transition": {
               "duration": 0,
               "easing": "linear"
              }
             }
            ],
            "label": "14",
            "method": "animate"
           },
           {
            "args": [
             [
              "15"
             ],
             {
              "frame": {
               "duration": 0,
               "redraw": true
              },
              "fromcurrent": true,
              "mode": "immediate",
              "transition": {
               "duration": 0,
               "easing": "linear"
              }
             }
            ],
            "label": "15",
            "method": "animate"
           },
           {
            "args": [
             [
              "16"
             ],
             {
              "frame": {
               "duration": 0,
               "redraw": true
              },
              "fromcurrent": true,
              "mode": "immediate",
              "transition": {
               "duration": 0,
               "easing": "linear"
              }
             }
            ],
            "label": "16",
            "method": "animate"
           },
           {
            "args": [
             [
              "17"
             ],
             {
              "frame": {
               "duration": 0,
               "redraw": true
              },
              "fromcurrent": true,
              "mode": "immediate",
              "transition": {
               "duration": 0,
               "easing": "linear"
              }
             }
            ],
            "label": "17",
            "method": "animate"
           },
           {
            "args": [
             [
              "18"
             ],
             {
              "frame": {
               "duration": 0,
               "redraw": true
              },
              "fromcurrent": true,
              "mode": "immediate",
              "transition": {
               "duration": 0,
               "easing": "linear"
              }
             }
            ],
            "label": "18",
            "method": "animate"
           },
           {
            "args": [
             [
              "19"
             ],
             {
              "frame": {
               "duration": 0,
               "redraw": true
              },
              "fromcurrent": true,
              "mode": "immediate",
              "transition": {
               "duration": 0,
               "easing": "linear"
              }
             }
            ],
            "label": "19",
            "method": "animate"
           },
           {
            "args": [
             [
              "20"
             ],
             {
              "frame": {
               "duration": 0,
               "redraw": true
              },
              "fromcurrent": true,
              "mode": "immediate",
              "transition": {
               "duration": 0,
               "easing": "linear"
              }
             }
            ],
            "label": "20",
            "method": "animate"
           },
           {
            "args": [
             [
              "21"
             ],
             {
              "frame": {
               "duration": 0,
               "redraw": true
              },
              "fromcurrent": true,
              "mode": "immediate",
              "transition": {
               "duration": 0,
               "easing": "linear"
              }
             }
            ],
            "label": "21",
            "method": "animate"
           },
           {
            "args": [
             [
              "22"
             ],
             {
              "frame": {
               "duration": 0,
               "redraw": true
              },
              "fromcurrent": true,
              "mode": "immediate",
              "transition": {
               "duration": 0,
               "easing": "linear"
              }
             }
            ],
            "label": "22",
            "method": "animate"
           },
           {
            "args": [
             [
              "23"
             ],
             {
              "frame": {
               "duration": 0,
               "redraw": true
              },
              "fromcurrent": true,
              "mode": "immediate",
              "transition": {
               "duration": 0,
               "easing": "linear"
              }
             }
            ],
            "label": "23",
            "method": "animate"
           },
           {
            "args": [
             [
              "24"
             ],
             {
              "frame": {
               "duration": 0,
               "redraw": true
              },
              "fromcurrent": true,
              "mode": "immediate",
              "transition": {
               "duration": 0,
               "easing": "linear"
              }
             }
            ],
            "label": "24",
            "method": "animate"
           },
           {
            "args": [
             [
              "25"
             ],
             {
              "frame": {
               "duration": 0,
               "redraw": true
              },
              "fromcurrent": true,
              "mode": "immediate",
              "transition": {
               "duration": 0,
               "easing": "linear"
              }
             }
            ],
            "label": "25",
            "method": "animate"
           },
           {
            "args": [
             [
              "26"
             ],
             {
              "frame": {
               "duration": 0,
               "redraw": true
              },
              "fromcurrent": true,
              "mode": "immediate",
              "transition": {
               "duration": 0,
               "easing": "linear"
              }
             }
            ],
            "label": "26",
            "method": "animate"
           },
           {
            "args": [
             [
              "27"
             ],
             {
              "frame": {
               "duration": 0,
               "redraw": true
              },
              "fromcurrent": true,
              "mode": "immediate",
              "transition": {
               "duration": 0,
               "easing": "linear"
              }
             }
            ],
            "label": "27",
            "method": "animate"
           },
           {
            "args": [
             [
              "28"
             ],
             {
              "frame": {
               "duration": 0,
               "redraw": true
              },
              "fromcurrent": true,
              "mode": "immediate",
              "transition": {
               "duration": 0,
               "easing": "linear"
              }
             }
            ],
            "label": "28",
            "method": "animate"
           },
           {
            "args": [
             [
              "29"
             ],
             {
              "frame": {
               "duration": 0,
               "redraw": true
              },
              "fromcurrent": true,
              "mode": "immediate",
              "transition": {
               "duration": 0,
               "easing": "linear"
              }
             }
            ],
            "label": "29",
            "method": "animate"
           },
           {
            "args": [
             [
              "30"
             ],
             {
              "frame": {
               "duration": 0,
               "redraw": true
              },
              "fromcurrent": true,
              "mode": "immediate",
              "transition": {
               "duration": 0,
               "easing": "linear"
              }
             }
            ],
            "label": "30",
            "method": "animate"
           },
           {
            "args": [
             [
              "31"
             ],
             {
              "frame": {
               "duration": 0,
               "redraw": true
              },
              "fromcurrent": true,
              "mode": "immediate",
              "transition": {
               "duration": 0,
               "easing": "linear"
              }
             }
            ],
            "label": "31",
            "method": "animate"
           },
           {
            "args": [
             [
              "32"
             ],
             {
              "frame": {
               "duration": 0,
               "redraw": true
              },
              "fromcurrent": true,
              "mode": "immediate",
              "transition": {
               "duration": 0,
               "easing": "linear"
              }
             }
            ],
            "label": "32",
            "method": "animate"
           },
           {
            "args": [
             [
              "33"
             ],
             {
              "frame": {
               "duration": 0,
               "redraw": true
              },
              "fromcurrent": true,
              "mode": "immediate",
              "transition": {
               "duration": 0,
               "easing": "linear"
              }
             }
            ],
            "label": "33",
            "method": "animate"
           },
           {
            "args": [
             [
              "34"
             ],
             {
              "frame": {
               "duration": 0,
               "redraw": true
              },
              "fromcurrent": true,
              "mode": "immediate",
              "transition": {
               "duration": 0,
               "easing": "linear"
              }
             }
            ],
            "label": "34",
            "method": "animate"
           },
           {
            "args": [
             [
              "35"
             ],
             {
              "frame": {
               "duration": 0,
               "redraw": true
              },
              "fromcurrent": true,
              "mode": "immediate",
              "transition": {
               "duration": 0,
               "easing": "linear"
              }
             }
            ],
            "label": "35",
            "method": "animate"
           },
           {
            "args": [
             [
              "36"
             ],
             {
              "frame": {
               "duration": 0,
               "redraw": true
              },
              "fromcurrent": true,
              "mode": "immediate",
              "transition": {
               "duration": 0,
               "easing": "linear"
              }
             }
            ],
            "label": "36",
            "method": "animate"
           },
           {
            "args": [
             [
              "37"
             ],
             {
              "frame": {
               "duration": 0,
               "redraw": true
              },
              "fromcurrent": true,
              "mode": "immediate",
              "transition": {
               "duration": 0,
               "easing": "linear"
              }
             }
            ],
            "label": "37",
            "method": "animate"
           },
           {
            "args": [
             [
              "38"
             ],
             {
              "frame": {
               "duration": 0,
               "redraw": true
              },
              "fromcurrent": true,
              "mode": "immediate",
              "transition": {
               "duration": 0,
               "easing": "linear"
              }
             }
            ],
            "label": "38",
            "method": "animate"
           },
           {
            "args": [
             [
              "39"
             ],
             {
              "frame": {
               "duration": 0,
               "redraw": true
              },
              "fromcurrent": true,
              "mode": "immediate",
              "transition": {
               "duration": 0,
               "easing": "linear"
              }
             }
            ],
            "label": "39",
            "method": "animate"
           },
           {
            "args": [
             [
              "40"
             ],
             {
              "frame": {
               "duration": 0,
               "redraw": true
              },
              "fromcurrent": true,
              "mode": "immediate",
              "transition": {
               "duration": 0,
               "easing": "linear"
              }
             }
            ],
            "label": "40",
            "method": "animate"
           },
           {
            "args": [
             [
              "41"
             ],
             {
              "frame": {
               "duration": 0,
               "redraw": true
              },
              "fromcurrent": true,
              "mode": "immediate",
              "transition": {
               "duration": 0,
               "easing": "linear"
              }
             }
            ],
            "label": "41",
            "method": "animate"
           },
           {
            "args": [
             [
              "42"
             ],
             {
              "frame": {
               "duration": 0,
               "redraw": true
              },
              "fromcurrent": true,
              "mode": "immediate",
              "transition": {
               "duration": 0,
               "easing": "linear"
              }
             }
            ],
            "label": "42",
            "method": "animate"
           },
           {
            "args": [
             [
              "43"
             ],
             {
              "frame": {
               "duration": 0,
               "redraw": true
              },
              "fromcurrent": true,
              "mode": "immediate",
              "transition": {
               "duration": 0,
               "easing": "linear"
              }
             }
            ],
            "label": "43",
            "method": "animate"
           },
           {
            "args": [
             [
              "44"
             ],
             {
              "frame": {
               "duration": 0,
               "redraw": true
              },
              "fromcurrent": true,
              "mode": "immediate",
              "transition": {
               "duration": 0,
               "easing": "linear"
              }
             }
            ],
            "label": "44",
            "method": "animate"
           },
           {
            "args": [
             [
              "45"
             ],
             {
              "frame": {
               "duration": 0,
               "redraw": true
              },
              "fromcurrent": true,
              "mode": "immediate",
              "transition": {
               "duration": 0,
               "easing": "linear"
              }
             }
            ],
            "label": "45",
            "method": "animate"
           },
           {
            "args": [
             [
              "46"
             ],
             {
              "frame": {
               "duration": 0,
               "redraw": true
              },
              "fromcurrent": true,
              "mode": "immediate",
              "transition": {
               "duration": 0,
               "easing": "linear"
              }
             }
            ],
            "label": "46",
            "method": "animate"
           },
           {
            "args": [
             [
              "47"
             ],
             {
              "frame": {
               "duration": 0,
               "redraw": true
              },
              "fromcurrent": true,
              "mode": "immediate",
              "transition": {
               "duration": 0,
               "easing": "linear"
              }
             }
            ],
            "label": "47",
            "method": "animate"
           },
           {
            "args": [
             [
              "48"
             ],
             {
              "frame": {
               "duration": 0,
               "redraw": true
              },
              "fromcurrent": true,
              "mode": "immediate",
              "transition": {
               "duration": 0,
               "easing": "linear"
              }
             }
            ],
            "label": "48",
            "method": "animate"
           },
           {
            "args": [
             [
              "49"
             ],
             {
              "frame": {
               "duration": 0,
               "redraw": true
              },
              "fromcurrent": true,
              "mode": "immediate",
              "transition": {
               "duration": 0,
               "easing": "linear"
              }
             }
            ],
            "label": "49",
            "method": "animate"
           },
           {
            "args": [
             [
              "50"
             ],
             {
              "frame": {
               "duration": 0,
               "redraw": true
              },
              "fromcurrent": true,
              "mode": "immediate",
              "transition": {
               "duration": 0,
               "easing": "linear"
              }
             }
            ],
            "label": "50",
            "method": "animate"
           },
           {
            "args": [
             [
              "51"
             ],
             {
              "frame": {
               "duration": 0,
               "redraw": true
              },
              "fromcurrent": true,
              "mode": "immediate",
              "transition": {
               "duration": 0,
               "easing": "linear"
              }
             }
            ],
            "label": "51",
            "method": "animate"
           },
           {
            "args": [
             [
              "52"
             ],
             {
              "frame": {
               "duration": 0,
               "redraw": true
              },
              "fromcurrent": true,
              "mode": "immediate",
              "transition": {
               "duration": 0,
               "easing": "linear"
              }
             }
            ],
            "label": "52",
            "method": "animate"
           },
           {
            "args": [
             [
              "53"
             ],
             {
              "frame": {
               "duration": 0,
               "redraw": true
              },
              "fromcurrent": true,
              "mode": "immediate",
              "transition": {
               "duration": 0,
               "easing": "linear"
              }
             }
            ],
            "label": "53",
            "method": "animate"
           },
           {
            "args": [
             [
              "54"
             ],
             {
              "frame": {
               "duration": 0,
               "redraw": true
              },
              "fromcurrent": true,
              "mode": "immediate",
              "transition": {
               "duration": 0,
               "easing": "linear"
              }
             }
            ],
            "label": "54",
            "method": "animate"
           },
           {
            "args": [
             [
              "55"
             ],
             {
              "frame": {
               "duration": 0,
               "redraw": true
              },
              "fromcurrent": true,
              "mode": "immediate",
              "transition": {
               "duration": 0,
               "easing": "linear"
              }
             }
            ],
            "label": "55",
            "method": "animate"
           },
           {
            "args": [
             [
              "56"
             ],
             {
              "frame": {
               "duration": 0,
               "redraw": true
              },
              "fromcurrent": true,
              "mode": "immediate",
              "transition": {
               "duration": 0,
               "easing": "linear"
              }
             }
            ],
            "label": "56",
            "method": "animate"
           },
           {
            "args": [
             [
              "57"
             ],
             {
              "frame": {
               "duration": 0,
               "redraw": true
              },
              "fromcurrent": true,
              "mode": "immediate",
              "transition": {
               "duration": 0,
               "easing": "linear"
              }
             }
            ],
            "label": "57",
            "method": "animate"
           },
           {
            "args": [
             [
              "58"
             ],
             {
              "frame": {
               "duration": 0,
               "redraw": true
              },
              "fromcurrent": true,
              "mode": "immediate",
              "transition": {
               "duration": 0,
               "easing": "linear"
              }
             }
            ],
            "label": "58",
            "method": "animate"
           },
           {
            "args": [
             [
              "59"
             ],
             {
              "frame": {
               "duration": 0,
               "redraw": true
              },
              "fromcurrent": true,
              "mode": "immediate",
              "transition": {
               "duration": 0,
               "easing": "linear"
              }
             }
            ],
            "label": "59",
            "method": "animate"
           },
           {
            "args": [
             [
              "60"
             ],
             {
              "frame": {
               "duration": 0,
               "redraw": true
              },
              "fromcurrent": true,
              "mode": "immediate",
              "transition": {
               "duration": 0,
               "easing": "linear"
              }
             }
            ],
            "label": "60",
            "method": "animate"
           },
           {
            "args": [
             [
              "61"
             ],
             {
              "frame": {
               "duration": 0,
               "redraw": true
              },
              "fromcurrent": true,
              "mode": "immediate",
              "transition": {
               "duration": 0,
               "easing": "linear"
              }
             }
            ],
            "label": "61",
            "method": "animate"
           },
           {
            "args": [
             [
              "62"
             ],
             {
              "frame": {
               "duration": 0,
               "redraw": true
              },
              "fromcurrent": true,
              "mode": "immediate",
              "transition": {
               "duration": 0,
               "easing": "linear"
              }
             }
            ],
            "label": "62",
            "method": "animate"
           },
           {
            "args": [
             [
              "63"
             ],
             {
              "frame": {
               "duration": 0,
               "redraw": true
              },
              "fromcurrent": true,
              "mode": "immediate",
              "transition": {
               "duration": 0,
               "easing": "linear"
              }
             }
            ],
            "label": "63",
            "method": "animate"
           },
           {
            "args": [
             [
              "64"
             ],
             {
              "frame": {
               "duration": 0,
               "redraw": true
              },
              "fromcurrent": true,
              "mode": "immediate",
              "transition": {
               "duration": 0,
               "easing": "linear"
              }
             }
            ],
            "label": "64",
            "method": "animate"
           },
           {
            "args": [
             [
              "65"
             ],
             {
              "frame": {
               "duration": 0,
               "redraw": true
              },
              "fromcurrent": true,
              "mode": "immediate",
              "transition": {
               "duration": 0,
               "easing": "linear"
              }
             }
            ],
            "label": "65",
            "method": "animate"
           },
           {
            "args": [
             [
              "66"
             ],
             {
              "frame": {
               "duration": 0,
               "redraw": true
              },
              "fromcurrent": true,
              "mode": "immediate",
              "transition": {
               "duration": 0,
               "easing": "linear"
              }
             }
            ],
            "label": "66",
            "method": "animate"
           },
           {
            "args": [
             [
              "67"
             ],
             {
              "frame": {
               "duration": 0,
               "redraw": true
              },
              "fromcurrent": true,
              "mode": "immediate",
              "transition": {
               "duration": 0,
               "easing": "linear"
              }
             }
            ],
            "label": "67",
            "method": "animate"
           },
           {
            "args": [
             [
              "68"
             ],
             {
              "frame": {
               "duration": 0,
               "redraw": true
              },
              "fromcurrent": true,
              "mode": "immediate",
              "transition": {
               "duration": 0,
               "easing": "linear"
              }
             }
            ],
            "label": "68",
            "method": "animate"
           },
           {
            "args": [
             [
              "69"
             ],
             {
              "frame": {
               "duration": 0,
               "redraw": true
              },
              "fromcurrent": true,
              "mode": "immediate",
              "transition": {
               "duration": 0,
               "easing": "linear"
              }
             }
            ],
            "label": "69",
            "method": "animate"
           },
           {
            "args": [
             [
              "70"
             ],
             {
              "frame": {
               "duration": 0,
               "redraw": true
              },
              "fromcurrent": true,
              "mode": "immediate",
              "transition": {
               "duration": 0,
               "easing": "linear"
              }
             }
            ],
            "label": "70",
            "method": "animate"
           },
           {
            "args": [
             [
              "71"
             ],
             {
              "frame": {
               "duration": 0,
               "redraw": true
              },
              "fromcurrent": true,
              "mode": "immediate",
              "transition": {
               "duration": 0,
               "easing": "linear"
              }
             }
            ],
            "label": "71",
            "method": "animate"
           },
           {
            "args": [
             [
              "72"
             ],
             {
              "frame": {
               "duration": 0,
               "redraw": true
              },
              "fromcurrent": true,
              "mode": "immediate",
              "transition": {
               "duration": 0,
               "easing": "linear"
              }
             }
            ],
            "label": "72",
            "method": "animate"
           },
           {
            "args": [
             [
              "73"
             ],
             {
              "frame": {
               "duration": 0,
               "redraw": true
              },
              "fromcurrent": true,
              "mode": "immediate",
              "transition": {
               "duration": 0,
               "easing": "linear"
              }
             }
            ],
            "label": "73",
            "method": "animate"
           },
           {
            "args": [
             [
              "74"
             ],
             {
              "frame": {
               "duration": 0,
               "redraw": true
              },
              "fromcurrent": true,
              "mode": "immediate",
              "transition": {
               "duration": 0,
               "easing": "linear"
              }
             }
            ],
            "label": "74",
            "method": "animate"
           },
           {
            "args": [
             [
              "75"
             ],
             {
              "frame": {
               "duration": 0,
               "redraw": true
              },
              "fromcurrent": true,
              "mode": "immediate",
              "transition": {
               "duration": 0,
               "easing": "linear"
              }
             }
            ],
            "label": "75",
            "method": "animate"
           },
           {
            "args": [
             [
              "76"
             ],
             {
              "frame": {
               "duration": 0,
               "redraw": true
              },
              "fromcurrent": true,
              "mode": "immediate",
              "transition": {
               "duration": 0,
               "easing": "linear"
              }
             }
            ],
            "label": "76",
            "method": "animate"
           },
           {
            "args": [
             [
              "77"
             ],
             {
              "frame": {
               "duration": 0,
               "redraw": true
              },
              "fromcurrent": true,
              "mode": "immediate",
              "transition": {
               "duration": 0,
               "easing": "linear"
              }
             }
            ],
            "label": "77",
            "method": "animate"
           },
           {
            "args": [
             [
              "78"
             ],
             {
              "frame": {
               "duration": 0,
               "redraw": true
              },
              "fromcurrent": true,
              "mode": "immediate",
              "transition": {
               "duration": 0,
               "easing": "linear"
              }
             }
            ],
            "label": "78",
            "method": "animate"
           },
           {
            "args": [
             [
              "79"
             ],
             {
              "frame": {
               "duration": 0,
               "redraw": true
              },
              "fromcurrent": true,
              "mode": "immediate",
              "transition": {
               "duration": 0,
               "easing": "linear"
              }
             }
            ],
            "label": "79",
            "method": "animate"
           },
           {
            "args": [
             [
              "80"
             ],
             {
              "frame": {
               "duration": 0,
               "redraw": true
              },
              "fromcurrent": true,
              "mode": "immediate",
              "transition": {
               "duration": 0,
               "easing": "linear"
              }
             }
            ],
            "label": "80",
            "method": "animate"
           },
           {
            "args": [
             [
              "81"
             ],
             {
              "frame": {
               "duration": 0,
               "redraw": true
              },
              "fromcurrent": true,
              "mode": "immediate",
              "transition": {
               "duration": 0,
               "easing": "linear"
              }
             }
            ],
            "label": "81",
            "method": "animate"
           },
           {
            "args": [
             [
              "82"
             ],
             {
              "frame": {
               "duration": 0,
               "redraw": true
              },
              "fromcurrent": true,
              "mode": "immediate",
              "transition": {
               "duration": 0,
               "easing": "linear"
              }
             }
            ],
            "label": "82",
            "method": "animate"
           },
           {
            "args": [
             [
              "83"
             ],
             {
              "frame": {
               "duration": 0,
               "redraw": true
              },
              "fromcurrent": true,
              "mode": "immediate",
              "transition": {
               "duration": 0,
               "easing": "linear"
              }
             }
            ],
            "label": "83",
            "method": "animate"
           },
           {
            "args": [
             [
              "84"
             ],
             {
              "frame": {
               "duration": 0,
               "redraw": true
              },
              "fromcurrent": true,
              "mode": "immediate",
              "transition": {
               "duration": 0,
               "easing": "linear"
              }
             }
            ],
            "label": "84",
            "method": "animate"
           },
           {
            "args": [
             [
              "85"
             ],
             {
              "frame": {
               "duration": 0,
               "redraw": true
              },
              "fromcurrent": true,
              "mode": "immediate",
              "transition": {
               "duration": 0,
               "easing": "linear"
              }
             }
            ],
            "label": "85",
            "method": "animate"
           },
           {
            "args": [
             [
              "86"
             ],
             {
              "frame": {
               "duration": 0,
               "redraw": true
              },
              "fromcurrent": true,
              "mode": "immediate",
              "transition": {
               "duration": 0,
               "easing": "linear"
              }
             }
            ],
            "label": "86",
            "method": "animate"
           },
           {
            "args": [
             [
              "87"
             ],
             {
              "frame": {
               "duration": 0,
               "redraw": true
              },
              "fromcurrent": true,
              "mode": "immediate",
              "transition": {
               "duration": 0,
               "easing": "linear"
              }
             }
            ],
            "label": "87",
            "method": "animate"
           },
           {
            "args": [
             [
              "88"
             ],
             {
              "frame": {
               "duration": 0,
               "redraw": true
              },
              "fromcurrent": true,
              "mode": "immediate",
              "transition": {
               "duration": 0,
               "easing": "linear"
              }
             }
            ],
            "label": "88",
            "method": "animate"
           },
           {
            "args": [
             [
              "89"
             ],
             {
              "frame": {
               "duration": 0,
               "redraw": true
              },
              "fromcurrent": true,
              "mode": "immediate",
              "transition": {
               "duration": 0,
               "easing": "linear"
              }
             }
            ],
            "label": "89",
            "method": "animate"
           },
           {
            "args": [
             [
              "90"
             ],
             {
              "frame": {
               "duration": 0,
               "redraw": true
              },
              "fromcurrent": true,
              "mode": "immediate",
              "transition": {
               "duration": 0,
               "easing": "linear"
              }
             }
            ],
            "label": "90",
            "method": "animate"
           },
           {
            "args": [
             [
              "91"
             ],
             {
              "frame": {
               "duration": 0,
               "redraw": true
              },
              "fromcurrent": true,
              "mode": "immediate",
              "transition": {
               "duration": 0,
               "easing": "linear"
              }
             }
            ],
            "label": "91",
            "method": "animate"
           },
           {
            "args": [
             [
              "92"
             ],
             {
              "frame": {
               "duration": 0,
               "redraw": true
              },
              "fromcurrent": true,
              "mode": "immediate",
              "transition": {
               "duration": 0,
               "easing": "linear"
              }
             }
            ],
            "label": "92",
            "method": "animate"
           },
           {
            "args": [
             [
              "93"
             ],
             {
              "frame": {
               "duration": 0,
               "redraw": true
              },
              "fromcurrent": true,
              "mode": "immediate",
              "transition": {
               "duration": 0,
               "easing": "linear"
              }
             }
            ],
            "label": "93",
            "method": "animate"
           },
           {
            "args": [
             [
              "94"
             ],
             {
              "frame": {
               "duration": 0,
               "redraw": true
              },
              "fromcurrent": true,
              "mode": "immediate",
              "transition": {
               "duration": 0,
               "easing": "linear"
              }
             }
            ],
            "label": "94",
            "method": "animate"
           },
           {
            "args": [
             [
              "95"
             ],
             {
              "frame": {
               "duration": 0,
               "redraw": true
              },
              "fromcurrent": true,
              "mode": "immediate",
              "transition": {
               "duration": 0,
               "easing": "linear"
              }
             }
            ],
            "label": "95",
            "method": "animate"
           },
           {
            "args": [
             [
              "96"
             ],
             {
              "frame": {
               "duration": 0,
               "redraw": true
              },
              "fromcurrent": true,
              "mode": "immediate",
              "transition": {
               "duration": 0,
               "easing": "linear"
              }
             }
            ],
            "label": "96",
            "method": "animate"
           },
           {
            "args": [
             [
              "97"
             ],
             {
              "frame": {
               "duration": 0,
               "redraw": true
              },
              "fromcurrent": true,
              "mode": "immediate",
              "transition": {
               "duration": 0,
               "easing": "linear"
              }
             }
            ],
            "label": "97",
            "method": "animate"
           },
           {
            "args": [
             [
              "98"
             ],
             {
              "frame": {
               "duration": 0,
               "redraw": true
              },
              "fromcurrent": true,
              "mode": "immediate",
              "transition": {
               "duration": 0,
               "easing": "linear"
              }
             }
            ],
            "label": "98",
            "method": "animate"
           },
           {
            "args": [
             [
              "99"
             ],
             {
              "frame": {
               "duration": 0,
               "redraw": true
              },
              "fromcurrent": true,
              "mode": "immediate",
              "transition": {
               "duration": 0,
               "easing": "linear"
              }
             }
            ],
            "label": "99",
            "method": "animate"
           },
           {
            "args": [
             [
              "100"
             ],
             {
              "frame": {
               "duration": 0,
               "redraw": true
              },
              "fromcurrent": true,
              "mode": "immediate",
              "transition": {
               "duration": 0,
               "easing": "linear"
              }
             }
            ],
            "label": "100",
            "method": "animate"
           },
           {
            "args": [
             [
              "101"
             ],
             {
              "frame": {
               "duration": 0,
               "redraw": true
              },
              "fromcurrent": true,
              "mode": "immediate",
              "transition": {
               "duration": 0,
               "easing": "linear"
              }
             }
            ],
            "label": "101",
            "method": "animate"
           },
           {
            "args": [
             [
              "102"
             ],
             {
              "frame": {
               "duration": 0,
               "redraw": true
              },
              "fromcurrent": true,
              "mode": "immediate",
              "transition": {
               "duration": 0,
               "easing": "linear"
              }
             }
            ],
            "label": "102",
            "method": "animate"
           },
           {
            "args": [
             [
              "103"
             ],
             {
              "frame": {
               "duration": 0,
               "redraw": true
              },
              "fromcurrent": true,
              "mode": "immediate",
              "transition": {
               "duration": 0,
               "easing": "linear"
              }
             }
            ],
            "label": "103",
            "method": "animate"
           },
           {
            "args": [
             [
              "104"
             ],
             {
              "frame": {
               "duration": 0,
               "redraw": true
              },
              "fromcurrent": true,
              "mode": "immediate",
              "transition": {
               "duration": 0,
               "easing": "linear"
              }
             }
            ],
            "label": "104",
            "method": "animate"
           },
           {
            "args": [
             [
              "105"
             ],
             {
              "frame": {
               "duration": 0,
               "redraw": true
              },
              "fromcurrent": true,
              "mode": "immediate",
              "transition": {
               "duration": 0,
               "easing": "linear"
              }
             }
            ],
            "label": "105",
            "method": "animate"
           },
           {
            "args": [
             [
              "106"
             ],
             {
              "frame": {
               "duration": 0,
               "redraw": true
              },
              "fromcurrent": true,
              "mode": "immediate",
              "transition": {
               "duration": 0,
               "easing": "linear"
              }
             }
            ],
            "label": "106",
            "method": "animate"
           },
           {
            "args": [
             [
              "107"
             ],
             {
              "frame": {
               "duration": 0,
               "redraw": true
              },
              "fromcurrent": true,
              "mode": "immediate",
              "transition": {
               "duration": 0,
               "easing": "linear"
              }
             }
            ],
            "label": "107",
            "method": "animate"
           },
           {
            "args": [
             [
              "108"
             ],
             {
              "frame": {
               "duration": 0,
               "redraw": true
              },
              "fromcurrent": true,
              "mode": "immediate",
              "transition": {
               "duration": 0,
               "easing": "linear"
              }
             }
            ],
            "label": "108",
            "method": "animate"
           },
           {
            "args": [
             [
              "109"
             ],
             {
              "frame": {
               "duration": 0,
               "redraw": true
              },
              "fromcurrent": true,
              "mode": "immediate",
              "transition": {
               "duration": 0,
               "easing": "linear"
              }
             }
            ],
            "label": "109",
            "method": "animate"
           },
           {
            "args": [
             [
              "110"
             ],
             {
              "frame": {
               "duration": 0,
               "redraw": true
              },
              "fromcurrent": true,
              "mode": "immediate",
              "transition": {
               "duration": 0,
               "easing": "linear"
              }
             }
            ],
            "label": "110",
            "method": "animate"
           },
           {
            "args": [
             [
              "111"
             ],
             {
              "frame": {
               "duration": 0,
               "redraw": true
              },
              "fromcurrent": true,
              "mode": "immediate",
              "transition": {
               "duration": 0,
               "easing": "linear"
              }
             }
            ],
            "label": "111",
            "method": "animate"
           },
           {
            "args": [
             [
              "112"
             ],
             {
              "frame": {
               "duration": 0,
               "redraw": true
              },
              "fromcurrent": true,
              "mode": "immediate",
              "transition": {
               "duration": 0,
               "easing": "linear"
              }
             }
            ],
            "label": "112",
            "method": "animate"
           },
           {
            "args": [
             [
              "113"
             ],
             {
              "frame": {
               "duration": 0,
               "redraw": true
              },
              "fromcurrent": true,
              "mode": "immediate",
              "transition": {
               "duration": 0,
               "easing": "linear"
              }
             }
            ],
            "label": "113",
            "method": "animate"
           },
           {
            "args": [
             [
              "114"
             ],
             {
              "frame": {
               "duration": 0,
               "redraw": true
              },
              "fromcurrent": true,
              "mode": "immediate",
              "transition": {
               "duration": 0,
               "easing": "linear"
              }
             }
            ],
            "label": "114",
            "method": "animate"
           },
           {
            "args": [
             [
              "115"
             ],
             {
              "frame": {
               "duration": 0,
               "redraw": true
              },
              "fromcurrent": true,
              "mode": "immediate",
              "transition": {
               "duration": 0,
               "easing": "linear"
              }
             }
            ],
            "label": "115",
            "method": "animate"
           },
           {
            "args": [
             [
              "116"
             ],
             {
              "frame": {
               "duration": 0,
               "redraw": true
              },
              "fromcurrent": true,
              "mode": "immediate",
              "transition": {
               "duration": 0,
               "easing": "linear"
              }
             }
            ],
            "label": "116",
            "method": "animate"
           },
           {
            "args": [
             [
              "117"
             ],
             {
              "frame": {
               "duration": 0,
               "redraw": true
              },
              "fromcurrent": true,
              "mode": "immediate",
              "transition": {
               "duration": 0,
               "easing": "linear"
              }
             }
            ],
            "label": "117",
            "method": "animate"
           },
           {
            "args": [
             [
              "118"
             ],
             {
              "frame": {
               "duration": 0,
               "redraw": true
              },
              "fromcurrent": true,
              "mode": "immediate",
              "transition": {
               "duration": 0,
               "easing": "linear"
              }
             }
            ],
            "label": "118",
            "method": "animate"
           },
           {
            "args": [
             [
              "119"
             ],
             {
              "frame": {
               "duration": 0,
               "redraw": true
              },
              "fromcurrent": true,
              "mode": "immediate",
              "transition": {
               "duration": 0,
               "easing": "linear"
              }
             }
            ],
            "label": "119",
            "method": "animate"
           },
           {
            "args": [
             [
              "120"
             ],
             {
              "frame": {
               "duration": 0,
               "redraw": true
              },
              "fromcurrent": true,
              "mode": "immediate",
              "transition": {
               "duration": 0,
               "easing": "linear"
              }
             }
            ],
            "label": "120",
            "method": "animate"
           },
           {
            "args": [
             [
              "121"
             ],
             {
              "frame": {
               "duration": 0,
               "redraw": true
              },
              "fromcurrent": true,
              "mode": "immediate",
              "transition": {
               "duration": 0,
               "easing": "linear"
              }
             }
            ],
            "label": "121",
            "method": "animate"
           },
           {
            "args": [
             [
              "122"
             ],
             {
              "frame": {
               "duration": 0,
               "redraw": true
              },
              "fromcurrent": true,
              "mode": "immediate",
              "transition": {
               "duration": 0,
               "easing": "linear"
              }
             }
            ],
            "label": "122",
            "method": "animate"
           },
           {
            "args": [
             [
              "123"
             ],
             {
              "frame": {
               "duration": 0,
               "redraw": true
              },
              "fromcurrent": true,
              "mode": "immediate",
              "transition": {
               "duration": 0,
               "easing": "linear"
              }
             }
            ],
            "label": "123",
            "method": "animate"
           },
           {
            "args": [
             [
              "124"
             ],
             {
              "frame": {
               "duration": 0,
               "redraw": true
              },
              "fromcurrent": true,
              "mode": "immediate",
              "transition": {
               "duration": 0,
               "easing": "linear"
              }
             }
            ],
            "label": "124",
            "method": "animate"
           },
           {
            "args": [
             [
              "125"
             ],
             {
              "frame": {
               "duration": 0,
               "redraw": true
              },
              "fromcurrent": true,
              "mode": "immediate",
              "transition": {
               "duration": 0,
               "easing": "linear"
              }
             }
            ],
            "label": "125",
            "method": "animate"
           },
           {
            "args": [
             [
              "126"
             ],
             {
              "frame": {
               "duration": 0,
               "redraw": true
              },
              "fromcurrent": true,
              "mode": "immediate",
              "transition": {
               "duration": 0,
               "easing": "linear"
              }
             }
            ],
            "label": "126",
            "method": "animate"
           },
           {
            "args": [
             [
              "127"
             ],
             {
              "frame": {
               "duration": 0,
               "redraw": true
              },
              "fromcurrent": true,
              "mode": "immediate",
              "transition": {
               "duration": 0,
               "easing": "linear"
              }
             }
            ],
            "label": "127",
            "method": "animate"
           },
           {
            "args": [
             [
              "128"
             ],
             {
              "frame": {
               "duration": 0,
               "redraw": true
              },
              "fromcurrent": true,
              "mode": "immediate",
              "transition": {
               "duration": 0,
               "easing": "linear"
              }
             }
            ],
            "label": "128",
            "method": "animate"
           },
           {
            "args": [
             [
              "129"
             ],
             {
              "frame": {
               "duration": 0,
               "redraw": true
              },
              "fromcurrent": true,
              "mode": "immediate",
              "transition": {
               "duration": 0,
               "easing": "linear"
              }
             }
            ],
            "label": "129",
            "method": "animate"
           },
           {
            "args": [
             [
              "130"
             ],
             {
              "frame": {
               "duration": 0,
               "redraw": true
              },
              "fromcurrent": true,
              "mode": "immediate",
              "transition": {
               "duration": 0,
               "easing": "linear"
              }
             }
            ],
            "label": "130",
            "method": "animate"
           },
           {
            "args": [
             [
              "131"
             ],
             {
              "frame": {
               "duration": 0,
               "redraw": true
              },
              "fromcurrent": true,
              "mode": "immediate",
              "transition": {
               "duration": 0,
               "easing": "linear"
              }
             }
            ],
            "label": "131",
            "method": "animate"
           },
           {
            "args": [
             [
              "132"
             ],
             {
              "frame": {
               "duration": 0,
               "redraw": true
              },
              "fromcurrent": true,
              "mode": "immediate",
              "transition": {
               "duration": 0,
               "easing": "linear"
              }
             }
            ],
            "label": "132",
            "method": "animate"
           },
           {
            "args": [
             [
              "133"
             ],
             {
              "frame": {
               "duration": 0,
               "redraw": true
              },
              "fromcurrent": true,
              "mode": "immediate",
              "transition": {
               "duration": 0,
               "easing": "linear"
              }
             }
            ],
            "label": "133",
            "method": "animate"
           },
           {
            "args": [
             [
              "134"
             ],
             {
              "frame": {
               "duration": 0,
               "redraw": true
              },
              "fromcurrent": true,
              "mode": "immediate",
              "transition": {
               "duration": 0,
               "easing": "linear"
              }
             }
            ],
            "label": "134",
            "method": "animate"
           },
           {
            "args": [
             [
              "135"
             ],
             {
              "frame": {
               "duration": 0,
               "redraw": true
              },
              "fromcurrent": true,
              "mode": "immediate",
              "transition": {
               "duration": 0,
               "easing": "linear"
              }
             }
            ],
            "label": "135",
            "method": "animate"
           },
           {
            "args": [
             [
              "136"
             ],
             {
              "frame": {
               "duration": 0,
               "redraw": true
              },
              "fromcurrent": true,
              "mode": "immediate",
              "transition": {
               "duration": 0,
               "easing": "linear"
              }
             }
            ],
            "label": "136",
            "method": "animate"
           },
           {
            "args": [
             [
              "137"
             ],
             {
              "frame": {
               "duration": 0,
               "redraw": true
              },
              "fromcurrent": true,
              "mode": "immediate",
              "transition": {
               "duration": 0,
               "easing": "linear"
              }
             }
            ],
            "label": "137",
            "method": "animate"
           },
           {
            "args": [
             [
              "138"
             ],
             {
              "frame": {
               "duration": 0,
               "redraw": true
              },
              "fromcurrent": true,
              "mode": "immediate",
              "transition": {
               "duration": 0,
               "easing": "linear"
              }
             }
            ],
            "label": "138",
            "method": "animate"
           },
           {
            "args": [
             [
              "139"
             ],
             {
              "frame": {
               "duration": 0,
               "redraw": true
              },
              "fromcurrent": true,
              "mode": "immediate",
              "transition": {
               "duration": 0,
               "easing": "linear"
              }
             }
            ],
            "label": "139",
            "method": "animate"
           },
           {
            "args": [
             [
              "140"
             ],
             {
              "frame": {
               "duration": 0,
               "redraw": true
              },
              "fromcurrent": true,
              "mode": "immediate",
              "transition": {
               "duration": 0,
               "easing": "linear"
              }
             }
            ],
            "label": "140",
            "method": "animate"
           },
           {
            "args": [
             [
              "141"
             ],
             {
              "frame": {
               "duration": 0,
               "redraw": true
              },
              "fromcurrent": true,
              "mode": "immediate",
              "transition": {
               "duration": 0,
               "easing": "linear"
              }
             }
            ],
            "label": "141",
            "method": "animate"
           },
           {
            "args": [
             [
              "142"
             ],
             {
              "frame": {
               "duration": 0,
               "redraw": true
              },
              "fromcurrent": true,
              "mode": "immediate",
              "transition": {
               "duration": 0,
               "easing": "linear"
              }
             }
            ],
            "label": "142",
            "method": "animate"
           },
           {
            "args": [
             [
              "143"
             ],
             {
              "frame": {
               "duration": 0,
               "redraw": true
              },
              "fromcurrent": true,
              "mode": "immediate",
              "transition": {
               "duration": 0,
               "easing": "linear"
              }
             }
            ],
            "label": "143",
            "method": "animate"
           },
           {
            "args": [
             [
              "144"
             ],
             {
              "frame": {
               "duration": 0,
               "redraw": true
              },
              "fromcurrent": true,
              "mode": "immediate",
              "transition": {
               "duration": 0,
               "easing": "linear"
              }
             }
            ],
            "label": "144",
            "method": "animate"
           },
           {
            "args": [
             [
              "145"
             ],
             {
              "frame": {
               "duration": 0,
               "redraw": true
              },
              "fromcurrent": true,
              "mode": "immediate",
              "transition": {
               "duration": 0,
               "easing": "linear"
              }
             }
            ],
            "label": "145",
            "method": "animate"
           },
           {
            "args": [
             [
              "146"
             ],
             {
              "frame": {
               "duration": 0,
               "redraw": true
              },
              "fromcurrent": true,
              "mode": "immediate",
              "transition": {
               "duration": 0,
               "easing": "linear"
              }
             }
            ],
            "label": "146",
            "method": "animate"
           },
           {
            "args": [
             [
              "147"
             ],
             {
              "frame": {
               "duration": 0,
               "redraw": true
              },
              "fromcurrent": true,
              "mode": "immediate",
              "transition": {
               "duration": 0,
               "easing": "linear"
              }
             }
            ],
            "label": "147",
            "method": "animate"
           },
           {
            "args": [
             [
              "148"
             ],
             {
              "frame": {
               "duration": 0,
               "redraw": true
              },
              "fromcurrent": true,
              "mode": "immediate",
              "transition": {
               "duration": 0,
               "easing": "linear"
              }
             }
            ],
            "label": "148",
            "method": "animate"
           },
           {
            "args": [
             [
              "149"
             ],
             {
              "frame": {
               "duration": 0,
               "redraw": true
              },
              "fromcurrent": true,
              "mode": "immediate",
              "transition": {
               "duration": 0,
               "easing": "linear"
              }
             }
            ],
            "label": "149",
            "method": "animate"
           }
          ],
          "x": 0.1,
          "xanchor": "left",
          "y": 0,
          "yanchor": "top"
         }
        ],
        "template": {
         "data": {
          "bar": [
           {
            "error_x": {
             "color": "#2a3f5f"
            },
            "error_y": {
             "color": "#2a3f5f"
            },
            "marker": {
             "line": {
              "color": "#E5ECF6",
              "width": 0.5
             },
             "pattern": {
              "fillmode": "overlay",
              "size": 10,
              "solidity": 0.2
             }
            },
            "type": "bar"
           }
          ],
          "barpolar": [
           {
            "marker": {
             "line": {
              "color": "#E5ECF6",
              "width": 0.5
             },
             "pattern": {
              "fillmode": "overlay",
              "size": 10,
              "solidity": 0.2
             }
            },
            "type": "barpolar"
           }
          ],
          "carpet": [
           {
            "aaxis": {
             "endlinecolor": "#2a3f5f",
             "gridcolor": "white",
             "linecolor": "white",
             "minorgridcolor": "white",
             "startlinecolor": "#2a3f5f"
            },
            "baxis": {
             "endlinecolor": "#2a3f5f",
             "gridcolor": "white",
             "linecolor": "white",
             "minorgridcolor": "white",
             "startlinecolor": "#2a3f5f"
            },
            "type": "carpet"
           }
          ],
          "choropleth": [
           {
            "colorbar": {
             "outlinewidth": 0,
             "ticks": ""
            },
            "type": "choropleth"
           }
          ],
          "contour": [
           {
            "colorbar": {
             "outlinewidth": 0,
             "ticks": ""
            },
            "colorscale": [
             [
              0,
              "#0d0887"
             ],
             [
              0.1111111111111111,
              "#46039f"
             ],
             [
              0.2222222222222222,
              "#7201a8"
             ],
             [
              0.3333333333333333,
              "#9c179e"
             ],
             [
              0.4444444444444444,
              "#bd3786"
             ],
             [
              0.5555555555555556,
              "#d8576b"
             ],
             [
              0.6666666666666666,
              "#ed7953"
             ],
             [
              0.7777777777777778,
              "#fb9f3a"
             ],
             [
              0.8888888888888888,
              "#fdca26"
             ],
             [
              1,
              "#f0f921"
             ]
            ],
            "type": "contour"
           }
          ],
          "contourcarpet": [
           {
            "colorbar": {
             "outlinewidth": 0,
             "ticks": ""
            },
            "type": "contourcarpet"
           }
          ],
          "heatmap": [
           {
            "colorbar": {
             "outlinewidth": 0,
             "ticks": ""
            },
            "colorscale": [
             [
              0,
              "#0d0887"
             ],
             [
              0.1111111111111111,
              "#46039f"
             ],
             [
              0.2222222222222222,
              "#7201a8"
             ],
             [
              0.3333333333333333,
              "#9c179e"
             ],
             [
              0.4444444444444444,
              "#bd3786"
             ],
             [
              0.5555555555555556,
              "#d8576b"
             ],
             [
              0.6666666666666666,
              "#ed7953"
             ],
             [
              0.7777777777777778,
              "#fb9f3a"
             ],
             [
              0.8888888888888888,
              "#fdca26"
             ],
             [
              1,
              "#f0f921"
             ]
            ],
            "type": "heatmap"
           }
          ],
          "heatmapgl": [
           {
            "colorbar": {
             "outlinewidth": 0,
             "ticks": ""
            },
            "colorscale": [
             [
              0,
              "#0d0887"
             ],
             [
              0.1111111111111111,
              "#46039f"
             ],
             [
              0.2222222222222222,
              "#7201a8"
             ],
             [
              0.3333333333333333,
              "#9c179e"
             ],
             [
              0.4444444444444444,
              "#bd3786"
             ],
             [
              0.5555555555555556,
              "#d8576b"
             ],
             [
              0.6666666666666666,
              "#ed7953"
             ],
             [
              0.7777777777777778,
              "#fb9f3a"
             ],
             [
              0.8888888888888888,
              "#fdca26"
             ],
             [
              1,
              "#f0f921"
             ]
            ],
            "type": "heatmapgl"
           }
          ],
          "histogram": [
           {
            "marker": {
             "pattern": {
              "fillmode": "overlay",
              "size": 10,
              "solidity": 0.2
             }
            },
            "type": "histogram"
           }
          ],
          "histogram2d": [
           {
            "colorbar": {
             "outlinewidth": 0,
             "ticks": ""
            },
            "colorscale": [
             [
              0,
              "#0d0887"
             ],
             [
              0.1111111111111111,
              "#46039f"
             ],
             [
              0.2222222222222222,
              "#7201a8"
             ],
             [
              0.3333333333333333,
              "#9c179e"
             ],
             [
              0.4444444444444444,
              "#bd3786"
             ],
             [
              0.5555555555555556,
              "#d8576b"
             ],
             [
              0.6666666666666666,
              "#ed7953"
             ],
             [
              0.7777777777777778,
              "#fb9f3a"
             ],
             [
              0.8888888888888888,
              "#fdca26"
             ],
             [
              1,
              "#f0f921"
             ]
            ],
            "type": "histogram2d"
           }
          ],
          "histogram2dcontour": [
           {
            "colorbar": {
             "outlinewidth": 0,
             "ticks": ""
            },
            "colorscale": [
             [
              0,
              "#0d0887"
             ],
             [
              0.1111111111111111,
              "#46039f"
             ],
             [
              0.2222222222222222,
              "#7201a8"
             ],
             [
              0.3333333333333333,
              "#9c179e"
             ],
             [
              0.4444444444444444,
              "#bd3786"
             ],
             [
              0.5555555555555556,
              "#d8576b"
             ],
             [
              0.6666666666666666,
              "#ed7953"
             ],
             [
              0.7777777777777778,
              "#fb9f3a"
             ],
             [
              0.8888888888888888,
              "#fdca26"
             ],
             [
              1,
              "#f0f921"
             ]
            ],
            "type": "histogram2dcontour"
           }
          ],
          "mesh3d": [
           {
            "colorbar": {
             "outlinewidth": 0,
             "ticks": ""
            },
            "type": "mesh3d"
           }
          ],
          "parcoords": [
           {
            "line": {
             "colorbar": {
              "outlinewidth": 0,
              "ticks": ""
             }
            },
            "type": "parcoords"
           }
          ],
          "pie": [
           {
            "automargin": true,
            "type": "pie"
           }
          ],
          "scatter": [
           {
            "fillpattern": {
             "fillmode": "overlay",
             "size": 10,
             "solidity": 0.2
            },
            "type": "scatter"
           }
          ],
          "scatter3d": [
           {
            "line": {
             "colorbar": {
              "outlinewidth": 0,
              "ticks": ""
             }
            },
            "marker": {
             "colorbar": {
              "outlinewidth": 0,
              "ticks": ""
             }
            },
            "type": "scatter3d"
           }
          ],
          "scattercarpet": [
           {
            "marker": {
             "colorbar": {
              "outlinewidth": 0,
              "ticks": ""
             }
            },
            "type": "scattercarpet"
           }
          ],
          "scattergeo": [
           {
            "marker": {
             "colorbar": {
              "outlinewidth": 0,
              "ticks": ""
             }
            },
            "type": "scattergeo"
           }
          ],
          "scattergl": [
           {
            "marker": {
             "colorbar": {
              "outlinewidth": 0,
              "ticks": ""
             }
            },
            "type": "scattergl"
           }
          ],
          "scattermapbox": [
           {
            "marker": {
             "colorbar": {
              "outlinewidth": 0,
              "ticks": ""
             }
            },
            "type": "scattermapbox"
           }
          ],
          "scatterpolar": [
           {
            "marker": {
             "colorbar": {
              "outlinewidth": 0,
              "ticks": ""
             }
            },
            "type": "scatterpolar"
           }
          ],
          "scatterpolargl": [
           {
            "marker": {
             "colorbar": {
              "outlinewidth": 0,
              "ticks": ""
             }
            },
            "type": "scatterpolargl"
           }
          ],
          "scatterternary": [
           {
            "marker": {
             "colorbar": {
              "outlinewidth": 0,
              "ticks": ""
             }
            },
            "type": "scatterternary"
           }
          ],
          "surface": [
           {
            "colorbar": {
             "outlinewidth": 0,
             "ticks": ""
            },
            "colorscale": [
             [
              0,
              "#0d0887"
             ],
             [
              0.1111111111111111,
              "#46039f"
             ],
             [
              0.2222222222222222,
              "#7201a8"
             ],
             [
              0.3333333333333333,
              "#9c179e"
             ],
             [
              0.4444444444444444,
              "#bd3786"
             ],
             [
              0.5555555555555556,
              "#d8576b"
             ],
             [
              0.6666666666666666,
              "#ed7953"
             ],
             [
              0.7777777777777778,
              "#fb9f3a"
             ],
             [
              0.8888888888888888,
              "#fdca26"
             ],
             [
              1,
              "#f0f921"
             ]
            ],
            "type": "surface"
           }
          ],
          "table": [
           {
            "cells": {
             "fill": {
              "color": "#EBF0F8"
             },
             "line": {
              "color": "white"
             }
            },
            "header": {
             "fill": {
              "color": "#C8D4E3"
             },
             "line": {
              "color": "white"
             }
            },
            "type": "table"
           }
          ]
         },
         "layout": {
          "annotationdefaults": {
           "arrowcolor": "#2a3f5f",
           "arrowhead": 0,
           "arrowwidth": 1
          },
          "autotypenumbers": "strict",
          "coloraxis": {
           "colorbar": {
            "outlinewidth": 0,
            "ticks": ""
           }
          },
          "colorscale": {
           "diverging": [
            [
             0,
             "#8e0152"
            ],
            [
             0.1,
             "#c51b7d"
            ],
            [
             0.2,
             "#de77ae"
            ],
            [
             0.3,
             "#f1b6da"
            ],
            [
             0.4,
             "#fde0ef"
            ],
            [
             0.5,
             "#f7f7f7"
            ],
            [
             0.6,
             "#e6f5d0"
            ],
            [
             0.7,
             "#b8e186"
            ],
            [
             0.8,
             "#7fbc41"
            ],
            [
             0.9,
             "#4d9221"
            ],
            [
             1,
             "#276419"
            ]
           ],
           "sequential": [
            [
             0,
             "#0d0887"
            ],
            [
             0.1111111111111111,
             "#46039f"
            ],
            [
             0.2222222222222222,
             "#7201a8"
            ],
            [
             0.3333333333333333,
             "#9c179e"
            ],
            [
             0.4444444444444444,
             "#bd3786"
            ],
            [
             0.5555555555555556,
             "#d8576b"
            ],
            [
             0.6666666666666666,
             "#ed7953"
            ],
            [
             0.7777777777777778,
             "#fb9f3a"
            ],
            [
             0.8888888888888888,
             "#fdca26"
            ],
            [
             1,
             "#f0f921"
            ]
           ],
           "sequentialminus": [
            [
             0,
             "#0d0887"
            ],
            [
             0.1111111111111111,
             "#46039f"
            ],
            [
             0.2222222222222222,
             "#7201a8"
            ],
            [
             0.3333333333333333,
             "#9c179e"
            ],
            [
             0.4444444444444444,
             "#bd3786"
            ],
            [
             0.5555555555555556,
             "#d8576b"
            ],
            [
             0.6666666666666666,
             "#ed7953"
            ],
            [
             0.7777777777777778,
             "#fb9f3a"
            ],
            [
             0.8888888888888888,
             "#fdca26"
            ],
            [
             1,
             "#f0f921"
            ]
           ]
          },
          "colorway": [
           "#636efa",
           "#EF553B",
           "#00cc96",
           "#ab63fa",
           "#FFA15A",
           "#19d3f3",
           "#FF6692",
           "#B6E880",
           "#FF97FF",
           "#FECB52"
          ],
          "font": {
           "color": "#2a3f5f"
          },
          "geo": {
           "bgcolor": "white",
           "lakecolor": "white",
           "landcolor": "#E5ECF6",
           "showlakes": true,
           "showland": true,
           "subunitcolor": "white"
          },
          "hoverlabel": {
           "align": "left"
          },
          "hovermode": "closest",
          "mapbox": {
           "style": "light"
          },
          "paper_bgcolor": "white",
          "plot_bgcolor": "#E5ECF6",
          "polar": {
           "angularaxis": {
            "gridcolor": "white",
            "linecolor": "white",
            "ticks": ""
           },
           "bgcolor": "#E5ECF6",
           "radialaxis": {
            "gridcolor": "white",
            "linecolor": "white",
            "ticks": ""
           }
          },
          "scene": {
           "xaxis": {
            "backgroundcolor": "#E5ECF6",
            "gridcolor": "white",
            "gridwidth": 2,
            "linecolor": "white",
            "showbackground": true,
            "ticks": "",
            "zerolinecolor": "white"
           },
           "yaxis": {
            "backgroundcolor": "#E5ECF6",
            "gridcolor": "white",
            "gridwidth": 2,
            "linecolor": "white",
            "showbackground": true,
            "ticks": "",
            "zerolinecolor": "white"
           },
           "zaxis": {
            "backgroundcolor": "#E5ECF6",
            "gridcolor": "white",
            "gridwidth": 2,
            "linecolor": "white",
            "showbackground": true,
            "ticks": "",
            "zerolinecolor": "white"
           }
          },
          "shapedefaults": {
           "line": {
            "color": "#2a3f5f"
           }
          },
          "ternary": {
           "aaxis": {
            "gridcolor": "white",
            "linecolor": "white",
            "ticks": ""
           },
           "baxis": {
            "gridcolor": "white",
            "linecolor": "white",
            "ticks": ""
           },
           "bgcolor": "#E5ECF6",
           "caxis": {
            "gridcolor": "white",
            "linecolor": "white",
            "ticks": ""
           }
          },
          "title": {
           "x": 0.05
          },
          "xaxis": {
           "automargin": true,
           "gridcolor": "white",
           "linecolor": "white",
           "ticks": "",
           "title": {
            "standoff": 15
           },
           "zerolinecolor": "white",
           "zerolinewidth": 2
          },
          "yaxis": {
           "automargin": true,
           "gridcolor": "white",
           "linecolor": "white",
           "ticks": "",
           "title": {
            "standoff": 15
           },
           "zerolinecolor": "white",
           "zerolinewidth": 2
          }
         }
        },
        "title": {
         "text": "Aerosol Concentration Changes Following a Cough  High-Fan-Speed",
         "x": 0.43
        },
        "updatemenus": [
         {
          "buttons": [
           {
            "args": [
             null,
             {
              "frame": {
               "duration": 500,
               "redraw": true
              },
              "fromcurrent": true,
              "mode": "immediate",
              "transition": {
               "duration": 500,
               "easing": "linear"
              }
             }
            ],
            "label": "&#9654;",
            "method": "animate"
           },
           {
            "args": [
             [
              null
             ],
             {
              "frame": {
               "duration": 0,
               "redraw": true
              },
              "fromcurrent": true,
              "mode": "immediate",
              "transition": {
               "duration": 0,
               "easing": "linear"
              }
             }
            ],
            "label": "&#9724;",
            "method": "animate"
           }
          ],
          "direction": "left",
          "pad": {
           "r": 10,
           "t": 70
          },
          "showactive": false,
          "type": "buttons",
          "x": 0.1,
          "xanchor": "right",
          "y": 0,
          "yanchor": "top"
         }
        ],
        "width": 750
       }
      }
     },
     "metadata": {},
     "output_type": "display_data"
    }
   ],
   "source": [
    "file_paths = [f for f in glob.glob('data/pm_data/feb27-high/*.edf')]\n",
    "plot_3d(file_paths, plot_col = 'MassConc_2p5',start_ts = 250, end_ts =400)"
   ]
  },
  {
   "cell_type": "code",
   "execution_count": 5,
   "metadata": {},
   "outputs": [
    {
     "name": "stdout",
     "output_type": "stream",
     "text": [
      "['MassConc_2p5_SPS3x_1837FE6A6AD70C29', 'MassConc_2p5_SPS3x_DA8590A0DD5EC12B', 'MassConc_2p5_SPS3x_033EBECC09FAA564', 'MassConc_2p5_SPS3x_38869427C2B44E7E', 'MassConc_2p5_SPS3x_BC5F2E8BD0E9B21D', 'MassConc_2p5_SPS3x_124BF175470BC117']\n",
      "['front-desk', 'back corner/exhaust', 'back', 'front-tripod', 'front corner', 'door']\n",
      "['MassConc_2p5_SPS3x_1837FE6A6AD70C29', 'MassConc_2p5_SPS3x_DA8590A0DD5EC12B', 'MassConc_2p5_SPS3x_033EBECC09FAA564', 'MassConc_2p5_SPS3x_38869427C2B44E7E', 'MassConc_2p5_SPS3x_BC5F2E8BD0E9B21D', 'MassConc_2p5_SPS3x_124BF175470BC117']\n",
      "['front-desk', 'back corner/exhaust', 'back', 'front-tripod', 'front corner', 'door']\n",
      "['MassConc_2p5_SPS3x_1837FE6A6AD70C29', 'MassConc_2p5_SPS3x_DA8590A0DD5EC12B', 'MassConc_2p5_SPS3x_033EBECC09FAA564', 'MassConc_2p5_SPS3x_38869427C2B44E7E', 'MassConc_2p5_SPS3x_BC5F2E8BD0E9B21D', 'MassConc_2p5_SPS3x_124BF175470BC117']\n",
      "['front-desk', 'back corner/exhaust', 'back', 'front-tripod', 'front corner', 'door']\n"
     ]
    },
    {
     "data": {
      "image/png": "[encoded data removed]",
      "text/plain": [
       "<Figure size 576x360 with 3 Axes>"
      ]
     },
     "metadata": {},
     "output_type": "display_data"
    }
   ],
   "source": [
    "data_list = [ {'df': df_high, 'timestamp':215, 'interval':245, 'label': 'High Speed'},\n",
    "             #{'df': df_med, 'timestamp':30, 'interval':250, 'label': 'Medium Speed'},\n",
    "              {'df': df_low, 'timestamp':300, 'interval':250, 'label': 'Low Speed'},\n",
    "               {'df': df_noac, 'timestamp':50, 'interval':300, 'label': 'Ac Off'},]\n",
    "\n",
    "plot_events_subplot(data_list)"
   ]
  },
  {
   "cell_type": "code",
   "execution_count": 15,
   "metadata": {},
   "outputs": [
    {
     "data": {
      "application/vnd.plotly.v1+json": {
       "config": {
        "plotlyServerURL": "https://plot.ly"
       },
       "data": [
        {
         "name": "front-desk",
         "type": "scatter",
         "x": [
          0,
          1,
          2,
          3,
          4,
          5,
          6,
          7,
          8,
          9,
          10,
          11,
          12,
          13,
          14,
          15,
          16,
          17,
          18,
          19,
          20,
          21,
          22,
          23,
          24,
          25,
          26,
          27,
          28,
          29,
          30,
          31,
          32,
          33,
          34,
          35,
          36,
          37,
          38,
          39,
          40,
          41,
          42,
          43,
          44,
          45,
          46,
          47,
          48,
          49,
          50,
          51,
          52,
          53,
          54,
          55,
          56,
          57,
          58,
          59,
          60,
          61,
          62,
          63,
          64,
          65,
          66,
          67,
          68,
          69,
          70,
          71,
          72,
          73,
          74,
          75,
          76,
          77,
          78,
          79,
          80,
          81,
          82,
          83,
          84,
          85,
          86,
          87,
          88,
          89,
          90,
          91,
          92,
          93,
          94,
          95,
          96,
          97,
          98,
          99,
          100,
          101,
          102,
          103,
          104,
          105,
          106,
          107,
          108,
          109,
          110,
          111,
          112,
          113,
          114,
          115,
          116,
          117,
          118,
          119,
          120,
          121,
          122,
          123,
          124,
          125,
          126,
          127,
          128,
          129,
          130,
          131,
          132,
          133,
          134,
          135,
          136,
          137,
          138,
          139,
          140,
          141,
          142,
          143,
          144,
          145,
          146,
          147,
          148,
          149,
          150,
          151,
          152,
          153,
          154,
          155,
          156,
          157,
          158,
          159,
          160,
          161,
          162,
          163,
          164,
          165,
          166,
          167,
          168,
          169,
          170,
          171,
          172,
          173,
          174,
          175,
          176,
          177,
          178,
          179,
          180,
          181,
          182,
          183,
          184,
          185,
          186,
          187,
          188,
          189,
          190,
          191,
          192,
          193,
          194,
          195,
          196,
          197,
          198,
          199
         ],
         "y": [
          1.111612,
          1.102396,
          1.083838,
          1.057913,
          1.062381,
          1.055316,
          1.051013,
          1.048929,
          1.06049,
          1.059161,
          1.059363,
          1.060849,
          1.051374,
          1.033128,
          1.007972,
          0.977478,
          0.954777,
          0.926795,
          0.906626,
          0.892968,
          0.872905,
          0.84787,
          0.819067,
          0.787508,
          0.7659,
          0.740701,
          0.736697,
          0.749654,
          0.752585,
          0.759267,
          0.79264,
          0.811684,
          0.932671,
          1.01597,
          1.07533,
          1.120576,
          1.181304,
          1.254136,
          1.323752,
          1.37835,
          1.462992,
          1.468602,
          1.469888,
          1.491387,
          1.493717,
          1.527622,
          1.551177,
          1.554574,
          1.553608,
          1.537193,
          1.508445,
          3.567554,
          92.820793,
          200.760956,
          326.884857,
          357.808838,
          344.291809,
          272.691803,
          213.219955,
          213.219955,
          128.983673,
          103.370522,
          81.09272,
          64.952698,
          52.485756,
          44.549683,
          36.310497,
          30.565842,
          26.366585,
          22.022474,
          20.013649,
          19.35848,
          19.35848,
          23.409903,
          23.989914,
          25.607334,
          25.592505,
          25.658659,
          25.68865,
          25.575012,
          25.410484,
          25.076109,
          24.774874,
          24.402905,
          23.954252,
          23.445309,
          22.747084,
          22.167803,
          21.59573,
          21.17313,
          20.728006,
          20.219,
          19.627546,
          19.218861,
          18.765333,
          18.295168,
          17.925606,
          17.52565,
          17.070038,
          16.698236,
          16.331615,
          15.879813,
          15.475031,
          14.980358,
          14.53853,
          14.173457,
          13.825934,
          13.480243,
          13.144156,
          12.816803,
          12.48899,
          12.180335,
          11.849102,
          11.52814,
          11.293047,
          11.036852,
          10.764442,
          10.495079,
          10.148425,
          9.820683,
          9.489752,
          9.229683,
          8.970055,
          8.722,
          8.454264,
          8.177713,
          7.895202,
          7.598601,
          7.325827,
          7.054096,
          6.80748,
          6.551317,
          6.324342,
          6.099805,
          5.912675,
          5.734786,
          5.602225,
          5.48336,
          5.365796,
          5.283343,
          5.186528,
          5.05681,
          4.946087,
          4.838721,
          4.703646,
          4.557915,
          4.405715,
          4.260131,
          4.111418,
          3.94998,
          3.802592,
          3.656583,
          3.535911,
          3.403007,
          3.283815,
          3.177852,
          3.093506,
          2.994469,
          2.906045,
          2.872679,
          2.83911,
          2.783657,
          2.74472,
          2.708341,
          2.673614,
          2.618805,
          2.548268,
          2.476562,
          2.393723,
          2.302694,
          2.205939,
          2.127354,
          2.042394,
          1.953126,
          1.861265,
          1.768227,
          1.686602,
          1.603618,
          1.554171,
          1.498598,
          1.438617,
          1.37566,
          1.322029,
          1.298961,
          1.267301,
          1.228998,
          1.185692,
          1.160931,
          1.151982,
          1.155338,
          1.157544,
          1.147732,
          1.141689,
          1.122923,
          1.107608,
          1.084116,
          1.054237,
          1.052705,
          1.052041,
          1.040931
         ]
        },
        {
         "name": "back corner/exhaust",
         "type": "scatter",
         "x": [
          0,
          1,
          2,
          3,
          4,
          5,
          6,
          7,
          8,
          9,
          10,
          11,
          12,
          13,
          14,
          15,
          16,
          17,
          18,
          19,
          20,
          21,
          22,
          23,
          24,
          25,
          26,
          27,
          28,
          29,
          30,
          31,
          32,
          33,
          34,
          35,
          36,
          37,
          38,
          39,
          40,
          41,
          42,
          43,
          44,
          45,
          46,
          47,
          48,
          49,
          50,
          51,
          52,
          53,
          54,
          55,
          56,
          57,
          58,
          59,
          60,
          61,
          62,
          63,
          64,
          65,
          66,
          67,
          68,
          69,
          70,
          71,
          72,
          73,
          74,
          75,
          76,
          77,
          78,
          79,
          80,
          81,
          82,
          83,
          84,
          85,
          86,
          87,
          88,
          89,
          90,
          91,
          92,
          93,
          94,
          95,
          96,
          97,
          98,
          99,
          100,
          101,
          102,
          103,
          104,
          105,
          106,
          107,
          108,
          109,
          110,
          111,
          112,
          113,
          114,
          115,
          116,
          117,
          118,
          119,
          120,
          121,
          122,
          123,
          124,
          125,
          126,
          127,
          128,
          129,
          130,
          131,
          132,
          133,
          134,
          135,
          136,
          137,
          138,
          139,
          140,
          141,
          142,
          143,
          144,
          145,
          146,
          147,
          148,
          149,
          150,
          151,
          152,
          153,
          154,
          155,
          156,
          157,
          158,
          159,
          160,
          161,
          162,
          163,
          164,
          165,
          166,
          167,
          168,
          169,
          170,
          171,
          172,
          173,
          174,
          175,
          176,
          177,
          178,
          179,
          180,
          181,
          182,
          183,
          184,
          185,
          186,
          187,
          188,
          189,
          190,
          191,
          192,
          193,
          194,
          195,
          196,
          197,
          198,
          199
         ],
         "y": [
          0.646486,
          0.623262,
          0.598227,
          0.581534,
          0.581077,
          0.574902,
          0.592784,
          0.601377,
          0.602354,
          0.597148,
          0.606047,
          0.626167,
          0.636228,
          0.638039,
          0.633143,
          0.63246,
          0.625608,
          0.613824,
          0.598159,
          0.588972,
          0.575651,
          0.568717,
          0.557432,
          0.561729,
          0.569122,
          0.578906,
          0.609839,
          0.628836,
          0.647598,
          0.675431,
          0.700798,
          0.714376,
          0.718264,
          0.714257,
          0.713548,
          0.734536,
          0.753779,
          0.761865,
          0.779871,
          0.786674,
          0.782553,
          0.77656,
          0.763952,
          0.746107,
          0.743567,
          0.743622,
          1.723246,
          2.291611,
          6.638829,
          13.746178,
          13.768786,
          11.630052,
          9.996046,
          8.490986,
          6.389121,
          5.765901,
          5.434619,
          5.911078,
          26.660692,
          35.087284,
          42.931488,
          46.208218,
          48.774158,
          56.627178,
          60.855968,
          62.088051,
          62.438564,
          61.522621,
          60.109531,
          58.344616,
          56.365871,
          52.337044,
          52.337044,
          46.400356,
          42.334045,
          39.57019,
          37.07756,
          34.775879,
          32.737949,
          31.017025,
          28.622202,
          26.127741,
          24.350889,
          22.482491,
          20.679926,
          19.514063,
          18.837015,
          18.403194,
          18.006409,
          17.643671,
          17.207966,
          16.791321,
          16.498615,
          16.230043,
          15.949733,
          15.631025,
          15.285083,
          14.9004,
          14.540709,
          14.172629,
          13.804863,
          13.424744,
          13.123591,
          12.782623,
          12.476178,
          12.167988,
          11.905061,
          11.608626,
          11.300176,
          11.019293,
          10.765575,
          10.553981,
          10.326313,
          10.077699,
          9.802186,
          9.54929,
          9.322656,
          9.122811,
          8.882343,
          8.646033,
          8.400094,
          8.164655,
          7.915777,
          7.681829,
          7.463075,
          7.269504,
          7.040789,
          6.809664,
          6.601003,
          6.390509,
          6.1915,
          5.979685,
          5.784467,
          5.591839,
          5.415064,
          5.263517,
          5.122673,
          4.980338,
          4.826392,
          4.687932,
          4.541344,
          4.424102,
          4.285063,
          4.202447,
          4.117151,
          4.018841,
          3.956581,
          3.913734,
          3.863147,
          3.744666,
          3.681938,
          3.606005,
          3.520356,
          3.450984,
          3.407958,
          3.35045,
          3.282323,
          3.194428,
          3.103235,
          3.009731,
          2.950515,
          2.873069,
          2.793275,
          2.70072,
          2.610905,
          2.523926,
          2.440412,
          2.360108,
          2.283641,
          2.233566,
          2.170709,
          2.109583,
          2.03898,
          1.973241,
          1.911762,
          1.854888,
          1.813839,
          1.786004,
          1.768652,
          1.74862,
          1.73791,
          1.758969,
          1.758374,
          1.740258,
          1.708139,
          1.677011,
          1.635024,
          1.584659,
          1.551337,
          1.532138,
          1.501231,
          1.461157,
          1.414063,
          1.373295,
          1.326506,
          1.286856,
          1.253528,
          1.225711,
          1.202549,
          1.18326
         ]
        },
        {
         "name": "back",
         "type": "scatter",
         "x": [
          0,
          1,
          2,
          3,
          4,
          5,
          6,
          7,
          8,
          9,
          10,
          11,
          12,
          13,
          14,
          15,
          16,
          17,
          18,
          19,
          20,
          21,
          22,
          23,
          24,
          25,
          26,
          27,
          28,
          29,
          30,
          31,
          32,
          33,
          34,
          35,
          36,
          37,
          38,
          39,
          40,
          41,
          42,
          43,
          44,
          45,
          46,
          47,
          48,
          49,
          50,
          51,
          52,
          53,
          54,
          55,
          56,
          57,
          58,
          59,
          60,
          61,
          62,
          63,
          64,
          65,
          66,
          67,
          68,
          69,
          70,
          71,
          72,
          73,
          74,
          75,
          76,
          77,
          78,
          79,
          80,
          81,
          82,
          83,
          84,
          85,
          86,
          87,
          88,
          89,
          90,
          91,
          92,
          93,
          94,
          95,
          96,
          97,
          98,
          99,
          100,
          101,
          102,
          103,
          104,
          105,
          106,
          107,
          108,
          109,
          110,
          111,
          112,
          113,
          114,
          115,
          116,
          117,
          118,
          119,
          120,
          121,
          122,
          123,
          124,
          125,
          126,
          127,
          128,
          129,
          130,
          131,
          132,
          133,
          134,
          135,
          136,
          137,
          138,
          139,
          140,
          141,
          142,
          143,
          144,
          145,
          146,
          147,
          148,
          149,
          150,
          151,
          152,
          153,
          154,
          155,
          156,
          157,
          158,
          159,
          160,
          161,
          162,
          163,
          164,
          165,
          166,
          167,
          168,
          169,
          170,
          171,
          172,
          173,
          174,
          175,
          176,
          177,
          178,
          179,
          180,
          181,
          182,
          183,
          184,
          185,
          186,
          187,
          188,
          189,
          190,
          191,
          192,
          193,
          194,
          195,
          196,
          197,
          198,
          199
         ],
         "y": [
          0.863259,
          0.850091,
          0.830937,
          0.807122,
          0.788945,
          0.766337,
          0.740367,
          0.721149,
          0.707558,
          0.70788,
          0.719471,
          0.721671,
          0.725428,
          0.739571,
          0.743625,
          0.757874,
          0.761833,
          0.766637,
          0.762861,
          0.752173,
          0.735994,
          0.715528,
          0.700927,
          0.682083,
          0.669281,
          0.652221,
          0.631883,
          0.609091,
          0.584541,
          0.558811,
          0.532383,
          0.514804,
          0.495415,
          0.483964,
          0.479,
          0.479333,
          0.483944,
          0.519157,
          0.528513,
          0.530768,
          0.528269,
          0.532957,
          0.540573,
          0.541309,
          0.554932,
          0.560415,
          0.586694,
          0.602104,
          0.6177,
          0.624145,
          0.641375,
          0.648897,
          0.675754,
          0.699824,
          17.64743,
          42.116959,
          61.44434,
          71.211853,
          72.376122,
          72.376122,
          57.002129,
          56.217079,
          55.398129,
          59.080082,
          58.498028,
          49.238354,
          39.377571,
          30.655289,
          26.268211,
          22.372637,
          19.838421,
          16.152426,
          16.152426,
          14.760357,
          14.266546,
          13.885714,
          13.959928,
          13.913057,
          13.861255,
          14.001717,
          14.033483,
          13.964024,
          13.823249,
          13.65171,
          13.583299,
          13.499724,
          13.403029,
          13.308844,
          13.215961,
          13.073746,
          12.929621,
          12.792875,
          12.665516,
          12.533001,
          12.392616,
          12.23066,
          12.069884,
          11.862337,
          11.608489,
          11.454633,
          11.29378,
          11.079407,
          10.882493,
          10.689565,
          10.506062,
          10.318576,
          10.116049,
          9.92485,
          9.705712,
          9.49384,
          9.259877,
          9.053097,
          8.856253,
          8.620271,
          8.375864,
          8.14514,
          7.896404,
          7.646723,
          7.389981,
          7.118728,
          6.848617,
          6.625907,
          6.400422,
          6.154307,
          5.905042,
          5.641188,
          5.394867,
          5.161631,
          4.96342,
          4.784891,
          4.624677,
          4.481369,
          4.343003,
          4.208159,
          4.078742,
          3.943832,
          3.806487,
          3.678891,
          3.571214,
          3.459714,
          3.387905,
          3.328276,
          3.257301,
          3.189228,
          3.102576,
          3.011889,
          2.940795,
          2.865142,
          2.807909,
          2.777236,
          2.667037,
          2.615202,
          2.568196,
          2.504721,
          2.438912,
          2.392935,
          2.364358,
          2.339287,
          2.295731,
          2.237615,
          2.179029,
          2.120383,
          2.073922,
          2.059104,
          2.048728,
          2.020055,
          1.97681,
          1.953902,
          1.937523,
          1.915823,
          1.879161,
          1.852094,
          1.811674,
          1.760838,
          1.73463,
          1.706842,
          1.667279,
          1.640301,
          1.612835,
          1.596197,
          1.588195,
          1.56581,
          1.532001,
          1.489283,
          1.450835,
          1.426915,
          1.393285,
          1.362796,
          1.335144,
          1.320731,
          1.295789,
          1.295182,
          1.292363,
          1.287905,
          1.315073,
          1.367503,
          1.440003,
          1.506074,
          1.555714,
          1.612557
         ]
        },
        {
         "name": "front-tripod",
         "type": "scatter",
         "x": [
          0,
          1,
          2,
          3,
          4,
          5,
          6,
          7,
          8,
          9,
          10,
          11,
          12,
          13,
          14,
          15,
          16,
          17,
          18,
          19,
          20,
          21,
          22,
          23,
          24,
          25,
          26,
          27,
          28,
          29,
          30,
          31,
          32,
          33,
          34,
          35,
          36,
          37,
          38,
          39,
          40,
          41,
          42,
          43,
          44,
          45,
          46,
          47,
          48,
          49,
          50,
          51,
          52,
          53,
          54,
          55,
          56,
          57,
          58,
          59,
          60,
          61,
          62,
          63,
          64,
          65,
          66,
          67,
          68,
          69,
          70,
          71,
          72,
          73,
          74,
          75,
          76,
          77,
          78,
          79,
          80,
          81,
          82,
          83,
          84,
          85,
          86,
          87,
          88,
          89,
          90,
          91,
          92,
          93,
          94,
          95,
          96,
          97,
          98,
          99,
          100,
          101,
          102,
          103,
          104,
          105,
          106,
          107,
          108,
          109,
          110,
          111,
          112,
          113,
          114,
          115,
          116,
          117,
          118,
          119,
          120,
          121,
          122,
          123,
          124,
          125,
          126,
          127,
          128,
          129,
          130,
          131,
          132,
          133,
          134,
          135,
          136,
          137,
          138,
          139,
          140,
          141,
          142,
          143,
          144,
          145,
          146,
          147,
          148,
          149,
          150,
          151,
          152,
          153,
          154,
          155,
          156,
          157,
          158,
          159,
          160,
          161,
          162,
          163,
          164,
          165,
          166,
          167,
          168,
          169,
          170,
          171,
          172,
          173,
          174,
          175,
          176,
          177,
          178,
          179,
          180,
          181,
          182,
          183,
          184,
          185,
          186,
          187,
          188,
          189,
          190,
          191,
          192,
          193,
          194,
          195,
          196,
          197,
          198,
          199
         ],
         "y": [
          1.062412,
          1.085441,
          1.104934,
          1.121348,
          1.123343,
          1.137286,
          1.148842,
          1.158377,
          1.166286,
          1.160932,
          1.144907,
          1.120413,
          1.113007,
          1.095823,
          1.118118,
          1.159988,
          1.182159,
          1.19988,
          1.202112,
          1.203435,
          1.192361,
          1.171375,
          1.154304,
          1.163905,
          1.159921,
          1.144994,
          1.144645,
          1.132804,
          1.111791,
          1.095148,
          1.094057,
          1.093696,
          1.093912,
          1.117738,
          1.137464,
          1.141923,
          1.133997,
          1.116139,
          1.090432,
          1.070319,
          1.048384,
          1.063498,
          1.065049,
          1.067062,
          1.057961,
          1.039961,
          1.038062,
          1.048977,
          1.093495,
          21.682152,
          50.465775,
          124.778008,
          153.036102,
          170.511536,
          163.974411,
          158.133392,
          145.727951,
          124.103683,
          107.035362,
          107.035362,
          92.725967,
          76.73111,
          61.257683,
          47.368496,
          39.763668,
          38.002766,
          35.563942,
          32.739193,
          29.589828,
          27.599632,
          26.32036,
          24.988846,
          24.13899,
          23.757366,
          23.30814,
          22.996363,
          22.692326,
          22.499477,
          22.377739,
          22.229782,
          22.101297,
          21.952814,
          21.760017,
          21.522451,
          21.213293,
          20.86405,
          20.567158,
          20.307518,
          20.026594,
          19.694193,
          19.380491,
          19.129049,
          18.836168,
          18.594954,
          18.362316,
          18.125214,
          17.826155,
          17.54376,
          17.243088,
          16.975273,
          16.766426,
          16.493288,
          16.165333,
          15.775375,
          15.44637,
          15.082029,
          14.809848,
          14.596369,
          14.42172,
          14.259541,
          14.037835,
          13.777952,
          13.495002,
          13.236279,
          13.017241,
          12.737401,
          12.428073,
          12.111082,
          11.786205,
          11.332443,
          10.576309,
          10.18706,
          9.826368,
          9.470117,
          9.163278,
          8.848658,
          8.623457,
          8.438169,
          8.239188,
          8.032965,
          7.809943,
          7.577499,
          7.325827,
          7.072434,
          6.809839,
          6.553573,
          6.281157,
          6.043512,
          5.801691,
          5.594385,
          5.393774,
          5.20258,
          5.01932,
          4.821118,
          4.657917,
          4.53784,
          4.406482,
          4.293317,
          4.182469,
          4.085653,
          3.989372,
          3.916468,
          3.841251,
          3.741981,
          3.647366,
          3.534294,
          3.466056,
          3.400619,
          3.349394,
          3.320844,
          3.324163,
          3.316802,
          3.289503,
          3.258387,
          3.212036,
          3.14251,
          3.066144,
          2.973687,
          2.892251,
          2.83271,
          2.828467,
          2.808675,
          2.787986,
          2.767601,
          2.723653,
          2.684266,
          2.625677,
          2.563475,
          2.48754,
          2.401223,
          2.330967,
          2.250808,
          2.163419,
          2.071036,
          1.975527,
          1.901924,
          1.823308,
          1.764719,
          1.699612,
          1.629877,
          1.568672,
          1.526572,
          1.47715,
          1.43416,
          1.420464,
          1.39513,
          1.360632,
          1.342468,
          1.325883,
          1.299131
         ]
        },
        {
         "name": "front corner",
         "type": "scatter",
         "x": [
          0,
          1,
          2,
          3,
          4,
          5,
          6,
          7,
          8,
          9,
          10,
          11,
          12,
          13,
          14,
          15,
          16,
          17,
          18,
          19,
          20,
          21,
          22,
          23,
          24,
          25,
          26,
          27,
          28,
          29,
          30,
          31,
          32,
          33,
          34,
          35,
          36,
          37,
          38,
          39,
          40,
          41,
          42,
          43,
          44,
          45,
          46,
          47,
          48,
          49,
          50,
          51,
          52,
          53,
          54,
          55,
          56,
          57,
          58,
          59,
          60,
          61,
          62,
          63,
          64,
          65,
          66,
          67,
          68,
          69,
          70,
          71,
          72,
          73,
          74,
          75,
          76,
          77,
          78,
          79,
          80,
          81,
          82,
          83,
          84,
          85,
          86,
          87,
          88,
          89,
          90,
          91,
          92,
          93,
          94,
          95,
          96,
          97,
          98,
          99,
          100,
          101,
          102,
          103,
          104,
          105,
          106,
          107,
          108,
          109,
          110,
          111,
          112,
          113,
          114,
          115,
          116,
          117,
          118,
          119,
          120,
          121,
          122,
          123,
          124,
          125,
          126,
          127,
          128,
          129,
          130,
          131,
          132,
          133,
          134,
          135,
          136,
          137,
          138,
          139,
          140,
          141,
          142,
          143,
          144,
          145,
          146,
          147,
          148,
          149,
          150,
          151,
          152,
          153,
          154,
          155,
          156,
          157,
          158,
          159,
          160,
          161,
          162,
          163,
          164,
          165,
          166,
          167,
          168,
          169,
          170,
          171,
          172,
          173,
          174,
          175,
          176,
          177,
          178,
          179,
          180,
          181,
          182,
          183,
          184,
          185,
          186,
          187,
          188,
          189,
          190,
          191,
          192,
          193,
          194,
          195,
          196,
          197,
          198,
          199
         ],
         "y": [
          0.833236,
          0.812082,
          0.797454,
          0.788296,
          0.772937,
          0.752721,
          0.739362,
          0.721096,
          0.699046,
          0.68473,
          0.677001,
          0.663931,
          0.678941,
          0.694968,
          0.711659,
          0.728619,
          0.745713,
          0.762636,
          0.779465,
          0.806614,
          0.831325,
          0.885444,
          0.930935,
          0.969087,
          1.011584,
          1.046682,
          1.085901,
          1.127898,
          1.150602,
          1.189088,
          1.219123,
          1.2525,
          1.288008,
          1.303815,
          1.300825,
          1.29615,
          1.279353,
          1.263355,
          1.237708,
          1.214949,
          1.18611,
          1.168886,
          1.164257,
          8.786857,
          40.396786,
          243.033585,
          945.760742,
          1328.187622,
          1318.831421,
          1056.406128,
          752.970093,
          498.534912,
          320.091431,
          201.998642,
          76.072693,
          46.761166,
          29.118481,
          19.49119,
          38.444843,
          38.444843,
          42.604088,
          37.702072,
          39.886677,
          38.484333,
          39.459023,
          45.656536,
          50.430843,
          54.358974,
          56.371563,
          52.520664,
          50.052288,
          48.275082,
          48.275082,
          44.43758,
          42.833992,
          41.058189,
          39.590221,
          38.186188,
          37.020779,
          36.098537,
          35.368931,
          34.685745,
          33.746449,
          32.335743,
          30.942261,
          29.683371,
          28.145941,
          26.67317,
          25.483265,
          24.332897,
          23.31093,
          22.591518,
          21.919224,
          21.180731,
          20.37031,
          19.781534,
          19.273689,
          18.654011,
          17.880854,
          17.161243,
          16.432043,
          15.832269,
          15.268517,
          14.681496,
          14.316591,
          13.987863,
          13.697569,
          13.323504,
          12.917567,
          12.431959,
          11.85692,
          11.220101,
          10.753452,
          10.327246,
          9.895462,
          9.493153,
          9.179568,
          8.877004,
          8.626462,
          8.360738,
          8.140727,
          7.985701,
          7.793417,
          7.66327,
          7.569767,
          7.480528,
          7.363706,
          7.206253,
          7.056024,
          6.932868,
          6.813172,
          6.686773,
          6.528955,
          6.357186,
          6.194361,
          6.001032,
          5.795683,
          5.590176,
          5.37828,
          5.163875,
          4.960321,
          4.76531,
          4.570156,
          4.405478,
          4.248303,
          4.108624,
          3.954583,
          3.811636,
          3.688691,
          3.581577,
          3.489453,
          3.41064,
          3.312958,
          3.211108,
          3.169105,
          3.114085,
          3.059073,
          3.036738,
          2.981855,
          2.968561,
          2.969693,
          2.951459,
          2.928602,
          2.891773,
          2.874414,
          2.85219,
          2.816007,
          2.788643,
          2.748738,
          2.68908,
          2.634396,
          2.594675,
          2.536647,
          2.475073,
          2.431009,
          2.412018,
          2.382784,
          2.365554,
          2.33857,
          2.313567,
          2.270126,
          2.222213,
          2.161114,
          2.130927,
          2.116132,
          2.082915,
          2.035121,
          1.976009,
          1.908328,
          1.844438,
          1.804515,
          1.764378,
          1.714133,
          1.666425,
          1.611044,
          1.560068,
          1.503103,
          1.473127,
          1.444284,
          1.416757
         ]
        },
        {
         "name": "door",
         "type": "scatter",
         "x": [
          0,
          1,
          2,
          3,
          4,
          5,
          6,
          7,
          8,
          9,
          10,
          11,
          12,
          13,
          14,
          15,
          16,
          17,
          18,
          19,
          20,
          21,
          22,
          23,
          24,
          25,
          26,
          27,
          28,
          29,
          30,
          31,
          32,
          33,
          34,
          35,
          36,
          37,
          38,
          39,
          40,
          41,
          42,
          43,
          44,
          45,
          46,
          47,
          48,
          49,
          50,
          51,
          52,
          53,
          54,
          55,
          56,
          57,
          58,
          59,
          60,
          61,
          62,
          63,
          64,
          65,
          66,
          67,
          68,
          69,
          70,
          71,
          72,
          73,
          74,
          75,
          76,
          77,
          78,
          79,
          80,
          81,
          82,
          83,
          84,
          85,
          86,
          87,
          88,
          89,
          90,
          91,
          92,
          93,
          94,
          95,
          96,
          97,
          98,
          99,
          100,
          101,
          102,
          103,
          104,
          105,
          106,
          107,
          108,
          109,
          110,
          111,
          112,
          113,
          114,
          115,
          116,
          117,
          118,
          119,
          120,
          121,
          122,
          123,
          124,
          125,
          126,
          127,
          128,
          129,
          130,
          131,
          132,
          133,
          134,
          135,
          136,
          137,
          138,
          139,
          140,
          141,
          142,
          143,
          144,
          145,
          146,
          147,
          148,
          149,
          150,
          151,
          152,
          153,
          154,
          155,
          156,
          157,
          158,
          159,
          160,
          161,
          162,
          163,
          164,
          165,
          166,
          167,
          168,
          169,
          170,
          171,
          172,
          173,
          174,
          175,
          176,
          177,
          178,
          179,
          180,
          181,
          182,
          183,
          184,
          185,
          186,
          187,
          188,
          189,
          190,
          191,
          192,
          193,
          194,
          195,
          196,
          197,
          198,
          199
         ],
         "y": [
          1.040265,
          1.059435,
          1.075985,
          1.090319,
          1.09091,
          1.103941,
          1.126864,
          1.145655,
          1.149239,
          1.140505,
          1.133531,
          1.128125,
          1.112327,
          1.088295,
          1.069444,
          1.066756,
          1.065518,
          1.077192,
          1.075733,
          1.07521,
          1.075425,
          1.087986,
          1.11046,
          1.117381,
          1.111668,
          1.118914,
          1.124892,
          1.118319,
          1.113464,
          1.098291,
          1.074931,
          1.056686,
          1.054293,
          1.0531,
          1.064336,
          1.108786,
          1.168242,
          1.204538,
          1.233058,
          1.255374,
          1.233102,
          1.227701,
          1.210945,
          1.185177,
          1.163656,
          1.1345,
          1.122723,
          2.810168,
          55.920891,
          122.910896,
          253.345062,
          456.741425,
          564.236206,
          550.51178,
          483.945831,
          392.940216,
          314.195251,
          192.594986,
          88.193161,
          88.193161,
          53.281548,
          44.183662,
          37.901127,
          35.034504,
          31.57143,
          29.96221,
          27.106256,
          26.028008,
          29.335344,
          31.344461,
          31.524786,
          31.911198,
          31.911198,
          32.583927,
          32.710548,
          32.587257,
          32.470619,
          32.303326,
          32.178791,
          32.076389,
          31.8853,
          31.56682,
          31.249516,
          30.565952,
          29.759182,
          28.870312,
          28.189594,
          27.569902,
          27.010498,
          26.417912,
          25.838289,
          25.146454,
          24.253721,
          23.408537,
          22.753361,
          21.822657,
          21.01812,
          20.121943,
          19.384089,
          18.772667,
          18.232203,
          17.726765,
          17.129278,
          16.422314,
          15.759107,
          15.202832,
          14.748511,
          14.239871,
          13.841268,
          13.460522,
          13.142947,
          12.841379,
          12.538923,
          12.288815,
          12.059839,
          11.816671,
          11.54819,
          11.262001,
          10.973651,
          10.689272,
          10.346587,
          10.063909,
          9.764889,
          9.518825,
          9.234282,
          8.989186,
          8.7213,
          8.505683,
          8.31589,
          8.121077,
          7.944885,
          7.723948,
          7.508257,
          7.334719,
          7.154756,
          6.972818,
          6.788828,
          6.612003,
          6.447013,
          6.271641,
          6.096958,
          5.906735,
          5.716153,
          5.544268,
          5.381867,
          5.22748,
          5.124233,
          5.080051,
          5.005004,
          4.923494,
          4.859819,
          4.833153,
          4.79446,
          4.744903,
          4.666907,
          4.59801,
          4.547632,
          4.502247,
          4.452113,
          4.397886,
          4.340877,
          4.271419,
          4.224995,
          4.164526,
          4.094944,
          4.019519,
          3.927998,
          3.824774,
          3.713822,
          3.617811,
          3.50385,
          3.407617,
          3.305853,
          3.211207,
          3.113304,
          3.013405,
          2.902397,
          2.783494,
          2.659378,
          2.563361,
          2.491057,
          2.407605,
          2.348243,
          2.287572,
          2.225749,
          2.164281,
          2.10347,
          2.065326,
          2.024099,
          1.991182,
          1.955504,
          1.928176,
          1.897078,
          1.863489,
          1.817748,
          1.783348,
          1.748483,
          1.702845,
          1.669917,
          1.657788
         ]
        }
       ],
       "layout": {
        "font": {
         "size": 8
        },
        "height": 300,
        "legend": {
         "title": {
          "text": "Sensor Location"
         }
        },
        "showlegend": true,
        "template": {
         "data": {
          "bar": [
           {
            "error_x": {
             "color": "#2a3f5f"
            },
            "error_y": {
             "color": "#2a3f5f"
            },
            "marker": {
             "line": {
              "color": "#E5ECF6",
              "width": 0.5
             },
             "pattern": {
              "fillmode": "overlay",
              "size": 10,
              "solidity": 0.2
             }
            },
            "type": "bar"
           }
          ],
          "barpolar": [
           {
            "marker": {
             "line": {
              "color": "#E5ECF6",
              "width": 0.5
             },
             "pattern": {
              "fillmode": "overlay",
              "size": 10,
              "solidity": 0.2
             }
            },
            "type": "barpolar"
           }
          ],
          "carpet": [
           {
            "aaxis": {
             "endlinecolor": "#2a3f5f",
             "gridcolor": "white",
             "linecolor": "white",
             "minorgridcolor": "white",
             "startlinecolor": "#2a3f5f"
            },
            "baxis": {
             "endlinecolor": "#2a3f5f",
             "gridcolor": "white",
             "linecolor": "white",
             "minorgridcolor": "white",
             "startlinecolor": "#2a3f5f"
            },
            "type": "carpet"
           }
          ],
          "choropleth": [
           {
            "colorbar": {
             "outlinewidth": 0,
             "ticks": ""
            },
            "type": "choropleth"
           }
          ],
          "contour": [
           {
            "colorbar": {
             "outlinewidth": 0,
             "ticks": ""
            },
            "colorscale": [
             [
              0,
              "#0d0887"
             ],
             [
              0.1111111111111111,
              "#46039f"
             ],
             [
              0.2222222222222222,
              "#7201a8"
             ],
             [
              0.3333333333333333,
              "#9c179e"
             ],
             [
              0.4444444444444444,
              "#bd3786"
             ],
             [
              0.5555555555555556,
              "#d8576b"
             ],
             [
              0.6666666666666666,
              "#ed7953"
             ],
             [
              0.7777777777777778,
              "#fb9f3a"
             ],
             [
              0.8888888888888888,
              "#fdca26"
             ],
             [
              1,
              "#f0f921"
             ]
            ],
            "type": "contour"
           }
          ],
          "contourcarpet": [
           {
            "colorbar": {
             "outlinewidth": 0,
             "ticks": ""
            },
            "type": "contourcarpet"
           }
          ],
          "heatmap": [
           {
            "colorbar": {
             "outlinewidth": 0,
             "ticks": ""
            },
            "colorscale": [
             [
              0,
              "#0d0887"
             ],
             [
              0.1111111111111111,
              "#46039f"
             ],
             [
              0.2222222222222222,
              "#7201a8"
             ],
             [
              0.3333333333333333,
              "#9c179e"
             ],
             [
              0.4444444444444444,
              "#bd3786"
             ],
             [
              0.5555555555555556,
              "#d8576b"
             ],
             [
              0.6666666666666666,
              "#ed7953"
             ],
             [
              0.7777777777777778,
              "#fb9f3a"
             ],
             [
              0.8888888888888888,
              "#fdca26"
             ],
             [
              1,
              "#f0f921"
             ]
            ],
            "type": "heatmap"
           }
          ],
          "heatmapgl": [
           {
            "colorbar": {
             "outlinewidth": 0,
             "ticks": ""
            },
            "colorscale": [
             [
              0,
              "#0d0887"
             ],
             [
              0.1111111111111111,
              "#46039f"
             ],
             [
              0.2222222222222222,
              "#7201a8"
             ],
             [
              0.3333333333333333,
              "#9c179e"
             ],
             [
              0.4444444444444444,
              "#bd3786"
             ],
             [
              0.5555555555555556,
              "#d8576b"
             ],
             [
              0.6666666666666666,
              "#ed7953"
             ],
             [
              0.7777777777777778,
              "#fb9f3a"
             ],
             [
              0.8888888888888888,
              "#fdca26"
             ],
             [
              1,
              "#f0f921"
             ]
            ],
            "type": "heatmapgl"
           }
          ],
          "histogram": [
           {
            "marker": {
             "pattern": {
              "fillmode": "overlay",
              "size": 10,
              "solidity": 0.2
             }
            },
            "type": "histogram"
           }
          ],
          "histogram2d": [
           {
            "colorbar": {
             "outlinewidth": 0,
             "ticks": ""
            },
            "colorscale": [
             [
              0,
              "#0d0887"
             ],
             [
              0.1111111111111111,
              "#46039f"
             ],
             [
              0.2222222222222222,
              "#7201a8"
             ],
             [
              0.3333333333333333,
              "#9c179e"
             ],
             [
              0.4444444444444444,
              "#bd3786"
             ],
             [
              0.5555555555555556,
              "#d8576b"
             ],
             [
              0.6666666666666666,
              "#ed7953"
             ],
             [
              0.7777777777777778,
              "#fb9f3a"
             ],
             [
              0.8888888888888888,
              "#fdca26"
             ],
             [
              1,
              "#f0f921"
             ]
            ],
            "type": "histogram2d"
           }
          ],
          "histogram2dcontour": [
           {
            "colorbar": {
             "outlinewidth": 0,
             "ticks": ""
            },
            "colorscale": [
             [
              0,
              "#0d0887"
             ],
             [
              0.1111111111111111,
              "#46039f"
             ],
             [
              0.2222222222222222,
              "#7201a8"
             ],
             [
              0.3333333333333333,
              "#9c179e"
             ],
             [
              0.4444444444444444,
              "#bd3786"
             ],
             [
              0.5555555555555556,
              "#d8576b"
             ],
             [
              0.6666666666666666,
              "#ed7953"
             ],
             [
              0.7777777777777778,
              "#fb9f3a"
             ],
             [
              0.8888888888888888,
              "#fdca26"
             ],
             [
              1,
              "#f0f921"
             ]
            ],
            "type": "histogram2dcontour"
           }
          ],
          "mesh3d": [
           {
            "colorbar": {
             "outlinewidth": 0,
             "ticks": ""
            },
            "type": "mesh3d"
           }
          ],
          "parcoords": [
           {
            "line": {
             "colorbar": {
              "outlinewidth": 0,
              "ticks": ""
             }
            },
            "type": "parcoords"
           }
          ],
          "pie": [
           {
            "automargin": true,
            "type": "pie"
           }
          ],
          "scatter": [
           {
            "fillpattern": {
             "fillmode": "overlay",
             "size": 10,
             "solidity": 0.2
            },
            "type": "scatter"
           }
          ],
          "scatter3d": [
           {
            "line": {
             "colorbar": {
              "outlinewidth": 0,
              "ticks": ""
             }
            },
            "marker": {
             "colorbar": {
              "outlinewidth": 0,
              "ticks": ""
             }
            },
            "type": "scatter3d"
           }
          ],
          "scattercarpet": [
           {
            "marker": {
             "colorbar": {
              "outlinewidth": 0,
              "ticks": ""
             }
            },
            "type": "scattercarpet"
           }
          ],
          "scattergeo": [
           {
            "marker": {
             "colorbar": {
              "outlinewidth": 0,
              "ticks": ""
             }
            },
            "type": "scattergeo"
           }
          ],
          "scattergl": [
           {
            "marker": {
             "colorbar": {
              "outlinewidth": 0,
              "ticks": ""
             }
            },
            "type": "scattergl"
           }
          ],
          "scattermapbox": [
           {
            "marker": {
             "colorbar": {
              "outlinewidth": 0,
              "ticks": ""
             }
            },
            "type": "scattermapbox"
           }
          ],
          "scatterpolar": [
           {
            "marker": {
             "colorbar": {
              "outlinewidth": 0,
              "ticks": ""
             }
            },
            "type": "scatterpolar"
           }
          ],
          "scatterpolargl": [
           {
            "marker": {
             "colorbar": {
              "outlinewidth": 0,
              "ticks": ""
             }
            },
            "type": "scatterpolargl"
           }
          ],
          "scatterternary": [
           {
            "marker": {
             "colorbar": {
              "outlinewidth": 0,
              "ticks": ""
             }
            },
            "type": "scatterternary"
           }
          ],
          "surface": [
           {
            "colorbar": {
             "outlinewidth": 0,
             "ticks": ""
            },
            "colorscale": [
             [
              0,
              "#0d0887"
             ],
             [
              0.1111111111111111,
              "#46039f"
             ],
             [
              0.2222222222222222,
              "#7201a8"
             ],
             [
              0.3333333333333333,
              "#9c179e"
             ],
             [
              0.4444444444444444,
              "#bd3786"
             ],
             [
              0.5555555555555556,
              "#d8576b"
             ],
             [
              0.6666666666666666,
              "#ed7953"
             ],
             [
              0.7777777777777778,
              "#fb9f3a"
             ],
             [
              0.8888888888888888,
              "#fdca26"
             ],
             [
              1,
              "#f0f921"
             ]
            ],
            "type": "surface"
           }
          ],
          "table": [
           {
            "cells": {
             "fill": {
              "color": "#EBF0F8"
             },
             "line": {
              "color": "white"
             }
            },
            "header": {
             "fill": {
              "color": "#C8D4E3"
             },
             "line": {
              "color": "white"
             }
            },
            "type": "table"
           }
          ]
         },
         "layout": {
          "annotationdefaults": {
           "arrowcolor": "#2a3f5f",
           "arrowhead": 0,
           "arrowwidth": 1
          },
          "autotypenumbers": "strict",
          "coloraxis": {
           "colorbar": {
            "outlinewidth": 0,
            "ticks": ""
           }
          },
          "colorscale": {
           "diverging": [
            [
             0,
             "#8e0152"
            ],
            [
             0.1,
             "#c51b7d"
            ],
            [
             0.2,
             "#de77ae"
            ],
            [
             0.3,
             "#f1b6da"
            ],
            [
             0.4,
             "#fde0ef"
            ],
            [
             0.5,
             "#f7f7f7"
            ],
            [
             0.6,
             "#e6f5d0"
            ],
            [
             0.7,
             "#b8e186"
            ],
            [
             0.8,
             "#7fbc41"
            ],
            [
             0.9,
             "#4d9221"
            ],
            [
             1,
             "#276419"
            ]
           ],
           "sequential": [
            [
             0,
             "#0d0887"
            ],
            [
             0.1111111111111111,
             "#46039f"
            ],
            [
             0.2222222222222222,
             "#7201a8"
            ],
            [
             0.3333333333333333,
             "#9c179e"
            ],
            [
             0.4444444444444444,
             "#bd3786"
            ],
            [
             0.5555555555555556,
             "#d8576b"
            ],
            [
             0.6666666666666666,
             "#ed7953"
            ],
            [
             0.7777777777777778,
             "#fb9f3a"
            ],
            [
             0.8888888888888888,
             "#fdca26"
            ],
            [
             1,
             "#f0f921"
            ]
           ],
           "sequentialminus": [
            [
             0,
             "#0d0887"
            ],
            [
             0.1111111111111111,
             "#46039f"
            ],
            [
             0.2222222222222222,
             "#7201a8"
            ],
            [
             0.3333333333333333,
             "#9c179e"
            ],
            [
             0.4444444444444444,
             "#bd3786"
            ],
            [
             0.5555555555555556,
             "#d8576b"
            ],
            [
             0.6666666666666666,
             "#ed7953"
            ],
            [
             0.7777777777777778,
             "#fb9f3a"
            ],
            [
             0.8888888888888888,
             "#fdca26"
            ],
            [
             1,
             "#f0f921"
            ]
           ]
          },
          "colorway": [
           "#636efa",
           "#EF553B",
           "#00cc96",
           "#ab63fa",
           "#FFA15A",
           "#19d3f3",
           "#FF6692",
           "#B6E880",
           "#FF97FF",
           "#FECB52"
          ],
          "font": {
           "color": "#2a3f5f"
          },
          "geo": {
           "bgcolor": "white",
           "lakecolor": "white",
           "landcolor": "#E5ECF6",
           "showlakes": true,
           "showland": true,
           "subunitcolor": "white"
          },
          "hoverlabel": {
           "align": "left"
          },
          "hovermode": "closest",
          "mapbox": {
           "style": "light"
          },
          "paper_bgcolor": "white",
          "plot_bgcolor": "#E5ECF6",
          "polar": {
           "angularaxis": {
            "gridcolor": "white",
            "linecolor": "white",
            "ticks": ""
           },
           "bgcolor": "#E5ECF6",
           "radialaxis": {
            "gridcolor": "white",
            "linecolor": "white",
            "ticks": ""
           }
          },
          "scene": {
           "xaxis": {
            "backgroundcolor": "#E5ECF6",
            "gridcolor": "white",
            "gridwidth": 2,
            "linecolor": "white",
            "showbackground": true,
            "ticks": "",
            "zerolinecolor": "white"
           },
           "yaxis": {
            "backgroundcolor": "#E5ECF6",
            "gridcolor": "white",
            "gridwidth": 2,
            "linecolor": "white",
            "showbackground": true,
            "ticks": "",
            "zerolinecolor": "white"
           },
           "zaxis": {
            "backgroundcolor": "#E5ECF6",
            "gridcolor": "white",
            "gridwidth": 2,
            "linecolor": "white",
            "showbackground": true,
            "ticks": "",
            "zerolinecolor": "white"
           }
          },
          "shapedefaults": {
           "line": {
            "color": "#2a3f5f"
           }
          },
          "ternary": {
           "aaxis": {
            "gridcolor": "white",
            "linecolor": "white",
            "ticks": ""
           },
           "baxis": {
            "gridcolor": "white",
            "linecolor": "white",
            "ticks": ""
           },
           "bgcolor": "#E5ECF6",
           "caxis": {
            "gridcolor": "white",
            "linecolor": "white",
            "ticks": ""
           }
          },
          "title": {
           "x": 0.05
          },
          "xaxis": {
           "automargin": true,
           "gridcolor": "white",
           "linecolor": "white",
           "ticks": "",
           "title": {
            "standoff": 15
           },
           "zerolinecolor": "white",
           "zerolinewidth": 2
          },
          "yaxis": {
           "automargin": true,
           "gridcolor": "white",
           "linecolor": "white",
           "ticks": "",
           "title": {
            "standoff": 15
           },
           "zerolinecolor": "white",
           "zerolinewidth": 2
          }
         }
        },
        "title": {
         "text": "PM10.0 Sensors Aerosol Concentration at Different Location - low_speed"
        },
        "width": 500,
        "xaxis": {
         "title": {
          "text": "Elapsed Time (sec)"
         }
        },
        "yaxis": {
         "title": {
          "text": "Mass Concentration (µg/m3)"
         }
        }
       }
      }
     },
     "metadata": {},
     "output_type": "display_data"
    },
    {
     "data": {
      "application/vnd.plotly.v1+json": {
       "config": {
        "plotlyServerURL": "https://plot.ly"
       },
       "data": [
        {
         "name": "front-desk",
         "type": "scatter",
         "x": [
          0,
          1,
          2,
          3,
          4,
          5,
          6,
          7,
          8,
          9,
          10,
          11,
          12,
          13,
          14,
          15,
          16,
          17,
          18,
          19,
          20,
          21,
          22,
          23,
          24,
          25,
          26,
          27,
          28,
          29,
          30,
          31,
          32,
          33,
          34,
          35,
          36,
          37,
          38,
          39,
          40,
          41,
          42,
          43,
          44,
          45,
          46,
          47,
          48,
          49,
          50,
          51,
          52,
          53,
          54,
          55,
          56,
          57,
          58,
          59,
          60,
          61,
          62,
          63,
          64,
          65,
          66,
          67,
          68,
          69,
          70,
          71,
          72,
          73,
          74,
          75,
          76,
          77,
          78,
          79,
          80,
          81,
          82,
          83,
          84,
          85,
          86,
          87,
          88,
          89,
          90,
          91,
          92,
          93,
          94,
          95,
          96,
          97,
          98,
          99,
          100,
          101,
          102,
          103,
          104,
          105,
          106,
          107,
          108,
          109,
          110,
          111,
          112,
          113,
          114,
          115,
          116,
          117,
          118,
          119,
          120,
          121,
          122,
          123,
          124,
          125,
          126,
          127,
          128,
          129,
          130,
          131,
          132,
          133,
          134,
          135,
          136,
          137,
          138,
          139,
          140,
          141,
          142,
          143,
          144,
          145,
          146,
          147,
          148,
          149,
          150,
          151,
          152,
          153,
          154,
          155,
          156,
          157,
          158,
          159,
          160,
          161,
          162,
          163,
          164,
          165,
          166,
          167,
          168,
          169,
          170,
          171,
          172,
          173,
          174,
          175,
          176,
          177,
          178,
          179,
          180,
          181,
          182,
          183,
          184,
          185,
          186,
          187,
          188,
          189,
          190,
          191,
          192,
          193,
          194,
          195,
          196,
          197,
          198,
          199
         ],
         "y": [
          1.142473,
          1.168836,
          1.178502,
          1.187243,
          1.215323,
          1.214374,
          1.231969,
          1.222233,
          1.203427,
          1.189832,
          1.178688,
          1.15981,
          1.173564,
          1.180011,
          1.171635,
          1.153133,
          1.136938,
          1.117002,
          1.089684,
          1.084676,
          1.070776,
          1.052847,
          1.027797,
          1.028736,
          1.019476,
          1.001781,
          1.00666,
          1.00719,
          1.033403,
          1.035444,
          1.026742,
          1.021043,
          1.009664,
          1.028812,
          1.028544,
          1.030131,
          1.024191,
          1.009138,
          0.986853,
          0.976439,
          0.956881,
          0.93147,
          0.901572,
          0.8973,
          0.88713,
          0.907819,
          0.910601,
          0.960351,
          1.069576,
          1.193061,
          2.943828,
          12.908915,
          33.650742,
          88.938499,
          214.686203,
          324.793427,
          379.917633,
          405.291382,
          394.439758,
          343.177643,
          284.128845,
          231.307236,
          187.227844,
          150.530884,
          123.578056,
          96.183617,
          74.018044,
          61.751331,
          53.963554,
          47.429539,
          41.577499,
          38.567158,
          39.771175,
          40.918751,
          42.020767,
          41.732567,
          41.238953,
          40.282463,
          39.456726,
          38.536373,
          37.691441,
          36.919075,
          36.254517,
          35.481876,
          34.534351,
          33.077148,
          31.989746,
          30.939779,
          30.134888,
          29.290472,
          28.61644,
          27.86919,
          27.040277,
          26.206951,
          25.027128,
          23.950417,
          22.817318,
          21.848227,
          20.880644,
          19.924194,
          18.906212,
          17.927235,
          17.204294,
          16.564547,
          16.034605,
          15.519547,
          15.004098,
          14.493039,
          14.116948,
          13.71559,
          13.346857,
          13.002172,
          12.695378,
          12.358403,
          12.027533,
          11.743447,
          11.457853,
          11.190974,
          10.910891,
          10.611456,
          10.277555,
          9.915851,
          9.584502,
          9.283203,
          8.997186,
          8.757361,
          8.515544,
          8.314683,
          8.168056,
          7.9883,
          7.810767,
          7.619253,
          7.459449,
          7.278001,
          7.11835,
          6.948488,
          6.79271,
          6.617601,
          6.472224,
          6.350297,
          6.238146,
          6.117519,
          5.979837,
          5.847692,
          5.734501,
          5.687491,
          5.65534,
          5.574249,
          5.473438,
          5.358368,
          5.251163,
          5.161149,
          5.066658,
          4.959214,
          4.854338,
          4.73152,
          4.606067,
          4.490522,
          4.373571,
          4.265423,
          4.135635,
          4.031223,
          3.937867,
          3.854642,
          3.749252,
          3.647467,
          3.570328,
          3.514853,
          3.435416,
          3.369187,
          3.35625,
          3.355876,
          3.374555,
          3.355876,
          3.374555,
          3.398209,
          3.405601,
          3.420205,
          3.369545,
          3.293768,
          3.183197,
          3.119246,
          3.036809,
          2.940123,
          2.854529,
          2.767301,
          2.690312,
          2.601353,
          2.514585,
          2.41941,
          2.32939,
          2.254856,
          2.172165,
          2.094103,
          1.963099,
          1.896809,
          1.845962,
          1.797532,
          1.740493,
          1.698447
         ]
        },
        {
         "name": "back corner/exhaust",
         "type": "scatter",
         "x": [
          0,
          1,
          2,
          3,
          4,
          5,
          6,
          7,
          8,
          9,
          10,
          11,
          12,
          13,
          14,
          15,
          16,
          17,
          18,
          19,
          20,
          21,
          22,
          23,
          24,
          25,
          26,
          27,
          28,
          29,
          30,
          31,
          32,
          33,
          34,
          35,
          36,
          37,
          38,
          39,
          40,
          41,
          42,
          43,
          44,
          45,
          46,
          47,
          48,
          49,
          50,
          51,
          52,
          53,
          54,
          55,
          56,
          57,
          58,
          59,
          60,
          61,
          62,
          63,
          64,
          65,
          66,
          67,
          68,
          69,
          70,
          71,
          72,
          73,
          74,
          75,
          76,
          77,
          78,
          79,
          80,
          81,
          82,
          83,
          84,
          85,
          86,
          87,
          88,
          89,
          90,
          91,
          92,
          93,
          94,
          95,
          96,
          97,
          98,
          99,
          100,
          101,
          102,
          103,
          104,
          105,
          106,
          107,
          108,
          109,
          110,
          111,
          112,
          113,
          114,
          115,
          116,
          117,
          118,
          119,
          120,
          121,
          122,
          123,
          124,
          125,
          126,
          127,
          128,
          129,
          130,
          131,
          132,
          133,
          134,
          135,
          136,
          137,
          138,
          139,
          140,
          141,
          142,
          143,
          144,
          145,
          146,
          147,
          148,
          149,
          150,
          151,
          152,
          153,
          154,
          155,
          156,
          157,
          158,
          159,
          160,
          161,
          162,
          163,
          164,
          165,
          166,
          167,
          168,
          169,
          170,
          171,
          172,
          173,
          174,
          175,
          176,
          177,
          178,
          179,
          180,
          181,
          182,
          183,
          184,
          185,
          186,
          187,
          188,
          189,
          190,
          191,
          192,
          193,
          194,
          195,
          196,
          197,
          198,
          199
         ],
         "y": [
          0.879467,
          0.837451,
          0.795044,
          0.752744,
          0.710954,
          0.669994,
          0.630116,
          0.591514,
          0.579245,
          0.564511,
          0.561806,
          0.562927,
          0.558205,
          0.548799,
          0.574518,
          0.598912,
          0.633693,
          0.65858,
          0.672153,
          0.676425,
          0.673121,
          0.663714,
          0.661666,
          0.66348,
          0.658314,
          0.647547,
          0.63235,
          0.626303,
          0.624623,
          0.748272,
          0.814199,
          0.852423,
          0.873938,
          1.182412,
          1.398579,
          1.511423,
          1.573066,
          1.617349,
          1.634868,
          1.632708,
          1.636339,
          1.62481,
          1.599222,
          1.560111,
          1.552764,
          1.561107,
          1.589798,
          1.603437,
          1.621716,
          1.680482,
          2.263069,
          3.644322,
          6.353933,
          7.235347,
          7.67159,
          7.836241,
          7.90566,
          7.638661,
          7.769968,
          8.058924,
          8.735069,
          24.755844,
          43.409092,
          53.73698,
          60.124973,
          59.390343,
          56.795883,
          59.449932,
          61.973209,
          62.755337,
          62.867035,
          62.345634,
          62.60714,
          61.403316,
          60.442745,
          59.206364,
          58.306381,
          56.576454,
          54.497826,
          52.437893,
          50.579041,
          48.501228,
          46.892155,
          45.106205,
          43.768154,
          42.50436,
          41.055771,
          39.866333,
          38.76128,
          37.409599,
          36.017143,
          34.34074,
          32.571884,
          31.379375,
          30.20755,
          29.124163,
          28.126364,
          27.338646,
          26.587076,
          25.739693,
          24.83392,
          23.908192,
          22.855091,
          21.546057,
          20.286407,
          19.287865,
          18.522764,
          17.807306,
          17.173395,
          16.675936,
          16.236233,
          15.685541,
          15.185474,
          14.675548,
          14.201633,
          13.709037,
          13.242534,
          12.771453,
          12.340606,
          11.929612,
          11.538874,
          11.167315,
          10.829377,
          10.512879,
          10.187991,
          9.89575,
          9.586574,
          9.280458,
          9.01474,
          8.735713,
          8.474908,
          8.20456,
          7.964513,
          7.717433,
          7.451993,
          7.163142,
          6.897625,
          6.673466,
          6.425755,
          6.172614,
          5.930532,
          5.702015,
          5.50834,
          5.346915,
          5.224161,
          5.110315,
          4.980638,
          4.838868,
          4.701527,
          4.555332,
          4.41567,
          4.309585,
          4.205023,
          4.103316,
          4.017406,
          3.907897,
          3.792969,
          3.735945,
          3.677286,
          3.59312,
          3.513926,
          3.451943,
          3.367285,
          3.265099,
          3.162712,
          3.048234,
          2.938061,
          2.88172,
          2.819794,
          2.754478,
          2.725095,
          2.735905,
          2.735905,
          2.735905,
          2.735905,
          2.725479,
          2.725479,
          2.688499,
          2.647769,
          2.540071,
          2.488679,
          2.44855,
          2.416669,
          2.404872,
          2.409809,
          2.403141,
          2.386875,
          2.374728,
          2.353654,
          2.326315,
          2.281065,
          2.221729,
          2.151553,
          2.073282,
          1.947827,
          1.898898,
          1.840317,
          1.826063,
          1.796354,
          1.754404
         ]
        },
        {
         "name": "back",
         "type": "scatter",
         "x": [
          0,
          1,
          2,
          3,
          4,
          5,
          6,
          7,
          8,
          9,
          10,
          11,
          12,
          13,
          14,
          15,
          16,
          17,
          18,
          19,
          20,
          21,
          22,
          23,
          24,
          25,
          26,
          27,
          28,
          29,
          30,
          31,
          32,
          33,
          34,
          35,
          36,
          37,
          38,
          39,
          40,
          41,
          42,
          43,
          44,
          45,
          46,
          47,
          48,
          49,
          50,
          51,
          52,
          53,
          54,
          55,
          56,
          57,
          58,
          59,
          60,
          61,
          62,
          63,
          64,
          65,
          66,
          67,
          68,
          69,
          70,
          71,
          72,
          73,
          74,
          75,
          76,
          77,
          78,
          79,
          80,
          81,
          82,
          83,
          84,
          85,
          86,
          87,
          88,
          89,
          90,
          91,
          92,
          93,
          94,
          95,
          96,
          97,
          98,
          99,
          100,
          101,
          102,
          103,
          104,
          105,
          106,
          107,
          108,
          109,
          110,
          111,
          112,
          113,
          114,
          115,
          116,
          117,
          118,
          119,
          120,
          121,
          122,
          123,
          124,
          125,
          126,
          127,
          128,
          129,
          130,
          131,
          132,
          133,
          134,
          135,
          136,
          137,
          138,
          139,
          140,
          141,
          142,
          143,
          144,
          145,
          146,
          147,
          148,
          149,
          150,
          151,
          152,
          153,
          154,
          155,
          156,
          157,
          158,
          159,
          160,
          161,
          162,
          163,
          164,
          165,
          166,
          167,
          168,
          169,
          170,
          171,
          172,
          173,
          174,
          175,
          176,
          177,
          178,
          179,
          180,
          181,
          182,
          183,
          184,
          185,
          186,
          187,
          188,
          189,
          190,
          191,
          192,
          193,
          194,
          195,
          196,
          197,
          198,
          199
         ],
         "y": [
          0.76297,
          0.774507,
          0.789743,
          0.794869,
          0.790746,
          0.802492,
          0.803981,
          0.797147,
          0.802031,
          0.794382,
          0.780522,
          0.772638,
          0.758525,
          0.739508,
          0.718104,
          0.725583,
          0.717682,
          0.704107,
          0.686069,
          0.664598,
          0.657957,
          0.642972,
          0.624404,
          0.598598,
          0.593837,
          0.584041,
          0.574452,
          0.56837,
          0.574279,
          0.570599,
          0.58152,
          0.588064,
          0.634259,
          0.6805,
          0.705652,
          0.72177,
          0.735763,
          0.739739,
          0.735563,
          0.741519,
          0.753327,
          0.783476,
          0.806306,
          0.851897,
          0.873305,
          0.881912,
          0.880065,
          0.881251,
          0.910816,
          0.917993,
          0.951517,
          0.961788,
          0.971223,
          5.866803,
          7.961659,
          7.240586,
          14.807036,
          27.473053,
          45.613083,
          58.479889,
          63.044918,
          57.855976,
          45.626564,
          45.837246,
          48.714554,
          48.174576,
          47.098576,
          45.242992,
          43.92226,
          42.191326,
          40.715233,
          39.523663,
          38.319405,
          36.997318,
          35.717167,
          34.622017,
          33.549091,
          32.707752,
          31.951427,
          31.359966,
          30.85955,
          30.344923,
          29.847424,
          29.322191,
          28.842602,
          28.276751,
          27.688837,
          26.998871,
          26.186703,
          25.31744,
          24.551348,
          23.642351,
          22.747658,
          21.952356,
          21.185692,
          20.306135,
          19.634901,
          19.011992,
          18.396698,
          17.617054,
          16.951796,
          16.222221,
          15.667497,
          15.102547,
          14.630569,
          14.188947,
          13.819782,
          13.44555,
          13.044484,
          12.702298,
          12.335895,
          11.915735,
          11.493208,
          11.142138,
          10.865901,
          10.575784,
          10.30348,
          10.013577,
          9.728764,
          9.487233,
          9.230114,
          9.025362,
          8.815997,
          8.672382,
          8.554234,
          8.481199,
          8.395757,
          8.300525,
          8.165819,
          7.977226,
          7.776879,
          7.570591,
          7.340289,
          7.112791,
          6.71197,
          6.562694,
          6.434008,
          6.356178,
          6.285166,
          6.232719,
          6.1401,
          6.038235,
          5.919569,
          5.776178,
          5.626132,
          5.461152,
          5.320211,
          5.177727,
          5.022544,
          4.881041,
          4.729902,
          4.584207,
          4.490879,
          4.382556,
          4.251903,
          4.115478,
          3.976009,
          3.835845,
          3.766171,
          3.717516,
          3.653772,
          3.601809,
          3.547297,
          3.525581,
          3.485116,
          3.418163,
          3.330303,
          3.261631,
          3.173908,
          3.083063,
          2.990566,
          2.886061,
          2.886061,
          2.784621,
          2.784621,
          2.697963,
          2.697963,
          2.529851,
          2.485325,
          2.428762,
          2.371522,
          2.356382,
          2.332675,
          2.290459,
          2.269578,
          2.277505,
          2.284506,
          2.291697,
          2.286858,
          2.272602,
          2.238575,
          2.224583,
          2.20354,
          2.176576,
          2.13312,
          2.104373,
          2.084784,
          2.060031,
          2.019609,
          1.97857
         ]
        },
        {
         "name": "front-tripod",
         "type": "scatter",
         "x": [
          0,
          1,
          2,
          3,
          4,
          5,
          6,
          7,
          8,
          9,
          10,
          11,
          12,
          13,
          14,
          15,
          16,
          17,
          18,
          19,
          20,
          21,
          22,
          23,
          24,
          25,
          26,
          27,
          28,
          29,
          30,
          31,
          32,
          33,
          34,
          35,
          36,
          37,
          38,
          39,
          40,
          41,
          42,
          43,
          44,
          45,
          46,
          47,
          48,
          49,
          50,
          51,
          52,
          53,
          54,
          55,
          56,
          57,
          58,
          59,
          60,
          61,
          62,
          63,
          64,
          65,
          66,
          67,
          68,
          69,
          70,
          71,
          72,
          73,
          74,
          75,
          76,
          77,
          78,
          79,
          80,
          81,
          82,
          83,
          84,
          85,
          86,
          87,
          88,
          89,
          90,
          91,
          92,
          93,
          94,
          95,
          96,
          97,
          98,
          99,
          100,
          101,
          102,
          103,
          104,
          105,
          106,
          107,
          108,
          109,
          110,
          111,
          112,
          113,
          114,
          115,
          116,
          117,
          118,
          119,
          120,
          121,
          122,
          123,
          124,
          125,
          126,
          127,
          128,
          129,
          130,
          131,
          132,
          133,
          134,
          135,
          136,
          137,
          138,
          139,
          140,
          141,
          142,
          143,
          144,
          145,
          146,
          147,
          148,
          149,
          150,
          151,
          152,
          153,
          154,
          155,
          156,
          157,
          158,
          159,
          160,
          161,
          162,
          163,
          164,
          165,
          166,
          167,
          168,
          169,
          170,
          171,
          172,
          173,
          174,
          175,
          176,
          177,
          178,
          179,
          180,
          181,
          182,
          183,
          184,
          185,
          186,
          187,
          188,
          189,
          190,
          191,
          192,
          193,
          194,
          195,
          196,
          197,
          198,
          199
         ],
         "y": [
          1.40394,
          1.370285,
          1.33809,
          1.298631,
          1.264181,
          1.227558,
          1.211671,
          1.190196,
          1.160899,
          1.125559,
          1.133085,
          1.126199,
          1.133743,
          1.159429,
          1.162369,
          1.153127,
          1.13411,
          1.135767,
          1.142195,
          1.136619,
          1.120739,
          1.096666,
          1.066203,
          1.056607,
          1.042274,
          1.041774,
          1.019692,
          1.000771,
          0.975437,
          0.967683,
          0.9513,
          0.942112,
          0.944222,
          0.951322,
          0.953093,
          0.952349,
          0.942223,
          0.924599,
          0.901077,
          0.873013,
          0.873161,
          0.86255,
          0.886226,
          0.915885,
          0.937625,
          0.952655,
          0.955302,
          0.974274,
          1.197999,
          8.949598,
          11.815015,
          10.228494,
          9.756269,
          37.16621,
          70.630989,
          98.122192,
          106.074173,
          106.381653,
          90.827751,
          75.830833,
          76.762566,
          77.147186,
          75.494064,
          71.512947,
          70.266144,
          68.824211,
          64.687523,
          63.671539,
          63.070221,
          62.093433,
          61.360672,
          60.002029,
          58.287533,
          56.302345,
          53.652695,
          51.734612,
          49.618973,
          47.614437,
          45.859352,
          43.718163,
          41.79285,
          39.895306,
          38.460381,
          37.273037,
          36.222416,
          35.164322,
          34.208649,
          33.147137,
          31.809807,
          30.009356,
          28.066465,
          26.656919,
          25.249256,
          23.801575,
          22.653049,
          21.796278,
          21.04097,
          20.351347,
          19.648571,
          19.100569,
          18.53858,
          17.951784,
          17.380003,
          16.843409,
          16.116394,
          15.401031,
          14.68861,
          14.175782,
          13.592879,
          13.029789,
          12.635466,
          12.280984,
          11.94326,
          11.614725,
          11.290341,
          10.951823,
          10.544995,
          10.163418,
          9.866348,
          9.563325,
          9.258054,
          8.98365,
          8.757751,
          8.53459,
          8.350088,
          8.146775,
          7.956165,
          7.731544,
          7.529213,
          7.374784,
          7.234053,
          7.086694,
          6.934891,
          6.835393,
          6.763697,
          6.684933,
          6.620979,
          6.530647,
          6.449826,
          6.423825,
          6.367362,
          6.296498,
          6.197077,
          6.084769,
          5.951787,
          5.803261,
          5.66285,
          5.532941,
          5.383142,
          5.208589,
          5.035307,
          4.893947,
          4.761436,
          4.616619,
          4.491314,
          4.36417,
          4.227831,
          4.094884,
          4.005851,
          3.922392,
          3.71978,
          3.634583,
          3.55878,
          3.482351,
          3.415486,
          3.336947,
          3.297249,
          3.241756,
          3.193684,
          3.123014,
          3.034711,
          2.866309,
          2.866309,
          2.866309,
          2.866309,
          2.69963,
          2.69963,
          2.579151,
          2.506498,
          2.330561,
          2.200629,
          2.121385,
          2.046001,
          1.974512,
          1.916324,
          1.899474,
          1.896699,
          1.875677,
          1.879264,
          1.873372,
          1.909712,
          1.920408,
          1.910162,
          1.883003,
          1.862103,
          1.826756,
          1.799654,
          1.759865,
          1.710167,
          1.662882
         ]
        },
        {
         "name": "front corner",
         "type": "scatter",
         "x": [
          0,
          1,
          2,
          3,
          4,
          5,
          6,
          7,
          8,
          9,
          10,
          11,
          12,
          13,
          14,
          15,
          16,
          17,
          18,
          19,
          20,
          21,
          22,
          23,
          24,
          25,
          26,
          27,
          28,
          29,
          30,
          31,
          32,
          33,
          34,
          35,
          36,
          37,
          38,
          39,
          40,
          41,
          42,
          43,
          44,
          45,
          46,
          47,
          48,
          49,
          50,
          51,
          52,
          53,
          54,
          55,
          56,
          57,
          58,
          59,
          60,
          61,
          62,
          63,
          64,
          65,
          66,
          67,
          68,
          69,
          70,
          71,
          72,
          73,
          74,
          75,
          76,
          77,
          78,
          79,
          80,
          81,
          82,
          83,
          84,
          85,
          86,
          87,
          88,
          89,
          90,
          91,
          92,
          93,
          94,
          95,
          96,
          97,
          98,
          99,
          100,
          101,
          102,
          103,
          104,
          105,
          106,
          107,
          108,
          109,
          110,
          111,
          112,
          113,
          114,
          115,
          116,
          117,
          118,
          119,
          120,
          121,
          122,
          123,
          124,
          125,
          126,
          127,
          128,
          129,
          130,
          131,
          132,
          133,
          134,
          135,
          136,
          137,
          138,
          139,
          140,
          141,
          142,
          143,
          144,
          145,
          146,
          147,
          148,
          149,
          150,
          151,
          152,
          153,
          154,
          155,
          156,
          157,
          158,
          159,
          160,
          161,
          162,
          163,
          164,
          165,
          166,
          167,
          168,
          169,
          170,
          171,
          172,
          173,
          174,
          175,
          176,
          177,
          178,
          179,
          180,
          181,
          182,
          183,
          184,
          185,
          186,
          187,
          188,
          189,
          190,
          191,
          192,
          193,
          194,
          195,
          196,
          197,
          198,
          199
         ],
         "y": [
          1.397532,
          1.453012,
          1.494256,
          1.51272,
          1.519417,
          1.521851,
          1.508605,
          1.48279,
          1.447051,
          1.41152,
          1.34098,
          1.34151,
          1.358858,
          1.359678,
          1.357312,
          1.341821,
          1.315856,
          1.31336,
          1.290041,
          1.258251,
          1.23456,
          1.208964,
          1.176142,
          1.137794,
          1.095354,
          1.050024,
          1.002808,
          0.954533,
          0.905886,
          0.857423,
          0.809594,
          0.81334,
          0.820341,
          0.817809,
          0.807579,
          0.791218,
          0.770052,
          0.745208,
          0.753397,
          0.757989,
          0.768266,
          0.77446,
          0.771733,
          0.8001,
          15.222167,
          85.620354,
          296.558289,
          578.720764,
          669.283752,
          577.65625,
          441.719208,
          334.860748,
          238.880585,
          163.075607,
          107.14695,
          67.594429,
          41.900063,
          25.900631,
          17.328798,
          13.712786,
          17.473114,
          23.901585,
          30.200783,
          34.310303,
          37.675648,
          45.418892,
          52.851269,
          59.327728,
          58.651146,
          57.505886,
          55.75872,
          53.125992,
          49.791809,
          46.435211,
          44.298229,
          41.775337,
          39.486916,
          36.903446,
          35.170288,
          33.551498,
          32.121574,
          30.976398,
          30.162271,
          29.12653,
          28.140049,
          27.348885,
          26.537731,
          25.811811,
          25.253695,
          24.497293,
          23.585123,
          22.921898,
          22.414762,
          21.903538,
          21.348562,
          20.570906,
          19.784468,
          19.260223,
          18.814154,
          18.41119,
          17.971844,
          17.520693,
          17.098068,
          16.641947,
          16.140203,
          15.659332,
          15.242625,
          14.832861,
          14.454513,
          14.11288,
          13.7638,
          13.413557,
          13.10371,
          12.722426,
          12.308323,
          11.923752,
          11.626921,
          11.311736,
          10.935478,
          10.602343,
          10.304298,
          10.006216,
          9.72385,
          9.443716,
          9.160851,
          8.901826,
          8.653155,
          8.152518,
          7.903923,
          7.669231,
          7.477804,
          7.288242,
          7.101728,
          6.910133,
          6.705669,
          6.519841,
          6.335057,
          6.132665,
          5.916941,
          5.683908,
          5.458096,
          5.257847,
          5.053759,
          4.857626,
          4.659495,
          4.490765,
          4.374701,
          4.257014,
          4.138568,
          4.049131,
          3.97385,
          3.901296,
          3.803977,
          3.697082,
          3.582868,
          3.492566,
          3.394377,
          3.319957,
          3.226833,
          3.166492,
          3.133935,
          3.104848,
          3.069656,
          3.029438,
          2.985333,
          2.93987,
          2.883454,
          2.818747,
          2.747997,
          2.682046,
          2.621138,
          2.477266,
          2.477266,
          2.477266,
          2.477266,
          2.321494,
          2.321494,
          2.187903,
          2.121806,
          2.066047,
          1.961924,
          1.90558,
          1.840988,
          1.770344,
          1.753513,
          1.731916,
          1.716796,
          1.706933,
          1.691947,
          1.682243,
          1.657695,
          1.621347,
          1.585725,
          1.560144,
          1.535381,
          1.531464,
          1.532949,
          1.518957,
          1.50229,
          1.473871
         ]
        },
        {
         "name": "door",
         "type": "scatter",
         "x": [
          0,
          1,
          2,
          3,
          4,
          5,
          6,
          7,
          8,
          9,
          10,
          11,
          12,
          13,
          14,
          15,
          16,
          17,
          18,
          19,
          20,
          21,
          22,
          23,
          24,
          25,
          26,
          27,
          28,
          29,
          30,
          31,
          32,
          33,
          34,
          35,
          36,
          37,
          38,
          39,
          40,
          41,
          42,
          43,
          44,
          45,
          46,
          47,
          48,
          49,
          50,
          51,
          52,
          53,
          54,
          55,
          56,
          57,
          58,
          59,
          60,
          61,
          62,
          63,
          64,
          65,
          66,
          67,
          68,
          69,
          70,
          71,
          72,
          73,
          74,
          75,
          76,
          77,
          78,
          79,
          80,
          81,
          82,
          83,
          84,
          85,
          86,
          87,
          88,
          89,
          90,
          91,
          92,
          93,
          94,
          95,
          96,
          97,
          98,
          99,
          100,
          101,
          102,
          103,
          104,
          105,
          106,
          107,
          108,
          109,
          110,
          111,
          112,
          113,
          114,
          115,
          116,
          117,
          118,
          119,
          120,
          121,
          122,
          123,
          124,
          125,
          126,
          127,
          128,
          129,
          130,
          131,
          132,
          133,
          134,
          135,
          136,
          137,
          138,
          139,
          140,
          141,
          142,
          143,
          144,
          145,
          146,
          147,
          148,
          149,
          150,
          151,
          152,
          153,
          154,
          155,
          156,
          157,
          158,
          159,
          160,
          161,
          162,
          163,
          164,
          165,
          166,
          167,
          168,
          169,
          170,
          171,
          172,
          173,
          174,
          175,
          176,
          177,
          178,
          179,
          180,
          181,
          182,
          183,
          184,
          185,
          186,
          187,
          188,
          189,
          190,
          191,
          192,
          193,
          194,
          195,
          196,
          197,
          198,
          199
         ],
         "y": [
          1.254775,
          1.275698,
          1.309862,
          1.342314,
          1.342697,
          1.341497,
          1.338526,
          1.322734,
          1.372463,
          1.393848,
          1.465744,
          1.537754,
          1.586816,
          1.616044,
          1.630504,
          1.625911,
          1.638143,
          1.617582,
          1.583802,
          1.588079,
          1.581428,
          1.582568,
          1.589336,
          1.577788,
          1.552656,
          1.516773,
          1.472539,
          1.451238,
          1.407326,
          1.369059,
          1.338875,
          1.303563,
          1.317125,
          1.296876,
          1.277262,
          1.248603,
          1.212902,
          1.187423,
          1.158695,
          1.132476,
          1.125451,
          1.099616,
          1.083361,
          1.074548,
          1.055889,
          1.030216,
          0.99912,
          1.029998,
          13.649993,
          49.117512,
          88.060524,
          215.214951,
          405.12854,
          516.940674,
          562.18689,
          514.149048,
          430.529877,
          354.087982,
          272.410645,
          202.048431,
          147.932632,
          111.082932,
          82.540024,
          62.573189,
          47.2995,
          43.385834,
          40.567822,
          39.987343,
          38.955334,
          41.677517,
          43.293167,
          47.96788,
          48.654091,
          48.070545,
          46.812531,
          45.672829,
          44.804317,
          44.381161,
          43.700439,
          43.105526,
          42.46011,
          41.805103,
          41.000366,
          40.116032,
          38.854683,
          37.039436,
          35.284061,
          33.923153,
          32.577488,
          30.388987,
          28.761946,
          25.687874,
          23.726976,
          22.196417,
          20.896664,
          20.063101,
          19.28661,
          18.662649,
          18.168724,
          17.626829,
          17.168068,
          16.633991,
          16.285057,
          15.954498,
          15.635921,
          15.304715,
          14.932155,
          14.533072,
          14.117846,
          13.720515,
          13.368343,
          13.060778,
          12.737502,
          12.448026,
          12.163369,
          11.853672,
          11.470108,
          11.167331,
          10.863438,
          10.582763,
          10.286905,
          9.917973,
          9.647211,
          9.42028,
          9.168151,
          8.873135,
          8.583147,
          8.336617,
          8.043776,
          7.77011,
          7.56708,
          7.368726,
          7.199912,
          7.017804,
          6.838503,
          6.660435,
          6.475798,
          6.298675,
          6.122654,
          5.954589,
          5.796328,
          5.636679,
          5.497864,
          5.386861,
          5.244215,
          5.095038,
          4.952793,
          4.833849,
          4.708259,
          4.615372,
          4.512962,
          4.403365,
          4.271282,
          4.159912,
          4.028817,
          3.909127,
          3.839025,
          3.753821,
          3.647886,
          3.555484,
          3.509193,
          3.474229,
          3.449911,
          3.425534,
          3.382286,
          3.351905,
          3.31273,
          3.267387,
          3.208088,
          3.137825,
          3.050045,
          2.856678,
          2.856678,
          2.856678,
          2.856678,
          2.773186,
          2.773186,
          2.583877,
          2.500919,
          2.399951,
          2.317394,
          2.271565,
          2.21201,
          2.171015,
          2.135155,
          2.094297,
          2.040455,
          1.986242,
          1.922616,
          1.861634,
          1.793742,
          1.759506,
          1.733396,
          1.723777,
          1.689638,
          1.676244,
          1.677979,
          1.682657,
          1.679463,
          1.689347
         ]
        }
       ],
       "layout": {
        "font": {
         "size": 8
        },
        "height": 300,
        "legend": {
         "title": {
          "text": "Sensor Location"
         }
        },
        "showlegend": true,
        "template": {
         "data": {
          "bar": [
           {
            "error_x": {
             "color": "#2a3f5f"
            },
            "error_y": {
             "color": "#2a3f5f"
            },
            "marker": {
             "line": {
              "color": "#E5ECF6",
              "width": 0.5
             },
             "pattern": {
              "fillmode": "overlay",
              "size": 10,
              "solidity": 0.2
             }
            },
            "type": "bar"
           }
          ],
          "barpolar": [
           {
            "marker": {
             "line": {
              "color": "#E5ECF6",
              "width": 0.5
             },
             "pattern": {
              "fillmode": "overlay",
              "size": 10,
              "solidity": 0.2
             }
            },
            "type": "barpolar"
           }
          ],
          "carpet": [
           {
            "aaxis": {
             "endlinecolor": "#2a3f5f",
             "gridcolor": "white",
             "linecolor": "white",
             "minorgridcolor": "white",
             "startlinecolor": "#2a3f5f"
            },
            "baxis": {
             "endlinecolor": "#2a3f5f",
             "gridcolor": "white",
             "linecolor": "white",
             "minorgridcolor": "white",
             "startlinecolor": "#2a3f5f"
            },
            "type": "carpet"
           }
          ],
          "choropleth": [
           {
            "colorbar": {
             "outlinewidth": 0,
             "ticks": ""
            },
            "type": "choropleth"
           }
          ],
          "contour": [
           {
            "colorbar": {
             "outlinewidth": 0,
             "ticks": ""
            },
            "colorscale": [
             [
              0,
              "#0d0887"
             ],
             [
              0.1111111111111111,
              "#46039f"
             ],
             [
              0.2222222222222222,
              "#7201a8"
             ],
             [
              0.3333333333333333,
              "#9c179e"
             ],
             [
              0.4444444444444444,
              "#bd3786"
             ],
             [
              0.5555555555555556,
              "#d8576b"
             ],
             [
              0.6666666666666666,
              "#ed7953"
             ],
             [
              0.7777777777777778,
              "#fb9f3a"
             ],
             [
              0.8888888888888888,
              "#fdca26"
             ],
             [
              1,
              "#f0f921"
             ]
            ],
            "type": "contour"
           }
          ],
          "contourcarpet": [
           {
            "colorbar": {
             "outlinewidth": 0,
             "ticks": ""
            },
            "type": "contourcarpet"
           }
          ],
          "heatmap": [
           {
            "colorbar": {
             "outlinewidth": 0,
             "ticks": ""
            },
            "colorscale": [
             [
              0,
              "#0d0887"
             ],
             [
              0.1111111111111111,
              "#46039f"
             ],
             [
              0.2222222222222222,
              "#7201a8"
             ],
             [
              0.3333333333333333,
              "#9c179e"
             ],
             [
              0.4444444444444444,
              "#bd3786"
             ],
             [
              0.5555555555555556,
              "#d8576b"
             ],
             [
              0.6666666666666666,
              "#ed7953"
             ],
             [
              0.7777777777777778,
              "#fb9f3a"
             ],
             [
              0.8888888888888888,
              "#fdca26"
             ],
             [
              1,
              "#f0f921"
             ]
            ],
            "type": "heatmap"
           }
          ],
          "heatmapgl": [
           {
            "colorbar": {
             "outlinewidth": 0,
             "ticks": ""
            },
            "colorscale": [
             [
              0,
              "#0d0887"
             ],
             [
              0.1111111111111111,
              "#46039f"
             ],
             [
              0.2222222222222222,
              "#7201a8"
             ],
             [
              0.3333333333333333,
              "#9c179e"
             ],
             [
              0.4444444444444444,
              "#bd3786"
             ],
             [
              0.5555555555555556,
              "#d8576b"
             ],
             [
              0.6666666666666666,
              "#ed7953"
             ],
             [
              0.7777777777777778,
              "#fb9f3a"
             ],
             [
              0.8888888888888888,
              "#fdca26"
             ],
             [
              1,
              "#f0f921"
             ]
            ],
            "type": "heatmapgl"
           }
          ],
          "histogram": [
           {
            "marker": {
             "pattern": {
              "fillmode": "overlay",
              "size": 10,
              "solidity": 0.2
             }
            },
            "type": "histogram"
           }
          ],
          "histogram2d": [
           {
            "colorbar": {
             "outlinewidth": 0,
             "ticks": ""
            },
            "colorscale": [
             [
              0,
              "#0d0887"
             ],
             [
              0.1111111111111111,
              "#46039f"
             ],
             [
              0.2222222222222222,
              "#7201a8"
             ],
             [
              0.3333333333333333,
              "#9c179e"
             ],
             [
              0.4444444444444444,
              "#bd3786"
             ],
             [
              0.5555555555555556,
              "#d8576b"
             ],
             [
              0.6666666666666666,
              "#ed7953"
             ],
             [
              0.7777777777777778,
              "#fb9f3a"
             ],
             [
              0.8888888888888888,
              "#fdca26"
             ],
             [
              1,
              "#f0f921"
             ]
            ],
            "type": "histogram2d"
           }
          ],
          "histogram2dcontour": [
           {
            "colorbar": {
             "outlinewidth": 0,
             "ticks": ""
            },
            "colorscale": [
             [
              0,
              "#0d0887"
             ],
             [
              0.1111111111111111,
              "#46039f"
             ],
             [
              0.2222222222222222,
              "#7201a8"
             ],
             [
              0.3333333333333333,
              "#9c179e"
             ],
             [
              0.4444444444444444,
              "#bd3786"
             ],
             [
              0.5555555555555556,
              "#d8576b"
             ],
             [
              0.6666666666666666,
              "#ed7953"
             ],
             [
              0.7777777777777778,
              "#fb9f3a"
             ],
             [
              0.8888888888888888,
              "#fdca26"
             ],
             [
              1,
              "#f0f921"
             ]
            ],
            "type": "histogram2dcontour"
           }
          ],
          "mesh3d": [
           {
            "colorbar": {
             "outlinewidth": 0,
             "ticks": ""
            },
            "type": "mesh3d"
           }
          ],
          "parcoords": [
           {
            "line": {
             "colorbar": {
              "outlinewidth": 0,
              "ticks": ""
             }
            },
            "type": "parcoords"
           }
          ],
          "pie": [
           {
            "automargin": true,
            "type": "pie"
           }
          ],
          "scatter": [
           {
            "fillpattern": {
             "fillmode": "overlay",
             "size": 10,
             "solidity": 0.2
            },
            "type": "scatter"
           }
          ],
          "scatter3d": [
           {
            "line": {
             "colorbar": {
              "outlinewidth": 0,
              "ticks": ""
             }
            },
            "marker": {
             "colorbar": {
              "outlinewidth": 0,
              "ticks": ""
             }
            },
            "type": "scatter3d"
           }
          ],
          "scattercarpet": [
           {
            "marker": {
             "colorbar": {
              "outlinewidth": 0,
              "ticks": ""
             }
            },
            "type": "scattercarpet"
           }
          ],
          "scattergeo": [
           {
            "marker": {
             "colorbar": {
              "outlinewidth": 0,
              "ticks": ""
             }
            },
            "type": "scattergeo"
           }
          ],
          "scattergl": [
           {
            "marker": {
             "colorbar": {
              "outlinewidth": 0,
              "ticks": ""
             }
            },
            "type": "scattergl"
           }
          ],
          "scattermapbox": [
           {
            "marker": {
             "colorbar": {
              "outlinewidth": 0,
              "ticks": ""
             }
            },
            "type": "scattermapbox"
           }
          ],
          "scatterpolar": [
           {
            "marker": {
             "colorbar": {
              "outlinewidth": 0,
              "ticks": ""
             }
            },
            "type": "scatterpolar"
           }
          ],
          "scatterpolargl": [
           {
            "marker": {
             "colorbar": {
              "outlinewidth": 0,
              "ticks": ""
             }
            },
            "type": "scatterpolargl"
           }
          ],
          "scatterternary": [
           {
            "marker": {
             "colorbar": {
              "outlinewidth": 0,
              "ticks": ""
             }
            },
            "type": "scatterternary"
           }
          ],
          "surface": [
           {
            "colorbar": {
             "outlinewidth": 0,
             "ticks": ""
            },
            "colorscale": [
             [
              0,
              "#0d0887"
             ],
             [
              0.1111111111111111,
              "#46039f"
             ],
             [
              0.2222222222222222,
              "#7201a8"
             ],
             [
              0.3333333333333333,
              "#9c179e"
             ],
             [
              0.4444444444444444,
              "#bd3786"
             ],
             [
              0.5555555555555556,
              "#d8576b"
             ],
             [
              0.6666666666666666,
              "#ed7953"
             ],
             [
              0.7777777777777778,
              "#fb9f3a"
             ],
             [
              0.8888888888888888,
              "#fdca26"
             ],
             [
              1,
              "#f0f921"
             ]
            ],
            "type": "surface"
           }
          ],
          "table": [
           {
            "cells": {
             "fill": {
              "color": "#EBF0F8"
             },
             "line": {
              "color": "white"
             }
            },
            "header": {
             "fill": {
              "color": "#C8D4E3"
             },
             "line": {
              "color": "white"
             }
            },
            "type": "table"
           }
          ]
         },
         "layout": {
          "annotationdefaults": {
           "arrowcolor": "#2a3f5f",
           "arrowhead": 0,
           "arrowwidth": 1
          },
          "autotypenumbers": "strict",
          "coloraxis": {
           "colorbar": {
            "outlinewidth": 0,
            "ticks": ""
           }
          },
          "colorscale": {
           "diverging": [
            [
             0,
             "#8e0152"
            ],
            [
             0.1,
             "#c51b7d"
            ],
            [
             0.2,
             "#de77ae"
            ],
            [
             0.3,
             "#f1b6da"
            ],
            [
             0.4,
             "#fde0ef"
            ],
            [
             0.5,
             "#f7f7f7"
            ],
            [
             0.6,
             "#e6f5d0"
            ],
            [
             0.7,
             "#b8e186"
            ],
            [
             0.8,
             "#7fbc41"
            ],
            [
             0.9,
             "#4d9221"
            ],
            [
             1,
             "#276419"
            ]
           ],
           "sequential": [
            [
             0,
             "#0d0887"
            ],
            [
             0.1111111111111111,
             "#46039f"
            ],
            [
             0.2222222222222222,
             "#7201a8"
            ],
            [
             0.3333333333333333,
             "#9c179e"
            ],
            [
             0.4444444444444444,
             "#bd3786"
            ],
            [
             0.5555555555555556,
             "#d8576b"
            ],
            [
             0.6666666666666666,
             "#ed7953"
            ],
            [
             0.7777777777777778,
             "#fb9f3a"
            ],
            [
             0.8888888888888888,
             "#fdca26"
            ],
            [
             1,
             "#f0f921"
            ]
           ],
           "sequentialminus": [
            [
             0,
             "#0d0887"
            ],
            [
             0.1111111111111111,
             "#46039f"
            ],
            [
             0.2222222222222222,
             "#7201a8"
            ],
            [
             0.3333333333333333,
             "#9c179e"
            ],
            [
             0.4444444444444444,
             "#bd3786"
            ],
            [
             0.5555555555555556,
             "#d8576b"
            ],
            [
             0.6666666666666666,
             "#ed7953"
            ],
            [
             0.7777777777777778,
             "#fb9f3a"
            ],
            [
             0.8888888888888888,
             "#fdca26"
            ],
            [
             1,
             "#f0f921"
            ]
           ]
          },
          "colorway": [
           "#636efa",
           "#EF553B",
           "#00cc96",
           "#ab63fa",
           "#FFA15A",
           "#19d3f3",
           "#FF6692",
           "#B6E880",
           "#FF97FF",
           "#FECB52"
          ],
          "font": {
           "color": "#2a3f5f"
          },
          "geo": {
           "bgcolor": "white",
           "lakecolor": "white",
           "landcolor": "#E5ECF6",
           "showlakes": true,
           "showland": true,
           "subunitcolor": "white"
          },
          "hoverlabel": {
           "align": "left"
          },
          "hovermode": "closest",
          "mapbox": {
           "style": "light"
          },
          "paper_bgcolor": "white",
          "plot_bgcolor": "#E5ECF6",
          "polar": {
           "angularaxis": {
            "gridcolor": "white",
            "linecolor": "white",
            "ticks": ""
           },
           "bgcolor": "#E5ECF6",
           "radialaxis": {
            "gridcolor": "white",
            "linecolor": "white",
            "ticks": ""
           }
          },
          "scene": {
           "xaxis": {
            "backgroundcolor": "#E5ECF6",
            "gridcolor": "white",
            "gridwidth": 2,
            "linecolor": "white",
            "showbackground": true,
            "ticks": "",
            "zerolinecolor": "white"
           },
           "yaxis": {
            "backgroundcolor": "#E5ECF6",
            "gridcolor": "white",
            "gridwidth": 2,
            "linecolor": "white",
            "showbackground": true,
            "ticks": "",
            "zerolinecolor": "white"
           },
           "zaxis": {
            "backgroundcolor": "#E5ECF6",
            "gridcolor": "white",
            "gridwidth": 2,
            "linecolor": "white",
            "showbackground": true,
            "ticks": "",
            "zerolinecolor": "white"
           }
          },
          "shapedefaults": {
           "line": {
            "color": "#2a3f5f"
           }
          },
          "ternary": {
           "aaxis": {
            "gridcolor": "white",
            "linecolor": "white",
            "ticks": ""
           },
           "baxis": {
            "gridcolor": "white",
            "linecolor": "white",
            "ticks": ""
           },
           "bgcolor": "#E5ECF6",
           "caxis": {
            "gridcolor": "white",
            "linecolor": "white",
            "ticks": ""
           }
          },
          "title": {
           "x": 0.05
          },
          "xaxis": {
           "automargin": true,
           "gridcolor": "white",
           "linecolor": "white",
           "ticks": "",
           "title": {
            "standoff": 15
           },
           "zerolinecolor": "white",
           "zerolinewidth": 2
          },
          "yaxis": {
           "automargin": true,
           "gridcolor": "white",
           "linecolor": "white",
           "ticks": "",
           "title": {
            "standoff": 15
           },
           "zerolinecolor": "white",
           "zerolinewidth": 2
          }
         }
        },
        "title": {
         "text": "PM10.0 Sensors Aerosol Concentration at Different Location - medium_speed"
        },
        "width": 500,
        "xaxis": {
         "title": {
          "text": "Elapsed Time (sec)"
         }
        },
        "yaxis": {
         "title": {
          "text": "Mass Concentration (µg/m3)"
         }
        }
       }
      }
     },
     "metadata": {},
     "output_type": "display_data"
    },
    {
     "data": {
      "application/vnd.plotly.v1+json": {
       "config": {
        "plotlyServerURL": "https://plot.ly"
       },
       "data": [
        {
         "name": "front-desk",
         "type": "scatter",
         "x": [
          0,
          1,
          2,
          3,
          4,
          5,
          6,
          7,
          8,
          9,
          10,
          11,
          12,
          13,
          14,
          15,
          16,
          17,
          18,
          19,
          20,
          21,
          22,
          23,
          24,
          25,
          26,
          27,
          28,
          29,
          30,
          31,
          32,
          33,
          34,
          35,
          36,
          37,
          38,
          39,
          40,
          41,
          42,
          43,
          44,
          45,
          46,
          47,
          48,
          49,
          50,
          51,
          52,
          53,
          54,
          55,
          56,
          57,
          58,
          59,
          60,
          61,
          62,
          63,
          64,
          65,
          66,
          67,
          68,
          69,
          70,
          71,
          72,
          73,
          74,
          75,
          76,
          77,
          78,
          79,
          80,
          81,
          82,
          83,
          84,
          85,
          86,
          87,
          88,
          89,
          90,
          91,
          92,
          93,
          94,
          95,
          96,
          97,
          98,
          99,
          100,
          101,
          102,
          103,
          104,
          105,
          106,
          107,
          108,
          109,
          110,
          111,
          112,
          113,
          114,
          115,
          116,
          117,
          118,
          119,
          120,
          121,
          122,
          123,
          124,
          125,
          126,
          127,
          128,
          129,
          130,
          131,
          132,
          133,
          134,
          135,
          136,
          137,
          138,
          139,
          140,
          141,
          142,
          143,
          144,
          145,
          146,
          147,
          148,
          149,
          150,
          151,
          152,
          153,
          154,
          155,
          156,
          157,
          158,
          159,
          160,
          161,
          162,
          163,
          164,
          165,
          166,
          167,
          168,
          169,
          170,
          171,
          172,
          173,
          174,
          175,
          176,
          177,
          178,
          179,
          180,
          181,
          182,
          183,
          184,
          185,
          186,
          187,
          188,
          189,
          190,
          191,
          192,
          193,
          194,
          195,
          196,
          197,
          198,
          199
         ],
         "y": [
          0.719676,
          0.724984,
          0.733214,
          0.766124,
          0.785097,
          0.792595,
          0.812979,
          0.843727,
          0.860155,
          0.859935,
          0.859935,
          0.902596,
          0.920172,
          0.920172,
          0.920012,
          0.917666,
          0.906569,
          0.899559,
          0.896017,
          0.884157,
          0.88829,
          0.882763,
          0.869466,
          0.861066,
          0.867829,
          0.8646,
          0.864435,
          0.855628,
          0.850962,
          0.872391,
          0.881027,
          0.879213,
          0.868954,
          0.851955,
          0.829668,
          0.80332,
          0.773945,
          0.753472,
          0.729346,
          0.702504,
          0.695938,
          0.706012,
          0.7071,
          0.723152,
          0.740074,
          0.746368,
          0.743992,
          0.745665,
          0.739541,
          0.73842,
          0.730123,
          0.727262,
          0.886558,
          5.592299,
          12.585314,
          18.65486,
          30.449997,
          38.200169,
          43.841255,
          48.40023,
          50.048706,
          51.058022,
          50.439926,
          49.628632,
          47.333511,
          44.34111,
          42.867851,
          41.652004,
          41.253521,
          41.672413,
          42.700359,
          42.790447,
          43.554966,
          43.920837,
          44.160118,
          44.437546,
          44.386143,
          44.360424,
          44.161785,
          43.876606,
          43.612968,
          43.170265,
          42.305077,
          40.802422,
          38.991283,
          36.947918,
          34.370167,
          31.440813,
          28.380072,
          25.67695,
          23.56838,
          21.859911,
          20.20896,
          18.900261,
          17.687502,
          16.684896,
          15.703102,
          14.785087,
          13.841109,
          13.056357,
          12.458172,
          11.881158,
          11.366996,
          10.797004,
          10.375098,
          10.043096,
          9.710886,
          9.384237,
          9.115104,
          8.84132,
          8.571927,
          8.316786,
          8.094329,
          7.874294,
          7.414569,
          7.183221,
          6.960673,
          6.770785,
          6.618125,
          6.479387,
          6.32813,
          6.180634,
          6.063209,
          5.934981,
          5.809085,
          5.649597,
          5.49039,
          5.332152,
          5.151054,
          4.953165,
          4.77027,
          4.574712,
          4.394925,
          4.230301,
          4.054777,
          3.924064,
          3.843589,
          3.740246,
          3.644323,
          3.542844,
          3.438854,
          3.320391,
          3.204841,
          3.091486,
          2.982301,
          2.877149,
          2.789766,
          2.703511,
          2.606724,
          2.502347,
          2.431731,
          2.350322,
          2.260963,
          2.166036,
          2.119847,
          2.061373,
          2.019031,
          1.990889,
          1.961093,
          1.92998,
          1.885539,
          1.868915,
          1.86262,
          1.890677,
          1.920392,
          1.925259,
          1.923304,
          1.902533,
          1.880079,
          1.881898,
          1.877188,
          1.86754,
          1.841063,
          1.801215,
          1.750933,
          1.705769,
          1.652142,
          1.605505,
          1.551706,
          1.518784,
          1.476976,
          1.44168,
          1.398731,
          1.389012,
          1.380029,
          1.358987,
          1.35412,
          1.349734,
          1.332695,
          1.331574,
          1.330095,
          1.315574,
          1.290639,
          1.270267,
          1.253926,
          1.241077,
          1.218215,
          1.150685,
          1.150685,
          1.086815
         ]
        },
        {
         "name": "back corner/exhaust",
         "type": "scatter",
         "x": [
          0,
          1,
          2,
          3,
          4,
          5,
          6,
          7,
          8,
          9,
          10,
          11,
          12,
          13,
          14,
          15,
          16,
          17,
          18,
          19,
          20,
          21,
          22,
          23,
          24,
          25,
          26,
          27,
          28,
          29,
          30,
          31,
          32,
          33,
          34,
          35,
          36,
          37,
          38,
          39,
          40,
          41,
          42,
          43,
          44,
          45,
          46,
          47,
          48,
          49,
          50,
          51,
          52,
          53,
          54,
          55,
          56,
          57,
          58,
          59,
          60,
          61,
          62,
          63,
          64,
          65,
          66,
          67,
          68,
          69,
          70,
          71,
          72,
          73,
          74,
          75,
          76,
          77,
          78,
          79,
          80,
          81,
          82,
          83,
          84,
          85,
          86,
          87,
          88,
          89,
          90,
          91,
          92,
          93,
          94,
          95,
          96,
          97,
          98,
          99,
          100,
          101,
          102,
          103,
          104,
          105,
          106,
          107,
          108,
          109,
          110,
          111,
          112,
          113,
          114,
          115,
          116,
          117,
          118,
          119,
          120,
          121,
          122,
          123,
          124,
          125,
          126,
          127,
          128,
          129,
          130,
          131,
          132,
          133,
          134,
          135,
          136,
          137,
          138,
          139,
          140,
          141,
          142,
          143,
          144,
          145,
          146,
          147,
          148,
          149,
          150,
          151,
          152,
          153,
          154,
          155,
          156,
          157,
          158,
          159,
          160,
          161,
          162,
          163,
          164,
          165,
          166,
          167,
          168,
          169,
          170,
          171,
          172,
          173,
          174,
          175,
          176,
          177,
          178,
          179,
          180,
          181,
          182,
          183,
          184,
          185,
          186,
          187,
          188,
          189,
          190,
          191,
          192,
          193,
          194,
          195,
          196,
          197,
          198,
          199
         ],
         "y": [
          1.060949,
          1.081117,
          1.107762,
          1.139288,
          1.163884,
          1.172092,
          1.166957,
          1.151076,
          1.137248,
          1.104021,
          1.104021,
          1.071589,
          1.059437,
          1.059437,
          1.049844,
          1.031031,
          1.015974,
          1.025572,
          1.033541,
          1.040368,
          1.045959,
          1.040015,
          1.035327,
          1.021163,
          1.009977,
          1.001263,
          0.984169,
          0.96046,
          0.942097,
          0.917776,
          0.899339,
          0.886069,
          0.887644,
          0.880045,
          0.875553,
          0.86315,
          0.844467,
          0.820885,
          0.774018,
          0.77141,
          0.78252,
          0.794144,
          0.806237,
          0.818617,
          0.820463,
          0.824244,
          0.850729,
          0.87418,
          1.012679,
          1.908287,
          12.474656,
          25.639765,
          37.462257,
          40.716675,
          54.60891,
          65.803596,
          72.960899,
          62.707478,
          51.739807,
          47.215298,
          50.790474,
          48.83696,
          43.277283,
          40.67804,
          35.828072,
          29.07691,
          25.254341,
          22.224461,
          19.908995,
          18.779362,
          17.355602,
          16.19408,
          15.399884,
          14.680748,
          14.169169,
          13.773969,
          13.34082,
          12.989208,
          12.71503,
          12.474215,
          12.203253,
          11.990115,
          11.83579,
          11.69105,
          11.62077,
          11.546538,
          11.447914,
          11.354154,
          11.255918,
          11.135731,
          10.949478,
          10.708889,
          10.551802,
          10.424489,
          10.248388,
          10.03601,
          9.795139,
          9.492618,
          9.094169,
          8.717844,
          8.337832,
          7.965348,
          7.694545,
          7.396338,
          7.143912,
          6.899681,
          6.74654,
          6.599327,
          6.436606,
          6.282535,
          6.177443,
          6.073213,
          5.999966,
          5.892642,
          5.757136,
          5.620616,
          5.496109,
          5.351288,
          5.223136,
          5.078761,
          4.921796,
          4.766097,
          4.602493,
          4.457687,
          4.31697,
          4.21176,
          4.105302,
          3.988678,
          3.887896,
          3.767743,
          3.633038,
          3.509457,
          3.385024,
          3.303422,
          3.204575,
          3.102877,
          2.999855,
          2.918666,
          2.823889,
          2.729276,
          2.677381,
          2.618874,
          2.545286,
          2.481075,
          2.404218,
          2.350122,
          2.282818,
          2.21605,
          2.161322,
          2.147931,
          2.126185,
          2.087307,
          2.05617,
          2.010392,
          1.953209,
          1.897723,
          1.854721,
          1.801304,
          1.739989,
          1.672897,
          1.612636,
          1.547697,
          1.479617,
          1.420239,
          1.357938,
          1.304314,
          1.247823,
          1.189576,
          1.130493,
          1.092449,
          1.050699,
          1.006364,
          0.981501,
          0.962101,
          0.947471,
          0.936604,
          0.918428,
          0.90508,
          0.885211,
          0.870826,
          0.85046,
          0.825455,
          0.796943,
          0.765876,
          0.753991,
          0.747267,
          0.734315,
          0.716452,
          0.715791,
          0.708055,
          0.694674,
          0.67686,
          0.666269,
          0.651012,
          0.632132,
          0.621127,
          0.606001,
          0.604862,
          0.604862,
          0.58453
         ]
        },
        {
         "name": "back",
         "type": "scatter",
         "x": [
          0,
          1,
          2,
          3,
          4,
          5,
          6,
          7,
          8,
          9,
          10,
          11,
          12,
          13,
          14,
          15,
          16,
          17,
          18,
          19,
          20,
          21,
          22,
          23,
          24,
          25,
          26,
          27,
          28,
          29,
          30,
          31,
          32,
          33,
          34,
          35,
          36,
          37,
          38,
          39,
          40,
          41,
          42,
          43,
          44,
          45,
          46,
          47,
          48,
          49,
          50,
          51,
          52,
          53,
          54,
          55,
          56,
          57,
          58,
          59,
          60,
          61,
          62,
          63,
          64,
          65,
          66,
          67,
          68,
          69,
          70,
          71,
          72,
          73,
          74,
          75,
          76,
          77,
          78,
          79,
          80,
          81,
          82,
          83,
          84,
          85,
          86,
          87,
          88,
          89,
          90,
          91,
          92,
          93,
          94,
          95,
          96,
          97,
          98,
          99,
          100,
          101,
          102,
          103,
          104,
          105,
          106,
          107,
          108,
          109,
          110,
          111,
          112,
          113,
          114,
          115,
          116,
          117,
          118,
          119,
          120,
          121,
          122,
          123,
          124,
          125,
          126,
          127,
          128,
          129,
          130,
          131,
          132,
          133,
          134,
          135,
          136,
          137,
          138,
          139,
          140,
          141,
          142,
          143,
          144,
          145,
          146,
          147,
          148,
          149,
          150,
          151,
          152,
          153,
          154,
          155,
          156,
          157,
          158,
          159,
          160,
          161,
          162,
          163,
          164,
          165,
          166,
          167,
          168,
          169,
          170,
          171,
          172,
          173,
          174,
          175,
          176,
          177,
          178,
          179,
          180,
          181,
          182,
          183,
          184,
          185,
          186,
          187,
          188,
          189,
          190,
          191,
          192,
          193,
          194,
          195,
          196,
          197,
          198,
          199
         ],
         "y": [
          0.799754,
          0.809212,
          0.80872,
          0.800186,
          0.798402,
          0.801857,
          0.796601,
          0.784348,
          0.79235,
          0.829048,
          0.829048,
          0.849002,
          0.868454,
          0.868454,
          0.872384,
          0.887279,
          0.903326,
          0.933597,
          0.948824,
          0.951704,
          0.94455,
          0.942359,
          0.931188,
          0.91285,
          0.888886,
          0.873785,
          0.852848,
          0.827386,
          0.798509,
          0.76715,
          0.73409,
          0.699981,
          0.678318,
          0.667011,
          0.65119,
          0.644817,
          0.633206,
          0.617466,
          0.611494,
          0.600532,
          0.585639,
          0.567714,
          0.547512,
          0.52567,
          0.502718,
          0.479098,
          0.455172,
          0.431239,
          0.40754,
          0.429874,
          0.455503,
          0.484218,
          0.573801,
          0.727792,
          1.010028,
          1.182331,
          1.358067,
          1.52596,
          1.718982,
          2.040828,
          8.75848,
          11.160375,
          12.188037,
          11.005858,
          10.083429,
          9.531147,
          9.248713,
          8.98156,
          8.868838,
          8.921134,
          11.693137,
          15.803502,
          18.133686,
          19.199429,
          19.867598,
          20.135622,
          20.160793,
          20.138264,
          20.000603,
          19.843502,
          19.658117,
          19.389256,
          19.075268,
          18.680016,
          18.253042,
          17.673655,
          16.919962,
          16.03684,
          15.014459,
          13.219723,
          12.495988,
          11.729171,
          11.077318,
          10.517473,
          10.009096,
          9.613433,
          9.26077,
          8.8649,
          8.4517,
          8.088453,
          7.740537,
          7.416246,
          7.078921,
          6.71762,
          6.397429,
          6.08602,
          5.784318,
          5.507303,
          5.252357,
          5.004863,
          4.766537,
          4.537502,
          4.36596,
          4.231043,
          4.091448,
          3.937248,
          3.809357,
          3.680197,
          3.538682,
          3.435496,
          3.317354,
          3.200902,
          3.098221,
          2.996474,
          2.920812,
          2.842039,
          2.761525,
          2.668623,
          2.578399,
          2.479463,
          2.374472,
          2.277465,
          2.249517,
          2.228341,
          2.188944,
          2.135177,
          2.070302,
          1.997072,
          1.917804,
          1.834435,
          1.748573,
          1.661549,
          1.574453,
          1.500076,
          1.436923,
          1.38337,
          1.350153,
          1.309737,
          1.263898,
          1.25052,
          1.263003,
          1.284304,
          1.300742,
          1.301011,
          1.288187,
          1.264892,
          1.245275,
          1.216902,
          1.193682,
          1.174827,
          1.15965,
          1.135708,
          1.140741,
          1.157693,
          1.1718,
          1.195707,
          1.22719,
          1.25234,
          1.260196,
          1.290627,
          1.314349,
          1.332367,
          1.34556,
          1.342822,
          1.327204,
          1.301301,
          1.267325,
          1.239382,
          1.204391,
          1.188074,
          1.174911,
          1.152517,
          1.122868,
          1.124044,
          1.113814,
          1.118346,
          1.122785,
          1.115164,
          1.097848,
          1.084812,
          1.075489,
          1.057184,
          1.031788,
          1.0009,
          0.977816,
          0.949332,
          0.940653,
          0.94462,
          0.94462,
          0.934401
         ]
        },
        {
         "name": "front-tripod",
         "type": "scatter",
         "x": [
          0,
          1,
          2,
          3,
          4,
          5,
          6,
          7,
          8,
          9,
          10,
          11,
          12,
          13,
          14,
          15,
          16,
          17,
          18,
          19,
          20,
          21,
          22,
          23,
          24,
          25,
          26,
          27,
          28,
          29,
          30,
          31,
          32,
          33,
          34,
          35,
          36,
          37,
          38,
          39,
          40,
          41,
          42,
          43,
          44,
          45,
          46,
          47,
          48,
          49,
          50,
          51,
          52,
          53,
          54,
          55,
          56,
          57,
          58,
          59,
          60,
          61,
          62,
          63,
          64,
          65,
          66,
          67,
          68,
          69,
          70,
          71,
          72,
          73,
          74,
          75,
          76,
          77,
          78,
          79,
          80,
          81,
          82,
          83,
          84,
          85,
          86,
          87,
          88,
          89,
          90,
          91,
          92,
          93,
          94,
          95,
          96,
          97,
          98,
          99,
          100,
          101,
          102,
          103,
          104,
          105,
          106,
          107,
          108,
          109,
          110,
          111,
          112,
          113,
          114,
          115,
          116,
          117,
          118,
          119,
          120,
          121,
          122,
          123,
          124,
          125,
          126,
          127,
          128,
          129,
          130,
          131,
          132,
          133,
          134,
          135,
          136,
          137,
          138,
          139,
          140,
          141,
          142,
          143,
          144,
          145,
          146,
          147,
          148,
          149,
          150,
          151,
          152,
          153,
          154,
          155,
          156,
          157,
          158,
          159,
          160,
          161,
          162,
          163,
          164,
          165,
          166,
          167,
          168,
          169,
          170,
          171,
          172,
          173,
          174,
          175,
          176,
          177,
          178,
          179,
          180,
          181,
          182,
          183,
          184,
          185,
          186,
          187,
          188,
          189,
          190,
          191,
          192,
          193,
          194,
          195,
          196,
          197,
          198,
          199
         ],
         "y": [
          0.922998,
          0.920608,
          0.909432,
          0.891258,
          0.877786,
          0.858069,
          0.854058,
          0.842259,
          0.834396,
          0.865166,
          0.865166,
          0.882991,
          0.885969,
          0.885969,
          0.865565,
          0.855789,
          0.839325,
          0.827945,
          0.810472,
          0.788233,
          0.772502,
          0.752043,
          0.727958,
          0.701177,
          0.672476,
          0.652752,
          0.650633,
          0.652617,
          0.647692,
          0.667709,
          0.687402,
          0.696432,
          0.706936,
          0.728714,
          0.759272,
          0.77634,
          0.792542,
          0.797672,
          0.793794,
          0.803257,
          0.80287,
          0.804609,
          0.808095,
          0.802807,
          0.800618,
          0.79081,
          0.795104,
          0.800659,
          0.797092,
          0.786181,
          0.779596,
          7.410289,
          13.532255,
          24.795181,
          39.243561,
          50.041023,
          55.935089,
          59.627453,
          57.784618,
          53.750938,
          49.206062,
          45.417282,
          44.056335,
          41.496258,
          37.893795,
          34.513824,
          32.215881,
          30.194979,
          29.401381,
          29.248112,
          29.234919,
          29.277208,
          29.304092,
          29.359776,
          29.420855,
          29.513268,
          29.547089,
          29.520685,
          29.596104,
          29.471107,
          28.80278,
          27.983942,
          27.112734,
          26.24177,
          24.936428,
          23.64986,
          22.382647,
          21.542288,
          20.734726,
          19.853348,
          19.121746,
          18.100483,
          17.387297,
          16.612551,
          15.958765,
          15.379756,
          14.808993,
          14.31388,
          13.852359,
          13.348547,
          12.905574,
          12.471338,
          12.072714,
          11.635072,
          11.281602,
          10.904322,
          10.448298,
          10.117714,
          9.750903,
          9.426612,
          9.104458,
          8.798717,
          8.516689,
          8.225443,
          7.917762,
          7.590384,
          7.272865,
          6.968801,
          6.696426,
          6.440666,
          6.202539,
          5.979858,
          5.761559,
          5.559983,
          5.406561,
          5.238698,
          5.106678,
          4.970033,
          4.821485,
          4.663528,
          4.511026,
          4.396446,
          4.314899,
          4.283385,
          4.215594,
          4.129794,
          4.073852,
          4.045122,
          3.9936,
          3.819951,
          3.71872,
          3.600054,
          3.49038,
          3.367049,
          3.267277,
          3.154171,
          3.05397,
          2.953278,
          2.853172,
          2.74378,
          2.62792,
          2.51873,
          2.438793,
          2.360639,
          2.296103,
          2.232446,
          2.203255,
          2.191591,
          2.194937,
          2.176047,
          2.150543,
          2.108643,
          2.053835,
          2.011331,
          1.968293,
          1.913908,
          1.873388,
          1.82197,
          1.762214,
          1.707531,
          1.646248,
          1.580217,
          1.510987,
          1.450959,
          1.421556,
          1.417829,
          1.412074,
          1.415871,
          1.404847,
          1.39345,
          1.381893,
          1.358801,
          1.360668,
          1.348667,
          1.336712,
          1.313711,
          1.293351,
          1.2754,
          1.248151,
          1.213636,
          1.184791,
          1.160822,
          1.141156,
          1.136896,
          1.122113,
          1.09895,
          1.069224,
          1.048225,
          1.048225,
          1.0483
         ]
        },
        {
         "name": "front corner",
         "type": "scatter",
         "x": [
          0,
          1,
          2,
          3,
          4,
          5,
          6,
          7,
          8,
          9,
          10,
          11,
          12,
          13,
          14,
          15,
          16,
          17,
          18,
          19,
          20,
          21,
          22,
          23,
          24,
          25,
          26,
          27,
          28,
          29,
          30,
          31,
          32,
          33,
          34,
          35,
          36,
          37,
          38,
          39,
          40,
          41,
          42,
          43,
          44,
          45,
          46,
          47,
          48,
          49,
          50,
          51,
          52,
          53,
          54,
          55,
          56,
          57,
          58,
          59,
          60,
          61,
          62,
          63,
          64,
          65,
          66,
          67,
          68,
          69,
          70,
          71,
          72,
          73,
          74,
          75,
          76,
          77,
          78,
          79,
          80,
          81,
          82,
          83,
          84,
          85,
          86,
          87,
          88,
          89,
          90,
          91,
          92,
          93,
          94,
          95,
          96,
          97,
          98,
          99,
          100,
          101,
          102,
          103,
          104,
          105,
          106,
          107,
          108,
          109,
          110,
          111,
          112,
          113,
          114,
          115,
          116,
          117,
          118,
          119,
          120,
          121,
          122,
          123,
          124,
          125,
          126,
          127,
          128,
          129,
          130,
          131,
          132,
          133,
          134,
          135,
          136,
          137,
          138,
          139,
          140,
          141,
          142,
          143,
          144,
          145,
          146,
          147,
          148,
          149,
          150,
          151,
          152,
          153,
          154,
          155,
          156,
          157,
          158,
          159,
          160,
          161,
          162,
          163,
          164,
          165,
          166,
          167,
          168,
          169,
          170,
          171,
          172,
          173,
          174,
          175,
          176,
          177,
          178,
          179,
          180,
          181,
          182,
          183,
          184,
          185,
          186,
          187,
          188,
          189,
          190,
          191,
          192,
          193,
          194,
          195,
          196,
          197,
          198,
          199
         ],
         "y": [
          0.813533,
          0.796374,
          0.783479,
          0.774084,
          0.776504,
          0.779737,
          0.77453,
          0.762545,
          0.754267,
          0.740013,
          0.730002,
          0.714585,
          0.703883,
          0.697057,
          0.693427,
          0.683526,
          0.677533,
          0.665874,
          0.658789,
          0.646448,
          0.629975,
          0.628187,
          0.629315,
          0.632943,
          0.629542,
          0.647231,
          0.664097,
          0.689014,
          0.702308,
          0.706054,
          0.70203,
          0.691751,
          0.676509,
          0.666265,
          0.669078,
          0.664646,
          0.672239,
          0.68943,
          0.696425,
          0.704027,
          0.703117,
          0.704226,
          0.698056,
          0.6949,
          0.703095,
          8.109637,
          19.238262,
          56.003407,
          103.773033,
          145.832275,
          189.32579,
          205.482742,
          211.158356,
          188.914185,
          157.069153,
          122.550636,
          101.955437,
          86.413589,
          87.223831,
          88.761696,
          89.006645,
          88.116714,
          85.047363,
          80.259308,
          73.610611,
          67.321747,
          61.742435,
          56.07494,
          50.149029,
          44.703506,
          40.366837,
          36.701408,
          33.268818,
          30.339304,
          27.418375,
          24.490776,
          22.533968,
          21.130342,
          19.982458,
          18.966797,
          18.010405,
          17.240719,
          16.742399,
          16.352388,
          16.064058,
          15.509584,
          15.224836,
          15.042293,
          14.846139,
          14.677447,
          14.463717,
          14.297887,
          14.106443,
          13.846383,
          13.5955,
          13.327368,
          13.065127,
          12.732248,
          12.477751,
          12.227748,
          11.985574,
          11.781643,
          11.591031,
          11.369909,
          11.135621,
          10.87463,
          10.593492,
          10.310717,
          9.976057,
          9.591823,
          9.26298,
          8.971193,
          8.648209,
          8.306196,
          7.956378,
          7.633871,
          7.40408,
          7.125939,
          6.870702,
          6.628702,
          6.395936,
          6.192472,
          5.988057,
          5.772597,
          5.551839,
          5.338772,
          5.133234,
          4.946202,
          4.746017,
          4.556964,
          4.397147,
          4.24284,
          4.075868,
          3.920373,
          3.797083,
          3.669794,
          3.569807,
          3.463083,
          3.352384,
          3.278763,
          3.205782,
          3.146272,
          3.106062,
          3.052334,
          2.988133,
          2.926995,
          2.848415,
          2.756457,
          2.664227,
          2.562982,
          2.496548,
          2.438249,
          2.396077,
          2.338073,
          2.267807,
          2.188291,
          2.102065,
          2.031376,
          1.953858,
          1.881411,
          1.823882,
          1.759055,
          1.688964,
          1.64575,
          1.604468,
          1.564902,
          1.527107,
          1.491222,
          1.447231,
          1.407209,
          1.370617,
          1.337533,
          1.30764,
          1.280475,
          1.285865,
          1.27738,
          1.257739,
          1.229257,
          1.203827,
          1.17118,
          1.133016,
          1.111269,
          1.082566,
          1.058465,
          1.038616,
          1.012177,
          1.010838,
          0.999662,
          0.980626,
          0.955412,
          0.965569,
          0.964118,
          0.953285,
          0.934961,
          0.910758,
          0.882035,
          0.849941,
          0.789538,
          0.789538,
          0.69728
         ]
        },
        {
         "name": "door",
         "type": "scatter",
         "x": [
          0,
          1,
          2,
          3,
          4,
          5,
          6,
          7,
          8,
          9,
          10,
          11,
          12,
          13,
          14,
          15,
          16,
          17,
          18,
          19,
          20,
          21,
          22,
          23,
          24,
          25,
          26,
          27,
          28,
          29,
          30,
          31,
          32,
          33,
          34,
          35,
          36,
          37,
          38,
          39,
          40,
          41,
          42,
          43,
          44,
          45,
          46,
          47,
          48,
          49,
          50,
          51,
          52,
          53,
          54,
          55,
          56,
          57,
          58,
          59,
          60,
          61,
          62,
          63,
          64,
          65,
          66,
          67,
          68,
          69,
          70,
          71,
          72,
          73,
          74,
          75,
          76,
          77,
          78,
          79,
          80,
          81,
          82,
          83,
          84,
          85,
          86,
          87,
          88,
          89,
          90,
          91,
          92,
          93,
          94,
          95,
          96,
          97,
          98,
          99,
          100,
          101,
          102,
          103,
          104,
          105,
          106,
          107,
          108,
          109,
          110,
          111,
          112,
          113,
          114,
          115,
          116,
          117,
          118,
          119,
          120,
          121,
          122,
          123,
          124,
          125,
          126,
          127,
          128,
          129,
          130,
          131,
          132,
          133,
          134,
          135,
          136,
          137,
          138,
          139,
          140,
          141,
          142,
          143,
          144,
          145,
          146,
          147,
          148,
          149,
          150,
          151,
          152,
          153,
          154,
          155,
          156,
          157,
          158,
          159,
          160,
          161,
          162,
          163,
          164,
          165,
          166,
          167,
          168,
          169,
          170,
          171,
          172,
          173,
          174,
          175,
          176,
          177,
          178,
          179,
          180,
          181,
          182,
          183,
          184,
          185,
          186,
          187,
          188,
          189,
          190,
          191,
          192,
          193,
          194,
          195,
          196,
          197,
          198,
          199
         ],
         "y": [
          1.21548,
          1.211487,
          1.196088,
          1.181575,
          1.168071,
          1.145399,
          1.135734,
          1.136692,
          1.135992,
          1.121157,
          1.121157,
          1.101051,
          1.09132,
          1.09132,
          1.077243,
          1.070359,
          1.064201,
          1.048598,
          1.025496,
          0.996547,
          0.973106,
          0.944391,
          0.931618,
          0.911932,
          0.896953,
          0.896029,
          0.896538,
          0.887991,
          0.882428,
          0.879215,
          0.87789,
          0.868055,
          0.851422,
          0.829447,
          0.813346,
          0.802281,
          0.795411,
          0.781896,
          0.763132,
          0.75042,
          0.752841,
          0.757511,
          0.76381,
          0.761296,
          0.751666,
          0.746599,
          0.7453,
          0.736843,
          0.788569,
          10.307037,
          30.329576,
          48.633991,
          73.459755,
          91.454689,
          106.651237,
          111.31881,
          110.656555,
          102.581581,
          96.384186,
          84.99189,
          74.642052,
          69.277359,
          70.820999,
          73.304695,
          76.95253,
          90.459747,
          95.486801,
          97.284027,
          98.051262,
          97.347221,
          96.253075,
          93.87207,
          90.068604,
          83.49601,
          72.694427,
          61.928898,
          52.198875,
          43.050385,
          35.947124,
          30.404736,
          25.291077,
          21.447582,
          19.041155,
          17.107422,
          15.713202,
          14.675718,
          13.676896,
          12.881395,
          12.140615,
          11.605121,
          11.227174,
          10.84967,
          10.502781,
          10.203924,
          9.943604,
          9.730257,
          9.481492,
          9.240082,
          8.989589,
          8.731247,
          8.451259,
          8.162997,
          7.906012,
          7.739124,
          7.589487,
          7.484616,
          7.344194,
          7.174963,
          7.039261,
          6.877758,
          6.687335,
          6.493175,
          6.306566,
          6.13065,
          5.984592,
          5.834911,
          5.691787,
          5.555492,
          5.448492,
          5.308095,
          5.151869,
          5.02983,
          4.908499,
          4.789466,
          4.683523,
          4.560495,
          4.443243,
          4.352606,
          4.253669,
          4.1787,
          4.095388,
          3.987467,
          3.860597,
          3.746512,
          3.625723,
          3.500989,
          3.383819,
          3.27396,
          3.188953,
          3.106776,
          3.018588,
          2.944933,
          2.865259,
          2.808939,
          2.744971,
          2.68408,
          2.607907,
          2.547878,
          2.483133,
          2.405828,
          2.357265,
          2.313143,
          2.263716,
          2.220473,
          2.182117,
          2.15695,
          2.124567,
          2.086843,
          2.054298,
          2.0169,
          1.985337,
          1.958817,
          1.936791,
          1.918656,
          1.884902,
          1.838815,
          1.783178,
          1.72969,
          1.669122,
          1.622195,
          1.568006,
          1.508471,
          1.454723,
          1.396677,
          1.335723,
          1.28228,
          1.226182,
          1.178108,
          1.136935,
          1.092244,
          1.045145,
          0.996563,
          0.914821,
          0.87178,
          0.837557,
          0.801464,
          0.773796,
          0.743658,
          0.711821,
          0.688297,
          0.662363,
          0.634734,
          0.624897,
          0.610678,
          0.59305,
          0.572839,
          0.550738,
          0.54634,
          0.556194,
          0.554984
         ]
        }
       ],
       "layout": {
        "font": {
         "size": 8
        },
        "height": 300,
        "legend": {
         "title": {
          "text": "Sensor Location"
         }
        },
        "showlegend": true,
        "template": {
         "data": {
          "bar": [
           {
            "error_x": {
             "color": "#2a3f5f"
            },
            "error_y": {
             "color": "#2a3f5f"
            },
            "marker": {
             "line": {
              "color": "#E5ECF6",
              "width": 0.5
             },
             "pattern": {
              "fillmode": "overlay",
              "size": 10,
              "solidity": 0.2
             }
            },
            "type": "bar"
           }
          ],
          "barpolar": [
           {
            "marker": {
             "line": {
              "color": "#E5ECF6",
              "width": 0.5
             },
             "pattern": {
              "fillmode": "overlay",
              "size": 10,
              "solidity": 0.2
             }
            },
            "type": "barpolar"
           }
          ],
          "carpet": [
           {
            "aaxis": {
             "endlinecolor": "#2a3f5f",
             "gridcolor": "white",
             "linecolor": "white",
             "minorgridcolor": "white",
             "startlinecolor": "#2a3f5f"
            },
            "baxis": {
             "endlinecolor": "#2a3f5f",
             "gridcolor": "white",
             "linecolor": "white",
             "minorgridcolor": "white",
             "startlinecolor": "#2a3f5f"
            },
            "type": "carpet"
           }
          ],
          "choropleth": [
           {
            "colorbar": {
             "outlinewidth": 0,
             "ticks": ""
            },
            "type": "choropleth"
           }
          ],
          "contour": [
           {
            "colorbar": {
             "outlinewidth": 0,
             "ticks": ""
            },
            "colorscale": [
             [
              0,
              "#0d0887"
             ],
             [
              0.1111111111111111,
              "#46039f"
             ],
             [
              0.2222222222222222,
              "#7201a8"
             ],
             [
              0.3333333333333333,
              "#9c179e"
             ],
             [
              0.4444444444444444,
              "#bd3786"
             ],
             [
              0.5555555555555556,
              "#d8576b"
             ],
             [
              0.6666666666666666,
              "#ed7953"
             ],
             [
              0.7777777777777778,
              "#fb9f3a"
             ],
             [
              0.8888888888888888,
              "#fdca26"
             ],
             [
              1,
              "#f0f921"
             ]
            ],
            "type": "contour"
           }
          ],
          "contourcarpet": [
           {
            "colorbar": {
             "outlinewidth": 0,
             "ticks": ""
            },
            "type": "contourcarpet"
           }
          ],
          "heatmap": [
           {
            "colorbar": {
             "outlinewidth": 0,
             "ticks": ""
            },
            "colorscale": [
             [
              0,
              "#0d0887"
             ],
             [
              0.1111111111111111,
              "#46039f"
             ],
             [
              0.2222222222222222,
              "#7201a8"
             ],
             [
              0.3333333333333333,
              "#9c179e"
             ],
             [
              0.4444444444444444,
              "#bd3786"
             ],
             [
              0.5555555555555556,
              "#d8576b"
             ],
             [
              0.6666666666666666,
              "#ed7953"
             ],
             [
              0.7777777777777778,
              "#fb9f3a"
             ],
             [
              0.8888888888888888,
              "#fdca26"
             ],
             [
              1,
              "#f0f921"
             ]
            ],
            "type": "heatmap"
           }
          ],
          "heatmapgl": [
           {
            "colorbar": {
             "outlinewidth": 0,
             "ticks": ""
            },
            "colorscale": [
             [
              0,
              "#0d0887"
             ],
             [
              0.1111111111111111,
              "#46039f"
             ],
             [
              0.2222222222222222,
              "#7201a8"
             ],
             [
              0.3333333333333333,
              "#9c179e"
             ],
             [
              0.4444444444444444,
              "#bd3786"
             ],
             [
              0.5555555555555556,
              "#d8576b"
             ],
             [
              0.6666666666666666,
              "#ed7953"
             ],
             [
              0.7777777777777778,
              "#fb9f3a"
             ],
             [
              0.8888888888888888,
              "#fdca26"
             ],
             [
              1,
              "#f0f921"
             ]
            ],
            "type": "heatmapgl"
           }
          ],
          "histogram": [
           {
            "marker": {
             "pattern": {
              "fillmode": "overlay",
              "size": 10,
              "solidity": 0.2
             }
            },
            "type": "histogram"
           }
          ],
          "histogram2d": [
           {
            "colorbar": {
             "outlinewidth": 0,
             "ticks": ""
            },
            "colorscale": [
             [
              0,
              "#0d0887"
             ],
             [
              0.1111111111111111,
              "#46039f"
             ],
             [
              0.2222222222222222,
              "#7201a8"
             ],
             [
              0.3333333333333333,
              "#9c179e"
             ],
             [
              0.4444444444444444,
              "#bd3786"
             ],
             [
              0.5555555555555556,
              "#d8576b"
             ],
             [
              0.6666666666666666,
              "#ed7953"
             ],
             [
              0.7777777777777778,
              "#fb9f3a"
             ],
             [
              0.8888888888888888,
              "#fdca26"
             ],
             [
              1,
              "#f0f921"
             ]
            ],
            "type": "histogram2d"
           }
          ],
          "histogram2dcontour": [
           {
            "colorbar": {
             "outlinewidth": 0,
             "ticks": ""
            },
            "colorscale": [
             [
              0,
              "#0d0887"
             ],
             [
              0.1111111111111111,
              "#46039f"
             ],
             [
              0.2222222222222222,
              "#7201a8"
             ],
             [
              0.3333333333333333,
              "#9c179e"
             ],
             [
              0.4444444444444444,
              "#bd3786"
             ],
             [
              0.5555555555555556,
              "#d8576b"
             ],
             [
              0.6666666666666666,
              "#ed7953"
             ],
             [
              0.7777777777777778,
              "#fb9f3a"
             ],
             [
              0.8888888888888888,
              "#fdca26"
             ],
             [
              1,
              "#f0f921"
             ]
            ],
            "type": "histogram2dcontour"
           }
          ],
          "mesh3d": [
           {
            "colorbar": {
             "outlinewidth": 0,
             "ticks": ""
            },
            "type": "mesh3d"
           }
          ],
          "parcoords": [
           {
            "line": {
             "colorbar": {
              "outlinewidth": 0,
              "ticks": ""
             }
            },
            "type": "parcoords"
           }
          ],
          "pie": [
           {
            "automargin": true,
            "type": "pie"
           }
          ],
          "scatter": [
           {
            "fillpattern": {
             "fillmode": "overlay",
             "size": 10,
             "solidity": 0.2
            },
            "type": "scatter"
           }
          ],
          "scatter3d": [
           {
            "line": {
             "colorbar": {
              "outlinewidth": 0,
              "ticks": ""
             }
            },
            "marker": {
             "colorbar": {
              "outlinewidth": 0,
              "ticks": ""
             }
            },
            "type": "scatter3d"
           }
          ],
          "scattercarpet": [
           {
            "marker": {
             "colorbar": {
              "outlinewidth": 0,
              "ticks": ""
             }
            },
            "type": "scattercarpet"
           }
          ],
          "scattergeo": [
           {
            "marker": {
             "colorbar": {
              "outlinewidth": 0,
              "ticks": ""
             }
            },
            "type": "scattergeo"
           }
          ],
          "scattergl": [
           {
            "marker": {
             "colorbar": {
              "outlinewidth": 0,
              "ticks": ""
             }
            },
            "type": "scattergl"
           }
          ],
          "scattermapbox": [
           {
            "marker": {
             "colorbar": {
              "outlinewidth": 0,
              "ticks": ""
             }
            },
            "type": "scattermapbox"
           }
          ],
          "scatterpolar": [
           {
            "marker": {
             "colorbar": {
              "outlinewidth": 0,
              "ticks": ""
             }
            },
            "type": "scatterpolar"
           }
          ],
          "scatterpolargl": [
           {
            "marker": {
             "colorbar": {
              "outlinewidth": 0,
              "ticks": ""
             }
            },
            "type": "scatterpolargl"
           }
          ],
          "scatterternary": [
           {
            "marker": {
             "colorbar": {
              "outlinewidth": 0,
              "ticks": ""
             }
            },
            "type": "scatterternary"
           }
          ],
          "surface": [
           {
            "colorbar": {
             "outlinewidth": 0,
             "ticks": ""
            },
            "colorscale": [
             [
              0,
              "#0d0887"
             ],
             [
              0.1111111111111111,
              "#46039f"
             ],
             [
              0.2222222222222222,
              "#7201a8"
             ],
             [
              0.3333333333333333,
              "#9c179e"
             ],
             [
              0.4444444444444444,
              "#bd3786"
             ],
             [
              0.5555555555555556,
              "#d8576b"
             ],
             [
              0.6666666666666666,
              "#ed7953"
             ],
             [
              0.7777777777777778,
              "#fb9f3a"
             ],
             [
              0.8888888888888888,
              "#fdca26"
             ],
             [
              1,
              "#f0f921"
             ]
            ],
            "type": "surface"
           }
          ],
          "table": [
           {
            "cells": {
             "fill": {
              "color": "#EBF0F8"
             },
             "line": {
              "color": "white"
             }
            },
            "header": {
             "fill": {
              "color": "#C8D4E3"
             },
             "line": {
              "color": "white"
             }
            },
            "type": "table"
           }
          ]
         },
         "layout": {
          "annotationdefaults": {
           "arrowcolor": "#2a3f5f",
           "arrowhead": 0,
           "arrowwidth": 1
          },
          "autotypenumbers": "strict",
          "coloraxis": {
           "colorbar": {
            "outlinewidth": 0,
            "ticks": ""
           }
          },
          "colorscale": {
           "diverging": [
            [
             0,
             "#8e0152"
            ],
            [
             0.1,
             "#c51b7d"
            ],
            [
             0.2,
             "#de77ae"
            ],
            [
             0.3,
             "#f1b6da"
            ],
            [
             0.4,
             "#fde0ef"
            ],
            [
             0.5,
             "#f7f7f7"
            ],
            [
             0.6,
             "#e6f5d0"
            ],
            [
             0.7,
             "#b8e186"
            ],
            [
             0.8,
             "#7fbc41"
            ],
            [
             0.9,
             "#4d9221"
            ],
            [
             1,
             "#276419"
            ]
           ],
           "sequential": [
            [
             0,
             "#0d0887"
            ],
            [
             0.1111111111111111,
             "#46039f"
            ],
            [
             0.2222222222222222,
             "#7201a8"
            ],
            [
             0.3333333333333333,
             "#9c179e"
            ],
            [
             0.4444444444444444,
             "#bd3786"
            ],
            [
             0.5555555555555556,
             "#d8576b"
            ],
            [
             0.6666666666666666,
             "#ed7953"
            ],
            [
             0.7777777777777778,
             "#fb9f3a"
            ],
            [
             0.8888888888888888,
             "#fdca26"
            ],
            [
             1,
             "#f0f921"
            ]
           ],
           "sequentialminus": [
            [
             0,
             "#0d0887"
            ],
            [
             0.1111111111111111,
             "#46039f"
            ],
            [
             0.2222222222222222,
             "#7201a8"
            ],
            [
             0.3333333333333333,
             "#9c179e"
            ],
            [
             0.4444444444444444,
             "#bd3786"
            ],
            [
             0.5555555555555556,
             "#d8576b"
            ],
            [
             0.6666666666666666,
             "#ed7953"
            ],
            [
             0.7777777777777778,
             "#fb9f3a"
            ],
            [
             0.8888888888888888,
             "#fdca26"
            ],
            [
             1,
             "#f0f921"
            ]
           ]
          },
          "colorway": [
           "#636efa",
           "#EF553B",
           "#00cc96",
           "#ab63fa",
           "#FFA15A",
           "#19d3f3",
           "#FF6692",
           "#B6E880",
           "#FF97FF",
           "#FECB52"
          ],
          "font": {
           "color": "#2a3f5f"
          },
          "geo": {
           "bgcolor": "white",
           "lakecolor": "white",
           "landcolor": "#E5ECF6",
           "showlakes": true,
           "showland": true,
           "subunitcolor": "white"
          },
          "hoverlabel": {
           "align": "left"
          },
          "hovermode": "closest",
          "mapbox": {
           "style": "light"
          },
          "paper_bgcolor": "white",
          "plot_bgcolor": "#E5ECF6",
          "polar": {
           "angularaxis": {
            "gridcolor": "white",
            "linecolor": "white",
            "ticks": ""
           },
           "bgcolor": "#E5ECF6",
           "radialaxis": {
            "gridcolor": "white",
            "linecolor": "white",
            "ticks": ""
           }
          },
          "scene": {
           "xaxis": {
            "backgroundcolor": "#E5ECF6",
            "gridcolor": "white",
            "gridwidth": 2,
            "linecolor": "white",
            "showbackground": true,
            "ticks": "",
            "zerolinecolor": "white"
           },
           "yaxis": {
            "backgroundcolor": "#E5ECF6",
            "gridcolor": "white",
            "gridwidth": 2,
            "linecolor": "white",
            "showbackground": true,
            "ticks": "",
            "zerolinecolor": "white"
           },
           "zaxis": {
            "backgroundcolor": "#E5ECF6",
            "gridcolor": "white",
            "gridwidth": 2,
            "linecolor": "white",
            "showbackground": true,
            "ticks": "",
            "zerolinecolor": "white"
           }
          },
          "shapedefaults": {
           "line": {
            "color": "#2a3f5f"
           }
          },
          "ternary": {
           "aaxis": {
            "gridcolor": "white",
            "linecolor": "white",
            "ticks": ""
           },
           "baxis": {
            "gridcolor": "white",
            "linecolor": "white",
            "ticks": ""
           },
           "bgcolor": "#E5ECF6",
           "caxis": {
            "gridcolor": "white",
            "linecolor": "white",
            "ticks": ""
           }
          },
          "title": {
           "x": 0.05
          },
          "xaxis": {
           "automargin": true,
           "gridcolor": "white",
           "linecolor": "white",
           "ticks": "",
           "title": {
            "standoff": 15
           },
           "zerolinecolor": "white",
           "zerolinewidth": 2
          },
          "yaxis": {
           "automargin": true,
           "gridcolor": "white",
           "linecolor": "white",
           "ticks": "",
           "title": {
            "standoff": 15
           },
           "zerolinecolor": "white",
           "zerolinewidth": 2
          }
         }
        },
        "title": {
         "text": "PM10.0 Sensors Aerosol Concentration at Different Location - high_speed"
        },
        "width": 500,
        "xaxis": {
         "title": {
          "text": "Elapsed Time (sec)"
         }
        },
        "yaxis": {
         "title": {
          "text": "Mass Concentration (µg/m3)"
         }
        }
       }
      }
     },
     "metadata": {},
     "output_type": "display_data"
    },
    {
     "data": {
      "application/vnd.plotly.v1+json": {
       "config": {
        "plotlyServerURL": "https://plot.ly"
       },
       "data": [
        {
         "name": "front-desk",
         "type": "scatter",
         "x": [
          0,
          1,
          2,
          3,
          4,
          5,
          6,
          7,
          8,
          9,
          10,
          11,
          12,
          13,
          14,
          15,
          16,
          17,
          18,
          19,
          20,
          21,
          22,
          23,
          24,
          25,
          26,
          27,
          28,
          29,
          30,
          31,
          32,
          33,
          34,
          35,
          36,
          37,
          38,
          39,
          40,
          41,
          42,
          43,
          44,
          45,
          46,
          47,
          48,
          49,
          50,
          51,
          52,
          53,
          54,
          55,
          56,
          57,
          58,
          59,
          60,
          61,
          62,
          63,
          64,
          65,
          66,
          67,
          68,
          69,
          70,
          71,
          72,
          73,
          74,
          75,
          76,
          77,
          78,
          79,
          80,
          81,
          82,
          83,
          84,
          85,
          86,
          87,
          88,
          89,
          90,
          91,
          92,
          93,
          94,
          95,
          96,
          97,
          98,
          99,
          100,
          101,
          102,
          103,
          104,
          105,
          106,
          107,
          108,
          109,
          110,
          111,
          112,
          113,
          114,
          115,
          116,
          117,
          118,
          119,
          120,
          121,
          122,
          123,
          124,
          125,
          126,
          127,
          128,
          129,
          130,
          131,
          132,
          133,
          134,
          135,
          136,
          137,
          138,
          139,
          140,
          141,
          142,
          143,
          144,
          145,
          146,
          147,
          148,
          149,
          150,
          151,
          152,
          153,
          154,
          155,
          156,
          157,
          158,
          159,
          160,
          161,
          162,
          163,
          164,
          165,
          166,
          167,
          168,
          169,
          170,
          171,
          172,
          173,
          174,
          175,
          176,
          177,
          178,
          179,
          180,
          181,
          182,
          183,
          184,
          185,
          186,
          187,
          188,
          189,
          190,
          191,
          192,
          193,
          194,
          195,
          196,
          197,
          198,
          199
         ],
         "y": [
          1.009692,
          1.004653,
          0.990526,
          0.969177,
          0.942194,
          0.913853,
          0.902931,
          0.908811,
          0.954004,
          0.974073,
          0.980587,
          0.982354,
          0.968034,
          0.948777,
          0.921872,
          0.917784,
          0.904469,
          0.884639,
          0.859731,
          0.830958,
          0.687709,
          0.657482,
          0.657482,
          14.73974,
          14.73974,
          45.473423,
          52.102184,
          46.520752,
          77.177147,
          240.981094,
          586.952576,
          816.376526,
          1367.957642,
          1359.538086,
          1050.580322,
          786.791748,
          538.488342,
          352.218872,
          288.994873,
          219.789627,
          151.264282,
          99.861183,
          62.976772,
          39.131241,
          23.386692,
          14.16397,
          9.437566,
          7.390202,
          5.777545,
          4.11664,
          6.406115,
          14.71139,
          13.669738,
          12.978773,
          26.922791,
          32.078571,
          27.774609,
          23.301804,
          26.438734,
          21.546631,
          16.803699,
          50.805801,
          92.900505,
          95.693085,
          73.587952,
          50.038029,
          32.201057,
          19.878223,
          15.001436,
          10.218553,
          6.841547,
          6.340335,
          5.563324,
          5.844993,
          6.880939,
          8.490137,
          18.611849,
          23.956322,
          23.223537,
          19.287884,
          14.602052,
          11.853971,
          10.84523,
          10.232432,
          9.929473,
          9.668221,
          9.22479,
          9.14202,
          34.576389,
          61.972244,
          70.31559,
          69.196518,
          60.391354,
          46.079029,
          33.407967,
          23.008261,
          18.203098,
          12.824383,
          8.646958,
          7.12094,
          9.066054,
          15.686202,
          20.700022,
          28.165657,
          33.237637,
          97.700775,
          126.042618,
          110.63102,
          80.836792,
          53.755138,
          33.741138,
          20.866625,
          13.933755,
          10.406466,
          7.488029,
          5.826077,
          6.584062,
          6.444645,
          5.363934,
          4.694451,
          4.115415,
          3.410542,
          2.974519,
          2.68961,
          2.494211,
          2.32679,
          2.186132,
          2.048324,
          1.950037,
          1.852569,
          1.758341,
          1.668451,
          1.582282,
          1.496673,
          1.419873,
          1.366056,
          1.354018,
          1.353379,
          1.3469,
          1.365983,
          1.419034,
          2.07343,
          19.208645,
          33.486717,
          39.396927,
          36.246414,
          31.825989,
          27.626495,
          20.869286,
          14.955868,
          9.948109,
          5.100971,
          7.228402,
          13.43031,
          14.000489,
          11.244238,
          8.144076,
          5.750027,
          4.162546,
          3.344799,
          4.650367,
          4.762365,
          4.557586,
          4.235848,
          4.129329,
          3.955005,
          3.732201,
          3.671143,
          3.573142,
          3.475422,
          3.394731,
          3.326365,
          3.261906,
          3.200603,
          3.14241,
          3.095372,
          3.065251,
          3.01803,
          2.973704,
          2.923709,
          2.885708,
          2.841702,
          2.86526,
          3.013765,
          3.202248,
          3.368095,
          3.88646,
          4.477942,
          4.870891,
          5.142473,
          5.323289,
          5.399186,
          5.443058,
          5.4769,
          5.511201,
          5.85355,
          6.089758,
          6.246097,
          6.352987,
          6.391551
         ]
        },
        {
         "name": "back corner/exhaust",
         "type": "scatter",
         "x": [
          0,
          1,
          2,
          3,
          4,
          5,
          6,
          7,
          8,
          9,
          10,
          11,
          12,
          13,
          14,
          15,
          16,
          17,
          18,
          19,
          20,
          21,
          22,
          23,
          24,
          25,
          26,
          27,
          28,
          29,
          30,
          31,
          32,
          33,
          34,
          35,
          36,
          37,
          38,
          39,
          40,
          41,
          42,
          43,
          44,
          45,
          46,
          47,
          48,
          49,
          50,
          51,
          52,
          53,
          54,
          55,
          56,
          57,
          58,
          59,
          60,
          61,
          62,
          63,
          64,
          65,
          66,
          67,
          68,
          69,
          70,
          71,
          72,
          73,
          74,
          75,
          76,
          77,
          78,
          79,
          80,
          81,
          82,
          83,
          84,
          85,
          86,
          87,
          88,
          89,
          90,
          91,
          92,
          93,
          94,
          95,
          96,
          97,
          98,
          99,
          100,
          101,
          102,
          103,
          104,
          105,
          106,
          107,
          108,
          109,
          110,
          111,
          112,
          113,
          114,
          115,
          116,
          117,
          118,
          119,
          120,
          121,
          122,
          123,
          124,
          125,
          126,
          127,
          128,
          129,
          130,
          131,
          132,
          133,
          134,
          135,
          136,
          137,
          138,
          139,
          140,
          141,
          142,
          143,
          144,
          145,
          146,
          147,
          148,
          149,
          150,
          151,
          152,
          153,
          154,
          155,
          156,
          157,
          158,
          159,
          160,
          161,
          162,
          163,
          164,
          165,
          166,
          167,
          168,
          169,
          170,
          171,
          172,
          173,
          174,
          175,
          176,
          177,
          178,
          179,
          180,
          181,
          182,
          183,
          184,
          185,
          186,
          187,
          188,
          189,
          190,
          191,
          192,
          193,
          194,
          195,
          196,
          197,
          198,
          199
         ],
         "y": [
          0.804973,
          0.777671,
          0.747779,
          0.716089,
          0.692836,
          0.668627,
          0.642331,
          0.614608,
          0.586006,
          0.556978,
          0.527896,
          0.499061,
          0.443045,
          0.423602,
          0.434514,
          0.444361,
          0.454913,
          0.462122,
          0.463339,
          0.469056,
          0.607342,
          0.63381,
          0.663162,
          0.681604,
          0.681604,
          0.689406,
          0.682254,
          0.691981,
          0.696,
          0.69901,
          0.699897,
          0.70332,
          0.702847,
          0.695435,
          0.691037,
          0.681999,
          0.673813,
          0.685023,
          0.678504,
          0.666439,
          0.65895,
          0.647478,
          0.631712,
          0.612623,
          0.607211,
          0.600463,
          0.595367,
          0.607845,
          0.604505,
          0.595756,
          0.582711,
          0.575966,
          0.565346,
          0.55109,
          0.534032,
          0.514874,
          0.494208,
          0.472526,
          0.45821,
          0.461178,
          0.453389,
          0.467265,
          0.479211,
          0.485817,
          0.486309,
          0.481845,
          0.473409,
          0.461844,
          0.447857,
          0.43205,
          0.431948,
          0.446956,
          0.458228,
          0.462776,
          0.461832,
          0.456449,
          0.447524,
          0.444481,
          0.461858,
          0.485008,
          0.500772,
          0.524168,
          0.541299,
          0.549763,
          0.55112,
          0.571316,
          0.578273,
          0.578125,
          0.5808,
          0.600794,
          0.616861,
          0.623707,
          0.630718,
          0.631839,
          0.626428,
          0.615781,
          0.608599,
          0.623579,
          0.625178,
          0.663302,
          0.677146,
          0.681588,
          0.678369,
          0.676401,
          0.670219,
          0.65851,
          0.668409,
          0.665055,
          0.655688,
          0.640089,
          0.633413,
          0.631436,
          0.625459,
          0.630434,
          0.648469,
          0.650941,
          0.646433,
          0.636318,
          0.621762,
          0.603753,
          0.583129,
          0.560592,
          0.536731,
          0.520294,
          0.503311,
          0.484521,
          0.472939,
          0.460136,
          0.463073,
          0.462545,
          0.457492,
          0.457557,
          0.4625,
          0.47156,
          0.483828,
          0.498939,
          0.506932,
          0.50834,
          0.504396,
          0.496157,
          0.509547,
          0.526905,
          0.537011,
          0.539827,
          0.536709,
          0.537001,
          0.549622,
          0.571555,
          0.596443,
          0.620565,
          0.64316,
          0.664295,
          0.676128,
          0.678951,
          0.698109,
          0.703145,
          0.700193,
          0.6908,
          0.676283,
          0.674371,
          0.66831,
          0.664772,
          0.66476,
          0.659244,
          0.671347,
          0.671267,
          0.664489,
          0.652354,
          0.636001,
          0.63316,
          0.626595,
          0.615011,
          0.599478,
          0.580901,
          0.56839,
          0.570075,
          0.576226,
          0.576463,
          0.57089,
          0.585872,
          0.594806,
          0.612476,
          0.622678,
          0.624714,
          0.620117,
          0.617773,
          0.6112,
          0.599764,
          0.59274,
          0.582082,
          0.567627,
          0.558526,
          0.546478,
          0.539451,
          0.537635,
          0.557,
          0.569162,
          0.573322,
          0.570958,
          0.579924
         ]
        },
        {
         "name": "back",
         "type": "scatter",
         "x": [
          0,
          1,
          2,
          3,
          4,
          5,
          6,
          7,
          8,
          9,
          10,
          11,
          12,
          13,
          14,
          15,
          16,
          17,
          18,
          19,
          20,
          21,
          22,
          23,
          24,
          25,
          26,
          27,
          28,
          29,
          30,
          31,
          32,
          33,
          34,
          35,
          36,
          37,
          38,
          39,
          40,
          41,
          42,
          43,
          44,
          45,
          46,
          47,
          48,
          49,
          50,
          51,
          52,
          53,
          54,
          55,
          56,
          57,
          58,
          59,
          60,
          61,
          62,
          63,
          64,
          65,
          66,
          67,
          68,
          69,
          70,
          71,
          72,
          73,
          74,
          75,
          76,
          77,
          78,
          79,
          80,
          81,
          82,
          83,
          84,
          85,
          86,
          87,
          88,
          89,
          90,
          91,
          92,
          93,
          94,
          95,
          96,
          97,
          98,
          99,
          100,
          101,
          102,
          103,
          104,
          105,
          106,
          107,
          108,
          109,
          110,
          111,
          112,
          113,
          114,
          115,
          116,
          117,
          118,
          119,
          120,
          121,
          122,
          123,
          124,
          125,
          126,
          127,
          128,
          129,
          130,
          131,
          132,
          133,
          134,
          135,
          136,
          137,
          138,
          139,
          140,
          141,
          142,
          143,
          144,
          145,
          146,
          147,
          148,
          149,
          150,
          151,
          152,
          153,
          154,
          155,
          156,
          157,
          158,
          159,
          160,
          161,
          162,
          163,
          164,
          165,
          166,
          167,
          168,
          169,
          170,
          171,
          172,
          173,
          174,
          175,
          176,
          177,
          178,
          179,
          180,
          181,
          182,
          183,
          184,
          185,
          186,
          187,
          188,
          189,
          190,
          191,
          192,
          193,
          194,
          195,
          196,
          197,
          198,
          199
         ],
         "y": [
          0.39946,
          0.404903,
          0.405263,
          0.401502,
          0.39444,
          0.384776,
          0.3731,
          0.359912,
          0.353339,
          0.344481,
          0.333861,
          0.32192,
          0.316738,
          0.31708,
          0.321896,
          0.322577,
          0.319903,
          0.314538,
          0.307047,
          0.297909,
          0.321723,
          0.327208,
          0.327208,
          0.347625,
          0.347625,
          0.384763,
          0.403188,
          0.41408,
          0.434178,
          0.453824,
          0.472907,
          0.483635,
          0.487489,
          0.493444,
          0.508749,
          0.516059,
          0.524528,
          0.526142,
          0.522188,
          0.521472,
          0.523386,
          0.519701,
          0.519229,
          0.52907,
          0.53175,
          0.536313,
          0.534645,
          0.535655,
          0.538826,
          0.536006,
          0.528361,
          0.516886,
          0.502422,
          0.485682,
          0.482682,
          0.490842,
          0.492543,
          0.496703,
          0.502814,
          0.510445,
          0.519229,
          0.521152,
          0.525206,
          0.538655,
          0.544161,
          0.54318,
          0.536954,
          0.526541,
          0.512841,
          0.496615,
          0.501631,
          0.578671,
          3.051882,
          6.37592,
          6.961891,
          6.820542,
          6.791616,
          6.727639,
          6.226085,
          6.179256,
          6.125266,
          6.946993,
          7.422448,
          7.716184,
          8.123611,
          12.870608,
          14.075135,
          14.396065,
          14.735144,
          14.889062,
          14.566338,
          14.183787,
          14.004245,
          14.214916,
          14.282109,
          14.154176,
          14.269417,
          14.846003,
          15.408655,
          15.769598,
          16.052349,
          16.56785,
          16.895964,
          17.105602,
          17.259754,
          17.379057,
          17.527056,
          17.622961,
          17.761015,
          17.765028,
          17.731581,
          17.785423,
          17.892418,
          17.94969,
          17.958735,
          18.007524,
          18.082058,
          18.151693,
          18.205982,
          18.253531,
          18.377922,
          18.46883,
          18.600714,
          18.748243,
          18.87215,
          19.004244,
          19.227499,
          19.344835,
          19.364773,
          19.323029,
          19.219643,
          19.038973,
          18.914268,
          18.764456,
          18.629976,
          18.526846,
          18.474426,
          18.506342,
          18.482651,
          18.403135,
          18.307568,
          18.217867,
          18.201689,
          18.271767,
          18.493689,
          18.799326,
          19.152828,
          19.4601,
          19.782291,
          19.77033,
          19.694023,
          19.61285,
          19.488035,
          19.375191,
          19.57346,
          19.778635,
          19.882318,
          19.960796,
          20.050394,
          20.026461,
          19.861607,
          19.707264,
          19.622929,
          19.5273,
          19.520939,
          19.466997,
          19.301651,
          19.093943,
          18.761971,
          18.402403,
          18.295416,
          18.351704,
          18.503668,
          18.571651,
          18.626228,
          18.809889,
          19.149759,
          19.390739,
          19.638002,
          19.814501,
          19.884779,
          19.880592,
          19.924801,
          19.967949,
          20.056004,
          20.132067,
          20.268999,
          20.521542,
          20.73147,
          20.906523,
          21.245199,
          21.578461,
          21.804277,
          21.98509,
          22.027306,
          21.986404,
          21.890381,
          21.780346,
          21.669823,
          21.745089
         ]
        },
        {
         "name": "front-tripod",
         "type": "scatter",
         "x": [
          0,
          1,
          2,
          3,
          4,
          5,
          6,
          7,
          8,
          9,
          10,
          11,
          12,
          13,
          14,
          15,
          16,
          17,
          18,
          19,
          20,
          21,
          22,
          23,
          24,
          25,
          26,
          27,
          28,
          29,
          30,
          31,
          32,
          33,
          34,
          35,
          36,
          37,
          38,
          39,
          40,
          41,
          42,
          43,
          44,
          45,
          46,
          47,
          48,
          49,
          50,
          51,
          52,
          53,
          54,
          55,
          56,
          57,
          58,
          59,
          60,
          61,
          62,
          63,
          64,
          65,
          66,
          67,
          68,
          69,
          70,
          71,
          72,
          73,
          74,
          75,
          76,
          77,
          78,
          79,
          80,
          81,
          82,
          83,
          84,
          85,
          86,
          87,
          88,
          89,
          90,
          91,
          92,
          93,
          94,
          95,
          96,
          97,
          98,
          99,
          100,
          101,
          102,
          103,
          104,
          105,
          106,
          107,
          108,
          109,
          110,
          111,
          112,
          113,
          114,
          115,
          116,
          117,
          118,
          119,
          120,
          121,
          122,
          123,
          124,
          125,
          126,
          127,
          128,
          129,
          130,
          131,
          132,
          133,
          134,
          135,
          136,
          137,
          138,
          139,
          140,
          141,
          142,
          143,
          144,
          145,
          146,
          147,
          148,
          149,
          150,
          151,
          152,
          153,
          154,
          155,
          156,
          157,
          158,
          159,
          160,
          161,
          162,
          163,
          164,
          165,
          166,
          167,
          168,
          169,
          170,
          171,
          172,
          173,
          174,
          175,
          176,
          177,
          178,
          179,
          180,
          181,
          182,
          183,
          184,
          185,
          186,
          187,
          188,
          189,
          190,
          191,
          192,
          193,
          194,
          195,
          196,
          197,
          198,
          199
         ],
         "y": [
          0.476068,
          0.455926,
          0.435051,
          0.413793,
          0.407832,
          0.397459,
          0.406017,
          0.420436,
          0.435889,
          0.444047,
          0.446214,
          0.443508,
          0.42842,
          0.428554,
          0.433696,
          0.433525,
          0.430515,
          0.448954,
          0.472656,
          0.513537,
          0.6407,
          0.659146,
          0.659146,
          0.667495,
          0.665107,
          0.666096,
          0.671538,
          0.69192,
          0.716309,
          0.719771,
          0.715378,
          0.709378,
          0.7111,
          0.716353,
          0.713444,
          0.727206,
          0.721706,
          0.710034,
          0.693479,
          0.673135,
          0.649925,
          0.639629,
          0.637819,
          0.648825,
          0.675844,
          0.684443,
          0.69838,
          0.711108,
          0.714306,
          0.709753,
          0.698914,
          0.702676,
          12.271203,
          122.617958,
          1224.036133,
          3965.878174,
          7027.274414,
          10799.488281,
          12096.222656,
          10222.298828,
          7688.297363,
          5363.471191,
          3676.055176,
          2714.261963,
          2674.115967,
          3154.201904,
          3405.420898,
          3201.12207,
          2521.730469,
          1814.031494,
          1277.27002,
          1925.108032,
          1733.292725,
          1383.343628,
          996.091736,
          2001.441772,
          6447.540527,
          11488.739258,
          16591.029297,
          20707.517578,
          23870.363281,
          21212.255859,
          16756.330078,
          12785.444336,
          10260.972656,
          10911.481445,
          9118.371094,
          8319.328125,
          9631.610352,
          11873.680664,
          11530.121094,
          10374.978516,
          9364.338867,
          7596.008301,
          5256.945312,
          3358.367432,
          2045.425293,
          1199.310425,
          685.215576,
          385.75946,
          213.580139,
          117.084053,
          64.507355,
          36.457565,
          20.909275,
          12.708927,
          7.758054,
          5.484607,
          5.343503,
          4.830421,
          4.347745,
          4.566023,
          4.592814,
          3.704038,
          3.654871,
          3.258666,
          3.146343,
          4.470773,
          4.354295,
          4.401319,
          4.463616,
          5.509,
          6.271636,
          6.548656,
          6.727324,
          6.791077,
          6.798785,
          6.763028,
          6.703681,
          109.757164,
          158.005951,
          134.397141,
          96.915352,
          64.328918,
          44.926605,
          62.970947,
          60.895294,
          48.364681,
          40.293606,
          29.444532,
          19.98258,
          13.479881,
          9.127864,
          7.505391,
          5.644483,
          4.628421,
          4.723296,
          4.630834,
          12.867677,
          31.279354,
          31.34866,
          24.520697,
          196.950272,
          252.411972,
          219.341873,
          161.503967,
          108.435066,
          69.792007,
          27.617907,
          17.800787,
          18.790981,
          32.756229,
          53.825787,
          70.844803,
          82.29007,
          68.428062,
          50.963371,
          34.34013,
          23.363371,
          16.326416,
          11.811402,
          8.617409,
          6.771912,
          7.049802,
          6.913386,
          6.928535,
          6.971599,
          6.32439,
          5.920496,
          5.536482,
          5.384275,
          5.275177,
          5.284104,
          5.370141,
          5.402116,
          5.462969,
          5.517136,
          6.029818,
          6.274748,
          6.398808,
          6.510363,
          6.56722,
          6.606823,
          6.626805,
          6.663302,
          6.675419,
          6.691126,
          6.694494,
          6.670516,
          6.647132
         ]
        },
        {
         "name": "front corner",
         "type": "scatter",
         "x": [
          0,
          1,
          2,
          3,
          4,
          5,
          6,
          7,
          8,
          9,
          10,
          11,
          12,
          13,
          14,
          15,
          16,
          17,
          18,
          19,
          20,
          21,
          22,
          23,
          24,
          25,
          26,
          27,
          28,
          29,
          30,
          31,
          32,
          33,
          34,
          35,
          36,
          37,
          38,
          39,
          40,
          41,
          42,
          43,
          44,
          45,
          46,
          47,
          48,
          49,
          50,
          51,
          52,
          53,
          54,
          55,
          56,
          57,
          58,
          59,
          60,
          61,
          62,
          63,
          64,
          65,
          66,
          67,
          68,
          69,
          70,
          71,
          72,
          73,
          74,
          75,
          76,
          77,
          78,
          79,
          80,
          81,
          82,
          83,
          84,
          85,
          86,
          87,
          88,
          89,
          90,
          91,
          92,
          93,
          94,
          95,
          96,
          97,
          98,
          99,
          100,
          101,
          102,
          103,
          104,
          105,
          106,
          107,
          108,
          109,
          110,
          111,
          112,
          113,
          114,
          115,
          116,
          117,
          118,
          119,
          120,
          121,
          122,
          123,
          124,
          125,
          126,
          127,
          128,
          129,
          130,
          131,
          132,
          133,
          134,
          135,
          136,
          137,
          138,
          139,
          140,
          141,
          142,
          143,
          144,
          145,
          146,
          147,
          148,
          149,
          150,
          151,
          152,
          153,
          154,
          155,
          156,
          157,
          158,
          159,
          160,
          161,
          162,
          163,
          164,
          165,
          166,
          167,
          168,
          169,
          170,
          171,
          172,
          173,
          174,
          175,
          176,
          177,
          178,
          179,
          180,
          181,
          182,
          183,
          184,
          185,
          186,
          187,
          188,
          189,
          190,
          191,
          192,
          193,
          194,
          195,
          196,
          197,
          198,
          199
         ],
         "y": [
          0.830982,
          0.827177,
          0.815823,
          0.798468,
          0.797997,
          0.789635,
          0.774966,
          0.776905,
          0.770706,
          0.757978,
          0.740089,
          0.706226,
          0.658514,
          0.638765,
          0.623571,
          0.644199,
          0.667734,
          0.680119,
          0.68335,
          0.679134,
          0.628768,
          0.624306,
          0.624306,
          0.60751,
          0.60751,
          0.606269,
          0.597025,
          0.590758,
          0.586964,
          0.599592,
          0.611015,
          0.621348,
          0.630695,
          0.631958,
          0.633853,
          0.636239,
          0.638999,
          0.649226,
          0.651017,
          0.645958,
          0.6354,
          0.620495,
          0.609406,
          0.594331,
          0.576176,
          0.57728,
          0.572401,
          0.562726,
          0.556451,
          0.545805,
          0.531723,
          0.514999,
          0.510684,
          0.502081,
          0.490092,
          0.489861,
          0.506346,
          0.514635,
          0.516203,
          0.512311,
          0.504035,
          0.513862,
          0.523874,
          0.526745,
          0.538183,
          0.542066,
          0.546981,
          0.545492,
          0.538832,
          0.528048,
          0.514033,
          0.49754,
          0.479206,
          0.459563,
          0.446247,
          0.430998,
          0.428718,
          0.422583,
          0.427769,
          0.427691,
          0.423352,
          0.422793,
          0.432494,
          0.443216,
          0.45466,
          0.459382,
          0.458614,
          0.460595,
          0.464785,
          0.46353,
          0.457879,
          0.463103,
          0.469894,
          0.470695,
          0.466638,
          0.458685,
          0.447656,
          0.434246,
          0.426232,
          0.415478,
          0.402612,
          0.395355,
          0.385524,
          0.380895,
          0.373337,
          0.363482,
          0.359054,
          0.359068,
          0.355488,
          0.349033,
          0.361886,
          0.368677,
          0.377682,
          0.381199,
          0.387426,
          0.388595,
          0.392847,
          0.392362,
          0.388046,
          0.38067,
          0.370888,
          0.359256,
          0.371065,
          0.377179,
          0.38555,
          0.388474,
          0.386959,
          0.389052,
          0.386857,
          0.38121,
          0.372824,
          0.362303,
          0.357349,
          0.364143,
          0.366004,
          0.378232,
          0.391545,
          0.405604,
          0.412935,
          0.436314,
          0.465269,
          0.48407,
          0.494458,
          0.497928,
          0.502949,
          0.501987,
          0.517758,
          0.539736,
          0.552141,
          0.556667,
          0.554767,
          0.600188,
          0.632793,
          0.650251,
          0.665067,
          0.677608,
          0.680989,
          0.684109,
          0.694175,
          0.702577,
          0.702357,
          0.695156,
          0.682371,
          0.665191,
          0.659004,
          0.647403,
          0.638722,
          0.632493,
          0.635504,
          0.638778,
          0.635042,
          0.625665,
          0.611813,
          0.594475,
          0.603248,
          0.611511,
          0.61209,
          0.613627,
          0.608737,
          0.620259,
          0.64496,
          0.665708,
          0.683047,
          0.697452,
          0.730906,
          0.750695,
          0.759218,
          0.765718,
          0.784898,
          0.792584,
          0.798074,
          0.808921,
          0.809618,
          0.802086,
          0.795155,
          0.79597,
          0.78867,
          0.77487,
          0.777515,
          0.786262
         ]
        },
        {
         "name": "door",
         "type": "scatter",
         "x": [
          0,
          1,
          2,
          3,
          4,
          5,
          6,
          7,
          8,
          9,
          10,
          11,
          12,
          13,
          14,
          15,
          16,
          17,
          18,
          19,
          20,
          21,
          22,
          23,
          24,
          25,
          26,
          27,
          28,
          29,
          30,
          31,
          32,
          33,
          34,
          35,
          36,
          37,
          38,
          39,
          40,
          41,
          42,
          43,
          44,
          45,
          46,
          47,
          48,
          49,
          50,
          51,
          52,
          53,
          54,
          55,
          56,
          57,
          58,
          59,
          60,
          61,
          62,
          63,
          64,
          65,
          66,
          67,
          68,
          69,
          70,
          71,
          72,
          73,
          74,
          75,
          76,
          77,
          78,
          79,
          80,
          81,
          82,
          83,
          84,
          85,
          86,
          87,
          88,
          89,
          90,
          91,
          92,
          93,
          94,
          95,
          96,
          97,
          98,
          99,
          100,
          101,
          102,
          103,
          104,
          105,
          106,
          107,
          108,
          109,
          110,
          111,
          112,
          113,
          114,
          115,
          116,
          117,
          118,
          119,
          120,
          121,
          122,
          123,
          124,
          125,
          126,
          127,
          128,
          129,
          130,
          131,
          132,
          133,
          134,
          135,
          136,
          137,
          138,
          139,
          140,
          141,
          142,
          143,
          144,
          145,
          146,
          147,
          148,
          149,
          150,
          151,
          152,
          153,
          154,
          155,
          156,
          157,
          158,
          159,
          160,
          161,
          162,
          163,
          164,
          165,
          166,
          167,
          168,
          169,
          170,
          171,
          172,
          173,
          174,
          175,
          176,
          177,
          178,
          179,
          180,
          181,
          182,
          183,
          184,
          185,
          186,
          187,
          188,
          189,
          190,
          191,
          192,
          193,
          194,
          195,
          196,
          197,
          198,
          199
         ],
         "y": [
          0.383507,
          0.369885,
          0.355152,
          0.339667,
          0.337403,
          0.332195,
          0.331492,
          0.334445,
          0.354006,
          0.373147,
          0.398596,
          0.428899,
          0.467908,
          0.485257,
          0.494457,
          0.503802,
          0.513172,
          0.522467,
          0.531608,
          0.533697,
          0.586788,
          0.585646,
          0.585646,
          0.592197,
          0.592197,
          0.6011,
          0.608621,
          0.608627,
          0.609383,
          0.610739,
          0.60573,
          0.602453,
          0.600612,
          0.593114,
          0.594785,
          0.610704,
          0.624329,
          0.629121,
          0.63355,
          0.637639,
          0.64825,
          0.664038,
          0.677024,
          0.680772,
          0.683837,
          0.693157,
          0.693775,
          0.694175,
          0.701233,
          0.706775,
          0.711034,
          0.707374,
          0.717848,
          0.753341,
          1.786017,
          2.194924,
          2.554219,
          2.806343,
          2.915446,
          2.992037,
          3.008367,
          3.00441,
          3.035118,
          3.186352,
          3.256667,
          8.569315,
          9.209183,
          9.10757,
          8.861688,
          14.165237,
          16.948942,
          22.304079,
          23.141804,
          20.868221,
          19.104227,
          27.44396,
          41.954391,
          46.720421,
          45.920975,
          41.512459,
          38.215603,
          31.692694,
          26.975651,
          25.924709,
          25.607365,
          25.883211,
          25.698059,
          25.1077,
          24.873014,
          24.254183,
          23.264267,
          22.477362,
          21.72949,
          21.478645,
          21.969065,
          22.347174,
          22.702078,
          22.983938,
          22.634771,
          21.612015,
          20.785601,
          19.855186,
          18.818024,
          17.287455,
          15.971969,
          14.698519,
          13.85581,
          13.168145,
          12.813962,
          12.63842,
          12.974183,
          13.395161,
          13.721025,
          13.86622,
          13.977132,
          16.476994,
          21.89958,
          23.97558,
          24.667448,
          24.661007,
          24.556288,
          24.51005,
          24.791368,
          25.186565,
          28.927288,
          39.781563,
          42.250366,
          44.005726,
          45.04734,
          45.069481,
          44.599895,
          44.086021,
          44.45541,
          45.024593,
          45.724907,
          46.587093,
          47.06229,
          47.110271,
          46.916904,
          46.588036,
          46.347836,
          46.086529,
          45.713528,
          45.410713,
          45.059437,
          44.749409,
          44.451542,
          44.191933,
          43.914104,
          43.49192,
          43.125217,
          42.767704,
          42.077503,
          41.190639,
          40.007782,
          38.789845,
          37.216175,
          35.928188,
          35.001987,
          34.288746,
          33.604736,
          32.66106,
          31.774212,
          30.821358,
          29.854076,
          29.25161,
          28.797834,
          28.359377,
          27.93593,
          27.573719,
          27.411097,
          27.228861,
          26.972668,
          26.720022,
          26.43161,
          26.086487,
          25.627907,
          25.041071,
          24.312504,
          23.553499,
          22.975163,
          22.586864,
          22.138458,
          21.73933,
          21.428133,
          21.077494,
          20.85334,
          20.660635,
          20.542089,
          20.419867,
          20.315197,
          20.290831,
          20.364119,
          20.558575,
          20.931625,
          21.315784,
          21.648964,
          21.841164,
          22.077887,
          22.306808
         ]
        }
       ],
       "layout": {
        "font": {
         "size": 8
        },
        "height": 300,
        "legend": {
         "title": {
          "text": "Sensor Location"
         }
        },
        "showlegend": true,
        "template": {
         "data": {
          "bar": [
           {
            "error_x": {
             "color": "#2a3f5f"
            },
            "error_y": {
             "color": "#2a3f5f"
            },
            "marker": {
             "line": {
              "color": "#E5ECF6",
              "width": 0.5
             },
             "pattern": {
              "fillmode": "overlay",
              "size": 10,
              "solidity": 0.2
             }
            },
            "type": "bar"
           }
          ],
          "barpolar": [
           {
            "marker": {
             "line": {
              "color": "#E5ECF6",
              "width": 0.5
             },
             "pattern": {
              "fillmode": "overlay",
              "size": 10,
              "solidity": 0.2
             }
            },
            "type": "barpolar"
           }
          ],
          "carpet": [
           {
            "aaxis": {
             "endlinecolor": "#2a3f5f",
             "gridcolor": "white",
             "linecolor": "white",
             "minorgridcolor": "white",
             "startlinecolor": "#2a3f5f"
            },
            "baxis": {
             "endlinecolor": "#2a3f5f",
             "gridcolor": "white",
             "linecolor": "white",
             "minorgridcolor": "white",
             "startlinecolor": "#2a3f5f"
            },
            "type": "carpet"
           }
          ],
          "choropleth": [
           {
            "colorbar": {
             "outlinewidth": 0,
             "ticks": ""
            },
            "type": "choropleth"
           }
          ],
          "contour": [
           {
            "colorbar": {
             "outlinewidth": 0,
             "ticks": ""
            },
            "colorscale": [
             [
              0,
              "#0d0887"
             ],
             [
              0.1111111111111111,
              "#46039f"
             ],
             [
              0.2222222222222222,
              "#7201a8"
             ],
             [
              0.3333333333333333,
              "#9c179e"
             ],
             [
              0.4444444444444444,
              "#bd3786"
             ],
             [
              0.5555555555555556,
              "#d8576b"
             ],
             [
              0.6666666666666666,
              "#ed7953"
             ],
             [
              0.7777777777777778,
              "#fb9f3a"
             ],
             [
              0.8888888888888888,
              "#fdca26"
             ],
             [
              1,
              "#f0f921"
             ]
            ],
            "type": "contour"
           }
          ],
          "contourcarpet": [
           {
            "colorbar": {
             "outlinewidth": 0,
             "ticks": ""
            },
            "type": "contourcarpet"
           }
          ],
          "heatmap": [
           {
            "colorbar": {
             "outlinewidth": 0,
             "ticks": ""
            },
            "colorscale": [
             [
              0,
              "#0d0887"
             ],
             [
              0.1111111111111111,
              "#46039f"
             ],
             [
              0.2222222222222222,
              "#7201a8"
             ],
             [
              0.3333333333333333,
              "#9c179e"
             ],
             [
              0.4444444444444444,
              "#bd3786"
             ],
             [
              0.5555555555555556,
              "#d8576b"
             ],
             [
              0.6666666666666666,
              "#ed7953"
             ],
             [
              0.7777777777777778,
              "#fb9f3a"
             ],
             [
              0.8888888888888888,
              "#fdca26"
             ],
             [
              1,
              "#f0f921"
             ]
            ],
            "type": "heatmap"
           }
          ],
          "heatmapgl": [
           {
            "colorbar": {
             "outlinewidth": 0,
             "ticks": ""
            },
            "colorscale": [
             [
              0,
              "#0d0887"
             ],
             [
              0.1111111111111111,
              "#46039f"
             ],
             [
              0.2222222222222222,
              "#7201a8"
             ],
             [
              0.3333333333333333,
              "#9c179e"
             ],
             [
              0.4444444444444444,
              "#bd3786"
             ],
             [
              0.5555555555555556,
              "#d8576b"
             ],
             [
              0.6666666666666666,
              "#ed7953"
             ],
             [
              0.7777777777777778,
              "#fb9f3a"
             ],
             [
              0.8888888888888888,
              "#fdca26"
             ],
             [
              1,
              "#f0f921"
             ]
            ],
            "type": "heatmapgl"
           }
          ],
          "histogram": [
           {
            "marker": {
             "pattern": {
              "fillmode": "overlay",
              "size": 10,
              "solidity": 0.2
             }
            },
            "type": "histogram"
           }
          ],
          "histogram2d": [
           {
            "colorbar": {
             "outlinewidth": 0,
             "ticks": ""
            },
            "colorscale": [
             [
              0,
              "#0d0887"
             ],
             [
              0.1111111111111111,
              "#46039f"
             ],
             [
              0.2222222222222222,
              "#7201a8"
             ],
             [
              0.3333333333333333,
              "#9c179e"
             ],
             [
              0.4444444444444444,
              "#bd3786"
             ],
             [
              0.5555555555555556,
              "#d8576b"
             ],
             [
              0.6666666666666666,
              "#ed7953"
             ],
             [
              0.7777777777777778,
              "#fb9f3a"
             ],
             [
              0.8888888888888888,
              "#fdca26"
             ],
             [
              1,
              "#f0f921"
             ]
            ],
            "type": "histogram2d"
           }
          ],
          "histogram2dcontour": [
           {
            "colorbar": {
             "outlinewidth": 0,
             "ticks": ""
            },
            "colorscale": [
             [
              0,
              "#0d0887"
             ],
             [
              0.1111111111111111,
              "#46039f"
             ],
             [
              0.2222222222222222,
              "#7201a8"
             ],
             [
              0.3333333333333333,
              "#9c179e"
             ],
             [
              0.4444444444444444,
              "#bd3786"
             ],
             [
              0.5555555555555556,
              "#d8576b"
             ],
             [
              0.6666666666666666,
              "#ed7953"
             ],
             [
              0.7777777777777778,
              "#fb9f3a"
             ],
             [
              0.8888888888888888,
              "#fdca26"
             ],
             [
              1,
              "#f0f921"
             ]
            ],
            "type": "histogram2dcontour"
           }
          ],
          "mesh3d": [
           {
            "colorbar": {
             "outlinewidth": 0,
             "ticks": ""
            },
            "type": "mesh3d"
           }
          ],
          "parcoords": [
           {
            "line": {
             "colorbar": {
              "outlinewidth": 0,
              "ticks": ""
             }
            },
            "type": "parcoords"
           }
          ],
          "pie": [
           {
            "automargin": true,
            "type": "pie"
           }
          ],
          "scatter": [
           {
            "fillpattern": {
             "fillmode": "overlay",
             "size": 10,
             "solidity": 0.2
            },
            "type": "scatter"
           }
          ],
          "scatter3d": [
           {
            "line": {
             "colorbar": {
              "outlinewidth": 0,
              "ticks": ""
             }
            },
            "marker": {
             "colorbar": {
              "outlinewidth": 0,
              "ticks": ""
             }
            },
            "type": "scatter3d"
           }
          ],
          "scattercarpet": [
           {
            "marker": {
             "colorbar": {
              "outlinewidth": 0,
              "ticks": ""
             }
            },
            "type": "scattercarpet"
           }
          ],
          "scattergeo": [
           {
            "marker": {
             "colorbar": {
              "outlinewidth": 0,
              "ticks": ""
             }
            },
            "type": "scattergeo"
           }
          ],
          "scattergl": [
           {
            "marker": {
             "colorbar": {
              "outlinewidth": 0,
              "ticks": ""
             }
            },
            "type": "scattergl"
           }
          ],
          "scattermapbox": [
           {
            "marker": {
             "colorbar": {
              "outlinewidth": 0,
              "ticks": ""
             }
            },
            "type": "scattermapbox"
           }
          ],
          "scatterpolar": [
           {
            "marker": {
             "colorbar": {
              "outlinewidth": 0,
              "ticks": ""
             }
            },
            "type": "scatterpolar"
           }
          ],
          "scatterpolargl": [
           {
            "marker": {
             "colorbar": {
              "outlinewidth": 0,
              "ticks": ""
             }
            },
            "type": "scatterpolargl"
           }
          ],
          "scatterternary": [
           {
            "marker": {
             "colorbar": {
              "outlinewidth": 0,
              "ticks": ""
             }
            },
            "type": "scatterternary"
           }
          ],
          "surface": [
           {
            "colorbar": {
             "outlinewidth": 0,
             "ticks": ""
            },
            "colorscale": [
             [
              0,
              "#0d0887"
             ],
             [
              0.1111111111111111,
              "#46039f"
             ],
             [
              0.2222222222222222,
              "#7201a8"
             ],
             [
              0.3333333333333333,
              "#9c179e"
             ],
             [
              0.4444444444444444,
              "#bd3786"
             ],
             [
              0.5555555555555556,
              "#d8576b"
             ],
             [
              0.6666666666666666,
              "#ed7953"
             ],
             [
              0.7777777777777778,
              "#fb9f3a"
             ],
             [
              0.8888888888888888,
              "#fdca26"
             ],
             [
              1,
              "#f0f921"
             ]
            ],
            "type": "surface"
           }
          ],
          "table": [
           {
            "cells": {
             "fill": {
              "color": "#EBF0F8"
             },
             "line": {
              "color": "white"
             }
            },
            "header": {
             "fill": {
              "color": "#C8D4E3"
             },
             "line": {
              "color": "white"
             }
            },
            "type": "table"
           }
          ]
         },
         "layout": {
          "annotationdefaults": {
           "arrowcolor": "#2a3f5f",
           "arrowhead": 0,
           "arrowwidth": 1
          },
          "autotypenumbers": "strict",
          "coloraxis": {
           "colorbar": {
            "outlinewidth": 0,
            "ticks": ""
           }
          },
          "colorscale": {
           "diverging": [
            [
             0,
             "#8e0152"
            ],
            [
             0.1,
             "#c51b7d"
            ],
            [
             0.2,
             "#de77ae"
            ],
            [
             0.3,
             "#f1b6da"
            ],
            [
             0.4,
             "#fde0ef"
            ],
            [
             0.5,
             "#f7f7f7"
            ],
            [
             0.6,
             "#e6f5d0"
            ],
            [
             0.7,
             "#b8e186"
            ],
            [
             0.8,
             "#7fbc41"
            ],
            [
             0.9,
             "#4d9221"
            ],
            [
             1,
             "#276419"
            ]
           ],
           "sequential": [
            [
             0,
             "#0d0887"
            ],
            [
             0.1111111111111111,
             "#46039f"
            ],
            [
             0.2222222222222222,
             "#7201a8"
            ],
            [
             0.3333333333333333,
             "#9c179e"
            ],
            [
             0.4444444444444444,
             "#bd3786"
            ],
            [
             0.5555555555555556,
             "#d8576b"
            ],
            [
             0.6666666666666666,
             "#ed7953"
            ],
            [
             0.7777777777777778,
             "#fb9f3a"
            ],
            [
             0.8888888888888888,
             "#fdca26"
            ],
            [
             1,
             "#f0f921"
            ]
           ],
           "sequentialminus": [
            [
             0,
             "#0d0887"
            ],
            [
             0.1111111111111111,
             "#46039f"
            ],
            [
             0.2222222222222222,
             "#7201a8"
            ],
            [
             0.3333333333333333,
             "#9c179e"
            ],
            [
             0.4444444444444444,
             "#bd3786"
            ],
            [
             0.5555555555555556,
             "#d8576b"
            ],
            [
             0.6666666666666666,
             "#ed7953"
            ],
            [
             0.7777777777777778,
             "#fb9f3a"
            ],
            [
             0.8888888888888888,
             "#fdca26"
            ],
            [
             1,
             "#f0f921"
            ]
           ]
          },
          "colorway": [
           "#636efa",
           "#EF553B",
           "#00cc96",
           "#ab63fa",
           "#FFA15A",
           "#19d3f3",
           "#FF6692",
           "#B6E880",
           "#FF97FF",
           "#FECB52"
          ],
          "font": {
           "color": "#2a3f5f"
          },
          "geo": {
           "bgcolor": "white",
           "lakecolor": "white",
           "landcolor": "#E5ECF6",
           "showlakes": true,
           "showland": true,
           "subunitcolor": "white"
          },
          "hoverlabel": {
           "align": "left"
          },
          "hovermode": "closest",
          "mapbox": {
           "style": "light"
          },
          "paper_bgcolor": "white",
          "plot_bgcolor": "#E5ECF6",
          "polar": {
           "angularaxis": {
            "gridcolor": "white",
            "linecolor": "white",
            "ticks": ""
           },
           "bgcolor": "#E5ECF6",
           "radialaxis": {
            "gridcolor": "white",
            "linecolor": "white",
            "ticks": ""
           }
          },
          "scene": {
           "xaxis": {
            "backgroundcolor": "#E5ECF6",
            "gridcolor": "white",
            "gridwidth": 2,
            "linecolor": "white",
            "showbackground": true,
            "ticks": "",
            "zerolinecolor": "white"
           },
           "yaxis": {
            "backgroundcolor": "#E5ECF6",
            "gridcolor": "white",
            "gridwidth": 2,
            "linecolor": "white",
            "showbackground": true,
            "ticks": "",
            "zerolinecolor": "white"
           },
           "zaxis": {
            "backgroundcolor": "#E5ECF6",
            "gridcolor": "white",
            "gridwidth": 2,
            "linecolor": "white",
            "showbackground": true,
            "ticks": "",
            "zerolinecolor": "white"
           }
          },
          "shapedefaults": {
           "line": {
            "color": "#2a3f5f"
           }
          },
          "ternary": {
           "aaxis": {
            "gridcolor": "white",
            "linecolor": "white",
            "ticks": ""
           },
           "baxis": {
            "gridcolor": "white",
            "linecolor": "white",
            "ticks": ""
           },
           "bgcolor": "#E5ECF6",
           "caxis": {
            "gridcolor": "white",
            "linecolor": "white",
            "ticks": ""
           }
          },
          "title": {
           "x": 0.05
          },
          "xaxis": {
           "automargin": true,
           "gridcolor": "white",
           "linecolor": "white",
           "ticks": "",
           "title": {
            "standoff": 15
           },
           "zerolinecolor": "white",
           "zerolinewidth": 2
          },
          "yaxis": {
           "automargin": true,
           "gridcolor": "white",
           "linecolor": "white",
           "ticks": "",
           "title": {
            "standoff": 15
           },
           "zerolinecolor": "white",
           "zerolinewidth": 2
          }
         }
        },
        "title": {
         "text": "PM10.0 Sensors Aerosol Concentration at Different Location - no_ac"
        },
        "width": 500,
        "xaxis": {
         "title": {
          "text": "Elapsed Time (sec)"
         }
        },
        "yaxis": {
         "title": {
          "text": "Mass Concentration (µg/m3)"
         }
        }
       }
      }
     },
     "metadata": {},
     "output_type": "display_data"
    }
   ],
   "source": [
    "ploty_event(df_low, PM_size = \"10p\", timestamp=300, interval=200, trial=\"low_speed\")\n",
    "ploty_event(df_med, PM_size = \"10p\",timestamp=30, interval=200, trial='medium_speed')\n",
    "ploty_event(df_high, PM_size = \"10p\", timestamp=215, interval=200, trial='high_speed')\n",
    "ploty_event(df_noac, PM_size = \"10p\",timestamp=50, interval = 200, trial='no_ac')\n"
   ]
  },
  {
   "cell_type": "code",
   "execution_count": null,
   "metadata": {},
   "outputs": [],
   "source": []
  },
  {
   "cell_type": "code",
   "execution_count": null,
   "metadata": {},
   "outputs": [],
   "source": []
  }
 ],
 "metadata": {
  "kernelspec": {
   "display_name": "base",
   "language": "python",
   "name": "python3"
  },
  "language_info": {
   "codemirror_mode": {
    "name": "ipython",
    "version": 3
   },
   "file_extension": ".py",
   "mimetype": "text/x-python",
   "name": "python",
   "nbconvert_exporter": "python",
   "pygments_lexer": "ipython3",
   "version": "3.8.8"
  },
  "orig_nbformat": 4
 },
 "nbformat": 4,
 "nbformat_minor": 2
}
