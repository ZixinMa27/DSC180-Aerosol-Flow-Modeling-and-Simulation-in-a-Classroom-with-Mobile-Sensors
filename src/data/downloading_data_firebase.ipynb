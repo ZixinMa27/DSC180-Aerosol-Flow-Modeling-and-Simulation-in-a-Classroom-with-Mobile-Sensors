{
 "cells": [
  {
   "cell_type": "code",
   "execution_count": 1,
   "id": "4e6c3058",
   "metadata": {},
   "outputs": [],
   "source": [
    "import os"
   ]
  },
  {
   "cell_type": "markdown",
   "id": "e553441f",
   "metadata": {},
   "source": [
    "To make sure the notebook can run smoothly, do the following:\n",
    "1. Install all the required packages. However, if you are prompted to install \"Crypto\", DO NOT do \"pip install Crypto\"! DO \"pip install pycryptodome\" instead. Here are more details: https://medium.com/@rajparmar23801/no-module-named-crypto-707f75186a6a\n",
    "2. Go to Firebase. Click the gear icon next to \"Project Overview\". Choose \"Project Settings\" - Service Accounts - Generate New Private Key. Put the generated json file in the same directory as this notebook, and change the \"serviceAccount\" attribute in the next code block to the name of the json file you just downloaded."
   ]
  },
  {
   "cell_type": "markdown",
   "id": "ecbc92e8",
   "metadata": {},
   "source": [
    "## Firebase Storage Download (Image & Audio Data)"
   ]
  },
  {
   "cell_type": "code",
   "execution_count": 3,
   "id": "2b666b15",
   "metadata": {},
   "outputs": [],
   "source": [
    "from firebase import Firebase\n",
    "\n",
    "config = {\n",
    "  \"apiKey\": \"8YOlQyD5MNnZlMl4hAvqYz3uePYTO9bmuS7s9mAo\",\n",
    "  \"authDomain\": \"capstone-caf92.firebaseapp.com\",\n",
    "  \"databaseURL\": \"https://databaseName.firebaseio.com\",\n",
    "  \"storageBucket\": \"capstone-caf92.appspot.com\",\n",
    "  \"serviceAccount\": \"capstone-caf92-firebase-adminsdk-uckm2-XXXXXX.json\"\n",
    "}\n",
    "\n",
    "firebase = Firebase(config)"
   ]
  },
  {
   "cell_type": "code",
   "execution_count": 4,
   "id": "2e15b786",
   "metadata": {},
   "outputs": [],
   "source": [
    "storage = firebase.storage()"
   ]
  },
  {
   "cell_type": "code",
   "execution_count": 17,
   "id": "1f1d4ffb",
   "metadata": {},
   "outputs": [
    {
     "name": "stdout",
     "output_type": "stream",
     "text": [
      "Feb8-1/images/2023-02-08-15-49-02.jpeg\n",
      "Feb8-1/images/2023-02-08-15-49-03.jpeg\n",
      "Feb8-1/images/2023-02-08-15-49-04.jpeg\n",
      "Feb8-1/images/2023-02-08-15-49-05.jpeg\n",
      "Feb8-1/images/2023-02-08-15-49-06.jpeg\n",
      "Feb8-1/images/2023-02-08-15-49-07.jpeg\n",
      "Feb8-1/images/2023-02-08-15-49-08.jpeg\n",
      "Feb8-1/images/2023-02-08-15-49-09.jpeg\n",
      "Feb8-1/images/2023-02-08-15-49-10.jpeg\n",
      "Feb8-1/images/2023-02-08-15-49-11.jpeg\n",
      "Feb8-1/images/2023-02-08-15-49-12.jpeg\n",
      "Feb8-1/images/2023-02-08-15-49-13.jpeg\n",
      "Feb8-1/images/2023-02-08-15-49-14.jpeg\n",
      "Feb8-1/images/2023-02-08-15-49-15.jpeg\n",
      "Feb8-1/images/2023-02-08-15-49-16.jpeg\n",
      "Feb8-1/images/2023-02-08-15-49-17.jpeg\n",
      "Feb8-1/images/2023-02-08-15-49-18.jpeg\n",
      "Feb8-1/images/2023-02-08-15-49-19.jpeg\n",
      "Feb8-1/images/2023-02-08-15-49-20.jpeg\n",
      "Feb8-1/images/2023-02-08-15-49-21.jpeg\n",
      "Feb8-1/images/2023-02-08-15-49-22.jpeg\n",
      "Feb8-1/images/2023-02-08-15-49-24.jpeg\n",
      "Feb8-1/images/2023-02-08-15-49-25.jpeg\n",
      "Feb8-1/images/2023-02-08-15-49-26.jpeg\n",
      "Feb8-1/images/2023-02-08-15-49-27.jpeg\n",
      "Feb8-1/images/2023-02-08-15-49-28.jpeg\n",
      "Feb8-1/images/2023-02-08-15-49-29.jpeg\n",
      "Feb8-1/images/2023-02-08-15-49-30.jpeg\n",
      "Feb8-1/images/2023-02-08-15-49-31.jpeg\n",
      "Feb8-1/images/2023-02-08-15-49-32.jpeg\n",
      "Feb8-1/images/2023-02-08-15-49-33.jpeg\n",
      "Feb8-1/images/2023-02-08-15-49-34.jpeg\n",
      "Feb8-1/images/2023-02-08-15-49-35.jpeg\n",
      "Feb8-1/images/2023-02-08-15-49-36.jpeg\n",
      "Feb8-1/images/2023-02-08-15-49-37.jpeg\n",
      "Feb8-1/images/2023-02-08-15-49-38.jpeg\n",
      "Feb8-1/images/2023-02-08-15-49-39.jpeg\n",
      "Feb8-1/images/2023-02-08-15-49-40.jpeg\n",
      "Feb8-1/images/2023-02-08-15-49-41.jpeg\n",
      "Feb8-1/images/2023-02-08-15-49-42.jpeg\n",
      "Feb8-1/images/2023-02-08-15-49-43.jpeg\n",
      "Feb8-1/images/2023-02-08-15-49-44.jpeg\n",
      "Feb8-1/images/2023-02-08-15-49-45.jpeg\n",
      "Feb8-1/images/2023-02-08-15-49-46.jpeg\n",
      "Feb8-1/images/2023-02-08-15-49-47.jpeg\n",
      "Feb8-1/images/2023-02-08-15-49-48.jpeg\n"
     ]
    }
   ],
   "source": [
    "all_files = storage.list_files()\n",
    "\n",
    "for file in all_files:\n",
    "    directory = file.name.split(\"/\")\n",
    "    target_dir = \"data/\" + \"/\".join(directory[:-1]) + \"/\"\n",
    "    if target_dir == \"data/Feb8-1/images/\":\n",
    "        print(file.name)\n",
    "        isExist = os.path.exists(target_dir)\n",
    "        if isExist:\n",
    "            if os.path.isfile(\"data/\" + file.name):\n",
    "                continue\n",
    "        else:\n",
    "            os.makedirs(target_dir)\n",
    "        storage.child(file.name).download(\"data/\" + file.name)"
   ]
  },
  {
   "cell_type": "markdown",
   "id": "7037e7c7",
   "metadata": {},
   "source": [
    "## Firestore Download (Labels & Other Text Data)"
   ]
  },
  {
   "cell_type": "code",
   "execution_count": 6,
   "id": "0b29d973",
   "metadata": {},
   "outputs": [
    {
     "ename": "ModuleNotFoundError",
     "evalue": "No module named 'firebase_admin'",
     "output_type": "error",
     "traceback": [
      "\u001b[0;31m---------------------------------------------------------------------------\u001b[0m",
      "\u001b[0;31mModuleNotFoundError\u001b[0m                       Traceback (most recent call last)",
      "\u001b[1;32m/Users/zixin/Desktop/DSC180/DSC180-Aerosol-Flow-Modeling-and-Simulation-in-a-Classroom-with-Mobile-Sensors/src/data/downloading_data_firebase.ipynb Cell 8\u001b[0m in \u001b[0;36m<cell line: 1>\u001b[0;34m()\u001b[0m\n\u001b[0;32m----> <a href='vscode-notebook-cell:/Users/zixin/Desktop/DSC180/DSC180-Aerosol-Flow-Modeling-and-Simulation-in-a-Classroom-with-Mobile-Sensors/src/data/downloading_data_firebase.ipynb#X10sZmlsZQ%3D%3D?line=0'>1</a>\u001b[0m \u001b[39mimport\u001b[39;00m \u001b[39mfirebase_admin\u001b[39;00m\n\u001b[1;32m      <a href='vscode-notebook-cell:/Users/zixin/Desktop/DSC180/DSC180-Aerosol-Flow-Modeling-and-Simulation-in-a-Classroom-with-Mobile-Sensors/src/data/downloading_data_firebase.ipynb#X10sZmlsZQ%3D%3D?line=1'>2</a>\u001b[0m \u001b[39mimport\u001b[39;00m \u001b[39mcsv\u001b[39;00m\n\u001b[1;32m      <a href='vscode-notebook-cell:/Users/zixin/Desktop/DSC180/DSC180-Aerosol-Flow-Modeling-and-Simulation-in-a-Classroom-with-Mobile-Sensors/src/data/downloading_data_firebase.ipynb#X10sZmlsZQ%3D%3D?line=2'>3</a>\u001b[0m \u001b[39mfrom\u001b[39;00m \u001b[39mfirebase_admin\u001b[39;00m \u001b[39mimport\u001b[39;00m credentials, firestore\n",
      "\u001b[0;31mModuleNotFoundError\u001b[0m: No module named 'firebase_admin'"
     ]
    }
   ],
   "source": [
    "import firebase_admin\n",
    "import csv\n",
    "from firebase_admin import credentials, firestore"
   ]
  },
  {
   "cell_type": "code",
   "execution_count": 8,
   "id": "c3f428fb",
   "metadata": {},
   "outputs": [
    {
     "data": {
      "text/plain": [
       "<firebase_admin.App at 0x10a191a50>"
      ]
     },
     "execution_count": 8,
     "metadata": {},
     "output_type": "execute_result"
    }
   ],
   "source": [
    "cred = credentials.Certificate(\"capstone-caf92-firebase-adminsdk-uckm2-7262153063.json\")\n",
    "firebase_admin.initialize_app(cred)"
   ]
  },
  {
   "cell_type": "markdown",
   "id": "df1e7ab3",
   "metadata": {},
   "source": [
    "### List current collection names"
   ]
  },
  {
   "cell_type": "code",
   "execution_count": 5,
   "id": "499f1788",
   "metadata": {},
   "outputs": [
    {
     "ename": "NameError",
     "evalue": "name 'firestore' is not defined",
     "output_type": "error",
     "traceback": [
      "\u001b[0;31m---------------------------------------------------------------------------\u001b[0m",
      "\u001b[0;31mNameError\u001b[0m                                 Traceback (most recent call last)",
      "\u001b[1;32m/Users/zixin/Desktop/DSC180/DSC180-Aerosol-Flow-Modeling-and-Simulation-in-a-Classroom-with-Mobile-Sensors/src/data/downloading_data_firebase.ipynb Cell 11\u001b[0m in \u001b[0;36m<cell line: 1>\u001b[0;34m()\u001b[0m\n\u001b[0;32m----> <a href='vscode-notebook-cell:/Users/zixin/Desktop/DSC180/DSC180-Aerosol-Flow-Modeling-and-Simulation-in-a-Classroom-with-Mobile-Sensors/src/data/downloading_data_firebase.ipynb#X13sZmlsZQ%3D%3D?line=0'>1</a>\u001b[0m db \u001b[39m=\u001b[39m firestore\u001b[39m.\u001b[39mclient()\n\u001b[1;32m      <a href='vscode-notebook-cell:/Users/zixin/Desktop/DSC180/DSC180-Aerosol-Flow-Modeling-and-Simulation-in-a-Classroom-with-Mobile-Sensors/src/data/downloading_data_firebase.ipynb#X13sZmlsZQ%3D%3D?line=1'>2</a>\u001b[0m listCollections \u001b[39m=\u001b[39m []\n\u001b[1;32m      <a href='vscode-notebook-cell:/Users/zixin/Desktop/DSC180/DSC180-Aerosol-Flow-Modeling-and-Simulation-in-a-Classroom-with-Mobile-Sensors/src/data/downloading_data_firebase.ipynb#X13sZmlsZQ%3D%3D?line=2'>3</a>\u001b[0m \u001b[39mfor\u001b[39;00m col \u001b[39min\u001b[39;00m db\u001b[39m.\u001b[39mcollections():\n",
      "\u001b[0;31mNameError\u001b[0m: name 'firestore' is not defined"
     ]
    }
   ],
   "source": [
    "db = firestore.client()\n",
    "listCollections = []\n",
    "for col in db.collections():\n",
    "    listCollections.append(col)\n",
    "    print(col.id)"
   ]
  },
  {
   "cell_type": "markdown",
   "id": "667971d2",
   "metadata": {},
   "source": [
    "### Pull the target collection to CSV (change target_id)"
   ]
  },
  {
   "cell_type": "code",
   "execution_count": 19,
   "id": "503d2337",
   "metadata": {},
   "outputs": [],
   "source": [
    "target_id = \"Feb2\" #Change this to the collection you want (to limit read and prevent exceeding quota)\n",
    "for col in listCollections:\n",
    "    if col.id != target_id:\n",
    "        continue\n",
    "    #Check if target directory & file exists\n",
    "    target_dir = \"data/firestore/\"\n",
    "    isExist = os.path.exists(target_dir)\n",
    "    #Audio part\n",
    "    if isExist:\n",
    "        if os.path.isfile(target_dir + col.id + \"_audio_raw.csv\") or os.path.isfile(target_dir + col.id + \"_audio_labels.csv\"):\n",
    "            continue\n",
    "    else:\n",
    "        os.makedirs(target_dir)\n",
    "    audio = col.document('audio').collections()\n",
    "    for entry in audio:\n",
    "        audioList = []\n",
    "        for doc in entry.stream():\n",
    "            audioList.append(doc.to_dict())\n",
    "        field_names = list(audioList[0].keys())\n",
    "        with open(target_dir + col.id + \"_audio_\" + entry.id + \".csv\",\"w\") as csvfile:\n",
    "            writer = csv.DictWriter(csvfile, fieldnames = field_names)\n",
    "            writer.writeheader()\n",
    "            writer.writerows(audioList)\n",
    "    #Image part\n",
    "    if isExist:\n",
    "        if os.path.isfile(target_dir + col.id + \"_images_thermal.csv\"):\n",
    "            continue\n",
    "    else:\n",
    "        os.makedirs(target_dir)\n",
    "    image = col.document('images').collections()\n",
    "    for entry in audio:\n",
    "        imageList = []\n",
    "        for doc in entry.stream():\n",
    "            imageList.append(doc.to_dict())\n",
    "        field_names = list(imageList[0].keys())\n",
    "        with open(target_dir + col.id + \"_images_\" + entry.id + \".csv\",\"w\") as csvfile:\n",
    "            writer = csv.DictWriter(csvfile, fieldnames = field_names)\n",
    "            writer.writeheader()\n",
    "            writer.writerows(imageList)\n"
   ]
  },
  {
   "cell_type": "code",
   "execution_count": null,
   "id": "068083e7",
   "metadata": {},
   "outputs": [],
   "source": []
  },
  {
   "cell_type": "code",
   "execution_count": null,
   "id": "94071234",
   "metadata": {},
   "outputs": [],
   "source": []
  }
 ],
 "metadata": {
  "kernelspec": {
   "display_name": "base",
   "language": "python",
   "name": "python3"
  },
  "language_info": {
   "codemirror_mode": {
    "name": "ipython",
    "version": 3
   },
   "file_extension": ".py",
   "mimetype": "text/x-python",
   "name": "python",
   "nbconvert_exporter": "python",
   "pygments_lexer": "ipython3",
   "version": "3.8.8"
  },
  "vscode": {
   "interpreter": {
    "hash": "40d3a090f54c6569ab1632332b64b2c03c39dcf918b08424e98f38b5ae0af88f"
   }
  }
 },
 "nbformat": 4,
 "nbformat_minor": 5
}
