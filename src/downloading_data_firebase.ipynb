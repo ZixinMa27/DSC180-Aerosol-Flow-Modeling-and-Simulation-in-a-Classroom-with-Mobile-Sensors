{
 "cells": [
  {
   "cell_type": "code",
   "execution_count": 8,
   "id": "4e6c3058",
   "metadata": {},
   "outputs": [],
   "source": [
    "import os"
   ]
  },
  {
   "cell_type": "markdown",
   "id": "e553441f",
   "metadata": {},
   "source": [
    "To make sure the notebook can run smoothly, do the following:\n",
    "1. Install all the required packages. However, if you are prompted to install \"Crypto\", DO NOT do \"pip install Crypto\"! DO \"pip install pycryptodome\" instead. Here are more details: https://medium.com/@rajparmar23801/no-module-named-crypto-707f75186a6a\n",
    "2. Go to Firebase. Click the gear icon next to \"Project Overview\". Choose \"Project Settings\" - Service Accounts - Generate New Private Key. Put the generated json file in the same directory as this notebook, and change the \"serviceAccount\" attribute in the next code block to the name of the json file you just downloaded."
   ]
  },
  {
   "cell_type": "markdown",
   "id": "ecbc92e8",
   "metadata": {},
   "source": [
    "## Firebase Storage Download (Image & Audio Data)"
   ]
  },
  {
   "cell_type": "code",
   "execution_count": 8,
   "id": "2b666b15",
   "metadata": {},
   "outputs": [],
   "source": [
    "from firebase import Firebase\n",
    "\n",
    "config = {\n",
    "  \"apiKey\": \"8YOlQyD5MNnZlMl4hAvqYz3uePYTO9bmuS7s9mAo\",\n",
    "  \"authDomain\": \"capstone-caf92.firebaseapp.com\",\n",
    "  \"databaseURL\": \"https://databaseName.firebaseio.com\",\n",
    "  \"storageBucket\": \"capstone-caf92.appspot.com\",\n",
    "  \"serviceAccount\": \"capstone-caf92-firebase-adminsdk-uckm2-527095b9c7.json\"\n",
    "}\n",
    "\n",
    "# connect to firebase\n",
    "firebase = Firebase(config)"
   ]
  },
  {
   "cell_type": "code",
   "execution_count": 9,
   "id": "2e15b786",
   "metadata": {},
   "outputs": [],
   "source": [
    "# connect to firebase storage\n",
    "storage = firebase.storage()"
   ]
  },
  {
   "cell_type": "code",
   "execution_count": 26,
   "id": "1f1d4ffb",
   "metadata": {},
   "outputs": [],
   "source": [
    "all_files = storage.list_files()\n",
    "# download the image and audio data to specific path\n",
    "for file in all_files:\n",
    "    directory = file.name.split(\"/\")\n",
    "    target_dir = \"../../data/\" + \"/\".join(directory[:-1]) + \"/\" #may modify path\n",
    "    isExist = os.path.exists(target_dir)\n",
    "    if isExist:\n",
    "        if os.path.isfile(\"../../data/\" + file.name): #may modify path\n",
    "            continue\n",
    "    else:\n",
    "        os.makedirs(target_dir)\n",
    "    storage.child(file.name).download(\"../../data/\" + file.name) #may modify path"
   ]
  },
  {
   "cell_type": "markdown",
   "id": "7037e7c7",
   "metadata": {},
   "source": [
    "## Firestore Download (Labels & Other Text Data)"
   ]
  },
  {
   "cell_type": "code",
   "execution_count": 11,
   "id": "0b29d973",
   "metadata": {},
   "outputs": [],
   "source": [
    "# pip3 install firebase-admin\n",
    "import firebase_admin\n",
    "import csv\n",
    "from firebase_admin import credentials, firestore"
   ]
  },
  {
   "cell_type": "code",
   "execution_count": 13,
   "id": "c3f428fb",
   "metadata": {},
   "outputs": [],
   "source": [
    "cred = credentials.Certificate(\"capstone-caf92-firebase-adminsdk-uckm2-527095b9c7.json\")\n",
    "#firebase_admin.initialize_app(cred)"
   ]
  },
  {
   "cell_type": "markdown",
   "id": "df1e7ab3",
   "metadata": {},
   "source": [
    "### List current collection names"
   ]
  },
  {
   "cell_type": "code",
   "execution_count": 14,
   "id": "499f1788",
   "metadata": {},
   "outputs": [
    {
     "name": "stdout",
     "output_type": "stream",
     "text": [
      "1\n",
      "Debugthermal\n",
      "Feb1\n",
      "Feb15-0\n",
      "Feb15-1\n",
      "Feb2\n",
      "Feb222\n",
      "Feb2f\n",
      "Feb2ff\n",
      "Feb8-1\n",
      "Feb8-2\n",
      "Feb8-3\n",
      "Feb8-4\n",
      "Feb8-68f\n",
      "Feb8-68f-1\n",
      "Feb8-hf-1\n",
      "Gbcnb\n",
      "Gghhf\n",
      "Ghfgfjg\n",
      "Hhhhello\n",
      "Jan18\n",
      "Jan18test001\n",
      "Jan30\n",
      "Jan30c\n",
      "Jan30c2\n",
      "Jan30c3\n",
      "Qq\n",
      "Rygcb\n"
     ]
    }
   ],
   "source": [
    "db = firestore.client()\n",
    "listCollections = []\n",
    "for col in db.collections():\n",
    "    listCollections.append(col)\n",
    "    print(col.id)"
   ]
  },
  {
   "cell_type": "markdown",
   "id": "667971d2",
   "metadata": {},
   "source": [
    "### Pull the target collection to CSV (change target_id)"
   ]
  },
  {
   "cell_type": "code",
   "execution_count": 15,
   "id": "503d2337",
   "metadata": {},
   "outputs": [],
   "source": [
    "target_id = \"Feb8-1\" #Change this to the collection you want (to limit read and prevent exceeding quota)\n",
    "for col in listCollections:\n",
    "    if col.id != target_id:\n",
    "        continue\n",
    "    #Check if target directory & file exists\n",
    "    target_dir = \"../../data/firestore/\"\n",
    "    isExist = os.path.exists(target_dir)\n",
    "    #Audio part\n",
    "    if isExist:\n",
    "        if os.path.isfile(target_dir + col.id + \"_audio_raw.csv\") or os.path.isfile(target_dir + col.id + \"_audio_labels.csv\"):\n",
    "            continue\n",
    "    else:\n",
    "        os.makedirs(target_dir)\n",
    "    audio = col.document('audio').collections()\n",
    "    for entry in audio:\n",
    "        audioList = []\n",
    "        for doc in entry.stream():\n",
    "            audioList.append(doc.to_dict())\n",
    "        field_names = list(audioList[0].keys())\n",
    "        with open(target_dir + col.id + \"_audio_\" + entry.id + \".csv\",\"w\") as csvfile:\n",
    "            writer = csv.DictWriter(csvfile, fieldnames = field_names)\n",
    "            writer.writeheader()\n",
    "            writer.writerows(audioList)\n",
    "    # #Image part\n",
    "    # if isExist:\n",
    "    #     if os.path.isfile(target_dir + col.id + \"_images_thermal.csv\"):\n",
    "    #         continue\n",
    "    # else:\n",
    "    #     os.makedirs(target_dir)\n",
    "    # image = col.document('images').collections()\n",
    "    # for entry in audio:\n",
    "    #     imageList = []\n",
    "    #     for doc in entry.stream():\n",
    "    #         imageList.append(doc.to_dict())\n",
    "    #     field_names = list(imageList[0].keys())\n",
    "    #     with open(target_dir + col.id + \"_images_\" + entry.id + \".csv\",\"w\") as csvfile:\n",
    "    #         writer = csv.DictWriter(csvfile, fieldnames = field_names)\n",
    "    #         writer.writeheader()\n",
    "    #         writer.writerows(imageList)\n"
   ]
  },
  {
   "cell_type": "code",
   "execution_count": null,
   "id": "068083e7",
   "metadata": {},
   "outputs": [],
   "source": []
  },
  {
   "cell_type": "code",
   "execution_count": null,
   "id": "94071234",
   "metadata": {},
   "outputs": [],
   "source": []
  }
 ],
 "metadata": {
  "kernelspec": {
   "display_name": "base",
   "language": "python",
   "name": "python3"
  },
  "language_info": {
   "codemirror_mode": {
    "name": "ipython",
    "version": 3
   },
   "file_extension": ".py",
   "mimetype": "text/x-python",
   "name": "python",
   "nbconvert_exporter": "python",
   "pygments_lexer": "ipython3",
   "version": "3.8.8"
  },
  "vscode": {
   "interpreter": {
    "hash": "40d3a090f54c6569ab1632332b64b2c03c39dcf918b08424e98f38b5ae0af88f"
   }
  }
 },
 "nbformat": 4,
 "nbformat_minor": 5
}
